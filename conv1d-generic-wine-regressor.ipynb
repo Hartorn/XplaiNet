{
 "cells": [
  {
   "cell_type": "code",
   "execution_count": 1,
   "metadata": {
    "ExecuteTime": {
     "end_time": "2020-09-19T11:40:38.783589Z",
     "start_time": "2020-09-19T11:40:38.706207Z"
    }
   },
   "outputs": [
    {
     "data": {
      "application/javascript": [
       "\n",
       "            setTimeout(function() {\n",
       "                var nbb_cell_id = 1;\n",
       "                var nbb_unformatted_code = \"%load_ext nb_black\\n%load_ext autoreload\\n\\n%autoreload 2\";\n",
       "                var nbb_formatted_code = \"%load_ext nb_black\\n%load_ext autoreload\\n\\n%autoreload 2\";\n",
       "                var nbb_cells = Jupyter.notebook.get_cells();\n",
       "                for (var i = 0; i < nbb_cells.length; ++i) {\n",
       "                    if (nbb_cells[i].input_prompt_number == nbb_cell_id) {\n",
       "                        if (nbb_cells[i].get_text() == nbb_unformatted_code) {\n",
       "                             nbb_cells[i].set_text(nbb_formatted_code);\n",
       "                        }\n",
       "                        break;\n",
       "                    }\n",
       "                }\n",
       "            }, 500);\n",
       "            "
      ],
      "text/plain": [
       "<IPython.core.display.Javascript object>"
      ]
     },
     "metadata": {},
     "output_type": "display_data"
    }
   ],
   "source": [
    "%load_ext nb_black\n",
    "%load_ext autoreload\n",
    "\n",
    "%autoreload 2"
   ]
  },
  {
   "cell_type": "code",
   "execution_count": 2,
   "metadata": {
    "ExecuteTime": {
     "end_time": "2020-09-19T11:40:39.886704Z",
     "start_time": "2020-09-19T11:40:38.784702Z"
    }
   },
   "outputs": [
    {
     "data": {
      "application/javascript": [
       "\n",
       "            setTimeout(function() {\n",
       "                var nbb_cell_id = 2;\n",
       "                var nbb_unformatted_code = \"import os\\nfrom pathlib import Path\\n\\nfrom requests import get\\nimport pandas as pd\\nimport numpy as np\\n\\nfrom sklearn.metrics import mean_absolute_error, mean_squared_error\\nfrom sklearn.preprocessing import LabelEncoder\\nfrom tensorflow.keras.utils import plot_model\\nfrom tensorflow.keras.callbacks import EarlyStopping\\n\\nimport logging\\n\\nlogging.basicConfig(level=logging.WARN)\";\n",
       "                var nbb_formatted_code = \"import os\\nfrom pathlib import Path\\n\\nfrom requests import get\\nimport pandas as pd\\nimport numpy as np\\n\\nfrom sklearn.metrics import mean_absolute_error, mean_squared_error\\nfrom sklearn.preprocessing import LabelEncoder\\nfrom tensorflow.keras.utils import plot_model\\nfrom tensorflow.keras.callbacks import EarlyStopping\\n\\nimport logging\\n\\nlogging.basicConfig(level=logging.WARN)\";\n",
       "                var nbb_cells = Jupyter.notebook.get_cells();\n",
       "                for (var i = 0; i < nbb_cells.length; ++i) {\n",
       "                    if (nbb_cells[i].input_prompt_number == nbb_cell_id) {\n",
       "                        if (nbb_cells[i].get_text() == nbb_unformatted_code) {\n",
       "                             nbb_cells[i].set_text(nbb_formatted_code);\n",
       "                        }\n",
       "                        break;\n",
       "                    }\n",
       "                }\n",
       "            }, 500);\n",
       "            "
      ],
      "text/plain": [
       "<IPython.core.display.Javascript object>"
      ]
     },
     "metadata": {},
     "output_type": "display_data"
    }
   ],
   "source": [
    "import os\n",
    "from pathlib import Path\n",
    "\n",
    "from requests import get\n",
    "import pandas as pd\n",
    "import numpy as np\n",
    "\n",
    "from sklearn.metrics import mean_absolute_error, mean_squared_error\n",
    "from sklearn.preprocessing import LabelEncoder\n",
    "from tensorflow.keras.utils import plot_model\n",
    "from tensorflow.keras.callbacks import EarlyStopping\n",
    "\n",
    "import logging\n",
    "\n",
    "logging.basicConfig(level=logging.WARN)"
   ]
  },
  {
   "cell_type": "code",
   "execution_count": 3,
   "metadata": {
    "ExecuteTime": {
     "end_time": "2020-09-19T11:40:40.052611Z",
     "start_time": "2020-09-19T11:40:39.888229Z"
    }
   },
   "outputs": [
    {
     "data": {
      "application/javascript": [
       "\n",
       "            setTimeout(function() {\n",
       "                var nbb_cell_id = 3;\n",
       "                var nbb_unformatted_code = \"from xplainet.input_utils import preproc_dataset\\nfrom xplainet.model import build_model\\nfrom xplainet.random_utils import setup_seed, SEED\\nfrom sklearn.model_selection import StratifiedShuffleSplit\\n\\nimport matplotlib.pyplot as plt\\nfrom matplotlib.pyplot import imshow\\n\\n%matplotlib inline\\n\\nfrom zipfile import ZipFile\";\n",
       "                var nbb_formatted_code = \"from xplainet.input_utils import preproc_dataset\\nfrom xplainet.model import build_model\\nfrom xplainet.random_utils import setup_seed, SEED\\nfrom sklearn.model_selection import StratifiedShuffleSplit\\n\\nimport matplotlib.pyplot as plt\\nfrom matplotlib.pyplot import imshow\\n\\n%matplotlib inline\\n\\nfrom zipfile import ZipFile\";\n",
       "                var nbb_cells = Jupyter.notebook.get_cells();\n",
       "                for (var i = 0; i < nbb_cells.length; ++i) {\n",
       "                    if (nbb_cells[i].input_prompt_number == nbb_cell_id) {\n",
       "                        if (nbb_cells[i].get_text() == nbb_unformatted_code) {\n",
       "                             nbb_cells[i].set_text(nbb_formatted_code);\n",
       "                        }\n",
       "                        break;\n",
       "                    }\n",
       "                }\n",
       "            }, 500);\n",
       "            "
      ],
      "text/plain": [
       "<IPython.core.display.Javascript object>"
      ]
     },
     "metadata": {},
     "output_type": "display_data"
    }
   ],
   "source": [
    "from xplainet.input_utils import preproc_dataset\n",
    "from xplainet.model import build_model\n",
    "from xplainet.random_utils import setup_seed, SEED\n",
    "from sklearn.model_selection import StratifiedShuffleSplit\n",
    "\n",
    "import matplotlib.pyplot as plt\n",
    "from matplotlib.pyplot import imshow\n",
    "\n",
    "%matplotlib inline\n",
    "\n",
    "from zipfile import ZipFile"
   ]
  },
  {
   "cell_type": "code",
   "execution_count": 4,
   "metadata": {
    "ExecuteTime": {
     "end_time": "2020-09-19T11:40:40.074776Z",
     "start_time": "2020-09-19T11:40:40.054092Z"
    }
   },
   "outputs": [
    {
     "data": {
      "application/javascript": [
       "\n",
       "            setTimeout(function() {\n",
       "                var nbb_cell_id = 4;\n",
       "                var nbb_unformatted_code = \"setup_seed()\";\n",
       "                var nbb_formatted_code = \"setup_seed()\";\n",
       "                var nbb_cells = Jupyter.notebook.get_cells();\n",
       "                for (var i = 0; i < nbb_cells.length; ++i) {\n",
       "                    if (nbb_cells[i].input_prompt_number == nbb_cell_id) {\n",
       "                        if (nbb_cells[i].get_text() == nbb_unformatted_code) {\n",
       "                             nbb_cells[i].set_text(nbb_formatted_code);\n",
       "                        }\n",
       "                        break;\n",
       "                    }\n",
       "                }\n",
       "            }, 500);\n",
       "            "
      ],
      "text/plain": [
       "<IPython.core.display.Javascript object>"
      ]
     },
     "metadata": {},
     "output_type": "display_data"
    }
   ],
   "source": [
    "setup_seed()"
   ]
  },
  {
   "cell_type": "code",
   "execution_count": 5,
   "metadata": {
    "ExecuteTime": {
     "end_time": "2020-09-19T11:40:40.104624Z",
     "start_time": "2020-09-19T11:40:40.075652Z"
    }
   },
   "outputs": [
    {
     "data": {
      "application/javascript": [
       "\n",
       "            setTimeout(function() {\n",
       "                var nbb_cell_id = 5;\n",
       "                var nbb_unformatted_code = \"def download(url, out, force=False, verify=True):\\n    out.parent.mkdir(parents=True, exist_ok=True)\\n    if force and out.exists():\\n        print(f\\\"Removing file at {str(out)}\\\")\\n        out.unlink()\\n\\n    if out.exists():\\n        print(\\\"File already exists.\\\")\\n        return\\n    print(f\\\"Downloading {url} at {str(out)} ...\\\")\\n    # open in binary mode\\n    with out.open(mode=\\\"wb\\\") as file:\\n        # get request\\n        response = get(url, verify=verify)\\n        for chunk in response.iter_content(100000):\\n            # write to file\\n            file.write(chunk)\";\n",
       "                var nbb_formatted_code = \"def download(url, out, force=False, verify=True):\\n    out.parent.mkdir(parents=True, exist_ok=True)\\n    if force and out.exists():\\n        print(f\\\"Removing file at {str(out)}\\\")\\n        out.unlink()\\n\\n    if out.exists():\\n        print(\\\"File already exists.\\\")\\n        return\\n    print(f\\\"Downloading {url} at {str(out)} ...\\\")\\n    # open in binary mode\\n    with out.open(mode=\\\"wb\\\") as file:\\n        # get request\\n        response = get(url, verify=verify)\\n        for chunk in response.iter_content(100000):\\n            # write to file\\n            file.write(chunk)\";\n",
       "                var nbb_cells = Jupyter.notebook.get_cells();\n",
       "                for (var i = 0; i < nbb_cells.length; ++i) {\n",
       "                    if (nbb_cells[i].input_prompt_number == nbb_cell_id) {\n",
       "                        if (nbb_cells[i].get_text() == nbb_unformatted_code) {\n",
       "                             nbb_cells[i].set_text(nbb_formatted_code);\n",
       "                        }\n",
       "                        break;\n",
       "                    }\n",
       "                }\n",
       "            }, 500);\n",
       "            "
      ],
      "text/plain": [
       "<IPython.core.display.Javascript object>"
      ]
     },
     "metadata": {},
     "output_type": "display_data"
    }
   ],
   "source": [
    "def download(url, out, force=False, verify=True):\n",
    "    out.parent.mkdir(parents=True, exist_ok=True)\n",
    "    if force and out.exists():\n",
    "        print(f\"Removing file at {str(out)}\")\n",
    "        out.unlink()\n",
    "\n",
    "    if out.exists():\n",
    "        print(\"File already exists.\")\n",
    "        return\n",
    "    print(f\"Downloading {url} at {str(out)} ...\")\n",
    "    # open in binary mode\n",
    "    with out.open(mode=\"wb\") as file:\n",
    "        # get request\n",
    "        response = get(url, verify=verify)\n",
    "        for chunk in response.iter_content(100000):\n",
    "            # write to file\n",
    "            file.write(chunk)\n"
   ]
  },
  {
   "cell_type": "code",
   "execution_count": 6,
   "metadata": {
    "ExecuteTime": {
     "end_time": "2020-09-19T11:40:40.146153Z",
     "start_time": "2020-09-19T11:40:40.105816Z"
    }
   },
   "outputs": [
    {
     "data": {
      "application/javascript": [
       "\n",
       "            setTimeout(function() {\n",
       "                var nbb_cell_id = 6;\n",
       "                var nbb_unformatted_code = \"def plot_history(history):\\n    loss_list = [s for s in history.history.keys() if \\\"loss\\\" in s and \\\"val\\\" not in s]\\n    val_loss_list = [s for s in history.history.keys() if \\\"loss\\\" in s and \\\"val\\\" in s]\\n    acc_list = [s for s in history.history.keys() if \\\"AUC\\\" in s and \\\"val\\\" not in s]\\n    val_acc_list = [s for s in history.history.keys() if \\\"AUC\\\" in s and \\\"val\\\" in s]\\n\\n    if len(loss_list) == 0:\\n        print(\\\"Loss is missing in history\\\")\\n        return\\n\\n    ## As loss always exists\\n    epochs = range(1, len(history.history[loss_list[0]]) + 1)\\n\\n    ## Loss\\n    plt.figure(1)\\n    for l in loss_list:\\n        plt.plot(\\n            epochs,\\n            history.history[l],\\n            \\\"b\\\",\\n            label=\\\"Training loss (\\\"\\n            + str(str(format(history.history[l][-1], \\\".5f\\\")) + \\\")\\\"),\\n        )\\n    for l in val_loss_list:\\n        plt.plot(\\n            epochs,\\n            history.history[l],\\n            \\\"g\\\",\\n            label=\\\"Validation loss (\\\"\\n            + str(str(format(history.history[l][-1], \\\".5f\\\")) + \\\")\\\"),\\n        )\\n\\n    plt.title(\\\"Loss\\\")\\n    plt.xlabel(\\\"Epochs\\\")\\n    plt.ylabel(\\\"Loss\\\")\\n    plt.legend()\\n\\n    plt.show()\";\n",
       "                var nbb_formatted_code = \"def plot_history(history):\\n    loss_list = [s for s in history.history.keys() if \\\"loss\\\" in s and \\\"val\\\" not in s]\\n    val_loss_list = [s for s in history.history.keys() if \\\"loss\\\" in s and \\\"val\\\" in s]\\n    acc_list = [s for s in history.history.keys() if \\\"AUC\\\" in s and \\\"val\\\" not in s]\\n    val_acc_list = [s for s in history.history.keys() if \\\"AUC\\\" in s and \\\"val\\\" in s]\\n\\n    if len(loss_list) == 0:\\n        print(\\\"Loss is missing in history\\\")\\n        return\\n\\n    ## As loss always exists\\n    epochs = range(1, len(history.history[loss_list[0]]) + 1)\\n\\n    ## Loss\\n    plt.figure(1)\\n    for l in loss_list:\\n        plt.plot(\\n            epochs,\\n            history.history[l],\\n            \\\"b\\\",\\n            label=\\\"Training loss (\\\"\\n            + str(str(format(history.history[l][-1], \\\".5f\\\")) + \\\")\\\"),\\n        )\\n    for l in val_loss_list:\\n        plt.plot(\\n            epochs,\\n            history.history[l],\\n            \\\"g\\\",\\n            label=\\\"Validation loss (\\\"\\n            + str(str(format(history.history[l][-1], \\\".5f\\\")) + \\\")\\\"),\\n        )\\n\\n    plt.title(\\\"Loss\\\")\\n    plt.xlabel(\\\"Epochs\\\")\\n    plt.ylabel(\\\"Loss\\\")\\n    plt.legend()\\n\\n    plt.show()\";\n",
       "                var nbb_cells = Jupyter.notebook.get_cells();\n",
       "                for (var i = 0; i < nbb_cells.length; ++i) {\n",
       "                    if (nbb_cells[i].input_prompt_number == nbb_cell_id) {\n",
       "                        if (nbb_cells[i].get_text() == nbb_unformatted_code) {\n",
       "                             nbb_cells[i].set_text(nbb_formatted_code);\n",
       "                        }\n",
       "                        break;\n",
       "                    }\n",
       "                }\n",
       "            }, 500);\n",
       "            "
      ],
      "text/plain": [
       "<IPython.core.display.Javascript object>"
      ]
     },
     "metadata": {},
     "output_type": "display_data"
    }
   ],
   "source": [
    "def plot_history(history):\n",
    "    loss_list = [s for s in history.history.keys() if \"loss\" in s and \"val\" not in s]\n",
    "    val_loss_list = [s for s in history.history.keys() if \"loss\" in s and \"val\" in s]\n",
    "    acc_list = [s for s in history.history.keys() if \"AUC\" in s and \"val\" not in s]\n",
    "    val_acc_list = [s for s in history.history.keys() if \"AUC\" in s and \"val\" in s]\n",
    "\n",
    "    if len(loss_list) == 0:\n",
    "        print(\"Loss is missing in history\")\n",
    "        return\n",
    "\n",
    "    ## As loss always exists\n",
    "    epochs = range(1, len(history.history[loss_list[0]]) + 1)\n",
    "\n",
    "    ## Loss\n",
    "    plt.figure(1)\n",
    "    for l in loss_list:\n",
    "        plt.plot(\n",
    "            epochs,\n",
    "            history.history[l],\n",
    "            \"b\",\n",
    "            label=\"Training loss (\"\n",
    "            + str(str(format(history.history[l][-1], \".5f\")) + \")\"),\n",
    "        )\n",
    "    for l in val_loss_list:\n",
    "        plt.plot(\n",
    "            epochs,\n",
    "            history.history[l],\n",
    "            \"g\",\n",
    "            label=\"Validation loss (\"\n",
    "            + str(str(format(history.history[l][-1], \".5f\")) + \")\"),\n",
    "        )\n",
    "\n",
    "    plt.title(\"Loss\")\n",
    "    plt.xlabel(\"Epochs\")\n",
    "    plt.ylabel(\"Loss\")\n",
    "    plt.legend()\n",
    "\n",
    "    plt.show()"
   ]
  },
  {
   "cell_type": "markdown",
   "metadata": {},
   "source": [
    "## Bank marketing : loading data"
   ]
  },
  {
   "cell_type": "code",
   "execution_count": 7,
   "metadata": {
    "ExecuteTime": {
     "end_time": "2020-09-19T11:40:41.225644Z",
     "start_time": "2020-09-19T11:40:40.147125Z"
    }
   },
   "outputs": [
    {
     "name": "stdout",
     "output_type": "stream",
     "text": [
      "Downloading https://archive.ics.uci.edu/ml/machine-learning-databases/wine-quality/winequality-red.csv at /work/data/wine-quality.csv ...\n"
     ]
    },
    {
     "data": {
      "application/javascript": [
       "\n",
       "            setTimeout(function() {\n",
       "                var nbb_cell_id = 7;\n",
       "                var nbb_unformatted_code = \"url = \\\"https://archive.ics.uci.edu/ml/machine-learning-databases/wine-quality/winequality-red.csv\\\"\\ndataset_name = \\\"wine-quality\\\"\\nout = Path(os.getcwd() + \\\"/data/\\\" + dataset_name + \\\".csv\\\")\\n\\ndownload(url, out)\\n\\ntarget = \\\"quality\\\"\\nto_remove = []\\ntrain = pd.read_csv(out, sep=\\\";\\\", low_memory=False)\";\n",
       "                var nbb_formatted_code = \"url = \\\"https://archive.ics.uci.edu/ml/machine-learning-databases/wine-quality/winequality-red.csv\\\"\\ndataset_name = \\\"wine-quality\\\"\\nout = Path(os.getcwd() + \\\"/data/\\\" + dataset_name + \\\".csv\\\")\\n\\ndownload(url, out)\\n\\ntarget = \\\"quality\\\"\\nto_remove = []\\ntrain = pd.read_csv(out, sep=\\\";\\\", low_memory=False)\";\n",
       "                var nbb_cells = Jupyter.notebook.get_cells();\n",
       "                for (var i = 0; i < nbb_cells.length; ++i) {\n",
       "                    if (nbb_cells[i].input_prompt_number == nbb_cell_id) {\n",
       "                        if (nbb_cells[i].get_text() == nbb_unformatted_code) {\n",
       "                             nbb_cells[i].set_text(nbb_formatted_code);\n",
       "                        }\n",
       "                        break;\n",
       "                    }\n",
       "                }\n",
       "            }, 500);\n",
       "            "
      ],
      "text/plain": [
       "<IPython.core.display.Javascript object>"
      ]
     },
     "metadata": {},
     "output_type": "display_data"
    }
   ],
   "source": [
    "url = \"https://archive.ics.uci.edu/ml/machine-learning-databases/wine-quality/winequality-red.csv\"\n",
    "dataset_name = \"wine-quality\"\n",
    "out = Path(os.getcwd() + \"/data/\" + dataset_name + \".csv\")\n",
    "\n",
    "download(url, out)\n",
    "\n",
    "target = \"quality\"\n",
    "to_remove = []\n",
    "train = pd.read_csv(out, sep=\";\", low_memory=False)"
   ]
  },
  {
   "cell_type": "code",
   "execution_count": 8,
   "metadata": {
    "ExecuteTime": {
     "end_time": "2020-09-19T11:40:41.249692Z",
     "start_time": "2020-09-19T11:40:41.227523Z"
    }
   },
   "outputs": [
    {
     "data": {
      "text/plain": [
       "(1599, 12)"
      ]
     },
     "execution_count": 8,
     "metadata": {},
     "output_type": "execute_result"
    },
    {
     "data": {
      "application/javascript": [
       "\n",
       "            setTimeout(function() {\n",
       "                var nbb_cell_id = 8;\n",
       "                var nbb_unformatted_code = \"train.shape\";\n",
       "                var nbb_formatted_code = \"train.shape\";\n",
       "                var nbb_cells = Jupyter.notebook.get_cells();\n",
       "                for (var i = 0; i < nbb_cells.length; ++i) {\n",
       "                    if (nbb_cells[i].input_prompt_number == nbb_cell_id) {\n",
       "                        if (nbb_cells[i].get_text() == nbb_unformatted_code) {\n",
       "                             nbb_cells[i].set_text(nbb_formatted_code);\n",
       "                        }\n",
       "                        break;\n",
       "                    }\n",
       "                }\n",
       "            }, 500);\n",
       "            "
      ],
      "text/plain": [
       "<IPython.core.display.Javascript object>"
      ]
     },
     "metadata": {},
     "output_type": "display_data"
    }
   ],
   "source": [
    "train.shape"
   ]
  },
  {
   "cell_type": "code",
   "execution_count": 9,
   "metadata": {
    "ExecuteTime": {
     "end_time": "2020-09-19T11:40:41.274464Z",
     "start_time": "2020-09-19T11:40:41.250828Z"
    }
   },
   "outputs": [
    {
     "data": {
      "text/plain": [
       "Index(['fixed acidity', 'volatile acidity', 'citric acid', 'residual sugar',\n",
       "       'chlorides', 'free sulfur dioxide', 'total sulfur dioxide', 'density',\n",
       "       'pH', 'sulphates', 'alcohol', 'quality'],\n",
       "      dtype='object')"
      ]
     },
     "execution_count": 9,
     "metadata": {},
     "output_type": "execute_result"
    },
    {
     "data": {
      "application/javascript": [
       "\n",
       "            setTimeout(function() {\n",
       "                var nbb_cell_id = 9;\n",
       "                var nbb_unformatted_code = \"train.columns\";\n",
       "                var nbb_formatted_code = \"train.columns\";\n",
       "                var nbb_cells = Jupyter.notebook.get_cells();\n",
       "                for (var i = 0; i < nbb_cells.length; ++i) {\n",
       "                    if (nbb_cells[i].input_prompt_number == nbb_cell_id) {\n",
       "                        if (nbb_cells[i].get_text() == nbb_unformatted_code) {\n",
       "                             nbb_cells[i].set_text(nbb_formatted_code);\n",
       "                        }\n",
       "                        break;\n",
       "                    }\n",
       "                }\n",
       "            }, 500);\n",
       "            "
      ],
      "text/plain": [
       "<IPython.core.display.Javascript object>"
      ]
     },
     "metadata": {},
     "output_type": "display_data"
    }
   ],
   "source": [
    "train.columns"
   ]
  },
  {
   "cell_type": "code",
   "execution_count": 10,
   "metadata": {
    "ExecuteTime": {
     "end_time": "2020-09-19T11:40:41.311055Z",
     "start_time": "2020-09-19T11:40:41.275739Z"
    }
   },
   "outputs": [
    {
     "name": "stdout",
     "output_type": "stream",
     "text": [
      "Building tailored column\n"
     ]
    },
    {
     "name": "stderr",
     "output_type": "stream",
     "text": [
      "/work/.cache/poetry/xplainet-KS9Ipbc1-py3.7/lib/python3.7/site-packages/ipykernel_launcher.py:14: SettingWithCopyWarning: \n",
      "A value is trying to be set on a copy of a slice from a DataFrame\n",
      "\n",
      "See the caveats in the documentation: https://pandas.pydata.org/pandas-docs/stable/user_guide/indexing.html#returning-a-view-versus-a-copy\n",
      "  \n",
      "/work/.cache/poetry/xplainet-KS9Ipbc1-py3.7/lib/python3.7/site-packages/ipykernel_launcher.py:15: SettingWithCopyWarning: \n",
      "A value is trying to be set on a copy of a slice from a DataFrame\n",
      "\n",
      "See the caveats in the documentation: https://pandas.pydata.org/pandas-docs/stable/user_guide/indexing.html#returning-a-view-versus-a-copy\n",
      "  from ipykernel import kernelapp as app\n"
     ]
    },
    {
     "data": {
      "application/javascript": [
       "\n",
       "            setTimeout(function() {\n",
       "                var nbb_cell_id = 10;\n",
       "                var nbb_unformatted_code = \"if \\\"Set\\\" not in train.columns:\\n    print(\\\"Building tailored column\\\")\\n    train_valid_index, test_index = next(\\n        StratifiedShuffleSplit(n_splits=1, test_size=0.1, random_state=SEED).split(\\n            range(train[target].shape[0]), train[target].values\\n        )\\n    )\\n    train_index, valid_index = next(\\n        StratifiedShuffleSplit(n_splits=1, test_size=0.1, random_state=SEED).split(\\n            train_valid_index, train[target].values[train_valid_index]\\n        )\\n    )\\n    train[\\\"Set\\\"] = \\\"train\\\"\\n    train[\\\"Set\\\"][valid_index] = \\\"valid\\\"\\n    train[\\\"Set\\\"][test_index] = \\\"test\\\"\\n    # train.to_csv((out.parent / \\\"train_bench.csv\\\").as_posix(), index=False)\";\n",
       "                var nbb_formatted_code = \"if \\\"Set\\\" not in train.columns:\\n    print(\\\"Building tailored column\\\")\\n    train_valid_index, test_index = next(\\n        StratifiedShuffleSplit(n_splits=1, test_size=0.1, random_state=SEED).split(\\n            range(train[target].shape[0]), train[target].values\\n        )\\n    )\\n    train_index, valid_index = next(\\n        StratifiedShuffleSplit(n_splits=1, test_size=0.1, random_state=SEED).split(\\n            train_valid_index, train[target].values[train_valid_index]\\n        )\\n    )\\n    train[\\\"Set\\\"] = \\\"train\\\"\\n    train[\\\"Set\\\"][valid_index] = \\\"valid\\\"\\n    train[\\\"Set\\\"][test_index] = \\\"test\\\"\\n    # train.to_csv((out.parent / \\\"train_bench.csv\\\").as_posix(), index=False)\";\n",
       "                var nbb_cells = Jupyter.notebook.get_cells();\n",
       "                for (var i = 0; i < nbb_cells.length; ++i) {\n",
       "                    if (nbb_cells[i].input_prompt_number == nbb_cell_id) {\n",
       "                        if (nbb_cells[i].get_text() == nbb_unformatted_code) {\n",
       "                             nbb_cells[i].set_text(nbb_formatted_code);\n",
       "                        }\n",
       "                        break;\n",
       "                    }\n",
       "                }\n",
       "            }, 500);\n",
       "            "
      ],
      "text/plain": [
       "<IPython.core.display.Javascript object>"
      ]
     },
     "metadata": {},
     "output_type": "display_data"
    }
   ],
   "source": [
    "if \"Set\" not in train.columns:\n",
    "    print(\"Building tailored column\")\n",
    "    train_valid_index, test_index = next(\n",
    "        StratifiedShuffleSplit(n_splits=1, test_size=0.1, random_state=SEED).split(\n",
    "            range(train[target].shape[0]), train[target].values\n",
    "        )\n",
    "    )\n",
    "    train_index, valid_index = next(\n",
    "        StratifiedShuffleSplit(n_splits=1, test_size=0.1, random_state=SEED).split(\n",
    "            train_valid_index, train[target].values[train_valid_index]\n",
    "        )\n",
    "    )\n",
    "    train[\"Set\"] = \"train\"\n",
    "    train[\"Set\"][valid_index] = \"valid\"\n",
    "    train[\"Set\"][test_index] = \"test\"\n",
    "    # train.to_csv((out.parent / \"train_bench.csv\").as_posix(), index=False)"
   ]
  },
  {
   "cell_type": "code",
   "execution_count": 11,
   "metadata": {
    "ExecuteTime": {
     "end_time": "2020-09-19T11:40:41.340191Z",
     "start_time": "2020-09-19T11:40:41.312014Z"
    }
   },
   "outputs": [
    {
     "data": {
      "application/javascript": [
       "\n",
       "            setTimeout(function() {\n",
       "                var nbb_cell_id = 11;\n",
       "                var nbb_unformatted_code = \"train_indices = train[train.Set == \\\"train\\\"].index\\nvalid_indices = train[train.Set == \\\"valid\\\"].index\\ntest_indices = train[train.Set == \\\"test\\\"].index\";\n",
       "                var nbb_formatted_code = \"train_indices = train[train.Set == \\\"train\\\"].index\\nvalid_indices = train[train.Set == \\\"valid\\\"].index\\ntest_indices = train[train.Set == \\\"test\\\"].index\";\n",
       "                var nbb_cells = Jupyter.notebook.get_cells();\n",
       "                for (var i = 0; i < nbb_cells.length; ++i) {\n",
       "                    if (nbb_cells[i].input_prompt_number == nbb_cell_id) {\n",
       "                        if (nbb_cells[i].get_text() == nbb_unformatted_code) {\n",
       "                             nbb_cells[i].set_text(nbb_formatted_code);\n",
       "                        }\n",
       "                        break;\n",
       "                    }\n",
       "                }\n",
       "            }, 500);\n",
       "            "
      ],
      "text/plain": [
       "<IPython.core.display.Javascript object>"
      ]
     },
     "metadata": {},
     "output_type": "display_data"
    }
   ],
   "source": [
    "train_indices = train[train.Set == \"train\"].index\n",
    "valid_indices = train[train.Set == \"valid\"].index\n",
    "test_indices = train[train.Set == \"test\"].index"
   ]
  },
  {
   "cell_type": "code",
   "execution_count": 12,
   "metadata": {
    "ExecuteTime": {
     "end_time": "2020-09-19T11:40:41.440210Z",
     "start_time": "2020-09-19T11:40:41.341199Z"
    }
   },
   "outputs": [
    {
     "data": {
      "text/plain": [
       "{'constant_cols': [],\n",
       " 'bool_cols': [],\n",
       " 'num_cols': ['sulphates',\n",
       "  'fixed acidity',\n",
       "  'volatile acidity',\n",
       "  'pH',\n",
       "  'citric acid',\n",
       "  'density',\n",
       "  'residual sugar',\n",
       "  'total sulfur dioxide',\n",
       "  'chlorides'],\n",
       " 'cat_cols': ['free sulfur dioxide', 'alcohol'],\n",
       " 'num_encoder': [FeatureUnion(transformer_list=[('fillna',\n",
       "                                  Pipeline(steps=[('fillna',\n",
       "                                                   SimpleImputer(fill_value=0.35252137039077047,\n",
       "                                                                 strategy='constant'))]))]),\n",
       "  FeatureUnion(transformer_list=[('fillna',\n",
       "                                  Pipeline(steps=[('fillna',\n",
       "                                                   SimpleImputer(fill_value=4.430469800926217,\n",
       "                                                                 strategy='constant'))]))]),\n",
       "  FeatureUnion(transformer_list=[('fillna',\n",
       "                                  Pipeline(steps=[('fillna',\n",
       "                                                   SimpleImputer(fill_value=0.10203064783174609,\n",
       "                                                                 strategy='constant'))]))]),\n",
       "  FeatureUnion(transformer_list=[('fillna',\n",
       "                                  Pipeline(steps=[('fillna',\n",
       "                                                   SimpleImputer(fill_value=2.7247534703867524,\n",
       "                                                                 strategy='constant'))]))]),\n",
       "  FeatureUnion(transformer_list=[('fillna',\n",
       "                                  Pipeline(steps=[('fillna',\n",
       "                                                   SimpleImputer(fill_value=-0.019274336038921036,\n",
       "                                                                 strategy='constant'))]))]),\n",
       "  FeatureUnion(transformer_list=[('fillna',\n",
       "                                  Pipeline(steps=[('fillna',\n",
       "                                                   SimpleImputer(fill_value=0.9898825436334188,\n",
       "                                                                 strategy='constant'))]))]),\n",
       "  FeatureUnion(transformer_list=[('fillna',\n",
       "                                  Pipeline(steps=[('fillna',\n",
       "                                                   SimpleImputer(fill_value=0.7544668475173683,\n",
       "                                                                 strategy='constant'))]))]),\n",
       "  FeatureUnion(transformer_list=[('fillna',\n",
       "                                  Pipeline(steps=[('fillna',\n",
       "                                                   SimpleImputer(fill_value=2.6992470791190675,\n",
       "                                                                 strategy='constant'))]))]),\n",
       "  FeatureUnion(transformer_list=[('fillna',\n",
       "                                  Pipeline(steps=[('fillna',\n",
       "                                                   SimpleImputer(fill_value=0.007052178701545107,\n",
       "                                                                 strategy='constant'))]))])],\n",
       " 'bool_encoder': [],\n",
       " 'max_nb': 64,\n",
       " 'cat_encoder': [SafeLabelEncoder(), SafeLabelEncoder()]}"
      ]
     },
     "execution_count": 12,
     "metadata": {},
     "output_type": "execute_result"
    },
    {
     "data": {
      "application/javascript": [
       "\n",
       "            setTimeout(function() {\n",
       "                var nbb_cell_id = 12;\n",
       "                var nbb_unformatted_code = \"input_train, params = preproc_dataset(train.loc[train_indices], target, [\\\"Set\\\"])\\nparams\";\n",
       "                var nbb_formatted_code = \"input_train, params = preproc_dataset(train.loc[train_indices], target, [\\\"Set\\\"])\\nparams\";\n",
       "                var nbb_cells = Jupyter.notebook.get_cells();\n",
       "                for (var i = 0; i < nbb_cells.length; ++i) {\n",
       "                    if (nbb_cells[i].input_prompt_number == nbb_cell_id) {\n",
       "                        if (nbb_cells[i].get_text() == nbb_unformatted_code) {\n",
       "                             nbb_cells[i].set_text(nbb_formatted_code);\n",
       "                        }\n",
       "                        break;\n",
       "                    }\n",
       "                }\n",
       "            }, 500);\n",
       "            "
      ],
      "text/plain": [
       "<IPython.core.display.Javascript object>"
      ]
     },
     "metadata": {},
     "output_type": "display_data"
    }
   ],
   "source": [
    "input_train, params = preproc_dataset(train.loc[train_indices], target, [\"Set\"])\n",
    "params"
   ]
  },
  {
   "cell_type": "code",
   "execution_count": 13,
   "metadata": {
    "ExecuteTime": {
     "end_time": "2020-09-19T11:40:41.463164Z",
     "start_time": "2020-09-19T11:40:41.441176Z"
    }
   },
   "outputs": [
    {
     "data": {
      "text/plain": [
       "1310"
      ]
     },
     "execution_count": 13,
     "metadata": {},
     "output_type": "execute_result"
    },
    {
     "data": {
      "application/javascript": [
       "\n",
       "            setTimeout(function() {\n",
       "                var nbb_cell_id = 13;\n",
       "                var nbb_unformatted_code = \"len(train_indices)\";\n",
       "                var nbb_formatted_code = \"len(train_indices)\";\n",
       "                var nbb_cells = Jupyter.notebook.get_cells();\n",
       "                for (var i = 0; i < nbb_cells.length; ++i) {\n",
       "                    if (nbb_cells[i].input_prompt_number == nbb_cell_id) {\n",
       "                        if (nbb_cells[i].get_text() == nbb_unformatted_code) {\n",
       "                             nbb_cells[i].set_text(nbb_formatted_code);\n",
       "                        }\n",
       "                        break;\n",
       "                    }\n",
       "                }\n",
       "            }, 500);\n",
       "            "
      ],
      "text/plain": [
       "<IPython.core.display.Javascript object>"
      ]
     },
     "metadata": {},
     "output_type": "display_data"
    }
   ],
   "source": [
    "len(train_indices)"
   ]
  },
  {
   "cell_type": "code",
   "execution_count": 14,
   "metadata": {
    "ExecuteTime": {
     "end_time": "2020-09-19T11:40:41.498360Z",
     "start_time": "2020-09-19T11:40:41.464028Z"
    }
   },
   "outputs": [
    {
     "data": {
      "application/javascript": [
       "\n",
       "            setTimeout(function() {\n",
       "                var nbb_cell_id = 14;\n",
       "                var nbb_unformatted_code = \"input_valid, _ = preproc_dataset(train.loc[valid_indices], target, [\\\"Set\\\"], params)\\ninput_test, _ = preproc_dataset(train.loc[test_indices], target, [\\\"Set\\\"], params)\";\n",
       "                var nbb_formatted_code = \"input_valid, _ = preproc_dataset(train.loc[valid_indices], target, [\\\"Set\\\"], params)\\ninput_test, _ = preproc_dataset(train.loc[test_indices], target, [\\\"Set\\\"], params)\";\n",
       "                var nbb_cells = Jupyter.notebook.get_cells();\n",
       "                for (var i = 0; i < nbb_cells.length; ++i) {\n",
       "                    if (nbb_cells[i].input_prompt_number == nbb_cell_id) {\n",
       "                        if (nbb_cells[i].get_text() == nbb_unformatted_code) {\n",
       "                             nbb_cells[i].set_text(nbb_formatted_code);\n",
       "                        }\n",
       "                        break;\n",
       "                    }\n",
       "                }\n",
       "            }, 500);\n",
       "            "
      ],
      "text/plain": [
       "<IPython.core.display.Javascript object>"
      ]
     },
     "metadata": {},
     "output_type": "display_data"
    }
   ],
   "source": [
    "input_valid, _ = preproc_dataset(train.loc[valid_indices], target, [\"Set\"], params)\n",
    "input_test, _ = preproc_dataset(train.loc[test_indices], target, [\"Set\"], params)"
   ]
  },
  {
   "cell_type": "code",
   "execution_count": 15,
   "metadata": {
    "ExecuteTime": {
     "end_time": "2020-09-19T11:40:41.519935Z",
     "start_time": "2020-09-19T11:40:41.499254Z"
    }
   },
   "outputs": [
    {
     "data": {
      "application/javascript": [
       "\n",
       "            setTimeout(function() {\n",
       "                var nbb_cell_id = 15;\n",
       "                var nbb_unformatted_code = \"# target_encoder = LabelEncoder()\";\n",
       "                var nbb_formatted_code = \"# target_encoder = LabelEncoder()\";\n",
       "                var nbb_cells = Jupyter.notebook.get_cells();\n",
       "                for (var i = 0; i < nbb_cells.length; ++i) {\n",
       "                    if (nbb_cells[i].input_prompt_number == nbb_cell_id) {\n",
       "                        if (nbb_cells[i].get_text() == nbb_unformatted_code) {\n",
       "                             nbb_cells[i].set_text(nbb_formatted_code);\n",
       "                        }\n",
       "                        break;\n",
       "                    }\n",
       "                }\n",
       "            }, 500);\n",
       "            "
      ],
      "text/plain": [
       "<IPython.core.display.Javascript object>"
      ]
     },
     "metadata": {},
     "output_type": "display_data"
    }
   ],
   "source": [
    "# target_encoder = LabelEncoder()"
   ]
  },
  {
   "cell_type": "code",
   "execution_count": 16,
   "metadata": {
    "ExecuteTime": {
     "end_time": "2020-09-19T11:40:41.544550Z",
     "start_time": "2020-09-19T11:40:41.521159Z"
    }
   },
   "outputs": [
    {
     "data": {
      "application/javascript": [
       "\n",
       "            setTimeout(function() {\n",
       "                var nbb_cell_id = 16;\n",
       "                var nbb_unformatted_code = \"# train[target] = target_encoder.fit_transform(train[target].values.reshape(-1))\\ny_train = train[target].values[train_indices]\\ny_valid = train[target].values[valid_indices]\\ny_test = train[target].values[test_indices]\";\n",
       "                var nbb_formatted_code = \"# train[target] = target_encoder.fit_transform(train[target].values.reshape(-1))\\ny_train = train[target].values[train_indices]\\ny_valid = train[target].values[valid_indices]\\ny_test = train[target].values[test_indices]\";\n",
       "                var nbb_cells = Jupyter.notebook.get_cells();\n",
       "                for (var i = 0; i < nbb_cells.length; ++i) {\n",
       "                    if (nbb_cells[i].input_prompt_number == nbb_cell_id) {\n",
       "                        if (nbb_cells[i].get_text() == nbb_unformatted_code) {\n",
       "                             nbb_cells[i].set_text(nbb_formatted_code);\n",
       "                        }\n",
       "                        break;\n",
       "                    }\n",
       "                }\n",
       "            }, 500);\n",
       "            "
      ],
      "text/plain": [
       "<IPython.core.display.Javascript object>"
      ]
     },
     "metadata": {},
     "output_type": "display_data"
    }
   ],
   "source": [
    "# train[target] = target_encoder.fit_transform(train[target].values.reshape(-1))\n",
    "y_train = train[target].values[train_indices]\n",
    "y_valid = train[target].values[valid_indices]\n",
    "y_test = train[target].values[test_indices]"
   ]
  },
  {
   "cell_type": "code",
   "execution_count": 17,
   "metadata": {
    "ExecuteTime": {
     "end_time": "2020-09-19T11:40:41.624100Z",
     "start_time": "2020-09-19T11:40:41.545415Z"
    }
   },
   "outputs": [
    {
     "data": {
      "text/plain": [
       "{'constant_cols': [],\n",
       " 'bool_cols': [],\n",
       " 'num_cols': ['sulphates',\n",
       "  'fixed acidity',\n",
       "  'volatile acidity',\n",
       "  'pH',\n",
       "  'citric acid',\n",
       "  'density',\n",
       "  'residual sugar',\n",
       "  'total sulfur dioxide',\n",
       "  'chlorides'],\n",
       " 'cat_cols': ['free sulfur dioxide', 'alcohol'],\n",
       " 'num_encoder': [FeatureUnion(transformer_list=[('fillna',\n",
       "                                  Pipeline(steps=[('fillna',\n",
       "                                                   SimpleImputer(fill_value=0.35252137039077047,\n",
       "                                                                 strategy='constant'))]))]),\n",
       "  FeatureUnion(transformer_list=[('fillna',\n",
       "                                  Pipeline(steps=[('fillna',\n",
       "                                                   SimpleImputer(fill_value=4.430469800926217,\n",
       "                                                                 strategy='constant'))]))]),\n",
       "  FeatureUnion(transformer_list=[('fillna',\n",
       "                                  Pipeline(steps=[('fillna',\n",
       "                                                   SimpleImputer(fill_value=0.10203064783174609,\n",
       "                                                                 strategy='constant'))]))]),\n",
       "  FeatureUnion(transformer_list=[('fillna',\n",
       "                                  Pipeline(steps=[('fillna',\n",
       "                                                   SimpleImputer(fill_value=2.7247534703867524,\n",
       "                                                                 strategy='constant'))]))]),\n",
       "  FeatureUnion(transformer_list=[('fillna',\n",
       "                                  Pipeline(steps=[('fillna',\n",
       "                                                   SimpleImputer(fill_value=-0.019274336038921036,\n",
       "                                                                 strategy='constant'))]))]),\n",
       "  FeatureUnion(transformer_list=[('fillna',\n",
       "                                  Pipeline(steps=[('fillna',\n",
       "                                                   SimpleImputer(fill_value=0.9898825436334188,\n",
       "                                                                 strategy='constant'))]))]),\n",
       "  FeatureUnion(transformer_list=[('fillna',\n",
       "                                  Pipeline(steps=[('fillna',\n",
       "                                                   SimpleImputer(fill_value=0.7544668475173683,\n",
       "                                                                 strategy='constant'))]))]),\n",
       "  FeatureUnion(transformer_list=[('fillna',\n",
       "                                  Pipeline(steps=[('fillna',\n",
       "                                                   SimpleImputer(fill_value=2.6992470791190675,\n",
       "                                                                 strategy='constant'))]))]),\n",
       "  FeatureUnion(transformer_list=[('fillna',\n",
       "                                  Pipeline(steps=[('fillna',\n",
       "                                                   SimpleImputer(fill_value=0.007052178701545107,\n",
       "                                                                 strategy='constant'))]))])],\n",
       " 'bool_encoder': [],\n",
       " 'max_nb': 64,\n",
       " 'cat_encoder': [SafeLabelEncoder(), SafeLabelEncoder()]}"
      ]
     },
     "execution_count": 17,
     "metadata": {},
     "output_type": "execute_result"
    },
    {
     "data": {
      "application/javascript": [
       "\n",
       "            setTimeout(function() {\n",
       "                var nbb_cell_id = 17;\n",
       "                var nbb_unformatted_code = \"params\";\n",
       "                var nbb_formatted_code = \"params\";\n",
       "                var nbb_cells = Jupyter.notebook.get_cells();\n",
       "                for (var i = 0; i < nbb_cells.length; ++i) {\n",
       "                    if (nbb_cells[i].input_prompt_number == nbb_cell_id) {\n",
       "                        if (nbb_cells[i].get_text() == nbb_unformatted_code) {\n",
       "                             nbb_cells[i].set_text(nbb_formatted_code);\n",
       "                        }\n",
       "                        break;\n",
       "                    }\n",
       "                }\n",
       "            }, 500);\n",
       "            "
      ],
      "text/plain": [
       "<IPython.core.display.Javascript object>"
      ]
     },
     "metadata": {},
     "output_type": "display_data"
    }
   ],
   "source": [
    "params"
   ]
  },
  {
   "cell_type": "code",
   "execution_count": 18,
   "metadata": {
    "ExecuteTime": {
     "end_time": "2020-09-19T11:40:41.792898Z",
     "start_time": "2020-09-19T11:40:41.625086Z"
    }
   },
   "outputs": [
    {
     "name": "stderr",
     "output_type": "stream",
     "text": [
      "/work/.cache/poetry/xplainet-KS9Ipbc1-py3.7/lib/python3.7/site-packages/tensorflow_addons/options.py:47: RuntimeWarning: Traceback (most recent call last):\n",
      "  File \"/work/.cache/poetry/xplainet-KS9Ipbc1-py3.7/lib/python3.7/site-packages/tensorflow_addons/activations/mish.py\", line 44, in mish\n",
      "    return _mish_custom_op(x)\n",
      "  File \"/work/.cache/poetry/xplainet-KS9Ipbc1-py3.7/lib/python3.7/site-packages/tensorflow_addons/activations/mish.py\", line 59, in _mish_custom_op\n",
      "    return _activation_so.ops.addons_mish(x)\n",
      "  File \"/work/.cache/poetry/xplainet-KS9Ipbc1-py3.7/lib/python3.7/site-packages/tensorflow_addons/utils/resource_loader.py\", line 64, in ops\n",
      "    self._ops = tf.load_op_library(get_path_to_datafile(self.relative_path))\n",
      "  File \"/work/.cache/poetry/xplainet-KS9Ipbc1-py3.7/lib/python3.7/site-packages/tensorflow/python/framework/load_library.py\", line 58, in load_op_library\n",
      "    lib_handle = py_tf.TF_LoadLibrary(library_filename)\n",
      "tensorflow.python.framework.errors_impl.NotFoundError: /work/.cache/poetry/xplainet-KS9Ipbc1-py3.7/lib/python3.7/site-packages/tensorflow_addons/custom_ops/activations/_activation_ops.so: undefined symbol: _ZN10tensorflow20OpKernelConstruction14MatchSignatureEN4absl14lts_2020_02_254SpanIKNS_8DataTypeEEES6_\n",
      "\n",
      "\n",
      "The mish C++/CUDA custom op could not be loaded.\n",
      "For this reason, Addons will fallback to an implementation written\n",
      "in Python with public TensorFlow ops. There worst you might experience with\n",
      "this is a moderate slowdown on GPU. There can be multiple\n",
      "reason for this loading error, one of them may be an ABI incompatibility between\n",
      "the TensorFlow installed on your system and the TensorFlow used to compile\n",
      "TensorFlow Addons' custom ops. The stacktrace generated when loading the\n",
      "shared object file was displayed above.\n",
      "\n",
      "If you want this warning to disappear, either make sure the TensorFlow installed\n",
      "is compatible with this version of Addons, or tell TensorFlow Addons to\n",
      "prefer using Python implementations and not custom C++/CUDA ones. You can do that\n",
      "by changing the TF_ADDONS_PY_OPS flag\n",
      "either with the environment variable:\n",
      "```bash\n",
      "TF_ADDONS_PY_OPS=1 python my_script.py\n",
      "```\n",
      "or in your code, after your imports:\n",
      "```python\n",
      "import tensorflow_addons as tfa\n",
      "import ...\n",
      "import ...\n",
      "\n",
      "tfa.options.TF_ADDONS_PY_OPS = True\n",
      "```\n",
      "\n",
      "  warnings.warn(warning_msg, RuntimeWarning)\n"
     ]
    },
    {
     "data": {
      "application/javascript": [
       "\n",
       "            setTimeout(function() {\n",
       "                var nbb_cell_id = 18;\n",
       "                var nbb_unformatted_code = \"model = build_model(\\n    params,\\n    lconv_dim=[4],\\n    lconv_num_dim=[8],\\n    emb_size=16,\\n    activation_num_first_layer=None,  # \\\"tanh\\\",\\n    output_activation=None,\\n    output_dim=1,  # np.unique(y_train).shape[0],\\n)\";\n",
       "                var nbb_formatted_code = \"model = build_model(\\n    params,\\n    lconv_dim=[4],\\n    lconv_num_dim=[8],\\n    emb_size=16,\\n    activation_num_first_layer=None,  # \\\"tanh\\\",\\n    output_activation=None,\\n    output_dim=1,  # np.unique(y_train).shape[0],\\n)\";\n",
       "                var nbb_cells = Jupyter.notebook.get_cells();\n",
       "                for (var i = 0; i < nbb_cells.length; ++i) {\n",
       "                    if (nbb_cells[i].input_prompt_number == nbb_cell_id) {\n",
       "                        if (nbb_cells[i].get_text() == nbb_unformatted_code) {\n",
       "                             nbb_cells[i].set_text(nbb_formatted_code);\n",
       "                        }\n",
       "                        break;\n",
       "                    }\n",
       "                }\n",
       "            }, 500);\n",
       "            "
      ],
      "text/plain": [
       "<IPython.core.display.Javascript object>"
      ]
     },
     "metadata": {},
     "output_type": "display_data"
    }
   ],
   "source": [
    "model = build_model(\n",
    "    params,\n",
    "    lconv_dim=[4],\n",
    "    lconv_num_dim=[8],\n",
    "    emb_size=16,\n",
    "    activation_num_first_layer=None,  # \"tanh\",\n",
    "    output_activation=None,\n",
    "    output_dim=1,  # np.unique(y_train).shape[0],\n",
    ")"
   ]
  },
  {
   "cell_type": "code",
   "execution_count": 19,
   "metadata": {
    "ExecuteTime": {
     "end_time": "2020-09-19T11:40:41.818732Z",
     "start_time": "2020-09-19T11:40:41.793970Z"
    }
   },
   "outputs": [
    {
     "name": "stdout",
     "output_type": "stream",
     "text": [
      "Model: \"explainable_model\"\n",
      "__________________________________________________________________________________________________\n",
      "Layer (type)                    Output Shape         Param #     Connected to                     \n",
      "==================================================================================================\n",
      "input_num (InputLayer)          [(None, 9)]          0                                            \n",
      "__________________________________________________________________________________________________\n",
      "input_cat (InputLayer)          [(None, 2)]          0                                            \n",
      "__________________________________________________________________________________________________\n",
      "reshape_num_input (Reshape)     (None, 9, 1)         0           input_num[0][0]                  \n",
      "__________________________________________________________________________________________________\n",
      "large_emb (Embedding)           (None, 2, 16)        1040        input_cat[0][0]                  \n",
      "__________________________________________________________________________________________________\n",
      "block_num_0_conv (LocallyConnec (None, 9, 8)         72          reshape_num_input[0][0]          \n",
      "__________________________________________________________________________________________________\n",
      "block_cat_0_conv (LocallyConnec (None, 2, 4)         128         large_emb[0][0]                  \n",
      "__________________________________________________________________________________________________\n",
      "block_num_0_activation (Activat (None, 9, 8)         0           block_num_0_conv[0][0]           \n",
      "__________________________________________________________________________________________________\n",
      "block_cat_0_activation (Activat (None, 2, 4)         0           block_cat_0_conv[0][0]           \n",
      "__________________________________________________________________________________________________\n",
      "reshape_num_output (Reshape)    (None, 72)           0           block_num_0_activation[0][0]     \n",
      "__________________________________________________________________________________________________\n",
      "reshape_cat_output (Reshape)    (None, 8)            0           block_cat_0_activation[0][0]     \n",
      "__________________________________________________________________________________________________\n",
      "concatenate (Concatenate)       (None, 80)           0           reshape_num_output[0][0]         \n",
      "                                                                 reshape_cat_output[0][0]         \n",
      "__________________________________________________________________________________________________\n",
      "output (Dense)                  (None, 1)            81          concatenate[0][0]                \n",
      "==================================================================================================\n",
      "Total params: 1,321\n",
      "Trainable params: 1,321\n",
      "Non-trainable params: 0\n",
      "__________________________________________________________________________________________________\n"
     ]
    },
    {
     "data": {
      "application/javascript": [
       "\n",
       "            setTimeout(function() {\n",
       "                var nbb_cell_id = 19;\n",
       "                var nbb_unformatted_code = \"model.summary()\";\n",
       "                var nbb_formatted_code = \"model.summary()\";\n",
       "                var nbb_cells = Jupyter.notebook.get_cells();\n",
       "                for (var i = 0; i < nbb_cells.length; ++i) {\n",
       "                    if (nbb_cells[i].input_prompt_number == nbb_cell_id) {\n",
       "                        if (nbb_cells[i].get_text() == nbb_unformatted_code) {\n",
       "                             nbb_cells[i].set_text(nbb_formatted_code);\n",
       "                        }\n",
       "                        break;\n",
       "                    }\n",
       "                }\n",
       "            }, 500);\n",
       "            "
      ],
      "text/plain": [
       "<IPython.core.display.Javascript object>"
      ]
     },
     "metadata": {},
     "output_type": "display_data"
    }
   ],
   "source": [
    "model.summary()"
   ]
  },
  {
   "cell_type": "code",
   "execution_count": 20,
   "metadata": {
    "ExecuteTime": {
     "end_time": "2020-09-19T11:40:41.840536Z",
     "start_time": "2020-09-19T11:40:41.819637Z"
    }
   },
   "outputs": [
    {
     "data": {
      "application/javascript": [
       "\n",
       "            setTimeout(function() {\n",
       "                var nbb_cell_id = 20;\n",
       "                var nbb_unformatted_code = \"#!pip install pydot graphviz\";\n",
       "                var nbb_formatted_code = \"#!pip install pydot graphviz\";\n",
       "                var nbb_cells = Jupyter.notebook.get_cells();\n",
       "                for (var i = 0; i < nbb_cells.length; ++i) {\n",
       "                    if (nbb_cells[i].input_prompt_number == nbb_cell_id) {\n",
       "                        if (nbb_cells[i].get_text() == nbb_unformatted_code) {\n",
       "                             nbb_cells[i].set_text(nbb_formatted_code);\n",
       "                        }\n",
       "                        break;\n",
       "                    }\n",
       "                }\n",
       "            }, 500);\n",
       "            "
      ],
      "text/plain": [
       "<IPython.core.display.Javascript object>"
      ]
     },
     "metadata": {},
     "output_type": "display_data"
    }
   ],
   "source": [
    "#!pip install pydot graphviz"
   ]
  },
  {
   "cell_type": "code",
   "execution_count": 21,
   "metadata": {
    "ExecuteTime": {
     "end_time": "2020-09-19T11:40:41.977083Z",
     "start_time": "2020-09-19T11:40:41.841471Z"
    }
   },
   "outputs": [
    {
     "data": {
      "image/png": "[encoded data removed]",
      "text/plain": [
       "<IPython.core.display.Image object>"
      ]
     },
     "execution_count": 21,
     "metadata": {},
     "output_type": "execute_result"
    },
    {
     "data": {
      "application/javascript": [
       "\n",
       "            setTimeout(function() {\n",
       "                var nbb_cell_id = 21;\n",
       "                var nbb_unformatted_code = \"plot_model(\\n    model,\\n    # to_file=\\\"model.png\\\",\\n    show_shapes=True,\\n    show_layer_names=True,\\n    rankdir=\\\"TB\\\",\\n    expand_nested=False,\\n    dpi=96,\\n)\";\n",
       "                var nbb_formatted_code = \"plot_model(\\n    model,\\n    # to_file=\\\"model.png\\\",\\n    show_shapes=True,\\n    show_layer_names=True,\\n    rankdir=\\\"TB\\\",\\n    expand_nested=False,\\n    dpi=96,\\n)\";\n",
       "                var nbb_cells = Jupyter.notebook.get_cells();\n",
       "                for (var i = 0; i < nbb_cells.length; ++i) {\n",
       "                    if (nbb_cells[i].input_prompt_number == nbb_cell_id) {\n",
       "                        if (nbb_cells[i].get_text() == nbb_unformatted_code) {\n",
       "                             nbb_cells[i].set_text(nbb_formatted_code);\n",
       "                        }\n",
       "                        break;\n",
       "                    }\n",
       "                }\n",
       "            }, 500);\n",
       "            "
      ],
      "text/plain": [
       "<IPython.core.display.Javascript object>"
      ]
     },
     "metadata": {},
     "output_type": "display_data"
    }
   ],
   "source": [
    "plot_model(\n",
    "    model,\n",
    "    # to_file=\"model.png\",\n",
    "    show_shapes=True,\n",
    "    show_layer_names=True,\n",
    "    rankdir=\"TB\",\n",
    "    expand_nested=False,\n",
    "    dpi=96,\n",
    ")"
   ]
  },
  {
   "cell_type": "code",
   "execution_count": 22,
   "metadata": {
    "ExecuteTime": {
     "end_time": "2020-09-19T11:40:42.011231Z",
     "start_time": "2020-09-19T11:40:41.978363Z"
    }
   },
   "outputs": [
    {
     "data": {
      "text/plain": [
       "(1310,)"
      ]
     },
     "execution_count": 22,
     "metadata": {},
     "output_type": "execute_result"
    },
    {
     "data": {
      "application/javascript": [
       "\n",
       "            setTimeout(function() {\n",
       "                var nbb_cell_id = 22;\n",
       "                var nbb_unformatted_code = \"y_train.shape\";\n",
       "                var nbb_formatted_code = \"y_train.shape\";\n",
       "                var nbb_cells = Jupyter.notebook.get_cells();\n",
       "                for (var i = 0; i < nbb_cells.length; ++i) {\n",
       "                    if (nbb_cells[i].input_prompt_number == nbb_cell_id) {\n",
       "                        if (nbb_cells[i].get_text() == nbb_unformatted_code) {\n",
       "                             nbb_cells[i].set_text(nbb_formatted_code);\n",
       "                        }\n",
       "                        break;\n",
       "                    }\n",
       "                }\n",
       "            }, 500);\n",
       "            "
      ],
      "text/plain": [
       "<IPython.core.display.Javascript object>"
      ]
     },
     "metadata": {},
     "output_type": "display_data"
    }
   ],
   "source": [
    "y_train.shape"
   ]
  },
  {
   "cell_type": "code",
   "execution_count": 23,
   "metadata": {
    "ExecuteTime": {
     "end_time": "2020-09-19T11:40:42.043718Z",
     "start_time": "2020-09-19T11:40:42.015615Z"
    }
   },
   "outputs": [
    {
     "data": {
      "application/javascript": [
       "\n",
       "            setTimeout(function() {\n",
       "                var nbb_cell_id = 23;\n",
       "                var nbb_unformatted_code = \"counts = np.unique(y_train, return_counts=True)[1]\\ncounts = counts.sum() / counts\";\n",
       "                var nbb_formatted_code = \"counts = np.unique(y_train, return_counts=True)[1]\\ncounts = counts.sum() / counts\";\n",
       "                var nbb_cells = Jupyter.notebook.get_cells();\n",
       "                for (var i = 0; i < nbb_cells.length; ++i) {\n",
       "                    if (nbb_cells[i].input_prompt_number == nbb_cell_id) {\n",
       "                        if (nbb_cells[i].get_text() == nbb_unformatted_code) {\n",
       "                             nbb_cells[i].set_text(nbb_formatted_code);\n",
       "                        }\n",
       "                        break;\n",
       "                    }\n",
       "                }\n",
       "            }, 500);\n",
       "            "
      ],
      "text/plain": [
       "<IPython.core.display.Javascript object>"
      ]
     },
     "metadata": {},
     "output_type": "display_data"
    }
   ],
   "source": [
    "counts = np.unique(y_train, return_counts=True)[1]\n",
    "counts = counts.sum() / counts"
   ]
  },
  {
   "cell_type": "code",
   "execution_count": 24,
   "metadata": {
    "ExecuteTime": {
     "end_time": "2020-09-19T11:40:42.073640Z",
     "start_time": "2020-09-19T11:40:42.045361Z"
    }
   },
   "outputs": [
    {
     "data": {
      "text/plain": [
       "{0: 145.55555555555554,\n",
       " 1: 28.47826086956522,\n",
       " 2: 2.347670250896057,\n",
       " 3: 2.5387596899224807,\n",
       " 4: 7.844311377245509,\n",
       " 5: 93.57142857142857}"
      ]
     },
     "execution_count": 24,
     "metadata": {},
     "output_type": "execute_result"
    },
    {
     "data": {
      "application/javascript": [
       "\n",
       "            setTimeout(function() {\n",
       "                var nbb_cell_id = 24;\n",
       "                var nbb_unformatted_code = \"class_weight = {}\\nfor i, counts in enumerate(counts):\\n    class_weight[i] = counts\\nclass_weight\";\n",
       "                var nbb_formatted_code = \"class_weight = {}\\nfor i, counts in enumerate(counts):\\n    class_weight[i] = counts\\nclass_weight\";\n",
       "                var nbb_cells = Jupyter.notebook.get_cells();\n",
       "                for (var i = 0; i < nbb_cells.length; ++i) {\n",
       "                    if (nbb_cells[i].input_prompt_number == nbb_cell_id) {\n",
       "                        if (nbb_cells[i].get_text() == nbb_unformatted_code) {\n",
       "                             nbb_cells[i].set_text(nbb_formatted_code);\n",
       "                        }\n",
       "                        break;\n",
       "                    }\n",
       "                }\n",
       "            }, 500);\n",
       "            "
      ],
      "text/plain": [
       "<IPython.core.display.Javascript object>"
      ]
     },
     "metadata": {},
     "output_type": "display_data"
    }
   ],
   "source": [
    "class_weight = {}\n",
    "for i, counts in enumerate(counts):\n",
    "    class_weight[i] = counts\n",
    "class_weight"
   ]
  },
  {
   "cell_type": "raw",
   "metadata": {
    "ExecuteTime": {
     "end_time": "2020-07-14T10:13:28.824624Z",
     "start_time": "2020-07-14T10:13:28.800384Z"
    }
   },
   "source": [
    "class_weight = {\n",
    "    0: 1,\n",
    "    1: 1,\n",
    "}\n",
    "class_weight"
   ]
  },
  {
   "cell_type": "code",
   "execution_count": 25,
   "metadata": {
    "ExecuteTime": {
     "end_time": "2020-09-19T11:41:04.574692Z",
     "start_time": "2020-09-19T11:40:42.074540Z"
    }
   },
   "outputs": [
    {
     "name": "stdout",
     "output_type": "stream",
     "text": [
      "Epoch 1/2000\n",
      "WARNING:tensorflow:From /work/.cache/poetry/xplainet-KS9Ipbc1-py3.7/lib/python3.7/site-packages/tensorflow/python/ops/resource_variable_ops.py:1817: calling BaseResourceVariable.__init__ (from tensorflow.python.ops.resource_variable_ops) with constraint is deprecated and will be removed in a future version.\n",
      "Instructions for updating:\n",
      "If using Keras pass *_constraint arguments to layers.\n"
     ]
    },
    {
     "name": "stderr",
     "output_type": "stream",
     "text": [
      "WARNING:tensorflow:From /work/.cache/poetry/xplainet-KS9Ipbc1-py3.7/lib/python3.7/site-packages/tensorflow/python/ops/resource_variable_ops.py:1817: calling BaseResourceVariable.__init__ (from tensorflow.python.ops.resource_variable_ops) with constraint is deprecated and will be removed in a future version.\n",
      "Instructions for updating:\n",
      "If using Keras pass *_constraint arguments to layers.\n"
     ]
    },
    {
     "name": "stdout",
     "output_type": "stream",
     "text": [
      "2/2 - 0s - loss: 15.8573 - val_loss: 16.0223\n",
      "Epoch 2/2000\n",
      "2/2 - 0s - loss: 14.3166 - val_loss: 12.9056\n",
      "Epoch 3/2000\n",
      "2/2 - 0s - loss: 12.2548 - val_loss: 13.1201\n",
      "Epoch 4/2000\n",
      "2/2 - 0s - loss: 13.3244 - val_loss: 13.1123\n",
      "Epoch 5/2000\n",
      "2/2 - 0s - loss: 13.3157 - val_loss: 13.0996\n",
      "Epoch 6/2000\n",
      "2/2 - 0s - loss: 13.3014 - val_loss: 13.1014\n",
      "Epoch 7/2000\n",
      "2/2 - 0s - loss: 13.3025 - val_loss: 13.0803\n",
      "Epoch 8/2000\n",
      "2/2 - 0s - loss: 13.2792 - val_loss: 13.0557\n",
      "Epoch 9/2000\n",
      "2/2 - 0s - loss: 13.2511 - val_loss: 13.0646\n",
      "Epoch 10/2000\n",
      "2/2 - 0s - loss: 13.2608 - val_loss: 13.0338\n",
      "Epoch 11/2000\n",
      "2/2 - 0s - loss: 13.2264 - val_loss: 13.0007\n",
      "Epoch 12/2000\n",
      "2/2 - 0s - loss: 13.1888 - val_loss: 13.0147\n",
      "Epoch 13/2000\n",
      "2/2 - 0s - loss: 13.2040 - val_loss: 12.9770\n",
      "Epoch 14/2000\n",
      "2/2 - 0s - loss: 13.1615 - val_loss: 12.9376\n",
      "Epoch 15/2000\n",
      "2/2 - 0s - loss: 13.1168 - val_loss: 12.9552\n",
      "Epoch 16/2000\n",
      "2/2 - 0s - loss: 13.1365 - val_loss: 12.9122\n",
      "Epoch 17/2000\n",
      "2/2 - 0s - loss: 13.0874 - val_loss: 12.8680\n",
      "Epoch 18/2000\n",
      "2/2 - 0s - loss: 13.0377 - val_loss: 12.8883\n",
      "Epoch 19/2000\n",
      "2/2 - 0s - loss: 13.0618 - val_loss: 12.8417\n",
      "Epoch 20/2000\n",
      "2/2 - 0s - loss: 13.0073 - val_loss: 12.7947\n",
      "Epoch 21/2000\n",
      "2/2 - 0s - loss: 12.9536 - val_loss: 12.8168\n",
      "Epoch 22/2000\n",
      "2/2 - 0s - loss: 12.9787 - val_loss: 12.7674\n",
      "Epoch 23/2000\n",
      "2/2 - 0s - loss: 12.9225 - val_loss: 12.7175\n",
      "Epoch 24/2000\n",
      "2/2 - 0s - loss: 12.8664 - val_loss: 12.7413\n",
      "Epoch 25/2000\n",
      "2/2 - 0s - loss: 12.8926 - val_loss: 12.6902\n",
      "Epoch 26/2000\n",
      "2/2 - 0s - loss: 12.8341 - val_loss: 12.6391\n",
      "Epoch 27/2000\n",
      "2/2 - 0s - loss: 12.7751 - val_loss: 12.6635\n",
      "Epoch 28/2000\n",
      "2/2 - 0s - loss: 12.8027 - val_loss: 12.6110\n",
      "Epoch 29/2000\n",
      "2/2 - 0s - loss: 12.7441 - val_loss: 12.5587\n",
      "Epoch 30/2000\n",
      "2/2 - 0s - loss: 12.6811 - val_loss: 12.5841\n",
      "Epoch 31/2000\n",
      "2/2 - 0s - loss: 12.7114 - val_loss: 12.5308\n",
      "Epoch 32/2000\n",
      "2/2 - 0s - loss: 12.6500 - val_loss: 12.4780\n",
      "Epoch 33/2000\n",
      "2/2 - 0s - loss: 12.5907 - val_loss: 12.5039\n",
      "Epoch 34/2000\n",
      "2/2 - 0s - loss: 12.6187 - val_loss: 12.4516\n",
      "Epoch 35/2000\n",
      "2/2 - 0s - loss: 12.5572 - val_loss: 12.3997\n",
      "Epoch 36/2000\n",
      "2/2 - 0s - loss: 12.4979 - val_loss: 12.4248\n",
      "Epoch 37/2000\n",
      "2/2 - 0s - loss: 12.5264 - val_loss: 12.3725\n",
      "Epoch 38/2000\n",
      "2/2 - 0s - loss: 12.4644 - val_loss: 12.3208\n",
      "Epoch 39/2000\n",
      "2/2 - 0s - loss: 12.4036 - val_loss: 12.3458\n",
      "Epoch 40/2000\n",
      "2/2 - 0s - loss: 12.4325 - val_loss: 12.2933\n",
      "Epoch 41/2000\n",
      "2/2 - 0s - loss: 12.3712 - val_loss: 12.2414\n",
      "Epoch 42/2000\n",
      "2/2 - 0s - loss: 12.3089 - val_loss: 12.2667\n",
      "Epoch 43/2000\n",
      "2/2 - 0s - loss: 12.3399 - val_loss: 12.2147\n",
      "Epoch 44/2000\n",
      "2/2 - 0s - loss: 12.2771 - val_loss: 12.1639\n",
      "Epoch 45/2000\n",
      "2/2 - 0s - loss: 12.2157 - val_loss: 12.1887\n",
      "Epoch 46/2000\n",
      "2/2 - 0s - loss: 12.2464 - val_loss: 12.1377\n",
      "Epoch 47/2000\n",
      "2/2 - 0s - loss: 12.1858 - val_loss: 12.0879\n",
      "Epoch 48/2000\n",
      "2/2 - 0s - loss: 12.1248 - val_loss: 12.1125\n",
      "Epoch 49/2000\n",
      "2/2 - 0s - loss: 12.1553 - val_loss: 12.0632\n",
      "Epoch 50/2000\n",
      "2/2 - 0s - loss: 12.0952 - val_loss: 12.0149\n",
      "Epoch 51/2000\n",
      "2/2 - 0s - loss: 12.0365 - val_loss: 12.0386\n",
      "Epoch 52/2000\n",
      "2/2 - 0s - loss: 12.0665 - val_loss: 11.9906\n",
      "Epoch 53/2000\n",
      "2/2 - 0s - loss: 12.0078 - val_loss: 11.9437\n",
      "Epoch 54/2000\n",
      "2/2 - 0s - loss: 11.9501 - val_loss: 11.9669\n",
      "Epoch 55/2000\n",
      "2/2 - 0s - loss: 11.9791 - val_loss: 11.9201\n",
      "Epoch 56/2000\n",
      "2/2 - 0s - loss: 11.9220 - val_loss: 11.8746\n",
      "Epoch 57/2000\n",
      "2/2 - 0s - loss: 11.8661 - val_loss: 11.8971\n",
      "Epoch 58/2000\n",
      "2/2 - 0s - loss: 11.8942 - val_loss: 11.8517\n",
      "Epoch 59/2000\n",
      "2/2 - 0s - loss: 11.8394 - val_loss: 11.8075\n",
      "Epoch 60/2000\n",
      "2/2 - 0s - loss: 11.7827 - val_loss: 11.8293\n",
      "Epoch 61/2000\n",
      "2/2 - 0s - loss: 11.8105 - val_loss: 11.7849\n",
      "Epoch 62/2000\n",
      "2/2 - 0s - loss: 11.7570 - val_loss: 11.7415\n",
      "Epoch 63/2000\n",
      "2/2 - 0s - loss: 11.7028 - val_loss: 11.7629\n",
      "Epoch 64/2000\n",
      "2/2 - 0s - loss: 11.7290 - val_loss: 11.7199\n",
      "Epoch 65/2000\n",
      "2/2 - 0s - loss: 11.6778 - val_loss: 11.6779\n",
      "Epoch 66/2000\n",
      "2/2 - 0s - loss: 11.6245 - val_loss: 11.6987\n",
      "Epoch 67/2000\n",
      "2/2 - 0s - loss: 11.6515 - val_loss: 11.6569\n",
      "Epoch 68/2000\n",
      "2/2 - 0s - loss: 11.5999 - val_loss: 11.6160\n",
      "Epoch 69/2000\n",
      "2/2 - 0s - loss: 11.5484 - val_loss: 11.6362\n",
      "Epoch 70/2000\n",
      "2/2 - 0s - loss: 11.5734 - val_loss: 11.5949\n",
      "Epoch 71/2000\n",
      "2/2 - 0s - loss: 11.5228 - val_loss: 11.5542\n",
      "Epoch 72/2000\n",
      "2/2 - 0s - loss: 11.4731 - val_loss: 11.5741\n",
      "Epoch 73/2000\n",
      "2/2 - 0s - loss: 11.4995 - val_loss: 11.5334\n",
      "Epoch 74/2000\n",
      "2/2 - 0s - loss: 11.4492 - val_loss: 11.4935\n",
      "Epoch 75/2000\n",
      "2/2 - 0s - loss: 11.4015 - val_loss: 11.5134\n",
      "Epoch 76/2000\n",
      "2/2 - 0s - loss: 11.4240 - val_loss: 11.4738\n",
      "Epoch 77/2000\n",
      "2/2 - 0s - loss: 11.3768 - val_loss: 11.4342\n",
      "Epoch 78/2000\n",
      "2/2 - 0s - loss: 11.3296 - val_loss: 11.4534\n",
      "Epoch 79/2000\n",
      "2/2 - 0s - loss: 11.3521 - val_loss: 11.4134\n",
      "Epoch 80/2000\n",
      "2/2 - 0s - loss: 11.3045 - val_loss: 11.3740\n",
      "Epoch 81/2000\n",
      "2/2 - 0s - loss: 11.2567 - val_loss: 11.3934\n",
      "Epoch 82/2000\n",
      "2/2 - 0s - loss: 11.2799 - val_loss: 11.3540\n",
      "Epoch 83/2000\n",
      "2/2 - 0s - loss: 11.2316 - val_loss: 11.3150\n",
      "Epoch 84/2000\n",
      "2/2 - 0s - loss: 11.1843 - val_loss: 11.3341\n",
      "Epoch 85/2000\n",
      "2/2 - 0s - loss: 11.2091 - val_loss: 11.2949\n",
      "Epoch 86/2000\n",
      "2/2 - 0s - loss: 11.1628 - val_loss: 11.2560\n",
      "Epoch 87/2000\n",
      "2/2 - 0s - loss: 11.1161 - val_loss: 11.2749\n",
      "Epoch 88/2000\n",
      "2/2 - 0s - loss: 11.1383 - val_loss: 11.2351\n",
      "Epoch 89/2000\n",
      "2/2 - 0s - loss: 11.0928 - val_loss: 11.1954\n",
      "Epoch 90/2000\n",
      "2/2 - 0s - loss: 11.0482 - val_loss: 11.2150\n",
      "Epoch 91/2000\n",
      "2/2 - 0s - loss: 11.0701 - val_loss: 11.1749\n",
      "Epoch 92/2000\n",
      "2/2 - 0s - loss: 11.0251 - val_loss: 11.1350\n",
      "Epoch 93/2000\n",
      "2/2 - 0s - loss: 10.9786 - val_loss: 11.1545\n",
      "Epoch 94/2000\n",
      "2/2 - 0s - loss: 11.0017 - val_loss: 11.1134\n",
      "Epoch 95/2000\n",
      "2/2 - 0s - loss: 10.9564 - val_loss: 11.0723\n",
      "Epoch 96/2000\n",
      "2/2 - 0s - loss: 10.9100 - val_loss: 11.0925\n",
      "Epoch 97/2000\n",
      "2/2 - 0s - loss: 10.9333 - val_loss: 11.0506\n",
      "Epoch 98/2000\n",
      "2/2 - 0s - loss: 10.8872 - val_loss: 11.0086\n",
      "Epoch 99/2000\n",
      "2/2 - 0s - loss: 10.8410 - val_loss: 11.0295\n",
      "Epoch 100/2000\n",
      "2/2 - 0s - loss: 10.8639 - val_loss: 10.9876\n",
      "Epoch 101/2000\n",
      "2/2 - 0s - loss: 10.8167 - val_loss: 10.9461\n",
      "Epoch 102/2000\n",
      "2/2 - 0s - loss: 10.7707 - val_loss: 10.9671\n",
      "Epoch 103/2000\n",
      "2/2 - 0s - loss: 10.7929 - val_loss: 10.9263\n",
      "Epoch 104/2000\n",
      "2/2 - 0s - loss: 10.7450 - val_loss: 10.8859\n",
      "Epoch 105/2000\n",
      "2/2 - 0s - loss: 10.7007 - val_loss: 10.9058\n",
      "Epoch 106/2000\n",
      "2/2 - 0s - loss: 10.7218 - val_loss: 10.8637\n",
      "Epoch 107/2000\n",
      "2/2 - 0s - loss: 10.6744 - val_loss: 10.8223\n",
      "Epoch 108/2000\n",
      "2/2 - 0s - loss: 10.6278 - val_loss: 10.8432\n",
      "Epoch 109/2000\n",
      "2/2 - 0s - loss: 10.6508 - val_loss: 10.8018\n",
      "Epoch 110/2000\n",
      "2/2 - 0s - loss: 10.6038 - val_loss: 10.7604\n",
      "Epoch 111/2000\n",
      "2/2 - 0s - loss: 10.5556 - val_loss: 10.7806\n",
      "Epoch 112/2000\n",
      "2/2 - 0s - loss: 10.5801 - val_loss: 10.7384\n",
      "Epoch 113/2000\n",
      "2/2 - 0s - loss: 10.5317 - val_loss: 10.6958\n",
      "Epoch 114/2000\n",
      "2/2 - 0s - loss: 10.4845 - val_loss: 10.7167\n",
      "Epoch 115/2000\n",
      "2/2 - 0s - loss: 10.5085 - val_loss: 10.6731\n",
      "Epoch 116/2000\n",
      "2/2 - 0s - loss: 10.4602 - val_loss: 10.6282\n",
      "Epoch 117/2000\n",
      "2/2 - 0s - loss: 10.4119 - val_loss: 10.6496\n",
      "Epoch 118/2000\n",
      "2/2 - 0s - loss: 10.4364 - val_loss: 10.6035\n",
      "Epoch 119/2000\n",
      "2/2 - 0s - loss: 10.3876 - val_loss: 10.5563\n",
      "Epoch 120/2000\n",
      "2/2 - 0s - loss: 10.3387 - val_loss: 10.5793\n",
      "Epoch 121/2000\n",
      "2/2 - 0s - loss: 10.3631 - val_loss: 10.5317\n",
      "Epoch 122/2000\n",
      "2/2 - 0s - loss: 10.3137 - val_loss: 10.4838\n",
      "Epoch 123/2000\n",
      "2/2 - 0s - loss: 10.2645 - val_loss: 10.5080\n",
      "Epoch 124/2000\n",
      "2/2 - 0s - loss: 10.2885 - val_loss: 10.4615\n",
      "Epoch 125/2000\n",
      "2/2 - 0s - loss: 10.2388 - val_loss: 10.4147\n",
      "Epoch 126/2000\n",
      "2/2 - 0s - loss: 10.1889 - val_loss: 10.4376\n",
      "Epoch 127/2000\n",
      "2/2 - 0s - loss: 10.2132 - val_loss: 10.3898\n",
      "Epoch 128/2000\n",
      "2/2 - 0s - loss: 10.1631 - val_loss: 10.3404\n",
      "Epoch 129/2000\n",
      "2/2 - 0s - loss: 10.1117 - val_loss: 10.3637\n",
      "Epoch 130/2000\n",
      "2/2 - 0s - loss: 10.1367 - val_loss: 10.3132\n",
      "Epoch 131/2000\n",
      "2/2 - 0s - loss: 10.0856 - val_loss: 10.2630\n",
      "Epoch 132/2000\n",
      "2/2 - 0s - loss: 10.0335 - val_loss: 10.2878\n",
      "Epoch 133/2000\n",
      "2/2 - 0s - loss: 10.0592 - val_loss: 10.2361\n",
      "Epoch 134/2000\n",
      "2/2 - 0s - loss: 10.0070 - val_loss: 10.1847\n",
      "Epoch 135/2000\n",
      "2/2 - 0s - loss: 9.9542 - val_loss: 10.2100\n",
      "Epoch 136/2000\n",
      "2/2 - 0s - loss: 9.9808 - val_loss: 10.1561\n",
      "Epoch 137/2000\n",
      "2/2 - 0s - loss: 9.9272 - val_loss: 10.1015\n",
      "Epoch 138/2000\n",
      "2/2 - 0s - loss: 9.8739 - val_loss: 10.1283\n",
      "Epoch 139/2000\n",
      "2/2 - 0s - loss: 9.9002 - val_loss: 10.0734\n"
     ]
    },
    {
     "name": "stdout",
     "output_type": "stream",
     "text": [
      "Epoch 140/2000\n",
      "2/2 - 0s - loss: 9.8467 - val_loss: 10.0186\n",
      "Epoch 141/2000\n",
      "2/2 - 0s - loss: 9.7926 - val_loss: 10.0461\n",
      "Epoch 142/2000\n",
      "2/2 - 0s - loss: 9.8193 - val_loss: 9.9907\n",
      "Epoch 143/2000\n",
      "2/2 - 0s - loss: 9.7656 - val_loss: 9.9344\n",
      "Epoch 144/2000\n",
      "2/2 - 0s - loss: 9.7108 - val_loss: 9.9626\n",
      "Epoch 145/2000\n",
      "2/2 - 0s - loss: 9.7380 - val_loss: 9.9074\n",
      "Epoch 146/2000\n",
      "2/2 - 0s - loss: 9.6829 - val_loss: 9.8513\n",
      "Epoch 147/2000\n",
      "2/2 - 0s - loss: 9.6279 - val_loss: 9.8785\n",
      "Epoch 148/2000\n",
      "2/2 - 0s - loss: 9.6554 - val_loss: 9.8211\n",
      "Epoch 149/2000\n",
      "2/2 - 0s - loss: 9.5996 - val_loss: 9.7643\n",
      "Epoch 150/2000\n",
      "2/2 - 0s - loss: 9.5432 - val_loss: 9.7932\n",
      "Epoch 151/2000\n",
      "2/2 - 0s - loss: 9.5713 - val_loss: 9.7368\n",
      "Epoch 152/2000\n",
      "2/2 - 0s - loss: 9.5148 - val_loss: 9.6810\n",
      "Epoch 153/2000\n",
      "2/2 - 0s - loss: 9.4576 - val_loss: 9.7096\n",
      "Epoch 154/2000\n",
      "2/2 - 0s - loss: 9.4855 - val_loss: 9.6544\n",
      "Epoch 155/2000\n",
      "2/2 - 0s - loss: 9.4290 - val_loss: 9.5975\n",
      "Epoch 156/2000\n",
      "2/2 - 0s - loss: 9.3704 - val_loss: 9.6240\n",
      "Epoch 157/2000\n",
      "2/2 - 0s - loss: 9.3991 - val_loss: 9.5649\n",
      "Epoch 158/2000\n",
      "2/2 - 0s - loss: 9.3400 - val_loss: 9.5066\n",
      "Epoch 159/2000\n",
      "2/2 - 0s - loss: 9.2814 - val_loss: 9.5364\n",
      "Epoch 160/2000\n",
      "2/2 - 0s - loss: 9.3112 - val_loss: 9.4785\n",
      "Epoch 161/2000\n",
      "2/2 - 0s - loss: 9.2520 - val_loss: 9.4199\n",
      "Epoch 162/2000\n",
      "2/2 - 0s - loss: 9.1920 - val_loss: 9.4481\n",
      "Epoch 163/2000\n",
      "2/2 - 0s - loss: 9.2223 - val_loss: 9.3880\n",
      "Epoch 164/2000\n",
      "2/2 - 0s - loss: 9.1606 - val_loss: 9.3268\n",
      "Epoch 165/2000\n",
      "2/2 - 0s - loss: 9.1015 - val_loss: 9.3564\n",
      "Epoch 166/2000\n",
      "2/2 - 0s - loss: 9.1308 - val_loss: 9.2935\n",
      "Epoch 167/2000\n",
      "2/2 - 0s - loss: 9.0699 - val_loss: 9.2294\n",
      "Epoch 168/2000\n",
      "2/2 - 0s - loss: 9.0078 - val_loss: 9.2609\n",
      "Epoch 169/2000\n",
      "2/2 - 0s - loss: 9.0384 - val_loss: 9.1957\n",
      "Epoch 170/2000\n",
      "2/2 - 0s - loss: 8.9763 - val_loss: 9.1306\n",
      "Epoch 171/2000\n",
      "2/2 - 0s - loss: 8.9137 - val_loss: 9.1637\n",
      "Epoch 172/2000\n",
      "2/2 - 0s - loss: 8.9453 - val_loss: 9.1004\n",
      "Epoch 173/2000\n",
      "2/2 - 0s - loss: 8.8821 - val_loss: 9.0385\n",
      "Epoch 174/2000\n",
      "2/2 - 0s - loss: 8.8190 - val_loss: 9.0703\n",
      "Epoch 175/2000\n",
      "2/2 - 0s - loss: 8.8507 - val_loss: 9.0075\n",
      "Epoch 176/2000\n",
      "2/2 - 0s - loss: 8.7867 - val_loss: 8.9435\n",
      "Epoch 177/2000\n",
      "2/2 - 0s - loss: 8.7236 - val_loss: 8.9741\n",
      "Epoch 178/2000\n",
      "2/2 - 0s - loss: 8.7542 - val_loss: 8.9078\n",
      "Epoch 179/2000\n",
      "2/2 - 0s - loss: 8.6897 - val_loss: 8.8393\n",
      "Epoch 180/2000\n",
      "2/2 - 0s - loss: 8.6247 - val_loss: 8.8724\n",
      "Epoch 181/2000\n",
      "2/2 - 0s - loss: 8.6563 - val_loss: 8.8037\n",
      "Epoch 182/2000\n",
      "2/2 - 0s - loss: 8.5916 - val_loss: 8.7345\n",
      "Epoch 183/2000\n",
      "2/2 - 0s - loss: 8.5238 - val_loss: 8.7693\n",
      "Epoch 184/2000\n",
      "2/2 - 0s - loss: 8.5577 - val_loss: 8.6999\n",
      "Epoch 185/2000\n",
      "2/2 - 0s - loss: 8.4902 - val_loss: 8.6302\n",
      "Epoch 186/2000\n",
      "2/2 - 0s - loss: 8.4236 - val_loss: 8.6650\n",
      "Epoch 187/2000\n",
      "2/2 - 0s - loss: 8.4566 - val_loss: 8.5958\n",
      "Epoch 188/2000\n",
      "2/2 - 0s - loss: 8.3892 - val_loss: 8.5269\n",
      "Epoch 189/2000\n",
      "2/2 - 0s - loss: 8.3213 - val_loss: 8.5621\n",
      "Epoch 190/2000\n",
      "2/2 - 0s - loss: 8.3547 - val_loss: 8.4948\n",
      "Epoch 191/2000\n",
      "2/2 - 0s - loss: 8.2868 - val_loss: 8.4268\n",
      "Epoch 192/2000\n",
      "2/2 - 0s - loss: 8.2176 - val_loss: 8.4601\n",
      "Epoch 193/2000\n",
      "2/2 - 0s - loss: 8.2526 - val_loss: 8.3912\n",
      "Epoch 194/2000\n",
      "2/2 - 0s - loss: 8.1830 - val_loss: 8.3227\n",
      "Epoch 195/2000\n",
      "2/2 - 0s - loss: 8.1143 - val_loss: 8.3574\n",
      "Epoch 196/2000\n",
      "2/2 - 0s - loss: 8.1487 - val_loss: 8.2899\n",
      "Epoch 197/2000\n",
      "2/2 - 0s - loss: 8.0789 - val_loss: 8.2221\n",
      "Epoch 198/2000\n",
      "2/2 - 0s - loss: 8.0093 - val_loss: 8.2557\n",
      "Epoch 199/2000\n",
      "2/2 - 0s - loss: 8.0444 - val_loss: 8.1871\n",
      "Epoch 200/2000\n",
      "2/2 - 0s - loss: 7.9733 - val_loss: 8.1173\n",
      "Epoch 201/2000\n",
      "2/2 - 0s - loss: 7.9027 - val_loss: 8.1506\n",
      "Epoch 202/2000\n",
      "2/2 - 0s - loss: 7.9376 - val_loss: 8.0775\n",
      "Epoch 203/2000\n",
      "2/2 - 0s - loss: 7.8658 - val_loss: 8.0040\n",
      "Epoch 204/2000\n",
      "2/2 - 0s - loss: 7.7933 - val_loss: 8.0401\n",
      "Epoch 205/2000\n",
      "2/2 - 0s - loss: 7.8302 - val_loss: 7.9646\n",
      "Epoch 206/2000\n",
      "2/2 - 0s - loss: 7.7564 - val_loss: 7.8898\n",
      "Epoch 207/2000\n",
      "2/2 - 0s - loss: 7.6842 - val_loss: 7.9276\n",
      "Epoch 208/2000\n",
      "2/2 - 0s - loss: 7.7198 - val_loss: 7.8525\n",
      "Epoch 209/2000\n",
      "2/2 - 0s - loss: 7.6471 - val_loss: 7.7764\n",
      "Epoch 210/2000\n",
      "2/2 - 0s - loss: 7.5730 - val_loss: 7.8145\n",
      "Epoch 211/2000\n",
      "2/2 - 0s - loss: 7.6094 - val_loss: 7.7391\n",
      "Epoch 212/2000\n",
      "2/2 - 0s - loss: 7.5351 - val_loss: 7.6618\n",
      "Epoch 213/2000\n",
      "2/2 - 0s - loss: 7.4600 - val_loss: 7.6994\n",
      "Epoch 214/2000\n",
      "2/2 - 0s - loss: 7.4975 - val_loss: 7.6211\n",
      "Epoch 215/2000\n",
      "2/2 - 0s - loss: 7.4224 - val_loss: 7.5433\n",
      "Epoch 216/2000\n",
      "2/2 - 0s - loss: 7.3465 - val_loss: 7.5827\n",
      "Epoch 217/2000\n",
      "2/2 - 0s - loss: 7.3851 - val_loss: 7.5054\n",
      "Epoch 218/2000\n",
      "2/2 - 0s - loss: 7.3096 - val_loss: 7.4290\n",
      "Epoch 219/2000\n",
      "2/2 - 0s - loss: 7.2339 - val_loss: 7.4683\n",
      "Epoch 220/2000\n",
      "2/2 - 0s - loss: 7.2716 - val_loss: 7.3936\n",
      "Epoch 221/2000\n",
      "2/2 - 0s - loss: 7.1962 - val_loss: 7.3189\n",
      "Epoch 222/2000\n",
      "2/2 - 0s - loss: 7.1204 - val_loss: 7.3563\n",
      "Epoch 223/2000\n",
      "2/2 - 0s - loss: 7.1580 - val_loss: 7.2811\n",
      "Epoch 224/2000\n",
      "2/2 - 0s - loss: 7.0822 - val_loss: 7.2049\n",
      "Epoch 225/2000\n",
      "2/2 - 0s - loss: 7.0047 - val_loss: 7.2422\n",
      "Epoch 226/2000\n",
      "2/2 - 0s - loss: 7.0427 - val_loss: 7.1647\n",
      "Epoch 227/2000\n",
      "2/2 - 0s - loss: 6.9665 - val_loss: 7.0868\n",
      "Epoch 228/2000\n",
      "2/2 - 0s - loss: 6.8876 - val_loss: 7.1260\n",
      "Epoch 229/2000\n",
      "2/2 - 0s - loss: 6.9272 - val_loss: 7.0487\n",
      "Epoch 230/2000\n",
      "2/2 - 0s - loss: 6.8481 - val_loss: 6.9711\n",
      "Epoch 231/2000\n",
      "2/2 - 0s - loss: 6.7704 - val_loss: 7.0093\n",
      "Epoch 232/2000\n",
      "2/2 - 0s - loss: 6.8097 - val_loss: 6.9320\n",
      "Epoch 233/2000\n",
      "2/2 - 0s - loss: 6.7305 - val_loss: 6.8555\n",
      "Epoch 234/2000\n",
      "2/2 - 0s - loss: 6.6515 - val_loss: 6.8938\n",
      "Epoch 235/2000\n",
      "2/2 - 0s - loss: 6.6917 - val_loss: 6.8157\n",
      "Epoch 236/2000\n",
      "2/2 - 0s - loss: 6.6119 - val_loss: 6.7373\n",
      "Epoch 237/2000\n",
      "2/2 - 0s - loss: 6.5331 - val_loss: 6.7761\n",
      "Epoch 238/2000\n",
      "2/2 - 0s - loss: 6.5726 - val_loss: 6.6974\n",
      "Epoch 239/2000\n",
      "2/2 - 0s - loss: 6.4932 - val_loss: 6.6178\n",
      "Epoch 240/2000\n",
      "2/2 - 0s - loss: 6.4139 - val_loss: 6.6563\n",
      "Epoch 241/2000\n",
      "2/2 - 0s - loss: 6.4540 - val_loss: 6.5764\n",
      "Epoch 242/2000\n",
      "2/2 - 0s - loss: 6.3740 - val_loss: 6.4982\n",
      "Epoch 243/2000\n",
      "2/2 - 0s - loss: 6.2940 - val_loss: 6.5383\n",
      "Epoch 244/2000\n",
      "2/2 - 0s - loss: 6.3336 - val_loss: 6.4598\n",
      "Epoch 245/2000\n",
      "2/2 - 0s - loss: 6.2544 - val_loss: 6.3803\n",
      "Epoch 246/2000\n",
      "2/2 - 0s - loss: 6.1744 - val_loss: 6.4195\n",
      "Epoch 247/2000\n",
      "2/2 - 0s - loss: 6.2149 - val_loss: 6.3404\n",
      "Epoch 248/2000\n",
      "2/2 - 0s - loss: 6.1343 - val_loss: 6.2622\n",
      "Epoch 249/2000\n",
      "2/2 - 0s - loss: 6.0543 - val_loss: 6.3012\n",
      "Epoch 250/2000\n",
      "2/2 - 0s - loss: 6.0944 - val_loss: 6.2207\n",
      "Epoch 251/2000\n",
      "2/2 - 0s - loss: 6.0145 - val_loss: 6.1397\n",
      "Epoch 252/2000\n",
      "2/2 - 0s - loss: 5.9345 - val_loss: 6.1808\n",
      "Epoch 253/2000\n",
      "2/2 - 0s - loss: 5.9752 - val_loss: 6.1028\n",
      "Epoch 254/2000\n",
      "2/2 - 0s - loss: 5.8939 - val_loss: 6.0252\n",
      "Epoch 255/2000\n",
      "2/2 - 0s - loss: 5.8142 - val_loss: 6.0640\n",
      "Epoch 256/2000\n",
      "2/2 - 0s - loss: 5.8545 - val_loss: 5.9860\n",
      "Epoch 257/2000\n",
      "2/2 - 0s - loss: 5.7744 - val_loss: 5.9078\n",
      "Epoch 258/2000\n",
      "2/2 - 0s - loss: 5.6940 - val_loss: 5.9463\n",
      "Epoch 259/2000\n",
      "2/2 - 0s - loss: 5.7334 - val_loss: 5.8659\n",
      "Epoch 260/2000\n",
      "2/2 - 0s - loss: 5.6533 - val_loss: 5.7854\n",
      "Epoch 261/2000\n",
      "2/2 - 0s - loss: 5.5731 - val_loss: 5.8253\n",
      "Epoch 262/2000\n",
      "2/2 - 0s - loss: 5.6132 - val_loss: 5.7449\n",
      "Epoch 263/2000\n",
      "2/2 - 0s - loss: 5.5324 - val_loss: 5.6655\n",
      "Epoch 264/2000\n",
      "2/2 - 0s - loss: 5.4526 - val_loss: 5.7056\n",
      "Epoch 265/2000\n",
      "2/2 - 0s - loss: 5.4914 - val_loss: 5.6259\n",
      "Epoch 266/2000\n",
      "2/2 - 0s - loss: 5.4123 - val_loss: 5.5457\n",
      "Epoch 267/2000\n",
      "2/2 - 0s - loss: 5.3313 - val_loss: 5.5860\n",
      "Epoch 268/2000\n",
      "2/2 - 0s - loss: 5.3708 - val_loss: 5.5068\n",
      "Epoch 269/2000\n",
      "2/2 - 0s - loss: 5.2917 - val_loss: 5.4267\n",
      "Epoch 270/2000\n",
      "2/2 - 0s - loss: 5.2105 - val_loss: 5.4666\n",
      "Epoch 271/2000\n",
      "2/2 - 0s - loss: 5.2514 - val_loss: 5.3877\n",
      "Epoch 272/2000\n",
      "2/2 - 0s - loss: 5.1715 - val_loss: 5.3094\n",
      "Epoch 273/2000\n",
      "2/2 - 0s - loss: 5.0908 - val_loss: 5.3482\n",
      "Epoch 274/2000\n",
      "2/2 - 0s - loss: 5.1323 - val_loss: 5.2690\n",
      "Epoch 275/2000\n",
      "2/2 - 0s - loss: 5.0523 - val_loss: 5.1916\n",
      "Epoch 276/2000\n",
      "2/2 - 0s - loss: 4.9728 - val_loss: 5.2316\n",
      "Epoch 277/2000\n",
      "2/2 - 0s - loss: 5.0130 - val_loss: 5.1559\n",
      "Epoch 278/2000\n",
      "2/2 - 0s - loss: 4.9336 - val_loss: 5.0789\n",
      "Epoch 279/2000\n",
      "2/2 - 0s - loss: 4.8560 - val_loss: 5.1156\n",
      "Epoch 280/2000\n",
      "2/2 - 0s - loss: 4.8939 - val_loss: 5.0373\n",
      "Epoch 281/2000\n"
     ]
    },
    {
     "name": "stdout",
     "output_type": "stream",
     "text": [
      "2/2 - 0s - loss: 4.8156 - val_loss: 4.9584\n",
      "Epoch 282/2000\n",
      "2/2 - 0s - loss: 4.7366 - val_loss: 4.9973\n",
      "Epoch 283/2000\n",
      "2/2 - 0s - loss: 4.7761 - val_loss: 4.9190\n",
      "Epoch 284/2000\n",
      "2/2 - 0s - loss: 4.6960 - val_loss: 4.8402\n",
      "Epoch 285/2000\n",
      "2/2 - 0s - loss: 4.6180 - val_loss: 4.8778\n",
      "Epoch 286/2000\n",
      "2/2 - 0s - loss: 4.6560 - val_loss: 4.7948\n",
      "Epoch 287/2000\n",
      "2/2 - 0s - loss: 4.5778 - val_loss: 4.7114\n",
      "Epoch 288/2000\n",
      "2/2 - 0s - loss: 4.4972 - val_loss: 4.7528\n",
      "Epoch 289/2000\n",
      "2/2 - 0s - loss: 4.5377 - val_loss: 4.6701\n",
      "Epoch 290/2000\n",
      "2/2 - 0s - loss: 4.4589 - val_loss: 4.5889\n",
      "Epoch 291/2000\n",
      "2/2 - 0s - loss: 4.3802 - val_loss: 4.6308\n",
      "Epoch 292/2000\n",
      "2/2 - 0s - loss: 4.4191 - val_loss: 4.5519\n",
      "Epoch 293/2000\n",
      "2/2 - 0s - loss: 4.3415 - val_loss: 4.4737\n",
      "Epoch 294/2000\n",
      "2/2 - 0s - loss: 4.2628 - val_loss: 4.5134\n",
      "Epoch 295/2000\n",
      "2/2 - 0s - loss: 4.3024 - val_loss: 4.4350\n",
      "Epoch 296/2000\n",
      "2/2 - 0s - loss: 4.2244 - val_loss: 4.3565\n",
      "Epoch 297/2000\n",
      "2/2 - 0s - loss: 4.1460 - val_loss: 4.3953\n",
      "Epoch 298/2000\n",
      "2/2 - 0s - loss: 4.1857 - val_loss: 4.3159\n",
      "Epoch 299/2000\n",
      "2/2 - 0s - loss: 4.1090 - val_loss: 4.2378\n",
      "Epoch 300/2000\n",
      "2/2 - 0s - loss: 4.0311 - val_loss: 4.2780\n",
      "Epoch 301/2000\n",
      "2/2 - 0s - loss: 4.0709 - val_loss: 4.2016\n",
      "Epoch 302/2000\n",
      "2/2 - 0s - loss: 3.9939 - val_loss: 4.1257\n",
      "Epoch 303/2000\n",
      "2/2 - 0s - loss: 3.9187 - val_loss: 4.1639\n",
      "Epoch 304/2000\n",
      "2/2 - 0s - loss: 3.9565 - val_loss: 4.0895\n",
      "Epoch 305/2000\n",
      "2/2 - 0s - loss: 3.8807 - val_loss: 4.0141\n",
      "Epoch 306/2000\n",
      "2/2 - 0s - loss: 3.8070 - val_loss: 4.0509\n",
      "Epoch 307/2000\n",
      "2/2 - 0s - loss: 3.8446 - val_loss: 3.9765\n",
      "Epoch 308/2000\n",
      "2/2 - 0s - loss: 3.7698 - val_loss: 3.9029\n",
      "Epoch 309/2000\n",
      "2/2 - 0s - loss: 3.6968 - val_loss: 3.9399\n",
      "Epoch 310/2000\n",
      "2/2 - 0s - loss: 3.7337 - val_loss: 3.8676\n",
      "Epoch 311/2000\n",
      "2/2 - 0s - loss: 3.6617 - val_loss: 3.7961\n",
      "Epoch 312/2000\n",
      "2/2 - 0s - loss: 3.5891 - val_loss: 3.8324\n",
      "Epoch 313/2000\n",
      "2/2 - 0s - loss: 3.6253 - val_loss: 3.7621\n",
      "Epoch 314/2000\n",
      "2/2 - 0s - loss: 3.5545 - val_loss: 3.6917\n",
      "Epoch 315/2000\n",
      "2/2 - 0s - loss: 3.4832 - val_loss: 3.7265\n",
      "Epoch 316/2000\n",
      "2/2 - 0s - loss: 3.5193 - val_loss: 3.6570\n",
      "Epoch 317/2000\n",
      "2/2 - 0s - loss: 3.4487 - val_loss: 3.5889\n",
      "Epoch 318/2000\n",
      "2/2 - 0s - loss: 3.3793 - val_loss: 3.6238\n",
      "Epoch 319/2000\n",
      "2/2 - 0s - loss: 3.4143 - val_loss: 3.5570\n",
      "Epoch 320/2000\n",
      "2/2 - 0s - loss: 3.3452 - val_loss: 3.4899\n",
      "Epoch 321/2000\n",
      "2/2 - 0s - loss: 3.2773 - val_loss: 3.5230\n",
      "Epoch 322/2000\n",
      "2/2 - 0s - loss: 3.3115 - val_loss: 3.4572\n",
      "Epoch 323/2000\n",
      "2/2 - 0s - loss: 3.2435 - val_loss: 3.3909\n",
      "Epoch 324/2000\n",
      "2/2 - 0s - loss: 3.1765 - val_loss: 3.4230\n",
      "Epoch 325/2000\n",
      "2/2 - 0s - loss: 3.2099 - val_loss: 3.3562\n",
      "Epoch 326/2000\n",
      "2/2 - 0s - loss: 3.1435 - val_loss: 3.2907\n",
      "Epoch 327/2000\n",
      "2/2 - 0s - loss: 3.0774 - val_loss: 3.3239\n",
      "Epoch 328/2000\n",
      "2/2 - 0s - loss: 3.1105 - val_loss: 3.2586\n",
      "Epoch 329/2000\n",
      "2/2 - 0s - loss: 3.0447 - val_loss: 3.1933\n",
      "Epoch 330/2000\n",
      "2/2 - 0s - loss: 2.9799 - val_loss: 3.2255\n",
      "Epoch 331/2000\n",
      "2/2 - 0s - loss: 3.0124 - val_loss: 3.1591\n",
      "Epoch 332/2000\n",
      "2/2 - 0s - loss: 2.9486 - val_loss: 3.0934\n",
      "Epoch 333/2000\n",
      "2/2 - 0s - loss: 2.8838 - val_loss: 3.1264\n",
      "Epoch 334/2000\n",
      "2/2 - 0s - loss: 2.9160 - val_loss: 3.0612\n",
      "Epoch 335/2000\n",
      "2/2 - 0s - loss: 2.8535 - val_loss: 2.9967\n",
      "Epoch 336/2000\n",
      "2/2 - 0s - loss: 2.7915 - val_loss: 3.0293\n",
      "Epoch 337/2000\n",
      "2/2 - 0s - loss: 2.8216 - val_loss: 2.9663\n",
      "Epoch 338/2000\n",
      "2/2 - 0s - loss: 2.7606 - val_loss: 2.9031\n",
      "Epoch 339/2000\n",
      "2/2 - 0s - loss: 2.7000 - val_loss: 2.9341\n",
      "Epoch 340/2000\n",
      "2/2 - 0s - loss: 2.7298 - val_loss: 2.8708\n",
      "Epoch 341/2000\n",
      "2/2 - 0s - loss: 2.6705 - val_loss: 2.8076\n",
      "Epoch 342/2000\n",
      "2/2 - 0s - loss: 2.6099 - val_loss: 2.8395\n",
      "Epoch 343/2000\n",
      "2/2 - 0s - loss: 2.6404 - val_loss: 2.7784\n",
      "Epoch 344/2000\n",
      "2/2 - 0s - loss: 2.5811 - val_loss: 2.7183\n",
      "Epoch 345/2000\n",
      "2/2 - 0s - loss: 2.5235 - val_loss: 2.7487\n",
      "Epoch 346/2000\n",
      "2/2 - 0s - loss: 2.5530 - val_loss: 2.6899\n",
      "Epoch 347/2000\n",
      "2/2 - 0s - loss: 2.4963 - val_loss: 2.6325\n",
      "Epoch 348/2000\n",
      "2/2 - 0s - loss: 2.4395 - val_loss: 2.6622\n",
      "Epoch 349/2000\n",
      "2/2 - 0s - loss: 2.4683 - val_loss: 2.6073\n",
      "Epoch 350/2000\n",
      "2/2 - 0s - loss: 2.4127 - val_loss: 2.5533\n",
      "Epoch 351/2000\n",
      "2/2 - 0s - loss: 2.3582 - val_loss: 2.5797\n",
      "Epoch 352/2000\n",
      "2/2 - 0s - loss: 2.3864 - val_loss: 2.5252\n",
      "Epoch 353/2000\n",
      "2/2 - 0s - loss: 2.3316 - val_loss: 2.4727\n",
      "Epoch 354/2000\n",
      "2/2 - 0s - loss: 2.2791 - val_loss: 2.4995\n",
      "Epoch 355/2000\n",
      "2/2 - 0s - loss: 2.3065 - val_loss: 2.4478\n",
      "Epoch 356/2000\n",
      "2/2 - 0s - loss: 2.2537 - val_loss: 2.3962\n",
      "Epoch 357/2000\n",
      "2/2 - 0s - loss: 2.2028 - val_loss: 2.4209\n",
      "Epoch 358/2000\n",
      "2/2 - 0s - loss: 2.2282 - val_loss: 2.3682\n",
      "Epoch 359/2000\n",
      "2/2 - 0s - loss: 2.1777 - val_loss: 2.3164\n",
      "Epoch 360/2000\n",
      "2/2 - 0s - loss: 2.1270 - val_loss: 2.3427\n",
      "Epoch 361/2000\n",
      "2/2 - 0s - loss: 2.1535 - val_loss: 2.2920\n",
      "Epoch 362/2000\n",
      "2/2 - 0s - loss: 2.1025 - val_loss: 2.2428\n",
      "Epoch 363/2000\n",
      "2/2 - 0s - loss: 2.0547 - val_loss: 2.2675\n",
      "Epoch 364/2000\n",
      "2/2 - 0s - loss: 2.0792 - val_loss: 2.2181\n",
      "Epoch 365/2000\n",
      "2/2 - 0s - loss: 2.0313 - val_loss: 2.1696\n",
      "Epoch 366/2000\n",
      "2/2 - 0s - loss: 1.9841 - val_loss: 2.1941\n",
      "Epoch 367/2000\n",
      "2/2 - 0s - loss: 2.0086 - val_loss: 2.1468\n",
      "Epoch 368/2000\n",
      "2/2 - 0s - loss: 1.9616 - val_loss: 2.1008\n",
      "Epoch 369/2000\n",
      "2/2 - 0s - loss: 1.9168 - val_loss: 2.1237\n",
      "Epoch 370/2000\n",
      "2/2 - 0s - loss: 1.9398 - val_loss: 2.0774\n",
      "Epoch 371/2000\n",
      "2/2 - 0s - loss: 1.8955 - val_loss: 2.0330\n",
      "Epoch 372/2000\n",
      "2/2 - 0s - loss: 1.8516 - val_loss: 2.0558\n",
      "Epoch 373/2000\n",
      "2/2 - 0s - loss: 1.8739 - val_loss: 2.0119\n",
      "Epoch 374/2000\n",
      "2/2 - 0s - loss: 1.8315 - val_loss: 1.9686\n",
      "Epoch 375/2000\n",
      "2/2 - 0s - loss: 1.7890 - val_loss: 1.9901\n",
      "Epoch 376/2000\n",
      "2/2 - 0s - loss: 1.8099 - val_loss: 1.9465\n",
      "Epoch 377/2000\n",
      "2/2 - 0s - loss: 1.7692 - val_loss: 1.9040\n",
      "Epoch 378/2000\n",
      "2/2 - 0s - loss: 1.7290 - val_loss: 1.9253\n",
      "Epoch 379/2000\n",
      "2/2 - 0s - loss: 1.7494 - val_loss: 1.8837\n",
      "Epoch 380/2000\n",
      "2/2 - 0s - loss: 1.7100 - val_loss: 1.8438\n",
      "Epoch 381/2000\n",
      "2/2 - 0s - loss: 1.6708 - val_loss: 1.8649\n",
      "Epoch 382/2000\n",
      "2/2 - 0s - loss: 1.6907 - val_loss: 1.8270\n",
      "Epoch 383/2000\n",
      "2/2 - 0s - loss: 1.6530 - val_loss: 1.7888\n",
      "Epoch 384/2000\n",
      "2/2 - 0s - loss: 1.6154 - val_loss: 1.8072\n",
      "Epoch 385/2000\n",
      "2/2 - 0s - loss: 1.6344 - val_loss: 1.7686\n",
      "Epoch 386/2000\n",
      "2/2 - 0s - loss: 1.5971 - val_loss: 1.7307\n",
      "Epoch 387/2000\n",
      "2/2 - 0s - loss: 1.5617 - val_loss: 1.7494\n",
      "Epoch 388/2000\n",
      "2/2 - 0s - loss: 1.5796 - val_loss: 1.7118\n",
      "Epoch 389/2000\n",
      "2/2 - 0s - loss: 1.5444 - val_loss: 1.6746\n",
      "Epoch 390/2000\n",
      "2/2 - 0s - loss: 1.5097 - val_loss: 1.6932\n",
      "Epoch 391/2000\n",
      "2/2 - 0s - loss: 1.5274 - val_loss: 1.6578\n",
      "Epoch 392/2000\n",
      "2/2 - 0s - loss: 1.4936 - val_loss: 1.6240\n",
      "Epoch 393/2000\n",
      "2/2 - 0s - loss: 1.4610 - val_loss: 1.6417\n",
      "Epoch 394/2000\n",
      "2/2 - 0s - loss: 1.4771 - val_loss: 1.6094\n",
      "Epoch 395/2000\n",
      "2/2 - 0s - loss: 1.4451 - val_loss: 1.5771\n",
      "Epoch 396/2000\n",
      "2/2 - 0s - loss: 1.4138 - val_loss: 1.5926\n",
      "Epoch 397/2000\n",
      "2/2 - 0s - loss: 1.4298 - val_loss: 1.5602\n",
      "Epoch 398/2000\n",
      "2/2 - 0s - loss: 1.3989 - val_loss: 1.5287\n",
      "Epoch 399/2000\n",
      "2/2 - 0s - loss: 1.3689 - val_loss: 1.5448\n",
      "Epoch 400/2000\n",
      "2/2 - 0s - loss: 1.3837 - val_loss: 1.5146\n",
      "Epoch 401/2000\n",
      "2/2 - 0s - loss: 1.3546 - val_loss: 1.4849\n",
      "Epoch 402/2000\n",
      "2/2 - 0s - loss: 1.3256 - val_loss: 1.4995\n",
      "Epoch 403/2000\n",
      "2/2 - 0s - loss: 1.3406 - val_loss: 1.4686\n",
      "Epoch 404/2000\n",
      "2/2 - 0s - loss: 1.3121 - val_loss: 1.4382\n",
      "Epoch 405/2000\n",
      "2/2 - 0s - loss: 1.2842 - val_loss: 1.4532\n",
      "Epoch 406/2000\n",
      "2/2 - 0s - loss: 1.2982 - val_loss: 1.4225\n",
      "Epoch 407/2000\n",
      "2/2 - 0s - loss: 1.2716 - val_loss: 1.3929\n",
      "Epoch 408/2000\n",
      "2/2 - 0s - loss: 1.2453 - val_loss: 1.4084\n",
      "Epoch 409/2000\n",
      "2/2 - 0s - loss: 1.2582 - val_loss: 1.3806\n",
      "Epoch 410/2000\n",
      "2/2 - 0s - loss: 1.2328 - val_loss: 1.3536\n",
      "Epoch 411/2000\n",
      "2/2 - 0s - loss: 1.2079 - val_loss: 1.3672\n",
      "Epoch 412/2000\n",
      "2/2 - 0s - loss: 1.2206 - val_loss: 1.3411\n",
      "Epoch 413/2000\n",
      "2/2 - 0s - loss: 1.1962 - val_loss: 1.3163\n",
      "Epoch 414/2000\n",
      "2/2 - 0s - loss: 1.1725 - val_loss: 1.3290\n",
      "Epoch 415/2000\n",
      "2/2 - 0s - loss: 1.1844 - val_loss: 1.3042\n",
      "Epoch 416/2000\n",
      "2/2 - 0s - loss: 1.1613 - val_loss: 1.2797\n",
      "Epoch 417/2000\n",
      "2/2 - 0s - loss: 1.1390 - val_loss: 1.2917\n",
      "Epoch 418/2000\n",
      "2/2 - 0s - loss: 1.1506 - val_loss: 1.2677\n",
      "Epoch 419/2000\n",
      "2/2 - 0s - loss: 1.1285 - val_loss: 1.2444\n",
      "Epoch 420/2000\n",
      "2/2 - 0s - loss: 1.1073 - val_loss: 1.2558\n",
      "Epoch 421/2000\n",
      "2/2 - 0s - loss: 1.1181 - val_loss: 1.2325\n",
      "Epoch 422/2000\n",
      "2/2 - 0s - loss: 1.0976 - val_loss: 1.2103\n"
     ]
    },
    {
     "name": "stdout",
     "output_type": "stream",
     "text": [
      "Epoch 423/2000\n",
      "2/2 - 0s - loss: 1.0775 - val_loss: 1.2220\n",
      "Epoch 424/2000\n",
      "2/2 - 0s - loss: 1.0876 - val_loss: 1.2012\n",
      "Epoch 425/2000\n",
      "2/2 - 0s - loss: 1.0682 - val_loss: 1.1813\n",
      "Epoch 426/2000\n",
      "2/2 - 0s - loss: 1.0492 - val_loss: 1.1919\n",
      "Epoch 427/2000\n",
      "2/2 - 0s - loss: 1.0587 - val_loss: 1.1736\n",
      "Epoch 428/2000\n",
      "2/2 - 0s - loss: 1.0405 - val_loss: 1.1557\n",
      "Epoch 429/2000\n",
      "2/2 - 0s - loss: 1.0229 - val_loss: 1.1646\n",
      "Epoch 430/2000\n",
      "2/2 - 0s - loss: 1.0318 - val_loss: 1.1464\n",
      "Epoch 431/2000\n",
      "2/2 - 0s - loss: 1.0145 - val_loss: 1.1274\n",
      "Epoch 432/2000\n",
      "2/2 - 0s - loss: 0.9976 - val_loss: 1.1363\n",
      "Epoch 433/2000\n",
      "2/2 - 0s - loss: 1.0062 - val_loss: 1.1182\n",
      "Epoch 434/2000\n",
      "2/2 - 0s - loss: 0.9896 - val_loss: 1.1010\n",
      "Epoch 435/2000\n",
      "2/2 - 0s - loss: 0.9738 - val_loss: 1.1100\n",
      "Epoch 436/2000\n",
      "2/2 - 0s - loss: 0.9817 - val_loss: 1.0936\n",
      "Epoch 437/2000\n",
      "2/2 - 0s - loss: 0.9664 - val_loss: 1.0776\n",
      "Epoch 438/2000\n",
      "2/2 - 0s - loss: 0.9515 - val_loss: 1.0856\n",
      "Epoch 439/2000\n",
      "2/2 - 0s - loss: 0.9590 - val_loss: 1.0703\n",
      "Epoch 440/2000\n",
      "2/2 - 0s - loss: 0.9444 - val_loss: 1.0556\n",
      "Epoch 441/2000\n",
      "2/2 - 0s - loss: 0.9304 - val_loss: 1.0632\n",
      "Epoch 442/2000\n",
      "2/2 - 0s - loss: 0.9378 - val_loss: 1.0491\n",
      "Epoch 443/2000\n",
      "2/2 - 0s - loss: 0.9239 - val_loss: 1.0353\n",
      "Epoch 444/2000\n",
      "2/2 - 0s - loss: 0.9106 - val_loss: 1.0422\n",
      "Epoch 445/2000\n",
      "2/2 - 0s - loss: 0.9173 - val_loss: 1.0286\n",
      "Epoch 446/2000\n",
      "2/2 - 0s - loss: 0.9045 - val_loss: 1.0152\n",
      "Epoch 447/2000\n",
      "2/2 - 0s - loss: 0.8918 - val_loss: 1.0218\n",
      "Epoch 448/2000\n",
      "2/2 - 0s - loss: 0.8984 - val_loss: 1.0084\n",
      "Epoch 449/2000\n",
      "2/2 - 0s - loss: 0.8861 - val_loss: 0.9958\n",
      "Epoch 450/2000\n",
      "2/2 - 0s - loss: 0.8740 - val_loss: 1.0022\n",
      "Epoch 451/2000\n",
      "2/2 - 0s - loss: 0.8802 - val_loss: 0.9890\n",
      "Epoch 452/2000\n",
      "2/2 - 0s - loss: 0.8686 - val_loss: 0.9759\n",
      "Epoch 453/2000\n",
      "2/2 - 0s - loss: 0.8572 - val_loss: 0.9823\n",
      "Epoch 454/2000\n",
      "2/2 - 0s - loss: 0.8632 - val_loss: 0.9692\n",
      "Epoch 455/2000\n",
      "2/2 - 0s - loss: 0.8522 - val_loss: 0.9571\n",
      "Epoch 456/2000\n",
      "2/2 - 0s - loss: 0.8415 - val_loss: 0.9637\n",
      "Epoch 457/2000\n",
      "2/2 - 0s - loss: 0.8470 - val_loss: 0.9522\n",
      "Epoch 458/2000\n",
      "2/2 - 0s - loss: 0.8367 - val_loss: 0.9412\n",
      "Epoch 459/2000\n",
      "2/2 - 0s - loss: 0.8267 - val_loss: 0.9467\n",
      "Epoch 460/2000\n",
      "2/2 - 0s - loss: 0.8320 - val_loss: 0.9360\n",
      "Epoch 461/2000\n",
      "2/2 - 0s - loss: 0.8219 - val_loss: 0.9253\n",
      "Epoch 462/2000\n",
      "2/2 - 0s - loss: 0.8127 - val_loss: 0.9303\n",
      "Epoch 463/2000\n",
      "2/2 - 0s - loss: 0.8171 - val_loss: 0.9190\n",
      "Epoch 464/2000\n",
      "2/2 - 0s - loss: 0.8083 - val_loss: 0.9082\n",
      "Epoch 465/2000\n",
      "2/2 - 0s - loss: 0.7991 - val_loss: 0.9139\n",
      "Epoch 466/2000\n",
      "2/2 - 0s - loss: 0.8038 - val_loss: 0.9037\n",
      "Epoch 467/2000\n",
      "2/2 - 0s - loss: 0.7947 - val_loss: 0.8937\n",
      "Epoch 468/2000\n",
      "2/2 - 0s - loss: 0.7864 - val_loss: 0.8987\n",
      "Epoch 469/2000\n",
      "2/2 - 0s - loss: 0.7907 - val_loss: 0.8892\n",
      "Epoch 470/2000\n",
      "2/2 - 0s - loss: 0.7824 - val_loss: 0.8803\n",
      "Epoch 471/2000\n",
      "2/2 - 0s - loss: 0.7744 - val_loss: 0.8850\n",
      "Epoch 472/2000\n",
      "2/2 - 0s - loss: 0.7787 - val_loss: 0.8767\n",
      "Epoch 473/2000\n",
      "2/2 - 0s - loss: 0.7706 - val_loss: 0.8685\n",
      "Epoch 474/2000\n",
      "2/2 - 0s - loss: 0.7634 - val_loss: 0.8725\n",
      "Epoch 475/2000\n",
      "2/2 - 0s - loss: 0.7670 - val_loss: 0.8645\n",
      "Epoch 476/2000\n",
      "2/2 - 0s - loss: 0.7599 - val_loss: 0.8568\n",
      "Epoch 477/2000\n",
      "2/2 - 0s - loss: 0.7526 - val_loss: 0.8606\n",
      "Epoch 478/2000\n",
      "2/2 - 0s - loss: 0.7563 - val_loss: 0.8530\n",
      "Epoch 479/2000\n",
      "2/2 - 0s - loss: 0.7496 - val_loss: 0.8459\n",
      "Epoch 480/2000\n",
      "2/2 - 0s - loss: 0.7427 - val_loss: 0.8497\n",
      "Epoch 481/2000\n",
      "2/2 - 0s - loss: 0.7461 - val_loss: 0.8429\n",
      "Epoch 482/2000\n",
      "2/2 - 0s - loss: 0.7399 - val_loss: 0.8360\n",
      "Epoch 483/2000\n",
      "2/2 - 0s - loss: 0.7337 - val_loss: 0.8392\n",
      "Epoch 484/2000\n",
      "2/2 - 0s - loss: 0.7369 - val_loss: 0.8323\n",
      "Epoch 485/2000\n",
      "2/2 - 0s - loss: 0.7309 - val_loss: 0.8258\n",
      "Epoch 486/2000\n",
      "2/2 - 0s - loss: 0.7251 - val_loss: 0.8292\n",
      "Epoch 487/2000\n",
      "2/2 - 0s - loss: 0.7279 - val_loss: 0.8227\n",
      "Epoch 488/2000\n",
      "2/2 - 0s - loss: 0.7224 - val_loss: 0.8163\n",
      "Epoch 489/2000\n",
      "2/2 - 0s - loss: 0.7171 - val_loss: 0.8195\n",
      "Epoch 490/2000\n",
      "2/2 - 0s - loss: 0.7197 - val_loss: 0.8133\n",
      "Epoch 491/2000\n",
      "2/2 - 0s - loss: 0.7146 - val_loss: 0.8075\n",
      "Epoch 492/2000\n",
      "2/2 - 0s - loss: 0.7096 - val_loss: 0.8106\n",
      "Epoch 493/2000\n",
      "2/2 - 0s - loss: 0.7121 - val_loss: 0.8046\n",
      "Epoch 494/2000\n",
      "2/2 - 0s - loss: 0.7072 - val_loss: 0.7988\n",
      "Epoch 495/2000\n",
      "2/2 - 0s - loss: 0.7023 - val_loss: 0.8017\n",
      "Epoch 496/2000\n",
      "2/2 - 0s - loss: 0.7047 - val_loss: 0.7961\n",
      "Epoch 497/2000\n",
      "2/2 - 0s - loss: 0.6999 - val_loss: 0.7906\n",
      "Epoch 498/2000\n",
      "2/2 - 0s - loss: 0.6953 - val_loss: 0.7932\n",
      "Epoch 499/2000\n",
      "2/2 - 0s - loss: 0.6976 - val_loss: 0.7877\n",
      "Epoch 500/2000\n",
      "2/2 - 0s - loss: 0.6931 - val_loss: 0.7826\n",
      "Epoch 501/2000\n",
      "2/2 - 0s - loss: 0.6885 - val_loss: 0.7854\n",
      "Epoch 502/2000\n",
      "2/2 - 0s - loss: 0.6907 - val_loss: 0.7806\n",
      "Epoch 503/2000\n",
      "2/2 - 0s - loss: 0.6864 - val_loss: 0.7758\n",
      "Epoch 504/2000\n",
      "2/2 - 0s - loss: 0.6820 - val_loss: 0.7781\n",
      "Epoch 505/2000\n",
      "2/2 - 0s - loss: 0.6841 - val_loss: 0.7733\n",
      "Epoch 506/2000\n",
      "2/2 - 0s - loss: 0.6801 - val_loss: 0.7685\n",
      "Epoch 507/2000\n",
      "2/2 - 0s - loss: 0.6758 - val_loss: 0.7709\n",
      "Epoch 508/2000\n",
      "2/2 - 0s - loss: 0.6779 - val_loss: 0.7666\n",
      "Epoch 509/2000\n",
      "2/2 - 0s - loss: 0.6739 - val_loss: 0.7625\n",
      "Epoch 510/2000\n",
      "2/2 - 0s - loss: 0.6698 - val_loss: 0.7647\n",
      "Epoch 511/2000\n",
      "2/2 - 0s - loss: 0.6718 - val_loss: 0.7611\n",
      "Epoch 512/2000\n",
      "2/2 - 0s - loss: 0.6680 - val_loss: 0.7578\n",
      "Epoch 513/2000\n",
      "2/2 - 0s - loss: 0.6643 - val_loss: 0.7595\n",
      "Epoch 514/2000\n",
      "2/2 - 0s - loss: 0.6662 - val_loss: 0.7558\n",
      "Epoch 515/2000\n",
      "2/2 - 0s - loss: 0.6626 - val_loss: 0.7518\n",
      "Epoch 516/2000\n",
      "2/2 - 0s - loss: 0.6591 - val_loss: 0.7535\n",
      "Epoch 517/2000\n",
      "2/2 - 0s - loss: 0.6608 - val_loss: 0.7494\n",
      "Epoch 518/2000\n",
      "2/2 - 0s - loss: 0.6575 - val_loss: 0.7456\n",
      "Epoch 519/2000\n",
      "2/2 - 0s - loss: 0.6539 - val_loss: 0.7477\n",
      "Epoch 520/2000\n",
      "2/2 - 0s - loss: 0.6557 - val_loss: 0.7443\n",
      "Epoch 521/2000\n",
      "2/2 - 0s - loss: 0.6524 - val_loss: 0.7410\n",
      "Epoch 522/2000\n",
      "2/2 - 0s - loss: 0.6493 - val_loss: 0.7428\n",
      "Epoch 523/2000\n",
      "2/2 - 0s - loss: 0.6508 - val_loss: 0.7400\n",
      "Epoch 524/2000\n",
      "2/2 - 0s - loss: 0.6479 - val_loss: 0.7376\n",
      "Epoch 525/2000\n",
      "2/2 - 0s - loss: 0.6448 - val_loss: 0.7388\n",
      "Epoch 526/2000\n",
      "2/2 - 0s - loss: 0.6463 - val_loss: 0.7358\n",
      "Epoch 527/2000\n",
      "2/2 - 0s - loss: 0.6434 - val_loss: 0.7330\n",
      "Epoch 528/2000\n",
      "2/2 - 0s - loss: 0.6405 - val_loss: 0.7345\n",
      "Epoch 529/2000\n",
      "2/2 - 0s - loss: 0.6418 - val_loss: 0.7318\n",
      "Epoch 530/2000\n",
      "2/2 - 0s - loss: 0.6391 - val_loss: 0.7290\n",
      "Epoch 531/2000\n",
      "2/2 - 0s - loss: 0.6362 - val_loss: 0.7302\n",
      "Epoch 532/2000\n",
      "2/2 - 0s - loss: 0.6376 - val_loss: 0.7274\n",
      "Epoch 533/2000\n",
      "2/2 - 0s - loss: 0.6349 - val_loss: 0.7245\n",
      "Epoch 534/2000\n",
      "2/2 - 0s - loss: 0.6321 - val_loss: 0.7258\n",
      "Epoch 535/2000\n",
      "2/2 - 0s - loss: 0.6335 - val_loss: 0.7224\n",
      "Epoch 536/2000\n",
      "2/2 - 0s - loss: 0.6308 - val_loss: 0.7189\n",
      "Epoch 537/2000\n",
      "2/2 - 0s - loss: 0.6282 - val_loss: 0.7206\n",
      "Epoch 538/2000\n",
      "2/2 - 0s - loss: 0.6295 - val_loss: 0.7176\n",
      "Epoch 539/2000\n",
      "2/2 - 0s - loss: 0.6270 - val_loss: 0.7146\n",
      "Epoch 540/2000\n",
      "2/2 - 0s - loss: 0.6246 - val_loss: 0.7161\n",
      "Epoch 541/2000\n",
      "2/2 - 0s - loss: 0.6258 - val_loss: 0.7134\n",
      "Epoch 542/2000\n",
      "2/2 - 0s - loss: 0.6234 - val_loss: 0.7109\n",
      "Epoch 543/2000\n",
      "2/2 - 0s - loss: 0.6211 - val_loss: 0.7123\n",
      "Epoch 544/2000\n",
      "2/2 - 0s - loss: 0.6223 - val_loss: 0.7098\n",
      "Epoch 545/2000\n",
      "2/2 - 0s - loss: 0.6200 - val_loss: 0.7073\n",
      "Epoch 546/2000\n",
      "2/2 - 0s - loss: 0.6176 - val_loss: 0.7086\n",
      "Epoch 547/2000\n",
      "2/2 - 0s - loss: 0.6188 - val_loss: 0.7063\n",
      "Epoch 548/2000\n",
      "2/2 - 0s - loss: 0.6166 - val_loss: 0.7039\n",
      "Epoch 549/2000\n",
      "2/2 - 0s - loss: 0.6143 - val_loss: 0.7051\n",
      "Epoch 550/2000\n",
      "2/2 - 0s - loss: 0.6154 - val_loss: 0.7029\n",
      "Epoch 551/2000\n",
      "2/2 - 0s - loss: 0.6133 - val_loss: 0.7007\n",
      "Epoch 552/2000\n",
      "2/2 - 0s - loss: 0.6112 - val_loss: 0.7017\n",
      "Epoch 553/2000\n",
      "2/2 - 0s - loss: 0.6122 - val_loss: 0.6994\n",
      "Epoch 554/2000\n",
      "2/2 - 0s - loss: 0.6101 - val_loss: 0.6975\n",
      "Epoch 555/2000\n",
      "2/2 - 0s - loss: 0.6080 - val_loss: 0.6987\n",
      "Epoch 556/2000\n",
      "2/2 - 0s - loss: 0.6091 - val_loss: 0.6970\n",
      "Epoch 557/2000\n",
      "2/2 - 0s - loss: 0.6071 - val_loss: 0.6950\n",
      "Epoch 558/2000\n",
      "2/2 - 0s - loss: 0.6051 - val_loss: 0.6958\n",
      "Epoch 559/2000\n",
      "2/2 - 0s - loss: 0.6061 - val_loss: 0.6936\n",
      "Epoch 560/2000\n",
      "2/2 - 0s - loss: 0.6041 - val_loss: 0.6915\n",
      "Epoch 561/2000\n",
      "2/2 - 0s - loss: 0.6023 - val_loss: 0.6925\n",
      "Epoch 562/2000\n",
      "2/2 - 0s - loss: 0.6032 - val_loss: 0.6903\n",
      "Epoch 563/2000\n",
      "2/2 - 0s - loss: 0.6015 - val_loss: 0.6885\n",
      "Epoch 564/2000\n"
     ]
    },
    {
     "name": "stdout",
     "output_type": "stream",
     "text": [
      "2/2 - 0s - loss: 0.5996 - val_loss: 0.6898\n",
      "Epoch 565/2000\n",
      "2/2 - 0s - loss: 0.6004 - val_loss: 0.6885\n",
      "Epoch 566/2000\n",
      "2/2 - 0s - loss: 0.5987 - val_loss: 0.6870\n",
      "Epoch 567/2000\n",
      "2/2 - 0s - loss: 0.5969 - val_loss: 0.6877\n",
      "Epoch 568/2000\n",
      "2/2 - 0s - loss: 0.5977 - val_loss: 0.6861\n",
      "Epoch 569/2000\n",
      "2/2 - 0s - loss: 0.5960 - val_loss: 0.6845\n",
      "Epoch 570/2000\n",
      "2/2 - 0s - loss: 0.5942 - val_loss: 0.6853\n",
      "Epoch 571/2000\n",
      "2/2 - 0s - loss: 0.5950 - val_loss: 0.6836\n",
      "Epoch 572/2000\n",
      "2/2 - 0s - loss: 0.5933 - val_loss: 0.6821\n",
      "Epoch 573/2000\n",
      "2/2 - 0s - loss: 0.5915 - val_loss: 0.6831\n",
      "Epoch 574/2000\n",
      "2/2 - 0s - loss: 0.5923 - val_loss: 0.6821\n",
      "Epoch 575/2000\n",
      "2/2 - 0s - loss: 0.5907 - val_loss: 0.6811\n",
      "Epoch 576/2000\n",
      "2/2 - 0s - loss: 0.5890 - val_loss: 0.6814\n",
      "Epoch 577/2000\n",
      "2/2 - 0s - loss: 0.5898 - val_loss: 0.6796\n",
      "Epoch 578/2000\n",
      "2/2 - 0s - loss: 0.5881 - val_loss: 0.6775\n",
      "Epoch 579/2000\n",
      "2/2 - 0s - loss: 0.5864 - val_loss: 0.6785\n",
      "Epoch 580/2000\n",
      "2/2 - 0s - loss: 0.5873 - val_loss: 0.6767\n",
      "Epoch 581/2000\n",
      "2/2 - 0s - loss: 0.5856 - val_loss: 0.6752\n",
      "Epoch 582/2000\n",
      "2/2 - 0s - loss: 0.5839 - val_loss: 0.6761\n",
      "Epoch 583/2000\n",
      "2/2 - 0s - loss: 0.5848 - val_loss: 0.6746\n",
      "Epoch 584/2000\n",
      "2/2 - 0s - loss: 0.5832 - val_loss: 0.6729\n",
      "Epoch 585/2000\n",
      "2/2 - 0s - loss: 0.5817 - val_loss: 0.6735\n",
      "Epoch 586/2000\n",
      "2/2 - 0s - loss: 0.5825 - val_loss: 0.6715\n",
      "Epoch 587/2000\n",
      "2/2 - 0s - loss: 0.5810 - val_loss: 0.6697\n",
      "Epoch 588/2000\n",
      "2/2 - 0s - loss: 0.5795 - val_loss: 0.6708\n",
      "Epoch 589/2000\n",
      "2/2 - 0s - loss: 0.5802 - val_loss: 0.6693\n",
      "Epoch 590/2000\n",
      "2/2 - 0s - loss: 0.5788 - val_loss: 0.6677\n",
      "Epoch 591/2000\n",
      "2/2 - 0s - loss: 0.5773 - val_loss: 0.6684\n",
      "Epoch 592/2000\n",
      "2/2 - 0s - loss: 0.5780 - val_loss: 0.6670\n",
      "Epoch 593/2000\n",
      "2/2 - 0s - loss: 0.5766 - val_loss: 0.6658\n",
      "Epoch 594/2000\n",
      "2/2 - 0s - loss: 0.5752 - val_loss: 0.6664\n",
      "Epoch 595/2000\n",
      "2/2 - 0s - loss: 0.5759 - val_loss: 0.6651\n",
      "Epoch 596/2000\n",
      "2/2 - 0s - loss: 0.5744 - val_loss: 0.6640\n",
      "Epoch 597/2000\n",
      "2/2 - 0s - loss: 0.5730 - val_loss: 0.6647\n",
      "Epoch 598/2000\n",
      "2/2 - 0s - loss: 0.5737 - val_loss: 0.6639\n",
      "Epoch 599/2000\n",
      "2/2 - 0s - loss: 0.5723 - val_loss: 0.6630\n",
      "Epoch 600/2000\n",
      "2/2 - 0s - loss: 0.5710 - val_loss: 0.6635\n",
      "Epoch 601/2000\n",
      "2/2 - 0s - loss: 0.5716 - val_loss: 0.6629\n",
      "Epoch 602/2000\n",
      "2/2 - 0s - loss: 0.5703 - val_loss: 0.6623\n",
      "Epoch 603/2000\n",
      "2/2 - 0s - loss: 0.5690 - val_loss: 0.6625\n",
      "Epoch 604/2000\n",
      "2/2 - 0s - loss: 0.5697 - val_loss: 0.6616\n",
      "Epoch 605/2000\n",
      "2/2 - 0s - loss: 0.5684 - val_loss: 0.6606\n",
      "Epoch 606/2000\n",
      "2/2 - 0s - loss: 0.5672 - val_loss: 0.6610\n",
      "Epoch 607/2000\n",
      "2/2 - 0s - loss: 0.5678 - val_loss: 0.6598\n",
      "Epoch 608/2000\n",
      "2/2 - 0s - loss: 0.5666 - val_loss: 0.6585\n",
      "Epoch 609/2000\n",
      "2/2 - 0s - loss: 0.5653 - val_loss: 0.6590\n",
      "Epoch 610/2000\n",
      "2/2 - 0s - loss: 0.5659 - val_loss: 0.6574\n",
      "Epoch 611/2000\n",
      "2/2 - 0s - loss: 0.5647 - val_loss: 0.6555\n",
      "Epoch 612/2000\n",
      "2/2 - 0s - loss: 0.5635 - val_loss: 0.6563\n",
      "Epoch 613/2000\n",
      "2/2 - 0s - loss: 0.5641 - val_loss: 0.6544\n",
      "Epoch 614/2000\n",
      "2/2 - 0s - loss: 0.5629 - val_loss: 0.6527\n",
      "Epoch 615/2000\n",
      "2/2 - 0s - loss: 0.5618 - val_loss: 0.6537\n",
      "Epoch 616/2000\n",
      "2/2 - 0s - loss: 0.5623 - val_loss: 0.6522\n",
      "Epoch 617/2000\n",
      "2/2 - 0s - loss: 0.5612 - val_loss: 0.6510\n",
      "Epoch 618/2000\n",
      "2/2 - 0s - loss: 0.5601 - val_loss: 0.6519\n",
      "Epoch 619/2000\n",
      "2/2 - 0s - loss: 0.5606 - val_loss: 0.6510\n",
      "Epoch 620/2000\n",
      "2/2 - 0s - loss: 0.5595 - val_loss: 0.6502\n",
      "Epoch 621/2000\n",
      "2/2 - 0s - loss: 0.5584 - val_loss: 0.6505\n",
      "Epoch 622/2000\n",
      "2/2 - 0s - loss: 0.5590 - val_loss: 0.6494\n",
      "Epoch 623/2000\n",
      "2/2 - 0s - loss: 0.5578 - val_loss: 0.6487\n",
      "Epoch 624/2000\n",
      "2/2 - 0s - loss: 0.5567 - val_loss: 0.6492\n",
      "Epoch 625/2000\n",
      "2/2 - 0s - loss: 0.5573 - val_loss: 0.6482\n",
      "Epoch 626/2000\n",
      "2/2 - 0s - loss: 0.5562 - val_loss: 0.6475\n",
      "Epoch 627/2000\n",
      "2/2 - 0s - loss: 0.5551 - val_loss: 0.6479\n",
      "Epoch 628/2000\n",
      "2/2 - 0s - loss: 0.5557 - val_loss: 0.6473\n",
      "Epoch 629/2000\n",
      "2/2 - 0s - loss: 0.5548 - val_loss: 0.6465\n",
      "Epoch 630/2000\n",
      "2/2 - 0s - loss: 0.5536 - val_loss: 0.6465\n",
      "Epoch 631/2000\n",
      "2/2 - 0s - loss: 0.5540 - val_loss: 0.6454\n",
      "Epoch 632/2000\n",
      "2/2 - 0s - loss: 0.5531 - val_loss: 0.6443\n",
      "Epoch 633/2000\n",
      "2/2 - 0s - loss: 0.5520 - val_loss: 0.6449\n",
      "Epoch 634/2000\n",
      "2/2 - 0s - loss: 0.5525 - val_loss: 0.6438\n",
      "Epoch 635/2000\n",
      "2/2 - 0s - loss: 0.5515 - val_loss: 0.6425\n",
      "Epoch 636/2000\n",
      "2/2 - 0s - loss: 0.5506 - val_loss: 0.6431\n",
      "Epoch 637/2000\n",
      "2/2 - 0s - loss: 0.5511 - val_loss: 0.6422\n",
      "Epoch 638/2000\n",
      "2/2 - 0s - loss: 0.5501 - val_loss: 0.6416\n",
      "Epoch 639/2000\n",
      "2/2 - 0s - loss: 0.5490 - val_loss: 0.6421\n",
      "Epoch 640/2000\n",
      "2/2 - 0s - loss: 0.5495 - val_loss: 0.6418\n",
      "Epoch 641/2000\n",
      "2/2 - 0s - loss: 0.5485 - val_loss: 0.6414\n",
      "Epoch 642/2000\n",
      "2/2 - 0s - loss: 0.5476 - val_loss: 0.6415\n",
      "Epoch 643/2000\n",
      "2/2 - 0s - loss: 0.5481 - val_loss: 0.6410\n",
      "Epoch 644/2000\n",
      "2/2 - 0s - loss: 0.5472 - val_loss: 0.6402\n",
      "Epoch 645/2000\n",
      "2/2 - 0s - loss: 0.5461 - val_loss: 0.6403\n",
      "Epoch 646/2000\n",
      "2/2 - 0s - loss: 0.5466 - val_loss: 0.6394\n",
      "Epoch 647/2000\n",
      "2/2 - 0s - loss: 0.5457 - val_loss: 0.6384\n",
      "Epoch 648/2000\n",
      "2/2 - 0s - loss: 0.5448 - val_loss: 0.6390\n",
      "Epoch 649/2000\n",
      "2/2 - 0s - loss: 0.5452 - val_loss: 0.6383\n",
      "Epoch 650/2000\n",
      "2/2 - 0s - loss: 0.5442 - val_loss: 0.6377\n",
      "Epoch 651/2000\n",
      "2/2 - 0s - loss: 0.5433 - val_loss: 0.6380\n",
      "Epoch 652/2000\n",
      "2/2 - 0s - loss: 0.5438 - val_loss: 0.6375\n",
      "Epoch 653/2000\n",
      "2/2 - 0s - loss: 0.5429 - val_loss: 0.6370\n",
      "Epoch 654/2000\n",
      "2/2 - 0s - loss: 0.5419 - val_loss: 0.6372\n",
      "Epoch 655/2000\n",
      "2/2 - 0s - loss: 0.5424 - val_loss: 0.6366\n",
      "Epoch 656/2000\n",
      "2/2 - 0s - loss: 0.5415 - val_loss: 0.6361\n",
      "Epoch 657/2000\n",
      "2/2 - 0s - loss: 0.5406 - val_loss: 0.6362\n",
      "Epoch 658/2000\n",
      "2/2 - 0s - loss: 0.5411 - val_loss: 0.6352\n",
      "Epoch 659/2000\n",
      "2/2 - 0s - loss: 0.5402 - val_loss: 0.6343\n",
      "Epoch 660/2000\n",
      "2/2 - 0s - loss: 0.5394 - val_loss: 0.6349\n",
      "Epoch 661/2000\n",
      "2/2 - 0s - loss: 0.5398 - val_loss: 0.6341\n",
      "Epoch 662/2000\n",
      "2/2 - 0s - loss: 0.5389 - val_loss: 0.6333\n",
      "Epoch 663/2000\n",
      "2/2 - 0s - loss: 0.5380 - val_loss: 0.6338\n",
      "Epoch 664/2000\n",
      "2/2 - 0s - loss: 0.5385 - val_loss: 0.6332\n",
      "Epoch 665/2000\n",
      "2/2 - 0s - loss: 0.5376 - val_loss: 0.6325\n",
      "Epoch 666/2000\n",
      "2/2 - 0s - loss: 0.5367 - val_loss: 0.6329\n",
      "Epoch 667/2000\n",
      "2/2 - 0s - loss: 0.5372 - val_loss: 0.6323\n",
      "Epoch 668/2000\n",
      "2/2 - 0s - loss: 0.5364 - val_loss: 0.6318\n",
      "Epoch 669/2000\n",
      "2/2 - 0s - loss: 0.5355 - val_loss: 0.6320\n",
      "Epoch 670/2000\n",
      "2/2 - 0s - loss: 0.5359 - val_loss: 0.6312\n",
      "Epoch 671/2000\n",
      "2/2 - 0s - loss: 0.5352 - val_loss: 0.6306\n",
      "Epoch 672/2000\n",
      "2/2 - 0s - loss: 0.5343 - val_loss: 0.6310\n",
      "Epoch 673/2000\n",
      "2/2 - 0s - loss: 0.5347 - val_loss: 0.6306\n",
      "Epoch 674/2000\n",
      "2/2 - 0s - loss: 0.5339 - val_loss: 0.6302\n",
      "Epoch 675/2000\n",
      "2/2 - 0s - loss: 0.5332 - val_loss: 0.6304\n",
      "Epoch 676/2000\n",
      "2/2 - 0s - loss: 0.5335 - val_loss: 0.6299\n",
      "Epoch 677/2000\n",
      "2/2 - 0s - loss: 0.5328 - val_loss: 0.6296\n",
      "Epoch 678/2000\n",
      "2/2 - 0s - loss: 0.5320 - val_loss: 0.6298\n",
      "Epoch 679/2000\n",
      "2/2 - 0s - loss: 0.5323 - val_loss: 0.6293\n",
      "Epoch 680/2000\n",
      "2/2 - 0s - loss: 0.5316 - val_loss: 0.6289\n",
      "Epoch 681/2000\n",
      "2/2 - 0s - loss: 0.5308 - val_loss: 0.6291\n",
      "Epoch 682/2000\n",
      "2/2 - 0s - loss: 0.5312 - val_loss: 0.6286\n",
      "Epoch 683/2000\n",
      "2/2 - 0s - loss: 0.5304 - val_loss: 0.6278\n",
      "Epoch 684/2000\n",
      "2/2 - 0s - loss: 0.5297 - val_loss: 0.6280\n",
      "Epoch 685/2000\n",
      "2/2 - 0s - loss: 0.5301 - val_loss: 0.6275\n",
      "Epoch 686/2000\n",
      "2/2 - 0s - loss: 0.5293 - val_loss: 0.6272\n",
      "Epoch 687/2000\n",
      "2/2 - 0s - loss: 0.5286 - val_loss: 0.6275\n",
      "Epoch 688/2000\n",
      "2/2 - 0s - loss: 0.5289 - val_loss: 0.6273\n",
      "Epoch 689/2000\n",
      "2/2 - 0s - loss: 0.5283 - val_loss: 0.6270\n",
      "Epoch 690/2000\n",
      "2/2 - 0s - loss: 0.5274 - val_loss: 0.6273\n",
      "Epoch 691/2000\n",
      "2/2 - 0s - loss: 0.5278 - val_loss: 0.6273\n",
      "Epoch 692/2000\n",
      "2/2 - 0s - loss: 0.5272 - val_loss: 0.6275\n",
      "Epoch 693/2000\n",
      "2/2 - 0s - loss: 0.5265 - val_loss: 0.6273\n",
      "Epoch 694/2000\n",
      "2/2 - 0s - loss: 0.5268 - val_loss: 0.6269\n",
      "Epoch 695/2000\n",
      "2/2 - 0s - loss: 0.5261 - val_loss: 0.6261\n",
      "Epoch 696/2000\n",
      "2/2 - 0s - loss: 0.5253 - val_loss: 0.6261\n",
      "Epoch 697/2000\n",
      "2/2 - 0s - loss: 0.5257 - val_loss: 0.6248\n",
      "Epoch 698/2000\n",
      "2/2 - 0s - loss: 0.5251 - val_loss: 0.6238\n",
      "Epoch 699/2000\n",
      "2/2 - 0s - loss: 0.5244 - val_loss: 0.6245\n",
      "Epoch 700/2000\n",
      "2/2 - 0s - loss: 0.5246 - val_loss: 0.6237\n",
      "Epoch 701/2000\n",
      "2/2 - 0s - loss: 0.5242 - val_loss: 0.6231\n",
      "Epoch 702/2000\n",
      "2/2 - 0s - loss: 0.5234 - val_loss: 0.6238\n",
      "Epoch 703/2000\n",
      "2/2 - 0s - loss: 0.5237 - val_loss: 0.6235\n",
      "Epoch 704/2000\n",
      "2/2 - 0s - loss: 0.5230 - val_loss: 0.6228\n",
      "Epoch 705/2000\n",
      "2/2 - 0s - loss: 0.5223 - val_loss: 0.6229\n"
     ]
    },
    {
     "name": "stdout",
     "output_type": "stream",
     "text": [
      "Epoch 706/2000\n",
      "2/2 - 0s - loss: 0.5226 - val_loss: 0.6222\n",
      "Epoch 707/2000\n",
      "2/2 - 0s - loss: 0.5220 - val_loss: 0.6217\n",
      "Epoch 708/2000\n",
      "2/2 - 0s - loss: 0.5214 - val_loss: 0.6221\n",
      "Epoch 709/2000\n",
      "2/2 - 0s - loss: 0.5217 - val_loss: 0.6217\n",
      "Epoch 710/2000\n",
      "2/2 - 0s - loss: 0.5211 - val_loss: 0.6212\n",
      "Epoch 711/2000\n",
      "2/2 - 0s - loss: 0.5205 - val_loss: 0.6213\n",
      "Epoch 712/2000\n",
      "2/2 - 0s - loss: 0.5208 - val_loss: 0.6208\n",
      "Epoch 713/2000\n",
      "2/2 - 0s - loss: 0.5202 - val_loss: 0.6206\n",
      "Epoch 714/2000\n",
      "2/2 - 0s - loss: 0.5196 - val_loss: 0.6208\n",
      "Epoch 715/2000\n",
      "2/2 - 0s - loss: 0.5199 - val_loss: 0.6203\n",
      "Epoch 716/2000\n",
      "2/2 - 0s - loss: 0.5192 - val_loss: 0.6198\n",
      "Epoch 717/2000\n",
      "2/2 - 0s - loss: 0.5187 - val_loss: 0.6201\n",
      "Epoch 718/2000\n",
      "2/2 - 0s - loss: 0.5189 - val_loss: 0.6199\n",
      "Epoch 719/2000\n",
      "2/2 - 0s - loss: 0.5183 - val_loss: 0.6196\n",
      "Epoch 720/2000\n",
      "2/2 - 0s - loss: 0.5177 - val_loss: 0.6196\n",
      "Epoch 721/2000\n",
      "2/2 - 0s - loss: 0.5179 - val_loss: 0.6190\n",
      "Epoch 722/2000\n",
      "2/2 - 0s - loss: 0.5174 - val_loss: 0.6181\n",
      "Epoch 723/2000\n",
      "2/2 - 0s - loss: 0.5167 - val_loss: 0.6182\n",
      "Epoch 724/2000\n",
      "2/2 - 0s - loss: 0.5170 - val_loss: 0.6171\n",
      "Epoch 725/2000\n",
      "2/2 - 0s - loss: 0.5164 - val_loss: 0.6161\n",
      "Epoch 726/2000\n",
      "2/2 - 0s - loss: 0.5160 - val_loss: 0.6168\n",
      "Epoch 727/2000\n",
      "2/2 - 0s - loss: 0.5162 - val_loss: 0.6161\n",
      "Epoch 728/2000\n",
      "2/2 - 0s - loss: 0.5155 - val_loss: 0.6153\n",
      "Epoch 729/2000\n",
      "2/2 - 0s - loss: 0.5149 - val_loss: 0.6157\n",
      "Epoch 730/2000\n",
      "2/2 - 0s - loss: 0.5152 - val_loss: 0.6153\n",
      "Epoch 731/2000\n",
      "2/2 - 0s - loss: 0.5145 - val_loss: 0.6148\n",
      "Epoch 732/2000\n",
      "2/2 - 0s - loss: 0.5139 - val_loss: 0.6149\n",
      "Epoch 733/2000\n",
      "2/2 - 0s - loss: 0.5142 - val_loss: 0.6145\n",
      "Epoch 734/2000\n",
      "2/2 - 0s - loss: 0.5136 - val_loss: 0.6143\n",
      "Epoch 735/2000\n",
      "2/2 - 0s - loss: 0.5131 - val_loss: 0.6145\n",
      "Epoch 736/2000\n",
      "2/2 - 0s - loss: 0.5133 - val_loss: 0.6142\n",
      "Epoch 737/2000\n",
      "2/2 - 0s - loss: 0.5127 - val_loss: 0.6139\n",
      "Epoch 738/2000\n",
      "2/2 - 0s - loss: 0.5122 - val_loss: 0.6140\n",
      "Epoch 739/2000\n",
      "2/2 - 0s - loss: 0.5124 - val_loss: 0.6140\n",
      "Epoch 740/2000\n",
      "2/2 - 0s - loss: 0.5119 - val_loss: 0.6139\n",
      "Epoch 741/2000\n",
      "2/2 - 0s - loss: 0.5114 - val_loss: 0.6139\n",
      "Epoch 742/2000\n",
      "2/2 - 0s - loss: 0.5117 - val_loss: 0.6134\n",
      "Epoch 743/2000\n",
      "2/2 - 0s - loss: 0.5111 - val_loss: 0.6129\n",
      "Epoch 744/2000\n",
      "2/2 - 0s - loss: 0.5105 - val_loss: 0.6130\n",
      "Epoch 745/2000\n",
      "2/2 - 0s - loss: 0.5108 - val_loss: 0.6124\n",
      "Epoch 746/2000\n",
      "2/2 - 0s - loss: 0.5102 - val_loss: 0.6118\n",
      "Epoch 747/2000\n",
      "2/2 - 0s - loss: 0.5097 - val_loss: 0.6120\n",
      "Epoch 748/2000\n",
      "2/2 - 0s - loss: 0.5099 - val_loss: 0.6114\n",
      "Epoch 749/2000\n",
      "2/2 - 0s - loss: 0.5094 - val_loss: 0.6107\n",
      "Epoch 750/2000\n",
      "2/2 - 0s - loss: 0.5089 - val_loss: 0.6111\n",
      "Epoch 751/2000\n",
      "2/2 - 0s - loss: 0.5091 - val_loss: 0.6109\n",
      "Epoch 752/2000\n",
      "2/2 - 0s - loss: 0.5086 - val_loss: 0.6109\n",
      "Epoch 753/2000\n",
      "2/2 - 0s - loss: 0.5081 - val_loss: 0.6110\n",
      "Epoch 754/2000\n",
      "2/2 - 0s - loss: 0.5083 - val_loss: 0.6110\n",
      "Epoch 755/2000\n",
      "2/2 - 0s - loss: 0.5078 - val_loss: 0.6107\n",
      "Epoch 756/2000\n",
      "2/2 - 0s - loss: 0.5073 - val_loss: 0.6105\n",
      "Epoch 757/2000\n",
      "2/2 - 0s - loss: 0.5075 - val_loss: 0.6098\n",
      "Epoch 758/2000\n",
      "2/2 - 0s - loss: 0.5071 - val_loss: 0.6093\n",
      "Epoch 759/2000\n",
      "2/2 - 0s - loss: 0.5065 - val_loss: 0.6098\n",
      "Epoch 760/2000\n",
      "2/2 - 0s - loss: 0.5068 - val_loss: 0.6097\n",
      "Epoch 761/2000\n",
      "2/2 - 0s - loss: 0.5063 - val_loss: 0.6098\n",
      "Epoch 762/2000\n",
      "2/2 - 0s - loss: 0.5058 - val_loss: 0.6096\n",
      "Epoch 763/2000\n",
      "2/2 - 0s - loss: 0.5060 - val_loss: 0.6089\n",
      "Epoch 764/2000\n",
      "2/2 - 0s - loss: 0.5055 - val_loss: 0.6083\n",
      "Epoch 765/2000\n",
      "2/2 - 0s - loss: 0.5050 - val_loss: 0.6087\n",
      "Epoch 766/2000\n",
      "2/2 - 0s - loss: 0.5052 - val_loss: 0.6078\n",
      "Epoch 767/2000\n",
      "2/2 - 0s - loss: 0.5047 - val_loss: 0.6068\n",
      "Epoch 768/2000\n",
      "2/2 - 0s - loss: 0.5042 - val_loss: 0.6073\n",
      "Epoch 769/2000\n",
      "2/2 - 0s - loss: 0.5045 - val_loss: 0.6063\n",
      "Epoch 770/2000\n",
      "2/2 - 0s - loss: 0.5040 - val_loss: 0.6054\n",
      "Epoch 771/2000\n",
      "2/2 - 0s - loss: 0.5035 - val_loss: 0.6060\n",
      "Epoch 772/2000\n",
      "2/2 - 0s - loss: 0.5037 - val_loss: 0.6056\n",
      "Epoch 773/2000\n",
      "2/2 - 0s - loss: 0.5032 - val_loss: 0.6055\n",
      "Epoch 774/2000\n",
      "2/2 - 0s - loss: 0.5027 - val_loss: 0.6057\n",
      "Epoch 775/2000\n",
      "2/2 - 0s - loss: 0.5030 - val_loss: 0.6059\n",
      "Epoch 776/2000\n",
      "2/2 - 0s - loss: 0.5025 - val_loss: 0.6063\n",
      "Epoch 777/2000\n",
      "2/2 - 0s - loss: 0.5022 - val_loss: 0.6060\n",
      "Epoch 778/2000\n",
      "2/2 - 0s - loss: 0.5023 - val_loss: 0.6059\n",
      "Epoch 779/2000\n",
      "2/2 - 0s - loss: 0.5019 - val_loss: 0.6059\n",
      "Epoch 780/2000\n",
      "2/2 - 0s - loss: 0.5015 - val_loss: 0.6058\n",
      "Epoch 781/2000\n",
      "2/2 - 0s - loss: 0.5016 - val_loss: 0.6057\n",
      "Epoch 782/2000\n",
      "2/2 - 0s - loss: 0.5012 - val_loss: 0.6056\n",
      "Epoch 783/2000\n",
      "2/2 - 0s - loss: 0.5007 - val_loss: 0.6055\n",
      "Epoch 784/2000\n",
      "2/2 - 0s - loss: 0.5009 - val_loss: 0.6047\n",
      "Epoch 785/2000\n",
      "2/2 - 0s - loss: 0.5004 - val_loss: 0.6041\n",
      "Epoch 786/2000\n",
      "2/2 - 0s - loss: 0.4999 - val_loss: 0.6044\n",
      "Epoch 787/2000\n",
      "2/2 - 0s - loss: 0.5001 - val_loss: 0.6036\n",
      "Epoch 788/2000\n",
      "2/2 - 0s - loss: 0.4997 - val_loss: 0.6027\n",
      "Epoch 789/2000\n",
      "2/2 - 0s - loss: 0.4992 - val_loss: 0.6032\n",
      "Epoch 790/2000\n",
      "2/2 - 0s - loss: 0.4994 - val_loss: 0.6027\n",
      "Epoch 791/2000\n",
      "2/2 - 0s - loss: 0.4990 - val_loss: 0.6021\n",
      "Epoch 792/2000\n",
      "2/2 - 0s - loss: 0.4985 - val_loss: 0.6023\n",
      "Epoch 793/2000\n",
      "2/2 - 0s - loss: 0.4987 - val_loss: 0.6016\n",
      "Epoch 794/2000\n",
      "2/2 - 0s - loss: 0.4983 - val_loss: 0.6012\n",
      "Epoch 795/2000\n",
      "2/2 - 0s - loss: 0.4978 - val_loss: 0.6017\n",
      "Epoch 796/2000\n",
      "2/2 - 0s - loss: 0.4981 - val_loss: 0.6018\n",
      "Epoch 797/2000\n",
      "2/2 - 0s - loss: 0.4976 - val_loss: 0.6018\n",
      "Epoch 798/2000\n",
      "2/2 - 0s - loss: 0.4972 - val_loss: 0.6017\n",
      "Epoch 799/2000\n",
      "2/2 - 0s - loss: 0.4974 - val_loss: 0.6016\n",
      "Epoch 800/2000\n",
      "2/2 - 0s - loss: 0.4970 - val_loss: 0.6015\n",
      "Epoch 801/2000\n",
      "2/2 - 0s - loss: 0.4966 - val_loss: 0.6015\n",
      "Epoch 802/2000\n",
      "2/2 - 0s - loss: 0.4968 - val_loss: 0.6012\n",
      "Epoch 803/2000\n",
      "2/2 - 0s - loss: 0.4963 - val_loss: 0.6009\n",
      "Epoch 804/2000\n",
      "2/2 - 0s - loss: 0.4960 - val_loss: 0.6011\n",
      "Epoch 805/2000\n",
      "2/2 - 0s - loss: 0.4961 - val_loss: 0.6009\n",
      "Epoch 806/2000\n",
      "2/2 - 0s - loss: 0.4957 - val_loss: 0.6006\n",
      "Epoch 807/2000\n",
      "2/2 - 0s - loss: 0.4953 - val_loss: 0.6007\n",
      "Epoch 808/2000\n",
      "2/2 - 0s - loss: 0.4954 - val_loss: 0.6001\n",
      "Epoch 809/2000\n",
      "2/2 - 0s - loss: 0.4950 - val_loss: 0.5996\n",
      "Epoch 810/2000\n",
      "2/2 - 0s - loss: 0.4945 - val_loss: 0.5999\n",
      "Epoch 811/2000\n",
      "2/2 - 0s - loss: 0.4948 - val_loss: 0.5994\n",
      "Epoch 812/2000\n",
      "2/2 - 0s - loss: 0.4944 - val_loss: 0.5990\n",
      "Epoch 813/2000\n",
      "2/2 - 0s - loss: 0.4941 - val_loss: 0.5991\n",
      "Epoch 814/2000\n",
      "2/2 - 0s - loss: 0.4942 - val_loss: 0.5980\n",
      "Epoch 815/2000\n",
      "2/2 - 0s - loss: 0.4937 - val_loss: 0.5973\n",
      "Epoch 816/2000\n",
      "2/2 - 0s - loss: 0.4934 - val_loss: 0.5979\n",
      "Epoch 817/2000\n",
      "2/2 - 0s - loss: 0.4935 - val_loss: 0.5975\n",
      "Epoch 818/2000\n",
      "2/2 - 0s - loss: 0.4932 - val_loss: 0.5974\n",
      "Epoch 819/2000\n",
      "2/2 - 0s - loss: 0.4928 - val_loss: 0.5977\n",
      "Epoch 820/2000\n",
      "2/2 - 0s - loss: 0.4929 - val_loss: 0.5977\n",
      "Epoch 821/2000\n",
      "2/2 - 0s - loss: 0.4926 - val_loss: 0.5976\n",
      "Epoch 822/2000\n",
      "2/2 - 0s - loss: 0.4922 - val_loss: 0.5975\n",
      "Epoch 823/2000\n",
      "2/2 - 0s - loss: 0.4924 - val_loss: 0.5972\n",
      "Epoch 824/2000\n",
      "2/2 - 0s - loss: 0.4920 - val_loss: 0.5968\n",
      "Epoch 825/2000\n",
      "2/2 - 0s - loss: 0.4916 - val_loss: 0.5970\n",
      "Epoch 826/2000\n",
      "2/2 - 0s - loss: 0.4918 - val_loss: 0.5966\n",
      "Epoch 827/2000\n",
      "2/2 - 0s - loss: 0.4914 - val_loss: 0.5965\n",
      "Epoch 828/2000\n",
      "2/2 - 0s - loss: 0.4910 - val_loss: 0.5965\n",
      "Epoch 829/2000\n",
      "2/2 - 0s - loss: 0.4912 - val_loss: 0.5962\n",
      "Epoch 830/2000\n",
      "2/2 - 0s - loss: 0.4907 - val_loss: 0.5959\n",
      "Epoch 831/2000\n",
      "2/2 - 0s - loss: 0.4904 - val_loss: 0.5961\n",
      "Epoch 832/2000\n",
      "2/2 - 0s - loss: 0.4906 - val_loss: 0.5955\n",
      "Epoch 833/2000\n",
      "2/2 - 0s - loss: 0.4902 - val_loss: 0.5949\n",
      "Epoch 834/2000\n",
      "2/2 - 0s - loss: 0.4899 - val_loss: 0.5952\n",
      "Epoch 835/2000\n",
      "2/2 - 0s - loss: 0.4901 - val_loss: 0.5947\n",
      "Epoch 836/2000\n",
      "2/2 - 0s - loss: 0.4897 - val_loss: 0.5943\n",
      "Epoch 837/2000\n",
      "2/2 - 0s - loss: 0.4893 - val_loss: 0.5945\n",
      "Epoch 838/2000\n",
      "2/2 - 0s - loss: 0.4895 - val_loss: 0.5942\n",
      "Epoch 839/2000\n",
      "2/2 - 0s - loss: 0.4892 - val_loss: 0.5939\n",
      "Epoch 840/2000\n",
      "2/2 - 0s - loss: 0.4888 - val_loss: 0.5943\n",
      "Epoch 841/2000\n",
      "2/2 - 0s - loss: 0.4889 - val_loss: 0.5943\n",
      "Epoch 842/2000\n",
      "2/2 - 0s - loss: 0.4886 - val_loss: 0.5941\n",
      "Epoch 843/2000\n",
      "2/2 - 0s - loss: 0.4882 - val_loss: 0.5940\n",
      "Epoch 844/2000\n",
      "2/2 - 0s - loss: 0.4884 - val_loss: 0.5939\n",
      "Epoch 845/2000\n",
      "2/2 - 0s - loss: 0.4880 - val_loss: 0.5941\n",
      "Epoch 846/2000\n",
      "2/2 - 0s - loss: 0.4877 - val_loss: 0.5941\n",
      "Epoch 847/2000\n"
     ]
    },
    {
     "name": "stdout",
     "output_type": "stream",
     "text": [
      "2/2 - 0s - loss: 0.4878 - val_loss: 0.5938\n",
      "Epoch 848/2000\n",
      "2/2 - 0s - loss: 0.4874 - val_loss: 0.5937\n",
      "Epoch 849/2000\n",
      "2/2 - 0s - loss: 0.4871 - val_loss: 0.5938\n",
      "Epoch 850/2000\n",
      "2/2 - 0s - loss: 0.4873 - val_loss: 0.5934\n",
      "Epoch 851/2000\n",
      "2/2 - 0s - loss: 0.4869 - val_loss: 0.5926\n",
      "Epoch 852/2000\n",
      "2/2 - 0s - loss: 0.4865 - val_loss: 0.5928\n",
      "Epoch 853/2000\n",
      "2/2 - 0s - loss: 0.4867 - val_loss: 0.5921\n",
      "Epoch 854/2000\n",
      "2/2 - 0s - loss: 0.4864 - val_loss: 0.5912\n",
      "Epoch 855/2000\n",
      "2/2 - 0s - loss: 0.4860 - val_loss: 0.5915\n",
      "Epoch 856/2000\n",
      "2/2 - 0s - loss: 0.4862 - val_loss: 0.5906\n",
      "Epoch 857/2000\n",
      "2/2 - 0s - loss: 0.4858 - val_loss: 0.5900\n",
      "Epoch 858/2000\n",
      "2/2 - 0s - loss: 0.4855 - val_loss: 0.5905\n",
      "Epoch 859/2000\n",
      "2/2 - 0s - loss: 0.4856 - val_loss: 0.5900\n",
      "Epoch 860/2000\n",
      "2/2 - 0s - loss: 0.4853 - val_loss: 0.5895\n",
      "Epoch 861/2000\n",
      "2/2 - 0s - loss: 0.4850 - val_loss: 0.5899\n",
      "Epoch 862/2000\n",
      "2/2 - 0s - loss: 0.4851 - val_loss: 0.5901\n",
      "Epoch 863/2000\n",
      "2/2 - 0s - loss: 0.4848 - val_loss: 0.5901\n",
      "Epoch 864/2000\n",
      "2/2 - 0s - loss: 0.4845 - val_loss: 0.5901\n",
      "Epoch 865/2000\n",
      "2/2 - 0s - loss: 0.4846 - val_loss: 0.5903\n",
      "Epoch 866/2000\n",
      "2/2 - 0s - loss: 0.4843 - val_loss: 0.5906\n",
      "Epoch 867/2000\n",
      "2/2 - 0s - loss: 0.4839 - val_loss: 0.5905\n",
      "Epoch 868/2000\n",
      "2/2 - 0s - loss: 0.4841 - val_loss: 0.5911\n",
      "Epoch 869/2000\n",
      "2/2 - 0s - loss: 0.4837 - val_loss: 0.5919\n",
      "Epoch 870/2000\n",
      "2/2 - 0s - loss: 0.4835 - val_loss: 0.5915\n",
      "Epoch 871/2000\n",
      "2/2 - 0s - loss: 0.4836 - val_loss: 0.5918\n",
      "Epoch 872/2000\n",
      "2/2 - 0s - loss: 0.4832 - val_loss: 0.5922\n",
      "Epoch 873/2000\n",
      "2/2 - 0s - loss: 0.4830 - val_loss: 0.5919\n",
      "Epoch 874/2000\n",
      "2/2 - 0s - loss: 0.4832 - val_loss: 0.5919\n",
      "Epoch 875/2000\n",
      "2/2 - 0s - loss: 0.4828 - val_loss: 0.5916\n",
      "Epoch 876/2000\n",
      "2/2 - 0s - loss: 0.4825 - val_loss: 0.5915\n",
      "Epoch 877/2000\n",
      "2/2 - 0s - loss: 0.4826 - val_loss: 0.5912\n",
      "Epoch 878/2000\n",
      "2/2 - 0s - loss: 0.4822 - val_loss: 0.5908\n",
      "Epoch 879/2000\n",
      "2/2 - 0s - loss: 0.4819 - val_loss: 0.5910\n",
      "Epoch 880/2000\n",
      "2/2 - 0s - loss: 0.4821 - val_loss: 0.5907\n",
      "Epoch 881/2000\n",
      "2/2 - 0s - loss: 0.4817 - val_loss: 0.5906\n",
      "Epoch 882/2000\n",
      "2/2 - 0s - loss: 0.4813 - val_loss: 0.5908\n",
      "Epoch 883/2000\n",
      "2/2 - 0s - loss: 0.4815 - val_loss: 0.5908\n",
      "Epoch 884/2000\n",
      "2/2 - 0s - loss: 0.4812 - val_loss: 0.5907\n",
      "Epoch 885/2000\n",
      "2/2 - 0s - loss: 0.4808 - val_loss: 0.5905\n",
      "Epoch 886/2000\n",
      "2/2 - 0s - loss: 0.4810 - val_loss: 0.5904\n",
      "Epoch 887/2000\n",
      "2/2 - 0s - loss: 0.4807 - val_loss: 0.5905\n",
      "Epoch 888/2000\n",
      "2/2 - 0s - loss: 0.4804 - val_loss: 0.5903\n",
      "Epoch 889/2000\n",
      "2/2 - 0s - loss: 0.4805 - val_loss: 0.5899\n",
      "Epoch 890/2000\n",
      "2/2 - 0s - loss: 0.4802 - val_loss: 0.5894\n",
      "Epoch 891/2000\n",
      "2/2 - 0s - loss: 0.4799 - val_loss: 0.5896\n",
      "Epoch 892/2000\n",
      "2/2 - 0s - loss: 0.4801 - val_loss: 0.5889\n",
      "Epoch 893/2000\n",
      "2/2 - 0s - loss: 0.4797 - val_loss: 0.5886\n",
      "Epoch 894/2000\n",
      "2/2 - 0s - loss: 0.4794 - val_loss: 0.5890\n",
      "Epoch 895/2000\n",
      "2/2 - 0s - loss: 0.4796 - val_loss: 0.5887\n",
      "Epoch 896/2000\n",
      "2/2 - 0s - loss: 0.4793 - val_loss: 0.5883\n",
      "Epoch 897/2000\n",
      "2/2 - 0s - loss: 0.4790 - val_loss: 0.5884\n",
      "Epoch 898/2000\n",
      "2/2 - 0s - loss: 0.4791 - val_loss: 0.5881\n",
      "Epoch 899/2000\n",
      "2/2 - 0s - loss: 0.4788 - val_loss: 0.5880\n",
      "Epoch 900/2000\n",
      "2/2 - 0s - loss: 0.4785 - val_loss: 0.5881\n",
      "Epoch 901/2000\n",
      "2/2 - 0s - loss: 0.4786 - val_loss: 0.5874\n",
      "Epoch 902/2000\n",
      "2/2 - 0s - loss: 0.4783 - val_loss: 0.5867\n",
      "Epoch 903/2000\n",
      "2/2 - 0s - loss: 0.4780 - val_loss: 0.5871\n",
      "Epoch 904/2000\n",
      "2/2 - 0s - loss: 0.4782 - val_loss: 0.5869\n",
      "Epoch 905/2000\n",
      "2/2 - 0s - loss: 0.4779 - val_loss: 0.5869\n",
      "Epoch 906/2000\n",
      "2/2 - 0s - loss: 0.4775 - val_loss: 0.5869\n",
      "Epoch 907/2000\n",
      "2/2 - 0s - loss: 0.4777 - val_loss: 0.5867\n",
      "Epoch 908/2000\n",
      "2/2 - 0s - loss: 0.4774 - val_loss: 0.5865\n",
      "Epoch 909/2000\n",
      "2/2 - 0s - loss: 0.4771 - val_loss: 0.5866\n",
      "Epoch 910/2000\n",
      "2/2 - 0s - loss: 0.4772 - val_loss: 0.5861\n",
      "Epoch 911/2000\n",
      "2/2 - 0s - loss: 0.4769 - val_loss: 0.5856\n",
      "Epoch 912/2000\n",
      "2/2 - 0s - loss: 0.4767 - val_loss: 0.5858\n",
      "Epoch 913/2000\n",
      "2/2 - 0s - loss: 0.4768 - val_loss: 0.5854\n",
      "Epoch 914/2000\n",
      "2/2 - 0s - loss: 0.4765 - val_loss: 0.5847\n",
      "Epoch 915/2000\n",
      "2/2 - 0s - loss: 0.4761 - val_loss: 0.5847\n",
      "Epoch 916/2000\n",
      "2/2 - 0s - loss: 0.4763 - val_loss: 0.5836\n",
      "Epoch 917/2000\n",
      "2/2 - 0s - loss: 0.4761 - val_loss: 0.5825\n",
      "Epoch 918/2000\n",
      "2/2 - 0s - loss: 0.4759 - val_loss: 0.5833\n",
      "Epoch 919/2000\n",
      "2/2 - 0s - loss: 0.4759 - val_loss: 0.5829\n",
      "Epoch 920/2000\n",
      "2/2 - 0s - loss: 0.4756 - val_loss: 0.5825\n",
      "Epoch 921/2000\n",
      "2/2 - 0s - loss: 0.4753 - val_loss: 0.5827\n",
      "Epoch 922/2000\n",
      "2/2 - 0s - loss: 0.4755 - val_loss: 0.5825\n",
      "Epoch 923/2000\n",
      "2/2 - 0s - loss: 0.4751 - val_loss: 0.5825\n",
      "Epoch 924/2000\n",
      "2/2 - 0s - loss: 0.4749 - val_loss: 0.5827\n",
      "Epoch 925/2000\n",
      "2/2 - 0s - loss: 0.4750 - val_loss: 0.5829\n",
      "Epoch 926/2000\n",
      "2/2 - 0s - loss: 0.4747 - val_loss: 0.5829\n",
      "Epoch 927/2000\n",
      "2/2 - 0s - loss: 0.4744 - val_loss: 0.5826\n",
      "Epoch 928/2000\n",
      "2/2 - 0s - loss: 0.4746 - val_loss: 0.5823\n",
      "Epoch 929/2000\n",
      "2/2 - 0s - loss: 0.4743 - val_loss: 0.5820\n",
      "Epoch 930/2000\n",
      "2/2 - 0s - loss: 0.4741 - val_loss: 0.5823\n",
      "Epoch 931/2000\n",
      "2/2 - 0s - loss: 0.4742 - val_loss: 0.5823\n",
      "Epoch 932/2000\n",
      "2/2 - 0s - loss: 0.4739 - val_loss: 0.5822\n",
      "Epoch 933/2000\n",
      "2/2 - 0s - loss: 0.4736 - val_loss: 0.5822\n",
      "Epoch 934/2000\n",
      "2/2 - 0s - loss: 0.4738 - val_loss: 0.5824\n",
      "Epoch 935/2000\n",
      "2/2 - 0s - loss: 0.4734 - val_loss: 0.5830\n",
      "Epoch 936/2000\n",
      "2/2 - 0s - loss: 0.4731 - val_loss: 0.5830\n",
      "Epoch 937/2000\n",
      "2/2 - 0s - loss: 0.4732 - val_loss: 0.5841\n",
      "Epoch 938/2000\n",
      "2/2 - 0s - loss: 0.4730 - val_loss: 0.5853\n",
      "Epoch 939/2000\n",
      "2/2 - 0s - loss: 0.4730 - val_loss: 0.5845\n",
      "Epoch 940/2000\n",
      "2/2 - 0s - loss: 0.4730 - val_loss: 0.5854\n",
      "Epoch 941/2000\n",
      "2/2 - 0s - loss: 0.4728 - val_loss: 0.5861\n",
      "Epoch 942/2000\n",
      "2/2 - 0s - loss: 0.4726 - val_loss: 0.5854\n",
      "Epoch 943/2000\n",
      "2/2 - 0s - loss: 0.4727 - val_loss: 0.5852\n",
      "Epoch 944/2000\n",
      "2/2 - 0s - loss: 0.4723 - val_loss: 0.5851\n",
      "Epoch 945/2000\n",
      "2/2 - 0s - loss: 0.4719 - val_loss: 0.5851\n",
      "Epoch 946/2000\n",
      "2/2 - 0s - loss: 0.4721 - val_loss: 0.5846\n",
      "Epoch 947/2000\n",
      "2/2 - 0s - loss: 0.4719 - val_loss: 0.5843\n",
      "Epoch 948/2000\n",
      "2/2 - 0s - loss: 0.4715 - val_loss: 0.5846\n",
      "Epoch 949/2000\n",
      "2/2 - 0s - loss: 0.4717 - val_loss: 0.5845\n",
      "Epoch 950/2000\n",
      "2/2 - 0s - loss: 0.4714 - val_loss: 0.5843\n",
      "Epoch 951/2000\n",
      "2/2 - 0s - loss: 0.4711 - val_loss: 0.5843\n",
      "Epoch 952/2000\n",
      "2/2 - 0s - loss: 0.4712 - val_loss: 0.5836\n",
      "Epoch 953/2000\n",
      "2/2 - 0s - loss: 0.4710 - val_loss: 0.5830\n",
      "Epoch 954/2000\n",
      "2/2 - 0s - loss: 0.4707 - val_loss: 0.5834\n",
      "Epoch 955/2000\n",
      "2/2 - 0s - loss: 0.4708 - val_loss: 0.5828\n",
      "Epoch 956/2000\n",
      "2/2 - 0s - loss: 0.4707 - val_loss: 0.5824\n",
      "Epoch 957/2000\n",
      "2/2 - 0s - loss: 0.4706 - val_loss: 0.5829\n",
      "Epoch 958/2000\n",
      "2/2 - 0s - loss: 0.4706 - val_loss: 0.5833\n",
      "Epoch 959/2000\n",
      "2/2 - 0s - loss: 0.4703 - val_loss: 0.5835\n",
      "Epoch 960/2000\n",
      "2/2 - 0s - loss: 0.4700 - val_loss: 0.5833\n",
      "Epoch 961/2000\n",
      "2/2 - 0s - loss: 0.4701 - val_loss: 0.5832\n",
      "Epoch 962/2000\n",
      "2/2 - 0s - loss: 0.4698 - val_loss: 0.5834\n",
      "Epoch 963/2000\n",
      "2/2 - 0s - loss: 0.4695 - val_loss: 0.5834\n",
      "Epoch 964/2000\n",
      "2/2 - 0s - loss: 0.4698 - val_loss: 0.5834\n",
      "Epoch 965/2000\n",
      "2/2 - 0s - loss: 0.4694 - val_loss: 0.5827\n",
      "Epoch 966/2000\n",
      "2/2 - 0s - loss: 0.4692 - val_loss: 0.5828\n",
      "Epoch 967/2000\n",
      "2/2 - 0s - loss: 0.4693 - val_loss: 0.5825\n",
      "Epoch 968/2000\n",
      "2/2 - 0s - loss: 0.4690 - val_loss: 0.5823\n",
      "Epoch 969/2000\n",
      "2/2 - 0s - loss: 0.4688 - val_loss: 0.5826\n",
      "Epoch 970/2000\n",
      "2/2 - 0s - loss: 0.4689 - val_loss: 0.5832\n",
      "Epoch 971/2000\n",
      "2/2 - 0s - loss: 0.4687 - val_loss: 0.5839\n",
      "Epoch 972/2000\n",
      "2/2 - 0s - loss: 0.4685 - val_loss: 0.5835\n",
      "Epoch 973/2000\n",
      "2/2 - 0s - loss: 0.4685 - val_loss: 0.5837\n",
      "Epoch 974/2000\n",
      "2/2 - 0s - loss: 0.4683 - val_loss: 0.5836\n",
      "Epoch 975/2000\n",
      "2/2 - 0s - loss: 0.4681 - val_loss: 0.5835\n",
      "Epoch 976/2000\n",
      "2/2 - 0s - loss: 0.4682 - val_loss: 0.5831\n",
      "Epoch 977/2000\n",
      "2/2 - 0s - loss: 0.4679 - val_loss: 0.5826\n",
      "Epoch 978/2000\n",
      "2/2 - 0s - loss: 0.4676 - val_loss: 0.5827\n",
      "Epoch 979/2000\n",
      "2/2 - 0s - loss: 0.4677 - val_loss: 0.5823\n",
      "Epoch 00979: early stopping\n",
      "CPU times: user 28.8 s, sys: 1.66 s, total: 30.5 s\n",
      "Wall time: 22.5 s\n"
     ]
    },
    {
     "data": {
      "application/javascript": [
       "\n",
       "            setTimeout(function() {\n",
       "                var nbb_cell_id = 25;\n",
       "                var nbb_unformatted_code = \"%%time\\nhistory = model.fit(\\n    input_train,\\n    y_train.reshape(-1, 1),\\n    epochs=2000,\\n    batch_size=1024,\\n    validation_data=(input_valid, y_valid.reshape(-1, 1),),\\n    verbose=2,\\n    callbacks=[EarlyStopping(monitor=\\\"val_loss\\\", patience=50, verbose=1)],\\n    #class_weight=None#class_weight\\n)\";\n",
       "                var nbb_formatted_code = \"%%time\\nhistory = model.fit(\\n    input_train,\\n    y_train.reshape(-1, 1),\\n    epochs=2000,\\n    batch_size=1024,\\n    validation_data=(input_valid, y_valid.reshape(-1, 1),),\\n    verbose=2,\\n    callbacks=[EarlyStopping(monitor=\\\"val_loss\\\", patience=50, verbose=1)],\\n    #class_weight=None#class_weight\\n)\";\n",
       "                var nbb_cells = Jupyter.notebook.get_cells();\n",
       "                for (var i = 0; i < nbb_cells.length; ++i) {\n",
       "                    if (nbb_cells[i].input_prompt_number == nbb_cell_id) {\n",
       "                        if (nbb_cells[i].get_text() == nbb_unformatted_code) {\n",
       "                             nbb_cells[i].set_text(nbb_formatted_code);\n",
       "                        }\n",
       "                        break;\n",
       "                    }\n",
       "                }\n",
       "            }, 500);\n",
       "            "
      ],
      "text/plain": [
       "<IPython.core.display.Javascript object>"
      ]
     },
     "metadata": {},
     "output_type": "display_data"
    }
   ],
   "source": [
    "%%time\n",
    "history = model.fit(\n",
    "    input_train,\n",
    "    y_train.reshape(-1, 1),\n",
    "    epochs=2000,\n",
    "    batch_size=1024,\n",
    "    validation_data=(input_valid, y_valid.reshape(-1, 1),),\n",
    "    verbose=2,\n",
    "    callbacks=[EarlyStopping(monitor=\"val_loss\", patience=50, verbose=1)],\n",
    "    #class_weight=None#class_weight\n",
    ")"
   ]
  },
  {
   "cell_type": "code",
   "execution_count": 26,
   "metadata": {
    "ExecuteTime": {
     "end_time": "2020-09-19T11:41:04.708099Z",
     "start_time": "2020-09-19T11:41:04.575575Z"
    }
   },
   "outputs": [
    {
     "data": {
      "image/png": "[encoded data removed]",
      "text/plain": [
       "<Figure size 432x288 with 1 Axes>"
      ]
     },
     "metadata": {
      "needs_background": "light"
     },
     "output_type": "display_data"
    },
    {
     "data": {
      "application/javascript": [
       "\n",
       "            setTimeout(function() {\n",
       "                var nbb_cell_id = 26;\n",
       "                var nbb_unformatted_code = \"plot_history(history)\";\n",
       "                var nbb_formatted_code = \"plot_history(history)\";\n",
       "                var nbb_cells = Jupyter.notebook.get_cells();\n",
       "                for (var i = 0; i < nbb_cells.length; ++i) {\n",
       "                    if (nbb_cells[i].input_prompt_number == nbb_cell_id) {\n",
       "                        if (nbb_cells[i].get_text() == nbb_unformatted_code) {\n",
       "                             nbb_cells[i].set_text(nbb_formatted_code);\n",
       "                        }\n",
       "                        break;\n",
       "                    }\n",
       "                }\n",
       "            }, 500);\n",
       "            "
      ],
      "text/plain": [
       "<IPython.core.display.Javascript object>"
      ]
     },
     "metadata": {},
     "output_type": "display_data"
    }
   ],
   "source": [
    "plot_history(history)"
   ]
  },
  {
   "cell_type": "code",
   "execution_count": 27,
   "metadata": {
    "ExecuteTime": {
     "end_time": "2020-09-19T11:41:04.860851Z",
     "start_time": "2020-09-19T11:41:04.708950Z"
    }
   },
   "outputs": [
    {
     "data": {
      "text/plain": [
       "0.5725643653278203"
      ]
     },
     "execution_count": 27,
     "metadata": {},
     "output_type": "execute_result"
    },
    {
     "data": {
      "application/javascript": [
       "\n",
       "            setTimeout(function() {\n",
       "                var nbb_cell_id = 27;\n",
       "                var nbb_unformatted_code = \"model_auc = mean_absolute_error(\\n    y_pred=model.predict(input_valid).reshape(-1), y_true=y_valid\\n)\\nmodel_auc\";\n",
       "                var nbb_formatted_code = \"model_auc = mean_absolute_error(\\n    y_pred=model.predict(input_valid).reshape(-1), y_true=y_valid\\n)\\nmodel_auc\";\n",
       "                var nbb_cells = Jupyter.notebook.get_cells();\n",
       "                for (var i = 0; i < nbb_cells.length; ++i) {\n",
       "                    if (nbb_cells[i].input_prompt_number == nbb_cell_id) {\n",
       "                        if (nbb_cells[i].get_text() == nbb_unformatted_code) {\n",
       "                             nbb_cells[i].set_text(nbb_formatted_code);\n",
       "                        }\n",
       "                        break;\n",
       "                    }\n",
       "                }\n",
       "            }, 500);\n",
       "            "
      ],
      "text/plain": [
       "<IPython.core.display.Javascript object>"
      ]
     },
     "metadata": {},
     "output_type": "display_data"
    }
   ],
   "source": [
    "model_auc = mean_absolute_error(\n",
    "    y_pred=model.predict(input_valid).reshape(-1), y_true=y_valid\n",
    ")\n",
    "model_auc"
   ]
  },
  {
   "cell_type": "code",
   "execution_count": 28,
   "metadata": {
    "ExecuteTime": {
     "end_time": "2020-09-19T11:41:04.903270Z",
     "start_time": "2020-09-19T11:41:04.861892Z"
    }
   },
   "outputs": [
    {
     "data": {
      "text/plain": [
       "0.5822807001926152"
      ]
     },
     "execution_count": 28,
     "metadata": {},
     "output_type": "execute_result"
    },
    {
     "data": {
      "application/javascript": [
       "\n",
       "            setTimeout(function() {\n",
       "                var nbb_cell_id = 28;\n",
       "                var nbb_unformatted_code = \"model_auc = mean_squared_error(\\n    y_pred=model.predict(input_valid).reshape(-1), y_true=y_valid\\n)\\nmodel_auc\";\n",
       "                var nbb_formatted_code = \"model_auc = mean_squared_error(\\n    y_pred=model.predict(input_valid).reshape(-1), y_true=y_valid\\n)\\nmodel_auc\";\n",
       "                var nbb_cells = Jupyter.notebook.get_cells();\n",
       "                for (var i = 0; i < nbb_cells.length; ++i) {\n",
       "                    if (nbb_cells[i].input_prompt_number == nbb_cell_id) {\n",
       "                        if (nbb_cells[i].get_text() == nbb_unformatted_code) {\n",
       "                             nbb_cells[i].set_text(nbb_formatted_code);\n",
       "                        }\n",
       "                        break;\n",
       "                    }\n",
       "                }\n",
       "            }, 500);\n",
       "            "
      ],
      "text/plain": [
       "<IPython.core.display.Javascript object>"
      ]
     },
     "metadata": {},
     "output_type": "display_data"
    }
   ],
   "source": [
    "model_auc = mean_squared_error(\n",
    "    y_pred=model.predict(input_valid).reshape(-1), y_true=y_valid\n",
    ")\n",
    "model_auc"
   ]
  },
  {
   "cell_type": "code",
   "execution_count": 29,
   "metadata": {
    "ExecuteTime": {
     "end_time": "2020-09-19T11:41:05.009629Z",
     "start_time": "2020-09-19T11:41:04.904412Z"
    }
   },
   "outputs": [
    {
     "data": {
      "text/plain": [
       "0.5515555024147034"
      ]
     },
     "execution_count": 29,
     "metadata": {},
     "output_type": "execute_result"
    },
    {
     "data": {
      "application/javascript": [
       "\n",
       "            setTimeout(function() {\n",
       "                var nbb_cell_id = 29;\n",
       "                var nbb_unformatted_code = \"model_auc = mean_absolute_error(\\n    y_pred=model.predict(input_test).reshape(-1), y_true=y_test\\n)\\nmodel_auc\";\n",
       "                var nbb_formatted_code = \"model_auc = mean_absolute_error(\\n    y_pred=model.predict(input_test).reshape(-1), y_true=y_test\\n)\\nmodel_auc\";\n",
       "                var nbb_cells = Jupyter.notebook.get_cells();\n",
       "                for (var i = 0; i < nbb_cells.length; ++i) {\n",
       "                    if (nbb_cells[i].input_prompt_number == nbb_cell_id) {\n",
       "                        if (nbb_cells[i].get_text() == nbb_unformatted_code) {\n",
       "                             nbb_cells[i].set_text(nbb_formatted_code);\n",
       "                        }\n",
       "                        break;\n",
       "                    }\n",
       "                }\n",
       "            }, 500);\n",
       "            "
      ],
      "text/plain": [
       "<IPython.core.display.Javascript object>"
      ]
     },
     "metadata": {},
     "output_type": "display_data"
    }
   ],
   "source": [
    "model_auc = mean_absolute_error(\n",
    "    y_pred=model.predict(input_test).reshape(-1), y_true=y_test\n",
    ")\n",
    "model_auc"
   ]
  },
  {
   "cell_type": "code",
   "execution_count": 30,
   "metadata": {
    "ExecuteTime": {
     "end_time": "2020-09-19T11:41:05.049161Z",
     "start_time": "2020-09-19T11:41:05.010467Z"
    }
   },
   "outputs": [
    {
     "data": {
      "text/plain": [
       "0.5177609326043268"
      ]
     },
     "execution_count": 30,
     "metadata": {},
     "output_type": "execute_result"
    },
    {
     "data": {
      "application/javascript": [
       "\n",
       "            setTimeout(function() {\n",
       "                var nbb_cell_id = 30;\n",
       "                var nbb_unformatted_code = \"model_auc = mean_squared_error(\\n    y_pred=model.predict(input_test).reshape(-1), y_true=y_test\\n)\\nmodel_auc\";\n",
       "                var nbb_formatted_code = \"model_auc = mean_squared_error(\\n    y_pred=model.predict(input_test).reshape(-1), y_true=y_test\\n)\\nmodel_auc\";\n",
       "                var nbb_cells = Jupyter.notebook.get_cells();\n",
       "                for (var i = 0; i < nbb_cells.length; ++i) {\n",
       "                    if (nbb_cells[i].input_prompt_number == nbb_cell_id) {\n",
       "                        if (nbb_cells[i].get_text() == nbb_unformatted_code) {\n",
       "                             nbb_cells[i].set_text(nbb_formatted_code);\n",
       "                        }\n",
       "                        break;\n",
       "                    }\n",
       "                }\n",
       "            }, 500);\n",
       "            "
      ],
      "text/plain": [
       "<IPython.core.display.Javascript object>"
      ]
     },
     "metadata": {},
     "output_type": "display_data"
    }
   ],
   "source": [
    "model_auc = mean_squared_error(\n",
    "    y_pred=model.predict(input_test).reshape(-1), y_true=y_test\n",
    ")\n",
    "model_auc"
   ]
  },
  {
   "cell_type": "code",
   "execution_count": 31,
   "metadata": {
    "ExecuteTime": {
     "end_time": "2020-09-19T11:41:05.071238Z",
     "start_time": "2020-09-19T11:41:05.050192Z"
    }
   },
   "outputs": [
    {
     "data": {
      "application/javascript": [
       "\n",
       "            setTimeout(function() {\n",
       "                var nbb_cell_id = 31;\n",
       "                var nbb_unformatted_code = \"from xplainet.model import predict, encode\";\n",
       "                var nbb_formatted_code = \"from xplainet.model import predict, encode\";\n",
       "                var nbb_cells = Jupyter.notebook.get_cells();\n",
       "                for (var i = 0; i < nbb_cells.length; ++i) {\n",
       "                    if (nbb_cells[i].input_prompt_number == nbb_cell_id) {\n",
       "                        if (nbb_cells[i].get_text() == nbb_unformatted_code) {\n",
       "                             nbb_cells[i].set_text(nbb_formatted_code);\n",
       "                        }\n",
       "                        break;\n",
       "                    }\n",
       "                }\n",
       "            }, 500);\n",
       "            "
      ],
      "text/plain": [
       "<IPython.core.display.Javascript object>"
      ]
     },
     "metadata": {},
     "output_type": "display_data"
    }
   ],
   "source": [
    "from xplainet.model import predict, encode"
   ]
  },
  {
   "cell_type": "code",
   "execution_count": 32,
   "metadata": {
    "ExecuteTime": {
     "end_time": "2020-09-19T11:41:05.173056Z",
     "start_time": "2020-09-19T11:41:05.072180Z"
    }
   },
   "outputs": [
    {
     "data": {
      "application/javascript": [
       "\n",
       "            setTimeout(function() {\n",
       "                var nbb_cell_id = 32;\n",
       "                var nbb_unformatted_code = \"probs, explanations = predict(model, input_test)\";\n",
       "                var nbb_formatted_code = \"probs, explanations = predict(model, input_test)\";\n",
       "                var nbb_cells = Jupyter.notebook.get_cells();\n",
       "                for (var i = 0; i < nbb_cells.length; ++i) {\n",
       "                    if (nbb_cells[i].input_prompt_number == nbb_cell_id) {\n",
       "                        if (nbb_cells[i].get_text() == nbb_unformatted_code) {\n",
       "                             nbb_cells[i].set_text(nbb_formatted_code);\n",
       "                        }\n",
       "                        break;\n",
       "                    }\n",
       "                }\n",
       "            }, 500);\n",
       "            "
      ],
      "text/plain": [
       "<IPython.core.display.Javascript object>"
      ]
     },
     "metadata": {},
     "output_type": "display_data"
    }
   ],
   "source": [
    "probs, explanations = predict(model, input_test)"
   ]
  },
  {
   "cell_type": "code",
   "execution_count": 33,
   "metadata": {
    "ExecuteTime": {
     "end_time": "2020-09-19T11:41:05.274163Z",
     "start_time": "2020-09-19T11:41:05.174220Z"
    }
   },
   "outputs": [
    {
     "data": {
      "application/javascript": [
       "\n",
       "            setTimeout(function() {\n",
       "                var nbb_cell_id = 33;\n",
       "                var nbb_unformatted_code = \"probs, encoded_output = encode(model, input_test)\";\n",
       "                var nbb_formatted_code = \"probs, encoded_output = encode(model, input_test)\";\n",
       "                var nbb_cells = Jupyter.notebook.get_cells();\n",
       "                for (var i = 0; i < nbb_cells.length; ++i) {\n",
       "                    if (nbb_cells[i].input_prompt_number == nbb_cell_id) {\n",
       "                        if (nbb_cells[i].get_text() == nbb_unformatted_code) {\n",
       "                             nbb_cells[i].set_text(nbb_formatted_code);\n",
       "                        }\n",
       "                        break;\n",
       "                    }\n",
       "                }\n",
       "            }, 500);\n",
       "            "
      ],
      "text/plain": [
       "<IPython.core.display.Javascript object>"
      ]
     },
     "metadata": {},
     "output_type": "display_data"
    }
   ],
   "source": [
    "probs, encoded_output = encode(model, input_test)"
   ]
  },
  {
   "cell_type": "code",
   "execution_count": 34,
   "metadata": {
    "ExecuteTime": {
     "end_time": "2020-09-19T11:41:05.296988Z",
     "start_time": "2020-09-19T11:41:05.275108Z"
    }
   },
   "outputs": [
    {
     "data": {
      "text/plain": [
       "(160,)"
      ]
     },
     "execution_count": 34,
     "metadata": {},
     "output_type": "execute_result"
    },
    {
     "data": {
      "application/javascript": [
       "\n",
       "            setTimeout(function() {\n",
       "                var nbb_cell_id = 34;\n",
       "                var nbb_unformatted_code = \"y_test.shape\";\n",
       "                var nbb_formatted_code = \"y_test.shape\";\n",
       "                var nbb_cells = Jupyter.notebook.get_cells();\n",
       "                for (var i = 0; i < nbb_cells.length; ++i) {\n",
       "                    if (nbb_cells[i].input_prompt_number == nbb_cell_id) {\n",
       "                        if (nbb_cells[i].get_text() == nbb_unformatted_code) {\n",
       "                             nbb_cells[i].set_text(nbb_formatted_code);\n",
       "                        }\n",
       "                        break;\n",
       "                    }\n",
       "                }\n",
       "            }, 500);\n",
       "            "
      ],
      "text/plain": [
       "<IPython.core.display.Javascript object>"
      ]
     },
     "metadata": {},
     "output_type": "display_data"
    }
   ],
   "source": [
    "y_test.shape"
   ]
  },
  {
   "cell_type": "code",
   "execution_count": 35,
   "metadata": {
    "ExecuteTime": {
     "end_time": "2020-09-19T11:41:05.323714Z",
     "start_time": "2020-09-19T11:41:05.297910Z"
    }
   },
   "outputs": [
    {
     "data": {
      "text/plain": [
       "(160, 80)"
      ]
     },
     "execution_count": 35,
     "metadata": {},
     "output_type": "execute_result"
    },
    {
     "data": {
      "application/javascript": [
       "\n",
       "            setTimeout(function() {\n",
       "                var nbb_cell_id = 35;\n",
       "                var nbb_unformatted_code = \"encoded_output.shape\";\n",
       "                var nbb_formatted_code = \"encoded_output.shape\";\n",
       "                var nbb_cells = Jupyter.notebook.get_cells();\n",
       "                for (var i = 0; i < nbb_cells.length; ++i) {\n",
       "                    if (nbb_cells[i].input_prompt_number == nbb_cell_id) {\n",
       "                        if (nbb_cells[i].get_text() == nbb_unformatted_code) {\n",
       "                             nbb_cells[i].set_text(nbb_formatted_code);\n",
       "                        }\n",
       "                        break;\n",
       "                    }\n",
       "                }\n",
       "            }, 500);\n",
       "            "
      ],
      "text/plain": [
       "<IPython.core.display.Javascript object>"
      ]
     },
     "metadata": {},
     "output_type": "display_data"
    }
   ],
   "source": [
    "encoded_output.shape"
   ]
  },
  {
   "cell_type": "code",
   "execution_count": 36,
   "metadata": {
    "ExecuteTime": {
     "end_time": "2020-09-19T11:41:05.346861Z",
     "start_time": "2020-09-19T11:41:05.325165Z"
    }
   },
   "outputs": [
    {
     "data": {
      "text/plain": [
       "(160, 11)"
      ]
     },
     "execution_count": 36,
     "metadata": {},
     "output_type": "execute_result"
    },
    {
     "data": {
      "application/javascript": [
       "\n",
       "            setTimeout(function() {\n",
       "                var nbb_cell_id = 36;\n",
       "                var nbb_unformatted_code = \"explanations.shape\";\n",
       "                var nbb_formatted_code = \"explanations.shape\";\n",
       "                var nbb_cells = Jupyter.notebook.get_cells();\n",
       "                for (var i = 0; i < nbb_cells.length; ++i) {\n",
       "                    if (nbb_cells[i].input_prompt_number == nbb_cell_id) {\n",
       "                        if (nbb_cells[i].get_text() == nbb_unformatted_code) {\n",
       "                             nbb_cells[i].set_text(nbb_formatted_code);\n",
       "                        }\n",
       "                        break;\n",
       "                    }\n",
       "                }\n",
       "            }, 500);\n",
       "            "
      ],
      "text/plain": [
       "<IPython.core.display.Javascript object>"
      ]
     },
     "metadata": {},
     "output_type": "display_data"
    }
   ],
   "source": [
    "explanations.shape"
   ]
  },
  {
   "cell_type": "code",
   "execution_count": 37,
   "metadata": {
    "ExecuteTime": {
     "end_time": "2020-09-19T11:41:05.376172Z",
     "start_time": "2020-09-19T11:41:05.347847Z"
    }
   },
   "outputs": [
    {
     "data": {
      "application/javascript": [
       "\n",
       "            setTimeout(function() {\n",
       "                var nbb_cell_id = 37;\n",
       "                var nbb_unformatted_code = \"import matplotlib.pyplot as plt\\n\\n# plt.rcdefaults()\\nimport numpy as np\\nimport matplotlib.pyplot as plt\\n\\n\\ndef explain_plot(importances, columns):\\n    selection = np.argsort(-np.absolute(importances))[:10]\\n    # indexes = np.argsort(importances)\\n    performance = importances[selection]\\n    #     print(performance.shape)512, 256, 128, 64, 32, 1\\n    y_pos = np.arange(performance.shape[0])\\n\\n    plt.barh(y_pos, performance, align=\\\"center\\\", alpha=0.5)\\n    plt.yticks(y_pos, columns[selection])\\n    # plt.xlabel('Usage')\\n    plt.title(\\\"Feature importance\\\")\\n\\n    plt.show()\";\n",
       "                var nbb_formatted_code = \"import matplotlib.pyplot as plt\\n\\n# plt.rcdefaults()\\nimport numpy as np\\nimport matplotlib.pyplot as plt\\n\\n\\ndef explain_plot(importances, columns):\\n    selection = np.argsort(-np.absolute(importances))[:10]\\n    # indexes = np.argsort(importances)\\n    performance = importances[selection]\\n    #     print(performance.shape)512, 256, 128, 64, 32, 1\\n    y_pos = np.arange(performance.shape[0])\\n\\n    plt.barh(y_pos, performance, align=\\\"center\\\", alpha=0.5)\\n    plt.yticks(y_pos, columns[selection])\\n    # plt.xlabel('Usage')\\n    plt.title(\\\"Feature importance\\\")\\n\\n    plt.show()\";\n",
       "                var nbb_cells = Jupyter.notebook.get_cells();\n",
       "                for (var i = 0; i < nbb_cells.length; ++i) {\n",
       "                    if (nbb_cells[i].input_prompt_number == nbb_cell_id) {\n",
       "                        if (nbb_cells[i].get_text() == nbb_unformatted_code) {\n",
       "                             nbb_cells[i].set_text(nbb_formatted_code);\n",
       "                        }\n",
       "                        break;\n",
       "                    }\n",
       "                }\n",
       "            }, 500);\n",
       "            "
      ],
      "text/plain": [
       "<IPython.core.display.Javascript object>"
      ]
     },
     "metadata": {},
     "output_type": "display_data"
    }
   ],
   "source": [
    "import matplotlib.pyplot as plt\n",
    "\n",
    "# plt.rcdefaults()\n",
    "import numpy as np\n",
    "import matplotlib.pyplot as plt\n",
    "\n",
    "\n",
    "def explain_plot(importances, columns):\n",
    "    selection = np.argsort(-np.absolute(importances))[:10]\n",
    "    # indexes = np.argsort(importances)\n",
    "    performance = importances[selection]\n",
    "    #     print(performance.shape)512, 256, 128, 64, 32, 1\n",
    "    y_pos = np.arange(performance.shape[0])\n",
    "\n",
    "    plt.barh(y_pos, performance, align=\"center\", alpha=0.5)\n",
    "    plt.yticks(y_pos, columns[selection])\n",
    "    # plt.xlabel('Usage')\n",
    "    plt.title(\"Feature importance\")\n",
    "\n",
    "    plt.show()"
   ]
  },
  {
   "cell_type": "code",
   "execution_count": 38,
   "metadata": {
    "ExecuteTime": {
     "end_time": "2020-09-19T11:41:05.400111Z",
     "start_time": "2020-09-19T11:41:05.377224Z"
    }
   },
   "outputs": [
    {
     "data": {
      "text/plain": [
       "array(['sulphates', 'fixed acidity', 'volatile acidity', 'pH',\n",
       "       'citric acid', 'density', 'residual sugar', 'total sulfur dioxide',\n",
       "       'chlorides', 'free sulfur dioxide', 'alcohol'], dtype='<U20')"
      ]
     },
     "execution_count": 38,
     "metadata": {},
     "output_type": "execute_result"
    },
    {
     "data": {
      "application/javascript": [
       "\n",
       "            setTimeout(function() {\n",
       "                var nbb_cell_id = 38;\n",
       "                var nbb_unformatted_code = \"all_cols = np.array(params[\\\"bool_cols\\\"] + params[\\\"num_cols\\\"] + params[\\\"cat_cols\\\"])\\nall_cols\";\n",
       "                var nbb_formatted_code = \"all_cols = np.array(params[\\\"bool_cols\\\"] + params[\\\"num_cols\\\"] + params[\\\"cat_cols\\\"])\\nall_cols\";\n",
       "                var nbb_cells = Jupyter.notebook.get_cells();\n",
       "                for (var i = 0; i < nbb_cells.length; ++i) {\n",
       "                    if (nbb_cells[i].input_prompt_number == nbb_cell_id) {\n",
       "                        if (nbb_cells[i].get_text() == nbb_unformatted_code) {\n",
       "                             nbb_cells[i].set_text(nbb_formatted_code);\n",
       "                        }\n",
       "                        break;\n",
       "                    }\n",
       "                }\n",
       "            }, 500);\n",
       "            "
      ],
      "text/plain": [
       "<IPython.core.display.Javascript object>"
      ]
     },
     "metadata": {},
     "output_type": "display_data"
    }
   ],
   "source": [
    "all_cols = np.array(params[\"bool_cols\"] + params[\"num_cols\"] + params[\"cat_cols\"])\n",
    "all_cols"
   ]
  },
  {
   "cell_type": "markdown",
   "metadata": {
    "ExecuteTime": {
     "end_time": "2020-09-18T18:48:54.151671Z",
     "start_time": "2020-09-18T18:48:54.127488Z"
    }
   },
   "source": [
    "## Explain global"
   ]
  },
  {
   "cell_type": "code",
   "execution_count": 39,
   "metadata": {
    "ExecuteTime": {
     "end_time": "2020-09-19T11:41:05.421192Z",
     "start_time": "2020-09-19T11:41:05.400984Z"
    }
   },
   "outputs": [
    {
     "data": {
      "application/javascript": [
       "\n",
       "            setTimeout(function() {\n",
       "                var nbb_cell_id = 39;\n",
       "                var nbb_unformatted_code = \"# Looks like this is broken for now.\";\n",
       "                var nbb_formatted_code = \"# Looks like this is broken for now.\";\n",
       "                var nbb_cells = Jupyter.notebook.get_cells();\n",
       "                for (var i = 0; i < nbb_cells.length; ++i) {\n",
       "                    if (nbb_cells[i].input_prompt_number == nbb_cell_id) {\n",
       "                        if (nbb_cells[i].get_text() == nbb_unformatted_code) {\n",
       "                             nbb_cells[i].set_text(nbb_formatted_code);\n",
       "                        }\n",
       "                        break;\n",
       "                    }\n",
       "                }\n",
       "            }, 500);\n",
       "            "
      ],
      "text/plain": [
       "<IPython.core.display.Javascript object>"
      ]
     },
     "metadata": {},
     "output_type": "display_data"
    }
   ],
   "source": [
    "# Looks like this is broken for now."
   ]
  },
  {
   "cell_type": "code",
   "execution_count": 40,
   "metadata": {
    "ExecuteTime": {
     "end_time": "2020-09-19T11:41:05.542723Z",
     "start_time": "2020-09-19T11:41:05.422088Z"
    }
   },
   "outputs": [
    {
     "data": {
      "application/javascript": [
       "\n",
       "            setTimeout(function() {\n",
       "                var nbb_cell_id = 40;\n",
       "                var nbb_unformatted_code = \"probs_train, explanations_train = predict(model, input_train)\";\n",
       "                var nbb_formatted_code = \"probs_train, explanations_train = predict(model, input_train)\";\n",
       "                var nbb_cells = Jupyter.notebook.get_cells();\n",
       "                for (var i = 0; i < nbb_cells.length; ++i) {\n",
       "                    if (nbb_cells[i].input_prompt_number == nbb_cell_id) {\n",
       "                        if (nbb_cells[i].get_text() == nbb_unformatted_code) {\n",
       "                             nbb_cells[i].set_text(nbb_formatted_code);\n",
       "                        }\n",
       "                        break;\n",
       "                    }\n",
       "                }\n",
       "            }, 500);\n",
       "            "
      ],
      "text/plain": [
       "<IPython.core.display.Javascript object>"
      ]
     },
     "metadata": {},
     "output_type": "display_data"
    }
   ],
   "source": [
    "probs_train, explanations_train = predict(model, input_train)"
   ]
  },
  {
   "cell_type": "code",
   "execution_count": 41,
   "metadata": {
    "ExecuteTime": {
     "end_time": "2020-09-19T11:41:05.565870Z",
     "start_time": "2020-09-19T11:41:05.543602Z"
    }
   },
   "outputs": [
    {
     "data": {
      "application/javascript": [
       "\n",
       "            setTimeout(function() {\n",
       "                var nbb_cell_id = 41;\n",
       "                var nbb_unformatted_code = \"global_explain = np.abs(explanations_train).sum(axis=0)\\nglobal_explain = global_explain / np.abs(global_explain).sum()\";\n",
       "                var nbb_formatted_code = \"global_explain = np.abs(explanations_train).sum(axis=0)\\nglobal_explain = global_explain / np.abs(global_explain).sum()\";\n",
       "                var nbb_cells = Jupyter.notebook.get_cells();\n",
       "                for (var i = 0; i < nbb_cells.length; ++i) {\n",
       "                    if (nbb_cells[i].input_prompt_number == nbb_cell_id) {\n",
       "                        if (nbb_cells[i].get_text() == nbb_unformatted_code) {\n",
       "                             nbb_cells[i].set_text(nbb_formatted_code);\n",
       "                        }\n",
       "                        break;\n",
       "                    }\n",
       "                }\n",
       "            }, 500);\n",
       "            "
      ],
      "text/plain": [
       "<IPython.core.display.Javascript object>"
      ]
     },
     "metadata": {},
     "output_type": "display_data"
    }
   ],
   "source": [
    "global_explain = np.abs(explanations_train).sum(axis=0)\n",
    "global_explain = global_explain / np.abs(global_explain).sum()"
   ]
  },
  {
   "cell_type": "code",
   "execution_count": 42,
   "metadata": {
    "ExecuteTime": {
     "end_time": "2020-09-19T11:41:05.587979Z",
     "start_time": "2020-09-19T11:41:05.566840Z"
    }
   },
   "outputs": [
    {
     "data": {
      "text/plain": [
       "array([0.09086092, 0.09091417, 0.0908455 , 0.09107754, 0.09084366,\n",
       "       0.09086285, 0.090867  , 0.09085719, 0.09084128, 0.09091581,\n",
       "       0.09111409])"
      ]
     },
     "execution_count": 42,
     "metadata": {},
     "output_type": "execute_result"
    },
    {
     "data": {
      "application/javascript": [
       "\n",
       "            setTimeout(function() {\n",
       "                var nbb_cell_id = 42;\n",
       "                var nbb_unformatted_code = \"global_explain\";\n",
       "                var nbb_formatted_code = \"global_explain\";\n",
       "                var nbb_cells = Jupyter.notebook.get_cells();\n",
       "                for (var i = 0; i < nbb_cells.length; ++i) {\n",
       "                    if (nbb_cells[i].input_prompt_number == nbb_cell_id) {\n",
       "                        if (nbb_cells[i].get_text() == nbb_unformatted_code) {\n",
       "                             nbb_cells[i].set_text(nbb_formatted_code);\n",
       "                        }\n",
       "                        break;\n",
       "                    }\n",
       "                }\n",
       "            }, 500);\n",
       "            "
      ],
      "text/plain": [
       "<IPython.core.display.Javascript object>"
      ]
     },
     "metadata": {},
     "output_type": "display_data"
    }
   ],
   "source": [
    "global_explain"
   ]
  },
  {
   "cell_type": "code",
   "execution_count": 43,
   "metadata": {
    "ExecuteTime": {
     "end_time": "2020-09-19T11:41:05.704419Z",
     "start_time": "2020-09-19T11:41:05.588873Z"
    }
   },
   "outputs": [
    {
     "data": {
      "image/png": "[encoded data removed]",
      "text/plain": [
       "<Figure size 432x288 with 1 Axes>"
      ]
     },
     "metadata": {
      "needs_background": "light"
     },
     "output_type": "display_data"
    },
    {
     "data": {
      "application/javascript": [
       "\n",
       "            setTimeout(function() {\n",
       "                var nbb_cell_id = 43;\n",
       "                var nbb_unformatted_code = \"explain_plot(global_explain, all_cols)\";\n",
       "                var nbb_formatted_code = \"explain_plot(global_explain, all_cols)\";\n",
       "                var nbb_cells = Jupyter.notebook.get_cells();\n",
       "                for (var i = 0; i < nbb_cells.length; ++i) {\n",
       "                    if (nbb_cells[i].input_prompt_number == nbb_cell_id) {\n",
       "                        if (nbb_cells[i].get_text() == nbb_unformatted_code) {\n",
       "                             nbb_cells[i].set_text(nbb_formatted_code);\n",
       "                        }\n",
       "                        break;\n",
       "                    }\n",
       "                }\n",
       "            }, 500);\n",
       "            "
      ],
      "text/plain": [
       "<IPython.core.display.Javascript object>"
      ]
     },
     "metadata": {},
     "output_type": "display_data"
    }
   ],
   "source": [
    "explain_plot(global_explain, all_cols)"
   ]
  },
  {
   "cell_type": "markdown",
   "metadata": {},
   "source": [
    "## Explain local"
   ]
  },
  {
   "cell_type": "code",
   "execution_count": 44,
   "metadata": {
    "ExecuteTime": {
     "end_time": "2020-09-19T11:41:05.725776Z",
     "start_time": "2020-09-19T11:41:05.705414Z"
    }
   },
   "outputs": [
    {
     "data": {
      "application/javascript": [
       "\n",
       "            setTimeout(function() {\n",
       "                var nbb_cell_id = 44;\n",
       "                var nbb_unformatted_code = \"# Looks like this is broken for now.\";\n",
       "                var nbb_formatted_code = \"# Looks like this is broken for now.\";\n",
       "                var nbb_cells = Jupyter.notebook.get_cells();\n",
       "                for (var i = 0; i < nbb_cells.length; ++i) {\n",
       "                    if (nbb_cells[i].input_prompt_number == nbb_cell_id) {\n",
       "                        if (nbb_cells[i].get_text() == nbb_unformatted_code) {\n",
       "                             nbb_cells[i].set_text(nbb_formatted_code);\n",
       "                        }\n",
       "                        break;\n",
       "                    }\n",
       "                }\n",
       "            }, 500);\n",
       "            "
      ],
      "text/plain": [
       "<IPython.core.display.Javascript object>"
      ]
     },
     "metadata": {},
     "output_type": "display_data"
    }
   ],
   "source": [
    "# Looks like this is broken for now."
   ]
  },
  {
   "cell_type": "code",
   "execution_count": 45,
   "metadata": {
    "ExecuteTime": {
     "end_time": "2020-09-19T11:41:07.688719Z",
     "start_time": "2020-09-19T11:41:05.726668Z"
    }
   },
   "outputs": [
    {
     "data": {
      "image/png": "[encoded data removed]",
      "text/plain": [
       "<Figure size 432x288 with 1 Axes>"
      ]
     },
     "metadata": {
      "needs_background": "light"
     },
     "output_type": "display_data"
    },
    {
     "name": "stdout",
     "output_type": "stream",
     "text": [
      "5.155357837677002\n"
     ]
    },
    {
     "data": {
      "image/png": "[encoded data removed]",
      "text/plain": [
       "<Figure size 432x288 with 1 Axes>"
      ]
     },
     "metadata": {
      "needs_background": "light"
     },
     "output_type": "display_data"
    },
    {
     "name": "stdout",
     "output_type": "stream",
     "text": [
      "5.385986328125\n"
     ]
    },
    {
     "data": {
      "image/png": "[encoded data removed]",
      "text/plain": [
       "<Figure size 432x288 with 1 Axes>"
      ]
     },
     "metadata": {
      "needs_background": "light"
     },
     "output_type": "display_data"
    },
    {
     "name": "stdout",
     "output_type": "stream",
     "text": [
      "5.207136154174805\n"
     ]
    },
    {
     "data": {
      "image/png": "[encoded data removed]",
      "text/plain": [
       "<Figure size 432x288 with 1 Axes>"
      ]
     },
     "metadata": {
      "needs_background": "light"
     },
     "output_type": "display_data"
    },
    {
     "name": "stdout",
     "output_type": "stream",
     "text": [
      "5.255589962005615\n"
     ]
    },
    {
     "data": {
      "image/png": "[encoded data removed]",
      "text/plain": [
       "<Figure size 432x288 with 1 Axes>"
      ]
     },
     "metadata": {
      "needs_background": "light"
     },
     "output_type": "display_data"
    },
    {
     "name": "stdout",
     "output_type": "stream",
     "text": [
      "5.1348490715026855\n"
     ]
    },
    {
     "data": {
      "image/png": "[encoded data removed]",
      "text/plain": [
       "<Figure size 432x288 with 1 Axes>"
      ]
     },
     "metadata": {
      "needs_background": "light"
     },
     "output_type": "display_data"
    },
    {
     "name": "stdout",
     "output_type": "stream",
     "text": [
      "5.206116199493408\n"
     ]
    },
    {
     "data": {
      "image/png": "[encoded data removed]",
      "text/plain": [
       "<Figure size 432x288 with 1 Axes>"
      ]
     },
     "metadata": {
      "needs_background": "light"
     },
     "output_type": "display_data"
    },
    {
     "name": "stdout",
     "output_type": "stream",
     "text": [
      "5.352466106414795\n"
     ]
    },
    {
     "data": {
      "image/png": "[encoded data removed]",
      "text/plain": [
       "<Figure size 432x288 with 1 Axes>"
      ]
     },
     "metadata": {
      "needs_background": "light"
     },
     "output_type": "display_data"
    },
    {
     "name": "stdout",
     "output_type": "stream",
     "text": [
      "5.423414707183838\n"
     ]
    },
    {
     "data": {
      "image/png": "[encoded data removed]",
      "text/plain": [
       "<Figure size 432x288 with 1 Axes>"
      ]
     },
     "metadata": {
      "needs_background": "light"
     },
     "output_type": "display_data"
    },
    {
     "name": "stdout",
     "output_type": "stream",
     "text": [
      "5.348320484161377\n"
     ]
    },
    {
     "data": {
      "image/png": "[encoded data removed]",
      "text/plain": [
       "<Figure size 432x288 with 1 Axes>"
      ]
     },
     "metadata": {
      "needs_background": "light"
     },
     "output_type": "display_data"
    },
    {
     "name": "stdout",
     "output_type": "stream",
     "text": [
      "4.979255199432373\n"
     ]
    },
    {
     "data": {
      "image/png": "[encoded data removed]",
      "text/plain": [
       "<Figure size 432x288 with 1 Axes>"
      ]
     },
     "metadata": {
      "needs_background": "light"
     },
     "output_type": "display_data"
    },
    {
     "name": "stdout",
     "output_type": "stream",
     "text": [
      "5.109804630279541\n"
     ]
    },
    {
     "data": {
      "image/png": "[encoded data removed]",
      "text/plain": [
       "<Figure size 432x288 with 1 Axes>"
      ]
     },
     "metadata": {
      "needs_background": "light"
     },
     "output_type": "display_data"
    },
    {
     "name": "stdout",
     "output_type": "stream",
     "text": [
      "5.1121649742126465\n"
     ]
    },
    {
     "data": {
      "image/png": "[encoded data removed]",
      "text/plain": [
       "<Figure size 432x288 with 1 Axes>"
      ]
     },
     "metadata": {
      "needs_background": "light"
     },
     "output_type": "display_data"
    },
    {
     "name": "stdout",
     "output_type": "stream",
     "text": [
      "4.972585201263428\n"
     ]
    },
    {
     "data": {
      "image/png": "[encoded data removed]",
      "text/plain": [
       "<Figure size 432x288 with 1 Axes>"
      ]
     },
     "metadata": {
      "needs_background": "light"
     },
     "output_type": "display_data"
    },
    {
     "name": "stdout",
     "output_type": "stream",
     "text": [
      "5.163723468780518\n"
     ]
    },
    {
     "data": {
      "image/png": "[encoded data removed]",
      "text/plain": [
       "<Figure size 432x288 with 1 Axes>"
      ]
     },
     "metadata": {
      "needs_background": "light"
     },
     "output_type": "display_data"
    },
    {
     "name": "stdout",
     "output_type": "stream",
     "text": [
      "5.011050701141357\n"
     ]
    },
    {
     "data": {
      "image/png": "[encoded data removed]",
      "text/plain": [
       "<Figure size 432x288 with 1 Axes>"
      ]
     },
     "metadata": {
      "needs_background": "light"
     },
     "output_type": "display_data"
    },
    {
     "name": "stdout",
     "output_type": "stream",
     "text": [
      "5.351734638214111\n"
     ]
    },
    {
     "data": {
      "image/png": "[encoded data removed]",
      "text/plain": [
       "<Figure size 432x288 with 1 Axes>"
      ]
     },
     "metadata": {
      "needs_background": "light"
     },
     "output_type": "display_data"
    },
    {
     "name": "stdout",
     "output_type": "stream",
     "text": [
      "5.011688709259033\n"
     ]
    },
    {
     "data": {
      "image/png": "[encoded data removed]",
      "text/plain": [
       "<Figure size 432x288 with 1 Axes>"
      ]
     },
     "metadata": {
      "needs_background": "light"
     },
     "output_type": "display_data"
    },
    {
     "name": "stdout",
     "output_type": "stream",
     "text": [
      "5.288669109344482\n"
     ]
    },
    {
     "data": {
      "image/png": "[encoded data removed]",
      "text/plain": [
       "<Figure size 432x288 with 1 Axes>"
      ]
     },
     "metadata": {
      "needs_background": "light"
     },
     "output_type": "display_data"
    },
    {
     "name": "stdout",
     "output_type": "stream",
     "text": [
      "5.075244426727295\n"
     ]
    },
    {
     "data": {
      "image/png": "[encoded data removed]",
      "text/plain": [
       "<Figure size 432x288 with 1 Axes>"
      ]
     },
     "metadata": {
      "needs_background": "light"
     },
     "output_type": "display_data"
    },
    {
     "name": "stdout",
     "output_type": "stream",
     "text": [
      "6.550312519073486\n"
     ]
    },
    {
     "data": {
      "application/javascript": [
       "\n",
       "            setTimeout(function() {\n",
       "                var nbb_cell_id = 45;\n",
       "                var nbb_unformatted_code = \"for i in range(20):\\n    explain_plot(explanations[i], all_cols)\\n    print(probs[i].item())\";\n",
       "                var nbb_formatted_code = \"for i in range(20):\\n    explain_plot(explanations[i], all_cols)\\n    print(probs[i].item())\";\n",
       "                var nbb_cells = Jupyter.notebook.get_cells();\n",
       "                for (var i = 0; i < nbb_cells.length; ++i) {\n",
       "                    if (nbb_cells[i].input_prompt_number == nbb_cell_id) {\n",
       "                        if (nbb_cells[i].get_text() == nbb_unformatted_code) {\n",
       "                             nbb_cells[i].set_text(nbb_formatted_code);\n",
       "                        }\n",
       "                        break;\n",
       "                    }\n",
       "                }\n",
       "            }, 500);\n",
       "            "
      ],
      "text/plain": [
       "<IPython.core.display.Javascript object>"
      ]
     },
     "metadata": {},
     "output_type": "display_data"
    }
   ],
   "source": [
    "for i in range(20):\n",
    "    explain_plot(explanations[i], all_cols)\n",
    "    print(probs[i].item())"
   ]
  },
  {
   "cell_type": "code",
   "execution_count": 46,
   "metadata": {
    "ExecuteTime": {
     "end_time": "2020-09-19T11:41:07.710374Z",
     "start_time": "2020-09-19T11:41:07.689659Z"
    }
   },
   "outputs": [
    {
     "data": {
      "application/javascript": [
       "\n",
       "            setTimeout(function() {\n",
       "                var nbb_cell_id = 46;\n",
       "                var nbb_unformatted_code = \"from sklearn.metrics import confusion_matrix\";\n",
       "                var nbb_formatted_code = \"from sklearn.metrics import confusion_matrix\";\n",
       "                var nbb_cells = Jupyter.notebook.get_cells();\n",
       "                for (var i = 0; i < nbb_cells.length; ++i) {\n",
       "                    if (nbb_cells[i].input_prompt_number == nbb_cell_id) {\n",
       "                        if (nbb_cells[i].get_text() == nbb_unformatted_code) {\n",
       "                             nbb_cells[i].set_text(nbb_formatted_code);\n",
       "                        }\n",
       "                        break;\n",
       "                    }\n",
       "                }\n",
       "            }, 500);\n",
       "            "
      ],
      "text/plain": [
       "<IPython.core.display.Javascript object>"
      ]
     },
     "metadata": {},
     "output_type": "display_data"
    }
   ],
   "source": [
    "from sklearn.metrics import confusion_matrix"
   ]
  },
  {
   "cell_type": "code",
   "execution_count": 47,
   "metadata": {
    "ExecuteTime": {
     "end_time": "2020-09-19T11:41:07.812402Z",
     "start_time": "2020-09-19T11:41:07.711313Z"
    }
   },
   "outputs": [
    {
     "data": {
      "application/javascript": [
       "\n",
       "            setTimeout(function() {\n",
       "                var nbb_cell_id = 47;\n",
       "                var nbb_unformatted_code = \"probs_test, explanations_train = predict(model, input_test)\";\n",
       "                var nbb_formatted_code = \"probs_test, explanations_train = predict(model, input_test)\";\n",
       "                var nbb_cells = Jupyter.notebook.get_cells();\n",
       "                for (var i = 0; i < nbb_cells.length; ++i) {\n",
       "                    if (nbb_cells[i].input_prompt_number == nbb_cell_id) {\n",
       "                        if (nbb_cells[i].get_text() == nbb_unformatted_code) {\n",
       "                             nbb_cells[i].set_text(nbb_formatted_code);\n",
       "                        }\n",
       "                        break;\n",
       "                    }\n",
       "                }\n",
       "            }, 500);\n",
       "            "
      ],
      "text/plain": [
       "<IPython.core.display.Javascript object>"
      ]
     },
     "metadata": {},
     "output_type": "display_data"
    }
   ],
   "source": [
    "probs_test, explanations_train = predict(model, input_test)"
   ]
  },
  {
   "cell_type": "code",
   "execution_count": 48,
   "metadata": {
    "ExecuteTime": {
     "end_time": "2020-09-19T11:41:07.952236Z",
     "start_time": "2020-09-19T11:41:07.813451Z"
    }
   },
   "outputs": [
    {
     "data": {
      "image/png": "[encoded data removed]",
      "text/plain": [
       "<Figure size 432x288 with 1 Axes>"
      ]
     },
     "metadata": {
      "needs_background": "light"
     },
     "output_type": "display_data"
    },
    {
     "data": {
      "application/javascript": [
       "\n",
       "            setTimeout(function() {\n",
       "                var nbb_cell_id = 48;\n",
       "                var nbb_unformatted_code = \"# plt.barh(y_pos, performance, align=\\\"center\\\", alpha=0.5)\\n# plt.yticks(y_pos, columns[selection])\\nplt.ylabel(\\\"Predicted value\\\")\\nplt.xlabel(\\\"Truth value\\\")\\n\\nplt.title(\\\"Scatter plot of prediction vs truth\\\")\\nplt.scatter(y_test, probs_test)\\nplt.plot([np.min(y_test), np.max(y_test)], [np.min(y_test), np.max(y_test)])\\nplt.grid(True)\\nplt.show()\";\n",
       "                var nbb_formatted_code = \"# plt.barh(y_pos, performance, align=\\\"center\\\", alpha=0.5)\\n# plt.yticks(y_pos, columns[selection])\\nplt.ylabel(\\\"Predicted value\\\")\\nplt.xlabel(\\\"Truth value\\\")\\n\\nplt.title(\\\"Scatter plot of prediction vs truth\\\")\\nplt.scatter(y_test, probs_test)\\nplt.plot([np.min(y_test), np.max(y_test)], [np.min(y_test), np.max(y_test)])\\nplt.grid(True)\\nplt.show()\";\n",
       "                var nbb_cells = Jupyter.notebook.get_cells();\n",
       "                for (var i = 0; i < nbb_cells.length; ++i) {\n",
       "                    if (nbb_cells[i].input_prompt_number == nbb_cell_id) {\n",
       "                        if (nbb_cells[i].get_text() == nbb_unformatted_code) {\n",
       "                             nbb_cells[i].set_text(nbb_formatted_code);\n",
       "                        }\n",
       "                        break;\n",
       "                    }\n",
       "                }\n",
       "            }, 500);\n",
       "            "
      ],
      "text/plain": [
       "<IPython.core.display.Javascript object>"
      ]
     },
     "metadata": {},
     "output_type": "display_data"
    }
   ],
   "source": [
    "# plt.barh(y_pos, performance, align=\"center\", alpha=0.5)\n",
    "# plt.yticks(y_pos, columns[selection])\n",
    "plt.ylabel(\"Predicted value\")\n",
    "plt.xlabel(\"Truth value\")\n",
    "\n",
    "plt.title(\"Scatter plot of prediction vs truth\")\n",
    "plt.scatter(y_test, probs_test)\n",
    "plt.plot([np.min(y_test), np.max(y_test)], [np.min(y_test), np.max(y_test)])\n",
    "plt.grid(True)\n",
    "plt.show()"
   ]
  },
  {
   "cell_type": "code",
   "execution_count": 49,
   "metadata": {
    "ExecuteTime": {
     "end_time": "2020-09-19T11:41:07.975980Z",
     "start_time": "2020-09-19T11:41:07.953289Z"
    }
   },
   "outputs": [
    {
     "data": {
      "text/plain": [
       "array([[5.155358 ],\n",
       "       [5.3859863],\n",
       "       [5.207136 ],\n",
       "       [5.25559  ],\n",
       "       [5.134849 ],\n",
       "       [5.206116 ],\n",
       "       [5.352466 ],\n",
       "       [5.4234147],\n",
       "       [5.3483205],\n",
       "       [4.979255 ],\n",
       "       [5.1098046],\n",
       "       [5.112165 ],\n",
       "       [4.972585 ],\n",
       "       [5.1637235],\n",
       "       [5.0110507],\n",
       "       [5.3517346],\n",
       "       [5.0116887],\n",
       "       [5.288669 ],\n",
       "       [5.0752444],\n",
       "       [6.5503125],\n",
       "       [4.817222 ],\n",
       "       [5.615053 ],\n",
       "       [5.7280564],\n",
       "       [5.8001885],\n",
       "       [5.690249 ],\n",
       "       [5.3275294],\n",
       "       [5.8655553],\n",
       "       [5.5934253],\n",
       "       [5.5136843],\n",
       "       [5.251225 ],\n",
       "       [5.697165 ],\n",
       "       [5.272288 ],\n",
       "       [5.6685634],\n",
       "       [5.552794 ],\n",
       "       [5.3117156],\n",
       "       [5.445111 ],\n",
       "       [6.1224236],\n",
       "       [6.819473 ],\n",
       "       [6.48958  ],\n",
       "       [6.5828805],\n",
       "       [5.591359 ],\n",
       "       [5.336201 ],\n",
       "       [5.1947775],\n",
       "       [6.3428226],\n",
       "       [5.607508 ],\n",
       "       [6.038602 ],\n",
       "       [5.018456 ],\n",
       "       [5.7368937],\n",
       "       [4.9231553],\n",
       "       [5.3415723],\n",
       "       [4.993771 ],\n",
       "       [5.670444 ],\n",
       "       [4.9884763],\n",
       "       [5.6618276],\n",
       "       [6.4351764],\n",
       "       [5.6055045],\n",
       "       [5.575622 ],\n",
       "       [5.798222 ],\n",
       "       [5.3875656],\n",
       "       [6.427708 ],\n",
       "       [6.0974774],\n",
       "       [5.58795  ],\n",
       "       [5.365035 ],\n",
       "       [5.677557 ],\n",
       "       [5.224018 ],\n",
       "       [5.3083296],\n",
       "       [5.1374288],\n",
       "       [5.3305745],\n",
       "       [5.6038475],\n",
       "       [5.3009806],\n",
       "       [6.5612655],\n",
       "       [5.7148747],\n",
       "       [5.0751624],\n",
       "       [5.0062337],\n",
       "       [5.020482 ],\n",
       "       [5.2165112],\n",
       "       [5.799314 ],\n",
       "       [5.1707935],\n",
       "       [6.4743342],\n",
       "       [5.2414427],\n",
       "       [5.603525 ],\n",
       "       [5.2515254],\n",
       "       [5.4202137],\n",
       "       [5.108211 ],\n",
       "       [5.3396554],\n",
       "       [4.963829 ],\n",
       "       [4.9740233],\n",
       "       [6.165277 ],\n",
       "       [5.2797194],\n",
       "       [5.798077 ],\n",
       "       [5.954992 ],\n",
       "       [5.4655023],\n",
       "       [5.305428 ],\n",
       "       [5.5425487],\n",
       "       [5.4230165],\n",
       "       [5.579183 ],\n",
       "       [6.582417 ],\n",
       "       [5.669336 ],\n",
       "       [6.2387643],\n",
       "       [6.3350673],\n",
       "       [6.0685377],\n",
       "       [5.5670114],\n",
       "       [5.7297134],\n",
       "       [6.7208514],\n",
       "       [5.584995 ],\n",
       "       [5.430246 ],\n",
       "       [5.413033 ],\n",
       "       [5.5911636],\n",
       "       [5.459659 ],\n",
       "       [5.795138 ],\n",
       "       [6.5512185],\n",
       "       [5.4986053],\n",
       "       [5.6624956],\n",
       "       [6.580778 ],\n",
       "       [5.944016 ],\n",
       "       [5.7510543],\n",
       "       [6.214049 ],\n",
       "       [6.1759534],\n",
       "       [5.0765367],\n",
       "       [5.4228377],\n",
       "       [6.2326612],\n",
       "       [5.760617 ],\n",
       "       [5.284638 ],\n",
       "       [5.5666595],\n",
       "       [5.4913106],\n",
       "       [5.173981 ],\n",
       "       [5.245803 ],\n",
       "       [5.3863206],\n",
       "       [5.9464293],\n",
       "       [6.39271  ],\n",
       "       [5.413262 ],\n",
       "       [6.453806 ],\n",
       "       [5.545939 ],\n",
       "       [5.633869 ],\n",
       "       [6.6929   ],\n",
       "       [6.6572437],\n",
       "       [5.7477107],\n",
       "       [4.9763913],\n",
       "       [5.673474 ],\n",
       "       [5.13547  ],\n",
       "       [5.281299 ],\n",
       "       [5.1988072],\n",
       "       [6.481765 ],\n",
       "       [5.251373 ],\n",
       "       [4.706525 ],\n",
       "       [5.0643373],\n",
       "       [5.592271 ],\n",
       "       [5.434448 ],\n",
       "       [6.641702 ],\n",
       "       [4.101213 ],\n",
       "       [5.48821  ],\n",
       "       [5.7314935],\n",
       "       [5.490663 ],\n",
       "       [5.353665 ],\n",
       "       [5.2629876],\n",
       "       [5.522842 ],\n",
       "       [6.2652144],\n",
       "       [6.7071013],\n",
       "       [6.0547004],\n",
       "       [5.5724616]], dtype=float32)"
      ]
     },
     "execution_count": 49,
     "metadata": {},
     "output_type": "execute_result"
    },
    {
     "data": {
      "application/javascript": [
       "\n",
       "            setTimeout(function() {\n",
       "                var nbb_cell_id = 49;\n",
       "                var nbb_unformatted_code = \"probs_test\";\n",
       "                var nbb_formatted_code = \"probs_test\";\n",
       "                var nbb_cells = Jupyter.notebook.get_cells();\n",
       "                for (var i = 0; i < nbb_cells.length; ++i) {\n",
       "                    if (nbb_cells[i].input_prompt_number == nbb_cell_id) {\n",
       "                        if (nbb_cells[i].get_text() == nbb_unformatted_code) {\n",
       "                             nbb_cells[i].set_text(nbb_formatted_code);\n",
       "                        }\n",
       "                        break;\n",
       "                    }\n",
       "                }\n",
       "            }, 500);\n",
       "            "
      ],
      "text/plain": [
       "<IPython.core.display.Javascript object>"
      ]
     },
     "metadata": {},
     "output_type": "display_data"
    }
   ],
   "source": [
    "probs_test"
   ]
  },
  {
   "cell_type": "code",
   "execution_count": 50,
   "metadata": {
    "ExecuteTime": {
     "end_time": "2020-09-19T11:41:08.091287Z",
     "start_time": "2020-09-19T11:41:07.977020Z"
    }
   },
   "outputs": [
    {
     "data": {
      "image/png": "[encoded data removed]",
      "text/plain": [
       "<Figure size 432x288 with 1 Axes>"
      ]
     },
     "metadata": {
      "needs_background": "light"
     },
     "output_type": "display_data"
    },
    {
     "data": {
      "application/javascript": [
       "\n",
       "            setTimeout(function() {\n",
       "                var nbb_cell_id = 50;\n",
       "                var nbb_unformatted_code = \"plt.hist(y_test.reshape(-1) - probs_test.reshape(-1), bins=10)\\nplt.xlabel(\\\"Error value\\\")\\nplt.ylabel(\\\"Counts\\\")\\nplt.show()\";\n",
       "                var nbb_formatted_code = \"plt.hist(y_test.reshape(-1) - probs_test.reshape(-1), bins=10)\\nplt.xlabel(\\\"Error value\\\")\\nplt.ylabel(\\\"Counts\\\")\\nplt.show()\";\n",
       "                var nbb_cells = Jupyter.notebook.get_cells();\n",
       "                for (var i = 0; i < nbb_cells.length; ++i) {\n",
       "                    if (nbb_cells[i].input_prompt_number == nbb_cell_id) {\n",
       "                        if (nbb_cells[i].get_text() == nbb_unformatted_code) {\n",
       "                             nbb_cells[i].set_text(nbb_formatted_code);\n",
       "                        }\n",
       "                        break;\n",
       "                    }\n",
       "                }\n",
       "            }, 500);\n",
       "            "
      ],
      "text/plain": [
       "<IPython.core.display.Javascript object>"
      ]
     },
     "metadata": {},
     "output_type": "display_data"
    }
   ],
   "source": [
    "plt.hist(y_test.reshape(-1) - probs_test.reshape(-1), bins=10)\n",
    "plt.xlabel(\"Error value\")\n",
    "plt.ylabel(\"Counts\")\n",
    "plt.show()"
   ]
  },
  {
   "cell_type": "code",
   "execution_count": 51,
   "metadata": {
    "ExecuteTime": {
     "end_time": "2020-09-19T11:41:08.211153Z",
     "start_time": "2020-09-19T11:41:08.092159Z"
    }
   },
   "outputs": [
    {
     "data": {
      "image/png": "[encoded data removed]",
      "text/plain": [
       "<Figure size 432x288 with 1 Axes>"
      ]
     },
     "metadata": {
      "needs_background": "light"
     },
     "output_type": "display_data"
    },
    {
     "data": {
      "application/javascript": [
       "\n",
       "            setTimeout(function() {\n",
       "                var nbb_cell_id = 51;\n",
       "                var nbb_unformatted_code = \"plt.hist(np.abs(y_test.reshape(-1) - probs_test.reshape(-1)), bins=10)\\nplt.xlabel(\\\"Error value (absolute)\\\")\\nplt.ylabel(\\\"Counts\\\")\\nplt.show()\";\n",
       "                var nbb_formatted_code = \"plt.hist(np.abs(y_test.reshape(-1) - probs_test.reshape(-1)), bins=10)\\nplt.xlabel(\\\"Error value (absolute)\\\")\\nplt.ylabel(\\\"Counts\\\")\\nplt.show()\";\n",
       "                var nbb_cells = Jupyter.notebook.get_cells();\n",
       "                for (var i = 0; i < nbb_cells.length; ++i) {\n",
       "                    if (nbb_cells[i].input_prompt_number == nbb_cell_id) {\n",
       "                        if (nbb_cells[i].get_text() == nbb_unformatted_code) {\n",
       "                             nbb_cells[i].set_text(nbb_formatted_code);\n",
       "                        }\n",
       "                        break;\n",
       "                    }\n",
       "                }\n",
       "            }, 500);\n",
       "            "
      ],
      "text/plain": [
       "<IPython.core.display.Javascript object>"
      ]
     },
     "metadata": {},
     "output_type": "display_data"
    }
   ],
   "source": [
    "plt.hist(np.abs(y_test.reshape(-1) - probs_test.reshape(-1)), bins=10)\n",
    "plt.xlabel(\"Error value (absolute)\")\n",
    "plt.ylabel(\"Counts\")\n",
    "plt.show()"
   ]
  },
  {
   "cell_type": "code",
   "execution_count": null,
   "metadata": {},
   "outputs": [],
   "source": []
  }
 ],
 "metadata": {
  "kernelspec": {
   "display_name": "Python 3",
   "language": "python",
   "name": "python3"
  },
  "language_info": {
   "codemirror_mode": {
    "name": "ipython",
    "version": 3
   },
   "file_extension": ".py",
   "mimetype": "text/x-python",
   "name": "python",
   "nbconvert_exporter": "python",
   "pygments_lexer": "ipython3",
   "version": "3.7.9"
  }
 },
 "nbformat": 4,
 "nbformat_minor": 4
}
