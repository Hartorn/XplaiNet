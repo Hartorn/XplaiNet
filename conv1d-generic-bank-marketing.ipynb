{
 "cells": [
  {
   "cell_type": "code",
   "execution_count": 1,
   "metadata": {
    "ExecuteTime": {
     "end_time": "2020-09-19T17:11:17.694159Z",
     "start_time": "2020-09-19T17:11:17.610135Z"
    }
   },
   "outputs": [
    {
     "data": {
      "application/javascript": [
       "\n",
       "            setTimeout(function() {\n",
       "                var nbb_cell_id = 1;\n",
       "                var nbb_unformatted_code = \"%load_ext nb_black\\n%load_ext autoreload\\n\\n%autoreload 2\";\n",
       "                var nbb_formatted_code = \"%load_ext nb_black\\n%load_ext autoreload\\n\\n%autoreload 2\";\n",
       "                var nbb_cells = Jupyter.notebook.get_cells();\n",
       "                for (var i = 0; i < nbb_cells.length; ++i) {\n",
       "                    if (nbb_cells[i].input_prompt_number == nbb_cell_id) {\n",
       "                        if (nbb_cells[i].get_text() == nbb_unformatted_code) {\n",
       "                             nbb_cells[i].set_text(nbb_formatted_code);\n",
       "                        }\n",
       "                        break;\n",
       "                    }\n",
       "                }\n",
       "            }, 500);\n",
       "            "
      ],
      "text/plain": [
       "<IPython.core.display.Javascript object>"
      ]
     },
     "metadata": {},
     "output_type": "display_data"
    }
   ],
   "source": [
    "%load_ext nb_black\n",
    "%load_ext autoreload\n",
    "\n",
    "%autoreload 2"
   ]
  },
  {
   "cell_type": "code",
   "execution_count": 2,
   "metadata": {
    "ExecuteTime": {
     "end_time": "2020-09-19T17:11:18.871796Z",
     "start_time": "2020-09-19T17:11:17.695143Z"
    }
   },
   "outputs": [
    {
     "data": {
      "application/javascript": [
       "\n",
       "            setTimeout(function() {\n",
       "                var nbb_cell_id = 2;\n",
       "                var nbb_unformatted_code = \"import os\\nfrom pathlib import Path\\n\\nfrom requests import get\\nimport pandas as pd\\nimport numpy as np\\n\\nfrom sklearn.metrics import roc_auc_score, log_loss\\nfrom sklearn.preprocessing import LabelEncoder\\nfrom tensorflow.keras.utils import plot_model\\nfrom tensorflow.keras.callbacks import EarlyStopping\\n\\nimport logging\\n\\nlogging.basicConfig(level=logging.WARN)\";\n",
       "                var nbb_formatted_code = \"import os\\nfrom pathlib import Path\\n\\nfrom requests import get\\nimport pandas as pd\\nimport numpy as np\\n\\nfrom sklearn.metrics import roc_auc_score, log_loss\\nfrom sklearn.preprocessing import LabelEncoder\\nfrom tensorflow.keras.utils import plot_model\\nfrom tensorflow.keras.callbacks import EarlyStopping\\n\\nimport logging\\n\\nlogging.basicConfig(level=logging.WARN)\";\n",
       "                var nbb_cells = Jupyter.notebook.get_cells();\n",
       "                for (var i = 0; i < nbb_cells.length; ++i) {\n",
       "                    if (nbb_cells[i].input_prompt_number == nbb_cell_id) {\n",
       "                        if (nbb_cells[i].get_text() == nbb_unformatted_code) {\n",
       "                             nbb_cells[i].set_text(nbb_formatted_code);\n",
       "                        }\n",
       "                        break;\n",
       "                    }\n",
       "                }\n",
       "            }, 500);\n",
       "            "
      ],
      "text/plain": [
       "<IPython.core.display.Javascript object>"
      ]
     },
     "metadata": {},
     "output_type": "display_data"
    }
   ],
   "source": [
    "import os\n",
    "from pathlib import Path\n",
    "\n",
    "from requests import get\n",
    "import pandas as pd\n",
    "import numpy as np\n",
    "\n",
    "from sklearn.metrics import roc_auc_score, log_loss\n",
    "from sklearn.preprocessing import LabelEncoder\n",
    "from tensorflow.keras.utils import plot_model\n",
    "from tensorflow.keras.callbacks import EarlyStopping\n",
    "\n",
    "import logging\n",
    "\n",
    "logging.basicConfig(level=logging.WARN)"
   ]
  },
  {
   "cell_type": "code",
   "execution_count": 3,
   "metadata": {
    "ExecuteTime": {
     "end_time": "2020-09-19T17:11:19.051396Z",
     "start_time": "2020-09-19T17:11:18.873200Z"
    }
   },
   "outputs": [
    {
     "data": {
      "application/javascript": [
       "\n",
       "            setTimeout(function() {\n",
       "                var nbb_cell_id = 3;\n",
       "                var nbb_unformatted_code = \"from xplainet.input_utils import preproc_dataset\\nfrom xplainet.model import build_model\\nfrom xplainet.random_utils import setup_seed, SEED\\nfrom sklearn.model_selection import StratifiedShuffleSplit\\n\\nimport matplotlib.pyplot as plt\\nfrom matplotlib.pyplot import imshow\\n\\n%matplotlib inline\\n\\nfrom zipfile import ZipFile\";\n",
       "                var nbb_formatted_code = \"from xplainet.input_utils import preproc_dataset\\nfrom xplainet.model import build_model\\nfrom xplainet.random_utils import setup_seed, SEED\\nfrom sklearn.model_selection import StratifiedShuffleSplit\\n\\nimport matplotlib.pyplot as plt\\nfrom matplotlib.pyplot import imshow\\n\\n%matplotlib inline\\n\\nfrom zipfile import ZipFile\";\n",
       "                var nbb_cells = Jupyter.notebook.get_cells();\n",
       "                for (var i = 0; i < nbb_cells.length; ++i) {\n",
       "                    if (nbb_cells[i].input_prompt_number == nbb_cell_id) {\n",
       "                        if (nbb_cells[i].get_text() == nbb_unformatted_code) {\n",
       "                             nbb_cells[i].set_text(nbb_formatted_code);\n",
       "                        }\n",
       "                        break;\n",
       "                    }\n",
       "                }\n",
       "            }, 500);\n",
       "            "
      ],
      "text/plain": [
       "<IPython.core.display.Javascript object>"
      ]
     },
     "metadata": {},
     "output_type": "display_data"
    }
   ],
   "source": [
    "from xplainet.input_utils import preproc_dataset\n",
    "from xplainet.model import build_model\n",
    "from xplainet.random_utils import setup_seed, SEED\n",
    "from sklearn.model_selection import StratifiedShuffleSplit\n",
    "\n",
    "import matplotlib.pyplot as plt\n",
    "from matplotlib.pyplot import imshow\n",
    "\n",
    "%matplotlib inline\n",
    "\n",
    "from zipfile import ZipFile"
   ]
  },
  {
   "cell_type": "code",
   "execution_count": 4,
   "metadata": {
    "ExecuteTime": {
     "end_time": "2020-09-19T17:11:19.074232Z",
     "start_time": "2020-09-19T17:11:19.052482Z"
    }
   },
   "outputs": [
    {
     "data": {
      "application/javascript": [
       "\n",
       "            setTimeout(function() {\n",
       "                var nbb_cell_id = 4;\n",
       "                var nbb_unformatted_code = \"setup_seed()\";\n",
       "                var nbb_formatted_code = \"setup_seed()\";\n",
       "                var nbb_cells = Jupyter.notebook.get_cells();\n",
       "                for (var i = 0; i < nbb_cells.length; ++i) {\n",
       "                    if (nbb_cells[i].input_prompt_number == nbb_cell_id) {\n",
       "                        if (nbb_cells[i].get_text() == nbb_unformatted_code) {\n",
       "                             nbb_cells[i].set_text(nbb_formatted_code);\n",
       "                        }\n",
       "                        break;\n",
       "                    }\n",
       "                }\n",
       "            }, 500);\n",
       "            "
      ],
      "text/plain": [
       "<IPython.core.display.Javascript object>"
      ]
     },
     "metadata": {},
     "output_type": "display_data"
    }
   ],
   "source": [
    "setup_seed()"
   ]
  },
  {
   "cell_type": "code",
   "execution_count": 5,
   "metadata": {
    "ExecuteTime": {
     "end_time": "2020-09-19T17:11:19.156922Z",
     "start_time": "2020-09-19T17:11:19.075218Z"
    }
   },
   "outputs": [
    {
     "data": {
      "application/javascript": [
       "\n",
       "            setTimeout(function() {\n",
       "                var nbb_cell_id = 5;\n",
       "                var nbb_unformatted_code = \"def download(url, out, force=False, verify=True):\\n    out.parent.mkdir(parents=True, exist_ok=True)\\n    if force and out.exists():\\n        print(f\\\"Removing file at {str(out)}\\\")\\n        out.unlink()\\n\\n    if out.exists():\\n        print(\\\"File already exists.\\\")\\n        return\\n    print(f\\\"Downloading {url} at {str(out)} ...\\\")\\n    # open in binary mode\\n    with out.open(mode=\\\"wb\\\") as file:\\n        # get request\\n        response = get(url, verify=verify)\\n        for chunk in response.iter_content(100000):\\n            # write to file\\n            file.write(chunk)\";\n",
       "                var nbb_formatted_code = \"def download(url, out, force=False, verify=True):\\n    out.parent.mkdir(parents=True, exist_ok=True)\\n    if force and out.exists():\\n        print(f\\\"Removing file at {str(out)}\\\")\\n        out.unlink()\\n\\n    if out.exists():\\n        print(\\\"File already exists.\\\")\\n        return\\n    print(f\\\"Downloading {url} at {str(out)} ...\\\")\\n    # open in binary mode\\n    with out.open(mode=\\\"wb\\\") as file:\\n        # get request\\n        response = get(url, verify=verify)\\n        for chunk in response.iter_content(100000):\\n            # write to file\\n            file.write(chunk)\";\n",
       "                var nbb_cells = Jupyter.notebook.get_cells();\n",
       "                for (var i = 0; i < nbb_cells.length; ++i) {\n",
       "                    if (nbb_cells[i].input_prompt_number == nbb_cell_id) {\n",
       "                        if (nbb_cells[i].get_text() == nbb_unformatted_code) {\n",
       "                             nbb_cells[i].set_text(nbb_formatted_code);\n",
       "                        }\n",
       "                        break;\n",
       "                    }\n",
       "                }\n",
       "            }, 500);\n",
       "            "
      ],
      "text/plain": [
       "<IPython.core.display.Javascript object>"
      ]
     },
     "metadata": {},
     "output_type": "display_data"
    }
   ],
   "source": [
    "def download(url, out, force=False, verify=True):\n",
    "    out.parent.mkdir(parents=True, exist_ok=True)\n",
    "    if force and out.exists():\n",
    "        print(f\"Removing file at {str(out)}\")\n",
    "        out.unlink()\n",
    "\n",
    "    if out.exists():\n",
    "        print(\"File already exists.\")\n",
    "        return\n",
    "    print(f\"Downloading {url} at {str(out)} ...\")\n",
    "    # open in binary mode\n",
    "    with out.open(mode=\"wb\") as file:\n",
    "        # get request\n",
    "        response = get(url, verify=verify)\n",
    "        for chunk in response.iter_content(100000):\n",
    "            # write to file\n",
    "            file.write(chunk)\n"
   ]
  },
  {
   "cell_type": "code",
   "execution_count": 6,
   "metadata": {
    "ExecuteTime": {
     "end_time": "2020-09-19T17:11:19.201097Z",
     "start_time": "2020-09-19T17:11:19.157942Z"
    }
   },
   "outputs": [
    {
     "data": {
      "application/javascript": [
       "\n",
       "            setTimeout(function() {\n",
       "                var nbb_cell_id = 6;\n",
       "                var nbb_unformatted_code = \"def plot_history(history):\\n    loss_list = [s for s in history.history.keys() if \\\"loss\\\" in s and \\\"val\\\" not in s]\\n    val_loss_list = [s for s in history.history.keys() if \\\"loss\\\" in s and \\\"val\\\" in s]\\n    acc_list = [s for s in history.history.keys() if \\\"AUC\\\" in s and \\\"val\\\" not in s]\\n    val_acc_list = [s for s in history.history.keys() if \\\"AUC\\\" in s and \\\"val\\\" in s]\\n\\n    if len(loss_list) == 0:\\n        print(\\\"Loss is missing in history\\\")\\n        return\\n\\n    ## As loss always exists\\n    epochs = range(1, len(history.history[loss_list[0]]) + 1)\\n\\n    ## Loss\\n    plt.figure(1)\\n    for l in loss_list:\\n        plt.plot(\\n            epochs,\\n            history.history[l],\\n            \\\"b\\\",\\n            label=\\\"Training loss (\\\"\\n            + str(str(format(history.history[l][-1], \\\".5f\\\")) + \\\")\\\"),\\n        )\\n    for l in val_loss_list:\\n        plt.plot(\\n            epochs,\\n            history.history[l],\\n            \\\"g\\\",\\n            label=\\\"Validation loss (\\\"\\n            + str(str(format(history.history[l][-1], \\\".5f\\\")) + \\\")\\\"),\\n        )\\n\\n    plt.title(\\\"Loss\\\")\\n    plt.xlabel(\\\"Epochs\\\")\\n    plt.ylabel(\\\"Loss\\\")\\n    plt.legend()\\n\\n    plt.show()\";\n",
       "                var nbb_formatted_code = \"def plot_history(history):\\n    loss_list = [s for s in history.history.keys() if \\\"loss\\\" in s and \\\"val\\\" not in s]\\n    val_loss_list = [s for s in history.history.keys() if \\\"loss\\\" in s and \\\"val\\\" in s]\\n    acc_list = [s for s in history.history.keys() if \\\"AUC\\\" in s and \\\"val\\\" not in s]\\n    val_acc_list = [s for s in history.history.keys() if \\\"AUC\\\" in s and \\\"val\\\" in s]\\n\\n    if len(loss_list) == 0:\\n        print(\\\"Loss is missing in history\\\")\\n        return\\n\\n    ## As loss always exists\\n    epochs = range(1, len(history.history[loss_list[0]]) + 1)\\n\\n    ## Loss\\n    plt.figure(1)\\n    for l in loss_list:\\n        plt.plot(\\n            epochs,\\n            history.history[l],\\n            \\\"b\\\",\\n            label=\\\"Training loss (\\\"\\n            + str(str(format(history.history[l][-1], \\\".5f\\\")) + \\\")\\\"),\\n        )\\n    for l in val_loss_list:\\n        plt.plot(\\n            epochs,\\n            history.history[l],\\n            \\\"g\\\",\\n            label=\\\"Validation loss (\\\"\\n            + str(str(format(history.history[l][-1], \\\".5f\\\")) + \\\")\\\"),\\n        )\\n\\n    plt.title(\\\"Loss\\\")\\n    plt.xlabel(\\\"Epochs\\\")\\n    plt.ylabel(\\\"Loss\\\")\\n    plt.legend()\\n\\n    plt.show()\";\n",
       "                var nbb_cells = Jupyter.notebook.get_cells();\n",
       "                for (var i = 0; i < nbb_cells.length; ++i) {\n",
       "                    if (nbb_cells[i].input_prompt_number == nbb_cell_id) {\n",
       "                        if (nbb_cells[i].get_text() == nbb_unformatted_code) {\n",
       "                             nbb_cells[i].set_text(nbb_formatted_code);\n",
       "                        }\n",
       "                        break;\n",
       "                    }\n",
       "                }\n",
       "            }, 500);\n",
       "            "
      ],
      "text/plain": [
       "<IPython.core.display.Javascript object>"
      ]
     },
     "metadata": {},
     "output_type": "display_data"
    }
   ],
   "source": [
    "def plot_history(history):\n",
    "    loss_list = [s for s in history.history.keys() if \"loss\" in s and \"val\" not in s]\n",
    "    val_loss_list = [s for s in history.history.keys() if \"loss\" in s and \"val\" in s]\n",
    "    acc_list = [s for s in history.history.keys() if \"AUC\" in s and \"val\" not in s]\n",
    "    val_acc_list = [s for s in history.history.keys() if \"AUC\" in s and \"val\" in s]\n",
    "\n",
    "    if len(loss_list) == 0:\n",
    "        print(\"Loss is missing in history\")\n",
    "        return\n",
    "\n",
    "    ## As loss always exists\n",
    "    epochs = range(1, len(history.history[loss_list[0]]) + 1)\n",
    "\n",
    "    ## Loss\n",
    "    plt.figure(1)\n",
    "    for l in loss_list:\n",
    "        plt.plot(\n",
    "            epochs,\n",
    "            history.history[l],\n",
    "            \"b\",\n",
    "            label=\"Training loss (\"\n",
    "            + str(str(format(history.history[l][-1], \".5f\")) + \")\"),\n",
    "        )\n",
    "    for l in val_loss_list:\n",
    "        plt.plot(\n",
    "            epochs,\n",
    "            history.history[l],\n",
    "            \"g\",\n",
    "            label=\"Validation loss (\"\n",
    "            + str(str(format(history.history[l][-1], \".5f\")) + \")\"),\n",
    "        )\n",
    "\n",
    "    plt.title(\"Loss\")\n",
    "    plt.xlabel(\"Epochs\")\n",
    "    plt.ylabel(\"Loss\")\n",
    "    plt.legend()\n",
    "\n",
    "    plt.show()"
   ]
  },
  {
   "cell_type": "markdown",
   "metadata": {},
   "source": [
    "## Bank marketing : loading data"
   ]
  },
  {
   "cell_type": "code",
   "execution_count": 7,
   "metadata": {
    "ExecuteTime": {
     "end_time": "2020-09-19T17:11:20.881689Z",
     "start_time": "2020-09-19T17:11:19.202265Z"
    }
   },
   "outputs": [
    {
     "name": "stdout",
     "output_type": "stream",
     "text": [
      "Downloading https://archive.ics.uci.edu/ml/machine-learning-databases/00222/bank-additional.zip at /data/bank-additional.zip ...\n"
     ]
    },
    {
     "data": {
      "application/javascript": [
       "\n",
       "            setTimeout(function() {\n",
       "                var nbb_cell_id = 7;\n",
       "                var nbb_unformatted_code = \"url = \\\"https://archive.ics.uci.edu/ml/machine-learning-databases/00222/bank-additional.zip\\\"\\ndataset_name = \\\"bank-additional-full\\\"\\nout_zip = Path(os.getcwd().rsplit(\\\"/\\\", 1)[0] + \\\"/data/bank-additional.zip\\\")\\nout = Path(\\n    os.getcwd().rsplit(\\\"/\\\", 1)[0] + \\\"/data/bank-additional/\\\" + dataset_name + \\\".csv\\\"\\n)\\n\\ndownload(url, out_zip)\\nwith ZipFile(out_zip, \\\"r\\\") as zipObj:\\n    zipObj.extractall(\\\"/data\\\")\\n\\ntarget = \\\"y\\\"\\nto_remove = []\\ntrain = pd.read_csv(out, sep=\\\";\\\", low_memory=False)\";\n",
       "                var nbb_formatted_code = \"url = \\\"https://archive.ics.uci.edu/ml/machine-learning-databases/00222/bank-additional.zip\\\"\\ndataset_name = \\\"bank-additional-full\\\"\\nout_zip = Path(os.getcwd().rsplit(\\\"/\\\", 1)[0] + \\\"/data/bank-additional.zip\\\")\\nout = Path(\\n    os.getcwd().rsplit(\\\"/\\\", 1)[0] + \\\"/data/bank-additional/\\\" + dataset_name + \\\".csv\\\"\\n)\\n\\ndownload(url, out_zip)\\nwith ZipFile(out_zip, \\\"r\\\") as zipObj:\\n    zipObj.extractall(\\\"/data\\\")\\n\\ntarget = \\\"y\\\"\\nto_remove = []\\ntrain = pd.read_csv(out, sep=\\\";\\\", low_memory=False)\";\n",
       "                var nbb_cells = Jupyter.notebook.get_cells();\n",
       "                for (var i = 0; i < nbb_cells.length; ++i) {\n",
       "                    if (nbb_cells[i].input_prompt_number == nbb_cell_id) {\n",
       "                        if (nbb_cells[i].get_text() == nbb_unformatted_code) {\n",
       "                             nbb_cells[i].set_text(nbb_formatted_code);\n",
       "                        }\n",
       "                        break;\n",
       "                    }\n",
       "                }\n",
       "            }, 500);\n",
       "            "
      ],
      "text/plain": [
       "<IPython.core.display.Javascript object>"
      ]
     },
     "metadata": {},
     "output_type": "display_data"
    }
   ],
   "source": [
    "url = \"https://archive.ics.uci.edu/ml/machine-learning-databases/00222/bank-additional.zip\"\n",
    "dataset_name = \"bank-additional-full\"\n",
    "out_zip = Path(os.getcwd().rsplit(\"/\", 1)[0] + \"/data/bank-additional.zip\")\n",
    "out = Path(\n",
    "    os.getcwd().rsplit(\"/\", 1)[0] + \"/data/bank-additional/\" + dataset_name + \".csv\"\n",
    ")\n",
    "\n",
    "download(url, out_zip)\n",
    "with ZipFile(out_zip, \"r\") as zipObj:\n",
    "    zipObj.extractall(\"/data\")\n",
    "\n",
    "target = \"y\"\n",
    "to_remove = []\n",
    "train = pd.read_csv(out, sep=\";\", low_memory=False)"
   ]
  },
  {
   "cell_type": "code",
   "execution_count": 8,
   "metadata": {
    "ExecuteTime": {
     "end_time": "2020-09-19T17:11:20.906178Z",
     "start_time": "2020-09-19T17:11:20.883318Z"
    }
   },
   "outputs": [
    {
     "data": {
      "text/plain": [
       "(41188, 21)"
      ]
     },
     "execution_count": 8,
     "metadata": {},
     "output_type": "execute_result"
    },
    {
     "data": {
      "application/javascript": [
       "\n",
       "            setTimeout(function() {\n",
       "                var nbb_cell_id = 8;\n",
       "                var nbb_unformatted_code = \"train.shape\";\n",
       "                var nbb_formatted_code = \"train.shape\";\n",
       "                var nbb_cells = Jupyter.notebook.get_cells();\n",
       "                for (var i = 0; i < nbb_cells.length; ++i) {\n",
       "                    if (nbb_cells[i].input_prompt_number == nbb_cell_id) {\n",
       "                        if (nbb_cells[i].get_text() == nbb_unformatted_code) {\n",
       "                             nbb_cells[i].set_text(nbb_formatted_code);\n",
       "                        }\n",
       "                        break;\n",
       "                    }\n",
       "                }\n",
       "            }, 500);\n",
       "            "
      ],
      "text/plain": [
       "<IPython.core.display.Javascript object>"
      ]
     },
     "metadata": {},
     "output_type": "display_data"
    }
   ],
   "source": [
    "train.shape"
   ]
  },
  {
   "cell_type": "code",
   "execution_count": 9,
   "metadata": {
    "ExecuteTime": {
     "end_time": "2020-09-19T17:11:20.931140Z",
     "start_time": "2020-09-19T17:11:20.907434Z"
    }
   },
   "outputs": [
    {
     "data": {
      "text/plain": [
       "Index(['age', 'job', 'marital', 'education', 'default', 'housing', 'loan',\n",
       "       'contact', 'month', 'day_of_week', 'duration', 'campaign', 'pdays',\n",
       "       'previous', 'poutcome', 'emp.var.rate', 'cons.price.idx',\n",
       "       'cons.conf.idx', 'euribor3m', 'nr.employed', 'y'],\n",
       "      dtype='object')"
      ]
     },
     "execution_count": 9,
     "metadata": {},
     "output_type": "execute_result"
    },
    {
     "data": {
      "application/javascript": [
       "\n",
       "            setTimeout(function() {\n",
       "                var nbb_cell_id = 9;\n",
       "                var nbb_unformatted_code = \"train.columns\";\n",
       "                var nbb_formatted_code = \"train.columns\";\n",
       "                var nbb_cells = Jupyter.notebook.get_cells();\n",
       "                for (var i = 0; i < nbb_cells.length; ++i) {\n",
       "                    if (nbb_cells[i].input_prompt_number == nbb_cell_id) {\n",
       "                        if (nbb_cells[i].get_text() == nbb_unformatted_code) {\n",
       "                             nbb_cells[i].set_text(nbb_formatted_code);\n",
       "                        }\n",
       "                        break;\n",
       "                    }\n",
       "                }\n",
       "            }, 500);\n",
       "            "
      ],
      "text/plain": [
       "<IPython.core.display.Javascript object>"
      ]
     },
     "metadata": {},
     "output_type": "display_data"
    }
   ],
   "source": [
    "train.columns"
   ]
  },
  {
   "cell_type": "code",
   "execution_count": 10,
   "metadata": {
    "ExecuteTime": {
     "end_time": "2020-09-19T17:11:21.022086Z",
     "start_time": "2020-09-19T17:11:20.932087Z"
    }
   },
   "outputs": [
    {
     "name": "stdout",
     "output_type": "stream",
     "text": [
      "Building tailored column\n"
     ]
    },
    {
     "name": "stderr",
     "output_type": "stream",
     "text": [
      "/work/.cache/poetry/xplainet-KS9Ipbc1-py3.7/lib/python3.7/site-packages/ipykernel_launcher.py:14: SettingWithCopyWarning: \n",
      "A value is trying to be set on a copy of a slice from a DataFrame\n",
      "\n",
      "See the caveats in the documentation: https://pandas.pydata.org/pandas-docs/stable/user_guide/indexing.html#returning-a-view-versus-a-copy\n",
      "  \n",
      "/work/.cache/poetry/xplainet-KS9Ipbc1-py3.7/lib/python3.7/site-packages/pandas/core/indexing.py:670: SettingWithCopyWarning: \n",
      "A value is trying to be set on a copy of a slice from a DataFrame\n",
      "\n",
      "See the caveats in the documentation: https://pandas.pydata.org/pandas-docs/stable/user_guide/indexing.html#returning-a-view-versus-a-copy\n",
      "  iloc._setitem_with_indexer(indexer, value)\n",
      "/work/.cache/poetry/xplainet-KS9Ipbc1-py3.7/lib/python3.7/site-packages/ipykernel_launcher.py:15: SettingWithCopyWarning: \n",
      "A value is trying to be set on a copy of a slice from a DataFrame\n",
      "\n",
      "See the caveats in the documentation: https://pandas.pydata.org/pandas-docs/stable/user_guide/indexing.html#returning-a-view-versus-a-copy\n",
      "  from ipykernel import kernelapp as app\n"
     ]
    },
    {
     "data": {
      "application/javascript": [
       "\n",
       "            setTimeout(function() {\n",
       "                var nbb_cell_id = 10;\n",
       "                var nbb_unformatted_code = \"if \\\"Set\\\" not in train.columns:\\n    print(\\\"Building tailored column\\\")\\n    train_valid_index, test_index = next(\\n        StratifiedShuffleSplit(n_splits=1, test_size=0.1, random_state=SEED).split(\\n            range(train[target].shape[0]), train[target].values\\n        )\\n    )\\n    train_index, valid_index = next(\\n        StratifiedShuffleSplit(n_splits=1, test_size=0.1, random_state=SEED).split(\\n            train_valid_index, train[target].values[train_valid_index]\\n        )\\n    )\\n    train[\\\"Set\\\"] = \\\"train\\\"\\n    train[\\\"Set\\\"][valid_index] = \\\"valid\\\"\\n    train[\\\"Set\\\"][test_index] = \\\"test\\\"\\n    # train.to_csv((out.parent / \\\"train_bench.csv\\\").as_posix(), index=False)\";\n",
       "                var nbb_formatted_code = \"if \\\"Set\\\" not in train.columns:\\n    print(\\\"Building tailored column\\\")\\n    train_valid_index, test_index = next(\\n        StratifiedShuffleSplit(n_splits=1, test_size=0.1, random_state=SEED).split(\\n            range(train[target].shape[0]), train[target].values\\n        )\\n    )\\n    train_index, valid_index = next(\\n        StratifiedShuffleSplit(n_splits=1, test_size=0.1, random_state=SEED).split(\\n            train_valid_index, train[target].values[train_valid_index]\\n        )\\n    )\\n    train[\\\"Set\\\"] = \\\"train\\\"\\n    train[\\\"Set\\\"][valid_index] = \\\"valid\\\"\\n    train[\\\"Set\\\"][test_index] = \\\"test\\\"\\n    # train.to_csv((out.parent / \\\"train_bench.csv\\\").as_posix(), index=False)\";\n",
       "                var nbb_cells = Jupyter.notebook.get_cells();\n",
       "                for (var i = 0; i < nbb_cells.length; ++i) {\n",
       "                    if (nbb_cells[i].input_prompt_number == nbb_cell_id) {\n",
       "                        if (nbb_cells[i].get_text() == nbb_unformatted_code) {\n",
       "                             nbb_cells[i].set_text(nbb_formatted_code);\n",
       "                        }\n",
       "                        break;\n",
       "                    }\n",
       "                }\n",
       "            }, 500);\n",
       "            "
      ],
      "text/plain": [
       "<IPython.core.display.Javascript object>"
      ]
     },
     "metadata": {},
     "output_type": "display_data"
    }
   ],
   "source": [
    "if \"Set\" not in train.columns:\n",
    "    print(\"Building tailored column\")\n",
    "    train_valid_index, test_index = next(\n",
    "        StratifiedShuffleSplit(n_splits=1, test_size=0.1, random_state=SEED).split(\n",
    "            range(train[target].shape[0]), train[target].values\n",
    "        )\n",
    "    )\n",
    "    train_index, valid_index = next(\n",
    "        StratifiedShuffleSplit(n_splits=1, test_size=0.1, random_state=SEED).split(\n",
    "            train_valid_index, train[target].values[train_valid_index]\n",
    "        )\n",
    "    )\n",
    "    train[\"Set\"] = \"train\"\n",
    "    train[\"Set\"][valid_index] = \"valid\"\n",
    "    train[\"Set\"][test_index] = \"test\"\n",
    "    # train.to_csv((out.parent / \"train_bench.csv\").as_posix(), index=False)"
   ]
  },
  {
   "cell_type": "code",
   "execution_count": 11,
   "metadata": {
    "ExecuteTime": {
     "end_time": "2020-09-19T17:11:21.062820Z",
     "start_time": "2020-09-19T17:11:21.023273Z"
    }
   },
   "outputs": [
    {
     "data": {
      "application/javascript": [
       "\n",
       "            setTimeout(function() {\n",
       "                var nbb_cell_id = 11;\n",
       "                var nbb_unformatted_code = \"train_indices = train[train.Set == \\\"train\\\"].index\\nvalid_indices = train[train.Set == \\\"valid\\\"].index\\ntest_indices = train[train.Set == \\\"test\\\"].index\";\n",
       "                var nbb_formatted_code = \"train_indices = train[train.Set == \\\"train\\\"].index\\nvalid_indices = train[train.Set == \\\"valid\\\"].index\\ntest_indices = train[train.Set == \\\"test\\\"].index\";\n",
       "                var nbb_cells = Jupyter.notebook.get_cells();\n",
       "                for (var i = 0; i < nbb_cells.length; ++i) {\n",
       "                    if (nbb_cells[i].input_prompt_number == nbb_cell_id) {\n",
       "                        if (nbb_cells[i].get_text() == nbb_unformatted_code) {\n",
       "                             nbb_cells[i].set_text(nbb_formatted_code);\n",
       "                        }\n",
       "                        break;\n",
       "                    }\n",
       "                }\n",
       "            }, 500);\n",
       "            "
      ],
      "text/plain": [
       "<IPython.core.display.Javascript object>"
      ]
     },
     "metadata": {},
     "output_type": "display_data"
    }
   ],
   "source": [
    "train_indices = train[train.Set == \"train\"].index\n",
    "valid_indices = train[train.Set == \"valid\"].index\n",
    "test_indices = train[train.Set == \"test\"].index"
   ]
  },
  {
   "cell_type": "code",
   "execution_count": 12,
   "metadata": {
    "ExecuteTime": {
     "end_time": "2020-09-19T17:11:21.596221Z",
     "start_time": "2020-09-19T17:11:21.063777Z"
    }
   },
   "outputs": [
    {
     "data": {
      "text/plain": [
       "{'constant_cols': [],\n",
       " 'bool_cols': ['contact'],\n",
       " 'num_cols': [],\n",
       " 'cat_cols': ['month',\n",
       "  'pdays',\n",
       "  'duration',\n",
       "  'marital',\n",
       "  'cons.conf.idx',\n",
       "  'age',\n",
       "  'nr.employed',\n",
       "  'education',\n",
       "  'job',\n",
       "  'euribor3m',\n",
       "  'loan',\n",
       "  'emp.var.rate',\n",
       "  'poutcome',\n",
       "  'campaign',\n",
       "  'day_of_week',\n",
       "  'default',\n",
       "  'cons.price.idx',\n",
       "  'housing',\n",
       "  'previous'],\n",
       " 'num_encoder': [],\n",
       " 'bool_encoder': [SafeLabelEncoder()],\n",
       " 'max_nb': 1482,\n",
       " 'cat_encoder': [SafeLabelEncoder(),\n",
       "  SafeLabelEncoder(),\n",
       "  SafeLabelEncoder(),\n",
       "  SafeLabelEncoder(),\n",
       "  SafeLabelEncoder(),\n",
       "  SafeLabelEncoder(),\n",
       "  SafeLabelEncoder(),\n",
       "  SafeLabelEncoder(),\n",
       "  SafeLabelEncoder(),\n",
       "  SafeLabelEncoder(),\n",
       "  SafeLabelEncoder(),\n",
       "  SafeLabelEncoder(),\n",
       "  SafeLabelEncoder(),\n",
       "  SafeLabelEncoder(),\n",
       "  SafeLabelEncoder(),\n",
       "  SafeLabelEncoder(),\n",
       "  SafeLabelEncoder(),\n",
       "  SafeLabelEncoder(),\n",
       "  SafeLabelEncoder()]}"
      ]
     },
     "execution_count": 12,
     "metadata": {},
     "output_type": "execute_result"
    },
    {
     "data": {
      "application/javascript": [
       "\n",
       "            setTimeout(function() {\n",
       "                var nbb_cell_id = 12;\n",
       "                var nbb_unformatted_code = \"input_train, params = preproc_dataset(train.loc[train_indices], target, [\\\"Set\\\"])\\nparams\";\n",
       "                var nbb_formatted_code = \"input_train, params = preproc_dataset(train.loc[train_indices], target, [\\\"Set\\\"])\\nparams\";\n",
       "                var nbb_cells = Jupyter.notebook.get_cells();\n",
       "                for (var i = 0; i < nbb_cells.length; ++i) {\n",
       "                    if (nbb_cells[i].input_prompt_number == nbb_cell_id) {\n",
       "                        if (nbb_cells[i].get_text() == nbb_unformatted_code) {\n",
       "                             nbb_cells[i].set_text(nbb_formatted_code);\n",
       "                        }\n",
       "                        break;\n",
       "                    }\n",
       "                }\n",
       "            }, 500);\n",
       "            "
      ],
      "text/plain": [
       "<IPython.core.display.Javascript object>"
      ]
     },
     "metadata": {},
     "output_type": "display_data"
    }
   ],
   "source": [
    "input_train, params = preproc_dataset(train.loc[train_indices], target, [\"Set\"])\n",
    "params"
   ]
  },
  {
   "cell_type": "code",
   "execution_count": 13,
   "metadata": {
    "ExecuteTime": {
     "end_time": "2020-09-19T17:11:21.621499Z",
     "start_time": "2020-09-19T17:11:21.597049Z"
    }
   },
   "outputs": [
    {
     "data": {
      "text/plain": [
       "33764"
      ]
     },
     "execution_count": 13,
     "metadata": {},
     "output_type": "execute_result"
    },
    {
     "data": {
      "application/javascript": [
       "\n",
       "            setTimeout(function() {\n",
       "                var nbb_cell_id = 13;\n",
       "                var nbb_unformatted_code = \"len(train_indices)\";\n",
       "                var nbb_formatted_code = \"len(train_indices)\";\n",
       "                var nbb_cells = Jupyter.notebook.get_cells();\n",
       "                for (var i = 0; i < nbb_cells.length; ++i) {\n",
       "                    if (nbb_cells[i].input_prompt_number == nbb_cell_id) {\n",
       "                        if (nbb_cells[i].get_text() == nbb_unformatted_code) {\n",
       "                             nbb_cells[i].set_text(nbb_formatted_code);\n",
       "                        }\n",
       "                        break;\n",
       "                    }\n",
       "                }\n",
       "            }, 500);\n",
       "            "
      ],
      "text/plain": [
       "<IPython.core.display.Javascript object>"
      ]
     },
     "metadata": {},
     "output_type": "display_data"
    }
   ],
   "source": [
    "len(train_indices)"
   ]
  },
  {
   "cell_type": "code",
   "execution_count": 14,
   "metadata": {
    "ExecuteTime": {
     "end_time": "2020-09-19T17:11:21.724799Z",
     "start_time": "2020-09-19T17:11:21.622551Z"
    }
   },
   "outputs": [
    {
     "data": {
      "application/javascript": [
       "\n",
       "            setTimeout(function() {\n",
       "                var nbb_cell_id = 14;\n",
       "                var nbb_unformatted_code = \"input_valid, _ = preproc_dataset(train.loc[valid_indices], target, [\\\"Set\\\"], params)\\ninput_test, _ = preproc_dataset(train.loc[test_indices], target, [\\\"Set\\\"], params)\";\n",
       "                var nbb_formatted_code = \"input_valid, _ = preproc_dataset(train.loc[valid_indices], target, [\\\"Set\\\"], params)\\ninput_test, _ = preproc_dataset(train.loc[test_indices], target, [\\\"Set\\\"], params)\";\n",
       "                var nbb_cells = Jupyter.notebook.get_cells();\n",
       "                for (var i = 0; i < nbb_cells.length; ++i) {\n",
       "                    if (nbb_cells[i].input_prompt_number == nbb_cell_id) {\n",
       "                        if (nbb_cells[i].get_text() == nbb_unformatted_code) {\n",
       "                             nbb_cells[i].set_text(nbb_formatted_code);\n",
       "                        }\n",
       "                        break;\n",
       "                    }\n",
       "                }\n",
       "            }, 500);\n",
       "            "
      ],
      "text/plain": [
       "<IPython.core.display.Javascript object>"
      ]
     },
     "metadata": {},
     "output_type": "display_data"
    }
   ],
   "source": [
    "input_valid, _ = preproc_dataset(train.loc[valid_indices], target, [\"Set\"], params)\n",
    "input_test, _ = preproc_dataset(train.loc[test_indices], target, [\"Set\"], params)"
   ]
  },
  {
   "cell_type": "code",
   "execution_count": 15,
   "metadata": {
    "ExecuteTime": {
     "end_time": "2020-09-19T17:11:21.748489Z",
     "start_time": "2020-09-19T17:11:21.725846Z"
    }
   },
   "outputs": [
    {
     "data": {
      "application/javascript": [
       "\n",
       "            setTimeout(function() {\n",
       "                var nbb_cell_id = 15;\n",
       "                var nbb_unformatted_code = \"target_encoder = LabelEncoder()\";\n",
       "                var nbb_formatted_code = \"target_encoder = LabelEncoder()\";\n",
       "                var nbb_cells = Jupyter.notebook.get_cells();\n",
       "                for (var i = 0; i < nbb_cells.length; ++i) {\n",
       "                    if (nbb_cells[i].input_prompt_number == nbb_cell_id) {\n",
       "                        if (nbb_cells[i].get_text() == nbb_unformatted_code) {\n",
       "                             nbb_cells[i].set_text(nbb_formatted_code);\n",
       "                        }\n",
       "                        break;\n",
       "                    }\n",
       "                }\n",
       "            }, 500);\n",
       "            "
      ],
      "text/plain": [
       "<IPython.core.display.Javascript object>"
      ]
     },
     "metadata": {},
     "output_type": "display_data"
    }
   ],
   "source": [
    "target_encoder = LabelEncoder()"
   ]
  },
  {
   "cell_type": "code",
   "execution_count": 16,
   "metadata": {
    "ExecuteTime": {
     "end_time": "2020-09-19T17:11:21.782395Z",
     "start_time": "2020-09-19T17:11:21.749455Z"
    }
   },
   "outputs": [
    {
     "data": {
      "application/javascript": [
       "\n",
       "            setTimeout(function() {\n",
       "                var nbb_cell_id = 16;\n",
       "                var nbb_unformatted_code = \"train[target] = target_encoder.fit_transform(train[target].values.reshape(-1))\\ny_train = train[target].values[train_indices]\\ny_valid = train[target].values[valid_indices]\\ny_test = train[target].values[test_indices]\";\n",
       "                var nbb_formatted_code = \"train[target] = target_encoder.fit_transform(train[target].values.reshape(-1))\\ny_train = train[target].values[train_indices]\\ny_valid = train[target].values[valid_indices]\\ny_test = train[target].values[test_indices]\";\n",
       "                var nbb_cells = Jupyter.notebook.get_cells();\n",
       "                for (var i = 0; i < nbb_cells.length; ++i) {\n",
       "                    if (nbb_cells[i].input_prompt_number == nbb_cell_id) {\n",
       "                        if (nbb_cells[i].get_text() == nbb_unformatted_code) {\n",
       "                             nbb_cells[i].set_text(nbb_formatted_code);\n",
       "                        }\n",
       "                        break;\n",
       "                    }\n",
       "                }\n",
       "            }, 500);\n",
       "            "
      ],
      "text/plain": [
       "<IPython.core.display.Javascript object>"
      ]
     },
     "metadata": {},
     "output_type": "display_data"
    }
   ],
   "source": [
    "train[target] = target_encoder.fit_transform(train[target].values.reshape(-1))\n",
    "y_train = train[target].values[train_indices]\n",
    "y_valid = train[target].values[valid_indices]\n",
    "y_test = train[target].values[test_indices]"
   ]
  },
  {
   "cell_type": "code",
   "execution_count": 17,
   "metadata": {
    "ExecuteTime": {
     "end_time": "2020-09-19T17:11:21.812260Z",
     "start_time": "2020-09-19T17:11:21.783287Z"
    }
   },
   "outputs": [
    {
     "data": {
      "text/plain": [
       "{'constant_cols': [],\n",
       " 'bool_cols': ['contact'],\n",
       " 'num_cols': [],\n",
       " 'cat_cols': ['month',\n",
       "  'pdays',\n",
       "  'duration',\n",
       "  'marital',\n",
       "  'cons.conf.idx',\n",
       "  'age',\n",
       "  'nr.employed',\n",
       "  'education',\n",
       "  'job',\n",
       "  'euribor3m',\n",
       "  'loan',\n",
       "  'emp.var.rate',\n",
       "  'poutcome',\n",
       "  'campaign',\n",
       "  'day_of_week',\n",
       "  'default',\n",
       "  'cons.price.idx',\n",
       "  'housing',\n",
       "  'previous'],\n",
       " 'num_encoder': [],\n",
       " 'bool_encoder': [SafeLabelEncoder()],\n",
       " 'max_nb': 1482,\n",
       " 'cat_encoder': [SafeLabelEncoder(),\n",
       "  SafeLabelEncoder(),\n",
       "  SafeLabelEncoder(),\n",
       "  SafeLabelEncoder(),\n",
       "  SafeLabelEncoder(),\n",
       "  SafeLabelEncoder(),\n",
       "  SafeLabelEncoder(),\n",
       "  SafeLabelEncoder(),\n",
       "  SafeLabelEncoder(),\n",
       "  SafeLabelEncoder(),\n",
       "  SafeLabelEncoder(),\n",
       "  SafeLabelEncoder(),\n",
       "  SafeLabelEncoder(),\n",
       "  SafeLabelEncoder(),\n",
       "  SafeLabelEncoder(),\n",
       "  SafeLabelEncoder(),\n",
       "  SafeLabelEncoder(),\n",
       "  SafeLabelEncoder(),\n",
       "  SafeLabelEncoder()]}"
      ]
     },
     "execution_count": 17,
     "metadata": {},
     "output_type": "execute_result"
    },
    {
     "data": {
      "application/javascript": [
       "\n",
       "            setTimeout(function() {\n",
       "                var nbb_cell_id = 17;\n",
       "                var nbb_unformatted_code = \"params\";\n",
       "                var nbb_formatted_code = \"params\";\n",
       "                var nbb_cells = Jupyter.notebook.get_cells();\n",
       "                for (var i = 0; i < nbb_cells.length; ++i) {\n",
       "                    if (nbb_cells[i].input_prompt_number == nbb_cell_id) {\n",
       "                        if (nbb_cells[i].get_text() == nbb_unformatted_code) {\n",
       "                             nbb_cells[i].set_text(nbb_formatted_code);\n",
       "                        }\n",
       "                        break;\n",
       "                    }\n",
       "                }\n",
       "            }, 500);\n",
       "            "
      ],
      "text/plain": [
       "<IPython.core.display.Javascript object>"
      ]
     },
     "metadata": {},
     "output_type": "display_data"
    }
   ],
   "source": [
    "params"
   ]
  },
  {
   "cell_type": "code",
   "execution_count": 18,
   "metadata": {
    "ExecuteTime": {
     "end_time": "2020-09-19T17:11:21.926369Z",
     "start_time": "2020-09-19T17:11:21.813368Z"
    }
   },
   "outputs": [
    {
     "name": "stderr",
     "output_type": "stream",
     "text": [
      "/work/.cache/poetry/xplainet-KS9Ipbc1-py3.7/lib/python3.7/site-packages/tensorflow_addons/utils/resource_loader.py:103: UserWarning: You are currently using TensorFlow 2.3.0 and trying to load a custom op (custom_ops/activations/_activation_ops.so).\n",
      "TensorFlow Addons has compiled its custom ops against TensorFlow 2.2.0, and there are no compatibility guarantees between the two versions. \n",
      "This means that you might get segfaults when loading the custom op, or other kind of low-level errors.\n",
      " If you do, do not file an issue on Github. This is a known limitation.\n",
      "\n",
      "It might help you to fallback to pure Python ops with TF_ADDONS_PY_OPS . To do that, see https://github.com/tensorflow/addons#gpucpu-custom-ops \n",
      "\n",
      "You can also change the TensorFlow version installed on your system. You would need a TensorFlow version equal to or above 2.2.0 and strictly below 2.3.0.\n",
      " Note that nightly versions of TensorFlow, as well as non-pip TensorFlow like `conda install tensorflow` or compiled from source are not supported.\n",
      "\n",
      "The last solution is to find the TensorFlow Addons version that has custom ops compatible with the TensorFlow installed on your system. To do that, refer to the readme: https://github.com/tensorflow/addons\n",
      "  UserWarning,\n"
     ]
    },
    {
     "data": {
      "application/javascript": [
       "\n",
       "            setTimeout(function() {\n",
       "                var nbb_cell_id = 18;\n",
       "                var nbb_unformatted_code = \"model = build_model(\\n    params,\\n    lconv_dim=[4],\\n    lconv_num_dim=[8],\\n    emb_size=16,\\n    activation_num_first_layer=None,  # \\\"tanh\\\",\\n)\";\n",
       "                var nbb_formatted_code = \"model = build_model(\\n    params,\\n    lconv_dim=[4],\\n    lconv_num_dim=[8],\\n    emb_size=16,\\n    activation_num_first_layer=None,  # \\\"tanh\\\",\\n)\";\n",
       "                var nbb_cells = Jupyter.notebook.get_cells();\n",
       "                for (var i = 0; i < nbb_cells.length; ++i) {\n",
       "                    if (nbb_cells[i].input_prompt_number == nbb_cell_id) {\n",
       "                        if (nbb_cells[i].get_text() == nbb_unformatted_code) {\n",
       "                             nbb_cells[i].set_text(nbb_formatted_code);\n",
       "                        }\n",
       "                        break;\n",
       "                    }\n",
       "                }\n",
       "            }, 500);\n",
       "            "
      ],
      "text/plain": [
       "<IPython.core.display.Javascript object>"
      ]
     },
     "metadata": {},
     "output_type": "display_data"
    }
   ],
   "source": [
    "model = build_model(\n",
    "    params,\n",
    "    lconv_dim=[4],\n",
    "    lconv_num_dim=[8],\n",
    "    emb_size=16,\n",
    "    activation_num_first_layer=None,  # \"tanh\",\n",
    ")"
   ]
  },
  {
   "cell_type": "code",
   "execution_count": 19,
   "metadata": {
    "ExecuteTime": {
     "end_time": "2020-09-19T17:11:21.951028Z",
     "start_time": "2020-09-19T17:11:21.927381Z"
    }
   },
   "outputs": [
    {
     "data": {
      "text/plain": [
       "TensorShape([None, 77])"
      ]
     },
     "execution_count": 19,
     "metadata": {},
     "output_type": "execute_result"
    },
    {
     "data": {
      "application/javascript": [
       "\n",
       "            setTimeout(function() {\n",
       "                var nbb_cell_id = 19;\n",
       "                var nbb_unformatted_code = \"model.get_layer(\\\"output\\\")._build_input_shape\";\n",
       "                var nbb_formatted_code = \"model.get_layer(\\\"output\\\")._build_input_shape\";\n",
       "                var nbb_cells = Jupyter.notebook.get_cells();\n",
       "                for (var i = 0; i < nbb_cells.length; ++i) {\n",
       "                    if (nbb_cells[i].input_prompt_number == nbb_cell_id) {\n",
       "                        if (nbb_cells[i].get_text() == nbb_unformatted_code) {\n",
       "                             nbb_cells[i].set_text(nbb_formatted_code);\n",
       "                        }\n",
       "                        break;\n",
       "                    }\n",
       "                }\n",
       "            }, 500);\n",
       "            "
      ],
      "text/plain": [
       "<IPython.core.display.Javascript object>"
      ]
     },
     "metadata": {},
     "output_type": "display_data"
    }
   ],
   "source": [
    "model.get_layer(\"output\")._build_input_shape"
   ]
  },
  {
   "cell_type": "code",
   "execution_count": 20,
   "metadata": {
    "ExecuteTime": {
     "end_time": "2020-09-19T17:11:21.978303Z",
     "start_time": "2020-09-19T17:11:21.951948Z"
    }
   },
   "outputs": [
    {
     "name": "stdout",
     "output_type": "stream",
     "text": [
      "Model: \"explainable_model\"\n",
      "__________________________________________________________________________________________________\n",
      "Layer (type)                    Output Shape         Param #     Connected to                     \n",
      "==================================================================================================\n",
      "input_cat (InputLayer)          [(None, 19)]         0                                            \n",
      "__________________________________________________________________________________________________\n",
      "large_emb (Embedding)           (None, 19, 16)       23728       input_cat[0][0]                  \n",
      "__________________________________________________________________________________________________\n",
      "block_cat_0_conv (LocallyConnec (None, 19, 4)        1216        large_emb[0][0]                  \n",
      "__________________________________________________________________________________________________\n",
      "block_cat_0_activation (Activat (None, 19, 4)        0           block_cat_0_conv[0][0]           \n",
      "__________________________________________________________________________________________________\n",
      "input_bool (InputLayer)         [(None, 1)]          0                                            \n",
      "__________________________________________________________________________________________________\n",
      "reshape_cat_output (Reshape)    (None, 76)           0           block_cat_0_activation[0][0]     \n",
      "__________________________________________________________________________________________________\n",
      "concatenate (Concatenate)       (None, 77)           0           input_bool[0][0]                 \n",
      "                                                                 reshape_cat_output[0][0]         \n",
      "__________________________________________________________________________________________________\n",
      "output (Dense)                  (None, 1)            78          concatenate[0][0]                \n",
      "==================================================================================================\n",
      "Total params: 25,022\n",
      "Trainable params: 25,022\n",
      "Non-trainable params: 0\n",
      "__________________________________________________________________________________________________\n"
     ]
    },
    {
     "data": {
      "application/javascript": [
       "\n",
       "            setTimeout(function() {\n",
       "                var nbb_cell_id = 20;\n",
       "                var nbb_unformatted_code = \"model.summary()\";\n",
       "                var nbb_formatted_code = \"model.summary()\";\n",
       "                var nbb_cells = Jupyter.notebook.get_cells();\n",
       "                for (var i = 0; i < nbb_cells.length; ++i) {\n",
       "                    if (nbb_cells[i].input_prompt_number == nbb_cell_id) {\n",
       "                        if (nbb_cells[i].get_text() == nbb_unformatted_code) {\n",
       "                             nbb_cells[i].set_text(nbb_formatted_code);\n",
       "                        }\n",
       "                        break;\n",
       "                    }\n",
       "                }\n",
       "            }, 500);\n",
       "            "
      ],
      "text/plain": [
       "<IPython.core.display.Javascript object>"
      ]
     },
     "metadata": {},
     "output_type": "display_data"
    }
   ],
   "source": [
    "model.summary()"
   ]
  },
  {
   "cell_type": "code",
   "execution_count": 21,
   "metadata": {
    "ExecuteTime": {
     "end_time": "2020-09-19T17:11:22.001003Z",
     "start_time": "2020-09-19T17:11:21.979199Z"
    }
   },
   "outputs": [
    {
     "data": {
      "application/javascript": [
       "\n",
       "            setTimeout(function() {\n",
       "                var nbb_cell_id = 21;\n",
       "                var nbb_unformatted_code = \"#!pip install pydot graphviz\";\n",
       "                var nbb_formatted_code = \"#!pip install pydot graphviz\";\n",
       "                var nbb_cells = Jupyter.notebook.get_cells();\n",
       "                for (var i = 0; i < nbb_cells.length; ++i) {\n",
       "                    if (nbb_cells[i].input_prompt_number == nbb_cell_id) {\n",
       "                        if (nbb_cells[i].get_text() == nbb_unformatted_code) {\n",
       "                             nbb_cells[i].set_text(nbb_formatted_code);\n",
       "                        }\n",
       "                        break;\n",
       "                    }\n",
       "                }\n",
       "            }, 500);\n",
       "            "
      ],
      "text/plain": [
       "<IPython.core.display.Javascript object>"
      ]
     },
     "metadata": {},
     "output_type": "display_data"
    }
   ],
   "source": [
    "#!pip install pydot graphviz"
   ]
  },
  {
   "cell_type": "code",
   "execution_count": 22,
   "metadata": {
    "ExecuteTime": {
     "end_time": "2020-09-19T17:11:22.119220Z",
     "start_time": "2020-09-19T17:11:22.001997Z"
    }
   },
   "outputs": [
    {
     "data": {
      "image/png": "[encoded data removed]",
      "text/plain": [
       "<IPython.core.display.Image object>"
      ]
     },
     "execution_count": 22,
     "metadata": {},
     "output_type": "execute_result"
    },
    {
     "data": {
      "application/javascript": [
       "\n",
       "            setTimeout(function() {\n",
       "                var nbb_cell_id = 22;\n",
       "                var nbb_unformatted_code = \"plot_model(\\n    model,\\n    # to_file=\\\"model.png\\\",\\n    show_shapes=True,\\n    show_layer_names=True,\\n    rankdir=\\\"TB\\\",\\n    expand_nested=False,\\n    dpi=96,\\n)\";\n",
       "                var nbb_formatted_code = \"plot_model(\\n    model,\\n    # to_file=\\\"model.png\\\",\\n    show_shapes=True,\\n    show_layer_names=True,\\n    rankdir=\\\"TB\\\",\\n    expand_nested=False,\\n    dpi=96,\\n)\";\n",
       "                var nbb_cells = Jupyter.notebook.get_cells();\n",
       "                for (var i = 0; i < nbb_cells.length; ++i) {\n",
       "                    if (nbb_cells[i].input_prompt_number == nbb_cell_id) {\n",
       "                        if (nbb_cells[i].get_text() == nbb_unformatted_code) {\n",
       "                             nbb_cells[i].set_text(nbb_formatted_code);\n",
       "                        }\n",
       "                        break;\n",
       "                    }\n",
       "                }\n",
       "            }, 500);\n",
       "            "
      ],
      "text/plain": [
       "<IPython.core.display.Javascript object>"
      ]
     },
     "metadata": {},
     "output_type": "display_data"
    }
   ],
   "source": [
    "plot_model(\n",
    "    model,\n",
    "    # to_file=\"model.png\",\n",
    "    show_shapes=True,\n",
    "    show_layer_names=True,\n",
    "    rankdir=\"TB\",\n",
    "    expand_nested=False,\n",
    "    dpi=96,\n",
    ")"
   ]
  },
  {
   "cell_type": "code",
   "execution_count": 23,
   "metadata": {
    "ExecuteTime": {
     "end_time": "2020-09-19T17:11:22.148184Z",
     "start_time": "2020-09-19T17:11:22.122036Z"
    }
   },
   "outputs": [
    {
     "data": {
      "text/plain": [
       "(33764,)"
      ]
     },
     "execution_count": 23,
     "metadata": {},
     "output_type": "execute_result"
    },
    {
     "data": {
      "application/javascript": [
       "\n",
       "            setTimeout(function() {\n",
       "                var nbb_cell_id = 23;\n",
       "                var nbb_unformatted_code = \"y_train.shape\";\n",
       "                var nbb_formatted_code = \"y_train.shape\";\n",
       "                var nbb_cells = Jupyter.notebook.get_cells();\n",
       "                for (var i = 0; i < nbb_cells.length; ++i) {\n",
       "                    if (nbb_cells[i].input_prompt_number == nbb_cell_id) {\n",
       "                        if (nbb_cells[i].get_text() == nbb_unformatted_code) {\n",
       "                             nbb_cells[i].set_text(nbb_formatted_code);\n",
       "                        }\n",
       "                        break;\n",
       "                    }\n",
       "                }\n",
       "            }, 500);\n",
       "            "
      ],
      "text/plain": [
       "<IPython.core.display.Javascript object>"
      ]
     },
     "metadata": {},
     "output_type": "display_data"
    }
   ],
   "source": [
    "y_train.shape"
   ]
  },
  {
   "cell_type": "code",
   "execution_count": 24,
   "metadata": {
    "ExecuteTime": {
     "end_time": "2020-09-19T17:11:22.174802Z",
     "start_time": "2020-09-19T17:11:22.149379Z"
    }
   },
   "outputs": [
    {
     "data": {
      "application/javascript": [
       "\n",
       "            setTimeout(function() {\n",
       "                var nbb_cell_id = 24;\n",
       "                var nbb_unformatted_code = \"counts = np.unique(y_train, return_counts=True)[1]\\ncounts = counts.sum() / counts\";\n",
       "                var nbb_formatted_code = \"counts = np.unique(y_train, return_counts=True)[1]\\ncounts = counts.sum() / counts\";\n",
       "                var nbb_cells = Jupyter.notebook.get_cells();\n",
       "                for (var i = 0; i < nbb_cells.length; ++i) {\n",
       "                    if (nbb_cells[i].input_prompt_number == nbb_cell_id) {\n",
       "                        if (nbb_cells[i].get_text() == nbb_unformatted_code) {\n",
       "                             nbb_cells[i].set_text(nbb_formatted_code);\n",
       "                        }\n",
       "                        break;\n",
       "                    }\n",
       "                }\n",
       "            }, 500);\n",
       "            "
      ],
      "text/plain": [
       "<IPython.core.display.Javascript object>"
      ]
     },
     "metadata": {},
     "output_type": "display_data"
    }
   ],
   "source": [
    "counts = np.unique(y_train, return_counts=True)[1]\n",
    "counts = counts.sum() / counts"
   ]
  },
  {
   "cell_type": "code",
   "execution_count": 25,
   "metadata": {
    "ExecuteTime": {
     "end_time": "2020-09-19T17:11:22.202992Z",
     "start_time": "2020-09-19T17:11:22.176381Z"
    }
   },
   "outputs": [
    {
     "data": {
      "text/plain": [
       "{0: 1.131539260699085, 1: 8.602292993630574}"
      ]
     },
     "execution_count": 25,
     "metadata": {},
     "output_type": "execute_result"
    },
    {
     "data": {
      "application/javascript": [
       "\n",
       "            setTimeout(function() {\n",
       "                var nbb_cell_id = 25;\n",
       "                var nbb_unformatted_code = \"class_weight = {\\n    0: counts[0],\\n    1: counts[1],\\n}\\nclass_weight\";\n",
       "                var nbb_formatted_code = \"class_weight = {\\n    0: counts[0],\\n    1: counts[1],\\n}\\nclass_weight\";\n",
       "                var nbb_cells = Jupyter.notebook.get_cells();\n",
       "                for (var i = 0; i < nbb_cells.length; ++i) {\n",
       "                    if (nbb_cells[i].input_prompt_number == nbb_cell_id) {\n",
       "                        if (nbb_cells[i].get_text() == nbb_unformatted_code) {\n",
       "                             nbb_cells[i].set_text(nbb_formatted_code);\n",
       "                        }\n",
       "                        break;\n",
       "                    }\n",
       "                }\n",
       "            }, 500);\n",
       "            "
      ],
      "text/plain": [
       "<IPython.core.display.Javascript object>"
      ]
     },
     "metadata": {},
     "output_type": "display_data"
    }
   ],
   "source": [
    "class_weight = {\n",
    "    0: counts[0],\n",
    "    1: counts[1],\n",
    "}\n",
    "class_weight"
   ]
  },
  {
   "cell_type": "raw",
   "metadata": {
    "ExecuteTime": {
     "end_time": "2020-07-14T10:13:28.824624Z",
     "start_time": "2020-07-14T10:13:28.800384Z"
    }
   },
   "source": [
    "class_weight = {\n",
    "    0: 1,\n",
    "    1: 1,\n",
    "}\n",
    "class_weight"
   ]
  },
  {
   "cell_type": "code",
   "execution_count": 26,
   "metadata": {
    "ExecuteTime": {
     "end_time": "2020-09-19T17:11:46.327278Z",
     "start_time": "2020-09-19T17:11:22.203842Z"
    }
   },
   "outputs": [
    {
     "name": "stdout",
     "output_type": "stream",
     "text": [
      "Epoch 1/2000\n",
      "33/33 - 0s - loss: 1.4087 - val_loss: 0.7771\n",
      "Epoch 2/2000\n",
      "33/33 - 0s - loss: 1.4069 - val_loss: 0.7720\n",
      "Epoch 3/2000\n",
      "33/33 - 0s - loss: 1.4043 - val_loss: 0.7644\n",
      "Epoch 4/2000\n",
      "33/33 - 0s - loss: 1.4008 - val_loss: 0.7565\n",
      "Epoch 5/2000\n",
      "33/33 - 0s - loss: 1.3963 - val_loss: 0.7447\n",
      "Epoch 6/2000\n",
      "33/33 - 0s - loss: 1.3902 - val_loss: 0.7325\n",
      "Epoch 7/2000\n",
      "33/33 - 0s - loss: 1.3818 - val_loss: 0.7142\n",
      "Epoch 8/2000\n",
      "33/33 - 0s - loss: 1.3702 - val_loss: 0.6954\n",
      "Epoch 9/2000\n",
      "33/33 - 0s - loss: 1.3547 - val_loss: 0.6678\n",
      "Epoch 10/2000\n",
      "33/33 - 0s - loss: 1.3340 - val_loss: 0.6423\n",
      "Epoch 11/2000\n",
      "33/33 - 0s - loss: 1.3084 - val_loss: 0.6103\n",
      "Epoch 12/2000\n",
      "33/33 - 0s - loss: 1.2770 - val_loss: 0.5837\n",
      "Epoch 13/2000\n",
      "33/33 - 0s - loss: 1.2415 - val_loss: 0.5552\n",
      "Epoch 14/2000\n",
      "33/33 - 0s - loss: 1.2023 - val_loss: 0.5328\n",
      "Epoch 15/2000\n",
      "33/33 - 0s - loss: 1.1632 - val_loss: 0.5132\n",
      "Epoch 16/2000\n",
      "33/33 - 0s - loss: 1.1254 - val_loss: 0.4959\n",
      "Epoch 17/2000\n",
      "33/33 - 0s - loss: 1.0918 - val_loss: 0.4778\n",
      "Epoch 18/2000\n",
      "33/33 - 0s - loss: 1.0613 - val_loss: 0.4641\n",
      "Epoch 19/2000\n",
      "33/33 - 0s - loss: 1.0342 - val_loss: 0.4462\n",
      "Epoch 20/2000\n",
      "33/33 - 0s - loss: 1.0087 - val_loss: 0.4334\n",
      "Epoch 21/2000\n",
      "33/33 - 0s - loss: 0.9847 - val_loss: 0.4193\n",
      "Epoch 22/2000\n",
      "33/33 - 0s - loss: 0.9608 - val_loss: 0.4084\n",
      "Epoch 23/2000\n",
      "33/33 - 0s - loss: 0.9375 - val_loss: 0.3987\n",
      "Epoch 24/2000\n",
      "33/33 - 0s - loss: 0.9138 - val_loss: 0.3903\n",
      "Epoch 25/2000\n",
      "33/33 - 0s - loss: 0.8907 - val_loss: 0.3806\n",
      "Epoch 26/2000\n",
      "33/33 - 0s - loss: 0.8677 - val_loss: 0.3703\n",
      "Epoch 27/2000\n",
      "33/33 - 0s - loss: 0.8455 - val_loss: 0.3630\n",
      "Epoch 28/2000\n",
      "33/33 - 0s - loss: 0.8239 - val_loss: 0.3551\n",
      "Epoch 29/2000\n",
      "33/33 - 0s - loss: 0.8037 - val_loss: 0.3479\n",
      "Epoch 30/2000\n",
      "33/33 - 0s - loss: 0.7843 - val_loss: 0.3415\n",
      "Epoch 31/2000\n",
      "33/33 - 0s - loss: 0.7661 - val_loss: 0.3362\n",
      "Epoch 32/2000\n",
      "33/33 - 0s - loss: 0.7488 - val_loss: 0.3249\n",
      "Epoch 33/2000\n",
      "33/33 - 0s - loss: 0.7327 - val_loss: 0.3293\n",
      "Epoch 34/2000\n",
      "33/33 - 0s - loss: 0.7175 - val_loss: 0.3164\n",
      "Epoch 35/2000\n",
      "33/33 - 0s - loss: 0.7032 - val_loss: 0.3101\n",
      "Epoch 36/2000\n",
      "33/33 - 0s - loss: 0.6900 - val_loss: 0.3072\n",
      "Epoch 37/2000\n",
      "33/33 - 0s - loss: 0.6775 - val_loss: 0.3012\n",
      "Epoch 38/2000\n",
      "33/33 - 0s - loss: 0.6657 - val_loss: 0.2987\n",
      "Epoch 39/2000\n",
      "33/33 - 0s - loss: 0.6548 - val_loss: 0.2953\n",
      "Epoch 40/2000\n",
      "33/33 - 0s - loss: 0.6445 - val_loss: 0.2940\n",
      "Epoch 41/2000\n",
      "33/33 - 0s - loss: 0.6351 - val_loss: 0.2896\n",
      "Epoch 42/2000\n",
      "33/33 - 0s - loss: 0.6260 - val_loss: 0.2820\n",
      "Epoch 43/2000\n",
      "33/33 - 0s - loss: 0.6180 - val_loss: 0.2776\n",
      "Epoch 44/2000\n",
      "33/33 - 0s - loss: 0.6099 - val_loss: 0.2777\n",
      "Epoch 45/2000\n",
      "33/33 - 0s - loss: 0.6026 - val_loss: 0.2771\n",
      "Epoch 46/2000\n",
      "33/33 - 0s - loss: 0.5958 - val_loss: 0.2749\n",
      "Epoch 47/2000\n",
      "33/33 - 0s - loss: 0.5894 - val_loss: 0.2725\n",
      "Epoch 48/2000\n",
      "33/33 - 0s - loss: 0.5837 - val_loss: 0.2716\n",
      "Epoch 49/2000\n",
      "33/33 - 0s - loss: 0.5780 - val_loss: 0.2729\n",
      "Epoch 50/2000\n",
      "33/33 - 0s - loss: 0.5728 - val_loss: 0.2659\n",
      "Epoch 51/2000\n",
      "33/33 - 0s - loss: 0.5679 - val_loss: 0.2656\n",
      "Epoch 52/2000\n",
      "33/33 - 0s - loss: 0.5633 - val_loss: 0.2667\n",
      "Epoch 53/2000\n",
      "33/33 - 0s - loss: 0.5592 - val_loss: 0.2661\n",
      "Epoch 54/2000\n",
      "33/33 - 0s - loss: 0.5550 - val_loss: 0.2638\n",
      "Epoch 55/2000\n",
      "33/33 - 0s - loss: 0.5512 - val_loss: 0.2583\n",
      "Epoch 56/2000\n",
      "33/33 - 0s - loss: 0.5481 - val_loss: 0.2555\n",
      "Epoch 57/2000\n",
      "33/33 - 0s - loss: 0.5444 - val_loss: 0.2596\n",
      "Epoch 58/2000\n",
      "33/33 - 0s - loss: 0.5411 - val_loss: 0.2623\n",
      "Epoch 59/2000\n",
      "33/33 - 0s - loss: 0.5380 - val_loss: 0.2546\n",
      "Epoch 60/2000\n",
      "33/33 - 0s - loss: 0.5353 - val_loss: 0.2581\n",
      "Epoch 61/2000\n",
      "33/33 - 0s - loss: 0.5326 - val_loss: 0.2666\n",
      "Epoch 62/2000\n",
      "33/33 - 0s - loss: 0.5302 - val_loss: 0.2560\n",
      "Epoch 63/2000\n",
      "33/33 - 0s - loss: 0.5277 - val_loss: 0.2599\n",
      "Epoch 64/2000\n",
      "33/33 - 0s - loss: 0.5253 - val_loss: 0.2554\n",
      "Epoch 65/2000\n",
      "33/33 - 0s - loss: 0.5232 - val_loss: 0.2575\n",
      "Epoch 66/2000\n",
      "33/33 - 0s - loss: 0.5212 - val_loss: 0.2559\n",
      "Epoch 67/2000\n",
      "33/33 - 0s - loss: 0.5193 - val_loss: 0.2642\n",
      "Epoch 68/2000\n",
      "33/33 - 0s - loss: 0.5175 - val_loss: 0.2558\n",
      "Epoch 69/2000\n",
      "33/33 - 0s - loss: 0.5154 - val_loss: 0.2566\n",
      "Epoch 70/2000\n",
      "33/33 - 0s - loss: 0.5137 - val_loss: 0.2537\n",
      "Epoch 71/2000\n",
      "33/33 - 0s - loss: 0.5120 - val_loss: 0.2607\n",
      "Epoch 72/2000\n",
      "33/33 - 0s - loss: 0.5104 - val_loss: 0.2535\n",
      "Epoch 73/2000\n",
      "33/33 - 0s - loss: 0.5088 - val_loss: 0.2537\n",
      "Epoch 74/2000\n",
      "33/33 - 0s - loss: 0.5074 - val_loss: 0.2580\n",
      "Epoch 75/2000\n",
      "33/33 - 0s - loss: 0.5060 - val_loss: 0.2566\n",
      "Epoch 76/2000\n",
      "33/33 - 0s - loss: 0.5044 - val_loss: 0.2529\n",
      "Epoch 77/2000\n",
      "33/33 - 0s - loss: 0.5031 - val_loss: 0.2541\n",
      "Epoch 78/2000\n",
      "33/33 - 0s - loss: 0.5018 - val_loss: 0.2565\n",
      "Epoch 79/2000\n",
      "33/33 - 0s - loss: 0.5007 - val_loss: 0.2550\n",
      "Epoch 80/2000\n",
      "33/33 - 0s - loss: 0.4995 - val_loss: 0.2533\n",
      "Epoch 81/2000\n",
      "33/33 - 0s - loss: 0.4983 - val_loss: 0.2521\n",
      "Epoch 82/2000\n",
      "33/33 - 0s - loss: 0.4970 - val_loss: 0.2589\n",
      "Epoch 83/2000\n",
      "33/33 - 0s - loss: 0.4962 - val_loss: 0.2577\n",
      "Epoch 84/2000\n",
      "33/33 - 0s - loss: 0.4951 - val_loss: 0.2549\n",
      "Epoch 85/2000\n",
      "33/33 - 0s - loss: 0.4940 - val_loss: 0.2513\n",
      "Epoch 86/2000\n",
      "33/33 - 0s - loss: 0.4934 - val_loss: 0.2555\n",
      "Epoch 87/2000\n",
      "33/33 - 0s - loss: 0.4922 - val_loss: 0.2587\n",
      "Epoch 88/2000\n",
      "33/33 - 0s - loss: 0.4912 - val_loss: 0.2494\n",
      "Epoch 89/2000\n",
      "33/33 - 0s - loss: 0.4904 - val_loss: 0.2528\n",
      "Epoch 90/2000\n",
      "33/33 - 0s - loss: 0.4894 - val_loss: 0.2551\n",
      "Epoch 91/2000\n",
      "33/33 - 0s - loss: 0.4886 - val_loss: 0.2552\n",
      "Epoch 92/2000\n",
      "33/33 - 0s - loss: 0.4878 - val_loss: 0.2526\n",
      "Epoch 93/2000\n",
      "33/33 - 0s - loss: 0.4869 - val_loss: 0.2514\n",
      "Epoch 94/2000\n",
      "33/33 - 0s - loss: 0.4862 - val_loss: 0.2560\n",
      "Epoch 95/2000\n",
      "33/33 - 0s - loss: 0.4854 - val_loss: 0.2543\n",
      "Epoch 96/2000\n",
      "33/33 - 0s - loss: 0.4847 - val_loss: 0.2540\n",
      "Epoch 97/2000\n",
      "33/33 - 0s - loss: 0.4841 - val_loss: 0.2562\n",
      "Epoch 98/2000\n",
      "33/33 - 0s - loss: 0.4832 - val_loss: 0.2587\n",
      "Epoch 99/2000\n",
      "33/33 - 0s - loss: 0.4828 - val_loss: 0.2571\n",
      "Epoch 100/2000\n",
      "33/33 - 0s - loss: 0.4821 - val_loss: 0.2585\n",
      "Epoch 101/2000\n",
      "33/33 - 0s - loss: 0.4814 - val_loss: 0.2621\n",
      "Epoch 102/2000\n",
      "33/33 - 0s - loss: 0.4807 - val_loss: 0.2605\n",
      "Epoch 103/2000\n",
      "33/33 - 0s - loss: 0.4801 - val_loss: 0.2589\n",
      "Epoch 104/2000\n",
      "33/33 - 0s - loss: 0.4795 - val_loss: 0.2538\n",
      "Epoch 105/2000\n",
      "33/33 - 0s - loss: 0.4788 - val_loss: 0.2591\n",
      "Epoch 106/2000\n",
      "33/33 - 0s - loss: 0.4783 - val_loss: 0.2594\n",
      "Epoch 107/2000\n",
      "33/33 - 0s - loss: 0.4776 - val_loss: 0.2555\n",
      "Epoch 108/2000\n",
      "33/33 - 0s - loss: 0.4770 - val_loss: 0.2609\n",
      "Epoch 00108: early stopping\n",
      "CPU times: user 2min 50s, sys: 4.8 s, total: 2min 55s\n",
      "Wall time: 24.1 s\n"
     ]
    },
    {
     "data": {
      "application/javascript": [
       "\n",
       "            setTimeout(function() {\n",
       "                var nbb_cell_id = 26;\n",
       "                var nbb_unformatted_code = \"%%time\\nhistory = model.fit(\\n    input_train,\\n    y_train.reshape(-1, 1),\\n    epochs=2000,\\n    batch_size=1024,\\n    validation_data=(input_valid, y_valid.reshape(-1, 1),),\\n    verbose=2,\\n    callbacks=[EarlyStopping(monitor=\\\"val_loss\\\", patience=20, verbose=1)],\\n    class_weight=class_weight\\n)\";\n",
       "                var nbb_formatted_code = \"%%time\\nhistory = model.fit(\\n    input_train,\\n    y_train.reshape(-1, 1),\\n    epochs=2000,\\n    batch_size=1024,\\n    validation_data=(input_valid, y_valid.reshape(-1, 1),),\\n    verbose=2,\\n    callbacks=[EarlyStopping(monitor=\\\"val_loss\\\", patience=20, verbose=1)],\\n    class_weight=class_weight\\n)\";\n",
       "                var nbb_cells = Jupyter.notebook.get_cells();\n",
       "                for (var i = 0; i < nbb_cells.length; ++i) {\n",
       "                    if (nbb_cells[i].input_prompt_number == nbb_cell_id) {\n",
       "                        if (nbb_cells[i].get_text() == nbb_unformatted_code) {\n",
       "                             nbb_cells[i].set_text(nbb_formatted_code);\n",
       "                        }\n",
       "                        break;\n",
       "                    }\n",
       "                }\n",
       "            }, 500);\n",
       "            "
      ],
      "text/plain": [
       "<IPython.core.display.Javascript object>"
      ]
     },
     "metadata": {},
     "output_type": "display_data"
    }
   ],
   "source": [
    "%%time\n",
    "history = model.fit(\n",
    "    input_train,\n",
    "    y_train.reshape(-1, 1),\n",
    "    epochs=2000,\n",
    "    batch_size=1024,\n",
    "    validation_data=(input_valid, y_valid.reshape(-1, 1),),\n",
    "    verbose=2,\n",
    "    callbacks=[EarlyStopping(monitor=\"val_loss\", patience=20, verbose=1)],\n",
    "    class_weight=class_weight\n",
    ")"
   ]
  },
  {
   "cell_type": "code",
   "execution_count": 27,
   "metadata": {
    "ExecuteTime": {
     "end_time": "2020-09-19T17:11:46.466045Z",
     "start_time": "2020-09-19T17:11:46.328206Z"
    }
   },
   "outputs": [
    {
     "data": {
      "image/png": "[encoded data removed]",
      "text/plain": [
       "<Figure size 432x288 with 1 Axes>"
      ]
     },
     "metadata": {
      "needs_background": "light"
     },
     "output_type": "display_data"
    },
    {
     "data": {
      "application/javascript": [
       "\n",
       "            setTimeout(function() {\n",
       "                var nbb_cell_id = 27;\n",
       "                var nbb_unformatted_code = \"plot_history(history)\";\n",
       "                var nbb_formatted_code = \"plot_history(history)\";\n",
       "                var nbb_cells = Jupyter.notebook.get_cells();\n",
       "                for (var i = 0; i < nbb_cells.length; ++i) {\n",
       "                    if (nbb_cells[i].input_prompt_number == nbb_cell_id) {\n",
       "                        if (nbb_cells[i].get_text() == nbb_unformatted_code) {\n",
       "                             nbb_cells[i].set_text(nbb_formatted_code);\n",
       "                        }\n",
       "                        break;\n",
       "                    }\n",
       "                }\n",
       "            }, 500);\n",
       "            "
      ],
      "text/plain": [
       "<IPython.core.display.Javascript object>"
      ]
     },
     "metadata": {},
     "output_type": "display_data"
    }
   ],
   "source": [
    "plot_history(history)"
   ]
  },
  {
   "cell_type": "code",
   "execution_count": 28,
   "metadata": {
    "ExecuteTime": {
     "end_time": "2020-09-19T17:11:46.644197Z",
     "start_time": "2020-09-19T17:11:46.466991Z"
    }
   },
   "outputs": [
    {
     "data": {
      "text/plain": [
       "0.9228612726565905"
      ]
     },
     "execution_count": 28,
     "metadata": {},
     "output_type": "execute_result"
    },
    {
     "data": {
      "application/javascript": [
       "\n",
       "            setTimeout(function() {\n",
       "                var nbb_cell_id = 28;\n",
       "                var nbb_unformatted_code = \"model_auc = roc_auc_score(\\n    y_true=y_valid, y_score=model.predict(input_valid).reshape(-1),\\n)\\nmodel_auc\";\n",
       "                var nbb_formatted_code = \"model_auc = roc_auc_score(\\n    y_true=y_valid,\\n    y_score=model.predict(input_valid).reshape(-1),\\n)\\nmodel_auc\";\n",
       "                var nbb_cells = Jupyter.notebook.get_cells();\n",
       "                for (var i = 0; i < nbb_cells.length; ++i) {\n",
       "                    if (nbb_cells[i].input_prompt_number == nbb_cell_id) {\n",
       "                        if (nbb_cells[i].get_text() == nbb_unformatted_code) {\n",
       "                             nbb_cells[i].set_text(nbb_formatted_code);\n",
       "                        }\n",
       "                        break;\n",
       "                    }\n",
       "                }\n",
       "            }, 500);\n",
       "            "
      ],
      "text/plain": [
       "<IPython.core.display.Javascript object>"
      ]
     },
     "metadata": {},
     "output_type": "display_data"
    }
   ],
   "source": [
    "model_auc = roc_auc_score(\n",
    "    y_true=y_valid,\n",
    "    y_score=model.predict(input_valid).reshape(-1),\n",
    ")\n",
    "model_auc"
   ]
  },
  {
   "cell_type": "code",
   "execution_count": 29,
   "metadata": {
    "ExecuteTime": {
     "end_time": "2020-09-19T17:11:46.744448Z",
     "start_time": "2020-09-19T17:11:46.645166Z"
    }
   },
   "outputs": [
    {
     "data": {
      "text/plain": [
       "0.9285325958771641"
      ]
     },
     "execution_count": 29,
     "metadata": {},
     "output_type": "execute_result"
    },
    {
     "data": {
      "application/javascript": [
       "\n",
       "            setTimeout(function() {\n",
       "                var nbb_cell_id = 29;\n",
       "                var nbb_unformatted_code = \"model_auc = roc_auc_score(y_true=y_test, y_score=model.predict(input_test).reshape(-1),)\\nmodel_auc\";\n",
       "                var nbb_formatted_code = \"model_auc = roc_auc_score(\\n    y_true=y_test,\\n    y_score=model.predict(input_test).reshape(-1),\\n)\\nmodel_auc\";\n",
       "                var nbb_cells = Jupyter.notebook.get_cells();\n",
       "                for (var i = 0; i < nbb_cells.length; ++i) {\n",
       "                    if (nbb_cells[i].input_prompt_number == nbb_cell_id) {\n",
       "                        if (nbb_cells[i].get_text() == nbb_unformatted_code) {\n",
       "                             nbb_cells[i].set_text(nbb_formatted_code);\n",
       "                        }\n",
       "                        break;\n",
       "                    }\n",
       "                }\n",
       "            }, 500);\n",
       "            "
      ],
      "text/plain": [
       "<IPython.core.display.Javascript object>"
      ]
     },
     "metadata": {},
     "output_type": "display_data"
    }
   ],
   "source": [
    "model_auc = roc_auc_score(\n",
    "    y_true=y_test,\n",
    "    y_score=model.predict(input_test).reshape(-1),\n",
    ")\n",
    "model_auc"
   ]
  },
  {
   "cell_type": "code",
   "execution_count": 30,
   "metadata": {
    "ExecuteTime": {
     "end_time": "2020-09-19T17:11:46.768610Z",
     "start_time": "2020-09-19T17:11:46.745343Z"
    }
   },
   "outputs": [
    {
     "data": {
      "application/javascript": [
       "\n",
       "            setTimeout(function() {\n",
       "                var nbb_cell_id = 30;\n",
       "                var nbb_unformatted_code = \"from xplainet.model import predict, encode\";\n",
       "                var nbb_formatted_code = \"from xplainet.model import predict, encode\";\n",
       "                var nbb_cells = Jupyter.notebook.get_cells();\n",
       "                for (var i = 0; i < nbb_cells.length; ++i) {\n",
       "                    if (nbb_cells[i].input_prompt_number == nbb_cell_id) {\n",
       "                        if (nbb_cells[i].get_text() == nbb_unformatted_code) {\n",
       "                             nbb_cells[i].set_text(nbb_formatted_code);\n",
       "                        }\n",
       "                        break;\n",
       "                    }\n",
       "                }\n",
       "            }, 500);\n",
       "            "
      ],
      "text/plain": [
       "<IPython.core.display.Javascript object>"
      ]
     },
     "metadata": {},
     "output_type": "display_data"
    }
   ],
   "source": [
    "from xplainet.model import predict, encode"
   ]
  },
  {
   "cell_type": "code",
   "execution_count": 31,
   "metadata": {
    "ExecuteTime": {
     "end_time": "2020-09-19T17:11:46.950091Z",
     "start_time": "2020-09-19T17:11:46.769492Z"
    }
   },
   "outputs": [
    {
     "data": {
      "application/javascript": [
       "\n",
       "            setTimeout(function() {\n",
       "                var nbb_cell_id = 31;\n",
       "                var nbb_unformatted_code = \"probs, explanations = predict(model, input_test)\";\n",
       "                var nbb_formatted_code = \"probs, explanations = predict(model, input_test)\";\n",
       "                var nbb_cells = Jupyter.notebook.get_cells();\n",
       "                for (var i = 0; i < nbb_cells.length; ++i) {\n",
       "                    if (nbb_cells[i].input_prompt_number == nbb_cell_id) {\n",
       "                        if (nbb_cells[i].get_text() == nbb_unformatted_code) {\n",
       "                             nbb_cells[i].set_text(nbb_formatted_code);\n",
       "                        }\n",
       "                        break;\n",
       "                    }\n",
       "                }\n",
       "            }, 500);\n",
       "            "
      ],
      "text/plain": [
       "<IPython.core.display.Javascript object>"
      ]
     },
     "metadata": {},
     "output_type": "display_data"
    }
   ],
   "source": [
    "probs, explanations = predict(model, input_test)"
   ]
  },
  {
   "cell_type": "code",
   "execution_count": 32,
   "metadata": {
    "ExecuteTime": {
     "end_time": "2020-09-19T17:11:47.125105Z",
     "start_time": "2020-09-19T17:11:46.951082Z"
    }
   },
   "outputs": [
    {
     "data": {
      "application/javascript": [
       "\n",
       "            setTimeout(function() {\n",
       "                var nbb_cell_id = 32;\n",
       "                var nbb_unformatted_code = \"probs, encoded_output = encode(model, input_test)\";\n",
       "                var nbb_formatted_code = \"probs, encoded_output = encode(model, input_test)\";\n",
       "                var nbb_cells = Jupyter.notebook.get_cells();\n",
       "                for (var i = 0; i < nbb_cells.length; ++i) {\n",
       "                    if (nbb_cells[i].input_prompt_number == nbb_cell_id) {\n",
       "                        if (nbb_cells[i].get_text() == nbb_unformatted_code) {\n",
       "                             nbb_cells[i].set_text(nbb_formatted_code);\n",
       "                        }\n",
       "                        break;\n",
       "                    }\n",
       "                }\n",
       "            }, 500);\n",
       "            "
      ],
      "text/plain": [
       "<IPython.core.display.Javascript object>"
      ]
     },
     "metadata": {},
     "output_type": "display_data"
    }
   ],
   "source": [
    "probs, encoded_output = encode(model, input_test)"
   ]
  },
  {
   "cell_type": "code",
   "execution_count": 33,
   "metadata": {
    "ExecuteTime": {
     "end_time": "2020-09-19T17:11:47.148633Z",
     "start_time": "2020-09-19T17:11:47.126151Z"
    }
   },
   "outputs": [
    {
     "data": {
      "text/plain": [
       "(4119,)"
      ]
     },
     "execution_count": 33,
     "metadata": {},
     "output_type": "execute_result"
    },
    {
     "data": {
      "application/javascript": [
       "\n",
       "            setTimeout(function() {\n",
       "                var nbb_cell_id = 33;\n",
       "                var nbb_unformatted_code = \"y_test.shape\";\n",
       "                var nbb_formatted_code = \"y_test.shape\";\n",
       "                var nbb_cells = Jupyter.notebook.get_cells();\n",
       "                for (var i = 0; i < nbb_cells.length; ++i) {\n",
       "                    if (nbb_cells[i].input_prompt_number == nbb_cell_id) {\n",
       "                        if (nbb_cells[i].get_text() == nbb_unformatted_code) {\n",
       "                             nbb_cells[i].set_text(nbb_formatted_code);\n",
       "                        }\n",
       "                        break;\n",
       "                    }\n",
       "                }\n",
       "            }, 500);\n",
       "            "
      ],
      "text/plain": [
       "<IPython.core.display.Javascript object>"
      ]
     },
     "metadata": {},
     "output_type": "display_data"
    }
   ],
   "source": [
    "y_test.shape"
   ]
  },
  {
   "cell_type": "code",
   "execution_count": 34,
   "metadata": {
    "ExecuteTime": {
     "end_time": "2020-09-19T17:11:47.172422Z",
     "start_time": "2020-09-19T17:11:47.149566Z"
    }
   },
   "outputs": [
    {
     "data": {
      "text/plain": [
       "(4119, 77)"
      ]
     },
     "execution_count": 34,
     "metadata": {},
     "output_type": "execute_result"
    },
    {
     "data": {
      "application/javascript": [
       "\n",
       "            setTimeout(function() {\n",
       "                var nbb_cell_id = 34;\n",
       "                var nbb_unformatted_code = \"encoded_output.shape\";\n",
       "                var nbb_formatted_code = \"encoded_output.shape\";\n",
       "                var nbb_cells = Jupyter.notebook.get_cells();\n",
       "                for (var i = 0; i < nbb_cells.length; ++i) {\n",
       "                    if (nbb_cells[i].input_prompt_number == nbb_cell_id) {\n",
       "                        if (nbb_cells[i].get_text() == nbb_unformatted_code) {\n",
       "                             nbb_cells[i].set_text(nbb_formatted_code);\n",
       "                        }\n",
       "                        break;\n",
       "                    }\n",
       "                }\n",
       "            }, 500);\n",
       "            "
      ],
      "text/plain": [
       "<IPython.core.display.Javascript object>"
      ]
     },
     "metadata": {},
     "output_type": "display_data"
    }
   ],
   "source": [
    "encoded_output.shape"
   ]
  },
  {
   "cell_type": "code",
   "execution_count": 35,
   "metadata": {
    "ExecuteTime": {
     "end_time": "2020-09-19T17:11:47.197498Z",
     "start_time": "2020-09-19T17:11:47.173373Z"
    }
   },
   "outputs": [
    {
     "data": {
      "text/plain": [
       "(4119, 20)"
      ]
     },
     "execution_count": 35,
     "metadata": {},
     "output_type": "execute_result"
    },
    {
     "data": {
      "application/javascript": [
       "\n",
       "            setTimeout(function() {\n",
       "                var nbb_cell_id = 35;\n",
       "                var nbb_unformatted_code = \"explanations.shape\";\n",
       "                var nbb_formatted_code = \"explanations.shape\";\n",
       "                var nbb_cells = Jupyter.notebook.get_cells();\n",
       "                for (var i = 0; i < nbb_cells.length; ++i) {\n",
       "                    if (nbb_cells[i].input_prompt_number == nbb_cell_id) {\n",
       "                        if (nbb_cells[i].get_text() == nbb_unformatted_code) {\n",
       "                             nbb_cells[i].set_text(nbb_formatted_code);\n",
       "                        }\n",
       "                        break;\n",
       "                    }\n",
       "                }\n",
       "            }, 500);\n",
       "            "
      ],
      "text/plain": [
       "<IPython.core.display.Javascript object>"
      ]
     },
     "metadata": {},
     "output_type": "display_data"
    }
   ],
   "source": [
    "explanations.shape"
   ]
  },
  {
   "cell_type": "code",
   "execution_count": 36,
   "metadata": {
    "ExecuteTime": {
     "end_time": "2020-09-19T17:11:47.228708Z",
     "start_time": "2020-09-19T17:11:47.198513Z"
    }
   },
   "outputs": [
    {
     "data": {
      "application/javascript": [
       "\n",
       "            setTimeout(function() {\n",
       "                var nbb_cell_id = 36;\n",
       "                var nbb_unformatted_code = \"import matplotlib.pyplot as plt\\n\\n# plt.rcdefaults()\\nimport numpy as np\\nimport matplotlib.pyplot as plt\\n\\n\\ndef explain_plot(importances, columns):\\n    selection = np.argsort(-np.absolute(importances))[:10]\\n    # indexes = np.argsort(importances)\\n    performance = importances[selection]\\n    #     print(performance.shape)512, 256, 128, 64, 32, 1\\n    y_pos = np.arange(performance.shape[0])\\n\\n    plt.barh(y_pos, performance, align=\\\"center\\\", alpha=0.5)\\n    plt.yticks(y_pos, columns[selection])\\n    # plt.xlabel('Usage')\\n    plt.title(\\\"Feature importance\\\")\\n\\n    plt.show()\";\n",
       "                var nbb_formatted_code = \"import matplotlib.pyplot as plt\\n\\n# plt.rcdefaults()\\nimport numpy as np\\nimport matplotlib.pyplot as plt\\n\\n\\ndef explain_plot(importances, columns):\\n    selection = np.argsort(-np.absolute(importances))[:10]\\n    # indexes = np.argsort(importances)\\n    performance = importances[selection]\\n    #     print(performance.shape)512, 256, 128, 64, 32, 1\\n    y_pos = np.arange(performance.shape[0])\\n\\n    plt.barh(y_pos, performance, align=\\\"center\\\", alpha=0.5)\\n    plt.yticks(y_pos, columns[selection])\\n    # plt.xlabel('Usage')\\n    plt.title(\\\"Feature importance\\\")\\n\\n    plt.show()\";\n",
       "                var nbb_cells = Jupyter.notebook.get_cells();\n",
       "                for (var i = 0; i < nbb_cells.length; ++i) {\n",
       "                    if (nbb_cells[i].input_prompt_number == nbb_cell_id) {\n",
       "                        if (nbb_cells[i].get_text() == nbb_unformatted_code) {\n",
       "                             nbb_cells[i].set_text(nbb_formatted_code);\n",
       "                        }\n",
       "                        break;\n",
       "                    }\n",
       "                }\n",
       "            }, 500);\n",
       "            "
      ],
      "text/plain": [
       "<IPython.core.display.Javascript object>"
      ]
     },
     "metadata": {},
     "output_type": "display_data"
    }
   ],
   "source": [
    "import matplotlib.pyplot as plt\n",
    "\n",
    "# plt.rcdefaults()\n",
    "import numpy as np\n",
    "import matplotlib.pyplot as plt\n",
    "\n",
    "\n",
    "def explain_plot(importances, columns):\n",
    "    selection = np.argsort(-np.absolute(importances))[:10]\n",
    "    # indexes = np.argsort(importances)\n",
    "    performance = importances[selection]\n",
    "    #     print(performance.shape)512, 256, 128, 64, 32, 1\n",
    "    y_pos = np.arange(performance.shape[0])\n",
    "\n",
    "    plt.barh(y_pos, performance, align=\"center\", alpha=0.5)\n",
    "    plt.yticks(y_pos, columns[selection])\n",
    "    # plt.xlabel('Usage')\n",
    "    plt.title(\"Feature importance\")\n",
    "\n",
    "    plt.show()"
   ]
  },
  {
   "cell_type": "code",
   "execution_count": 37,
   "metadata": {
    "ExecuteTime": {
     "end_time": "2020-09-19T17:11:47.254358Z",
     "start_time": "2020-09-19T17:11:47.229714Z"
    }
   },
   "outputs": [
    {
     "data": {
      "text/plain": [
       "array(['contact', 'month', 'pdays', 'duration', 'marital',\n",
       "       'cons.conf.idx', 'age', 'nr.employed', 'education', 'job',\n",
       "       'euribor3m', 'loan', 'emp.var.rate', 'poutcome', 'campaign',\n",
       "       'day_of_week', 'default', 'cons.price.idx', 'housing', 'previous'],\n",
       "      dtype='<U14')"
      ]
     },
     "execution_count": 37,
     "metadata": {},
     "output_type": "execute_result"
    },
    {
     "data": {
      "application/javascript": [
       "\n",
       "            setTimeout(function() {\n",
       "                var nbb_cell_id = 37;\n",
       "                var nbb_unformatted_code = \"all_cols = np.array(params[\\\"bool_cols\\\"] + params[\\\"num_cols\\\"] + params[\\\"cat_cols\\\"])\\nall_cols\";\n",
       "                var nbb_formatted_code = \"all_cols = np.array(params[\\\"bool_cols\\\"] + params[\\\"num_cols\\\"] + params[\\\"cat_cols\\\"])\\nall_cols\";\n",
       "                var nbb_cells = Jupyter.notebook.get_cells();\n",
       "                for (var i = 0; i < nbb_cells.length; ++i) {\n",
       "                    if (nbb_cells[i].input_prompt_number == nbb_cell_id) {\n",
       "                        if (nbb_cells[i].get_text() == nbb_unformatted_code) {\n",
       "                             nbb_cells[i].set_text(nbb_formatted_code);\n",
       "                        }\n",
       "                        break;\n",
       "                    }\n",
       "                }\n",
       "            }, 500);\n",
       "            "
      ],
      "text/plain": [
       "<IPython.core.display.Javascript object>"
      ]
     },
     "metadata": {},
     "output_type": "display_data"
    }
   ],
   "source": [
    "all_cols = np.array(params[\"bool_cols\"] + params[\"num_cols\"] + params[\"cat_cols\"])\n",
    "all_cols"
   ]
  },
  {
   "cell_type": "markdown",
   "metadata": {
    "ExecuteTime": {
     "end_time": "2020-09-18T18:48:54.151671Z",
     "start_time": "2020-09-18T18:48:54.127488Z"
    }
   },
   "source": [
    "## Explain global"
   ]
  },
  {
   "cell_type": "code",
   "execution_count": 38,
   "metadata": {
    "ExecuteTime": {
     "end_time": "2020-09-19T17:11:47.839638Z",
     "start_time": "2020-09-19T17:11:47.255303Z"
    }
   },
   "outputs": [
    {
     "data": {
      "application/javascript": [
       "\n",
       "            setTimeout(function() {\n",
       "                var nbb_cell_id = 38;\n",
       "                var nbb_unformatted_code = \"probs_train, explanations_train = predict(model, input_train)\";\n",
       "                var nbb_formatted_code = \"probs_train, explanations_train = predict(model, input_train)\";\n",
       "                var nbb_cells = Jupyter.notebook.get_cells();\n",
       "                for (var i = 0; i < nbb_cells.length; ++i) {\n",
       "                    if (nbb_cells[i].input_prompt_number == nbb_cell_id) {\n",
       "                        if (nbb_cells[i].get_text() == nbb_unformatted_code) {\n",
       "                             nbb_cells[i].set_text(nbb_formatted_code);\n",
       "                        }\n",
       "                        break;\n",
       "                    }\n",
       "                }\n",
       "            }, 500);\n",
       "            "
      ],
      "text/plain": [
       "<IPython.core.display.Javascript object>"
      ]
     },
     "metadata": {},
     "output_type": "display_data"
    }
   ],
   "source": [
    "probs_train, explanations_train = predict(model, input_train)"
   ]
  },
  {
   "cell_type": "code",
   "execution_count": 39,
   "metadata": {
    "ExecuteTime": {
     "end_time": "2020-09-19T17:11:47.864894Z",
     "start_time": "2020-09-19T17:11:47.840699Z"
    }
   },
   "outputs": [
    {
     "data": {
      "application/javascript": [
       "\n",
       "            setTimeout(function() {\n",
       "                var nbb_cell_id = 39;\n",
       "                var nbb_unformatted_code = \"global_explain = np.sum(explanations_train, axis=0)\\nglobal_explain = global_explain / np.abs(global_explain).sum()\";\n",
       "                var nbb_formatted_code = \"global_explain = np.sum(explanations_train, axis=0)\\nglobal_explain = global_explain / np.abs(global_explain).sum()\";\n",
       "                var nbb_cells = Jupyter.notebook.get_cells();\n",
       "                for (var i = 0; i < nbb_cells.length; ++i) {\n",
       "                    if (nbb_cells[i].input_prompt_number == nbb_cell_id) {\n",
       "                        if (nbb_cells[i].get_text() == nbb_unformatted_code) {\n",
       "                             nbb_cells[i].set_text(nbb_formatted_code);\n",
       "                        }\n",
       "                        break;\n",
       "                    }\n",
       "                }\n",
       "            }, 500);\n",
       "            "
      ],
      "text/plain": [
       "<IPython.core.display.Javascript object>"
      ]
     },
     "metadata": {},
     "output_type": "display_data"
    }
   ],
   "source": [
    "global_explain = np.sum(explanations_train, axis=0)\n",
    "global_explain = global_explain / np.abs(global_explain).sum()"
   ]
  },
  {
   "cell_type": "code",
   "execution_count": 40,
   "metadata": {
    "ExecuteTime": {
     "end_time": "2020-09-19T17:11:47.888696Z",
     "start_time": "2020-09-19T17:11:47.865831Z"
    }
   },
   "outputs": [
    {
     "data": {
      "text/plain": [
       "array([ 5.51899192e-03, -1.21002763e-02, -2.84195636e-02, -5.93051374e-01,\n",
       "        2.45436422e-02, -1.50825474e-03, -2.77059989e-04, -1.12226852e-02,\n",
       "       -6.63148540e-04,  4.89590013e-03, -7.27010199e-02,  2.35344764e-02,\n",
       "        1.40137751e-02,  6.68540125e-02,  2.23898893e-02,  3.18636484e-02,\n",
       "        4.10649480e-02, -6.90272925e-03,  3.30870987e-02,  5.38750549e-03])"
      ]
     },
     "execution_count": 40,
     "metadata": {},
     "output_type": "execute_result"
    },
    {
     "data": {
      "application/javascript": [
       "\n",
       "            setTimeout(function() {\n",
       "                var nbb_cell_id = 40;\n",
       "                var nbb_unformatted_code = \"global_explain\";\n",
       "                var nbb_formatted_code = \"global_explain\";\n",
       "                var nbb_cells = Jupyter.notebook.get_cells();\n",
       "                for (var i = 0; i < nbb_cells.length; ++i) {\n",
       "                    if (nbb_cells[i].input_prompt_number == nbb_cell_id) {\n",
       "                        if (nbb_cells[i].get_text() == nbb_unformatted_code) {\n",
       "                             nbb_cells[i].set_text(nbb_formatted_code);\n",
       "                        }\n",
       "                        break;\n",
       "                    }\n",
       "                }\n",
       "            }, 500);\n",
       "            "
      ],
      "text/plain": [
       "<IPython.core.display.Javascript object>"
      ]
     },
     "metadata": {},
     "output_type": "display_data"
    }
   ],
   "source": [
    "global_explain"
   ]
  },
  {
   "cell_type": "code",
   "execution_count": 41,
   "metadata": {
    "ExecuteTime": {
     "end_time": "2020-09-19T17:11:48.018462Z",
     "start_time": "2020-09-19T17:11:47.889608Z"
    }
   },
   "outputs": [
    {
     "data": {
      "image/png": "[encoded data removed]",
      "text/plain": [
       "<Figure size 432x288 with 1 Axes>"
      ]
     },
     "metadata": {
      "needs_background": "light"
     },
     "output_type": "display_data"
    },
    {
     "data": {
      "application/javascript": [
       "\n",
       "            setTimeout(function() {\n",
       "                var nbb_cell_id = 41;\n",
       "                var nbb_unformatted_code = \"explain_plot(global_explain, all_cols)\";\n",
       "                var nbb_formatted_code = \"explain_plot(global_explain, all_cols)\";\n",
       "                var nbb_cells = Jupyter.notebook.get_cells();\n",
       "                for (var i = 0; i < nbb_cells.length; ++i) {\n",
       "                    if (nbb_cells[i].input_prompt_number == nbb_cell_id) {\n",
       "                        if (nbb_cells[i].get_text() == nbb_unformatted_code) {\n",
       "                             nbb_cells[i].set_text(nbb_formatted_code);\n",
       "                        }\n",
       "                        break;\n",
       "                    }\n",
       "                }\n",
       "            }, 500);\n",
       "            "
      ],
      "text/plain": [
       "<IPython.core.display.Javascript object>"
      ]
     },
     "metadata": {},
     "output_type": "display_data"
    }
   ],
   "source": [
    "explain_plot(global_explain, all_cols)"
   ]
  },
  {
   "cell_type": "markdown",
   "metadata": {},
   "source": [
    "## Explain local"
   ]
  },
  {
   "cell_type": "code",
   "execution_count": 42,
   "metadata": {
    "ExecuteTime": {
     "end_time": "2020-09-19T17:11:50.185529Z",
     "start_time": "2020-09-19T17:11:48.019519Z"
    }
   },
   "outputs": [
    {
     "data": {
      "image/png": "[encoded data removed]",
      "text/plain": [
       "<Figure size 432x288 with 1 Axes>"
      ]
     },
     "metadata": {
      "needs_background": "light"
     },
     "output_type": "display_data"
    },
    {
     "name": "stdout",
     "output_type": "stream",
     "text": [
      "3.4338725527049974e-05\n"
     ]
    },
    {
     "data": {
      "image/png": "[encoded data removed]",
      "text/plain": [
       "<Figure size 432x288 with 1 Axes>"
      ]
     },
     "metadata": {
      "needs_background": "light"
     },
     "output_type": "display_data"
    },
    {
     "name": "stdout",
     "output_type": "stream",
     "text": [
      "0.0025712251663208008\n"
     ]
    },
    {
     "data": {
      "image/png": "[encoded data removed]",
      "text/plain": [
       "<Figure size 432x288 with 1 Axes>"
      ]
     },
     "metadata": {
      "needs_background": "light"
     },
     "output_type": "display_data"
    },
    {
     "name": "stdout",
     "output_type": "stream",
     "text": [
      "0.12140670418739319\n"
     ]
    },
    {
     "data": {
      "image/png": "[encoded data removed]",
      "text/plain": [
       "<Figure size 432x288 with 1 Axes>"
      ]
     },
     "metadata": {
      "needs_background": "light"
     },
     "output_type": "display_data"
    },
    {
     "name": "stdout",
     "output_type": "stream",
     "text": [
      "0.008202970027923584\n"
     ]
    },
    {
     "data": {
      "image/png": "[encoded data removed]",
      "text/plain": [
       "<Figure size 432x288 with 1 Axes>"
      ]
     },
     "metadata": {
      "needs_background": "light"
     },
     "output_type": "display_data"
    },
    {
     "name": "stdout",
     "output_type": "stream",
     "text": [
      "7.297842239495367e-05\n"
     ]
    },
    {
     "data": {
      "image/png": "[encoded data removed]",
      "text/plain": [
       "<Figure size 432x288 with 1 Axes>"
      ]
     },
     "metadata": {
      "needs_background": "light"
     },
     "output_type": "display_data"
    },
    {
     "name": "stdout",
     "output_type": "stream",
     "text": [
      "0.04883086681365967\n"
     ]
    },
    {
     "data": {
      "image/png": "[encoded data removed]",
      "text/plain": [
       "<Figure size 432x288 with 1 Axes>"
      ]
     },
     "metadata": {
      "needs_background": "light"
     },
     "output_type": "display_data"
    },
    {
     "name": "stdout",
     "output_type": "stream",
     "text": [
      "0.027219325304031372\n"
     ]
    },
    {
     "data": {
      "image/png": "[encoded data removed]",
      "text/plain": [
       "<Figure size 432x288 with 1 Axes>"
      ]
     },
     "metadata": {
      "needs_background": "light"
     },
     "output_type": "display_data"
    },
    {
     "name": "stdout",
     "output_type": "stream",
     "text": [
      "0.007348418235778809\n"
     ]
    },
    {
     "data": {
      "image/png": "[encoded data removed]",
      "text/plain": [
       "<Figure size 432x288 with 1 Axes>"
      ]
     },
     "metadata": {
      "needs_background": "light"
     },
     "output_type": "display_data"
    },
    {
     "name": "stdout",
     "output_type": "stream",
     "text": [
      "0.0015024244785308838\n"
     ]
    },
    {
     "data": {
      "image/png": "[encoded data removed]",
      "text/plain": [
       "<Figure size 432x288 with 1 Axes>"
      ]
     },
     "metadata": {
      "needs_background": "light"
     },
     "output_type": "display_data"
    },
    {
     "name": "stdout",
     "output_type": "stream",
     "text": [
      "0.0028031766414642334\n"
     ]
    },
    {
     "data": {
      "image/png": "[encoded data removed]",
      "text/plain": [
       "<Figure size 432x288 with 1 Axes>"
      ]
     },
     "metadata": {
      "needs_background": "light"
     },
     "output_type": "display_data"
    },
    {
     "name": "stdout",
     "output_type": "stream",
     "text": [
      "0.0036596059799194336\n"
     ]
    },
    {
     "data": {
      "image/png": "[encoded data removed]",
      "text/plain": [
       "<Figure size 432x288 with 1 Axes>"
      ]
     },
     "metadata": {
      "needs_background": "light"
     },
     "output_type": "display_data"
    },
    {
     "name": "stdout",
     "output_type": "stream",
     "text": [
      "1.1416583220125176e-05\n"
     ]
    },
    {
     "data": {
      "image/png": "[encoded data removed]",
      "text/plain": [
       "<Figure size 432x288 with 1 Axes>"
      ]
     },
     "metadata": {
      "needs_background": "light"
     },
     "output_type": "display_data"
    },
    {
     "name": "stdout",
     "output_type": "stream",
     "text": [
      "0.005013465881347656\n"
     ]
    },
    {
     "data": {
      "image/png": "[encoded data removed]",
      "text/plain": [
       "<Figure size 432x288 with 1 Axes>"
      ]
     },
     "metadata": {
      "needs_background": "light"
     },
     "output_type": "display_data"
    },
    {
     "name": "stdout",
     "output_type": "stream",
     "text": [
      "0.40163514018058777\n"
     ]
    },
    {
     "data": {
      "image/png": "[encoded data removed]",
      "text/plain": [
       "<Figure size 432x288 with 1 Axes>"
      ]
     },
     "metadata": {
      "needs_background": "light"
     },
     "output_type": "display_data"
    },
    {
     "name": "stdout",
     "output_type": "stream",
     "text": [
      "0.030781149864196777\n"
     ]
    },
    {
     "data": {
      "image/png": "[encoded data removed]",
      "text/plain": [
       "<Figure size 432x288 with 1 Axes>"
      ]
     },
     "metadata": {
      "needs_background": "light"
     },
     "output_type": "display_data"
    },
    {
     "name": "stdout",
     "output_type": "stream",
     "text": [
      "0.02529105544090271\n"
     ]
    },
    {
     "data": {
      "image/png": "[encoded data removed]",
      "text/plain": [
       "<Figure size 432x288 with 1 Axes>"
      ]
     },
     "metadata": {
      "needs_background": "light"
     },
     "output_type": "display_data"
    },
    {
     "name": "stdout",
     "output_type": "stream",
     "text": [
      "0.464015930891037\n"
     ]
    },
    {
     "data": {
      "image/png": "[encoded data removed]",
      "text/plain": [
       "<Figure size 432x288 with 1 Axes>"
      ]
     },
     "metadata": {
      "needs_background": "light"
     },
     "output_type": "display_data"
    },
    {
     "name": "stdout",
     "output_type": "stream",
     "text": [
      "0.32752472162246704\n"
     ]
    },
    {
     "data": {
      "image/png": "[encoded data removed]",
      "text/plain": [
       "<Figure size 432x288 with 1 Axes>"
      ]
     },
     "metadata": {
      "needs_background": "light"
     },
     "output_type": "display_data"
    },
    {
     "name": "stdout",
     "output_type": "stream",
     "text": [
      "0.0065393149852752686\n"
     ]
    },
    {
     "data": {
      "image/png": "[encoded data removed]",
      "text/plain": [
       "<Figure size 432x288 with 1 Axes>"
      ]
     },
     "metadata": {
      "needs_background": "light"
     },
     "output_type": "display_data"
    },
    {
     "name": "stdout",
     "output_type": "stream",
     "text": [
      "0.006181776523590088\n"
     ]
    },
    {
     "data": {
      "application/javascript": [
       "\n",
       "            setTimeout(function() {\n",
       "                var nbb_cell_id = 42;\n",
       "                var nbb_unformatted_code = \"for i in range(20):\\n    explain_plot(explanations[i], all_cols)\\n    print(probs[i].item())\";\n",
       "                var nbb_formatted_code = \"for i in range(20):\\n    explain_plot(explanations[i], all_cols)\\n    print(probs[i].item())\";\n",
       "                var nbb_cells = Jupyter.notebook.get_cells();\n",
       "                for (var i = 0; i < nbb_cells.length; ++i) {\n",
       "                    if (nbb_cells[i].input_prompt_number == nbb_cell_id) {\n",
       "                        if (nbb_cells[i].get_text() == nbb_unformatted_code) {\n",
       "                             nbb_cells[i].set_text(nbb_formatted_code);\n",
       "                        }\n",
       "                        break;\n",
       "                    }\n",
       "                }\n",
       "            }, 500);\n",
       "            "
      ],
      "text/plain": [
       "<IPython.core.display.Javascript object>"
      ]
     },
     "metadata": {},
     "output_type": "display_data"
    }
   ],
   "source": [
    "for i in range(20):\n",
    "    explain_plot(explanations[i], all_cols)\n",
    "    print(probs[i].item())"
   ]
  },
  {
   "cell_type": "code",
   "execution_count": 43,
   "metadata": {
    "ExecuteTime": {
     "end_time": "2020-09-19T17:11:50.208716Z",
     "start_time": "2020-09-19T17:11:50.186507Z"
    }
   },
   "outputs": [
    {
     "data": {
      "application/javascript": [
       "\n",
       "            setTimeout(function() {\n",
       "                var nbb_cell_id = 43;\n",
       "                var nbb_unformatted_code = \"from sklearn.metrics import confusion_matrix\";\n",
       "                var nbb_formatted_code = \"from sklearn.metrics import confusion_matrix\";\n",
       "                var nbb_cells = Jupyter.notebook.get_cells();\n",
       "                for (var i = 0; i < nbb_cells.length; ++i) {\n",
       "                    if (nbb_cells[i].input_prompt_number == nbb_cell_id) {\n",
       "                        if (nbb_cells[i].get_text() == nbb_unformatted_code) {\n",
       "                             nbb_cells[i].set_text(nbb_formatted_code);\n",
       "                        }\n",
       "                        break;\n",
       "                    }\n",
       "                }\n",
       "            }, 500);\n",
       "            "
      ],
      "text/plain": [
       "<IPython.core.display.Javascript object>"
      ]
     },
     "metadata": {},
     "output_type": "display_data"
    }
   ],
   "source": [
    "from sklearn.metrics import confusion_matrix"
   ]
  },
  {
   "cell_type": "code",
   "execution_count": 44,
   "metadata": {
    "ExecuteTime": {
     "end_time": "2020-09-19T17:11:50.233603Z",
     "start_time": "2020-09-19T17:11:50.209952Z"
    }
   },
   "outputs": [
    {
     "data": {
      "text/plain": [
       "(array([0, 1]), array([3655,  464]))"
      ]
     },
     "execution_count": 44,
     "metadata": {},
     "output_type": "execute_result"
    },
    {
     "data": {
      "application/javascript": [
       "\n",
       "            setTimeout(function() {\n",
       "                var nbb_cell_id = 44;\n",
       "                var nbb_unformatted_code = \"np.unique(y_test, return_counts=True)\";\n",
       "                var nbb_formatted_code = \"np.unique(y_test, return_counts=True)\";\n",
       "                var nbb_cells = Jupyter.notebook.get_cells();\n",
       "                for (var i = 0; i < nbb_cells.length; ++i) {\n",
       "                    if (nbb_cells[i].input_prompt_number == nbb_cell_id) {\n",
       "                        if (nbb_cells[i].get_text() == nbb_unformatted_code) {\n",
       "                             nbb_cells[i].set_text(nbb_formatted_code);\n",
       "                        }\n",
       "                        break;\n",
       "                    }\n",
       "                }\n",
       "            }, 500);\n",
       "            "
      ],
      "text/plain": [
       "<IPython.core.display.Javascript object>"
      ]
     },
     "metadata": {},
     "output_type": "display_data"
    }
   ],
   "source": [
    "np.unique(y_test, return_counts=True)"
   ]
  },
  {
   "cell_type": "code",
   "execution_count": 45,
   "metadata": {
    "ExecuteTime": {
     "end_time": "2020-09-19T17:11:50.257537Z",
     "start_time": "2020-09-19T17:11:50.234481Z"
    }
   },
   "outputs": [
    {
     "data": {
      "text/plain": [
       "array([0, 0, 0, ..., 1, 0, 1])"
      ]
     },
     "execution_count": 45,
     "metadata": {},
     "output_type": "execute_result"
    },
    {
     "data": {
      "application/javascript": [
       "\n",
       "            setTimeout(function() {\n",
       "                var nbb_cell_id = 45;\n",
       "                var nbb_unformatted_code = \"y_test\";\n",
       "                var nbb_formatted_code = \"y_test\";\n",
       "                var nbb_cells = Jupyter.notebook.get_cells();\n",
       "                for (var i = 0; i < nbb_cells.length; ++i) {\n",
       "                    if (nbb_cells[i].input_prompt_number == nbb_cell_id) {\n",
       "                        if (nbb_cells[i].get_text() == nbb_unformatted_code) {\n",
       "                             nbb_cells[i].set_text(nbb_formatted_code);\n",
       "                        }\n",
       "                        break;\n",
       "                    }\n",
       "                }\n",
       "            }, 500);\n",
       "            "
      ],
      "text/plain": [
       "<IPython.core.display.Javascript object>"
      ]
     },
     "metadata": {},
     "output_type": "display_data"
    }
   ],
   "source": [
    "y_test"
   ]
  },
  {
   "cell_type": "code",
   "execution_count": 46,
   "metadata": {
    "ExecuteTime": {
     "end_time": "2020-09-19T17:11:50.282652Z",
     "start_time": "2020-09-19T17:11:50.258630Z"
    }
   },
   "outputs": [
    {
     "data": {
      "text/plain": [
       "array(['no', 'yes'], dtype=object)"
      ]
     },
     "execution_count": 46,
     "metadata": {},
     "output_type": "execute_result"
    },
    {
     "data": {
      "application/javascript": [
       "\n",
       "            setTimeout(function() {\n",
       "                var nbb_cell_id = 46;\n",
       "                var nbb_unformatted_code = \"target_encoder.classes_\";\n",
       "                var nbb_formatted_code = \"target_encoder.classes_\";\n",
       "                var nbb_cells = Jupyter.notebook.get_cells();\n",
       "                for (var i = 0; i < nbb_cells.length; ++i) {\n",
       "                    if (nbb_cells[i].input_prompt_number == nbb_cell_id) {\n",
       "                        if (nbb_cells[i].get_text() == nbb_unformatted_code) {\n",
       "                             nbb_cells[i].set_text(nbb_formatted_code);\n",
       "                        }\n",
       "                        break;\n",
       "                    }\n",
       "                }\n",
       "            }, 500);\n",
       "            "
      ],
      "text/plain": [
       "<IPython.core.display.Javascript object>"
      ]
     },
     "metadata": {},
     "output_type": "display_data"
    }
   ],
   "source": [
    "target_encoder.classes_"
   ]
  },
  {
   "cell_type": "code",
   "execution_count": 47,
   "metadata": {
    "ExecuteTime": {
     "end_time": "2020-09-19T17:11:50.384699Z",
     "start_time": "2020-09-19T17:11:50.283544Z"
    }
   },
   "outputs": [
    {
     "data": {
      "text/plain": [
       "array([[3193,  462],\n",
       "       [  72,  392]])"
      ]
     },
     "execution_count": 47,
     "metadata": {},
     "output_type": "execute_result"
    },
    {
     "data": {
      "application/javascript": [
       "\n",
       "            setTimeout(function() {\n",
       "                var nbb_cell_id = 47;\n",
       "                var nbb_unformatted_code = \"confusion_matrix(\\n    y_true=y_test,\\n    y_pred=model.predict(input_test).reshape(-1) >= 0.5,\\n    # labels=target_encoder.classes_,\\n)\";\n",
       "                var nbb_formatted_code = \"confusion_matrix(\\n    y_true=y_test,\\n    y_pred=model.predict(input_test).reshape(-1) >= 0.5,\\n    # labels=target_encoder.classes_,\\n)\";\n",
       "                var nbb_cells = Jupyter.notebook.get_cells();\n",
       "                for (var i = 0; i < nbb_cells.length; ++i) {\n",
       "                    if (nbb_cells[i].input_prompt_number == nbb_cell_id) {\n",
       "                        if (nbb_cells[i].get_text() == nbb_unformatted_code) {\n",
       "                             nbb_cells[i].set_text(nbb_formatted_code);\n",
       "                        }\n",
       "                        break;\n",
       "                    }\n",
       "                }\n",
       "            }, 500);\n",
       "            "
      ],
      "text/plain": [
       "<IPython.core.display.Javascript object>"
      ]
     },
     "metadata": {},
     "output_type": "display_data"
    }
   ],
   "source": [
    "confusion_matrix(\n",
    "    y_true=y_test,\n",
    "    y_pred=model.predict(input_test).reshape(-1) >= 0.5,\n",
    "    # labels=target_encoder.classes_,\n",
    ")"
   ]
  }
 ],
 "metadata": {
  "kernelspec": {
   "display_name": "Python 3",
   "language": "python",
   "name": "python3"
  },
  "language_info": {
   "codemirror_mode": {
    "name": "ipython",
    "version": 3
   },
   "file_extension": ".py",
   "mimetype": "text/x-python",
   "name": "python",
   "nbconvert_exporter": "python",
   "pygments_lexer": "ipython3",
   "version": "3.7.9"
  }
 },
 "nbformat": 4,
 "nbformat_minor": 4
}
