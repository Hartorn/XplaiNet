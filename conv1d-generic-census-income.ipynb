{
 "cells": [
  {
   "cell_type": "code",
   "execution_count": 1,
   "metadata": {
    "ExecuteTime": {
     "end_time": "2020-09-19T16:45:07.890216Z",
     "start_time": "2020-09-19T16:45:07.801868Z"
    }
   },
   "outputs": [
    {
     "data": {
      "application/javascript": [
       "\n",
       "            setTimeout(function() {\n",
       "                var nbb_cell_id = 1;\n",
       "                var nbb_unformatted_code = \"%load_ext nb_black\\n%load_ext autoreload\\n\\n%autoreload 2\";\n",
       "                var nbb_formatted_code = \"%load_ext nb_black\\n%load_ext autoreload\\n\\n%autoreload 2\";\n",
       "                var nbb_cells = Jupyter.notebook.get_cells();\n",
       "                for (var i = 0; i < nbb_cells.length; ++i) {\n",
       "                    if (nbb_cells[i].input_prompt_number == nbb_cell_id) {\n",
       "                        if (nbb_cells[i].get_text() == nbb_unformatted_code) {\n",
       "                             nbb_cells[i].set_text(nbb_formatted_code);\n",
       "                        }\n",
       "                        break;\n",
       "                    }\n",
       "                }\n",
       "            }, 500);\n",
       "            "
      ],
      "text/plain": [
       "<IPython.core.display.Javascript object>"
      ]
     },
     "metadata": {},
     "output_type": "display_data"
    }
   ],
   "source": [
    "%load_ext nb_black\n",
    "%load_ext autoreload\n",
    "\n",
    "%autoreload 2"
   ]
  },
  {
   "cell_type": "code",
   "execution_count": 2,
   "metadata": {
    "ExecuteTime": {
     "end_time": "2020-09-19T16:45:09.128041Z",
     "start_time": "2020-09-19T16:45:07.891353Z"
    }
   },
   "outputs": [
    {
     "data": {
      "application/javascript": [
       "\n",
       "            setTimeout(function() {\n",
       "                var nbb_cell_id = 2;\n",
       "                var nbb_unformatted_code = \"import os\\nfrom pathlib import Path\\n\\nfrom requests import get\\nimport pandas as pd\\nimport numpy as np\\n\\nfrom sklearn.metrics import roc_auc_score, log_loss\\nfrom sklearn.preprocessing import LabelEncoder\\nfrom tensorflow.keras.utils import plot_model\\nfrom tensorflow.keras.callbacks import EarlyStopping\\n\\nimport logging\\n\\nlogging.basicConfig(level=logging.WARN)\";\n",
       "                var nbb_formatted_code = \"import os\\nfrom pathlib import Path\\n\\nfrom requests import get\\nimport pandas as pd\\nimport numpy as np\\n\\nfrom sklearn.metrics import roc_auc_score, log_loss\\nfrom sklearn.preprocessing import LabelEncoder\\nfrom tensorflow.keras.utils import plot_model\\nfrom tensorflow.keras.callbacks import EarlyStopping\\n\\nimport logging\\n\\nlogging.basicConfig(level=logging.WARN)\";\n",
       "                var nbb_cells = Jupyter.notebook.get_cells();\n",
       "                for (var i = 0; i < nbb_cells.length; ++i) {\n",
       "                    if (nbb_cells[i].input_prompt_number == nbb_cell_id) {\n",
       "                        if (nbb_cells[i].get_text() == nbb_unformatted_code) {\n",
       "                             nbb_cells[i].set_text(nbb_formatted_code);\n",
       "                        }\n",
       "                        break;\n",
       "                    }\n",
       "                }\n",
       "            }, 500);\n",
       "            "
      ],
      "text/plain": [
       "<IPython.core.display.Javascript object>"
      ]
     },
     "metadata": {},
     "output_type": "display_data"
    }
   ],
   "source": [
    "import os\n",
    "from pathlib import Path\n",
    "\n",
    "from requests import get\n",
    "import pandas as pd\n",
    "import numpy as np\n",
    "\n",
    "from sklearn.metrics import roc_auc_score, log_loss\n",
    "from sklearn.preprocessing import LabelEncoder\n",
    "from tensorflow.keras.utils import plot_model\n",
    "from tensorflow.keras.callbacks import EarlyStopping\n",
    "\n",
    "import logging\n",
    "\n",
    "logging.basicConfig(level=logging.WARN)"
   ]
  },
  {
   "cell_type": "code",
   "execution_count": 3,
   "metadata": {
    "ExecuteTime": {
     "end_time": "2020-09-19T16:45:09.489477Z",
     "start_time": "2020-09-19T16:45:09.130682Z"
    }
   },
   "outputs": [
    {
     "data": {
      "application/javascript": [
       "\n",
       "            setTimeout(function() {\n",
       "                var nbb_cell_id = 3;\n",
       "                var nbb_unformatted_code = \"from xplainet.input_utils import preproc_dataset\\nfrom xplainet.model import build_model\\nfrom xplainet.random_utils import setup_seed, SEED\\nfrom sklearn.model_selection import StratifiedShuffleSplit\\n\\nimport matplotlib.pyplot as plt\\nfrom matplotlib.pyplot import imshow\\n\\n%matplotlib inline\\n\\nfrom zipfile import ZipFile\";\n",
       "                var nbb_formatted_code = \"from xplainet.input_utils import preproc_dataset\\nfrom xplainet.model import build_model\\nfrom xplainet.random_utils import setup_seed, SEED\\nfrom sklearn.model_selection import StratifiedShuffleSplit\\n\\nimport matplotlib.pyplot as plt\\nfrom matplotlib.pyplot import imshow\\n\\n%matplotlib inline\\n\\nfrom zipfile import ZipFile\";\n",
       "                var nbb_cells = Jupyter.notebook.get_cells();\n",
       "                for (var i = 0; i < nbb_cells.length; ++i) {\n",
       "                    if (nbb_cells[i].input_prompt_number == nbb_cell_id) {\n",
       "                        if (nbb_cells[i].get_text() == nbb_unformatted_code) {\n",
       "                             nbb_cells[i].set_text(nbb_formatted_code);\n",
       "                        }\n",
       "                        break;\n",
       "                    }\n",
       "                }\n",
       "            }, 500);\n",
       "            "
      ],
      "text/plain": [
       "<IPython.core.display.Javascript object>"
      ]
     },
     "metadata": {},
     "output_type": "display_data"
    }
   ],
   "source": [
    "from xplainet.input_utils import preproc_dataset\n",
    "from xplainet.model import build_model\n",
    "from xplainet.random_utils import setup_seed, SEED\n",
    "from sklearn.model_selection import StratifiedShuffleSplit\n",
    "\n",
    "import matplotlib.pyplot as plt\n",
    "from matplotlib.pyplot import imshow\n",
    "\n",
    "%matplotlib inline\n",
    "\n",
    "from zipfile import ZipFile"
   ]
  },
  {
   "cell_type": "code",
   "execution_count": 4,
   "metadata": {
    "ExecuteTime": {
     "end_time": "2020-09-19T16:45:09.514500Z",
     "start_time": "2020-09-19T16:45:09.490508Z"
    }
   },
   "outputs": [
    {
     "data": {
      "application/javascript": [
       "\n",
       "            setTimeout(function() {\n",
       "                var nbb_cell_id = 4;\n",
       "                var nbb_unformatted_code = \"setup_seed()\";\n",
       "                var nbb_formatted_code = \"setup_seed()\";\n",
       "                var nbb_cells = Jupyter.notebook.get_cells();\n",
       "                for (var i = 0; i < nbb_cells.length; ++i) {\n",
       "                    if (nbb_cells[i].input_prompt_number == nbb_cell_id) {\n",
       "                        if (nbb_cells[i].get_text() == nbb_unformatted_code) {\n",
       "                             nbb_cells[i].set_text(nbb_formatted_code);\n",
       "                        }\n",
       "                        break;\n",
       "                    }\n",
       "                }\n",
       "            }, 500);\n",
       "            "
      ],
      "text/plain": [
       "<IPython.core.display.Javascript object>"
      ]
     },
     "metadata": {},
     "output_type": "display_data"
    }
   ],
   "source": [
    "setup_seed()"
   ]
  },
  {
   "cell_type": "code",
   "execution_count": 5,
   "metadata": {
    "ExecuteTime": {
     "end_time": "2020-09-19T16:45:09.603987Z",
     "start_time": "2020-09-19T16:45:09.515452Z"
    }
   },
   "outputs": [
    {
     "data": {
      "application/javascript": [
       "\n",
       "            setTimeout(function() {\n",
       "                var nbb_cell_id = 5;\n",
       "                var nbb_unformatted_code = \"def download(url, out, force=False, verify=True):\\n    out.parent.mkdir(parents=True, exist_ok=True)\\n    if force and out.exists():\\n        print(f\\\"Removing file at {str(out)}\\\")\\n        out.unlink()\\n\\n    if out.exists():\\n        print(\\\"File already exists.\\\")\\n        return\\n    print(f\\\"Downloading {url} at {str(out)} ...\\\")\\n    # open in binary mode\\n    with out.open(mode=\\\"wb\\\") as file:\\n        # get request\\n        response = get(url, verify=verify)\\n        for chunk in response.iter_content(100000):\\n            # write to file\\n            file.write(chunk)\";\n",
       "                var nbb_formatted_code = \"def download(url, out, force=False, verify=True):\\n    out.parent.mkdir(parents=True, exist_ok=True)\\n    if force and out.exists():\\n        print(f\\\"Removing file at {str(out)}\\\")\\n        out.unlink()\\n\\n    if out.exists():\\n        print(\\\"File already exists.\\\")\\n        return\\n    print(f\\\"Downloading {url} at {str(out)} ...\\\")\\n    # open in binary mode\\n    with out.open(mode=\\\"wb\\\") as file:\\n        # get request\\n        response = get(url, verify=verify)\\n        for chunk in response.iter_content(100000):\\n            # write to file\\n            file.write(chunk)\";\n",
       "                var nbb_cells = Jupyter.notebook.get_cells();\n",
       "                for (var i = 0; i < nbb_cells.length; ++i) {\n",
       "                    if (nbb_cells[i].input_prompt_number == nbb_cell_id) {\n",
       "                        if (nbb_cells[i].get_text() == nbb_unformatted_code) {\n",
       "                             nbb_cells[i].set_text(nbb_formatted_code);\n",
       "                        }\n",
       "                        break;\n",
       "                    }\n",
       "                }\n",
       "            }, 500);\n",
       "            "
      ],
      "text/plain": [
       "<IPython.core.display.Javascript object>"
      ]
     },
     "metadata": {},
     "output_type": "display_data"
    }
   ],
   "source": [
    "def download(url, out, force=False, verify=True):\n",
    "    out.parent.mkdir(parents=True, exist_ok=True)\n",
    "    if force and out.exists():\n",
    "        print(f\"Removing file at {str(out)}\")\n",
    "        out.unlink()\n",
    "\n",
    "    if out.exists():\n",
    "        print(\"File already exists.\")\n",
    "        return\n",
    "    print(f\"Downloading {url} at {str(out)} ...\")\n",
    "    # open in binary mode\n",
    "    with out.open(mode=\"wb\") as file:\n",
    "        # get request\n",
    "        response = get(url, verify=verify)\n",
    "        for chunk in response.iter_content(100000):\n",
    "            # write to file\n",
    "            file.write(chunk)\n"
   ]
  },
  {
   "cell_type": "code",
   "execution_count": 6,
   "metadata": {
    "ExecuteTime": {
     "end_time": "2020-09-19T16:45:09.647949Z",
     "start_time": "2020-09-19T16:45:09.604925Z"
    }
   },
   "outputs": [
    {
     "data": {
      "application/javascript": [
       "\n",
       "            setTimeout(function() {\n",
       "                var nbb_cell_id = 6;\n",
       "                var nbb_unformatted_code = \"def plot_history(history):\\n    loss_list = [s for s in history.history.keys() if \\\"loss\\\" in s and \\\"val\\\" not in s]\\n    val_loss_list = [s for s in history.history.keys() if \\\"loss\\\" in s and \\\"val\\\" in s]\\n    acc_list = [s for s in history.history.keys() if \\\"AUC\\\" in s and \\\"val\\\" not in s]\\n    val_acc_list = [s for s in history.history.keys() if \\\"AUC\\\" in s and \\\"val\\\" in s]\\n\\n    if len(loss_list) == 0:\\n        print(\\\"Loss is missing in history\\\")\\n        return\\n\\n    ## As loss always exists\\n    epochs = range(1, len(history.history[loss_list[0]]) + 1)\\n\\n    ## Loss\\n    plt.figure(1)\\n    for l in loss_list:\\n        plt.plot(\\n            epochs,\\n            history.history[l],\\n            \\\"b\\\",\\n            label=\\\"Training loss (\\\"\\n            + str(str(format(history.history[l][-1], \\\".5f\\\")) + \\\")\\\"),\\n        )\\n    for l in val_loss_list:\\n        plt.plot(\\n            epochs,\\n            history.history[l],\\n            \\\"g\\\",\\n            label=\\\"Validation loss (\\\"\\n            + str(str(format(history.history[l][-1], \\\".5f\\\")) + \\\")\\\"),\\n        )\\n\\n    plt.title(\\\"Loss\\\")\\n    plt.xlabel(\\\"Epochs\\\")\\n    plt.ylabel(\\\"Loss\\\")\\n    plt.legend()\\n\\n    plt.show()\";\n",
       "                var nbb_formatted_code = \"def plot_history(history):\\n    loss_list = [s for s in history.history.keys() if \\\"loss\\\" in s and \\\"val\\\" not in s]\\n    val_loss_list = [s for s in history.history.keys() if \\\"loss\\\" in s and \\\"val\\\" in s]\\n    acc_list = [s for s in history.history.keys() if \\\"AUC\\\" in s and \\\"val\\\" not in s]\\n    val_acc_list = [s for s in history.history.keys() if \\\"AUC\\\" in s and \\\"val\\\" in s]\\n\\n    if len(loss_list) == 0:\\n        print(\\\"Loss is missing in history\\\")\\n        return\\n\\n    ## As loss always exists\\n    epochs = range(1, len(history.history[loss_list[0]]) + 1)\\n\\n    ## Loss\\n    plt.figure(1)\\n    for l in loss_list:\\n        plt.plot(\\n            epochs,\\n            history.history[l],\\n            \\\"b\\\",\\n            label=\\\"Training loss (\\\"\\n            + str(str(format(history.history[l][-1], \\\".5f\\\")) + \\\")\\\"),\\n        )\\n    for l in val_loss_list:\\n        plt.plot(\\n            epochs,\\n            history.history[l],\\n            \\\"g\\\",\\n            label=\\\"Validation loss (\\\"\\n            + str(str(format(history.history[l][-1], \\\".5f\\\")) + \\\")\\\"),\\n        )\\n\\n    plt.title(\\\"Loss\\\")\\n    plt.xlabel(\\\"Epochs\\\")\\n    plt.ylabel(\\\"Loss\\\")\\n    plt.legend()\\n\\n    plt.show()\";\n",
       "                var nbb_cells = Jupyter.notebook.get_cells();\n",
       "                for (var i = 0; i < nbb_cells.length; ++i) {\n",
       "                    if (nbb_cells[i].input_prompt_number == nbb_cell_id) {\n",
       "                        if (nbb_cells[i].get_text() == nbb_unformatted_code) {\n",
       "                             nbb_cells[i].set_text(nbb_formatted_code);\n",
       "                        }\n",
       "                        break;\n",
       "                    }\n",
       "                }\n",
       "            }, 500);\n",
       "            "
      ],
      "text/plain": [
       "<IPython.core.display.Javascript object>"
      ]
     },
     "metadata": {},
     "output_type": "display_data"
    }
   ],
   "source": [
    "def plot_history(history):\n",
    "    loss_list = [s for s in history.history.keys() if \"loss\" in s and \"val\" not in s]\n",
    "    val_loss_list = [s for s in history.history.keys() if \"loss\" in s and \"val\" in s]\n",
    "    acc_list = [s for s in history.history.keys() if \"AUC\" in s and \"val\" not in s]\n",
    "    val_acc_list = [s for s in history.history.keys() if \"AUC\" in s and \"val\" in s]\n",
    "\n",
    "    if len(loss_list) == 0:\n",
    "        print(\"Loss is missing in history\")\n",
    "        return\n",
    "\n",
    "    ## As loss always exists\n",
    "    epochs = range(1, len(history.history[loss_list[0]]) + 1)\n",
    "\n",
    "    ## Loss\n",
    "    plt.figure(1)\n",
    "    for l in loss_list:\n",
    "        plt.plot(\n",
    "            epochs,\n",
    "            history.history[l],\n",
    "            \"b\",\n",
    "            label=\"Training loss (\"\n",
    "            + str(str(format(history.history[l][-1], \".5f\")) + \")\"),\n",
    "        )\n",
    "    for l in val_loss_list:\n",
    "        plt.plot(\n",
    "            epochs,\n",
    "            history.history[l],\n",
    "            \"g\",\n",
    "            label=\"Validation loss (\"\n",
    "            + str(str(format(history.history[l][-1], \".5f\")) + \")\"),\n",
    "        )\n",
    "\n",
    "    plt.title(\"Loss\")\n",
    "    plt.xlabel(\"Epochs\")\n",
    "    plt.ylabel(\"Loss\")\n",
    "    plt.legend()\n",
    "\n",
    "    plt.show()"
   ]
  },
  {
   "cell_type": "markdown",
   "metadata": {},
   "source": [
    "## Census income : loading data"
   ]
  },
  {
   "cell_type": "code",
   "execution_count": 7,
   "metadata": {
    "ExecuteTime": {
     "end_time": "2020-09-19T16:45:09.677321Z",
     "start_time": "2020-09-19T16:45:09.649757Z"
    }
   },
   "outputs": [
    {
     "name": "stdout",
     "output_type": "stream",
     "text": [
      "File already exists.\n",
      "File already exists.\n"
     ]
    },
    {
     "data": {
      "application/javascript": [
       "\n",
       "            setTimeout(function() {\n",
       "                var nbb_cell_id = 7;\n",
       "                var nbb_unformatted_code = \"url = \\\"https://archive.ics.uci.edu/ml/machine-learning-databases/adult/adult.data\\\"\\nurl_test = \\\"https://archive.ics.uci.edu/ml/machine-learning-databases/adult/adult.test\\\"\\n\\ndataset_name = \\\"census-income\\\"\\nout = Path(os.getcwd() + \\\"/data/\\\" + dataset_name + \\\".csv\\\")\\nout_test = Path(os.getcwd() + \\\"/data/\\\" + dataset_name + \\\"_test.csv\\\")\\n\\ndownload(url, out, force=False)\\ndownload(url_test, out_test, force=False)\";\n",
       "                var nbb_formatted_code = \"url = \\\"https://archive.ics.uci.edu/ml/machine-learning-databases/adult/adult.data\\\"\\nurl_test = \\\"https://archive.ics.uci.edu/ml/machine-learning-databases/adult/adult.test\\\"\\n\\ndataset_name = \\\"census-income\\\"\\nout = Path(os.getcwd() + \\\"/data/\\\" + dataset_name + \\\".csv\\\")\\nout_test = Path(os.getcwd() + \\\"/data/\\\" + dataset_name + \\\"_test.csv\\\")\\n\\ndownload(url, out, force=False)\\ndownload(url_test, out_test, force=False)\";\n",
       "                var nbb_cells = Jupyter.notebook.get_cells();\n",
       "                for (var i = 0; i < nbb_cells.length; ++i) {\n",
       "                    if (nbb_cells[i].input_prompt_number == nbb_cell_id) {\n",
       "                        if (nbb_cells[i].get_text() == nbb_unformatted_code) {\n",
       "                             nbb_cells[i].set_text(nbb_formatted_code);\n",
       "                        }\n",
       "                        break;\n",
       "                    }\n",
       "                }\n",
       "            }, 500);\n",
       "            "
      ],
      "text/plain": [
       "<IPython.core.display.Javascript object>"
      ]
     },
     "metadata": {},
     "output_type": "display_data"
    }
   ],
   "source": [
    "url = \"https://archive.ics.uci.edu/ml/machine-learning-databases/adult/adult.data\"\n",
    "url_test = \"https://archive.ics.uci.edu/ml/machine-learning-databases/adult/adult.test\"\n",
    "\n",
    "dataset_name = \"census-income\"\n",
    "out = Path(os.getcwd() + \"/data/\" + dataset_name + \".csv\")\n",
    "out_test = Path(os.getcwd() + \"/data/\" + dataset_name + \"_test.csv\")\n",
    "\n",
    "download(url, out, force=False)\n",
    "download(url_test, out_test, force=False)"
   ]
  },
  {
   "cell_type": "code",
   "execution_count": 8,
   "metadata": {
    "ExecuteTime": {
     "end_time": "2020-09-19T16:45:09.704754Z",
     "start_time": "2020-09-19T16:45:09.678659Z"
    }
   },
   "outputs": [
    {
     "data": {
      "application/javascript": [
       "\n",
       "            setTimeout(function() {\n",
       "                var nbb_cell_id = 8;\n",
       "                var nbb_unformatted_code = \"cols = [\\n    \\\"age\\\",\\n    \\\"workclass\\\",\\n    \\\"fnlwgt\\\",\\n    \\\"education\\\",\\n    \\\"education-num\\\",\\n    \\\"marital-status\\\",\\n    \\\"occupation\\\",\\n    \\\"relationship\\\",\\n    \\\"race\\\",\\n    \\\"sex\\\",\\n    \\\"capital-gain\\\",\\n    \\\"capital-loss\\\",\\n    \\\"hours-per-week\\\",\\n    \\\"native-country\\\",\\n    \\\"target\\\",\\n]\";\n",
       "                var nbb_formatted_code = \"cols = [\\n    \\\"age\\\",\\n    \\\"workclass\\\",\\n    \\\"fnlwgt\\\",\\n    \\\"education\\\",\\n    \\\"education-num\\\",\\n    \\\"marital-status\\\",\\n    \\\"occupation\\\",\\n    \\\"relationship\\\",\\n    \\\"race\\\",\\n    \\\"sex\\\",\\n    \\\"capital-gain\\\",\\n    \\\"capital-loss\\\",\\n    \\\"hours-per-week\\\",\\n    \\\"native-country\\\",\\n    \\\"target\\\",\\n]\";\n",
       "                var nbb_cells = Jupyter.notebook.get_cells();\n",
       "                for (var i = 0; i < nbb_cells.length; ++i) {\n",
       "                    if (nbb_cells[i].input_prompt_number == nbb_cell_id) {\n",
       "                        if (nbb_cells[i].get_text() == nbb_unformatted_code) {\n",
       "                             nbb_cells[i].set_text(nbb_formatted_code);\n",
       "                        }\n",
       "                        break;\n",
       "                    }\n",
       "                }\n",
       "            }, 500);\n",
       "            "
      ],
      "text/plain": [
       "<IPython.core.display.Javascript object>"
      ]
     },
     "metadata": {},
     "output_type": "display_data"
    }
   ],
   "source": [
    "cols = [\n",
    "    \"age\",\n",
    "    \"workclass\",\n",
    "    \"fnlwgt\",\n",
    "    \"education\",\n",
    "    \"education-num\",\n",
    "    \"marital-status\",\n",
    "    \"occupation\",\n",
    "    \"relationship\",\n",
    "    \"race\",\n",
    "    \"sex\",\n",
    "    \"capital-gain\",\n",
    "    \"capital-loss\",\n",
    "    \"hours-per-week\",\n",
    "    \"native-country\",\n",
    "    \"target\",\n",
    "]"
   ]
  },
  {
   "cell_type": "code",
   "execution_count": 9,
   "metadata": {
    "ExecuteTime": {
     "end_time": "2020-09-19T16:45:09.804817Z",
     "start_time": "2020-09-19T16:45:09.705669Z"
    }
   },
   "outputs": [
    {
     "data": {
      "application/javascript": [
       "\n",
       "            setTimeout(function() {\n",
       "                var nbb_cell_id = 9;\n",
       "                var nbb_unformatted_code = \"train = pd.read_csv(out, names=cols)\\ntest = pd.read_csv(out_test, names=cols, skiprows=2)\\ntarget = \\\"target\\\"\\n\\ntrain[target] = train[target].str.strip()\\n# Test has . in label, let's clean it\\ntest[target] = test[target].str.strip().str.strip(\\\".\\\")\";\n",
       "                var nbb_formatted_code = \"train = pd.read_csv(out, names=cols)\\ntest = pd.read_csv(out_test, names=cols, skiprows=2)\\ntarget = \\\"target\\\"\\n\\ntrain[target] = train[target].str.strip()\\n# Test has . in label, let's clean it\\ntest[target] = test[target].str.strip().str.strip(\\\".\\\")\";\n",
       "                var nbb_cells = Jupyter.notebook.get_cells();\n",
       "                for (var i = 0; i < nbb_cells.length; ++i) {\n",
       "                    if (nbb_cells[i].input_prompt_number == nbb_cell_id) {\n",
       "                        if (nbb_cells[i].get_text() == nbb_unformatted_code) {\n",
       "                             nbb_cells[i].set_text(nbb_formatted_code);\n",
       "                        }\n",
       "                        break;\n",
       "                    }\n",
       "                }\n",
       "            }, 500);\n",
       "            "
      ],
      "text/plain": [
       "<IPython.core.display.Javascript object>"
      ]
     },
     "metadata": {},
     "output_type": "display_data"
    }
   ],
   "source": [
    "train = pd.read_csv(out, names=cols)\n",
    "test = pd.read_csv(out_test, names=cols, skiprows=2)\n",
    "target = \"target\"\n",
    "\n",
    "train[target] = train[target].str.strip()\n",
    "# Test has . in label, let's clean it\n",
    "test[target] = test[target].str.strip().str.strip(\".\")"
   ]
  },
  {
   "cell_type": "code",
   "execution_count": 10,
   "metadata": {
    "ExecuteTime": {
     "end_time": "2020-09-19T16:45:09.862011Z",
     "start_time": "2020-09-19T16:45:09.805826Z"
    }
   },
   "outputs": [
    {
     "name": "stdout",
     "output_type": "stream",
     "text": [
      "Building tailored column\n"
     ]
    },
    {
     "name": "stderr",
     "output_type": "stream",
     "text": [
      "/work/.cache/poetry/xplainet-KS9Ipbc1-py3.7/lib/python3.7/site-packages/ipykernel_launcher.py:9: SettingWithCopyWarning: \n",
      "A value is trying to be set on a copy of a slice from a DataFrame\n",
      "\n",
      "See the caveats in the documentation: https://pandas.pydata.org/pandas-docs/stable/user_guide/indexing.html#returning-a-view-versus-a-copy\n",
      "  if __name__ == '__main__':\n",
      "/work/.cache/poetry/xplainet-KS9Ipbc1-py3.7/lib/python3.7/site-packages/pandas/core/indexing.py:670: SettingWithCopyWarning: \n",
      "A value is trying to be set on a copy of a slice from a DataFrame\n",
      "\n",
      "See the caveats in the documentation: https://pandas.pydata.org/pandas-docs/stable/user_guide/indexing.html#returning-a-view-versus-a-copy\n",
      "  iloc._setitem_with_indexer(indexer, value)\n"
     ]
    },
    {
     "data": {
      "application/javascript": [
       "\n",
       "            setTimeout(function() {\n",
       "                var nbb_cell_id = 10;\n",
       "                var nbb_unformatted_code = \"if \\\"Set\\\" not in train.columns:\\n    print(\\\"Building tailored column\\\")\\n    train_index, valid_index = next(\\n        StratifiedShuffleSplit(n_splits=1, test_size=0.1, random_state=SEED).split(\\n            range(train[target].shape[0]), train[target].values\\n        )\\n    )\\n    train[\\\"Set\\\"] = \\\"train\\\"\\n    train[\\\"Set\\\"][valid_index] = \\\"valid\\\"\";\n",
       "                var nbb_formatted_code = \"if \\\"Set\\\" not in train.columns:\\n    print(\\\"Building tailored column\\\")\\n    train_index, valid_index = next(\\n        StratifiedShuffleSplit(n_splits=1, test_size=0.1, random_state=SEED).split(\\n            range(train[target].shape[0]), train[target].values\\n        )\\n    )\\n    train[\\\"Set\\\"] = \\\"train\\\"\\n    train[\\\"Set\\\"][valid_index] = \\\"valid\\\"\";\n",
       "                var nbb_cells = Jupyter.notebook.get_cells();\n",
       "                for (var i = 0; i < nbb_cells.length; ++i) {\n",
       "                    if (nbb_cells[i].input_prompt_number == nbb_cell_id) {\n",
       "                        if (nbb_cells[i].get_text() == nbb_unformatted_code) {\n",
       "                             nbb_cells[i].set_text(nbb_formatted_code);\n",
       "                        }\n",
       "                        break;\n",
       "                    }\n",
       "                }\n",
       "            }, 500);\n",
       "            "
      ],
      "text/plain": [
       "<IPython.core.display.Javascript object>"
      ]
     },
     "metadata": {},
     "output_type": "display_data"
    }
   ],
   "source": [
    "if \"Set\" not in train.columns:\n",
    "    print(\"Building tailored column\")\n",
    "    train_index, valid_index = next(\n",
    "        StratifiedShuffleSplit(n_splits=1, test_size=0.1, random_state=SEED).split(\n",
    "            range(train[target].shape[0]), train[target].values\n",
    "        )\n",
    "    )\n",
    "    train[\"Set\"] = \"train\"\n",
    "    train[\"Set\"][valid_index] = \"valid\""
   ]
  },
  {
   "cell_type": "code",
   "execution_count": 11,
   "metadata": {
    "ExecuteTime": {
     "end_time": "2020-09-19T16:45:09.894744Z",
     "start_time": "2020-09-19T16:45:09.862940Z"
    }
   },
   "outputs": [
    {
     "data": {
      "application/javascript": [
       "\n",
       "            setTimeout(function() {\n",
       "                var nbb_cell_id = 11;\n",
       "                var nbb_unformatted_code = \"train_indices = train[train.Set == \\\"train\\\"].index\\nvalid_indices = train[train.Set == \\\"valid\\\"].index\\n# test_indices = train[train.Set == \\\"test\\\"].index\";\n",
       "                var nbb_formatted_code = \"train_indices = train[train.Set == \\\"train\\\"].index\\nvalid_indices = train[train.Set == \\\"valid\\\"].index\\n# test_indices = train[train.Set == \\\"test\\\"].index\";\n",
       "                var nbb_cells = Jupyter.notebook.get_cells();\n",
       "                for (var i = 0; i < nbb_cells.length; ++i) {\n",
       "                    if (nbb_cells[i].input_prompt_number == nbb_cell_id) {\n",
       "                        if (nbb_cells[i].get_text() == nbb_unformatted_code) {\n",
       "                             nbb_cells[i].set_text(nbb_formatted_code);\n",
       "                        }\n",
       "                        break;\n",
       "                    }\n",
       "                }\n",
       "            }, 500);\n",
       "            "
      ],
      "text/plain": [
       "<IPython.core.display.Javascript object>"
      ]
     },
     "metadata": {},
     "output_type": "display_data"
    }
   ],
   "source": [
    "train_indices = train[train.Set == \"train\"].index\n",
    "valid_indices = train[train.Set == \"valid\"].index\n",
    "# test_indices = train[train.Set == \"test\"].index"
   ]
  },
  {
   "cell_type": "code",
   "execution_count": 12,
   "metadata": {
    "ExecuteTime": {
     "end_time": "2020-09-19T16:45:10.305278Z",
     "start_time": "2020-09-19T16:45:09.896055Z"
    }
   },
   "outputs": [
    {
     "data": {
      "text/plain": [
       "{'constant_cols': [],\n",
       " 'bool_cols': ['sex'],\n",
       " 'num_cols': ['fnlwgt'],\n",
       " 'cat_cols': ['education',\n",
       "  'relationship',\n",
       "  'age',\n",
       "  'marital-status',\n",
       "  'native-country',\n",
       "  'workclass',\n",
       "  'education-num',\n",
       "  'hours-per-week',\n",
       "  'occupation',\n",
       "  'race',\n",
       "  'capital-gain',\n",
       "  'capital-loss'],\n",
       " 'num_encoder': [FeatureUnion(transformer_list=[('fillna',\n",
       "                                  Pipeline(steps=[('fillna',\n",
       "                                                   SimpleImputer(fill_value=1740.018844394761,\n",
       "                                                                 strategy='constant')),\n",
       "                                                  ('scaler',\n",
       "                                                   StandardScaler())]))])],\n",
       " 'bool_encoder': [SafeLabelEncoder()],\n",
       " 'max_nb': 117,\n",
       " 'cat_encoder': [SafeLabelEncoder(),\n",
       "  SafeLabelEncoder(),\n",
       "  SafeLabelEncoder(),\n",
       "  SafeLabelEncoder(),\n",
       "  SafeLabelEncoder(),\n",
       "  SafeLabelEncoder(),\n",
       "  SafeLabelEncoder(),\n",
       "  SafeLabelEncoder(),\n",
       "  SafeLabelEncoder(),\n",
       "  SafeLabelEncoder(),\n",
       "  SafeLabelEncoder(),\n",
       "  SafeLabelEncoder()]}"
      ]
     },
     "execution_count": 12,
     "metadata": {},
     "output_type": "execute_result"
    },
    {
     "data": {
      "application/javascript": [
       "\n",
       "            setTimeout(function() {\n",
       "                var nbb_cell_id = 12;\n",
       "                var nbb_unformatted_code = \"input_train, params = preproc_dataset(train.loc[train_indices], target, [\\\"Set\\\"])\\nparams\";\n",
       "                var nbb_formatted_code = \"input_train, params = preproc_dataset(train.loc[train_indices], target, [\\\"Set\\\"])\\nparams\";\n",
       "                var nbb_cells = Jupyter.notebook.get_cells();\n",
       "                for (var i = 0; i < nbb_cells.length; ++i) {\n",
       "                    if (nbb_cells[i].input_prompt_number == nbb_cell_id) {\n",
       "                        if (nbb_cells[i].get_text() == nbb_unformatted_code) {\n",
       "                             nbb_cells[i].set_text(nbb_formatted_code);\n",
       "                        }\n",
       "                        break;\n",
       "                    }\n",
       "                }\n",
       "            }, 500);\n",
       "            "
      ],
      "text/plain": [
       "<IPython.core.display.Javascript object>"
      ]
     },
     "metadata": {},
     "output_type": "display_data"
    }
   ],
   "source": [
    "input_train, params = preproc_dataset(train.loc[train_indices], target, [\"Set\"])\n",
    "params"
   ]
  },
  {
   "cell_type": "code",
   "execution_count": 13,
   "metadata": {
    "ExecuteTime": {
     "end_time": "2020-09-19T16:45:10.332560Z",
     "start_time": "2020-09-19T16:45:10.306248Z"
    }
   },
   "outputs": [
    {
     "data": {
      "text/plain": [
       "29304"
      ]
     },
     "execution_count": 13,
     "metadata": {},
     "output_type": "execute_result"
    },
    {
     "data": {
      "application/javascript": [
       "\n",
       "            setTimeout(function() {\n",
       "                var nbb_cell_id = 13;\n",
       "                var nbb_unformatted_code = \"len(train_indices)\";\n",
       "                var nbb_formatted_code = \"len(train_indices)\";\n",
       "                var nbb_cells = Jupyter.notebook.get_cells();\n",
       "                for (var i = 0; i < nbb_cells.length; ++i) {\n",
       "                    if (nbb_cells[i].input_prompt_number == nbb_cell_id) {\n",
       "                        if (nbb_cells[i].get_text() == nbb_unformatted_code) {\n",
       "                             nbb_cells[i].set_text(nbb_formatted_code);\n",
       "                        }\n",
       "                        break;\n",
       "                    }\n",
       "                }\n",
       "            }, 500);\n",
       "            "
      ],
      "text/plain": [
       "<IPython.core.display.Javascript object>"
      ]
     },
     "metadata": {},
     "output_type": "display_data"
    }
   ],
   "source": [
    "len(train_indices)"
   ]
  },
  {
   "cell_type": "code",
   "execution_count": 14,
   "metadata": {
    "ExecuteTime": {
     "end_time": "2020-09-19T16:45:10.499875Z",
     "start_time": "2020-09-19T16:45:10.333526Z"
    }
   },
   "outputs": [
    {
     "data": {
      "application/javascript": [
       "\n",
       "            setTimeout(function() {\n",
       "                var nbb_cell_id = 14;\n",
       "                var nbb_unformatted_code = \"input_valid, _ = preproc_dataset(train.loc[valid_indices], target, [\\\"Set\\\"], params)\\ninput_test, _ = preproc_dataset(test, target, [\\\"Set\\\"], params)\";\n",
       "                var nbb_formatted_code = \"input_valid, _ = preproc_dataset(train.loc[valid_indices], target, [\\\"Set\\\"], params)\\ninput_test, _ = preproc_dataset(test, target, [\\\"Set\\\"], params)\";\n",
       "                var nbb_cells = Jupyter.notebook.get_cells();\n",
       "                for (var i = 0; i < nbb_cells.length; ++i) {\n",
       "                    if (nbb_cells[i].input_prompt_number == nbb_cell_id) {\n",
       "                        if (nbb_cells[i].get_text() == nbb_unformatted_code) {\n",
       "                             nbb_cells[i].set_text(nbb_formatted_code);\n",
       "                        }\n",
       "                        break;\n",
       "                    }\n",
       "                }\n",
       "            }, 500);\n",
       "            "
      ],
      "text/plain": [
       "<IPython.core.display.Javascript object>"
      ]
     },
     "metadata": {},
     "output_type": "display_data"
    }
   ],
   "source": [
    "input_valid, _ = preproc_dataset(train.loc[valid_indices], target, [\"Set\"], params)\n",
    "input_test, _ = preproc_dataset(test, target, [\"Set\"], params)"
   ]
  },
  {
   "cell_type": "code",
   "execution_count": 15,
   "metadata": {
    "ExecuteTime": {
     "end_time": "2020-09-19T16:45:10.523162Z",
     "start_time": "2020-09-19T16:45:10.500841Z"
    }
   },
   "outputs": [
    {
     "data": {
      "application/javascript": [
       "\n",
       "            setTimeout(function() {\n",
       "                var nbb_cell_id = 15;\n",
       "                var nbb_unformatted_code = \"target_encoder = LabelEncoder()\";\n",
       "                var nbb_formatted_code = \"target_encoder = LabelEncoder()\";\n",
       "                var nbb_cells = Jupyter.notebook.get_cells();\n",
       "                for (var i = 0; i < nbb_cells.length; ++i) {\n",
       "                    if (nbb_cells[i].input_prompt_number == nbb_cell_id) {\n",
       "                        if (nbb_cells[i].get_text() == nbb_unformatted_code) {\n",
       "                             nbb_cells[i].set_text(nbb_formatted_code);\n",
       "                        }\n",
       "                        break;\n",
       "                    }\n",
       "                }\n",
       "            }, 500);\n",
       "            "
      ],
      "text/plain": [
       "<IPython.core.display.Javascript object>"
      ]
     },
     "metadata": {},
     "output_type": "display_data"
    }
   ],
   "source": [
    "target_encoder = LabelEncoder()"
   ]
  },
  {
   "cell_type": "code",
   "execution_count": 16,
   "metadata": {
    "ExecuteTime": {
     "end_time": "2020-09-19T16:45:10.559374Z",
     "start_time": "2020-09-19T16:45:10.524127Z"
    }
   },
   "outputs": [
    {
     "data": {
      "application/javascript": [
       "\n",
       "            setTimeout(function() {\n",
       "                var nbb_cell_id = 16;\n",
       "                var nbb_unformatted_code = \"train[target] = target_encoder.fit_transform(train[target].values.reshape(-1))\\ny_train = train[target].values[train_indices]\\ny_valid = train[target].values[valid_indices]\\ny_test = target_encoder.fit_transform(test[target].values)\";\n",
       "                var nbb_formatted_code = \"train[target] = target_encoder.fit_transform(train[target].values.reshape(-1))\\ny_train = train[target].values[train_indices]\\ny_valid = train[target].values[valid_indices]\\ny_test = target_encoder.fit_transform(test[target].values)\";\n",
       "                var nbb_cells = Jupyter.notebook.get_cells();\n",
       "                for (var i = 0; i < nbb_cells.length; ++i) {\n",
       "                    if (nbb_cells[i].input_prompt_number == nbb_cell_id) {\n",
       "                        if (nbb_cells[i].get_text() == nbb_unformatted_code) {\n",
       "                             nbb_cells[i].set_text(nbb_formatted_code);\n",
       "                        }\n",
       "                        break;\n",
       "                    }\n",
       "                }\n",
       "            }, 500);\n",
       "            "
      ],
      "text/plain": [
       "<IPython.core.display.Javascript object>"
      ]
     },
     "metadata": {},
     "output_type": "display_data"
    }
   ],
   "source": [
    "train[target] = target_encoder.fit_transform(train[target].values.reshape(-1))\n",
    "y_train = train[target].values[train_indices]\n",
    "y_valid = train[target].values[valid_indices]\n",
    "y_test = target_encoder.fit_transform(test[target].values)"
   ]
  },
  {
   "cell_type": "code",
   "execution_count": 17,
   "metadata": {
    "ExecuteTime": {
     "end_time": "2020-09-19T16:45:10.596295Z",
     "start_time": "2020-09-19T16:45:10.560398Z"
    }
   },
   "outputs": [
    {
     "data": {
      "text/plain": [
       "{'constant_cols': [],\n",
       " 'bool_cols': ['sex'],\n",
       " 'num_cols': ['fnlwgt'],\n",
       " 'cat_cols': ['education',\n",
       "  'relationship',\n",
       "  'age',\n",
       "  'marital-status',\n",
       "  'native-country',\n",
       "  'workclass',\n",
       "  'education-num',\n",
       "  'hours-per-week',\n",
       "  'occupation',\n",
       "  'race',\n",
       "  'capital-gain',\n",
       "  'capital-loss'],\n",
       " 'num_encoder': [FeatureUnion(transformer_list=[('fillna',\n",
       "                                  Pipeline(steps=[('fillna',\n",
       "                                                   SimpleImputer(fill_value=1740.018844394761,\n",
       "                                                                 strategy='constant')),\n",
       "                                                  ('scaler',\n",
       "                                                   StandardScaler())]))])],\n",
       " 'bool_encoder': [SafeLabelEncoder()],\n",
       " 'max_nb': 117,\n",
       " 'cat_encoder': [SafeLabelEncoder(),\n",
       "  SafeLabelEncoder(),\n",
       "  SafeLabelEncoder(),\n",
       "  SafeLabelEncoder(),\n",
       "  SafeLabelEncoder(),\n",
       "  SafeLabelEncoder(),\n",
       "  SafeLabelEncoder(),\n",
       "  SafeLabelEncoder(),\n",
       "  SafeLabelEncoder(),\n",
       "  SafeLabelEncoder(),\n",
       "  SafeLabelEncoder(),\n",
       "  SafeLabelEncoder()]}"
      ]
     },
     "execution_count": 17,
     "metadata": {},
     "output_type": "execute_result"
    },
    {
     "data": {
      "application/javascript": [
       "\n",
       "            setTimeout(function() {\n",
       "                var nbb_cell_id = 17;\n",
       "                var nbb_unformatted_code = \"params\";\n",
       "                var nbb_formatted_code = \"params\";\n",
       "                var nbb_cells = Jupyter.notebook.get_cells();\n",
       "                for (var i = 0; i < nbb_cells.length; ++i) {\n",
       "                    if (nbb_cells[i].input_prompt_number == nbb_cell_id) {\n",
       "                        if (nbb_cells[i].get_text() == nbb_unformatted_code) {\n",
       "                             nbb_cells[i].set_text(nbb_formatted_code);\n",
       "                        }\n",
       "                        break;\n",
       "                    }\n",
       "                }\n",
       "            }, 500);\n",
       "            "
      ],
      "text/plain": [
       "<IPython.core.display.Javascript object>"
      ]
     },
     "metadata": {},
     "output_type": "display_data"
    }
   ],
   "source": [
    "params"
   ]
  },
  {
   "cell_type": "code",
   "execution_count": 18,
   "metadata": {
    "ExecuteTime": {
     "end_time": "2020-09-19T16:45:10.751635Z",
     "start_time": "2020-09-19T16:45:10.597330Z"
    }
   },
   "outputs": [
    {
     "name": "stderr",
     "output_type": "stream",
     "text": [
      "/work/.cache/poetry/xplainet-KS9Ipbc1-py3.7/lib/python3.7/site-packages/tensorflow_addons/utils/resource_loader.py:103: UserWarning: You are currently using TensorFlow 2.3.0 and trying to load a custom op (custom_ops/activations/_activation_ops.so).\n",
      "TensorFlow Addons has compiled its custom ops against TensorFlow 2.2.0, and there are no compatibility guarantees between the two versions. \n",
      "This means that you might get segfaults when loading the custom op, or other kind of low-level errors.\n",
      " If you do, do not file an issue on Github. This is a known limitation.\n",
      "\n",
      "It might help you to fallback to pure Python ops with TF_ADDONS_PY_OPS . To do that, see https://github.com/tensorflow/addons#gpucpu-custom-ops \n",
      "\n",
      "You can also change the TensorFlow version installed on your system. You would need a TensorFlow version equal to or above 2.2.0 and strictly below 2.3.0.\n",
      " Note that nightly versions of TensorFlow, as well as non-pip TensorFlow like `conda install tensorflow` or compiled from source are not supported.\n",
      "\n",
      "The last solution is to find the TensorFlow Addons version that has custom ops compatible with the TensorFlow installed on your system. To do that, refer to the readme: https://github.com/tensorflow/addons\n",
      "  UserWarning,\n"
     ]
    },
    {
     "data": {
      "application/javascript": [
       "\n",
       "            setTimeout(function() {\n",
       "                var nbb_cell_id = 18;\n",
       "                var nbb_unformatted_code = \"model = build_model(\\n    params,\\n    lconv_dim=[4],\\n    lconv_num_dim=[8],\\n    emb_size=16,\\n    activation_num_first_layer=None,  # \\\"tanh\\\",\\n)\";\n",
       "                var nbb_formatted_code = \"model = build_model(\\n    params,\\n    lconv_dim=[4],\\n    lconv_num_dim=[8],\\n    emb_size=16,\\n    activation_num_first_layer=None,  # \\\"tanh\\\",\\n)\";\n",
       "                var nbb_cells = Jupyter.notebook.get_cells();\n",
       "                for (var i = 0; i < nbb_cells.length; ++i) {\n",
       "                    if (nbb_cells[i].input_prompt_number == nbb_cell_id) {\n",
       "                        if (nbb_cells[i].get_text() == nbb_unformatted_code) {\n",
       "                             nbb_cells[i].set_text(nbb_formatted_code);\n",
       "                        }\n",
       "                        break;\n",
       "                    }\n",
       "                }\n",
       "            }, 500);\n",
       "            "
      ],
      "text/plain": [
       "<IPython.core.display.Javascript object>"
      ]
     },
     "metadata": {},
     "output_type": "display_data"
    }
   ],
   "source": [
    "model = build_model(\n",
    "    params,\n",
    "    lconv_dim=[4],\n",
    "    lconv_num_dim=[8],\n",
    "    emb_size=16,\n",
    "    activation_num_first_layer=None,  # \"tanh\",\n",
    ")"
   ]
  },
  {
   "cell_type": "code",
   "execution_count": 19,
   "metadata": {
    "ExecuteTime": {
     "end_time": "2020-09-19T16:45:10.777155Z",
     "start_time": "2020-09-19T16:45:10.752655Z"
    }
   },
   "outputs": [
    {
     "data": {
      "text/plain": [
       "TensorShape([None, 57])"
      ]
     },
     "execution_count": 19,
     "metadata": {},
     "output_type": "execute_result"
    },
    {
     "data": {
      "application/javascript": [
       "\n",
       "            setTimeout(function() {\n",
       "                var nbb_cell_id = 19;\n",
       "                var nbb_unformatted_code = \"model.get_layer(\\\"output\\\")._build_input_shape\";\n",
       "                var nbb_formatted_code = \"model.get_layer(\\\"output\\\")._build_input_shape\";\n",
       "                var nbb_cells = Jupyter.notebook.get_cells();\n",
       "                for (var i = 0; i < nbb_cells.length; ++i) {\n",
       "                    if (nbb_cells[i].input_prompt_number == nbb_cell_id) {\n",
       "                        if (nbb_cells[i].get_text() == nbb_unformatted_code) {\n",
       "                             nbb_cells[i].set_text(nbb_formatted_code);\n",
       "                        }\n",
       "                        break;\n",
       "                    }\n",
       "                }\n",
       "            }, 500);\n",
       "            "
      ],
      "text/plain": [
       "<IPython.core.display.Javascript object>"
      ]
     },
     "metadata": {},
     "output_type": "display_data"
    }
   ],
   "source": [
    "model.get_layer(\"output\")._build_input_shape"
   ]
  },
  {
   "cell_type": "code",
   "execution_count": 20,
   "metadata": {
    "ExecuteTime": {
     "end_time": "2020-09-19T16:45:10.804529Z",
     "start_time": "2020-09-19T16:45:10.778180Z"
    }
   },
   "outputs": [
    {
     "name": "stdout",
     "output_type": "stream",
     "text": [
      "Model: \"explainable_model\"\n",
      "__________________________________________________________________________________________________\n",
      "Layer (type)                    Output Shape         Param #     Connected to                     \n",
      "==================================================================================================\n",
      "input_num (InputLayer)          [(None, 1)]          0                                            \n",
      "__________________________________________________________________________________________________\n",
      "input_cat (InputLayer)          [(None, 12)]         0                                            \n",
      "__________________________________________________________________________________________________\n",
      "reshape_num_input (Reshape)     (None, 1, 1)         0           input_num[0][0]                  \n",
      "__________________________________________________________________________________________________\n",
      "large_emb (Embedding)           (None, 12, 16)       1888        input_cat[0][0]                  \n",
      "__________________________________________________________________________________________________\n",
      "block_num_0_conv (LocallyConnec (None, 1, 8)         8           reshape_num_input[0][0]          \n",
      "__________________________________________________________________________________________________\n",
      "block_cat_0_conv (LocallyConnec (None, 12, 4)        768         large_emb[0][0]                  \n",
      "__________________________________________________________________________________________________\n",
      "block_num_0_activation (Activat (None, 1, 8)         0           block_num_0_conv[0][0]           \n",
      "__________________________________________________________________________________________________\n",
      "block_cat_0_activation (Activat (None, 12, 4)        0           block_cat_0_conv[0][0]           \n",
      "__________________________________________________________________________________________________\n",
      "input_bool (InputLayer)         [(None, 1)]          0                                            \n",
      "__________________________________________________________________________________________________\n",
      "reshape_num_output (Reshape)    (None, 8)            0           block_num_0_activation[0][0]     \n",
      "__________________________________________________________________________________________________\n",
      "reshape_cat_output (Reshape)    (None, 48)           0           block_cat_0_activation[0][0]     \n",
      "__________________________________________________________________________________________________\n",
      "concatenate (Concatenate)       (None, 57)           0           input_bool[0][0]                 \n",
      "                                                                 reshape_num_output[0][0]         \n",
      "                                                                 reshape_cat_output[0][0]         \n",
      "__________________________________________________________________________________________________\n",
      "output (Dense)                  (None, 1)            58          concatenate[0][0]                \n",
      "==================================================================================================\n",
      "Total params: 2,722\n",
      "Trainable params: 2,722\n",
      "Non-trainable params: 0\n",
      "__________________________________________________________________________________________________\n"
     ]
    },
    {
     "data": {
      "application/javascript": [
       "\n",
       "            setTimeout(function() {\n",
       "                var nbb_cell_id = 20;\n",
       "                var nbb_unformatted_code = \"model.summary()\";\n",
       "                var nbb_formatted_code = \"model.summary()\";\n",
       "                var nbb_cells = Jupyter.notebook.get_cells();\n",
       "                for (var i = 0; i < nbb_cells.length; ++i) {\n",
       "                    if (nbb_cells[i].input_prompt_number == nbb_cell_id) {\n",
       "                        if (nbb_cells[i].get_text() == nbb_unformatted_code) {\n",
       "                             nbb_cells[i].set_text(nbb_formatted_code);\n",
       "                        }\n",
       "                        break;\n",
       "                    }\n",
       "                }\n",
       "            }, 500);\n",
       "            "
      ],
      "text/plain": [
       "<IPython.core.display.Javascript object>"
      ]
     },
     "metadata": {},
     "output_type": "display_data"
    }
   ],
   "source": [
    "model.summary()"
   ]
  },
  {
   "cell_type": "code",
   "execution_count": 21,
   "metadata": {
    "ExecuteTime": {
     "end_time": "2020-09-19T16:45:10.828241Z",
     "start_time": "2020-09-19T16:45:10.805555Z"
    }
   },
   "outputs": [
    {
     "data": {
      "application/javascript": [
       "\n",
       "            setTimeout(function() {\n",
       "                var nbb_cell_id = 21;\n",
       "                var nbb_unformatted_code = \"#!pip install pydot graphviz\";\n",
       "                var nbb_formatted_code = \"#!pip install pydot graphviz\";\n",
       "                var nbb_cells = Jupyter.notebook.get_cells();\n",
       "                for (var i = 0; i < nbb_cells.length; ++i) {\n",
       "                    if (nbb_cells[i].input_prompt_number == nbb_cell_id) {\n",
       "                        if (nbb_cells[i].get_text() == nbb_unformatted_code) {\n",
       "                             nbb_cells[i].set_text(nbb_formatted_code);\n",
       "                        }\n",
       "                        break;\n",
       "                    }\n",
       "                }\n",
       "            }, 500);\n",
       "            "
      ],
      "text/plain": [
       "<IPython.core.display.Javascript object>"
      ]
     },
     "metadata": {},
     "output_type": "display_data"
    }
   ],
   "source": [
    "#!pip install pydot graphviz"
   ]
  },
  {
   "cell_type": "code",
   "execution_count": 22,
   "metadata": {
    "ExecuteTime": {
     "end_time": "2020-09-19T16:45:10.957669Z",
     "start_time": "2020-09-19T16:45:10.830970Z"
    }
   },
   "outputs": [
    {
     "data": {
      "image/png": "[encoded data removed]",
      "text/plain": [
       "<IPython.core.display.Image object>"
      ]
     },
     "execution_count": 22,
     "metadata": {},
     "output_type": "execute_result"
    },
    {
     "data": {
      "application/javascript": [
       "\n",
       "            setTimeout(function() {\n",
       "                var nbb_cell_id = 22;\n",
       "                var nbb_unformatted_code = \"plot_model(\\n    model,\\n    # to_file=\\\"model.png\\\",\\n    show_shapes=True,\\n    show_layer_names=True,\\n    rankdir=\\\"TB\\\",\\n    expand_nested=False,\\n    dpi=96,\\n)\";\n",
       "                var nbb_formatted_code = \"plot_model(\\n    model,\\n    # to_file=\\\"model.png\\\",\\n    show_shapes=True,\\n    show_layer_names=True,\\n    rankdir=\\\"TB\\\",\\n    expand_nested=False,\\n    dpi=96,\\n)\";\n",
       "                var nbb_cells = Jupyter.notebook.get_cells();\n",
       "                for (var i = 0; i < nbb_cells.length; ++i) {\n",
       "                    if (nbb_cells[i].input_prompt_number == nbb_cell_id) {\n",
       "                        if (nbb_cells[i].get_text() == nbb_unformatted_code) {\n",
       "                             nbb_cells[i].set_text(nbb_formatted_code);\n",
       "                        }\n",
       "                        break;\n",
       "                    }\n",
       "                }\n",
       "            }, 500);\n",
       "            "
      ],
      "text/plain": [
       "<IPython.core.display.Javascript object>"
      ]
     },
     "metadata": {},
     "output_type": "display_data"
    }
   ],
   "source": [
    "plot_model(\n",
    "    model,\n",
    "    # to_file=\"model.png\",\n",
    "    show_shapes=True,\n",
    "    show_layer_names=True,\n",
    "    rankdir=\"TB\",\n",
    "    expand_nested=False,\n",
    "    dpi=96,\n",
    ")"
   ]
  },
  {
   "cell_type": "code",
   "execution_count": 23,
   "metadata": {
    "ExecuteTime": {
     "end_time": "2020-09-19T16:45:10.985235Z",
     "start_time": "2020-09-19T16:45:10.959251Z"
    }
   },
   "outputs": [
    {
     "data": {
      "text/plain": [
       "(29304,)"
      ]
     },
     "execution_count": 23,
     "metadata": {},
     "output_type": "execute_result"
    },
    {
     "data": {
      "application/javascript": [
       "\n",
       "            setTimeout(function() {\n",
       "                var nbb_cell_id = 23;\n",
       "                var nbb_unformatted_code = \"y_train.shape\";\n",
       "                var nbb_formatted_code = \"y_train.shape\";\n",
       "                var nbb_cells = Jupyter.notebook.get_cells();\n",
       "                for (var i = 0; i < nbb_cells.length; ++i) {\n",
       "                    if (nbb_cells[i].input_prompt_number == nbb_cell_id) {\n",
       "                        if (nbb_cells[i].get_text() == nbb_unformatted_code) {\n",
       "                             nbb_cells[i].set_text(nbb_formatted_code);\n",
       "                        }\n",
       "                        break;\n",
       "                    }\n",
       "                }\n",
       "            }, 500);\n",
       "            "
      ],
      "text/plain": [
       "<IPython.core.display.Javascript object>"
      ]
     },
     "metadata": {},
     "output_type": "display_data"
    }
   ],
   "source": [
    "y_train.shape"
   ]
  },
  {
   "cell_type": "code",
   "execution_count": 24,
   "metadata": {
    "ExecuteTime": {
     "end_time": "2020-09-19T16:45:11.011426Z",
     "start_time": "2020-09-19T16:45:10.986268Z"
    }
   },
   "outputs": [
    {
     "data": {
      "application/javascript": [
       "\n",
       "            setTimeout(function() {\n",
       "                var nbb_cell_id = 24;\n",
       "                var nbb_unformatted_code = \"counts = np.unique(y_train, return_counts=True)[1]\\ncounts = counts.sum() / counts\";\n",
       "                var nbb_formatted_code = \"counts = np.unique(y_train, return_counts=True)[1]\\ncounts = counts.sum() / counts\";\n",
       "                var nbb_cells = Jupyter.notebook.get_cells();\n",
       "                for (var i = 0; i < nbb_cells.length; ++i) {\n",
       "                    if (nbb_cells[i].input_prompt_number == nbb_cell_id) {\n",
       "                        if (nbb_cells[i].get_text() == nbb_unformatted_code) {\n",
       "                             nbb_cells[i].set_text(nbb_formatted_code);\n",
       "                        }\n",
       "                        break;\n",
       "                    }\n",
       "                }\n",
       "            }, 500);\n",
       "            "
      ],
      "text/plain": [
       "<IPython.core.display.Javascript object>"
      ]
     },
     "metadata": {},
     "output_type": "display_data"
    }
   ],
   "source": [
    "counts = np.unique(y_train, return_counts=True)[1]\n",
    "counts = counts.sum() / counts"
   ]
  },
  {
   "cell_type": "code",
   "execution_count": 25,
   "metadata": {
    "ExecuteTime": {
     "end_time": "2020-09-19T16:45:11.038188Z",
     "start_time": "2020-09-19T16:45:11.012393Z"
    }
   },
   "outputs": [
    {
     "data": {
      "text/plain": [
       "{0: 1.3172113093900302, 1: 4.152472722119881}"
      ]
     },
     "execution_count": 25,
     "metadata": {},
     "output_type": "execute_result"
    },
    {
     "data": {
      "application/javascript": [
       "\n",
       "            setTimeout(function() {\n",
       "                var nbb_cell_id = 25;\n",
       "                var nbb_unformatted_code = \"class_weight = {\\n    0: counts[0],\\n    1: counts[1],\\n}\\nclass_weight\";\n",
       "                var nbb_formatted_code = \"class_weight = {\\n    0: counts[0],\\n    1: counts[1],\\n}\\nclass_weight\";\n",
       "                var nbb_cells = Jupyter.notebook.get_cells();\n",
       "                for (var i = 0; i < nbb_cells.length; ++i) {\n",
       "                    if (nbb_cells[i].input_prompt_number == nbb_cell_id) {\n",
       "                        if (nbb_cells[i].get_text() == nbb_unformatted_code) {\n",
       "                             nbb_cells[i].set_text(nbb_formatted_code);\n",
       "                        }\n",
       "                        break;\n",
       "                    }\n",
       "                }\n",
       "            }, 500);\n",
       "            "
      ],
      "text/plain": [
       "<IPython.core.display.Javascript object>"
      ]
     },
     "metadata": {},
     "output_type": "display_data"
    }
   ],
   "source": [
    "class_weight = {\n",
    "    0: counts[0],\n",
    "    1: counts[1],\n",
    "}\n",
    "class_weight"
   ]
  },
  {
   "cell_type": "raw",
   "metadata": {
    "ExecuteTime": {
     "end_time": "2020-07-14T10:13:28.824624Z",
     "start_time": "2020-07-14T10:13:28.800384Z"
    }
   },
   "source": [
    "class_weight = {\n",
    "    0: 1,\n",
    "    1: 1,\n",
    "}\n",
    "class_weight"
   ]
  },
  {
   "cell_type": "code",
   "execution_count": 26,
   "metadata": {
    "ExecuteTime": {
     "end_time": "2020-09-19T16:45:26.521136Z",
     "start_time": "2020-09-19T16:45:11.039041Z"
    }
   },
   "outputs": [
    {
     "name": "stdout",
     "output_type": "stream",
     "text": [
      "Epoch 1/2000\n",
      "29/29 - 0s - loss: 1.3719 - val_loss: 0.7127\n",
      "Epoch 2/2000\n",
      "29/29 - 0s - loss: 1.3706 - val_loss: 0.7111\n",
      "Epoch 3/2000\n",
      "29/29 - 0s - loss: 1.3686 - val_loss: 0.7091\n",
      "Epoch 4/2000\n",
      "29/29 - 0s - loss: 1.3661 - val_loss: 0.7068\n",
      "Epoch 5/2000\n",
      "29/29 - 0s - loss: 1.3628 - val_loss: 0.7040\n",
      "Epoch 6/2000\n",
      "29/29 - 0s - loss: 1.3585 - val_loss: 0.7005\n",
      "Epoch 7/2000\n",
      "29/29 - 0s - loss: 1.3529 - val_loss: 0.6950\n",
      "Epoch 8/2000\n",
      "29/29 - 0s - loss: 1.3451 - val_loss: 0.6889\n",
      "Epoch 9/2000\n",
      "29/29 - 0s - loss: 1.3347 - val_loss: 0.6808\n",
      "Epoch 10/2000\n",
      "29/29 - 0s - loss: 1.3207 - val_loss: 0.6708\n",
      "Epoch 11/2000\n",
      "29/29 - 0s - loss: 1.3023 - val_loss: 0.6584\n",
      "Epoch 12/2000\n",
      "29/29 - 0s - loss: 1.2791 - val_loss: 0.6431\n",
      "Epoch 13/2000\n",
      "29/29 - 0s - loss: 1.2508 - val_loss: 0.6212\n",
      "Epoch 14/2000\n",
      "29/29 - 0s - loss: 1.2172 - val_loss: 0.6009\n",
      "Epoch 15/2000\n",
      "29/29 - 0s - loss: 1.1792 - val_loss: 0.5798\n",
      "Epoch 16/2000\n",
      "29/29 - 0s - loss: 1.1384 - val_loss: 0.5579\n",
      "Epoch 17/2000\n",
      "29/29 - 0s - loss: 1.0964 - val_loss: 0.5366\n",
      "Epoch 18/2000\n",
      "29/29 - 0s - loss: 1.0552 - val_loss: 0.5178\n",
      "Epoch 19/2000\n",
      "29/29 - 0s - loss: 1.0167 - val_loss: 0.4948\n",
      "Epoch 20/2000\n",
      "29/29 - 0s - loss: 0.9817 - val_loss: 0.4781\n",
      "Epoch 21/2000\n",
      "29/29 - 0s - loss: 0.9509 - val_loss: 0.4634\n",
      "Epoch 22/2000\n",
      "29/29 - 0s - loss: 0.9246 - val_loss: 0.4515\n",
      "Epoch 23/2000\n",
      "29/29 - 0s - loss: 0.9021 - val_loss: 0.4406\n",
      "Epoch 24/2000\n",
      "29/29 - 0s - loss: 0.8833 - val_loss: 0.4321\n",
      "Epoch 25/2000\n",
      "29/29 - 0s - loss: 0.8672 - val_loss: 0.4193\n",
      "Epoch 26/2000\n",
      "29/29 - 0s - loss: 0.8531 - val_loss: 0.4162\n",
      "Epoch 27/2000\n",
      "29/29 - 0s - loss: 0.8409 - val_loss: 0.4094\n",
      "Epoch 28/2000\n",
      "29/29 - 0s - loss: 0.8300 - val_loss: 0.4033\n",
      "Epoch 29/2000\n",
      "29/29 - 0s - loss: 0.8203 - val_loss: 0.3976\n",
      "Epoch 30/2000\n",
      "29/29 - 0s - loss: 0.8116 - val_loss: 0.3945\n",
      "Epoch 31/2000\n",
      "29/29 - 0s - loss: 0.8039 - val_loss: 0.3934\n",
      "Epoch 32/2000\n",
      "29/29 - 0s - loss: 0.7967 - val_loss: 0.3867\n",
      "Epoch 33/2000\n",
      "29/29 - 0s - loss: 0.7902 - val_loss: 0.3824\n",
      "Epoch 34/2000\n",
      "29/29 - 0s - loss: 0.7843 - val_loss: 0.3792\n",
      "Epoch 35/2000\n",
      "29/29 - 0s - loss: 0.7788 - val_loss: 0.3761\n",
      "Epoch 36/2000\n",
      "29/29 - 0s - loss: 0.7740 - val_loss: 0.3760\n",
      "Epoch 37/2000\n",
      "29/29 - 0s - loss: 0.7692 - val_loss: 0.3698\n",
      "Epoch 38/2000\n",
      "29/29 - 0s - loss: 0.7651 - val_loss: 0.3700\n",
      "Epoch 39/2000\n",
      "29/29 - 0s - loss: 0.7612 - val_loss: 0.3658\n",
      "Epoch 40/2000\n",
      "29/29 - 0s - loss: 0.7576 - val_loss: 0.3643\n",
      "Epoch 41/2000\n",
      "29/29 - 0s - loss: 0.7543 - val_loss: 0.3666\n",
      "Epoch 42/2000\n",
      "29/29 - 0s - loss: 0.7511 - val_loss: 0.3640\n",
      "Epoch 43/2000\n",
      "29/29 - 0s - loss: 0.7482 - val_loss: 0.3540\n",
      "Epoch 44/2000\n",
      "29/29 - 0s - loss: 0.7455 - val_loss: 0.3583\n",
      "Epoch 45/2000\n",
      "29/29 - 0s - loss: 0.7430 - val_loss: 0.3607\n",
      "Epoch 46/2000\n",
      "29/29 - 0s - loss: 0.7405 - val_loss: 0.3599\n",
      "Epoch 47/2000\n",
      "29/29 - 0s - loss: 0.7382 - val_loss: 0.3584\n",
      "Epoch 48/2000\n",
      "29/29 - 0s - loss: 0.7361 - val_loss: 0.3566\n",
      "Epoch 49/2000\n",
      "29/29 - 0s - loss: 0.7339 - val_loss: 0.3572\n",
      "Epoch 50/2000\n",
      "29/29 - 0s - loss: 0.7320 - val_loss: 0.3518\n",
      "Epoch 51/2000\n",
      "29/29 - 0s - loss: 0.7303 - val_loss: 0.3503\n",
      "Epoch 52/2000\n",
      "29/29 - 0s - loss: 0.7284 - val_loss: 0.3536\n",
      "Epoch 53/2000\n",
      "29/29 - 0s - loss: 0.7265 - val_loss: 0.3509\n",
      "Epoch 54/2000\n",
      "29/29 - 0s - loss: 0.7247 - val_loss: 0.3514\n",
      "Epoch 55/2000\n",
      "29/29 - 0s - loss: 0.7233 - val_loss: 0.3501\n",
      "Epoch 56/2000\n",
      "29/29 - 0s - loss: 0.7215 - val_loss: 0.3525\n",
      "Epoch 57/2000\n",
      "29/29 - 0s - loss: 0.7200 - val_loss: 0.3495\n",
      "Epoch 58/2000\n",
      "29/29 - 0s - loss: 0.7184 - val_loss: 0.3455\n",
      "Epoch 59/2000\n",
      "29/29 - 0s - loss: 0.7170 - val_loss: 0.3475\n",
      "Epoch 60/2000\n",
      "29/29 - 0s - loss: 0.7156 - val_loss: 0.3478\n",
      "Epoch 61/2000\n",
      "29/29 - 0s - loss: 0.7143 - val_loss: 0.3480\n",
      "Epoch 62/2000\n",
      "29/29 - 0s - loss: 0.7128 - val_loss: 0.3463\n",
      "Epoch 63/2000\n",
      "29/29 - 0s - loss: 0.7114 - val_loss: 0.3448\n",
      "Epoch 64/2000\n",
      "29/29 - 0s - loss: 0.7102 - val_loss: 0.3467\n",
      "Epoch 65/2000\n",
      "29/29 - 0s - loss: 0.7088 - val_loss: 0.3435\n",
      "Epoch 66/2000\n",
      "29/29 - 0s - loss: 0.7075 - val_loss: 0.3434\n",
      "Epoch 67/2000\n",
      "29/29 - 0s - loss: 0.7064 - val_loss: 0.3431\n",
      "Epoch 68/2000\n",
      "29/29 - 0s - loss: 0.7051 - val_loss: 0.3450\n",
      "Epoch 69/2000\n",
      "29/29 - 0s - loss: 0.7040 - val_loss: 0.3400\n",
      "Epoch 70/2000\n",
      "29/29 - 0s - loss: 0.7028 - val_loss: 0.3442\n",
      "Epoch 71/2000\n",
      "29/29 - 0s - loss: 0.7016 - val_loss: 0.3398\n",
      "Epoch 72/2000\n",
      "29/29 - 0s - loss: 0.7005 - val_loss: 0.3404\n",
      "Epoch 73/2000\n",
      "29/29 - 0s - loss: 0.6995 - val_loss: 0.3361\n",
      "Epoch 74/2000\n",
      "29/29 - 0s - loss: 0.6983 - val_loss: 0.3437\n",
      "Epoch 75/2000\n",
      "29/29 - 0s - loss: 0.6975 - val_loss: 0.3416\n",
      "Epoch 76/2000\n",
      "29/29 - 0s - loss: 0.6963 - val_loss: 0.3413\n",
      "Epoch 77/2000\n",
      "29/29 - 0s - loss: 0.6951 - val_loss: 0.3326\n",
      "Epoch 78/2000\n",
      "29/29 - 0s - loss: 0.6948 - val_loss: 0.3379\n",
      "Epoch 79/2000\n",
      "29/29 - 0s - loss: 0.6936 - val_loss: 0.3338\n",
      "Epoch 80/2000\n",
      "29/29 - 0s - loss: 0.6927 - val_loss: 0.3426\n",
      "Epoch 81/2000\n",
      "29/29 - 0s - loss: 0.6916 - val_loss: 0.3321\n",
      "Epoch 82/2000\n",
      "29/29 - 0s - loss: 0.6907 - val_loss: 0.3360\n",
      "Epoch 83/2000\n",
      "29/29 - 0s - loss: 0.6898 - val_loss: 0.3388\n",
      "Epoch 84/2000\n",
      "29/29 - 0s - loss: 0.6890 - val_loss: 0.3363\n",
      "Epoch 85/2000\n",
      "29/29 - 0s - loss: 0.6881 - val_loss: 0.3357\n",
      "Epoch 86/2000\n",
      "29/29 - 0s - loss: 0.6874 - val_loss: 0.3398\n",
      "Epoch 87/2000\n",
      "29/29 - 0s - loss: 0.6867 - val_loss: 0.3418\n",
      "Epoch 88/2000\n",
      "29/29 - 0s - loss: 0.6859 - val_loss: 0.3348\n",
      "Epoch 89/2000\n",
      "29/29 - 0s - loss: 0.6852 - val_loss: 0.3376\n",
      "Epoch 90/2000\n",
      "29/29 - 0s - loss: 0.6845 - val_loss: 0.3325\n",
      "Epoch 91/2000\n",
      "29/29 - 0s - loss: 0.6840 - val_loss: 0.3317\n",
      "Epoch 92/2000\n",
      "29/29 - 0s - loss: 0.6834 - val_loss: 0.3387\n",
      "Epoch 93/2000\n",
      "29/29 - 0s - loss: 0.6825 - val_loss: 0.3402\n",
      "Epoch 94/2000\n",
      "29/29 - 0s - loss: 0.6823 - val_loss: 0.3351\n",
      "Epoch 95/2000\n",
      "29/29 - 0s - loss: 0.6812 - val_loss: 0.3413\n",
      "Epoch 96/2000\n",
      "29/29 - 0s - loss: 0.6812 - val_loss: 0.3367\n",
      "Epoch 97/2000\n",
      "29/29 - 0s - loss: 0.6805 - val_loss: 0.3316\n",
      "Epoch 98/2000\n",
      "29/29 - 0s - loss: 0.6802 - val_loss: 0.3293\n",
      "Epoch 99/2000\n",
      "29/29 - 0s - loss: 0.6791 - val_loss: 0.3298\n",
      "Epoch 100/2000\n",
      "29/29 - 0s - loss: 0.6788 - val_loss: 0.3336\n",
      "Epoch 101/2000\n",
      "29/29 - 0s - loss: 0.6784 - val_loss: 0.3274\n",
      "Epoch 102/2000\n",
      "29/29 - 0s - loss: 0.6778 - val_loss: 0.3344\n",
      "Epoch 103/2000\n",
      "29/29 - 0s - loss: 0.6770 - val_loss: 0.3372\n",
      "Epoch 104/2000\n",
      "29/29 - 0s - loss: 0.6765 - val_loss: 0.3283\n",
      "Epoch 105/2000\n",
      "29/29 - 0s - loss: 0.6762 - val_loss: 0.3329\n",
      "Epoch 106/2000\n",
      "29/29 - 0s - loss: 0.6756 - val_loss: 0.3273\n",
      "Epoch 107/2000\n",
      "29/29 - 0s - loss: 0.6753 - val_loss: 0.3300\n",
      "Epoch 108/2000\n",
      "29/29 - 0s - loss: 0.6750 - val_loss: 0.3304\n",
      "Epoch 109/2000\n",
      "29/29 - 0s - loss: 0.6744 - val_loss: 0.3393\n",
      "Epoch 110/2000\n",
      "29/29 - 0s - loss: 0.6739 - val_loss: 0.3247\n",
      "Epoch 111/2000\n",
      "29/29 - 0s - loss: 0.6737 - val_loss: 0.3331\n",
      "Epoch 112/2000\n",
      "29/29 - 0s - loss: 0.6732 - val_loss: 0.3328\n",
      "Epoch 113/2000\n",
      "29/29 - 0s - loss: 0.6728 - val_loss: 0.3281\n",
      "Epoch 114/2000\n",
      "29/29 - 0s - loss: 0.6724 - val_loss: 0.3312\n",
      "Epoch 115/2000\n",
      "29/29 - 0s - loss: 0.6722 - val_loss: 0.3331\n",
      "Epoch 116/2000\n",
      "29/29 - 0s - loss: 0.6718 - val_loss: 0.3369\n",
      "Epoch 117/2000\n",
      "29/29 - 0s - loss: 0.6714 - val_loss: 0.3296\n",
      "Epoch 118/2000\n",
      "29/29 - 0s - loss: 0.6711 - val_loss: 0.3288\n",
      "Epoch 119/2000\n",
      "29/29 - 0s - loss: 0.6707 - val_loss: 0.3325\n",
      "Epoch 120/2000\n",
      "29/29 - 0s - loss: 0.6703 - val_loss: 0.3328\n",
      "Epoch 121/2000\n",
      "29/29 - 0s - loss: 0.6701 - val_loss: 0.3426\n",
      "Epoch 122/2000\n",
      "29/29 - 0s - loss: 0.6696 - val_loss: 0.3262\n",
      "Epoch 123/2000\n",
      "29/29 - 0s - loss: 0.6694 - val_loss: 0.3277\n",
      "Epoch 124/2000\n",
      "29/29 - 0s - loss: 0.6691 - val_loss: 0.3318\n",
      "Epoch 125/2000\n",
      "29/29 - 0s - loss: 0.6688 - val_loss: 0.3357\n",
      "Epoch 126/2000\n",
      "29/29 - 0s - loss: 0.6685 - val_loss: 0.3283\n",
      "Epoch 127/2000\n",
      "29/29 - 0s - loss: 0.6681 - val_loss: 0.3293\n",
      "Epoch 128/2000\n",
      "29/29 - 0s - loss: 0.6679 - val_loss: 0.3298\n",
      "Epoch 129/2000\n",
      "29/29 - 0s - loss: 0.6675 - val_loss: 0.3288\n",
      "Epoch 130/2000\n",
      "29/29 - 0s - loss: 0.6672 - val_loss: 0.3324\n",
      "Epoch 00130: early stopping\n",
      "CPU times: user 1min 24s, sys: 4 s, total: 1min 28s\n",
      "Wall time: 15.5 s\n"
     ]
    },
    {
     "data": {
      "application/javascript": [
       "\n",
       "            setTimeout(function() {\n",
       "                var nbb_cell_id = 26;\n",
       "                var nbb_unformatted_code = \"%%time\\nhistory = model.fit(\\n    input_train,\\n    y_train.reshape(-1, 1),\\n    epochs=2000,\\n    batch_size=1024,\\n    validation_data=(input_valid, y_valid.reshape(-1, 1),),\\n    verbose=2,\\n    callbacks=[EarlyStopping(monitor=\\\"val_loss\\\", patience=20, verbose=1)],\\n    class_weight=class_weight\\n)\";\n",
       "                var nbb_formatted_code = \"%%time\\nhistory = model.fit(\\n    input_train,\\n    y_train.reshape(-1, 1),\\n    epochs=2000,\\n    batch_size=1024,\\n    validation_data=(input_valid, y_valid.reshape(-1, 1),),\\n    verbose=2,\\n    callbacks=[EarlyStopping(monitor=\\\"val_loss\\\", patience=20, verbose=1)],\\n    class_weight=class_weight\\n)\";\n",
       "                var nbb_cells = Jupyter.notebook.get_cells();\n",
       "                for (var i = 0; i < nbb_cells.length; ++i) {\n",
       "                    if (nbb_cells[i].input_prompt_number == nbb_cell_id) {\n",
       "                        if (nbb_cells[i].get_text() == nbb_unformatted_code) {\n",
       "                             nbb_cells[i].set_text(nbb_formatted_code);\n",
       "                        }\n",
       "                        break;\n",
       "                    }\n",
       "                }\n",
       "            }, 500);\n",
       "            "
      ],
      "text/plain": [
       "<IPython.core.display.Javascript object>"
      ]
     },
     "metadata": {},
     "output_type": "display_data"
    }
   ],
   "source": [
    "%%time\n",
    "history = model.fit(\n",
    "    input_train,\n",
    "    y_train.reshape(-1, 1),\n",
    "    epochs=2000,\n",
    "    batch_size=1024,\n",
    "    validation_data=(input_valid, y_valid.reshape(-1, 1),),\n",
    "    verbose=2,\n",
    "    callbacks=[EarlyStopping(monitor=\"val_loss\", patience=20, verbose=1)],\n",
    "    class_weight=class_weight\n",
    ")"
   ]
  },
  {
   "cell_type": "code",
   "execution_count": 27,
   "metadata": {
    "ExecuteTime": {
     "end_time": "2020-09-19T16:45:26.652640Z",
     "start_time": "2020-09-19T16:45:26.522129Z"
    }
   },
   "outputs": [
    {
     "data": {
      "image/png": "[encoded data removed]",
      "text/plain": [
       "<Figure size 432x288 with 1 Axes>"
      ]
     },
     "metadata": {
      "needs_background": "light"
     },
     "output_type": "display_data"
    },
    {
     "data": {
      "application/javascript": [
       "\n",
       "            setTimeout(function() {\n",
       "                var nbb_cell_id = 27;\n",
       "                var nbb_unformatted_code = \"plot_history(history)\";\n",
       "                var nbb_formatted_code = \"plot_history(history)\";\n",
       "                var nbb_cells = Jupyter.notebook.get_cells();\n",
       "                for (var i = 0; i < nbb_cells.length; ++i) {\n",
       "                    if (nbb_cells[i].input_prompt_number == nbb_cell_id) {\n",
       "                        if (nbb_cells[i].get_text() == nbb_unformatted_code) {\n",
       "                             nbb_cells[i].set_text(nbb_formatted_code);\n",
       "                        }\n",
       "                        break;\n",
       "                    }\n",
       "                }\n",
       "            }, 500);\n",
       "            "
      ],
      "text/plain": [
       "<IPython.core.display.Javascript object>"
      ]
     },
     "metadata": {},
     "output_type": "display_data"
    }
   ],
   "source": [
    "plot_history(history)"
   ]
  },
  {
   "cell_type": "code",
   "execution_count": 28,
   "metadata": {
    "ExecuteTime": {
     "end_time": "2020-09-19T16:45:26.822325Z",
     "start_time": "2020-09-19T16:45:26.653613Z"
    }
   },
   "outputs": [
    {
     "data": {
      "text/plain": [
       "0.931643381169694"
      ]
     },
     "execution_count": 28,
     "metadata": {},
     "output_type": "execute_result"
    },
    {
     "data": {
      "application/javascript": [
       "\n",
       "            setTimeout(function() {\n",
       "                var nbb_cell_id = 28;\n",
       "                var nbb_unformatted_code = \"model_auc = roc_auc_score(\\n    y_true=y_valid, y_score=model.predict(input_valid).reshape(-1),\\n)\\nmodel_auc\";\n",
       "                var nbb_formatted_code = \"model_auc = roc_auc_score(\\n    y_true=y_valid,\\n    y_score=model.predict(input_valid).reshape(-1),\\n)\\nmodel_auc\";\n",
       "                var nbb_cells = Jupyter.notebook.get_cells();\n",
       "                for (var i = 0; i < nbb_cells.length; ++i) {\n",
       "                    if (nbb_cells[i].input_prompt_number == nbb_cell_id) {\n",
       "                        if (nbb_cells[i].get_text() == nbb_unformatted_code) {\n",
       "                             nbb_cells[i].set_text(nbb_formatted_code);\n",
       "                        }\n",
       "                        break;\n",
       "                    }\n",
       "                }\n",
       "            }, 500);\n",
       "            "
      ],
      "text/plain": [
       "<IPython.core.display.Javascript object>"
      ]
     },
     "metadata": {},
     "output_type": "display_data"
    }
   ],
   "source": [
    "model_auc = roc_auc_score(\n",
    "    y_true=y_valid,\n",
    "    y_score=model.predict(input_valid).reshape(-1),\n",
    ")\n",
    "model_auc"
   ]
  },
  {
   "cell_type": "code",
   "execution_count": 29,
   "metadata": {
    "ExecuteTime": {
     "end_time": "2020-09-19T16:45:27.033590Z",
     "start_time": "2020-09-19T16:45:26.823172Z"
    }
   },
   "outputs": [
    {
     "data": {
      "text/plain": [
       "0.9242656661389506"
      ]
     },
     "execution_count": 29,
     "metadata": {},
     "output_type": "execute_result"
    },
    {
     "data": {
      "application/javascript": [
       "\n",
       "            setTimeout(function() {\n",
       "                var nbb_cell_id = 29;\n",
       "                var nbb_unformatted_code = \"model_auc = roc_auc_score(y_true=y_test, y_score=model.predict(input_test).reshape(-1),)\\nmodel_auc\";\n",
       "                var nbb_formatted_code = \"model_auc = roc_auc_score(\\n    y_true=y_test,\\n    y_score=model.predict(input_test).reshape(-1),\\n)\\nmodel_auc\";\n",
       "                var nbb_cells = Jupyter.notebook.get_cells();\n",
       "                for (var i = 0; i < nbb_cells.length; ++i) {\n",
       "                    if (nbb_cells[i].input_prompt_number == nbb_cell_id) {\n",
       "                        if (nbb_cells[i].get_text() == nbb_unformatted_code) {\n",
       "                             nbb_cells[i].set_text(nbb_formatted_code);\n",
       "                        }\n",
       "                        break;\n",
       "                    }\n",
       "                }\n",
       "            }, 500);\n",
       "            "
      ],
      "text/plain": [
       "<IPython.core.display.Javascript object>"
      ]
     },
     "metadata": {},
     "output_type": "display_data"
    }
   ],
   "source": [
    "model_auc = roc_auc_score(\n",
    "    y_true=y_test,\n",
    "    y_score=model.predict(input_test).reshape(-1),\n",
    ")\n",
    "model_auc"
   ]
  },
  {
   "cell_type": "code",
   "execution_count": 30,
   "metadata": {
    "ExecuteTime": {
     "end_time": "2020-09-19T16:45:27.057185Z",
     "start_time": "2020-09-19T16:45:27.034500Z"
    }
   },
   "outputs": [
    {
     "data": {
      "application/javascript": [
       "\n",
       "            setTimeout(function() {\n",
       "                var nbb_cell_id = 30;\n",
       "                var nbb_unformatted_code = \"from xplainet.model import predict, encode\";\n",
       "                var nbb_formatted_code = \"from xplainet.model import predict, encode\";\n",
       "                var nbb_cells = Jupyter.notebook.get_cells();\n",
       "                for (var i = 0; i < nbb_cells.length; ++i) {\n",
       "                    if (nbb_cells[i].input_prompt_number == nbb_cell_id) {\n",
       "                        if (nbb_cells[i].get_text() == nbb_unformatted_code) {\n",
       "                             nbb_cells[i].set_text(nbb_formatted_code);\n",
       "                        }\n",
       "                        break;\n",
       "                    }\n",
       "                }\n",
       "            }, 500);\n",
       "            "
      ],
      "text/plain": [
       "<IPython.core.display.Javascript object>"
      ]
     },
     "metadata": {},
     "output_type": "display_data"
    }
   ],
   "source": [
    "from xplainet.model import predict, encode"
   ]
  },
  {
   "cell_type": "code",
   "execution_count": 31,
   "metadata": {
    "ExecuteTime": {
     "end_time": "2020-09-19T16:45:27.386382Z",
     "start_time": "2020-09-19T16:45:27.058053Z"
    }
   },
   "outputs": [
    {
     "data": {
      "application/javascript": [
       "\n",
       "            setTimeout(function() {\n",
       "                var nbb_cell_id = 31;\n",
       "                var nbb_unformatted_code = \"probs, explanations = predict(model, input_test)\";\n",
       "                var nbb_formatted_code = \"probs, explanations = predict(model, input_test)\";\n",
       "                var nbb_cells = Jupyter.notebook.get_cells();\n",
       "                for (var i = 0; i < nbb_cells.length; ++i) {\n",
       "                    if (nbb_cells[i].input_prompt_number == nbb_cell_id) {\n",
       "                        if (nbb_cells[i].get_text() == nbb_unformatted_code) {\n",
       "                             nbb_cells[i].set_text(nbb_formatted_code);\n",
       "                        }\n",
       "                        break;\n",
       "                    }\n",
       "                }\n",
       "            }, 500);\n",
       "            "
      ],
      "text/plain": [
       "<IPython.core.display.Javascript object>"
      ]
     },
     "metadata": {},
     "output_type": "display_data"
    }
   ],
   "source": [
    "probs, explanations = predict(model, input_test)"
   ]
  },
  {
   "cell_type": "code",
   "execution_count": 32,
   "metadata": {
    "ExecuteTime": {
     "end_time": "2020-09-19T16:45:27.703211Z",
     "start_time": "2020-09-19T16:45:27.387293Z"
    }
   },
   "outputs": [
    {
     "data": {
      "application/javascript": [
       "\n",
       "            setTimeout(function() {\n",
       "                var nbb_cell_id = 32;\n",
       "                var nbb_unformatted_code = \"probs, encoded_output = encode(model, input_test)\";\n",
       "                var nbb_formatted_code = \"probs, encoded_output = encode(model, input_test)\";\n",
       "                var nbb_cells = Jupyter.notebook.get_cells();\n",
       "                for (var i = 0; i < nbb_cells.length; ++i) {\n",
       "                    if (nbb_cells[i].input_prompt_number == nbb_cell_id) {\n",
       "                        if (nbb_cells[i].get_text() == nbb_unformatted_code) {\n",
       "                             nbb_cells[i].set_text(nbb_formatted_code);\n",
       "                        }\n",
       "                        break;\n",
       "                    }\n",
       "                }\n",
       "            }, 500);\n",
       "            "
      ],
      "text/plain": [
       "<IPython.core.display.Javascript object>"
      ]
     },
     "metadata": {},
     "output_type": "display_data"
    }
   ],
   "source": [
    "probs, encoded_output = encode(model, input_test)"
   ]
  },
  {
   "cell_type": "code",
   "execution_count": 33,
   "metadata": {
    "ExecuteTime": {
     "end_time": "2020-09-19T16:45:27.730609Z",
     "start_time": "2020-09-19T16:45:27.704216Z"
    }
   },
   "outputs": [
    {
     "data": {
      "text/plain": [
       "(16280,)"
      ]
     },
     "execution_count": 33,
     "metadata": {},
     "output_type": "execute_result"
    },
    {
     "data": {
      "application/javascript": [
       "\n",
       "            setTimeout(function() {\n",
       "                var nbb_cell_id = 33;\n",
       "                var nbb_unformatted_code = \"y_test.shape\";\n",
       "                var nbb_formatted_code = \"y_test.shape\";\n",
       "                var nbb_cells = Jupyter.notebook.get_cells();\n",
       "                for (var i = 0; i < nbb_cells.length; ++i) {\n",
       "                    if (nbb_cells[i].input_prompt_number == nbb_cell_id) {\n",
       "                        if (nbb_cells[i].get_text() == nbb_unformatted_code) {\n",
       "                             nbb_cells[i].set_text(nbb_formatted_code);\n",
       "                        }\n",
       "                        break;\n",
       "                    }\n",
       "                }\n",
       "            }, 500);\n",
       "            "
      ],
      "text/plain": [
       "<IPython.core.display.Javascript object>"
      ]
     },
     "metadata": {},
     "output_type": "display_data"
    }
   ],
   "source": [
    "y_test.shape"
   ]
  },
  {
   "cell_type": "code",
   "execution_count": 34,
   "metadata": {
    "ExecuteTime": {
     "end_time": "2020-09-19T16:45:27.756029Z",
     "start_time": "2020-09-19T16:45:27.731559Z"
    }
   },
   "outputs": [
    {
     "data": {
      "text/plain": [
       "(16280, 57)"
      ]
     },
     "execution_count": 34,
     "metadata": {},
     "output_type": "execute_result"
    },
    {
     "data": {
      "application/javascript": [
       "\n",
       "            setTimeout(function() {\n",
       "                var nbb_cell_id = 34;\n",
       "                var nbb_unformatted_code = \"encoded_output.shape\";\n",
       "                var nbb_formatted_code = \"encoded_output.shape\";\n",
       "                var nbb_cells = Jupyter.notebook.get_cells();\n",
       "                for (var i = 0; i < nbb_cells.length; ++i) {\n",
       "                    if (nbb_cells[i].input_prompt_number == nbb_cell_id) {\n",
       "                        if (nbb_cells[i].get_text() == nbb_unformatted_code) {\n",
       "                             nbb_cells[i].set_text(nbb_formatted_code);\n",
       "                        }\n",
       "                        break;\n",
       "                    }\n",
       "                }\n",
       "            }, 500);\n",
       "            "
      ],
      "text/plain": [
       "<IPython.core.display.Javascript object>"
      ]
     },
     "metadata": {},
     "output_type": "display_data"
    }
   ],
   "source": [
    "encoded_output.shape"
   ]
  },
  {
   "cell_type": "code",
   "execution_count": 35,
   "metadata": {
    "ExecuteTime": {
     "end_time": "2020-09-19T16:45:27.783194Z",
     "start_time": "2020-09-19T16:45:27.756886Z"
    }
   },
   "outputs": [
    {
     "data": {
      "text/plain": [
       "(16280, 14)"
      ]
     },
     "execution_count": 35,
     "metadata": {},
     "output_type": "execute_result"
    },
    {
     "data": {
      "application/javascript": [
       "\n",
       "            setTimeout(function() {\n",
       "                var nbb_cell_id = 35;\n",
       "                var nbb_unformatted_code = \"explanations.shape\";\n",
       "                var nbb_formatted_code = \"explanations.shape\";\n",
       "                var nbb_cells = Jupyter.notebook.get_cells();\n",
       "                for (var i = 0; i < nbb_cells.length; ++i) {\n",
       "                    if (nbb_cells[i].input_prompt_number == nbb_cell_id) {\n",
       "                        if (nbb_cells[i].get_text() == nbb_unformatted_code) {\n",
       "                             nbb_cells[i].set_text(nbb_formatted_code);\n",
       "                        }\n",
       "                        break;\n",
       "                    }\n",
       "                }\n",
       "            }, 500);\n",
       "            "
      ],
      "text/plain": [
       "<IPython.core.display.Javascript object>"
      ]
     },
     "metadata": {},
     "output_type": "display_data"
    }
   ],
   "source": [
    "explanations.shape"
   ]
  },
  {
   "cell_type": "code",
   "execution_count": 36,
   "metadata": {
    "ExecuteTime": {
     "end_time": "2020-09-19T16:45:27.814381Z",
     "start_time": "2020-09-19T16:45:27.784437Z"
    }
   },
   "outputs": [
    {
     "data": {
      "application/javascript": [
       "\n",
       "            setTimeout(function() {\n",
       "                var nbb_cell_id = 36;\n",
       "                var nbb_unformatted_code = \"import matplotlib.pyplot as plt\\n\\n# plt.rcdefaults()\\nimport numpy as np\\nimport matplotlib.pyplot as plt\\n\\n\\ndef explain_plot(importances, columns):\\n    selection = np.argsort(-np.absolute(importances))[:10]\\n    # indexes = np.argsort(importances)\\n    performance = importances[selection]\\n    #     print(performance.shape)512, 256, 128, 64, 32, 1\\n    y_pos = np.arange(performance.shape[0])\\n\\n    plt.barh(y_pos, performance, align=\\\"center\\\", alpha=0.5)\\n    plt.yticks(y_pos, columns[selection])\\n    # plt.xlabel('Usage')\\n    plt.title(\\\"Feature importance\\\")\\n\\n    plt.show()\";\n",
       "                var nbb_formatted_code = \"import matplotlib.pyplot as plt\\n\\n# plt.rcdefaults()\\nimport numpy as np\\nimport matplotlib.pyplot as plt\\n\\n\\ndef explain_plot(importances, columns):\\n    selection = np.argsort(-np.absolute(importances))[:10]\\n    # indexes = np.argsort(importances)\\n    performance = importances[selection]\\n    #     print(performance.shape)512, 256, 128, 64, 32, 1\\n    y_pos = np.arange(performance.shape[0])\\n\\n    plt.barh(y_pos, performance, align=\\\"center\\\", alpha=0.5)\\n    plt.yticks(y_pos, columns[selection])\\n    # plt.xlabel('Usage')\\n    plt.title(\\\"Feature importance\\\")\\n\\n    plt.show()\";\n",
       "                var nbb_cells = Jupyter.notebook.get_cells();\n",
       "                for (var i = 0; i < nbb_cells.length; ++i) {\n",
       "                    if (nbb_cells[i].input_prompt_number == nbb_cell_id) {\n",
       "                        if (nbb_cells[i].get_text() == nbb_unformatted_code) {\n",
       "                             nbb_cells[i].set_text(nbb_formatted_code);\n",
       "                        }\n",
       "                        break;\n",
       "                    }\n",
       "                }\n",
       "            }, 500);\n",
       "            "
      ],
      "text/plain": [
       "<IPython.core.display.Javascript object>"
      ]
     },
     "metadata": {},
     "output_type": "display_data"
    }
   ],
   "source": [
    "import matplotlib.pyplot as plt\n",
    "\n",
    "# plt.rcdefaults()\n",
    "import numpy as np\n",
    "import matplotlib.pyplot as plt\n",
    "\n",
    "\n",
    "def explain_plot(importances, columns):\n",
    "    selection = np.argsort(-np.absolute(importances))[:10]\n",
    "    # indexes = np.argsort(importances)\n",
    "    performance = importances[selection]\n",
    "    #     print(performance.shape)512, 256, 128, 64, 32, 1\n",
    "    y_pos = np.arange(performance.shape[0])\n",
    "\n",
    "    plt.barh(y_pos, performance, align=\"center\", alpha=0.5)\n",
    "    plt.yticks(y_pos, columns[selection])\n",
    "    # plt.xlabel('Usage')\n",
    "    plt.title(\"Feature importance\")\n",
    "\n",
    "    plt.show()"
   ]
  },
  {
   "cell_type": "code",
   "execution_count": 37,
   "metadata": {
    "ExecuteTime": {
     "end_time": "2020-09-19T16:45:27.840103Z",
     "start_time": "2020-09-19T16:45:27.815302Z"
    }
   },
   "outputs": [
    {
     "data": {
      "text/plain": [
       "array(['sex', 'fnlwgt', 'education', 'relationship', 'age',\n",
       "       'marital-status', 'native-country', 'workclass', 'education-num',\n",
       "       'hours-per-week', 'occupation', 'race', 'capital-gain',\n",
       "       'capital-loss'], dtype='<U14')"
      ]
     },
     "execution_count": 37,
     "metadata": {},
     "output_type": "execute_result"
    },
    {
     "data": {
      "application/javascript": [
       "\n",
       "            setTimeout(function() {\n",
       "                var nbb_cell_id = 37;\n",
       "                var nbb_unformatted_code = \"all_cols = np.array(params[\\\"bool_cols\\\"] + params[\\\"num_cols\\\"] + params[\\\"cat_cols\\\"])\\nall_cols\";\n",
       "                var nbb_formatted_code = \"all_cols = np.array(params[\\\"bool_cols\\\"] + params[\\\"num_cols\\\"] + params[\\\"cat_cols\\\"])\\nall_cols\";\n",
       "                var nbb_cells = Jupyter.notebook.get_cells();\n",
       "                for (var i = 0; i < nbb_cells.length; ++i) {\n",
       "                    if (nbb_cells[i].input_prompt_number == nbb_cell_id) {\n",
       "                        if (nbb_cells[i].get_text() == nbb_unformatted_code) {\n",
       "                             nbb_cells[i].set_text(nbb_formatted_code);\n",
       "                        }\n",
       "                        break;\n",
       "                    }\n",
       "                }\n",
       "            }, 500);\n",
       "            "
      ],
      "text/plain": [
       "<IPython.core.display.Javascript object>"
      ]
     },
     "metadata": {},
     "output_type": "display_data"
    }
   ],
   "source": [
    "all_cols = np.array(params[\"bool_cols\"] + params[\"num_cols\"] + params[\"cat_cols\"])\n",
    "all_cols"
   ]
  },
  {
   "cell_type": "markdown",
   "metadata": {
    "ExecuteTime": {
     "end_time": "2020-09-18T18:48:54.151671Z",
     "start_time": "2020-09-18T18:48:54.127488Z"
    }
   },
   "source": [
    "## Explain global"
   ]
  },
  {
   "cell_type": "code",
   "execution_count": 38,
   "metadata": {
    "ExecuteTime": {
     "end_time": "2020-09-19T16:45:28.329609Z",
     "start_time": "2020-09-19T16:45:27.841083Z"
    }
   },
   "outputs": [
    {
     "data": {
      "application/javascript": [
       "\n",
       "            setTimeout(function() {\n",
       "                var nbb_cell_id = 38;\n",
       "                var nbb_unformatted_code = \"probs_train, explanations_train = predict(model, input_train)\";\n",
       "                var nbb_formatted_code = \"probs_train, explanations_train = predict(model, input_train)\";\n",
       "                var nbb_cells = Jupyter.notebook.get_cells();\n",
       "                for (var i = 0; i < nbb_cells.length; ++i) {\n",
       "                    if (nbb_cells[i].input_prompt_number == nbb_cell_id) {\n",
       "                        if (nbb_cells[i].get_text() == nbb_unformatted_code) {\n",
       "                             nbb_cells[i].set_text(nbb_formatted_code);\n",
       "                        }\n",
       "                        break;\n",
       "                    }\n",
       "                }\n",
       "            }, 500);\n",
       "            "
      ],
      "text/plain": [
       "<IPython.core.display.Javascript object>"
      ]
     },
     "metadata": {},
     "output_type": "display_data"
    }
   ],
   "source": [
    "probs_train, explanations_train = predict(model, input_train)"
   ]
  },
  {
   "cell_type": "code",
   "execution_count": 39,
   "metadata": {
    "ExecuteTime": {
     "end_time": "2020-09-19T16:45:28.354616Z",
     "start_time": "2020-09-19T16:45:28.330500Z"
    }
   },
   "outputs": [
    {
     "data": {
      "application/javascript": [
       "\n",
       "            setTimeout(function() {\n",
       "                var nbb_cell_id = 39;\n",
       "                var nbb_unformatted_code = \"global_explain = np.sum(explanations_train, axis=0)\\nglobal_explain = global_explain / np.abs(global_explain).sum()\";\n",
       "                var nbb_formatted_code = \"global_explain = np.sum(explanations_train, axis=0)\\nglobal_explain = global_explain / np.abs(global_explain).sum()\";\n",
       "                var nbb_cells = Jupyter.notebook.get_cells();\n",
       "                for (var i = 0; i < nbb_cells.length; ++i) {\n",
       "                    if (nbb_cells[i].input_prompt_number == nbb_cell_id) {\n",
       "                        if (nbb_cells[i].get_text() == nbb_unformatted_code) {\n",
       "                             nbb_cells[i].set_text(nbb_formatted_code);\n",
       "                        }\n",
       "                        break;\n",
       "                    }\n",
       "                }\n",
       "            }, 500);\n",
       "            "
      ],
      "text/plain": [
       "<IPython.core.display.Javascript object>"
      ]
     },
     "metadata": {},
     "output_type": "display_data"
    }
   ],
   "source": [
    "global_explain = np.sum(explanations_train, axis=0)\n",
    "global_explain = global_explain / np.abs(global_explain).sum()"
   ]
  },
  {
   "cell_type": "code",
   "execution_count": 40,
   "metadata": {
    "ExecuteTime": {
     "end_time": "2020-09-19T16:45:28.478142Z",
     "start_time": "2020-09-19T16:45:28.355584Z"
    }
   },
   "outputs": [
    {
     "data": {
      "image/png": "[encoded data removed]",
      "text/plain": [
       "<Figure size 432x288 with 1 Axes>"
      ]
     },
     "metadata": {
      "needs_background": "light"
     },
     "output_type": "display_data"
    },
    {
     "data": {
      "application/javascript": [
       "\n",
       "            setTimeout(function() {\n",
       "                var nbb_cell_id = 40;\n",
       "                var nbb_unformatted_code = \"explain_plot(global_explain, all_cols)\";\n",
       "                var nbb_formatted_code = \"explain_plot(global_explain, all_cols)\";\n",
       "                var nbb_cells = Jupyter.notebook.get_cells();\n",
       "                for (var i = 0; i < nbb_cells.length; ++i) {\n",
       "                    if (nbb_cells[i].input_prompt_number == nbb_cell_id) {\n",
       "                        if (nbb_cells[i].get_text() == nbb_unformatted_code) {\n",
       "                             nbb_cells[i].set_text(nbb_formatted_code);\n",
       "                        }\n",
       "                        break;\n",
       "                    }\n",
       "                }\n",
       "            }, 500);\n",
       "            "
      ],
      "text/plain": [
       "<IPython.core.display.Javascript object>"
      ]
     },
     "metadata": {},
     "output_type": "display_data"
    }
   ],
   "source": [
    "explain_plot(global_explain, all_cols)"
   ]
  },
  {
   "cell_type": "code",
   "execution_count": 41,
   "metadata": {
    "ExecuteTime": {
     "end_time": "2020-09-19T16:45:28.503733Z",
     "start_time": "2020-09-19T16:45:28.479077Z"
    }
   },
   "outputs": [
    {
     "data": {
      "application/javascript": [
       "\n",
       "            setTimeout(function() {\n",
       "                var nbb_cell_id = 41;\n",
       "                var nbb_unformatted_code = \"global_explain = np.abs(explanations_train).sum(axis=0)\\nglobal_explain = global_explain / global_explain.sum()\";\n",
       "                var nbb_formatted_code = \"global_explain = np.abs(explanations_train).sum(axis=0)\\nglobal_explain = global_explain / global_explain.sum()\";\n",
       "                var nbb_cells = Jupyter.notebook.get_cells();\n",
       "                for (var i = 0; i < nbb_cells.length; ++i) {\n",
       "                    if (nbb_cells[i].input_prompt_number == nbb_cell_id) {\n",
       "                        if (nbb_cells[i].get_text() == nbb_unformatted_code) {\n",
       "                             nbb_cells[i].set_text(nbb_formatted_code);\n",
       "                        }\n",
       "                        break;\n",
       "                    }\n",
       "                }\n",
       "            }, 500);\n",
       "            "
      ],
      "text/plain": [
       "<IPython.core.display.Javascript object>"
      ]
     },
     "metadata": {},
     "output_type": "display_data"
    }
   ],
   "source": [
    "global_explain = np.abs(explanations_train).sum(axis=0)\n",
    "global_explain = global_explain / global_explain.sum()"
   ]
  },
  {
   "cell_type": "code",
   "execution_count": 42,
   "metadata": {
    "ExecuteTime": {
     "end_time": "2020-09-19T16:45:28.629625Z",
     "start_time": "2020-09-19T16:45:28.504607Z"
    }
   },
   "outputs": [
    {
     "data": {
      "image/png": "[encoded data removed]",
      "text/plain": [
       "<Figure size 432x288 with 1 Axes>"
      ]
     },
     "metadata": {
      "needs_background": "light"
     },
     "output_type": "display_data"
    },
    {
     "data": {
      "application/javascript": [
       "\n",
       "            setTimeout(function() {\n",
       "                var nbb_cell_id = 42;\n",
       "                var nbb_unformatted_code = \"explain_plot(global_explain, all_cols)\";\n",
       "                var nbb_formatted_code = \"explain_plot(global_explain, all_cols)\";\n",
       "                var nbb_cells = Jupyter.notebook.get_cells();\n",
       "                for (var i = 0; i < nbb_cells.length; ++i) {\n",
       "                    if (nbb_cells[i].input_prompt_number == nbb_cell_id) {\n",
       "                        if (nbb_cells[i].get_text() == nbb_unformatted_code) {\n",
       "                             nbb_cells[i].set_text(nbb_formatted_code);\n",
       "                        }\n",
       "                        break;\n",
       "                    }\n",
       "                }\n",
       "            }, 500);\n",
       "            "
      ],
      "text/plain": [
       "<IPython.core.display.Javascript object>"
      ]
     },
     "metadata": {},
     "output_type": "display_data"
    }
   ],
   "source": [
    "explain_plot(global_explain, all_cols)"
   ]
  },
  {
   "cell_type": "code",
   "execution_count": 43,
   "metadata": {
    "ExecuteTime": {
     "end_time": "2020-09-19T16:45:28.656451Z",
     "start_time": "2020-09-19T16:45:28.630523Z"
    }
   },
   "outputs": [
    {
     "data": {
      "application/javascript": [
       "\n",
       "            setTimeout(function() {\n",
       "                var nbb_cell_id = 43;\n",
       "                var nbb_unformatted_code = \"global_explain = np.where(explanations_train >= 0, explanations_train, 0).sum(axis=0)\\nglobal_explain = global_explain / np.abs(global_explain).sum()\";\n",
       "                var nbb_formatted_code = \"global_explain = np.where(explanations_train >= 0, explanations_train, 0).sum(axis=0)\\nglobal_explain = global_explain / np.abs(global_explain).sum()\";\n",
       "                var nbb_cells = Jupyter.notebook.get_cells();\n",
       "                for (var i = 0; i < nbb_cells.length; ++i) {\n",
       "                    if (nbb_cells[i].input_prompt_number == nbb_cell_id) {\n",
       "                        if (nbb_cells[i].get_text() == nbb_unformatted_code) {\n",
       "                             nbb_cells[i].set_text(nbb_formatted_code);\n",
       "                        }\n",
       "                        break;\n",
       "                    }\n",
       "                }\n",
       "            }, 500);\n",
       "            "
      ],
      "text/plain": [
       "<IPython.core.display.Javascript object>"
      ]
     },
     "metadata": {},
     "output_type": "display_data"
    }
   ],
   "source": [
    "global_explain = np.where(explanations_train >= 0, explanations_train, 0).sum(axis=0)\n",
    "global_explain = global_explain / np.abs(global_explain).sum()"
   ]
  },
  {
   "cell_type": "code",
   "execution_count": 44,
   "metadata": {
    "ExecuteTime": {
     "end_time": "2020-09-19T16:45:28.787991Z",
     "start_time": "2020-09-19T16:45:28.657325Z"
    }
   },
   "outputs": [
    {
     "data": {
      "image/png": "[encoded data removed]",
      "text/plain": [
       "<Figure size 432x288 with 1 Axes>"
      ]
     },
     "metadata": {
      "needs_background": "light"
     },
     "output_type": "display_data"
    },
    {
     "data": {
      "application/javascript": [
       "\n",
       "            setTimeout(function() {\n",
       "                var nbb_cell_id = 44;\n",
       "                var nbb_unformatted_code = \"explain_plot(global_explain, all_cols)\";\n",
       "                var nbb_formatted_code = \"explain_plot(global_explain, all_cols)\";\n",
       "                var nbb_cells = Jupyter.notebook.get_cells();\n",
       "                for (var i = 0; i < nbb_cells.length; ++i) {\n",
       "                    if (nbb_cells[i].input_prompt_number == nbb_cell_id) {\n",
       "                        if (nbb_cells[i].get_text() == nbb_unformatted_code) {\n",
       "                             nbb_cells[i].set_text(nbb_formatted_code);\n",
       "                        }\n",
       "                        break;\n",
       "                    }\n",
       "                }\n",
       "            }, 500);\n",
       "            "
      ],
      "text/plain": [
       "<IPython.core.display.Javascript object>"
      ]
     },
     "metadata": {},
     "output_type": "display_data"
    }
   ],
   "source": [
    "explain_plot(global_explain, all_cols)"
   ]
  },
  {
   "cell_type": "code",
   "execution_count": 45,
   "metadata": {
    "ExecuteTime": {
     "end_time": "2020-09-19T16:45:28.818332Z",
     "start_time": "2020-09-19T16:45:28.789048Z"
    }
   },
   "outputs": [
    {
     "data": {
      "application/javascript": [
       "\n",
       "            setTimeout(function() {\n",
       "                var nbb_cell_id = 45;\n",
       "                var nbb_unformatted_code = \"global_explain = np.where(explanations_train < 0, explanations_train, 0).sum(axis=0)\\nglobal_explain = global_explain / np.abs(global_explain).sum()\";\n",
       "                var nbb_formatted_code = \"global_explain = np.where(explanations_train < 0, explanations_train, 0).sum(axis=0)\\nglobal_explain = global_explain / np.abs(global_explain).sum()\";\n",
       "                var nbb_cells = Jupyter.notebook.get_cells();\n",
       "                for (var i = 0; i < nbb_cells.length; ++i) {\n",
       "                    if (nbb_cells[i].input_prompt_number == nbb_cell_id) {\n",
       "                        if (nbb_cells[i].get_text() == nbb_unformatted_code) {\n",
       "                             nbb_cells[i].set_text(nbb_formatted_code);\n",
       "                        }\n",
       "                        break;\n",
       "                    }\n",
       "                }\n",
       "            }, 500);\n",
       "            "
      ],
      "text/plain": [
       "<IPython.core.display.Javascript object>"
      ]
     },
     "metadata": {},
     "output_type": "display_data"
    }
   ],
   "source": [
    "global_explain = np.where(explanations_train < 0, explanations_train, 0).sum(axis=0)\n",
    "global_explain = global_explain / np.abs(global_explain).sum()"
   ]
  },
  {
   "cell_type": "code",
   "execution_count": 46,
   "metadata": {
    "ExecuteTime": {
     "end_time": "2020-09-19T16:45:28.953223Z",
     "start_time": "2020-09-19T16:45:28.819308Z"
    }
   },
   "outputs": [
    {
     "data": {
      "image/png": "[encoded data removed]",
      "text/plain": [
       "<Figure size 432x288 with 1 Axes>"
      ]
     },
     "metadata": {
      "needs_background": "light"
     },
     "output_type": "display_data"
    },
    {
     "data": {
      "application/javascript": [
       "\n",
       "            setTimeout(function() {\n",
       "                var nbb_cell_id = 46;\n",
       "                var nbb_unformatted_code = \"explain_plot(global_explain, all_cols)\";\n",
       "                var nbb_formatted_code = \"explain_plot(global_explain, all_cols)\";\n",
       "                var nbb_cells = Jupyter.notebook.get_cells();\n",
       "                for (var i = 0; i < nbb_cells.length; ++i) {\n",
       "                    if (nbb_cells[i].input_prompt_number == nbb_cell_id) {\n",
       "                        if (nbb_cells[i].get_text() == nbb_unformatted_code) {\n",
       "                             nbb_cells[i].set_text(nbb_formatted_code);\n",
       "                        }\n",
       "                        break;\n",
       "                    }\n",
       "                }\n",
       "            }, 500);\n",
       "            "
      ],
      "text/plain": [
       "<IPython.core.display.Javascript object>"
      ]
     },
     "metadata": {},
     "output_type": "display_data"
    }
   ],
   "source": [
    "explain_plot(global_explain, all_cols)"
   ]
  },
  {
   "cell_type": "markdown",
   "metadata": {},
   "source": [
    "## Explain local"
   ]
  },
  {
   "cell_type": "code",
   "execution_count": 47,
   "metadata": {
    "ExecuteTime": {
     "end_time": "2020-09-19T16:45:31.230844Z",
     "start_time": "2020-09-19T16:45:28.954185Z"
    }
   },
   "outputs": [
    {
     "data": {
      "image/png": "[encoded data removed]",
      "text/plain": [
       "<Figure size 432x288 with 1 Axes>"
      ]
     },
     "metadata": {
      "needs_background": "light"
     },
     "output_type": "display_data"
    },
    {
     "name": "stdout",
     "output_type": "stream",
     "text": [
      "0.40656837821006775\n"
     ]
    },
    {
     "data": {
      "image/png": "[encoded data removed]",
      "text/plain": [
       "<Figure size 432x288 with 1 Axes>"
      ]
     },
     "metadata": {
      "needs_background": "light"
     },
     "output_type": "display_data"
    },
    {
     "name": "stdout",
     "output_type": "stream",
     "text": [
      "0.5740445852279663\n"
     ]
    },
    {
     "data": {
      "image/png": "[encoded data removed]",
      "text/plain": [
       "<Figure size 432x288 with 1 Axes>"
      ]
     },
     "metadata": {
      "needs_background": "light"
     },
     "output_type": "display_data"
    },
    {
     "name": "stdout",
     "output_type": "stream",
     "text": [
      "0.9999502301216125\n"
     ]
    },
    {
     "data": {
      "image/png": "[encoded data removed]",
      "text/plain": [
       "<Figure size 432x288 with 1 Axes>"
      ]
     },
     "metadata": {
      "needs_background": "light"
     },
     "output_type": "display_data"
    },
    {
     "name": "stdout",
     "output_type": "stream",
     "text": [
      "0.004219800233840942\n"
     ]
    },
    {
     "data": {
      "image/png": "[encoded data removed]",
      "text/plain": [
       "<Figure size 432x288 with 1 Axes>"
      ]
     },
     "metadata": {
      "needs_background": "light"
     },
     "output_type": "display_data"
    },
    {
     "name": "stdout",
     "output_type": "stream",
     "text": [
      "0.012794673442840576\n"
     ]
    },
    {
     "data": {
      "image/png": "[encoded data removed]",
      "text/plain": [
       "<Figure size 432x288 with 1 Axes>"
      ]
     },
     "metadata": {
      "needs_background": "light"
     },
     "output_type": "display_data"
    },
    {
     "name": "stdout",
     "output_type": "stream",
     "text": [
      "0.0292949378490448\n"
     ]
    },
    {
     "data": {
      "image/png": "[encoded data removed]",
      "text/plain": [
       "<Figure size 432x288 with 1 Axes>"
      ]
     },
     "metadata": {
      "needs_background": "light"
     },
     "output_type": "display_data"
    },
    {
     "name": "stdout",
     "output_type": "stream",
     "text": [
      "0.9923213720321655\n"
     ]
    },
    {
     "data": {
      "image/png": "[encoded data removed]",
      "text/plain": [
       "<Figure size 432x288 with 1 Axes>"
      ]
     },
     "metadata": {
      "needs_background": "light"
     },
     "output_type": "display_data"
    },
    {
     "name": "stdout",
     "output_type": "stream",
     "text": [
      "0.006976485252380371\n"
     ]
    },
    {
     "data": {
      "image/png": "[encoded data removed]",
      "text/plain": [
       "<Figure size 432x288 with 1 Axes>"
      ]
     },
     "metadata": {
      "needs_background": "light"
     },
     "output_type": "display_data"
    },
    {
     "name": "stdout",
     "output_type": "stream",
     "text": [
      "0.13320696353912354\n"
     ]
    },
    {
     "data": {
      "image/png": "[encoded data removed]",
      "text/plain": [
       "<Figure size 432x288 with 1 Axes>"
      ]
     },
     "metadata": {
      "needs_background": "light"
     },
     "output_type": "display_data"
    },
    {
     "name": "stdout",
     "output_type": "stream",
     "text": [
      "0.9935688376426697\n"
     ]
    },
    {
     "data": {
      "image/png": "[encoded data removed]",
      "text/plain": [
       "<Figure size 432x288 with 1 Axes>"
      ]
     },
     "metadata": {
      "needs_background": "light"
     },
     "output_type": "display_data"
    },
    {
     "name": "stdout",
     "output_type": "stream",
     "text": [
      "0.8314310908317566\n"
     ]
    },
    {
     "data": {
      "image/png": "[encoded data removed]",
      "text/plain": [
       "<Figure size 432x288 with 1 Axes>"
      ]
     },
     "metadata": {
      "needs_background": "light"
     },
     "output_type": "display_data"
    },
    {
     "name": "stdout",
     "output_type": "stream",
     "text": [
      "0.023290157318115234\n"
     ]
    },
    {
     "data": {
      "image/png": "[encoded data removed]",
      "text/plain": [
       "<Figure size 432x288 with 1 Axes>"
      ]
     },
     "metadata": {
      "needs_background": "light"
     },
     "output_type": "display_data"
    },
    {
     "name": "stdout",
     "output_type": "stream",
     "text": [
      "0.4756164848804474\n"
     ]
    },
    {
     "data": {
      "image/png": "[encoded data removed]",
      "text/plain": [
       "<Figure size 432x288 with 1 Axes>"
      ]
     },
     "metadata": {
      "needs_background": "light"
     },
     "output_type": "display_data"
    },
    {
     "name": "stdout",
     "output_type": "stream",
     "text": [
      "0.982921302318573\n"
     ]
    },
    {
     "data": {
      "image/png": "[encoded data removed]",
      "text/plain": [
       "<Figure size 432x288 with 1 Axes>"
      ]
     },
     "metadata": {
      "needs_background": "light"
     },
     "output_type": "display_data"
    },
    {
     "name": "stdout",
     "output_type": "stream",
     "text": [
      "0.9539546966552734\n"
     ]
    },
    {
     "data": {
      "image/png": "[encoded data removed]",
      "text/plain": [
       "<Figure size 432x288 with 1 Axes>"
      ]
     },
     "metadata": {
      "needs_background": "light"
     },
     "output_type": "display_data"
    },
    {
     "name": "stdout",
     "output_type": "stream",
     "text": [
      "0.0009748935699462891\n"
     ]
    },
    {
     "data": {
      "image/png": "[encoded data removed]",
      "text/plain": [
       "<Figure size 432x288 with 1 Axes>"
      ]
     },
     "metadata": {
      "needs_background": "light"
     },
     "output_type": "display_data"
    },
    {
     "name": "stdout",
     "output_type": "stream",
     "text": [
      "0.4797905385494232\n"
     ]
    },
    {
     "data": {
      "image/png": "[encoded data removed]",
      "text/plain": [
       "<Figure size 432x288 with 1 Axes>"
      ]
     },
     "metadata": {
      "needs_background": "light"
     },
     "output_type": "display_data"
    },
    {
     "name": "stdout",
     "output_type": "stream",
     "text": [
      "0.03132927417755127\n"
     ]
    },
    {
     "data": {
      "image/png": "[encoded data removed]",
      "text/plain": [
       "<Figure size 432x288 with 1 Axes>"
      ]
     },
     "metadata": {
      "needs_background": "light"
     },
     "output_type": "display_data"
    },
    {
     "name": "stdout",
     "output_type": "stream",
     "text": [
      "0.9580691456794739\n"
     ]
    },
    {
     "data": {
      "image/png": "[encoded data removed]",
      "text/plain": [
       "<Figure size 432x288 with 1 Axes>"
      ]
     },
     "metadata": {
      "needs_background": "light"
     },
     "output_type": "display_data"
    },
    {
     "name": "stdout",
     "output_type": "stream",
     "text": [
      "0.8032572269439697\n"
     ]
    },
    {
     "data": {
      "application/javascript": [
       "\n",
       "            setTimeout(function() {\n",
       "                var nbb_cell_id = 47;\n",
       "                var nbb_unformatted_code = \"for i in range(20):\\n    explain_plot(explanations[i], all_cols)\\n    print(probs[i].item())\";\n",
       "                var nbb_formatted_code = \"for i in range(20):\\n    explain_plot(explanations[i], all_cols)\\n    print(probs[i].item())\";\n",
       "                var nbb_cells = Jupyter.notebook.get_cells();\n",
       "                for (var i = 0; i < nbb_cells.length; ++i) {\n",
       "                    if (nbb_cells[i].input_prompt_number == nbb_cell_id) {\n",
       "                        if (nbb_cells[i].get_text() == nbb_unformatted_code) {\n",
       "                             nbb_cells[i].set_text(nbb_formatted_code);\n",
       "                        }\n",
       "                        break;\n",
       "                    }\n",
       "                }\n",
       "            }, 500);\n",
       "            "
      ],
      "text/plain": [
       "<IPython.core.display.Javascript object>"
      ]
     },
     "metadata": {},
     "output_type": "display_data"
    }
   ],
   "source": [
    "for i in range(20):\n",
    "    explain_plot(explanations[i], all_cols)\n",
    "    print(probs[i].item())"
   ]
  },
  {
   "cell_type": "code",
   "execution_count": 48,
   "metadata": {
    "ExecuteTime": {
     "end_time": "2020-09-19T16:45:31.254303Z",
     "start_time": "2020-09-19T16:45:31.231768Z"
    }
   },
   "outputs": [
    {
     "data": {
      "application/javascript": [
       "\n",
       "            setTimeout(function() {\n",
       "                var nbb_cell_id = 48;\n",
       "                var nbb_unformatted_code = \"from sklearn.metrics import confusion_matrix\";\n",
       "                var nbb_formatted_code = \"from sklearn.metrics import confusion_matrix\";\n",
       "                var nbb_cells = Jupyter.notebook.get_cells();\n",
       "                for (var i = 0; i < nbb_cells.length; ++i) {\n",
       "                    if (nbb_cells[i].input_prompt_number == nbb_cell_id) {\n",
       "                        if (nbb_cells[i].get_text() == nbb_unformatted_code) {\n",
       "                             nbb_cells[i].set_text(nbb_formatted_code);\n",
       "                        }\n",
       "                        break;\n",
       "                    }\n",
       "                }\n",
       "            }, 500);\n",
       "            "
      ],
      "text/plain": [
       "<IPython.core.display.Javascript object>"
      ]
     },
     "metadata": {},
     "output_type": "display_data"
    }
   ],
   "source": [
    "from sklearn.metrics import confusion_matrix"
   ]
  },
  {
   "cell_type": "code",
   "execution_count": 49,
   "metadata": {
    "ExecuteTime": {
     "end_time": "2020-09-19T16:45:31.279614Z",
     "start_time": "2020-09-19T16:45:31.255183Z"
    }
   },
   "outputs": [
    {
     "data": {
      "text/plain": [
       "(array([0, 1]), array([12434,  3846]))"
      ]
     },
     "execution_count": 49,
     "metadata": {},
     "output_type": "execute_result"
    },
    {
     "data": {
      "application/javascript": [
       "\n",
       "            setTimeout(function() {\n",
       "                var nbb_cell_id = 49;\n",
       "                var nbb_unformatted_code = \"np.unique(y_test, return_counts=True)\";\n",
       "                var nbb_formatted_code = \"np.unique(y_test, return_counts=True)\";\n",
       "                var nbb_cells = Jupyter.notebook.get_cells();\n",
       "                for (var i = 0; i < nbb_cells.length; ++i) {\n",
       "                    if (nbb_cells[i].input_prompt_number == nbb_cell_id) {\n",
       "                        if (nbb_cells[i].get_text() == nbb_unformatted_code) {\n",
       "                             nbb_cells[i].set_text(nbb_formatted_code);\n",
       "                        }\n",
       "                        break;\n",
       "                    }\n",
       "                }\n",
       "            }, 500);\n",
       "            "
      ],
      "text/plain": [
       "<IPython.core.display.Javascript object>"
      ]
     },
     "metadata": {},
     "output_type": "display_data"
    }
   ],
   "source": [
    "np.unique(y_test, return_counts=True)"
   ]
  },
  {
   "cell_type": "code",
   "execution_count": 50,
   "metadata": {
    "ExecuteTime": {
     "end_time": "2020-09-19T16:45:31.304089Z",
     "start_time": "2020-09-19T16:45:31.280641Z"
    }
   },
   "outputs": [
    {
     "data": {
      "text/plain": [
       "array([0, 1, 1, ..., 0, 0, 1])"
      ]
     },
     "execution_count": 50,
     "metadata": {},
     "output_type": "execute_result"
    },
    {
     "data": {
      "application/javascript": [
       "\n",
       "            setTimeout(function() {\n",
       "                var nbb_cell_id = 50;\n",
       "                var nbb_unformatted_code = \"y_test\";\n",
       "                var nbb_formatted_code = \"y_test\";\n",
       "                var nbb_cells = Jupyter.notebook.get_cells();\n",
       "                for (var i = 0; i < nbb_cells.length; ++i) {\n",
       "                    if (nbb_cells[i].input_prompt_number == nbb_cell_id) {\n",
       "                        if (nbb_cells[i].get_text() == nbb_unformatted_code) {\n",
       "                             nbb_cells[i].set_text(nbb_formatted_code);\n",
       "                        }\n",
       "                        break;\n",
       "                    }\n",
       "                }\n",
       "            }, 500);\n",
       "            "
      ],
      "text/plain": [
       "<IPython.core.display.Javascript object>"
      ]
     },
     "metadata": {},
     "output_type": "display_data"
    }
   ],
   "source": [
    "y_test"
   ]
  },
  {
   "cell_type": "code",
   "execution_count": 51,
   "metadata": {
    "ExecuteTime": {
     "end_time": "2020-09-19T16:45:31.329168Z",
     "start_time": "2020-09-19T16:45:31.304990Z"
    }
   },
   "outputs": [
    {
     "data": {
      "text/plain": [
       "array(['<=50K', '>50K'], dtype=object)"
      ]
     },
     "execution_count": 51,
     "metadata": {},
     "output_type": "execute_result"
    },
    {
     "data": {
      "application/javascript": [
       "\n",
       "            setTimeout(function() {\n",
       "                var nbb_cell_id = 51;\n",
       "                var nbb_unformatted_code = \"target_encoder.classes_\";\n",
       "                var nbb_formatted_code = \"target_encoder.classes_\";\n",
       "                var nbb_cells = Jupyter.notebook.get_cells();\n",
       "                for (var i = 0; i < nbb_cells.length; ++i) {\n",
       "                    if (nbb_cells[i].input_prompt_number == nbb_cell_id) {\n",
       "                        if (nbb_cells[i].get_text() == nbb_unformatted_code) {\n",
       "                             nbb_cells[i].set_text(nbb_formatted_code);\n",
       "                        }\n",
       "                        break;\n",
       "                    }\n",
       "                }\n",
       "            }, 500);\n",
       "            "
      ],
      "text/plain": [
       "<IPython.core.display.Javascript object>"
      ]
     },
     "metadata": {},
     "output_type": "display_data"
    }
   ],
   "source": [
    "target_encoder.classes_"
   ]
  },
  {
   "cell_type": "code",
   "execution_count": 52,
   "metadata": {
    "ExecuteTime": {
     "end_time": "2020-09-19T16:45:31.573133Z",
     "start_time": "2020-09-19T16:45:31.330377Z"
    }
   },
   "outputs": [
    {
     "data": {
      "text/plain": [
       "array([[10234,  2200],\n",
       "       [  542,  3304]])"
      ]
     },
     "execution_count": 52,
     "metadata": {},
     "output_type": "execute_result"
    },
    {
     "data": {
      "application/javascript": [
       "\n",
       "            setTimeout(function() {\n",
       "                var nbb_cell_id = 52;\n",
       "                var nbb_unformatted_code = \"confusion_matrix(\\n    y_true=y_test,\\n    y_pred=model.predict(input_test).reshape(-1) >= 0.5,\\n    # labels=target_encoder.classes_,\\n)\";\n",
       "                var nbb_formatted_code = \"confusion_matrix(\\n    y_true=y_test,\\n    y_pred=model.predict(input_test).reshape(-1) >= 0.5,\\n    # labels=target_encoder.classes_,\\n)\";\n",
       "                var nbb_cells = Jupyter.notebook.get_cells();\n",
       "                for (var i = 0; i < nbb_cells.length; ++i) {\n",
       "                    if (nbb_cells[i].input_prompt_number == nbb_cell_id) {\n",
       "                        if (nbb_cells[i].get_text() == nbb_unformatted_code) {\n",
       "                             nbb_cells[i].set_text(nbb_formatted_code);\n",
       "                        }\n",
       "                        break;\n",
       "                    }\n",
       "                }\n",
       "            }, 500);\n",
       "            "
      ],
      "text/plain": [
       "<IPython.core.display.Javascript object>"
      ]
     },
     "metadata": {},
     "output_type": "display_data"
    }
   ],
   "source": [
    "confusion_matrix(\n",
    "    y_true=y_test,\n",
    "    y_pred=model.predict(input_test).reshape(-1) >= 0.5,\n",
    "    # labels=target_encoder.classes_,\n",
    ")"
   ]
  }
 ],
 "metadata": {
  "kernelspec": {
   "display_name": "Python 3",
   "language": "python",
   "name": "python3"
  },
  "language_info": {
   "codemirror_mode": {
    "name": "ipython",
    "version": 3
   },
   "file_extension": ".py",
   "mimetype": "text/x-python",
   "name": "python",
   "nbconvert_exporter": "python",
   "pygments_lexer": "ipython3",
   "version": "3.7.9"
  }
 },
 "nbformat": 4,
 "nbformat_minor": 4
}
