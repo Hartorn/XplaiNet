{
 "cells": [
  {
   "cell_type": "code",
   "execution_count": 1,
   "metadata": {
    "ExecuteTime": {
     "end_time": "2020-09-19T17:12:11.463213Z",
     "start_time": "2020-09-19T17:12:11.378123Z"
    }
   },
   "outputs": [
    {
     "data": {
      "application/javascript": [
       "\n",
       "            setTimeout(function() {\n",
       "                var nbb_cell_id = 1;\n",
       "                var nbb_unformatted_code = \"%load_ext nb_black\\n%load_ext autoreload\\n\\n%autoreload 2\";\n",
       "                var nbb_formatted_code = \"%load_ext nb_black\\n%load_ext autoreload\\n\\n%autoreload 2\";\n",
       "                var nbb_cells = Jupyter.notebook.get_cells();\n",
       "                for (var i = 0; i < nbb_cells.length; ++i) {\n",
       "                    if (nbb_cells[i].input_prompt_number == nbb_cell_id) {\n",
       "                        if (nbb_cells[i].get_text() == nbb_unformatted_code) {\n",
       "                             nbb_cells[i].set_text(nbb_formatted_code);\n",
       "                        }\n",
       "                        break;\n",
       "                    }\n",
       "                }\n",
       "            }, 500);\n",
       "            "
      ],
      "text/plain": [
       "<IPython.core.display.Javascript object>"
      ]
     },
     "metadata": {},
     "output_type": "display_data"
    }
   ],
   "source": [
    "%load_ext nb_black\n",
    "%load_ext autoreload\n",
    "\n",
    "%autoreload 2"
   ]
  },
  {
   "cell_type": "code",
   "execution_count": 2,
   "metadata": {
    "ExecuteTime": {
     "end_time": "2020-09-19T17:12:12.694106Z",
     "start_time": "2020-09-19T17:12:11.464581Z"
    }
   },
   "outputs": [
    {
     "data": {
      "application/javascript": [
       "\n",
       "            setTimeout(function() {\n",
       "                var nbb_cell_id = 2;\n",
       "                var nbb_unformatted_code = \"import os\\nfrom pathlib import Path\\n\\nfrom requests import get\\nimport pandas as pd\\nimport numpy as np\\n\\nfrom sklearn.metrics import mean_absolute_error, mean_squared_error\\nfrom sklearn.preprocessing import LabelEncoder, StandardScaler\\nfrom tensorflow.keras.utils import plot_model\\nfrom tensorflow.keras.callbacks import EarlyStopping\\n\\nimport logging\\n\\nlogging.basicConfig(level=logging.WARN)\";\n",
       "                var nbb_formatted_code = \"import os\\nfrom pathlib import Path\\n\\nfrom requests import get\\nimport pandas as pd\\nimport numpy as np\\n\\nfrom sklearn.metrics import mean_absolute_error, mean_squared_error\\nfrom sklearn.preprocessing import LabelEncoder, StandardScaler\\nfrom tensorflow.keras.utils import plot_model\\nfrom tensorflow.keras.callbacks import EarlyStopping\\n\\nimport logging\\n\\nlogging.basicConfig(level=logging.WARN)\";\n",
       "                var nbb_cells = Jupyter.notebook.get_cells();\n",
       "                for (var i = 0; i < nbb_cells.length; ++i) {\n",
       "                    if (nbb_cells[i].input_prompt_number == nbb_cell_id) {\n",
       "                        if (nbb_cells[i].get_text() == nbb_unformatted_code) {\n",
       "                             nbb_cells[i].set_text(nbb_formatted_code);\n",
       "                        }\n",
       "                        break;\n",
       "                    }\n",
       "                }\n",
       "            }, 500);\n",
       "            "
      ],
      "text/plain": [
       "<IPython.core.display.Javascript object>"
      ]
     },
     "metadata": {},
     "output_type": "display_data"
    }
   ],
   "source": [
    "import os\n",
    "from pathlib import Path\n",
    "\n",
    "from requests import get\n",
    "import pandas as pd\n",
    "import numpy as np\n",
    "\n",
    "from sklearn.metrics import mean_absolute_error, mean_squared_error\n",
    "from sklearn.preprocessing import LabelEncoder, StandardScaler\n",
    "from tensorflow.keras.utils import plot_model\n",
    "from tensorflow.keras.callbacks import EarlyStopping\n",
    "\n",
    "import logging\n",
    "\n",
    "logging.basicConfig(level=logging.WARN)"
   ]
  },
  {
   "cell_type": "code",
   "execution_count": 3,
   "metadata": {
    "ExecuteTime": {
     "end_time": "2020-09-19T17:12:12.879205Z",
     "start_time": "2020-09-19T17:12:12.695765Z"
    }
   },
   "outputs": [
    {
     "data": {
      "application/javascript": [
       "\n",
       "            setTimeout(function() {\n",
       "                var nbb_cell_id = 3;\n",
       "                var nbb_unformatted_code = \"from xplainet.input_utils import preproc_dataset\\nfrom xplainet.model import build_model\\nfrom xplainet.random_utils import setup_seed, SEED\\nfrom sklearn.model_selection import ShuffleSplit\\n\\nimport matplotlib.pyplot as plt\\nfrom matplotlib.pyplot import imshow\\n\\n%matplotlib inline\\n\\nfrom zipfile import ZipFile\";\n",
       "                var nbb_formatted_code = \"from xplainet.input_utils import preproc_dataset\\nfrom xplainet.model import build_model\\nfrom xplainet.random_utils import setup_seed, SEED\\nfrom sklearn.model_selection import ShuffleSplit\\n\\nimport matplotlib.pyplot as plt\\nfrom matplotlib.pyplot import imshow\\n\\n%matplotlib inline\\n\\nfrom zipfile import ZipFile\";\n",
       "                var nbb_cells = Jupyter.notebook.get_cells();\n",
       "                for (var i = 0; i < nbb_cells.length; ++i) {\n",
       "                    if (nbb_cells[i].input_prompt_number == nbb_cell_id) {\n",
       "                        if (nbb_cells[i].get_text() == nbb_unformatted_code) {\n",
       "                             nbb_cells[i].set_text(nbb_formatted_code);\n",
       "                        }\n",
       "                        break;\n",
       "                    }\n",
       "                }\n",
       "            }, 500);\n",
       "            "
      ],
      "text/plain": [
       "<IPython.core.display.Javascript object>"
      ]
     },
     "metadata": {},
     "output_type": "display_data"
    }
   ],
   "source": [
    "from xplainet.input_utils import preproc_dataset\n",
    "from xplainet.model import build_model\n",
    "from xplainet.random_utils import setup_seed, SEED\n",
    "from sklearn.model_selection import ShuffleSplit\n",
    "\n",
    "import matplotlib.pyplot as plt\n",
    "from matplotlib.pyplot import imshow\n",
    "\n",
    "%matplotlib inline\n",
    "\n",
    "from zipfile import ZipFile"
   ]
  },
  {
   "cell_type": "code",
   "execution_count": 4,
   "metadata": {
    "ExecuteTime": {
     "end_time": "2020-09-19T17:12:12.902319Z",
     "start_time": "2020-09-19T17:12:12.880236Z"
    }
   },
   "outputs": [
    {
     "data": {
      "application/javascript": [
       "\n",
       "            setTimeout(function() {\n",
       "                var nbb_cell_id = 4;\n",
       "                var nbb_unformatted_code = \"setup_seed()\";\n",
       "                var nbb_formatted_code = \"setup_seed()\";\n",
       "                var nbb_cells = Jupyter.notebook.get_cells();\n",
       "                for (var i = 0; i < nbb_cells.length; ++i) {\n",
       "                    if (nbb_cells[i].input_prompt_number == nbb_cell_id) {\n",
       "                        if (nbb_cells[i].get_text() == nbb_unformatted_code) {\n",
       "                             nbb_cells[i].set_text(nbb_formatted_code);\n",
       "                        }\n",
       "                        break;\n",
       "                    }\n",
       "                }\n",
       "            }, 500);\n",
       "            "
      ],
      "text/plain": [
       "<IPython.core.display.Javascript object>"
      ]
     },
     "metadata": {},
     "output_type": "display_data"
    }
   ],
   "source": [
    "setup_seed()"
   ]
  },
  {
   "cell_type": "code",
   "execution_count": 5,
   "metadata": {
    "ExecuteTime": {
     "end_time": "2020-09-19T17:12:12.986358Z",
     "start_time": "2020-09-19T17:12:12.903233Z"
    }
   },
   "outputs": [
    {
     "data": {
      "application/javascript": [
       "\n",
       "            setTimeout(function() {\n",
       "                var nbb_cell_id = 5;\n",
       "                var nbb_unformatted_code = \"def download(url, out, force=False, verify=True):\\n    out.parent.mkdir(parents=True, exist_ok=True)\\n    if force and out.exists():\\n        print(f\\\"Removing file at {str(out)}\\\")\\n        out.unlink()\\n\\n    if out.exists():\\n        print(\\\"File already exists.\\\")\\n        return\\n    print(f\\\"Downloading {url} at {str(out)} ...\\\")\\n    # open in binary mode\\n    with out.open(mode=\\\"wb\\\") as file:\\n        # get request\\n        response = get(url, verify=verify)\\n        for chunk in response.iter_content(100000):\\n            # write to file\\n            file.write(chunk)\";\n",
       "                var nbb_formatted_code = \"def download(url, out, force=False, verify=True):\\n    out.parent.mkdir(parents=True, exist_ok=True)\\n    if force and out.exists():\\n        print(f\\\"Removing file at {str(out)}\\\")\\n        out.unlink()\\n\\n    if out.exists():\\n        print(\\\"File already exists.\\\")\\n        return\\n    print(f\\\"Downloading {url} at {str(out)} ...\\\")\\n    # open in binary mode\\n    with out.open(mode=\\\"wb\\\") as file:\\n        # get request\\n        response = get(url, verify=verify)\\n        for chunk in response.iter_content(100000):\\n            # write to file\\n            file.write(chunk)\";\n",
       "                var nbb_cells = Jupyter.notebook.get_cells();\n",
       "                for (var i = 0; i < nbb_cells.length; ++i) {\n",
       "                    if (nbb_cells[i].input_prompt_number == nbb_cell_id) {\n",
       "                        if (nbb_cells[i].get_text() == nbb_unformatted_code) {\n",
       "                             nbb_cells[i].set_text(nbb_formatted_code);\n",
       "                        }\n",
       "                        break;\n",
       "                    }\n",
       "                }\n",
       "            }, 500);\n",
       "            "
      ],
      "text/plain": [
       "<IPython.core.display.Javascript object>"
      ]
     },
     "metadata": {},
     "output_type": "display_data"
    }
   ],
   "source": [
    "def download(url, out, force=False, verify=True):\n",
    "    out.parent.mkdir(parents=True, exist_ok=True)\n",
    "    if force and out.exists():\n",
    "        print(f\"Removing file at {str(out)}\")\n",
    "        out.unlink()\n",
    "\n",
    "    if out.exists():\n",
    "        print(\"File already exists.\")\n",
    "        return\n",
    "    print(f\"Downloading {url} at {str(out)} ...\")\n",
    "    # open in binary mode\n",
    "    with out.open(mode=\"wb\") as file:\n",
    "        # get request\n",
    "        response = get(url, verify=verify)\n",
    "        for chunk in response.iter_content(100000):\n",
    "            # write to file\n",
    "            file.write(chunk)\n"
   ]
  },
  {
   "cell_type": "code",
   "execution_count": 6,
   "metadata": {
    "ExecuteTime": {
     "end_time": "2020-09-19T17:12:13.031207Z",
     "start_time": "2020-09-19T17:12:12.987309Z"
    }
   },
   "outputs": [
    {
     "data": {
      "application/javascript": [
       "\n",
       "            setTimeout(function() {\n",
       "                var nbb_cell_id = 6;\n",
       "                var nbb_unformatted_code = \"def plot_history(history):\\n    loss_list = [s for s in history.history.keys() if \\\"loss\\\" in s and \\\"val\\\" not in s]\\n    val_loss_list = [s for s in history.history.keys() if \\\"loss\\\" in s and \\\"val\\\" in s]\\n    acc_list = [s for s in history.history.keys() if \\\"AUC\\\" in s and \\\"val\\\" not in s]\\n    val_acc_list = [s for s in history.history.keys() if \\\"AUC\\\" in s and \\\"val\\\" in s]\\n\\n    if len(loss_list) == 0:\\n        print(\\\"Loss is missing in history\\\")\\n        return\\n\\n    ## As loss always exists\\n    epochs = range(1, len(history.history[loss_list[0]]) + 1)\\n\\n    ## Loss\\n    plt.figure(1)\\n    for l in loss_list:\\n        plt.plot(\\n            epochs,\\n            history.history[l],\\n            \\\"b\\\",\\n            label=\\\"Training loss (\\\"\\n            + str(str(format(history.history[l][-1], \\\".5f\\\")) + \\\")\\\"),\\n        )\\n    for l in val_loss_list:\\n        plt.plot(\\n            epochs,\\n            history.history[l],\\n            \\\"g\\\",\\n            label=\\\"Validation loss (\\\"\\n            + str(str(format(history.history[l][-1], \\\".5f\\\")) + \\\")\\\"),\\n        )\\n\\n    plt.title(\\\"Loss\\\")\\n    plt.xlabel(\\\"Epochs\\\")\\n    plt.ylabel(\\\"Loss\\\")\\n    plt.legend()\\n\\n    plt.show()\";\n",
       "                var nbb_formatted_code = \"def plot_history(history):\\n    loss_list = [s for s in history.history.keys() if \\\"loss\\\" in s and \\\"val\\\" not in s]\\n    val_loss_list = [s for s in history.history.keys() if \\\"loss\\\" in s and \\\"val\\\" in s]\\n    acc_list = [s for s in history.history.keys() if \\\"AUC\\\" in s and \\\"val\\\" not in s]\\n    val_acc_list = [s for s in history.history.keys() if \\\"AUC\\\" in s and \\\"val\\\" in s]\\n\\n    if len(loss_list) == 0:\\n        print(\\\"Loss is missing in history\\\")\\n        return\\n\\n    ## As loss always exists\\n    epochs = range(1, len(history.history[loss_list[0]]) + 1)\\n\\n    ## Loss\\n    plt.figure(1)\\n    for l in loss_list:\\n        plt.plot(\\n            epochs,\\n            history.history[l],\\n            \\\"b\\\",\\n            label=\\\"Training loss (\\\"\\n            + str(str(format(history.history[l][-1], \\\".5f\\\")) + \\\")\\\"),\\n        )\\n    for l in val_loss_list:\\n        plt.plot(\\n            epochs,\\n            history.history[l],\\n            \\\"g\\\",\\n            label=\\\"Validation loss (\\\"\\n            + str(str(format(history.history[l][-1], \\\".5f\\\")) + \\\")\\\"),\\n        )\\n\\n    plt.title(\\\"Loss\\\")\\n    plt.xlabel(\\\"Epochs\\\")\\n    plt.ylabel(\\\"Loss\\\")\\n    plt.legend()\\n\\n    plt.show()\";\n",
       "                var nbb_cells = Jupyter.notebook.get_cells();\n",
       "                for (var i = 0; i < nbb_cells.length; ++i) {\n",
       "                    if (nbb_cells[i].input_prompt_number == nbb_cell_id) {\n",
       "                        if (nbb_cells[i].get_text() == nbb_unformatted_code) {\n",
       "                             nbb_cells[i].set_text(nbb_formatted_code);\n",
       "                        }\n",
       "                        break;\n",
       "                    }\n",
       "                }\n",
       "            }, 500);\n",
       "            "
      ],
      "text/plain": [
       "<IPython.core.display.Javascript object>"
      ]
     },
     "metadata": {},
     "output_type": "display_data"
    }
   ],
   "source": [
    "def plot_history(history):\n",
    "    loss_list = [s for s in history.history.keys() if \"loss\" in s and \"val\" not in s]\n",
    "    val_loss_list = [s for s in history.history.keys() if \"loss\" in s and \"val\" in s]\n",
    "    acc_list = [s for s in history.history.keys() if \"AUC\" in s and \"val\" not in s]\n",
    "    val_acc_list = [s for s in history.history.keys() if \"AUC\" in s and \"val\" in s]\n",
    "\n",
    "    if len(loss_list) == 0:\n",
    "        print(\"Loss is missing in history\")\n",
    "        return\n",
    "\n",
    "    ## As loss always exists\n",
    "    epochs = range(1, len(history.history[loss_list[0]]) + 1)\n",
    "\n",
    "    ## Loss\n",
    "    plt.figure(1)\n",
    "    for l in loss_list:\n",
    "        plt.plot(\n",
    "            epochs,\n",
    "            history.history[l],\n",
    "            \"b\",\n",
    "            label=\"Training loss (\"\n",
    "            + str(str(format(history.history[l][-1], \".5f\")) + \")\"),\n",
    "        )\n",
    "    for l in val_loss_list:\n",
    "        plt.plot(\n",
    "            epochs,\n",
    "            history.history[l],\n",
    "            \"g\",\n",
    "            label=\"Validation loss (\"\n",
    "            + str(str(format(history.history[l][-1], \".5f\")) + \")\"),\n",
    "        )\n",
    "\n",
    "    plt.title(\"Loss\")\n",
    "    plt.xlabel(\"Epochs\")\n",
    "    plt.ylabel(\"Loss\")\n",
    "    plt.legend()\n",
    "\n",
    "    plt.show()"
   ]
  },
  {
   "cell_type": "markdown",
   "metadata": {},
   "source": [
    "## Bank marketing : loading data"
   ]
  },
  {
   "cell_type": "code",
   "execution_count": 7,
   "metadata": {
    "ExecuteTime": {
     "end_time": "2020-09-19T17:12:13.072505Z",
     "start_time": "2020-09-19T17:12:13.032172Z"
    }
   },
   "outputs": [
    {
     "data": {
      "application/javascript": [
       "\n",
       "            setTimeout(function() {\n",
       "                var nbb_cell_id = 7;\n",
       "                var nbb_unformatted_code = \"dataset_name = \\\"kaggle-house-prices\\\"\\nout = Path(os.getcwd() + \\\"/data/\\\" + dataset_name + \\\"-train.csv\\\")\\n\\ntarget = \\\"SalePrice\\\"\\nto_remove = []\\ntrain = pd.read_csv(out, sep=\\\",\\\", low_memory=False)\";\n",
       "                var nbb_formatted_code = \"dataset_name = \\\"kaggle-house-prices\\\"\\nout = Path(os.getcwd() + \\\"/data/\\\" + dataset_name + \\\"-train.csv\\\")\\n\\ntarget = \\\"SalePrice\\\"\\nto_remove = []\\ntrain = pd.read_csv(out, sep=\\\",\\\", low_memory=False)\";\n",
       "                var nbb_cells = Jupyter.notebook.get_cells();\n",
       "                for (var i = 0; i < nbb_cells.length; ++i) {\n",
       "                    if (nbb_cells[i].input_prompt_number == nbb_cell_id) {\n",
       "                        if (nbb_cells[i].get_text() == nbb_unformatted_code) {\n",
       "                             nbb_cells[i].set_text(nbb_formatted_code);\n",
       "                        }\n",
       "                        break;\n",
       "                    }\n",
       "                }\n",
       "            }, 500);\n",
       "            "
      ],
      "text/plain": [
       "<IPython.core.display.Javascript object>"
      ]
     },
     "metadata": {},
     "output_type": "display_data"
    }
   ],
   "source": [
    "dataset_name = \"kaggle-house-prices\"\n",
    "out = Path(os.getcwd() + \"/data/\" + dataset_name + \"-train.csv\")\n",
    "\n",
    "target = \"SalePrice\"\n",
    "to_remove = []\n",
    "train = pd.read_csv(out, sep=\",\", low_memory=False)"
   ]
  },
  {
   "cell_type": "code",
   "execution_count": 8,
   "metadata": {
    "ExecuteTime": {
     "end_time": "2020-09-19T17:12:13.308917Z",
     "start_time": "2020-09-19T17:12:13.074139Z"
    }
   },
   "outputs": [
    {
     "name": "stdout",
     "output_type": "stream",
     "text": [
      "census-income.csv\tforest-cover-type.zip\t       wine-quality.csv\r\n",
      "census-income_test.csv\tkaggle-house-prices-test.csv\r\n",
      "forest-cover-type.csv\tkaggle-house-prices-train.csv\r\n"
     ]
    },
    {
     "data": {
      "application/javascript": [
       "\n",
       "            setTimeout(function() {\n",
       "                var nbb_cell_id = 8;\n",
       "                var nbb_unformatted_code = \"!ls data\";\n",
       "                var nbb_formatted_code = \"!ls data\";\n",
       "                var nbb_cells = Jupyter.notebook.get_cells();\n",
       "                for (var i = 0; i < nbb_cells.length; ++i) {\n",
       "                    if (nbb_cells[i].input_prompt_number == nbb_cell_id) {\n",
       "                        if (nbb_cells[i].get_text() == nbb_unformatted_code) {\n",
       "                             nbb_cells[i].set_text(nbb_formatted_code);\n",
       "                        }\n",
       "                        break;\n",
       "                    }\n",
       "                }\n",
       "            }, 500);\n",
       "            "
      ],
      "text/plain": [
       "<IPython.core.display.Javascript object>"
      ]
     },
     "metadata": {},
     "output_type": "display_data"
    }
   ],
   "source": [
    "!ls data"
   ]
  },
  {
   "cell_type": "code",
   "execution_count": 9,
   "metadata": {
    "ExecuteTime": {
     "end_time": "2020-09-19T17:12:13.364073Z",
     "start_time": "2020-09-19T17:12:13.314701Z"
    }
   },
   "outputs": [
    {
     "data": {
      "text/plain": [
       "(1460, 81)"
      ]
     },
     "execution_count": 9,
     "metadata": {},
     "output_type": "execute_result"
    },
    {
     "data": {
      "application/javascript": [
       "\n",
       "            setTimeout(function() {\n",
       "                var nbb_cell_id = 9;\n",
       "                var nbb_unformatted_code = \"train.shape\";\n",
       "                var nbb_formatted_code = \"train.shape\";\n",
       "                var nbb_cells = Jupyter.notebook.get_cells();\n",
       "                for (var i = 0; i < nbb_cells.length; ++i) {\n",
       "                    if (nbb_cells[i].input_prompt_number == nbb_cell_id) {\n",
       "                        if (nbb_cells[i].get_text() == nbb_unformatted_code) {\n",
       "                             nbb_cells[i].set_text(nbb_formatted_code);\n",
       "                        }\n",
       "                        break;\n",
       "                    }\n",
       "                }\n",
       "            }, 500);\n",
       "            "
      ],
      "text/plain": [
       "<IPython.core.display.Javascript object>"
      ]
     },
     "metadata": {},
     "output_type": "display_data"
    }
   ],
   "source": [
    "train.shape"
   ]
  },
  {
   "cell_type": "code",
   "execution_count": 10,
   "metadata": {
    "ExecuteTime": {
     "end_time": "2020-09-19T17:12:13.389005Z",
     "start_time": "2020-09-19T17:12:13.365104Z"
    }
   },
   "outputs": [
    {
     "data": {
      "text/plain": [
       "Index(['Id', 'MSSubClass', 'MSZoning', 'LotFrontage', 'LotArea', 'Street',\n",
       "       'Alley', 'LotShape', 'LandContour', 'Utilities', 'LotConfig',\n",
       "       'LandSlope', 'Neighborhood', 'Condition1', 'Condition2', 'BldgType',\n",
       "       'HouseStyle', 'OverallQual', 'OverallCond', 'YearBuilt', 'YearRemodAdd',\n",
       "       'RoofStyle', 'RoofMatl', 'Exterior1st', 'Exterior2nd', 'MasVnrType',\n",
       "       'MasVnrArea', 'ExterQual', 'ExterCond', 'Foundation', 'BsmtQual',\n",
       "       'BsmtCond', 'BsmtExposure', 'BsmtFinType1', 'BsmtFinSF1',\n",
       "       'BsmtFinType2', 'BsmtFinSF2', 'BsmtUnfSF', 'TotalBsmtSF', 'Heating',\n",
       "       'HeatingQC', 'CentralAir', 'Electrical', '1stFlrSF', '2ndFlrSF',\n",
       "       'LowQualFinSF', 'GrLivArea', 'BsmtFullBath', 'BsmtHalfBath', 'FullBath',\n",
       "       'HalfBath', 'BedroomAbvGr', 'KitchenAbvGr', 'KitchenQual',\n",
       "       'TotRmsAbvGrd', 'Functional', 'Fireplaces', 'FireplaceQu', 'GarageType',\n",
       "       'GarageYrBlt', 'GarageFinish', 'GarageCars', 'GarageArea', 'GarageQual',\n",
       "       'GarageCond', 'PavedDrive', 'WoodDeckSF', 'OpenPorchSF',\n",
       "       'EnclosedPorch', '3SsnPorch', 'ScreenPorch', 'PoolArea', 'PoolQC',\n",
       "       'Fence', 'MiscFeature', 'MiscVal', 'MoSold', 'YrSold', 'SaleType',\n",
       "       'SaleCondition', 'SalePrice'],\n",
       "      dtype='object')"
      ]
     },
     "execution_count": 10,
     "metadata": {},
     "output_type": "execute_result"
    },
    {
     "data": {
      "application/javascript": [
       "\n",
       "            setTimeout(function() {\n",
       "                var nbb_cell_id = 10;\n",
       "                var nbb_unformatted_code = \"train.columns\";\n",
       "                var nbb_formatted_code = \"train.columns\";\n",
       "                var nbb_cells = Jupyter.notebook.get_cells();\n",
       "                for (var i = 0; i < nbb_cells.length; ++i) {\n",
       "                    if (nbb_cells[i].input_prompt_number == nbb_cell_id) {\n",
       "                        if (nbb_cells[i].get_text() == nbb_unformatted_code) {\n",
       "                             nbb_cells[i].set_text(nbb_formatted_code);\n",
       "                        }\n",
       "                        break;\n",
       "                    }\n",
       "                }\n",
       "            }, 500);\n",
       "            "
      ],
      "text/plain": [
       "<IPython.core.display.Javascript object>"
      ]
     },
     "metadata": {},
     "output_type": "display_data"
    }
   ],
   "source": [
    "train.columns"
   ]
  },
  {
   "cell_type": "code",
   "execution_count": 11,
   "metadata": {
    "ExecuteTime": {
     "end_time": "2020-09-19T17:12:13.426247Z",
     "start_time": "2020-09-19T17:12:13.389928Z"
    }
   },
   "outputs": [
    {
     "name": "stdout",
     "output_type": "stream",
     "text": [
      "Building tailored column\n"
     ]
    },
    {
     "name": "stderr",
     "output_type": "stream",
     "text": [
      "/work/.cache/poetry/xplainet-KS9Ipbc1-py3.7/lib/python3.7/site-packages/ipykernel_launcher.py:14: SettingWithCopyWarning: \n",
      "A value is trying to be set on a copy of a slice from a DataFrame\n",
      "\n",
      "See the caveats in the documentation: https://pandas.pydata.org/pandas-docs/stable/user_guide/indexing.html#returning-a-view-versus-a-copy\n",
      "  \n",
      "/work/.cache/poetry/xplainet-KS9Ipbc1-py3.7/lib/python3.7/site-packages/pandas/core/indexing.py:670: SettingWithCopyWarning: \n",
      "A value is trying to be set on a copy of a slice from a DataFrame\n",
      "\n",
      "See the caveats in the documentation: https://pandas.pydata.org/pandas-docs/stable/user_guide/indexing.html#returning-a-view-versus-a-copy\n",
      "  iloc._setitem_with_indexer(indexer, value)\n",
      "/work/.cache/poetry/xplainet-KS9Ipbc1-py3.7/lib/python3.7/site-packages/ipykernel_launcher.py:15: SettingWithCopyWarning: \n",
      "A value is trying to be set on a copy of a slice from a DataFrame\n",
      "\n",
      "See the caveats in the documentation: https://pandas.pydata.org/pandas-docs/stable/user_guide/indexing.html#returning-a-view-versus-a-copy\n",
      "  from ipykernel import kernelapp as app\n"
     ]
    },
    {
     "data": {
      "application/javascript": [
       "\n",
       "            setTimeout(function() {\n",
       "                var nbb_cell_id = 11;\n",
       "                var nbb_unformatted_code = \"if \\\"Set\\\" not in train.columns:\\n    print(\\\"Building tailored column\\\")\\n    train_valid_index, test_index = next(\\n        ShuffleSplit(n_splits=1, test_size=0.1, random_state=SEED).split(\\n            range(train[target].shape[0])\\n        )\\n    )\\n    train_index, valid_index = next(\\n        ShuffleSplit(n_splits=1, test_size=0.1, random_state=SEED).split(\\n            train_valid_index\\n        )\\n    )\\n    train[\\\"Set\\\"] = \\\"train\\\"\\n    train[\\\"Set\\\"][valid_index] = \\\"valid\\\"\\n    train[\\\"Set\\\"][test_index] = \\\"test\\\"\\n    # train.to_csv((out.parent / \\\"train_bench.csv\\\").as_posix(), index=False)\";\n",
       "                var nbb_formatted_code = \"if \\\"Set\\\" not in train.columns:\\n    print(\\\"Building tailored column\\\")\\n    train_valid_index, test_index = next(\\n        ShuffleSplit(n_splits=1, test_size=0.1, random_state=SEED).split(\\n            range(train[target].shape[0])\\n        )\\n    )\\n    train_index, valid_index = next(\\n        ShuffleSplit(n_splits=1, test_size=0.1, random_state=SEED).split(\\n            train_valid_index\\n        )\\n    )\\n    train[\\\"Set\\\"] = \\\"train\\\"\\n    train[\\\"Set\\\"][valid_index] = \\\"valid\\\"\\n    train[\\\"Set\\\"][test_index] = \\\"test\\\"\\n    # train.to_csv((out.parent / \\\"train_bench.csv\\\").as_posix(), index=False)\";\n",
       "                var nbb_cells = Jupyter.notebook.get_cells();\n",
       "                for (var i = 0; i < nbb_cells.length; ++i) {\n",
       "                    if (nbb_cells[i].input_prompt_number == nbb_cell_id) {\n",
       "                        if (nbb_cells[i].get_text() == nbb_unformatted_code) {\n",
       "                             nbb_cells[i].set_text(nbb_formatted_code);\n",
       "                        }\n",
       "                        break;\n",
       "                    }\n",
       "                }\n",
       "            }, 500);\n",
       "            "
      ],
      "text/plain": [
       "<IPython.core.display.Javascript object>"
      ]
     },
     "metadata": {},
     "output_type": "display_data"
    }
   ],
   "source": [
    "if \"Set\" not in train.columns:\n",
    "    print(\"Building tailored column\")\n",
    "    train_valid_index, test_index = next(\n",
    "        ShuffleSplit(n_splits=1, test_size=0.1, random_state=SEED).split(\n",
    "            range(train[target].shape[0])\n",
    "        )\n",
    "    )\n",
    "    train_index, valid_index = next(\n",
    "        ShuffleSplit(n_splits=1, test_size=0.1, random_state=SEED).split(\n",
    "            train_valid_index\n",
    "        )\n",
    "    )\n",
    "    train[\"Set\"] = \"train\"\n",
    "    train[\"Set\"][valid_index] = \"valid\"\n",
    "    train[\"Set\"][test_index] = \"test\"\n",
    "    # train.to_csv((out.parent / \"train_bench.csv\").as_posix(), index=False)"
   ]
  },
  {
   "cell_type": "code",
   "execution_count": 12,
   "metadata": {
    "ExecuteTime": {
     "end_time": "2020-09-19T17:12:13.457273Z",
     "start_time": "2020-09-19T17:12:13.427342Z"
    }
   },
   "outputs": [
    {
     "data": {
      "application/javascript": [
       "\n",
       "            setTimeout(function() {\n",
       "                var nbb_cell_id = 12;\n",
       "                var nbb_unformatted_code = \"train_indices = train[train.Set == \\\"train\\\"].index\\nvalid_indices = train[train.Set == \\\"valid\\\"].index\\ntest_indices = train[train.Set == \\\"test\\\"].index\";\n",
       "                var nbb_formatted_code = \"train_indices = train[train.Set == \\\"train\\\"].index\\nvalid_indices = train[train.Set == \\\"valid\\\"].index\\ntest_indices = train[train.Set == \\\"test\\\"].index\";\n",
       "                var nbb_cells = Jupyter.notebook.get_cells();\n",
       "                for (var i = 0; i < nbb_cells.length; ++i) {\n",
       "                    if (nbb_cells[i].input_prompt_number == nbb_cell_id) {\n",
       "                        if (nbb_cells[i].get_text() == nbb_unformatted_code) {\n",
       "                             nbb_cells[i].set_text(nbb_formatted_code);\n",
       "                        }\n",
       "                        break;\n",
       "                    }\n",
       "                }\n",
       "            }, 500);\n",
       "            "
      ],
      "text/plain": [
       "<IPython.core.display.Javascript object>"
      ]
     },
     "metadata": {},
     "output_type": "display_data"
    }
   ],
   "source": [
    "train_indices = train[train.Set == \"train\"].index\n",
    "valid_indices = train[train.Set == \"valid\"].index\n",
    "test_indices = train[train.Set == \"test\"].index"
   ]
  },
  {
   "cell_type": "code",
   "execution_count": 13,
   "metadata": {
    "ExecuteTime": {
     "end_time": "2020-09-19T17:12:13.604925Z",
     "start_time": "2020-09-19T17:12:13.458437Z"
    }
   },
   "outputs": [
    {
     "data": {
      "text/plain": [
       "{'constant_cols': [],\n",
       " 'bool_cols': ['Alley', 'Street', 'CentralAir', 'Utilities'],\n",
       " 'num_cols': ['GarageYrBlt',\n",
       "  '1stFlrSF',\n",
       "  'LotFrontage',\n",
       "  'GrLivArea',\n",
       "  'ScreenPorch',\n",
       "  'TotalBsmtSF',\n",
       "  'BsmtFinSF1',\n",
       "  'Id',\n",
       "  'BsmtUnfSF',\n",
       "  'GarageArea',\n",
       "  'YearBuilt',\n",
       "  'BsmtFinSF2',\n",
       "  'WoodDeckSF',\n",
       "  'MasVnrArea',\n",
       "  'LotArea',\n",
       "  'EnclosedPorch',\n",
       "  '2ndFlrSF',\n",
       "  'YearRemodAdd',\n",
       "  'OpenPorchSF'],\n",
       " 'cat_cols': ['HeatingQC',\n",
       "  'Condition2',\n",
       "  'MiscFeature',\n",
       "  'RoofStyle',\n",
       "  'BsmtCond',\n",
       "  'Foundation',\n",
       "  'PavedDrive',\n",
       "  'LandSlope',\n",
       "  'MiscVal',\n",
       "  'LotConfig',\n",
       "  'GarageCond',\n",
       "  'ExterCond',\n",
       "  'SaleType',\n",
       "  'Fence',\n",
       "  'KitchenQual',\n",
       "  'SaleCondition',\n",
       "  'Fireplaces',\n",
       "  '3SsnPorch',\n",
       "  'GarageFinish',\n",
       "  'PoolQC',\n",
       "  'RoofMatl',\n",
       "  'BsmtHalfBath',\n",
       "  'GarageType',\n",
       "  'Heating',\n",
       "  'BsmtFullBath',\n",
       "  'Electrical',\n",
       "  'MSSubClass',\n",
       "  'Exterior1st',\n",
       "  'ExterQual',\n",
       "  'LandContour',\n",
       "  'TotRmsAbvGrd',\n",
       "  'LotShape',\n",
       "  'BsmtExposure',\n",
       "  'BedroomAbvGr',\n",
       "  'OverallQual',\n",
       "  'OverallCond',\n",
       "  'BsmtFinType2',\n",
       "  'Neighborhood',\n",
       "  'FullBath',\n",
       "  'Functional',\n",
       "  'FireplaceQu',\n",
       "  'MasVnrType',\n",
       "  'HalfBath',\n",
       "  'MoSold',\n",
       "  'YrSold',\n",
       "  'BsmtQual',\n",
       "  'BsmtFinType1',\n",
       "  'GarageCars',\n",
       "  'BldgType',\n",
       "  'MSZoning',\n",
       "  'HouseStyle',\n",
       "  'Exterior2nd',\n",
       "  'KitchenAbvGr',\n",
       "  'LowQualFinSF',\n",
       "  'Condition1',\n",
       "  'PoolArea',\n",
       "  'GarageQual'],\n",
       " 'num_encoder': [Pipeline(steps=[('fillna',\n",
       "                   SimpleImputer(fill_value=1897.5279905941616,\n",
       "                                 strategy='constant')),\n",
       "                  ('scaler', StandardScaler())]),\n",
       "  Pipeline(steps=[('fillna',\n",
       "                   SimpleImputer(fill_value=296.76122203505605,\n",
       "                                 strategy='constant')),\n",
       "                  ('scaler', StandardScaler())]),\n",
       "  Pipeline(steps=[('fillna',\n",
       "                   SimpleImputer(fill_value=18.671047763804225,\n",
       "                                 strategy='constant')),\n",
       "                  ('scaler', StandardScaler())]),\n",
       "  Pipeline(steps=[('fillna',\n",
       "                   SimpleImputer(fill_value=283.1521746236896,\n",
       "                                 strategy='constant')),\n",
       "                  ('scaler', StandardScaler())]),\n",
       "  Pipeline(steps=[('fillna',\n",
       "                   SimpleImputer(fill_value=-5.705547216467039,\n",
       "                                 strategy='constant')),\n",
       "                  ('scaler', StandardScaler())]),\n",
       "  Pipeline(steps=[('fillna',\n",
       "                   SimpleImputer(fill_value=-40.917873769333355,\n",
       "                                 strategy='constant')),\n",
       "                  ('scaler', StandardScaler())]),\n",
       "  Pipeline(steps=[('fillna',\n",
       "                   SimpleImputer(fill_value=-43.11290264214038,\n",
       "                                 strategy='constant')),\n",
       "                  ('scaler', StandardScaler())]),\n",
       "  Pipeline(steps=[('fillna',\n",
       "                   SimpleImputer(fill_value=-41.71908341967729,\n",
       "                                 strategy='constant')),\n",
       "                  ('scaler', StandardScaler())]),\n",
       "  Pipeline(steps=[('fillna',\n",
       "                   SimpleImputer(fill_value=-44.09528628925001,\n",
       "                                 strategy='constant')),\n",
       "                  ('scaler', StandardScaler())]),\n",
       "  Pipeline(steps=[('fillna',\n",
       "                   SimpleImputer(fill_value=-20.782345317596494,\n",
       "                                 strategy='constant')),\n",
       "                  ('scaler', StandardScaler())]),\n",
       "  Pipeline(steps=[('fillna',\n",
       "                   SimpleImputer(fill_value=1868.954615177255,\n",
       "                                 strategy='constant')),\n",
       "                  ('scaler', StandardScaler())]),\n",
       "  Pipeline(steps=[('fillna',\n",
       "                   SimpleImputer(fill_value=-15.89740488044788,\n",
       "                                 strategy='constant')),\n",
       "                  ('scaler', StandardScaler())]),\n",
       "  Pipeline(steps=[('fillna',\n",
       "                   SimpleImputer(fill_value=-12.795001854935746,\n",
       "                                 strategy='constant')),\n",
       "                  ('scaler', StandardScaler())]),\n",
       "  Pipeline(steps=[('fillna',\n",
       "                   SimpleImputer(fill_value=-17.16005805073806,\n",
       "                                 strategy='constant')),\n",
       "                  ('scaler', StandardScaler())]),\n",
       "  Pipeline(steps=[('fillna',\n",
       "                   SimpleImputer(fill_value=234.44552984495476,\n",
       "                                 strategy='constant')),\n",
       "                  ('scaler', StandardScaler())]),\n",
       "  Pipeline(steps=[('fillna',\n",
       "                   SimpleImputer(fill_value=-6.16716384502759,\n",
       "                                 strategy='constant')),\n",
       "                  ('scaler', StandardScaler())]),\n",
       "  Pipeline(steps=[('fillna',\n",
       "                   SimpleImputer(fill_value=-43.49782030326563,\n",
       "                                 strategy='constant')),\n",
       "                  ('scaler', StandardScaler())]),\n",
       "  Pipeline(steps=[('fillna',\n",
       "                   SimpleImputer(fill_value=1947.9413545283148,\n",
       "                                 strategy='constant')),\n",
       "                  ('scaler', StandardScaler())]),\n",
       "  Pipeline(steps=[('fillna',\n",
       "                   SimpleImputer(fill_value=-6.805237977967029,\n",
       "                                 strategy='constant')),\n",
       "                  ('scaler', StandardScaler())])],\n",
       " 'bool_encoder': [SafeLabelEncoder(),\n",
       "  SafeLabelEncoder(),\n",
       "  SafeLabelEncoder(),\n",
       "  SafeLabelEncoder()],\n",
       " 'max_nb': 26,\n",
       " 'cat_encoder': [SafeLabelEncoder(),\n",
       "  SafeLabelEncoder(),\n",
       "  SafeLabelEncoder(),\n",
       "  SafeLabelEncoder(),\n",
       "  SafeLabelEncoder(),\n",
       "  SafeLabelEncoder(),\n",
       "  SafeLabelEncoder(),\n",
       "  SafeLabelEncoder(),\n",
       "  SafeLabelEncoder(),\n",
       "  SafeLabelEncoder(),\n",
       "  SafeLabelEncoder(),\n",
       "  SafeLabelEncoder(),\n",
       "  SafeLabelEncoder(),\n",
       "  SafeLabelEncoder(),\n",
       "  SafeLabelEncoder(),\n",
       "  SafeLabelEncoder(),\n",
       "  SafeLabelEncoder(),\n",
       "  SafeLabelEncoder(),\n",
       "  SafeLabelEncoder(),\n",
       "  SafeLabelEncoder(),\n",
       "  SafeLabelEncoder(),\n",
       "  SafeLabelEncoder(),\n",
       "  SafeLabelEncoder(),\n",
       "  SafeLabelEncoder(),\n",
       "  SafeLabelEncoder(),\n",
       "  SafeLabelEncoder(),\n",
       "  SafeLabelEncoder(),\n",
       "  SafeLabelEncoder(),\n",
       "  SafeLabelEncoder(),\n",
       "  SafeLabelEncoder(),\n",
       "  SafeLabelEncoder(),\n",
       "  SafeLabelEncoder(),\n",
       "  SafeLabelEncoder(),\n",
       "  SafeLabelEncoder(),\n",
       "  SafeLabelEncoder(),\n",
       "  SafeLabelEncoder(),\n",
       "  SafeLabelEncoder(),\n",
       "  SafeLabelEncoder(),\n",
       "  SafeLabelEncoder(),\n",
       "  SafeLabelEncoder(),\n",
       "  SafeLabelEncoder(),\n",
       "  SafeLabelEncoder(),\n",
       "  SafeLabelEncoder(),\n",
       "  SafeLabelEncoder(),\n",
       "  SafeLabelEncoder(),\n",
       "  SafeLabelEncoder(),\n",
       "  SafeLabelEncoder(),\n",
       "  SafeLabelEncoder(),\n",
       "  SafeLabelEncoder(),\n",
       "  SafeLabelEncoder(),\n",
       "  SafeLabelEncoder(),\n",
       "  SafeLabelEncoder(),\n",
       "  SafeLabelEncoder(),\n",
       "  SafeLabelEncoder(),\n",
       "  SafeLabelEncoder(),\n",
       "  SafeLabelEncoder(),\n",
       "  SafeLabelEncoder()]}"
      ]
     },
     "execution_count": 13,
     "metadata": {},
     "output_type": "execute_result"
    },
    {
     "data": {
      "application/javascript": [
       "\n",
       "            setTimeout(function() {\n",
       "                var nbb_cell_id = 13;\n",
       "                var nbb_unformatted_code = \"input_train, params = preproc_dataset(train.loc[train_indices], target, [\\\"Set\\\"])\\nparams\";\n",
       "                var nbb_formatted_code = \"input_train, params = preproc_dataset(train.loc[train_indices], target, [\\\"Set\\\"])\\nparams\";\n",
       "                var nbb_cells = Jupyter.notebook.get_cells();\n",
       "                for (var i = 0; i < nbb_cells.length; ++i) {\n",
       "                    if (nbb_cells[i].input_prompt_number == nbb_cell_id) {\n",
       "                        if (nbb_cells[i].get_text() == nbb_unformatted_code) {\n",
       "                             nbb_cells[i].set_text(nbb_formatted_code);\n",
       "                        }\n",
       "                        break;\n",
       "                    }\n",
       "                }\n",
       "            }, 500);\n",
       "            "
      ],
      "text/plain": [
       "<IPython.core.display.Javascript object>"
      ]
     },
     "metadata": {},
     "output_type": "display_data"
    }
   ],
   "source": [
    "input_train, params = preproc_dataset(train.loc[train_indices], target, [\"Set\"])\n",
    "params"
   ]
  },
  {
   "cell_type": "code",
   "execution_count": 14,
   "metadata": {
    "ExecuteTime": {
     "end_time": "2020-09-19T17:12:13.633494Z",
     "start_time": "2020-09-19T17:12:13.605853Z"
    }
   },
   "outputs": [
    {
     "data": {
      "text/plain": [
       "1219"
      ]
     },
     "execution_count": 14,
     "metadata": {},
     "output_type": "execute_result"
    },
    {
     "data": {
      "application/javascript": [
       "\n",
       "            setTimeout(function() {\n",
       "                var nbb_cell_id = 14;\n",
       "                var nbb_unformatted_code = \"len(train_indices)\";\n",
       "                var nbb_formatted_code = \"len(train_indices)\";\n",
       "                var nbb_cells = Jupyter.notebook.get_cells();\n",
       "                for (var i = 0; i < nbb_cells.length; ++i) {\n",
       "                    if (nbb_cells[i].input_prompt_number == nbb_cell_id) {\n",
       "                        if (nbb_cells[i].get_text() == nbb_unformatted_code) {\n",
       "                             nbb_cells[i].set_text(nbb_formatted_code);\n",
       "                        }\n",
       "                        break;\n",
       "                    }\n",
       "                }\n",
       "            }, 500);\n",
       "            "
      ],
      "text/plain": [
       "<IPython.core.display.Javascript object>"
      ]
     },
     "metadata": {},
     "output_type": "display_data"
    }
   ],
   "source": [
    "len(train_indices)"
   ]
  },
  {
   "cell_type": "code",
   "execution_count": 15,
   "metadata": {
    "ExecuteTime": {
     "end_time": "2020-09-19T17:12:13.688683Z",
     "start_time": "2020-09-19T17:12:13.634346Z"
    }
   },
   "outputs": [
    {
     "data": {
      "application/javascript": [
       "\n",
       "            setTimeout(function() {\n",
       "                var nbb_cell_id = 15;\n",
       "                var nbb_unformatted_code = \"input_valid, _ = preproc_dataset(train.loc[valid_indices], target, [\\\"Set\\\"], params)\\ninput_test, _ = preproc_dataset(train.loc[test_indices], target, [\\\"Set\\\"], params)\";\n",
       "                var nbb_formatted_code = \"input_valid, _ = preproc_dataset(train.loc[valid_indices], target, [\\\"Set\\\"], params)\\ninput_test, _ = preproc_dataset(train.loc[test_indices], target, [\\\"Set\\\"], params)\";\n",
       "                var nbb_cells = Jupyter.notebook.get_cells();\n",
       "                for (var i = 0; i < nbb_cells.length; ++i) {\n",
       "                    if (nbb_cells[i].input_prompt_number == nbb_cell_id) {\n",
       "                        if (nbb_cells[i].get_text() == nbb_unformatted_code) {\n",
       "                             nbb_cells[i].set_text(nbb_formatted_code);\n",
       "                        }\n",
       "                        break;\n",
       "                    }\n",
       "                }\n",
       "            }, 500);\n",
       "            "
      ],
      "text/plain": [
       "<IPython.core.display.Javascript object>"
      ]
     },
     "metadata": {},
     "output_type": "display_data"
    }
   ],
   "source": [
    "input_valid, _ = preproc_dataset(train.loc[valid_indices], target, [\"Set\"], params)\n",
    "input_test, _ = preproc_dataset(train.loc[test_indices], target, [\"Set\"], params)"
   ]
  },
  {
   "cell_type": "code",
   "execution_count": 16,
   "metadata": {
    "ExecuteTime": {
     "end_time": "2020-09-19T17:12:13.712891Z",
     "start_time": "2020-09-19T17:12:13.689625Z"
    }
   },
   "outputs": [
    {
     "data": {
      "application/javascript": [
       "\n",
       "            setTimeout(function() {\n",
       "                var nbb_cell_id = 16;\n",
       "                var nbb_unformatted_code = \"target_encoder = StandardScaler()\";\n",
       "                var nbb_formatted_code = \"target_encoder = StandardScaler()\";\n",
       "                var nbb_cells = Jupyter.notebook.get_cells();\n",
       "                for (var i = 0; i < nbb_cells.length; ++i) {\n",
       "                    if (nbb_cells[i].input_prompt_number == nbb_cell_id) {\n",
       "                        if (nbb_cells[i].get_text() == nbb_unformatted_code) {\n",
       "                             nbb_cells[i].set_text(nbb_formatted_code);\n",
       "                        }\n",
       "                        break;\n",
       "                    }\n",
       "                }\n",
       "            }, 500);\n",
       "            "
      ],
      "text/plain": [
       "<IPython.core.display.Javascript object>"
      ]
     },
     "metadata": {},
     "output_type": "display_data"
    }
   ],
   "source": [
    "target_encoder = StandardScaler()"
   ]
  },
  {
   "cell_type": "code",
   "execution_count": 17,
   "metadata": {
    "ExecuteTime": {
     "end_time": "2020-09-19T17:12:13.742312Z",
     "start_time": "2020-09-19T17:12:13.713791Z"
    }
   },
   "outputs": [
    {
     "data": {
      "application/javascript": [
       "\n",
       "            setTimeout(function() {\n",
       "                var nbb_cell_id = 17;\n",
       "                var nbb_unformatted_code = \"target_encoder.fit(train[target].values.reshape(-1, 1))\\ny_train = target_encoder.transform(train[target].values[train_indices].reshape(-1, 1))\\ny_valid = target_encoder.transform(train[target].values[valid_indices].reshape(-1, 1))\\ny_test = target_encoder.transform(train[target].values[test_indices].reshape(-1, 1))\";\n",
       "                var nbb_formatted_code = \"target_encoder.fit(train[target].values.reshape(-1, 1))\\ny_train = target_encoder.transform(train[target].values[train_indices].reshape(-1, 1))\\ny_valid = target_encoder.transform(train[target].values[valid_indices].reshape(-1, 1))\\ny_test = target_encoder.transform(train[target].values[test_indices].reshape(-1, 1))\";\n",
       "                var nbb_cells = Jupyter.notebook.get_cells();\n",
       "                for (var i = 0; i < nbb_cells.length; ++i) {\n",
       "                    if (nbb_cells[i].input_prompt_number == nbb_cell_id) {\n",
       "                        if (nbb_cells[i].get_text() == nbb_unformatted_code) {\n",
       "                             nbb_cells[i].set_text(nbb_formatted_code);\n",
       "                        }\n",
       "                        break;\n",
       "                    }\n",
       "                }\n",
       "            }, 500);\n",
       "            "
      ],
      "text/plain": [
       "<IPython.core.display.Javascript object>"
      ]
     },
     "metadata": {},
     "output_type": "display_data"
    }
   ],
   "source": [
    "target_encoder.fit(train[target].values.reshape(-1, 1))\n",
    "y_train = target_encoder.transform(train[target].values[train_indices].reshape(-1, 1))\n",
    "y_valid = target_encoder.transform(train[target].values[valid_indices].reshape(-1, 1))\n",
    "y_test = target_encoder.transform(train[target].values[test_indices].reshape(-1, 1))"
   ]
  },
  {
   "cell_type": "code",
   "execution_count": 18,
   "metadata": {
    "ExecuteTime": {
     "end_time": "2020-09-19T17:12:13.813317Z",
     "start_time": "2020-09-19T17:12:13.743550Z"
    }
   },
   "outputs": [
    {
     "data": {
      "text/plain": [
       "{'constant_cols': [],\n",
       " 'bool_cols': ['Alley', 'Street', 'CentralAir', 'Utilities'],\n",
       " 'num_cols': ['GarageYrBlt',\n",
       "  '1stFlrSF',\n",
       "  'LotFrontage',\n",
       "  'GrLivArea',\n",
       "  'ScreenPorch',\n",
       "  'TotalBsmtSF',\n",
       "  'BsmtFinSF1',\n",
       "  'Id',\n",
       "  'BsmtUnfSF',\n",
       "  'GarageArea',\n",
       "  'YearBuilt',\n",
       "  'BsmtFinSF2',\n",
       "  'WoodDeckSF',\n",
       "  'MasVnrArea',\n",
       "  'LotArea',\n",
       "  'EnclosedPorch',\n",
       "  '2ndFlrSF',\n",
       "  'YearRemodAdd',\n",
       "  'OpenPorchSF'],\n",
       " 'cat_cols': ['HeatingQC',\n",
       "  'Condition2',\n",
       "  'MiscFeature',\n",
       "  'RoofStyle',\n",
       "  'BsmtCond',\n",
       "  'Foundation',\n",
       "  'PavedDrive',\n",
       "  'LandSlope',\n",
       "  'MiscVal',\n",
       "  'LotConfig',\n",
       "  'GarageCond',\n",
       "  'ExterCond',\n",
       "  'SaleType',\n",
       "  'Fence',\n",
       "  'KitchenQual',\n",
       "  'SaleCondition',\n",
       "  'Fireplaces',\n",
       "  '3SsnPorch',\n",
       "  'GarageFinish',\n",
       "  'PoolQC',\n",
       "  'RoofMatl',\n",
       "  'BsmtHalfBath',\n",
       "  'GarageType',\n",
       "  'Heating',\n",
       "  'BsmtFullBath',\n",
       "  'Electrical',\n",
       "  'MSSubClass',\n",
       "  'Exterior1st',\n",
       "  'ExterQual',\n",
       "  'LandContour',\n",
       "  'TotRmsAbvGrd',\n",
       "  'LotShape',\n",
       "  'BsmtExposure',\n",
       "  'BedroomAbvGr',\n",
       "  'OverallQual',\n",
       "  'OverallCond',\n",
       "  'BsmtFinType2',\n",
       "  'Neighborhood',\n",
       "  'FullBath',\n",
       "  'Functional',\n",
       "  'FireplaceQu',\n",
       "  'MasVnrType',\n",
       "  'HalfBath',\n",
       "  'MoSold',\n",
       "  'YrSold',\n",
       "  'BsmtQual',\n",
       "  'BsmtFinType1',\n",
       "  'GarageCars',\n",
       "  'BldgType',\n",
       "  'MSZoning',\n",
       "  'HouseStyle',\n",
       "  'Exterior2nd',\n",
       "  'KitchenAbvGr',\n",
       "  'LowQualFinSF',\n",
       "  'Condition1',\n",
       "  'PoolArea',\n",
       "  'GarageQual'],\n",
       " 'num_encoder': [Pipeline(steps=[('fillna',\n",
       "                   SimpleImputer(fill_value=1897.5279905941616,\n",
       "                                 strategy='constant')),\n",
       "                  ('scaler', StandardScaler())]),\n",
       "  Pipeline(steps=[('fillna',\n",
       "                   SimpleImputer(fill_value=296.76122203505605,\n",
       "                                 strategy='constant')),\n",
       "                  ('scaler', StandardScaler())]),\n",
       "  Pipeline(steps=[('fillna',\n",
       "                   SimpleImputer(fill_value=18.671047763804225,\n",
       "                                 strategy='constant')),\n",
       "                  ('scaler', StandardScaler())]),\n",
       "  Pipeline(steps=[('fillna',\n",
       "                   SimpleImputer(fill_value=283.1521746236896,\n",
       "                                 strategy='constant')),\n",
       "                  ('scaler', StandardScaler())]),\n",
       "  Pipeline(steps=[('fillna',\n",
       "                   SimpleImputer(fill_value=-5.705547216467039,\n",
       "                                 strategy='constant')),\n",
       "                  ('scaler', StandardScaler())]),\n",
       "  Pipeline(steps=[('fillna',\n",
       "                   SimpleImputer(fill_value=-40.917873769333355,\n",
       "                                 strategy='constant')),\n",
       "                  ('scaler', StandardScaler())]),\n",
       "  Pipeline(steps=[('fillna',\n",
       "                   SimpleImputer(fill_value=-43.11290264214038,\n",
       "                                 strategy='constant')),\n",
       "                  ('scaler', StandardScaler())]),\n",
       "  Pipeline(steps=[('fillna',\n",
       "                   SimpleImputer(fill_value=-41.71908341967729,\n",
       "                                 strategy='constant')),\n",
       "                  ('scaler', StandardScaler())]),\n",
       "  Pipeline(steps=[('fillna',\n",
       "                   SimpleImputer(fill_value=-44.09528628925001,\n",
       "                                 strategy='constant')),\n",
       "                  ('scaler', StandardScaler())]),\n",
       "  Pipeline(steps=[('fillna',\n",
       "                   SimpleImputer(fill_value=-20.782345317596494,\n",
       "                                 strategy='constant')),\n",
       "                  ('scaler', StandardScaler())]),\n",
       "  Pipeline(steps=[('fillna',\n",
       "                   SimpleImputer(fill_value=1868.954615177255,\n",
       "                                 strategy='constant')),\n",
       "                  ('scaler', StandardScaler())]),\n",
       "  Pipeline(steps=[('fillna',\n",
       "                   SimpleImputer(fill_value=-15.89740488044788,\n",
       "                                 strategy='constant')),\n",
       "                  ('scaler', StandardScaler())]),\n",
       "  Pipeline(steps=[('fillna',\n",
       "                   SimpleImputer(fill_value=-12.795001854935746,\n",
       "                                 strategy='constant')),\n",
       "                  ('scaler', StandardScaler())]),\n",
       "  Pipeline(steps=[('fillna',\n",
       "                   SimpleImputer(fill_value=-17.16005805073806,\n",
       "                                 strategy='constant')),\n",
       "                  ('scaler', StandardScaler())]),\n",
       "  Pipeline(steps=[('fillna',\n",
       "                   SimpleImputer(fill_value=234.44552984495476,\n",
       "                                 strategy='constant')),\n",
       "                  ('scaler', StandardScaler())]),\n",
       "  Pipeline(steps=[('fillna',\n",
       "                   SimpleImputer(fill_value=-6.16716384502759,\n",
       "                                 strategy='constant')),\n",
       "                  ('scaler', StandardScaler())]),\n",
       "  Pipeline(steps=[('fillna',\n",
       "                   SimpleImputer(fill_value=-43.49782030326563,\n",
       "                                 strategy='constant')),\n",
       "                  ('scaler', StandardScaler())]),\n",
       "  Pipeline(steps=[('fillna',\n",
       "                   SimpleImputer(fill_value=1947.9413545283148,\n",
       "                                 strategy='constant')),\n",
       "                  ('scaler', StandardScaler())]),\n",
       "  Pipeline(steps=[('fillna',\n",
       "                   SimpleImputer(fill_value=-6.805237977967029,\n",
       "                                 strategy='constant')),\n",
       "                  ('scaler', StandardScaler())])],\n",
       " 'bool_encoder': [SafeLabelEncoder(),\n",
       "  SafeLabelEncoder(),\n",
       "  SafeLabelEncoder(),\n",
       "  SafeLabelEncoder()],\n",
       " 'max_nb': 26,\n",
       " 'cat_encoder': [SafeLabelEncoder(),\n",
       "  SafeLabelEncoder(),\n",
       "  SafeLabelEncoder(),\n",
       "  SafeLabelEncoder(),\n",
       "  SafeLabelEncoder(),\n",
       "  SafeLabelEncoder(),\n",
       "  SafeLabelEncoder(),\n",
       "  SafeLabelEncoder(),\n",
       "  SafeLabelEncoder(),\n",
       "  SafeLabelEncoder(),\n",
       "  SafeLabelEncoder(),\n",
       "  SafeLabelEncoder(),\n",
       "  SafeLabelEncoder(),\n",
       "  SafeLabelEncoder(),\n",
       "  SafeLabelEncoder(),\n",
       "  SafeLabelEncoder(),\n",
       "  SafeLabelEncoder(),\n",
       "  SafeLabelEncoder(),\n",
       "  SafeLabelEncoder(),\n",
       "  SafeLabelEncoder(),\n",
       "  SafeLabelEncoder(),\n",
       "  SafeLabelEncoder(),\n",
       "  SafeLabelEncoder(),\n",
       "  SafeLabelEncoder(),\n",
       "  SafeLabelEncoder(),\n",
       "  SafeLabelEncoder(),\n",
       "  SafeLabelEncoder(),\n",
       "  SafeLabelEncoder(),\n",
       "  SafeLabelEncoder(),\n",
       "  SafeLabelEncoder(),\n",
       "  SafeLabelEncoder(),\n",
       "  SafeLabelEncoder(),\n",
       "  SafeLabelEncoder(),\n",
       "  SafeLabelEncoder(),\n",
       "  SafeLabelEncoder(),\n",
       "  SafeLabelEncoder(),\n",
       "  SafeLabelEncoder(),\n",
       "  SafeLabelEncoder(),\n",
       "  SafeLabelEncoder(),\n",
       "  SafeLabelEncoder(),\n",
       "  SafeLabelEncoder(),\n",
       "  SafeLabelEncoder(),\n",
       "  SafeLabelEncoder(),\n",
       "  SafeLabelEncoder(),\n",
       "  SafeLabelEncoder(),\n",
       "  SafeLabelEncoder(),\n",
       "  SafeLabelEncoder(),\n",
       "  SafeLabelEncoder(),\n",
       "  SafeLabelEncoder(),\n",
       "  SafeLabelEncoder(),\n",
       "  SafeLabelEncoder(),\n",
       "  SafeLabelEncoder(),\n",
       "  SafeLabelEncoder(),\n",
       "  SafeLabelEncoder(),\n",
       "  SafeLabelEncoder(),\n",
       "  SafeLabelEncoder(),\n",
       "  SafeLabelEncoder()]}"
      ]
     },
     "execution_count": 18,
     "metadata": {},
     "output_type": "execute_result"
    },
    {
     "data": {
      "application/javascript": [
       "\n",
       "            setTimeout(function() {\n",
       "                var nbb_cell_id = 18;\n",
       "                var nbb_unformatted_code = \"params\";\n",
       "                var nbb_formatted_code = \"params\";\n",
       "                var nbb_cells = Jupyter.notebook.get_cells();\n",
       "                for (var i = 0; i < nbb_cells.length; ++i) {\n",
       "                    if (nbb_cells[i].input_prompt_number == nbb_cell_id) {\n",
       "                        if (nbb_cells[i].get_text() == nbb_unformatted_code) {\n",
       "                             nbb_cells[i].set_text(nbb_formatted_code);\n",
       "                        }\n",
       "                        break;\n",
       "                    }\n",
       "                }\n",
       "            }, 500);\n",
       "            "
      ],
      "text/plain": [
       "<IPython.core.display.Javascript object>"
      ]
     },
     "metadata": {},
     "output_type": "display_data"
    }
   ],
   "source": [
    "params"
   ]
  },
  {
   "cell_type": "code",
   "execution_count": 19,
   "metadata": {
    "ExecuteTime": {
     "end_time": "2020-09-19T17:12:14.037016Z",
     "start_time": "2020-09-19T17:12:13.814205Z"
    }
   },
   "outputs": [
    {
     "name": "stderr",
     "output_type": "stream",
     "text": [
      "/work/.cache/poetry/xplainet-KS9Ipbc1-py3.7/lib/python3.7/site-packages/tensorflow_addons/utils/resource_loader.py:103: UserWarning: You are currently using TensorFlow 2.3.0 and trying to load a custom op (custom_ops/activations/_activation_ops.so).\n",
      "TensorFlow Addons has compiled its custom ops against TensorFlow 2.2.0, and there are no compatibility guarantees between the two versions. \n",
      "This means that you might get segfaults when loading the custom op, or other kind of low-level errors.\n",
      " If you do, do not file an issue on Github. This is a known limitation.\n",
      "\n",
      "It might help you to fallback to pure Python ops with TF_ADDONS_PY_OPS . To do that, see https://github.com/tensorflow/addons#gpucpu-custom-ops \n",
      "\n",
      "You can also change the TensorFlow version installed on your system. You would need a TensorFlow version equal to or above 2.2.0 and strictly below 2.3.0.\n",
      " Note that nightly versions of TensorFlow, as well as non-pip TensorFlow like `conda install tensorflow` or compiled from source are not supported.\n",
      "\n",
      "The last solution is to find the TensorFlow Addons version that has custom ops compatible with the TensorFlow installed on your system. To do that, refer to the readme: https://github.com/tensorflow/addons\n",
      "  UserWarning,\n"
     ]
    },
    {
     "data": {
      "application/javascript": [
       "\n",
       "            setTimeout(function() {\n",
       "                var nbb_cell_id = 19;\n",
       "                var nbb_unformatted_code = \"model = build_model(\\n    params,\\n    lconv_dim=[4],\\n    lconv_num_dim=[8],\\n    emb_size=16,\\n    # For this problem, we need \\\"tanh\\\" as first layer, or else to standard scale the data beforehand\\n    activation_num_first_layer=\\\"tanh\\\",\\n    output_activation=None,\\n    output_dim=1,  # np.unique(y_train).shape[0],\\n)\";\n",
       "                var nbb_formatted_code = \"model = build_model(\\n    params,\\n    lconv_dim=[4],\\n    lconv_num_dim=[8],\\n    emb_size=16,\\n    # For this problem, we need \\\"tanh\\\" as first layer, or else to standard scale the data beforehand\\n    activation_num_first_layer=\\\"tanh\\\",\\n    output_activation=None,\\n    output_dim=1,  # np.unique(y_train).shape[0],\\n)\";\n",
       "                var nbb_cells = Jupyter.notebook.get_cells();\n",
       "                for (var i = 0; i < nbb_cells.length; ++i) {\n",
       "                    if (nbb_cells[i].input_prompt_number == nbb_cell_id) {\n",
       "                        if (nbb_cells[i].get_text() == nbb_unformatted_code) {\n",
       "                             nbb_cells[i].set_text(nbb_formatted_code);\n",
       "                        }\n",
       "                        break;\n",
       "                    }\n",
       "                }\n",
       "            }, 500);\n",
       "            "
      ],
      "text/plain": [
       "<IPython.core.display.Javascript object>"
      ]
     },
     "metadata": {},
     "output_type": "display_data"
    }
   ],
   "source": [
    "model = build_model(\n",
    "    params,\n",
    "    lconv_dim=[4],\n",
    "    lconv_num_dim=[8],\n",
    "    emb_size=16,\n",
    "    # For this problem, we need \"tanh\" as first layer, or else to standard scale the data beforehand\n",
    "    activation_num_first_layer=\"tanh\",\n",
    "    output_activation=None,\n",
    "    output_dim=1,  # np.unique(y_train).shape[0],\n",
    ")"
   ]
  },
  {
   "cell_type": "code",
   "execution_count": 20,
   "metadata": {
    "ExecuteTime": {
     "end_time": "2020-09-19T17:12:14.064317Z",
     "start_time": "2020-09-19T17:12:14.038066Z"
    }
   },
   "outputs": [
    {
     "name": "stdout",
     "output_type": "stream",
     "text": [
      "Model: \"explainable_model\"\n",
      "__________________________________________________________________________________________________\n",
      "Layer (type)                    Output Shape         Param #     Connected to                     \n",
      "==================================================================================================\n",
      "input_num (InputLayer)          [(None, 19)]         0                                            \n",
      "__________________________________________________________________________________________________\n",
      "input_cat (InputLayer)          [(None, 57)]         0                                            \n",
      "__________________________________________________________________________________________________\n",
      "reshape_num_input (Reshape)     (None, 19, 1)        0           input_num[0][0]                  \n",
      "__________________________________________________________________________________________________\n",
      "large_emb (Embedding)           (None, 57, 16)       432         input_cat[0][0]                  \n",
      "__________________________________________________________________________________________________\n",
      "block_num_0_conv (LocallyConnec (None, 19, 8)        152         reshape_num_input[0][0]          \n",
      "__________________________________________________________________________________________________\n",
      "block_cat_0_conv (LocallyConnec (None, 57, 4)        3648        large_emb[0][0]                  \n",
      "__________________________________________________________________________________________________\n",
      "block_num_0_activation (Activat (None, 19, 8)        0           block_num_0_conv[0][0]           \n",
      "__________________________________________________________________________________________________\n",
      "block_cat_0_activation (Activat (None, 57, 4)        0           block_cat_0_conv[0][0]           \n",
      "__________________________________________________________________________________________________\n",
      "input_bool (InputLayer)         [(None, 4)]          0                                            \n",
      "__________________________________________________________________________________________________\n",
      "reshape_num_output (Reshape)    (None, 152)          0           block_num_0_activation[0][0]     \n",
      "__________________________________________________________________________________________________\n",
      "reshape_cat_output (Reshape)    (None, 228)          0           block_cat_0_activation[0][0]     \n",
      "__________________________________________________________________________________________________\n",
      "concatenate (Concatenate)       (None, 384)          0           input_bool[0][0]                 \n",
      "                                                                 reshape_num_output[0][0]         \n",
      "                                                                 reshape_cat_output[0][0]         \n",
      "__________________________________________________________________________________________________\n",
      "output (Dense)                  (None, 1)            385         concatenate[0][0]                \n",
      "==================================================================================================\n",
      "Total params: 4,617\n",
      "Trainable params: 4,617\n",
      "Non-trainable params: 0\n",
      "__________________________________________________________________________________________________\n"
     ]
    },
    {
     "data": {
      "application/javascript": [
       "\n",
       "            setTimeout(function() {\n",
       "                var nbb_cell_id = 20;\n",
       "                var nbb_unformatted_code = \"model.summary()\";\n",
       "                var nbb_formatted_code = \"model.summary()\";\n",
       "                var nbb_cells = Jupyter.notebook.get_cells();\n",
       "                for (var i = 0; i < nbb_cells.length; ++i) {\n",
       "                    if (nbb_cells[i].input_prompt_number == nbb_cell_id) {\n",
       "                        if (nbb_cells[i].get_text() == nbb_unformatted_code) {\n",
       "                             nbb_cells[i].set_text(nbb_formatted_code);\n",
       "                        }\n",
       "                        break;\n",
       "                    }\n",
       "                }\n",
       "            }, 500);\n",
       "            "
      ],
      "text/plain": [
       "<IPython.core.display.Javascript object>"
      ]
     },
     "metadata": {},
     "output_type": "display_data"
    }
   ],
   "source": [
    "model.summary()"
   ]
  },
  {
   "cell_type": "code",
   "execution_count": 21,
   "metadata": {
    "ExecuteTime": {
     "end_time": "2020-09-19T17:12:14.093382Z",
     "start_time": "2020-09-19T17:12:14.065557Z"
    }
   },
   "outputs": [
    {
     "data": {
      "application/javascript": [
       "\n",
       "            setTimeout(function() {\n",
       "                var nbb_cell_id = 21;\n",
       "                var nbb_unformatted_code = \"#!pip install pydot graphviz\";\n",
       "                var nbb_formatted_code = \"#!pip install pydot graphviz\";\n",
       "                var nbb_cells = Jupyter.notebook.get_cells();\n",
       "                for (var i = 0; i < nbb_cells.length; ++i) {\n",
       "                    if (nbb_cells[i].input_prompt_number == nbb_cell_id) {\n",
       "                        if (nbb_cells[i].get_text() == nbb_unformatted_code) {\n",
       "                             nbb_cells[i].set_text(nbb_formatted_code);\n",
       "                        }\n",
       "                        break;\n",
       "                    }\n",
       "                }\n",
       "            }, 500);\n",
       "            "
      ],
      "text/plain": [
       "<IPython.core.display.Javascript object>"
      ]
     },
     "metadata": {},
     "output_type": "display_data"
    }
   ],
   "source": [
    "#!pip install pydot graphviz"
   ]
  },
  {
   "cell_type": "code",
   "execution_count": 22,
   "metadata": {
    "ExecuteTime": {
     "end_time": "2020-09-19T17:12:14.304007Z",
     "start_time": "2020-09-19T17:12:14.094898Z"
    }
   },
   "outputs": [
    {
     "data": {
      "image/png": "[encoded data removed]",
      "text/plain": [
       "<IPython.core.display.Image object>"
      ]
     },
     "execution_count": 22,
     "metadata": {},
     "output_type": "execute_result"
    },
    {
     "data": {
      "application/javascript": [
       "\n",
       "            setTimeout(function() {\n",
       "                var nbb_cell_id = 22;\n",
       "                var nbb_unformatted_code = \"plot_model(\\n    model,\\n    # to_file=\\\"model.png\\\",\\n    show_shapes=True,\\n    show_layer_names=True,\\n    rankdir=\\\"TB\\\",\\n    expand_nested=False,\\n    dpi=96,\\n)\";\n",
       "                var nbb_formatted_code = \"plot_model(\\n    model,\\n    # to_file=\\\"model.png\\\",\\n    show_shapes=True,\\n    show_layer_names=True,\\n    rankdir=\\\"TB\\\",\\n    expand_nested=False,\\n    dpi=96,\\n)\";\n",
       "                var nbb_cells = Jupyter.notebook.get_cells();\n",
       "                for (var i = 0; i < nbb_cells.length; ++i) {\n",
       "                    if (nbb_cells[i].input_prompt_number == nbb_cell_id) {\n",
       "                        if (nbb_cells[i].get_text() == nbb_unformatted_code) {\n",
       "                             nbb_cells[i].set_text(nbb_formatted_code);\n",
       "                        }\n",
       "                        break;\n",
       "                    }\n",
       "                }\n",
       "            }, 500);\n",
       "            "
      ],
      "text/plain": [
       "<IPython.core.display.Javascript object>"
      ]
     },
     "metadata": {},
     "output_type": "display_data"
    }
   ],
   "source": [
    "plot_model(\n",
    "    model,\n",
    "    # to_file=\"model.png\",\n",
    "    show_shapes=True,\n",
    "    show_layer_names=True,\n",
    "    rankdir=\"TB\",\n",
    "    expand_nested=False,\n",
    "    dpi=96,\n",
    ")"
   ]
  },
  {
   "cell_type": "code",
   "execution_count": 23,
   "metadata": {
    "ExecuteTime": {
     "end_time": "2020-09-19T17:12:14.341150Z",
     "start_time": "2020-09-19T17:12:14.307707Z"
    }
   },
   "outputs": [
    {
     "data": {
      "text/plain": [
       "(1219, 1)"
      ]
     },
     "execution_count": 23,
     "metadata": {},
     "output_type": "execute_result"
    },
    {
     "data": {
      "application/javascript": [
       "\n",
       "            setTimeout(function() {\n",
       "                var nbb_cell_id = 23;\n",
       "                var nbb_unformatted_code = \"y_train.shape\";\n",
       "                var nbb_formatted_code = \"y_train.shape\";\n",
       "                var nbb_cells = Jupyter.notebook.get_cells();\n",
       "                for (var i = 0; i < nbb_cells.length; ++i) {\n",
       "                    if (nbb_cells[i].input_prompt_number == nbb_cell_id) {\n",
       "                        if (nbb_cells[i].get_text() == nbb_unformatted_code) {\n",
       "                             nbb_cells[i].set_text(nbb_formatted_code);\n",
       "                        }\n",
       "                        break;\n",
       "                    }\n",
       "                }\n",
       "            }, 500);\n",
       "            "
      ],
      "text/plain": [
       "<IPython.core.display.Javascript object>"
      ]
     },
     "metadata": {},
     "output_type": "display_data"
    }
   ],
   "source": [
    "y_train.shape"
   ]
  },
  {
   "cell_type": "code",
   "execution_count": 24,
   "metadata": {
    "ExecuteTime": {
     "end_time": "2020-09-19T17:12:14.371760Z",
     "start_time": "2020-09-19T17:12:14.343340Z"
    }
   },
   "outputs": [
    {
     "data": {
      "application/javascript": [
       "\n",
       "            setTimeout(function() {\n",
       "                var nbb_cell_id = 24;\n",
       "                var nbb_unformatted_code = \"counts = np.unique(y_train, return_counts=True)[1]\\ncounts = counts.sum() / counts\";\n",
       "                var nbb_formatted_code = \"counts = np.unique(y_train, return_counts=True)[1]\\ncounts = counts.sum() / counts\";\n",
       "                var nbb_cells = Jupyter.notebook.get_cells();\n",
       "                for (var i = 0; i < nbb_cells.length; ++i) {\n",
       "                    if (nbb_cells[i].input_prompt_number == nbb_cell_id) {\n",
       "                        if (nbb_cells[i].get_text() == nbb_unformatted_code) {\n",
       "                             nbb_cells[i].set_text(nbb_formatted_code);\n",
       "                        }\n",
       "                        break;\n",
       "                    }\n",
       "                }\n",
       "            }, 500);\n",
       "            "
      ],
      "text/plain": [
       "<IPython.core.display.Javascript object>"
      ]
     },
     "metadata": {},
     "output_type": "display_data"
    }
   ],
   "source": [
    "counts = np.unique(y_train, return_counts=True)[1]\n",
    "counts = counts.sum() / counts"
   ]
  },
  {
   "cell_type": "raw",
   "metadata": {
    "ExecuteTime": {
     "end_time": "2020-09-19T11:09:21.280303Z",
     "start_time": "2020-09-19T11:09:21.244198Z"
    }
   },
   "source": [
    "class_weight = {}\n",
    "for i, counts in enumerate(counts):\n",
    "    class_weight[i] = counts\n",
    "class_weight"
   ]
  },
  {
   "cell_type": "raw",
   "metadata": {
    "ExecuteTime": {
     "end_time": "2020-07-14T10:13:28.824624Z",
     "start_time": "2020-07-14T10:13:28.800384Z"
    }
   },
   "source": [
    "class_weight = {\n",
    "    0: 1,\n",
    "    1: 1,\n",
    "}\n",
    "class_weight"
   ]
  },
  {
   "cell_type": "code",
   "execution_count": 25,
   "metadata": {
    "ExecuteTime": {
     "end_time": "2020-09-19T17:12:34.400331Z",
     "start_time": "2020-09-19T17:12:14.372769Z"
    }
   },
   "outputs": [
    {
     "name": "stdout",
     "output_type": "stream",
     "text": [
      "Epoch 1/2000\n",
      "2/2 - 0s - loss: 0.9952 - val_loss: 1.0720\n",
      "Epoch 2/2000\n",
      "2/2 - 0s - loss: 0.9901 - val_loss: 1.0669\n",
      "Epoch 3/2000\n",
      "2/2 - 0s - loss: 0.9854 - val_loss: 1.0705\n",
      "Epoch 4/2000\n",
      "2/2 - 0s - loss: 0.9890 - val_loss: 1.0689\n",
      "Epoch 5/2000\n",
      "2/2 - 0s - loss: 0.9876 - val_loss: 1.0669\n",
      "Epoch 6/2000\n",
      "2/2 - 0s - loss: 0.9857 - val_loss: 1.0675\n",
      "Epoch 7/2000\n",
      "2/2 - 0s - loss: 0.9862 - val_loss: 1.0647\n",
      "Epoch 8/2000\n",
      "2/2 - 0s - loss: 0.9837 - val_loss: 1.0616\n",
      "Epoch 9/2000\n",
      "2/2 - 0s - loss: 0.9809 - val_loss: 1.0629\n",
      "Epoch 10/2000\n",
      "2/2 - 0s - loss: 0.9820 - val_loss: 1.0593\n",
      "Epoch 11/2000\n",
      "2/2 - 0s - loss: 0.9787 - val_loss: 1.0554\n",
      "Epoch 12/2000\n",
      "2/2 - 0s - loss: 0.9754 - val_loss: 1.0571\n",
      "Epoch 13/2000\n",
      "2/2 - 0s - loss: 0.9768 - val_loss: 1.0529\n",
      "Epoch 14/2000\n",
      "2/2 - 0s - loss: 0.9730 - val_loss: 1.0485\n",
      "Epoch 15/2000\n",
      "2/2 - 0s - loss: 0.9690 - val_loss: 1.0505\n",
      "Epoch 16/2000\n",
      "2/2 - 0s - loss: 0.9708 - val_loss: 1.0456\n",
      "Epoch 17/2000\n",
      "2/2 - 0s - loss: 0.9665 - val_loss: 1.0407\n",
      "Epoch 18/2000\n",
      "2/2 - 0s - loss: 0.9620 - val_loss: 1.0430\n",
      "Epoch 19/2000\n",
      "2/2 - 0s - loss: 0.9640 - val_loss: 1.0377\n",
      "Epoch 20/2000\n",
      "2/2 - 0s - loss: 0.9592 - val_loss: 1.0323\n",
      "Epoch 21/2000\n",
      "2/2 - 0s - loss: 0.9543 - val_loss: 1.0348\n",
      "Epoch 22/2000\n",
      "2/2 - 0s - loss: 0.9567 - val_loss: 1.0291\n",
      "Epoch 23/2000\n",
      "2/2 - 0s - loss: 0.9515 - val_loss: 1.0233\n",
      "Epoch 24/2000\n",
      "2/2 - 0s - loss: 0.9462 - val_loss: 1.0261\n",
      "Epoch 25/2000\n",
      "2/2 - 0s - loss: 0.9487 - val_loss: 1.0200\n",
      "Epoch 26/2000\n",
      "2/2 - 0s - loss: 0.9432 - val_loss: 1.0137\n",
      "Epoch 27/2000\n",
      "2/2 - 0s - loss: 0.9377 - val_loss: 1.0167\n",
      "Epoch 28/2000\n",
      "2/2 - 0s - loss: 0.9403 - val_loss: 1.0103\n",
      "Epoch 29/2000\n",
      "2/2 - 0s - loss: 0.9345 - val_loss: 1.0038\n",
      "Epoch 30/2000\n",
      "2/2 - 0s - loss: 0.9287 - val_loss: 1.0070\n",
      "Epoch 31/2000\n",
      "2/2 - 0s - loss: 0.9314 - val_loss: 1.0003\n",
      "Epoch 32/2000\n",
      "2/2 - 0s - loss: 0.9254 - val_loss: 0.9935\n",
      "Epoch 33/2000\n",
      "2/2 - 0s - loss: 0.9193 - val_loss: 0.9968\n",
      "Epoch 34/2000\n",
      "2/2 - 0s - loss: 0.9223 - val_loss: 0.9899\n",
      "Epoch 35/2000\n",
      "2/2 - 0s - loss: 0.9159 - val_loss: 0.9829\n",
      "Epoch 36/2000\n",
      "2/2 - 0s - loss: 0.9097 - val_loss: 0.9863\n",
      "Epoch 37/2000\n",
      "2/2 - 0s - loss: 0.9128 - val_loss: 0.9792\n",
      "Epoch 38/2000\n",
      "2/2 - 0s - loss: 0.9063 - val_loss: 0.9721\n",
      "Epoch 39/2000\n",
      "2/2 - 0s - loss: 0.8998 - val_loss: 0.9756\n",
      "Epoch 40/2000\n",
      "2/2 - 0s - loss: 0.9028 - val_loss: 0.9682\n",
      "Epoch 41/2000\n",
      "2/2 - 0s - loss: 0.8963 - val_loss: 0.9608\n",
      "Epoch 42/2000\n",
      "2/2 - 0s - loss: 0.8895 - val_loss: 0.9644\n",
      "Epoch 43/2000\n",
      "2/2 - 0s - loss: 0.8927 - val_loss: 0.9568\n",
      "Epoch 44/2000\n",
      "2/2 - 0s - loss: 0.8859 - val_loss: 0.9492\n",
      "Epoch 45/2000\n",
      "2/2 - 0s - loss: 0.8790 - val_loss: 0.9529\n",
      "Epoch 46/2000\n",
      "2/2 - 0s - loss: 0.8823 - val_loss: 0.9452\n",
      "Epoch 47/2000\n",
      "2/2 - 0s - loss: 0.8752 - val_loss: 0.9375\n",
      "Epoch 48/2000\n",
      "2/2 - 0s - loss: 0.8681 - val_loss: 0.9412\n",
      "Epoch 49/2000\n",
      "2/2 - 0s - loss: 0.8717 - val_loss: 0.9333\n",
      "Epoch 50/2000\n",
      "2/2 - 0s - loss: 0.8644 - val_loss: 0.9254\n",
      "Epoch 51/2000\n",
      "2/2 - 0s - loss: 0.8570 - val_loss: 0.9293\n",
      "Epoch 52/2000\n",
      "2/2 - 0s - loss: 0.8608 - val_loss: 0.9212\n",
      "Epoch 53/2000\n",
      "2/2 - 0s - loss: 0.8533 - val_loss: 0.9132\n",
      "Epoch 54/2000\n",
      "2/2 - 0s - loss: 0.8460 - val_loss: 0.9172\n",
      "Epoch 55/2000\n",
      "2/2 - 0s - loss: 0.8496 - val_loss: 0.9090\n",
      "Epoch 56/2000\n",
      "2/2 - 0s - loss: 0.8423 - val_loss: 0.9009\n",
      "Epoch 57/2000\n",
      "2/2 - 0s - loss: 0.8347 - val_loss: 0.9049\n",
      "Epoch 58/2000\n",
      "2/2 - 0s - loss: 0.8384 - val_loss: 0.8966\n",
      "Epoch 59/2000\n",
      "2/2 - 0s - loss: 0.8309 - val_loss: 0.8884\n",
      "Epoch 60/2000\n",
      "2/2 - 0s - loss: 0.8233 - val_loss: 0.8925\n",
      "Epoch 61/2000\n",
      "2/2 - 0s - loss: 0.8270 - val_loss: 0.8841\n",
      "Epoch 62/2000\n",
      "2/2 - 0s - loss: 0.8194 - val_loss: 0.8758\n",
      "Epoch 63/2000\n",
      "2/2 - 0s - loss: 0.8118 - val_loss: 0.8799\n",
      "Epoch 64/2000\n",
      "2/2 - 0s - loss: 0.8154 - val_loss: 0.8714\n",
      "Epoch 65/2000\n",
      "2/2 - 0s - loss: 0.8076 - val_loss: 0.8628\n",
      "Epoch 66/2000\n",
      "2/2 - 0s - loss: 0.7996 - val_loss: 0.8669\n",
      "Epoch 67/2000\n",
      "2/2 - 0s - loss: 0.8035 - val_loss: 0.8580\n",
      "Epoch 68/2000\n",
      "2/2 - 0s - loss: 0.7955 - val_loss: 0.8492\n",
      "Epoch 69/2000\n",
      "2/2 - 0s - loss: 0.7873 - val_loss: 0.8536\n",
      "Epoch 70/2000\n",
      "2/2 - 0s - loss: 0.7914 - val_loss: 0.8449\n",
      "Epoch 71/2000\n",
      "2/2 - 0s - loss: 0.7833 - val_loss: 0.8361\n",
      "Epoch 72/2000\n",
      "2/2 - 0s - loss: 0.7752 - val_loss: 0.8404\n",
      "Epoch 73/2000\n",
      "2/2 - 0s - loss: 0.7792 - val_loss: 0.8315\n",
      "Epoch 74/2000\n",
      "2/2 - 0s - loss: 0.7709 - val_loss: 0.8226\n",
      "Epoch 75/2000\n",
      "2/2 - 0s - loss: 0.7626 - val_loss: 0.8269\n",
      "Epoch 76/2000\n",
      "2/2 - 0s - loss: 0.7668 - val_loss: 0.8179\n",
      "Epoch 77/2000\n",
      "2/2 - 0s - loss: 0.7583 - val_loss: 0.8089\n",
      "Epoch 78/2000\n",
      "2/2 - 0s - loss: 0.7500 - val_loss: 0.8134\n",
      "Epoch 79/2000\n",
      "2/2 - 0s - loss: 0.7541 - val_loss: 0.8044\n",
      "Epoch 80/2000\n",
      "2/2 - 0s - loss: 0.7456 - val_loss: 0.7953\n",
      "Epoch 81/2000\n",
      "2/2 - 0s - loss: 0.7371 - val_loss: 0.7997\n",
      "Epoch 82/2000\n",
      "2/2 - 0s - loss: 0.7412 - val_loss: 0.7904\n",
      "Epoch 83/2000\n",
      "2/2 - 0s - loss: 0.7325 - val_loss: 0.7812\n",
      "Epoch 84/2000\n",
      "2/2 - 0s - loss: 0.7240 - val_loss: 0.7857\n",
      "Epoch 85/2000\n",
      "2/2 - 0s - loss: 0.7281 - val_loss: 0.7765\n",
      "Epoch 86/2000\n",
      "2/2 - 0s - loss: 0.7195 - val_loss: 0.7671\n",
      "Epoch 87/2000\n",
      "2/2 - 0s - loss: 0.7107 - val_loss: 0.7717\n",
      "Epoch 88/2000\n",
      "2/2 - 0s - loss: 0.7149 - val_loss: 0.7623\n",
      "Epoch 89/2000\n",
      "2/2 - 0s - loss: 0.7061 - val_loss: 0.7528\n",
      "Epoch 90/2000\n",
      "2/2 - 0s - loss: 0.6971 - val_loss: 0.7575\n",
      "Epoch 91/2000\n",
      "2/2 - 0s - loss: 0.7016 - val_loss: 0.7480\n",
      "Epoch 92/2000\n",
      "2/2 - 0s - loss: 0.6926 - val_loss: 0.7386\n",
      "Epoch 93/2000\n",
      "2/2 - 0s - loss: 0.6836 - val_loss: 0.7433\n",
      "Epoch 94/2000\n",
      "2/2 - 0s - loss: 0.6880 - val_loss: 0.7338\n",
      "Epoch 95/2000\n",
      "2/2 - 0s - loss: 0.6789 - val_loss: 0.7243\n",
      "Epoch 96/2000\n",
      "2/2 - 0s - loss: 0.6699 - val_loss: 0.7290\n",
      "Epoch 97/2000\n",
      "2/2 - 0s - loss: 0.6743 - val_loss: 0.7193\n",
      "Epoch 98/2000\n",
      "2/2 - 0s - loss: 0.6652 - val_loss: 0.7096\n",
      "Epoch 99/2000\n",
      "2/2 - 0s - loss: 0.6560 - val_loss: 0.7144\n",
      "Epoch 100/2000\n",
      "2/2 - 0s - loss: 0.6604 - val_loss: 0.7047\n",
      "Epoch 101/2000\n",
      "2/2 - 0s - loss: 0.6511 - val_loss: 0.6948\n",
      "Epoch 102/2000\n",
      "2/2 - 0s - loss: 0.6417 - val_loss: 0.6996\n",
      "Epoch 103/2000\n",
      "2/2 - 0s - loss: 0.6466 - val_loss: 0.6896\n",
      "Epoch 104/2000\n",
      "2/2 - 0s - loss: 0.6371 - val_loss: 0.6798\n",
      "Epoch 105/2000\n",
      "2/2 - 0s - loss: 0.6275 - val_loss: 0.6848\n",
      "Epoch 106/2000\n",
      "2/2 - 0s - loss: 0.6322 - val_loss: 0.6750\n",
      "Epoch 107/2000\n",
      "2/2 - 0s - loss: 0.6228 - val_loss: 0.6651\n",
      "Epoch 108/2000\n",
      "2/2 - 0s - loss: 0.6131 - val_loss: 0.6699\n",
      "Epoch 109/2000\n",
      "2/2 - 0s - loss: 0.6181 - val_loss: 0.6600\n",
      "Epoch 110/2000\n",
      "2/2 - 0s - loss: 0.6081 - val_loss: 0.6502\n",
      "Epoch 111/2000\n",
      "2/2 - 0s - loss: 0.5985 - val_loss: 0.6551\n",
      "Epoch 112/2000\n",
      "2/2 - 0s - loss: 0.6034 - val_loss: 0.6451\n",
      "Epoch 113/2000\n",
      "2/2 - 0s - loss: 0.5936 - val_loss: 0.6351\n",
      "Epoch 114/2000\n",
      "2/2 - 0s - loss: 0.5839 - val_loss: 0.6401\n",
      "Epoch 115/2000\n",
      "2/2 - 0s - loss: 0.5887 - val_loss: 0.6301\n",
      "Epoch 116/2000\n",
      "2/2 - 0s - loss: 0.5790 - val_loss: 0.6201\n",
      "Epoch 117/2000\n",
      "2/2 - 0s - loss: 0.5692 - val_loss: 0.6251\n",
      "Epoch 118/2000\n",
      "2/2 - 0s - loss: 0.5740 - val_loss: 0.6152\n",
      "Epoch 119/2000\n",
      "2/2 - 0s - loss: 0.5643 - val_loss: 0.6053\n",
      "Epoch 120/2000\n",
      "2/2 - 0s - loss: 0.5543 - val_loss: 0.6102\n",
      "Epoch 121/2000\n",
      "2/2 - 0s - loss: 0.5594 - val_loss: 0.6001\n",
      "Epoch 122/2000\n",
      "2/2 - 0s - loss: 0.5494 - val_loss: 0.5901\n",
      "Epoch 123/2000\n",
      "2/2 - 0s - loss: 0.5394 - val_loss: 0.5952\n",
      "Epoch 124/2000\n",
      "2/2 - 0s - loss: 0.5444 - val_loss: 0.5852\n",
      "Epoch 125/2000\n",
      "2/2 - 0s - loss: 0.5345 - val_loss: 0.5753\n",
      "Epoch 126/2000\n",
      "2/2 - 0s - loss: 0.5245 - val_loss: 0.5802\n",
      "Epoch 127/2000\n",
      "2/2 - 0s - loss: 0.5294 - val_loss: 0.5701\n",
      "Epoch 128/2000\n",
      "2/2 - 0s - loss: 0.5193 - val_loss: 0.5600\n",
      "Epoch 129/2000\n",
      "2/2 - 0s - loss: 0.5092 - val_loss: 0.5650\n",
      "Epoch 130/2000\n",
      "2/2 - 0s - loss: 0.5141 - val_loss: 0.5549\n",
      "Epoch 131/2000\n",
      "2/2 - 0s - loss: 0.5041 - val_loss: 0.5447\n",
      "Epoch 132/2000\n",
      "2/2 - 0s - loss: 0.4937 - val_loss: 0.5498\n",
      "Epoch 133/2000\n",
      "2/2 - 0s - loss: 0.4988 - val_loss: 0.5397\n",
      "Epoch 134/2000\n",
      "2/2 - 0s - loss: 0.4886 - val_loss: 0.5296\n",
      "Epoch 135/2000\n",
      "2/2 - 0s - loss: 0.4785 - val_loss: 0.5346\n",
      "Epoch 136/2000\n",
      "2/2 - 0s - loss: 0.4837 - val_loss: 0.5247\n",
      "Epoch 137/2000\n",
      "2/2 - 0s - loss: 0.4734 - val_loss: 0.5149\n",
      "Epoch 138/2000\n",
      "2/2 - 0s - loss: 0.4634 - val_loss: 0.5199\n",
      "Epoch 139/2000\n",
      "2/2 - 0s - loss: 0.4683 - val_loss: 0.5102\n",
      "Epoch 140/2000\n",
      "2/2 - 0s - loss: 0.4583 - val_loss: 0.5005\n",
      "Epoch 141/2000\n",
      "2/2 - 0s - loss: 0.4482 - val_loss: 0.5052\n",
      "Epoch 142/2000\n",
      "2/2 - 0s - loss: 0.4530 - val_loss: 0.4953\n",
      "Epoch 143/2000\n",
      "2/2 - 0s - loss: 0.4429 - val_loss: 0.4854\n",
      "Epoch 144/2000\n"
     ]
    },
    {
     "name": "stdout",
     "output_type": "stream",
     "text": [
      "2/2 - 0s - loss: 0.4324 - val_loss: 0.4903\n",
      "Epoch 145/2000\n",
      "2/2 - 0s - loss: 0.4373 - val_loss: 0.4803\n",
      "Epoch 146/2000\n",
      "2/2 - 0s - loss: 0.4271 - val_loss: 0.4703\n",
      "Epoch 147/2000\n",
      "2/2 - 0s - loss: 0.4168 - val_loss: 0.4753\n",
      "Epoch 148/2000\n",
      "2/2 - 0s - loss: 0.4218 - val_loss: 0.4656\n",
      "Epoch 149/2000\n",
      "2/2 - 0s - loss: 0.4117 - val_loss: 0.4561\n",
      "Epoch 150/2000\n",
      "2/2 - 0s - loss: 0.4017 - val_loss: 0.4609\n",
      "Epoch 151/2000\n",
      "2/2 - 0s - loss: 0.4066 - val_loss: 0.4517\n",
      "Epoch 152/2000\n",
      "2/2 - 0s - loss: 0.3968 - val_loss: 0.4425\n",
      "Epoch 153/2000\n",
      "2/2 - 0s - loss: 0.3871 - val_loss: 0.4471\n",
      "Epoch 154/2000\n",
      "2/2 - 0s - loss: 0.3919 - val_loss: 0.4381\n",
      "Epoch 155/2000\n",
      "2/2 - 0s - loss: 0.3822 - val_loss: 0.4294\n",
      "Epoch 156/2000\n",
      "2/2 - 0s - loss: 0.3731 - val_loss: 0.4338\n",
      "Epoch 157/2000\n",
      "2/2 - 0s - loss: 0.3778 - val_loss: 0.4257\n",
      "Epoch 158/2000\n",
      "2/2 - 0s - loss: 0.3686 - val_loss: 0.4179\n",
      "Epoch 159/2000\n",
      "2/2 - 0s - loss: 0.3599 - val_loss: 0.4218\n",
      "Epoch 160/2000\n",
      "2/2 - 0s - loss: 0.3644 - val_loss: 0.4143\n",
      "Epoch 161/2000\n",
      "2/2 - 0s - loss: 0.3556 - val_loss: 0.4069\n",
      "Epoch 162/2000\n",
      "2/2 - 0s - loss: 0.3472 - val_loss: 0.4105\n",
      "Epoch 163/2000\n",
      "2/2 - 0s - loss: 0.3514 - val_loss: 0.4032\n",
      "Epoch 164/2000\n",
      "2/2 - 0s - loss: 0.3428 - val_loss: 0.3960\n",
      "Epoch 165/2000\n",
      "2/2 - 0s - loss: 0.3345 - val_loss: 0.3996\n",
      "Epoch 166/2000\n",
      "2/2 - 0s - loss: 0.3388 - val_loss: 0.3925\n",
      "Epoch 167/2000\n",
      "2/2 - 0s - loss: 0.3305 - val_loss: 0.3858\n",
      "Epoch 168/2000\n",
      "2/2 - 0s - loss: 0.3224 - val_loss: 0.3892\n",
      "Epoch 169/2000\n",
      "2/2 - 0s - loss: 0.3267 - val_loss: 0.3827\n",
      "Epoch 170/2000\n",
      "2/2 - 0s - loss: 0.3188 - val_loss: 0.3766\n",
      "Epoch 171/2000\n",
      "2/2 - 0s - loss: 0.3113 - val_loss: 0.3797\n",
      "Epoch 172/2000\n",
      "2/2 - 0s - loss: 0.3150 - val_loss: 0.3737\n",
      "Epoch 173/2000\n",
      "2/2 - 0s - loss: 0.3080 - val_loss: 0.3682\n",
      "Epoch 174/2000\n",
      "2/2 - 0s - loss: 0.3007 - val_loss: 0.3711\n",
      "Epoch 175/2000\n",
      "2/2 - 0s - loss: 0.3043 - val_loss: 0.3660\n",
      "Epoch 176/2000\n",
      "2/2 - 0s - loss: 0.2976 - val_loss: 0.3610\n",
      "Epoch 177/2000\n",
      "2/2 - 0s - loss: 0.2910 - val_loss: 0.3635\n",
      "Epoch 178/2000\n",
      "2/2 - 0s - loss: 0.2941 - val_loss: 0.3586\n",
      "Epoch 179/2000\n",
      "2/2 - 0s - loss: 0.2879 - val_loss: 0.3539\n",
      "Epoch 180/2000\n",
      "2/2 - 0s - loss: 0.2815 - val_loss: 0.3563\n",
      "Epoch 181/2000\n",
      "2/2 - 0s - loss: 0.2846 - val_loss: 0.3519\n",
      "Epoch 182/2000\n",
      "2/2 - 0s - loss: 0.2785 - val_loss: 0.3477\n",
      "Epoch 183/2000\n",
      "2/2 - 0s - loss: 0.2725 - val_loss: 0.3497\n",
      "Epoch 184/2000\n",
      "2/2 - 0s - loss: 0.2756 - val_loss: 0.3457\n",
      "Epoch 185/2000\n",
      "2/2 - 0s - loss: 0.2697 - val_loss: 0.3419\n",
      "Epoch 186/2000\n",
      "2/2 - 0s - loss: 0.2642 - val_loss: 0.3438\n",
      "Epoch 187/2000\n",
      "2/2 - 0s - loss: 0.2671 - val_loss: 0.3402\n",
      "Epoch 188/2000\n",
      "2/2 - 0s - loss: 0.2614 - val_loss: 0.3368\n",
      "Epoch 189/2000\n",
      "2/2 - 0s - loss: 0.2565 - val_loss: 0.3385\n",
      "Epoch 190/2000\n",
      "2/2 - 0s - loss: 0.2593 - val_loss: 0.3353\n",
      "Epoch 191/2000\n",
      "2/2 - 0s - loss: 0.2538 - val_loss: 0.3325\n",
      "Epoch 192/2000\n",
      "2/2 - 0s - loss: 0.2493 - val_loss: 0.3339\n",
      "Epoch 193/2000\n",
      "2/2 - 0s - loss: 0.2516 - val_loss: 0.3312\n",
      "Epoch 194/2000\n",
      "2/2 - 0s - loss: 0.2470 - val_loss: 0.3286\n",
      "Epoch 195/2000\n",
      "2/2 - 0s - loss: 0.2425 - val_loss: 0.3299\n",
      "Epoch 196/2000\n",
      "2/2 - 0s - loss: 0.2448 - val_loss: 0.3276\n",
      "Epoch 197/2000\n",
      "2/2 - 0s - loss: 0.2405 - val_loss: 0.3255\n",
      "Epoch 198/2000\n",
      "2/2 - 0s - loss: 0.2364 - val_loss: 0.3265\n",
      "Epoch 199/2000\n",
      "2/2 - 0s - loss: 0.2383 - val_loss: 0.3246\n",
      "Epoch 200/2000\n",
      "2/2 - 0s - loss: 0.2344 - val_loss: 0.3227\n",
      "Epoch 201/2000\n",
      "2/2 - 0s - loss: 0.2304 - val_loss: 0.3236\n",
      "Epoch 202/2000\n",
      "2/2 - 0s - loss: 0.2324 - val_loss: 0.3219\n",
      "Epoch 203/2000\n",
      "2/2 - 0s - loss: 0.2288 - val_loss: 0.3204\n",
      "Epoch 204/2000\n",
      "2/2 - 0s - loss: 0.2252 - val_loss: 0.3212\n",
      "Epoch 205/2000\n",
      "2/2 - 0s - loss: 0.2270 - val_loss: 0.3200\n",
      "Epoch 206/2000\n",
      "2/2 - 0s - loss: 0.2239 - val_loss: 0.3189\n",
      "Epoch 207/2000\n",
      "2/2 - 0s - loss: 0.2205 - val_loss: 0.3194\n",
      "Epoch 208/2000\n",
      "2/2 - 0s - loss: 0.2223 - val_loss: 0.3184\n",
      "Epoch 209/2000\n",
      "2/2 - 0s - loss: 0.2191 - val_loss: 0.3175\n",
      "Epoch 210/2000\n",
      "2/2 - 0s - loss: 0.2161 - val_loss: 0.3179\n",
      "Epoch 211/2000\n",
      "2/2 - 0s - loss: 0.2177 - val_loss: 0.3171\n",
      "Epoch 212/2000\n",
      "2/2 - 0s - loss: 0.2149 - val_loss: 0.3164\n",
      "Epoch 213/2000\n",
      "2/2 - 0s - loss: 0.2121 - val_loss: 0.3168\n",
      "Epoch 214/2000\n",
      "2/2 - 0s - loss: 0.2137 - val_loss: 0.3162\n",
      "Epoch 215/2000\n",
      "2/2 - 0s - loss: 0.2109 - val_loss: 0.3157\n",
      "Epoch 216/2000\n",
      "2/2 - 0s - loss: 0.2086 - val_loss: 0.3160\n",
      "Epoch 217/2000\n",
      "2/2 - 0s - loss: 0.2098 - val_loss: 0.3156\n",
      "Epoch 218/2000\n",
      "2/2 - 0s - loss: 0.2075 - val_loss: 0.3152\n",
      "Epoch 219/2000\n",
      "2/2 - 0s - loss: 0.2052 - val_loss: 0.3154\n",
      "Epoch 220/2000\n",
      "2/2 - 0s - loss: 0.2064 - val_loss: 0.3149\n",
      "Epoch 221/2000\n",
      "2/2 - 0s - loss: 0.2041 - val_loss: 0.3146\n",
      "Epoch 222/2000\n",
      "2/2 - 0s - loss: 0.2020 - val_loss: 0.3148\n",
      "Epoch 223/2000\n",
      "2/2 - 0s - loss: 0.2030 - val_loss: 0.3145\n",
      "Epoch 224/2000\n",
      "2/2 - 0s - loss: 0.2008 - val_loss: 0.3142\n",
      "Epoch 225/2000\n",
      "2/2 - 0s - loss: 0.1988 - val_loss: 0.3143\n",
      "Epoch 226/2000\n",
      "2/2 - 0s - loss: 0.1997 - val_loss: 0.3141\n",
      "Epoch 227/2000\n",
      "2/2 - 0s - loss: 0.1978 - val_loss: 0.3140\n",
      "Epoch 228/2000\n",
      "2/2 - 0s - loss: 0.1957 - val_loss: 0.3140\n",
      "Epoch 229/2000\n",
      "2/2 - 0s - loss: 0.1967 - val_loss: 0.3139\n",
      "Epoch 230/2000\n",
      "2/2 - 0s - loss: 0.1948 - val_loss: 0.3139\n",
      "Epoch 231/2000\n",
      "2/2 - 0s - loss: 0.1928 - val_loss: 0.3139\n",
      "Epoch 232/2000\n",
      "2/2 - 0s - loss: 0.1939 - val_loss: 0.3138\n",
      "Epoch 233/2000\n",
      "2/2 - 0s - loss: 0.1918 - val_loss: 0.3138\n",
      "Epoch 234/2000\n",
      "2/2 - 0s - loss: 0.1902 - val_loss: 0.3138\n",
      "Epoch 235/2000\n",
      "2/2 - 0s - loss: 0.1910 - val_loss: 0.3137\n",
      "Epoch 236/2000\n",
      "2/2 - 0s - loss: 0.1892 - val_loss: 0.3137\n",
      "Epoch 237/2000\n",
      "2/2 - 0s - loss: 0.1873 - val_loss: 0.3137\n",
      "Epoch 238/2000\n",
      "2/2 - 0s - loss: 0.1882 - val_loss: 0.3137\n",
      "Epoch 239/2000\n",
      "2/2 - 0s - loss: 0.1865 - val_loss: 0.3139\n",
      "Epoch 240/2000\n",
      "2/2 - 0s - loss: 0.1848 - val_loss: 0.3138\n",
      "Epoch 241/2000\n",
      "2/2 - 0s - loss: 0.1856 - val_loss: 0.3139\n",
      "Epoch 242/2000\n",
      "2/2 - 0s - loss: 0.1840 - val_loss: 0.3140\n",
      "Epoch 243/2000\n",
      "2/2 - 0s - loss: 0.1823 - val_loss: 0.3140\n",
      "Epoch 244/2000\n",
      "2/2 - 0s - loss: 0.1831 - val_loss: 0.3142\n",
      "Epoch 245/2000\n",
      "2/2 - 0s - loss: 0.1815 - val_loss: 0.3143\n",
      "Epoch 246/2000\n",
      "2/2 - 0s - loss: 0.1797 - val_loss: 0.3141\n",
      "Epoch 247/2000\n",
      "2/2 - 0s - loss: 0.1806 - val_loss: 0.3142\n",
      "Epoch 248/2000\n",
      "2/2 - 0s - loss: 0.1790 - val_loss: 0.3142\n",
      "Epoch 249/2000\n",
      "2/2 - 0s - loss: 0.1776 - val_loss: 0.3142\n",
      "Epoch 250/2000\n",
      "2/2 - 0s - loss: 0.1783 - val_loss: 0.3143\n",
      "Epoch 251/2000\n",
      "2/2 - 0s - loss: 0.1769 - val_loss: 0.3143\n",
      "Epoch 252/2000\n",
      "2/2 - 0s - loss: 0.1756 - val_loss: 0.3142\n",
      "Epoch 253/2000\n",
      "2/2 - 0s - loss: 0.1763 - val_loss: 0.3139\n",
      "Epoch 254/2000\n",
      "2/2 - 0s - loss: 0.1749 - val_loss: 0.3135\n",
      "Epoch 255/2000\n",
      "2/2 - 0s - loss: 0.1736 - val_loss: 0.3137\n",
      "Epoch 256/2000\n",
      "2/2 - 0s - loss: 0.1742 - val_loss: 0.3135\n",
      "Epoch 257/2000\n",
      "2/2 - 0s - loss: 0.1730 - val_loss: 0.3133\n",
      "Epoch 258/2000\n",
      "2/2 - 0s - loss: 0.1716 - val_loss: 0.3134\n",
      "Epoch 259/2000\n",
      "2/2 - 0s - loss: 0.1723 - val_loss: 0.3133\n",
      "Epoch 260/2000\n",
      "2/2 - 0s - loss: 0.1711 - val_loss: 0.3131\n",
      "Epoch 261/2000\n",
      "2/2 - 0s - loss: 0.1698 - val_loss: 0.3131\n",
      "Epoch 262/2000\n",
      "2/2 - 0s - loss: 0.1704 - val_loss: 0.3131\n",
      "Epoch 263/2000\n",
      "2/2 - 0s - loss: 0.1690 - val_loss: 0.3132\n",
      "Epoch 264/2000\n",
      "2/2 - 0s - loss: 0.1677 - val_loss: 0.3133\n",
      "Epoch 265/2000\n",
      "2/2 - 0s - loss: 0.1684 - val_loss: 0.3134\n",
      "Epoch 266/2000\n",
      "2/2 - 0s - loss: 0.1670 - val_loss: 0.3135\n",
      "Epoch 267/2000\n",
      "2/2 - 0s - loss: 0.1658 - val_loss: 0.3134\n",
      "Epoch 268/2000\n",
      "2/2 - 0s - loss: 0.1664 - val_loss: 0.3136\n",
      "Epoch 269/2000\n",
      "2/2 - 0s - loss: 0.1651 - val_loss: 0.3138\n",
      "Epoch 270/2000\n",
      "2/2 - 0s - loss: 0.1640 - val_loss: 0.3137\n",
      "Epoch 271/2000\n",
      "2/2 - 0s - loss: 0.1645 - val_loss: 0.3139\n",
      "Epoch 272/2000\n",
      "2/2 - 0s - loss: 0.1633 - val_loss: 0.3141\n",
      "Epoch 273/2000\n",
      "2/2 - 0s - loss: 0.1621 - val_loss: 0.3138\n",
      "Epoch 274/2000\n",
      "2/2 - 0s - loss: 0.1627 - val_loss: 0.3135\n",
      "Epoch 275/2000\n",
      "2/2 - 0s - loss: 0.1616 - val_loss: 0.3131\n",
      "Epoch 276/2000\n",
      "2/2 - 0s - loss: 0.1606 - val_loss: 0.3132\n",
      "Epoch 277/2000\n",
      "2/2 - 0s - loss: 0.1611 - val_loss: 0.3128\n",
      "Epoch 278/2000\n",
      "2/2 - 0s - loss: 0.1600 - val_loss: 0.3125\n",
      "Epoch 279/2000\n",
      "2/2 - 0s - loss: 0.1589 - val_loss: 0.3127\n",
      "Epoch 280/2000\n",
      "2/2 - 0s - loss: 0.1595 - val_loss: 0.3127\n",
      "Epoch 281/2000\n",
      "2/2 - 0s - loss: 0.1584 - val_loss: 0.3126\n",
      "Epoch 282/2000\n",
      "2/2 - 0s - loss: 0.1573 - val_loss: 0.3126\n",
      "Epoch 283/2000\n",
      "2/2 - 0s - loss: 0.1579 - val_loss: 0.3125\n",
      "Epoch 284/2000\n",
      "2/2 - 0s - loss: 0.1568 - val_loss: 0.3123\n",
      "Epoch 285/2000\n",
      "2/2 - 0s - loss: 0.1558 - val_loss: 0.3125\n"
     ]
    },
    {
     "name": "stdout",
     "output_type": "stream",
     "text": [
      "Epoch 286/2000\n",
      "2/2 - 0s - loss: 0.1563 - val_loss: 0.3125\n",
      "Epoch 287/2000\n",
      "2/2 - 0s - loss: 0.1553 - val_loss: 0.3126\n",
      "Epoch 288/2000\n",
      "2/2 - 0s - loss: 0.1543 - val_loss: 0.3125\n",
      "Epoch 289/2000\n",
      "2/2 - 0s - loss: 0.1548 - val_loss: 0.3125\n",
      "Epoch 290/2000\n",
      "2/2 - 0s - loss: 0.1537 - val_loss: 0.3125\n",
      "Epoch 291/2000\n",
      "2/2 - 0s - loss: 0.1527 - val_loss: 0.3126\n",
      "Epoch 292/2000\n",
      "2/2 - 0s - loss: 0.1532 - val_loss: 0.3127\n",
      "Epoch 293/2000\n",
      "2/2 - 0s - loss: 0.1522 - val_loss: 0.3127\n",
      "Epoch 294/2000\n",
      "2/2 - 0s - loss: 0.1512 - val_loss: 0.3125\n",
      "Epoch 295/2000\n",
      "2/2 - 0s - loss: 0.1517 - val_loss: 0.3124\n",
      "Epoch 296/2000\n",
      "2/2 - 0s - loss: 0.1509 - val_loss: 0.3124\n",
      "Epoch 297/2000\n",
      "2/2 - 0s - loss: 0.1500 - val_loss: 0.3124\n",
      "Epoch 298/2000\n",
      "2/2 - 0s - loss: 0.1504 - val_loss: 0.3124\n",
      "Epoch 299/2000\n",
      "2/2 - 0s - loss: 0.1494 - val_loss: 0.3124\n",
      "Epoch 300/2000\n",
      "2/2 - 0s - loss: 0.1485 - val_loss: 0.3124\n",
      "Epoch 301/2000\n",
      "2/2 - 0s - loss: 0.1490 - val_loss: 0.3123\n",
      "Epoch 302/2000\n",
      "2/2 - 0s - loss: 0.1481 - val_loss: 0.3121\n",
      "Epoch 303/2000\n",
      "2/2 - 0s - loss: 0.1473 - val_loss: 0.3122\n",
      "Epoch 304/2000\n",
      "2/2 - 0s - loss: 0.1477 - val_loss: 0.3121\n",
      "Epoch 305/2000\n",
      "2/2 - 0s - loss: 0.1468 - val_loss: 0.3123\n",
      "Epoch 306/2000\n",
      "2/2 - 0s - loss: 0.1460 - val_loss: 0.3124\n",
      "Epoch 307/2000\n",
      "2/2 - 0s - loss: 0.1463 - val_loss: 0.3127\n",
      "Epoch 308/2000\n",
      "2/2 - 0s - loss: 0.1455 - val_loss: 0.3131\n",
      "Epoch 309/2000\n",
      "2/2 - 0s - loss: 0.1446 - val_loss: 0.3129\n",
      "Epoch 310/2000\n",
      "2/2 - 0s - loss: 0.1450 - val_loss: 0.3133\n",
      "Epoch 311/2000\n",
      "2/2 - 0s - loss: 0.1441 - val_loss: 0.3136\n",
      "Epoch 312/2000\n",
      "2/2 - 0s - loss: 0.1432 - val_loss: 0.3134\n",
      "Epoch 313/2000\n",
      "2/2 - 0s - loss: 0.1437 - val_loss: 0.3136\n",
      "Epoch 314/2000\n",
      "2/2 - 0s - loss: 0.1428 - val_loss: 0.3133\n",
      "Epoch 315/2000\n",
      "2/2 - 0s - loss: 0.1420 - val_loss: 0.3133\n",
      "Epoch 316/2000\n",
      "2/2 - 0s - loss: 0.1424 - val_loss: 0.3133\n",
      "Epoch 317/2000\n",
      "2/2 - 0s - loss: 0.1416 - val_loss: 0.3134\n",
      "Epoch 318/2000\n",
      "2/2 - 0s - loss: 0.1408 - val_loss: 0.3134\n",
      "Epoch 319/2000\n",
      "2/2 - 0s - loss: 0.1412 - val_loss: 0.3133\n",
      "Epoch 320/2000\n",
      "2/2 - 0s - loss: 0.1405 - val_loss: 0.3133\n",
      "Epoch 321/2000\n",
      "2/2 - 0s - loss: 0.1398 - val_loss: 0.3133\n",
      "Epoch 322/2000\n",
      "2/2 - 0s - loss: 0.1400 - val_loss: 0.3133\n",
      "Epoch 323/2000\n",
      "2/2 - 0s - loss: 0.1393 - val_loss: 0.3135\n",
      "Epoch 324/2000\n",
      "2/2 - 0s - loss: 0.1385 - val_loss: 0.3133\n",
      "Epoch 325/2000\n",
      "2/2 - 0s - loss: 0.1389 - val_loss: 0.3131\n",
      "Epoch 326/2000\n",
      "2/2 - 0s - loss: 0.1381 - val_loss: 0.3131\n",
      "Epoch 327/2000\n",
      "2/2 - 0s - loss: 0.1374 - val_loss: 0.3132\n",
      "Epoch 328/2000\n",
      "2/2 - 0s - loss: 0.1378 - val_loss: 0.3132\n",
      "Epoch 329/2000\n",
      "2/2 - 0s - loss: 0.1370 - val_loss: 0.3131\n",
      "Epoch 330/2000\n",
      "2/2 - 0s - loss: 0.1363 - val_loss: 0.3132\n",
      "Epoch 331/2000\n",
      "2/2 - 0s - loss: 0.1367 - val_loss: 0.3131\n",
      "Epoch 332/2000\n",
      "2/2 - 0s - loss: 0.1360 - val_loss: 0.3129\n",
      "Epoch 333/2000\n",
      "2/2 - 0s - loss: 0.1353 - val_loss: 0.3129\n",
      "Epoch 334/2000\n",
      "2/2 - 0s - loss: 0.1356 - val_loss: 0.3126\n",
      "Epoch 335/2000\n",
      "2/2 - 0s - loss: 0.1349 - val_loss: 0.3122\n",
      "Epoch 336/2000\n",
      "2/2 - 0s - loss: 0.1343 - val_loss: 0.3124\n",
      "Epoch 337/2000\n",
      "2/2 - 0s - loss: 0.1346 - val_loss: 0.3123\n",
      "Epoch 338/2000\n",
      "2/2 - 0s - loss: 0.1339 - val_loss: 0.3123\n",
      "Epoch 339/2000\n",
      "2/2 - 0s - loss: 0.1332 - val_loss: 0.3124\n",
      "Epoch 340/2000\n",
      "2/2 - 0s - loss: 0.1335 - val_loss: 0.3125\n",
      "Epoch 341/2000\n",
      "2/2 - 0s - loss: 0.1328 - val_loss: 0.3127\n",
      "Epoch 342/2000\n",
      "2/2 - 0s - loss: 0.1321 - val_loss: 0.3126\n",
      "Epoch 343/2000\n",
      "2/2 - 0s - loss: 0.1325 - val_loss: 0.3126\n",
      "Epoch 344/2000\n",
      "2/2 - 0s - loss: 0.1318 - val_loss: 0.3127\n",
      "Epoch 345/2000\n",
      "2/2 - 0s - loss: 0.1311 - val_loss: 0.3127\n",
      "Epoch 346/2000\n",
      "2/2 - 0s - loss: 0.1315 - val_loss: 0.3128\n",
      "Epoch 347/2000\n",
      "2/2 - 0s - loss: 0.1308 - val_loss: 0.3130\n",
      "Epoch 348/2000\n",
      "2/2 - 0s - loss: 0.1302 - val_loss: 0.3129\n",
      "Epoch 349/2000\n",
      "2/2 - 0s - loss: 0.1305 - val_loss: 0.3130\n",
      "Epoch 350/2000\n",
      "2/2 - 0s - loss: 0.1299 - val_loss: 0.3132\n",
      "Epoch 351/2000\n",
      "2/2 - 0s - loss: 0.1292 - val_loss: 0.3131\n",
      "Epoch 352/2000\n",
      "2/2 - 0s - loss: 0.1296 - val_loss: 0.3133\n",
      "Epoch 353/2000\n",
      "2/2 - 0s - loss: 0.1289 - val_loss: 0.3135\n",
      "Epoch 354/2000\n",
      "2/2 - 0s - loss: 0.1283 - val_loss: 0.3135\n",
      "Epoch 00354: early stopping\n",
      "CPU times: user 1min 57s, sys: 26.2 s, total: 2min 23s\n",
      "Wall time: 20 s\n"
     ]
    },
    {
     "data": {
      "application/javascript": [
       "\n",
       "            setTimeout(function() {\n",
       "                var nbb_cell_id = 25;\n",
       "                var nbb_unformatted_code = \"%%time\\nhistory = model.fit(\\n    input_train,\\n    y_train.reshape(-1, 1),\\n    epochs=2000,\\n    batch_size=1024,\\n    validation_data=(input_valid, y_valid.reshape(-1, 1),),\\n    verbose=2,\\n    callbacks=[EarlyStopping(monitor=\\\"val_loss\\\", patience=50, verbose=1)],\\n    #class_weight=None#class_weight\\n)\";\n",
       "                var nbb_formatted_code = \"%%time\\nhistory = model.fit(\\n    input_train,\\n    y_train.reshape(-1, 1),\\n    epochs=2000,\\n    batch_size=1024,\\n    validation_data=(input_valid, y_valid.reshape(-1, 1),),\\n    verbose=2,\\n    callbacks=[EarlyStopping(monitor=\\\"val_loss\\\", patience=50, verbose=1)],\\n    #class_weight=None#class_weight\\n)\";\n",
       "                var nbb_cells = Jupyter.notebook.get_cells();\n",
       "                for (var i = 0; i < nbb_cells.length; ++i) {\n",
       "                    if (nbb_cells[i].input_prompt_number == nbb_cell_id) {\n",
       "                        if (nbb_cells[i].get_text() == nbb_unformatted_code) {\n",
       "                             nbb_cells[i].set_text(nbb_formatted_code);\n",
       "                        }\n",
       "                        break;\n",
       "                    }\n",
       "                }\n",
       "            }, 500);\n",
       "            "
      ],
      "text/plain": [
       "<IPython.core.display.Javascript object>"
      ]
     },
     "metadata": {},
     "output_type": "display_data"
    }
   ],
   "source": [
    "%%time\n",
    "history = model.fit(\n",
    "    input_train,\n",
    "    y_train.reshape(-1, 1),\n",
    "    epochs=2000,\n",
    "    batch_size=1024,\n",
    "    validation_data=(input_valid, y_valid.reshape(-1, 1),),\n",
    "    verbose=2,\n",
    "    callbacks=[EarlyStopping(monitor=\"val_loss\", patience=50, verbose=1)],\n",
    "    #class_weight=None#class_weight\n",
    ")"
   ]
  },
  {
   "cell_type": "code",
   "execution_count": 26,
   "metadata": {
    "ExecuteTime": {
     "end_time": "2020-09-19T17:12:34.532826Z",
     "start_time": "2020-09-19T17:12:34.401216Z"
    }
   },
   "outputs": [
    {
     "data": {
      "image/png": "[encoded data removed]",
      "text/plain": [
       "<Figure size 432x288 with 1 Axes>"
      ]
     },
     "metadata": {
      "needs_background": "light"
     },
     "output_type": "display_data"
    },
    {
     "data": {
      "application/javascript": [
       "\n",
       "            setTimeout(function() {\n",
       "                var nbb_cell_id = 26;\n",
       "                var nbb_unformatted_code = \"plot_history(history)\";\n",
       "                var nbb_formatted_code = \"plot_history(history)\";\n",
       "                var nbb_cells = Jupyter.notebook.get_cells();\n",
       "                for (var i = 0; i < nbb_cells.length; ++i) {\n",
       "                    if (nbb_cells[i].input_prompt_number == nbb_cell_id) {\n",
       "                        if (nbb_cells[i].get_text() == nbb_unformatted_code) {\n",
       "                             nbb_cells[i].set_text(nbb_formatted_code);\n",
       "                        }\n",
       "                        break;\n",
       "                    }\n",
       "                }\n",
       "            }, 500);\n",
       "            "
      ],
      "text/plain": [
       "<IPython.core.display.Javascript object>"
      ]
     },
     "metadata": {},
     "output_type": "display_data"
    }
   ],
   "source": [
    "plot_history(history)"
   ]
  },
  {
   "cell_type": "code",
   "execution_count": 27,
   "metadata": {
    "ExecuteTime": {
     "end_time": "2020-09-19T17:12:34.831294Z",
     "start_time": "2020-09-19T17:12:34.533801Z"
    }
   },
   "outputs": [
    {
     "data": {
      "text/plain": [
       "21797.53396381579"
      ]
     },
     "execution_count": 27,
     "metadata": {},
     "output_type": "execute_result"
    },
    {
     "data": {
      "application/javascript": [
       "\n",
       "            setTimeout(function() {\n",
       "                var nbb_cell_id = 27;\n",
       "                var nbb_unformatted_code = \"model_auc = mean_absolute_error(\\n    y_pred=target_encoder.inverse_transform(model.predict(input_valid)).reshape(-1),\\n    y_true=train[target].values[valid_indices],\\n)\\nmodel_auc\";\n",
       "                var nbb_formatted_code = \"model_auc = mean_absolute_error(\\n    y_pred=target_encoder.inverse_transform(model.predict(input_valid)).reshape(-1),\\n    y_true=train[target].values[valid_indices],\\n)\\nmodel_auc\";\n",
       "                var nbb_cells = Jupyter.notebook.get_cells();\n",
       "                for (var i = 0; i < nbb_cells.length; ++i) {\n",
       "                    if (nbb_cells[i].input_prompt_number == nbb_cell_id) {\n",
       "                        if (nbb_cells[i].get_text() == nbb_unformatted_code) {\n",
       "                             nbb_cells[i].set_text(nbb_formatted_code);\n",
       "                        }\n",
       "                        break;\n",
       "                    }\n",
       "                }\n",
       "            }, 500);\n",
       "            "
      ],
      "text/plain": [
       "<IPython.core.display.Javascript object>"
      ]
     },
     "metadata": {},
     "output_type": "display_data"
    }
   ],
   "source": [
    "model_auc = mean_absolute_error(\n",
    "    y_pred=target_encoder.inverse_transform(model.predict(input_valid)).reshape(-1),\n",
    "    y_true=train[target].values[valid_indices],\n",
    ")\n",
    "model_auc"
   ]
  },
  {
   "cell_type": "code",
   "execution_count": 28,
   "metadata": {
    "ExecuteTime": {
     "end_time": "2020-09-19T17:12:34.884934Z",
     "start_time": "2020-09-19T17:12:34.832182Z"
    }
   },
   "outputs": [
    {
     "data": {
      "text/plain": [
       "1977252545.9905922"
      ]
     },
     "execution_count": 28,
     "metadata": {},
     "output_type": "execute_result"
    },
    {
     "data": {
      "application/javascript": [
       "\n",
       "            setTimeout(function() {\n",
       "                var nbb_cell_id = 28;\n",
       "                var nbb_unformatted_code = \"model_auc = mean_squared_error(\\n    y_pred=target_encoder.inverse_transform(model.predict(input_valid)).reshape(-1),\\n    y_true=train[target].values[valid_indices],\\n)\\nmodel_auc\";\n",
       "                var nbb_formatted_code = \"model_auc = mean_squared_error(\\n    y_pred=target_encoder.inverse_transform(model.predict(input_valid)).reshape(-1),\\n    y_true=train[target].values[valid_indices],\\n)\\nmodel_auc\";\n",
       "                var nbb_cells = Jupyter.notebook.get_cells();\n",
       "                for (var i = 0; i < nbb_cells.length; ++i) {\n",
       "                    if (nbb_cells[i].input_prompt_number == nbb_cell_id) {\n",
       "                        if (nbb_cells[i].get_text() == nbb_unformatted_code) {\n",
       "                             nbb_cells[i].set_text(nbb_formatted_code);\n",
       "                        }\n",
       "                        break;\n",
       "                    }\n",
       "                }\n",
       "            }, 500);\n",
       "            "
      ],
      "text/plain": [
       "<IPython.core.display.Javascript object>"
      ]
     },
     "metadata": {},
     "output_type": "display_data"
    }
   ],
   "source": [
    "model_auc = mean_squared_error(\n",
    "    y_pred=target_encoder.inverse_transform(model.predict(input_valid)).reshape(-1),\n",
    "    y_true=train[target].values[valid_indices],\n",
    ")\n",
    "model_auc"
   ]
  },
  {
   "cell_type": "code",
   "execution_count": 29,
   "metadata": {
    "ExecuteTime": {
     "end_time": "2020-09-19T17:12:34.938457Z",
     "start_time": "2020-09-19T17:12:34.885867Z"
    }
   },
   "outputs": [
    {
     "data": {
      "text/plain": [
       "20278.334011130137"
      ]
     },
     "execution_count": 29,
     "metadata": {},
     "output_type": "execute_result"
    },
    {
     "data": {
      "application/javascript": [
       "\n",
       "            setTimeout(function() {\n",
       "                var nbb_cell_id = 29;\n",
       "                var nbb_unformatted_code = \"model_auc = mean_absolute_error(\\n    y_pred=target_encoder.inverse_transform(model.predict(input_test)).reshape(-1),\\n    y_true=train[target].values[test_indices],\\n)\\nmodel_auc\";\n",
       "                var nbb_formatted_code = \"model_auc = mean_absolute_error(\\n    y_pred=target_encoder.inverse_transform(model.predict(input_test)).reshape(-1),\\n    y_true=train[target].values[test_indices],\\n)\\nmodel_auc\";\n",
       "                var nbb_cells = Jupyter.notebook.get_cells();\n",
       "                for (var i = 0; i < nbb_cells.length; ++i) {\n",
       "                    if (nbb_cells[i].input_prompt_number == nbb_cell_id) {\n",
       "                        if (nbb_cells[i].get_text() == nbb_unformatted_code) {\n",
       "                             nbb_cells[i].set_text(nbb_formatted_code);\n",
       "                        }\n",
       "                        break;\n",
       "                    }\n",
       "                }\n",
       "            }, 500);\n",
       "            "
      ],
      "text/plain": [
       "<IPython.core.display.Javascript object>"
      ]
     },
     "metadata": {},
     "output_type": "display_data"
    }
   ],
   "source": [
    "model_auc = mean_absolute_error(\n",
    "    y_pred=target_encoder.inverse_transform(model.predict(input_test)).reshape(-1),\n",
    "    y_true=train[target].values[test_indices],\n",
    ")\n",
    "model_auc"
   ]
  },
  {
   "cell_type": "code",
   "execution_count": 30,
   "metadata": {
    "ExecuteTime": {
     "end_time": "2020-09-19T17:12:34.991577Z",
     "start_time": "2020-09-19T17:12:34.939324Z"
    }
   },
   "outputs": [
    {
     "data": {
      "text/plain": [
       "1481659674.2370112"
      ]
     },
     "execution_count": 30,
     "metadata": {},
     "output_type": "execute_result"
    },
    {
     "data": {
      "application/javascript": [
       "\n",
       "            setTimeout(function() {\n",
       "                var nbb_cell_id = 30;\n",
       "                var nbb_unformatted_code = \"model_auc = mean_squared_error(\\n    y_pred=target_encoder.inverse_transform(model.predict(input_test)).reshape(-1),\\n    y_true=train[target].values[test_indices],\\n)\\nmodel_auc\";\n",
       "                var nbb_formatted_code = \"model_auc = mean_squared_error(\\n    y_pred=target_encoder.inverse_transform(model.predict(input_test)).reshape(-1),\\n    y_true=train[target].values[test_indices],\\n)\\nmodel_auc\";\n",
       "                var nbb_cells = Jupyter.notebook.get_cells();\n",
       "                for (var i = 0; i < nbb_cells.length; ++i) {\n",
       "                    if (nbb_cells[i].input_prompt_number == nbb_cell_id) {\n",
       "                        if (nbb_cells[i].get_text() == nbb_unformatted_code) {\n",
       "                             nbb_cells[i].set_text(nbb_formatted_code);\n",
       "                        }\n",
       "                        break;\n",
       "                    }\n",
       "                }\n",
       "            }, 500);\n",
       "            "
      ],
      "text/plain": [
       "<IPython.core.display.Javascript object>"
      ]
     },
     "metadata": {},
     "output_type": "display_data"
    }
   ],
   "source": [
    "model_auc = mean_squared_error(\n",
    "    y_pred=target_encoder.inverse_transform(model.predict(input_test)).reshape(-1),\n",
    "    y_true=train[target].values[test_indices],\n",
    ")\n",
    "model_auc"
   ]
  },
  {
   "cell_type": "code",
   "execution_count": 31,
   "metadata": {
    "ExecuteTime": {
     "end_time": "2020-09-19T17:12:35.015424Z",
     "start_time": "2020-09-19T17:12:34.992721Z"
    }
   },
   "outputs": [
    {
     "data": {
      "application/javascript": [
       "\n",
       "            setTimeout(function() {\n",
       "                var nbb_cell_id = 31;\n",
       "                var nbb_unformatted_code = \"from xplainet.model import predict, encode\";\n",
       "                var nbb_formatted_code = \"from xplainet.model import predict, encode\";\n",
       "                var nbb_cells = Jupyter.notebook.get_cells();\n",
       "                for (var i = 0; i < nbb_cells.length; ++i) {\n",
       "                    if (nbb_cells[i].input_prompt_number == nbb_cell_id) {\n",
       "                        if (nbb_cells[i].get_text() == nbb_unformatted_code) {\n",
       "                             nbb_cells[i].set_text(nbb_formatted_code);\n",
       "                        }\n",
       "                        break;\n",
       "                    }\n",
       "                }\n",
       "            }, 500);\n",
       "            "
      ],
      "text/plain": [
       "<IPython.core.display.Javascript object>"
      ]
     },
     "metadata": {},
     "output_type": "display_data"
    }
   ],
   "source": [
    "from xplainet.model import predict, encode"
   ]
  },
  {
   "cell_type": "code",
   "execution_count": 32,
   "metadata": {
    "ExecuteTime": {
     "end_time": "2020-09-19T17:12:35.302259Z",
     "start_time": "2020-09-19T17:12:35.016264Z"
    }
   },
   "outputs": [
    {
     "data": {
      "application/javascript": [
       "\n",
       "            setTimeout(function() {\n",
       "                var nbb_cell_id = 32;\n",
       "                var nbb_unformatted_code = \"probs, explanations = predict(model, input_test)\";\n",
       "                var nbb_formatted_code = \"probs, explanations = predict(model, input_test)\";\n",
       "                var nbb_cells = Jupyter.notebook.get_cells();\n",
       "                for (var i = 0; i < nbb_cells.length; ++i) {\n",
       "                    if (nbb_cells[i].input_prompt_number == nbb_cell_id) {\n",
       "                        if (nbb_cells[i].get_text() == nbb_unformatted_code) {\n",
       "                             nbb_cells[i].set_text(nbb_formatted_code);\n",
       "                        }\n",
       "                        break;\n",
       "                    }\n",
       "                }\n",
       "            }, 500);\n",
       "            "
      ],
      "text/plain": [
       "<IPython.core.display.Javascript object>"
      ]
     },
     "metadata": {},
     "output_type": "display_data"
    }
   ],
   "source": [
    "probs, explanations = predict(model, input_test)"
   ]
  },
  {
   "cell_type": "code",
   "execution_count": 33,
   "metadata": {
    "ExecuteTime": {
     "end_time": "2020-09-19T17:12:35.588774Z",
     "start_time": "2020-09-19T17:12:35.303353Z"
    }
   },
   "outputs": [
    {
     "data": {
      "application/javascript": [
       "\n",
       "            setTimeout(function() {\n",
       "                var nbb_cell_id = 33;\n",
       "                var nbb_unformatted_code = \"probs, encoded_output = encode(model, input_test)\";\n",
       "                var nbb_formatted_code = \"probs, encoded_output = encode(model, input_test)\";\n",
       "                var nbb_cells = Jupyter.notebook.get_cells();\n",
       "                for (var i = 0; i < nbb_cells.length; ++i) {\n",
       "                    if (nbb_cells[i].input_prompt_number == nbb_cell_id) {\n",
       "                        if (nbb_cells[i].get_text() == nbb_unformatted_code) {\n",
       "                             nbb_cells[i].set_text(nbb_formatted_code);\n",
       "                        }\n",
       "                        break;\n",
       "                    }\n",
       "                }\n",
       "            }, 500);\n",
       "            "
      ],
      "text/plain": [
       "<IPython.core.display.Javascript object>"
      ]
     },
     "metadata": {},
     "output_type": "display_data"
    }
   ],
   "source": [
    "probs, encoded_output = encode(model, input_test)"
   ]
  },
  {
   "cell_type": "code",
   "execution_count": 34,
   "metadata": {
    "ExecuteTime": {
     "end_time": "2020-09-19T17:12:35.614752Z",
     "start_time": "2020-09-19T17:12:35.589959Z"
    }
   },
   "outputs": [
    {
     "data": {
      "text/plain": [
       "(146, 1)"
      ]
     },
     "execution_count": 34,
     "metadata": {},
     "output_type": "execute_result"
    },
    {
     "data": {
      "application/javascript": [
       "\n",
       "            setTimeout(function() {\n",
       "                var nbb_cell_id = 34;\n",
       "                var nbb_unformatted_code = \"y_test.shape\";\n",
       "                var nbb_formatted_code = \"y_test.shape\";\n",
       "                var nbb_cells = Jupyter.notebook.get_cells();\n",
       "                for (var i = 0; i < nbb_cells.length; ++i) {\n",
       "                    if (nbb_cells[i].input_prompt_number == nbb_cell_id) {\n",
       "                        if (nbb_cells[i].get_text() == nbb_unformatted_code) {\n",
       "                             nbb_cells[i].set_text(nbb_formatted_code);\n",
       "                        }\n",
       "                        break;\n",
       "                    }\n",
       "                }\n",
       "            }, 500);\n",
       "            "
      ],
      "text/plain": [
       "<IPython.core.display.Javascript object>"
      ]
     },
     "metadata": {},
     "output_type": "display_data"
    }
   ],
   "source": [
    "y_test.shape"
   ]
  },
  {
   "cell_type": "code",
   "execution_count": 35,
   "metadata": {
    "ExecuteTime": {
     "end_time": "2020-09-19T17:12:35.639749Z",
     "start_time": "2020-09-19T17:12:35.615859Z"
    }
   },
   "outputs": [
    {
     "data": {
      "text/plain": [
       "(146, 384)"
      ]
     },
     "execution_count": 35,
     "metadata": {},
     "output_type": "execute_result"
    },
    {
     "data": {
      "application/javascript": [
       "\n",
       "            setTimeout(function() {\n",
       "                var nbb_cell_id = 35;\n",
       "                var nbb_unformatted_code = \"encoded_output.shape\";\n",
       "                var nbb_formatted_code = \"encoded_output.shape\";\n",
       "                var nbb_cells = Jupyter.notebook.get_cells();\n",
       "                for (var i = 0; i < nbb_cells.length; ++i) {\n",
       "                    if (nbb_cells[i].input_prompt_number == nbb_cell_id) {\n",
       "                        if (nbb_cells[i].get_text() == nbb_unformatted_code) {\n",
       "                             nbb_cells[i].set_text(nbb_formatted_code);\n",
       "                        }\n",
       "                        break;\n",
       "                    }\n",
       "                }\n",
       "            }, 500);\n",
       "            "
      ],
      "text/plain": [
       "<IPython.core.display.Javascript object>"
      ]
     },
     "metadata": {},
     "output_type": "display_data"
    }
   ],
   "source": [
    "encoded_output.shape"
   ]
  },
  {
   "cell_type": "code",
   "execution_count": 36,
   "metadata": {
    "ExecuteTime": {
     "end_time": "2020-09-19T17:12:35.666661Z",
     "start_time": "2020-09-19T17:12:35.641100Z"
    }
   },
   "outputs": [
    {
     "data": {
      "text/plain": [
       "(146, 80)"
      ]
     },
     "execution_count": 36,
     "metadata": {},
     "output_type": "execute_result"
    },
    {
     "data": {
      "application/javascript": [
       "\n",
       "            setTimeout(function() {\n",
       "                var nbb_cell_id = 36;\n",
       "                var nbb_unformatted_code = \"explanations.shape\";\n",
       "                var nbb_formatted_code = \"explanations.shape\";\n",
       "                var nbb_cells = Jupyter.notebook.get_cells();\n",
       "                for (var i = 0; i < nbb_cells.length; ++i) {\n",
       "                    if (nbb_cells[i].input_prompt_number == nbb_cell_id) {\n",
       "                        if (nbb_cells[i].get_text() == nbb_unformatted_code) {\n",
       "                             nbb_cells[i].set_text(nbb_formatted_code);\n",
       "                        }\n",
       "                        break;\n",
       "                    }\n",
       "                }\n",
       "            }, 500);\n",
       "            "
      ],
      "text/plain": [
       "<IPython.core.display.Javascript object>"
      ]
     },
     "metadata": {},
     "output_type": "display_data"
    }
   ],
   "source": [
    "explanations.shape"
   ]
  },
  {
   "cell_type": "code",
   "execution_count": 37,
   "metadata": {
    "ExecuteTime": {
     "end_time": "2020-09-19T17:12:35.698828Z",
     "start_time": "2020-09-19T17:12:35.667736Z"
    }
   },
   "outputs": [
    {
     "data": {
      "application/javascript": [
       "\n",
       "            setTimeout(function() {\n",
       "                var nbb_cell_id = 37;\n",
       "                var nbb_unformatted_code = \"import matplotlib.pyplot as plt\\n\\n# plt.rcdefaults()\\nimport numpy as np\\nimport matplotlib.pyplot as plt\\n\\n\\ndef explain_plot(importances, columns):\\n    selection = np.argsort(-np.absolute(importances))[:10]\\n    # indexes = np.argsort(importances)\\n    performance = importances[selection]\\n    #     print(performance.shape)512, 256, 128, 64, 32, 1\\n    y_pos = np.arange(performance.shape[0])\\n\\n    plt.barh(y_pos, performance, align=\\\"center\\\", alpha=0.5)\\n    plt.yticks(y_pos, columns[selection])\\n    # plt.xlabel('Usage')\\n    plt.title(\\\"Feature importance\\\")\\n\\n    plt.show()\";\n",
       "                var nbb_formatted_code = \"import matplotlib.pyplot as plt\\n\\n# plt.rcdefaults()\\nimport numpy as np\\nimport matplotlib.pyplot as plt\\n\\n\\ndef explain_plot(importances, columns):\\n    selection = np.argsort(-np.absolute(importances))[:10]\\n    # indexes = np.argsort(importances)\\n    performance = importances[selection]\\n    #     print(performance.shape)512, 256, 128, 64, 32, 1\\n    y_pos = np.arange(performance.shape[0])\\n\\n    plt.barh(y_pos, performance, align=\\\"center\\\", alpha=0.5)\\n    plt.yticks(y_pos, columns[selection])\\n    # plt.xlabel('Usage')\\n    plt.title(\\\"Feature importance\\\")\\n\\n    plt.show()\";\n",
       "                var nbb_cells = Jupyter.notebook.get_cells();\n",
       "                for (var i = 0; i < nbb_cells.length; ++i) {\n",
       "                    if (nbb_cells[i].input_prompt_number == nbb_cell_id) {\n",
       "                        if (nbb_cells[i].get_text() == nbb_unformatted_code) {\n",
       "                             nbb_cells[i].set_text(nbb_formatted_code);\n",
       "                        }\n",
       "                        break;\n",
       "                    }\n",
       "                }\n",
       "            }, 500);\n",
       "            "
      ],
      "text/plain": [
       "<IPython.core.display.Javascript object>"
      ]
     },
     "metadata": {},
     "output_type": "display_data"
    }
   ],
   "source": [
    "import matplotlib.pyplot as plt\n",
    "\n",
    "# plt.rcdefaults()\n",
    "import numpy as np\n",
    "import matplotlib.pyplot as plt\n",
    "\n",
    "\n",
    "def explain_plot(importances, columns):\n",
    "    selection = np.argsort(-np.absolute(importances))[:10]\n",
    "    # indexes = np.argsort(importances)\n",
    "    performance = importances[selection]\n",
    "    #     print(performance.shape)512, 256, 128, 64, 32, 1\n",
    "    y_pos = np.arange(performance.shape[0])\n",
    "\n",
    "    plt.barh(y_pos, performance, align=\"center\", alpha=0.5)\n",
    "    plt.yticks(y_pos, columns[selection])\n",
    "    # plt.xlabel('Usage')\n",
    "    plt.title(\"Feature importance\")\n",
    "\n",
    "    plt.show()"
   ]
  },
  {
   "cell_type": "code",
   "execution_count": 38,
   "metadata": {
    "ExecuteTime": {
     "end_time": "2020-09-19T17:12:35.726818Z",
     "start_time": "2020-09-19T17:12:35.700042Z"
    }
   },
   "outputs": [
    {
     "data": {
      "text/plain": [
       "array(['Alley', 'Street', 'CentralAir', 'Utilities', 'GarageYrBlt',\n",
       "       '1stFlrSF', 'LotFrontage', 'GrLivArea', 'ScreenPorch',\n",
       "       'TotalBsmtSF', 'BsmtFinSF1', 'Id', 'BsmtUnfSF', 'GarageArea',\n",
       "       'YearBuilt', 'BsmtFinSF2', 'WoodDeckSF', 'MasVnrArea', 'LotArea',\n",
       "       'EnclosedPorch', '2ndFlrSF', 'YearRemodAdd', 'OpenPorchSF',\n",
       "       'HeatingQC', 'Condition2', 'MiscFeature', 'RoofStyle', 'BsmtCond',\n",
       "       'Foundation', 'PavedDrive', 'LandSlope', 'MiscVal', 'LotConfig',\n",
       "       'GarageCond', 'ExterCond', 'SaleType', 'Fence', 'KitchenQual',\n",
       "       'SaleCondition', 'Fireplaces', '3SsnPorch', 'GarageFinish',\n",
       "       'PoolQC', 'RoofMatl', 'BsmtHalfBath', 'GarageType', 'Heating',\n",
       "       'BsmtFullBath', 'Electrical', 'MSSubClass', 'Exterior1st',\n",
       "       'ExterQual', 'LandContour', 'TotRmsAbvGrd', 'LotShape',\n",
       "       'BsmtExposure', 'BedroomAbvGr', 'OverallQual', 'OverallCond',\n",
       "       'BsmtFinType2', 'Neighborhood', 'FullBath', 'Functional',\n",
       "       'FireplaceQu', 'MasVnrType', 'HalfBath', 'MoSold', 'YrSold',\n",
       "       'BsmtQual', 'BsmtFinType1', 'GarageCars', 'BldgType', 'MSZoning',\n",
       "       'HouseStyle', 'Exterior2nd', 'KitchenAbvGr', 'LowQualFinSF',\n",
       "       'Condition1', 'PoolArea', 'GarageQual'], dtype='<U13')"
      ]
     },
     "execution_count": 38,
     "metadata": {},
     "output_type": "execute_result"
    },
    {
     "data": {
      "application/javascript": [
       "\n",
       "            setTimeout(function() {\n",
       "                var nbb_cell_id = 38;\n",
       "                var nbb_unformatted_code = \"all_cols = np.array(params[\\\"bool_cols\\\"] + params[\\\"num_cols\\\"] + params[\\\"cat_cols\\\"])\\nall_cols\";\n",
       "                var nbb_formatted_code = \"all_cols = np.array(params[\\\"bool_cols\\\"] + params[\\\"num_cols\\\"] + params[\\\"cat_cols\\\"])\\nall_cols\";\n",
       "                var nbb_cells = Jupyter.notebook.get_cells();\n",
       "                for (var i = 0; i < nbb_cells.length; ++i) {\n",
       "                    if (nbb_cells[i].input_prompt_number == nbb_cell_id) {\n",
       "                        if (nbb_cells[i].get_text() == nbb_unformatted_code) {\n",
       "                             nbb_cells[i].set_text(nbb_formatted_code);\n",
       "                        }\n",
       "                        break;\n",
       "                    }\n",
       "                }\n",
       "            }, 500);\n",
       "            "
      ],
      "text/plain": [
       "<IPython.core.display.Javascript object>"
      ]
     },
     "metadata": {},
     "output_type": "display_data"
    }
   ],
   "source": [
    "all_cols = np.array(params[\"bool_cols\"] + params[\"num_cols\"] + params[\"cat_cols\"])\n",
    "all_cols"
   ]
  },
  {
   "cell_type": "markdown",
   "metadata": {
    "ExecuteTime": {
     "end_time": "2020-09-18T18:48:54.151671Z",
     "start_time": "2020-09-18T18:48:54.127488Z"
    }
   },
   "source": [
    "## Explain global"
   ]
  },
  {
   "cell_type": "code",
   "execution_count": 39,
   "metadata": {
    "ExecuteTime": {
     "end_time": "2020-09-19T17:12:35.751197Z",
     "start_time": "2020-09-19T17:12:35.727963Z"
    }
   },
   "outputs": [
    {
     "data": {
      "application/javascript": [
       "\n",
       "            setTimeout(function() {\n",
       "                var nbb_cell_id = 39;\n",
       "                var nbb_unformatted_code = \"# Looks like this is broken for now.\";\n",
       "                var nbb_formatted_code = \"# Looks like this is broken for now.\";\n",
       "                var nbb_cells = Jupyter.notebook.get_cells();\n",
       "                for (var i = 0; i < nbb_cells.length; ++i) {\n",
       "                    if (nbb_cells[i].input_prompt_number == nbb_cell_id) {\n",
       "                        if (nbb_cells[i].get_text() == nbb_unformatted_code) {\n",
       "                             nbb_cells[i].set_text(nbb_formatted_code);\n",
       "                        }\n",
       "                        break;\n",
       "                    }\n",
       "                }\n",
       "            }, 500);\n",
       "            "
      ],
      "text/plain": [
       "<IPython.core.display.Javascript object>"
      ]
     },
     "metadata": {},
     "output_type": "display_data"
    }
   ],
   "source": [
    "# Looks like this is broken for now."
   ]
  },
  {
   "cell_type": "code",
   "execution_count": 40,
   "metadata": {
    "ExecuteTime": {
     "end_time": "2020-09-19T17:12:36.068470Z",
     "start_time": "2020-09-19T17:12:35.752238Z"
    }
   },
   "outputs": [
    {
     "data": {
      "application/javascript": [
       "\n",
       "            setTimeout(function() {\n",
       "                var nbb_cell_id = 40;\n",
       "                var nbb_unformatted_code = \"probs_train, explanations_train = predict(model, input_train)\";\n",
       "                var nbb_formatted_code = \"probs_train, explanations_train = predict(model, input_train)\";\n",
       "                var nbb_cells = Jupyter.notebook.get_cells();\n",
       "                for (var i = 0; i < nbb_cells.length; ++i) {\n",
       "                    if (nbb_cells[i].input_prompt_number == nbb_cell_id) {\n",
       "                        if (nbb_cells[i].get_text() == nbb_unformatted_code) {\n",
       "                             nbb_cells[i].set_text(nbb_formatted_code);\n",
       "                        }\n",
       "                        break;\n",
       "                    }\n",
       "                }\n",
       "            }, 500);\n",
       "            "
      ],
      "text/plain": [
       "<IPython.core.display.Javascript object>"
      ]
     },
     "metadata": {},
     "output_type": "display_data"
    }
   ],
   "source": [
    "probs_train, explanations_train = predict(model, input_train)"
   ]
  },
  {
   "cell_type": "code",
   "execution_count": 41,
   "metadata": {
    "ExecuteTime": {
     "end_time": "2020-09-19T17:12:36.093578Z",
     "start_time": "2020-09-19T17:12:36.069411Z"
    }
   },
   "outputs": [
    {
     "data": {
      "application/javascript": [
       "\n",
       "            setTimeout(function() {\n",
       "                var nbb_cell_id = 41;\n",
       "                var nbb_unformatted_code = \"global_explain = np.abs(explanations_train).sum(axis=0)\\nglobal_explain = global_explain / np.abs(global_explain).sum()\";\n",
       "                var nbb_formatted_code = \"global_explain = np.abs(explanations_train).sum(axis=0)\\nglobal_explain = global_explain / np.abs(global_explain).sum()\";\n",
       "                var nbb_cells = Jupyter.notebook.get_cells();\n",
       "                for (var i = 0; i < nbb_cells.length; ++i) {\n",
       "                    if (nbb_cells[i].input_prompt_number == nbb_cell_id) {\n",
       "                        if (nbb_cells[i].get_text() == nbb_unformatted_code) {\n",
       "                             nbb_cells[i].set_text(nbb_formatted_code);\n",
       "                        }\n",
       "                        break;\n",
       "                    }\n",
       "                }\n",
       "            }, 500);\n",
       "            "
      ],
      "text/plain": [
       "<IPython.core.display.Javascript object>"
      ]
     },
     "metadata": {},
     "output_type": "display_data"
    }
   ],
   "source": [
    "global_explain = np.abs(explanations_train).sum(axis=0)\n",
    "global_explain = global_explain / np.abs(global_explain).sum()"
   ]
  },
  {
   "cell_type": "code",
   "execution_count": 42,
   "metadata": {
    "ExecuteTime": {
     "end_time": "2020-09-19T17:12:36.117950Z",
     "start_time": "2020-09-19T17:12:36.094608Z"
    }
   },
   "outputs": [
    {
     "data": {
      "text/plain": [
       "array([0.01215346, 0.01259931, 0.01232962, 0.01247911, 0.01251009,\n",
       "       0.01259026, 0.01250862, 0.01258593, 0.01249374, 0.01257558,\n",
       "       0.01252444, 0.01247921, 0.0125008 , 0.0125607 , 0.0124805 ,\n",
       "       0.01247848, 0.01250196, 0.01253927, 0.01253721, 0.01247924,\n",
       "       0.01254214, 0.01256049, 0.01251706, 0.01246301, 0.01246805,\n",
       "       0.01246541, 0.01255347, 0.0124383 , 0.01249522, 0.01243638,\n",
       "       0.01254407, 0.0124729 , 0.01250988, 0.01246   , 0.01247715,\n",
       "       0.01254957, 0.01247233, 0.01256865, 0.0124852 , 0.01253109,\n",
       "       0.01250283, 0.01250565, 0.01249047, 0.01249789, 0.01244909,\n",
       "       0.01245513, 0.01248395, 0.01252677, 0.01246678, 0.01246023,\n",
       "       0.0125155 , 0.01259258, 0.01251211, 0.01258737, 0.01252522,\n",
       "       0.0126105 , 0.01253636, 0.01262202, 0.01245211, 0.01246091,\n",
       "       0.0126368 , 0.01253023, 0.01242545, 0.01258366, 0.01250471,\n",
       "       0.0125318 , 0.01246474, 0.01247848, 0.01255076, 0.01250262,\n",
       "       0.0126519 , 0.0123129 , 0.01240089, 0.01247945, 0.01248726,\n",
       "       0.01242152, 0.01247916, 0.01240441, 0.01250433, 0.01247756])"
      ]
     },
     "execution_count": 42,
     "metadata": {},
     "output_type": "execute_result"
    },
    {
     "data": {
      "application/javascript": [
       "\n",
       "            setTimeout(function() {\n",
       "                var nbb_cell_id = 42;\n",
       "                var nbb_unformatted_code = \"global_explain\";\n",
       "                var nbb_formatted_code = \"global_explain\";\n",
       "                var nbb_cells = Jupyter.notebook.get_cells();\n",
       "                for (var i = 0; i < nbb_cells.length; ++i) {\n",
       "                    if (nbb_cells[i].input_prompt_number == nbb_cell_id) {\n",
       "                        if (nbb_cells[i].get_text() == nbb_unformatted_code) {\n",
       "                             nbb_cells[i].set_text(nbb_formatted_code);\n",
       "                        }\n",
       "                        break;\n",
       "                    }\n",
       "                }\n",
       "            }, 500);\n",
       "            "
      ],
      "text/plain": [
       "<IPython.core.display.Javascript object>"
      ]
     },
     "metadata": {},
     "output_type": "display_data"
    }
   ],
   "source": [
    "global_explain"
   ]
  },
  {
   "cell_type": "code",
   "execution_count": 43,
   "metadata": {
    "ExecuteTime": {
     "end_time": "2020-09-19T17:12:36.247721Z",
     "start_time": "2020-09-19T17:12:36.118856Z"
    }
   },
   "outputs": [
    {
     "data": {
      "image/png": "[encoded data removed]",
      "text/plain": [
       "<Figure size 432x288 with 1 Axes>"
      ]
     },
     "metadata": {
      "needs_background": "light"
     },
     "output_type": "display_data"
    },
    {
     "data": {
      "application/javascript": [
       "\n",
       "            setTimeout(function() {\n",
       "                var nbb_cell_id = 43;\n",
       "                var nbb_unformatted_code = \"explain_plot(global_explain, all_cols)\";\n",
       "                var nbb_formatted_code = \"explain_plot(global_explain, all_cols)\";\n",
       "                var nbb_cells = Jupyter.notebook.get_cells();\n",
       "                for (var i = 0; i < nbb_cells.length; ++i) {\n",
       "                    if (nbb_cells[i].input_prompt_number == nbb_cell_id) {\n",
       "                        if (nbb_cells[i].get_text() == nbb_unformatted_code) {\n",
       "                             nbb_cells[i].set_text(nbb_formatted_code);\n",
       "                        }\n",
       "                        break;\n",
       "                    }\n",
       "                }\n",
       "            }, 500);\n",
       "            "
      ],
      "text/plain": [
       "<IPython.core.display.Javascript object>"
      ]
     },
     "metadata": {},
     "output_type": "display_data"
    }
   ],
   "source": [
    "explain_plot(global_explain, all_cols)"
   ]
  },
  {
   "cell_type": "markdown",
   "metadata": {},
   "source": [
    "## Explain local"
   ]
  },
  {
   "cell_type": "code",
   "execution_count": 44,
   "metadata": {
    "ExecuteTime": {
     "end_time": "2020-09-19T17:12:36.270621Z",
     "start_time": "2020-09-19T17:12:36.248688Z"
    }
   },
   "outputs": [
    {
     "data": {
      "application/javascript": [
       "\n",
       "            setTimeout(function() {\n",
       "                var nbb_cell_id = 44;\n",
       "                var nbb_unformatted_code = \"# Looks like this is broken for now.\";\n",
       "                var nbb_formatted_code = \"# Looks like this is broken for now.\";\n",
       "                var nbb_cells = Jupyter.notebook.get_cells();\n",
       "                for (var i = 0; i < nbb_cells.length; ++i) {\n",
       "                    if (nbb_cells[i].input_prompt_number == nbb_cell_id) {\n",
       "                        if (nbb_cells[i].get_text() == nbb_unformatted_code) {\n",
       "                             nbb_cells[i].set_text(nbb_formatted_code);\n",
       "                        }\n",
       "                        break;\n",
       "                    }\n",
       "                }\n",
       "            }, 500);\n",
       "            "
      ],
      "text/plain": [
       "<IPython.core.display.Javascript object>"
      ]
     },
     "metadata": {},
     "output_type": "display_data"
    }
   ],
   "source": [
    "# Looks like this is broken for now."
   ]
  },
  {
   "cell_type": "code",
   "execution_count": 45,
   "metadata": {
    "ExecuteTime": {
     "end_time": "2020-09-19T17:12:38.493025Z",
     "start_time": "2020-09-19T17:12:36.271469Z"
    }
   },
   "outputs": [
    {
     "data": {
      "image/png": "[encoded data removed]",
      "text/plain": [
       "<Figure size 432x288 with 1 Axes>"
      ]
     },
     "metadata": {
      "needs_background": "light"
     },
     "output_type": "display_data"
    },
    {
     "name": "stdout",
     "output_type": "stream",
     "text": [
      "-0.6638028621673584\n"
     ]
    },
    {
     "data": {
      "image/png": "[encoded data removed]",
      "text/plain": [
       "<Figure size 432x288 with 1 Axes>"
      ]
     },
     "metadata": {
      "needs_background": "light"
     },
     "output_type": "display_data"
    },
    {
     "name": "stdout",
     "output_type": "stream",
     "text": [
      "-1.6289162635803223\n"
     ]
    },
    {
     "data": {
      "image/png": "[encoded data removed]",
      "text/plain": [
       "<Figure size 432x288 with 1 Axes>"
      ]
     },
     "metadata": {
      "needs_background": "light"
     },
     "output_type": "display_data"
    },
    {
     "name": "stdout",
     "output_type": "stream",
     "text": [
      "-0.6235273480415344\n"
     ]
    },
    {
     "data": {
      "image/png": "[encoded data removed]",
      "text/plain": [
       "<Figure size 432x288 with 1 Axes>"
      ]
     },
     "metadata": {
      "needs_background": "light"
     },
     "output_type": "display_data"
    },
    {
     "name": "stdout",
     "output_type": "stream",
     "text": [
      "-0.7696265578269958\n"
     ]
    },
    {
     "data": {
      "image/png": "[encoded data removed]",
      "text/plain": [
       "<Figure size 432x288 with 1 Axes>"
      ]
     },
     "metadata": {
      "needs_background": "light"
     },
     "output_type": "display_data"
    },
    {
     "name": "stdout",
     "output_type": "stream",
     "text": [
      "-0.851474940776825\n"
     ]
    },
    {
     "data": {
      "image/png": "[encoded data removed]",
      "text/plain": [
       "<Figure size 432x288 with 1 Axes>"
      ]
     },
     "metadata": {
      "needs_background": "light"
     },
     "output_type": "display_data"
    },
    {
     "name": "stdout",
     "output_type": "stream",
     "text": [
      "-0.9393419623374939\n"
     ]
    },
    {
     "data": {
      "image/png": "[encoded data removed]",
      "text/plain": [
       "<Figure size 432x288 with 1 Axes>"
      ]
     },
     "metadata": {
      "needs_background": "light"
     },
     "output_type": "display_data"
    },
    {
     "name": "stdout",
     "output_type": "stream",
     "text": [
      "-0.825083315372467\n"
     ]
    },
    {
     "data": {
      "image/png": "[encoded data removed]",
      "text/plain": [
       "<Figure size 432x288 with 1 Axes>"
      ]
     },
     "metadata": {
      "needs_background": "light"
     },
     "output_type": "display_data"
    },
    {
     "name": "stdout",
     "output_type": "stream",
     "text": [
      "1.8057377338409424\n"
     ]
    },
    {
     "data": {
      "image/png": "[encoded data removed]",
      "text/plain": [
       "<Figure size 432x288 with 1 Axes>"
      ]
     },
     "metadata": {
      "needs_background": "light"
     },
     "output_type": "display_data"
    },
    {
     "name": "stdout",
     "output_type": "stream",
     "text": [
      "0.3722544312477112\n"
     ]
    },
    {
     "data": {
      "image/png": "[encoded data removed]",
      "text/plain": [
       "<Figure size 432x288 with 1 Axes>"
      ]
     },
     "metadata": {
      "needs_background": "light"
     },
     "output_type": "display_data"
    },
    {
     "name": "stdout",
     "output_type": "stream",
     "text": [
      "1.1210969686508179\n"
     ]
    },
    {
     "data": {
      "image/png": "[encoded data removed]",
      "text/plain": [
       "<Figure size 432x288 with 1 Axes>"
      ]
     },
     "metadata": {
      "needs_background": "light"
     },
     "output_type": "display_data"
    },
    {
     "name": "stdout",
     "output_type": "stream",
     "text": [
      "-1.0212703943252563\n"
     ]
    },
    {
     "data": {
      "image/png": "[encoded data removed]",
      "text/plain": [
       "<Figure size 432x288 with 1 Axes>"
      ]
     },
     "metadata": {
      "needs_background": "light"
     },
     "output_type": "display_data"
    },
    {
     "name": "stdout",
     "output_type": "stream",
     "text": [
      "-0.7191378474235535\n"
     ]
    },
    {
     "data": {
      "image/png": "[encoded data removed]",
      "text/plain": [
       "<Figure size 432x288 with 1 Axes>"
      ]
     },
     "metadata": {
      "needs_background": "light"
     },
     "output_type": "display_data"
    },
    {
     "name": "stdout",
     "output_type": "stream",
     "text": [
      "0.03590421751141548\n"
     ]
    },
    {
     "data": {
      "image/png": "[encoded data removed]",
      "text/plain": [
       "<Figure size 432x288 with 1 Axes>"
      ]
     },
     "metadata": {
      "needs_background": "light"
     },
     "output_type": "display_data"
    },
    {
     "name": "stdout",
     "output_type": "stream",
     "text": [
      "-0.07192059606313705\n"
     ]
    },
    {
     "data": {
      "image/png": "[encoded data removed]",
      "text/plain": [
       "<Figure size 432x288 with 1 Axes>"
      ]
     },
     "metadata": {
      "needs_background": "light"
     },
     "output_type": "display_data"
    },
    {
     "name": "stdout",
     "output_type": "stream",
     "text": [
      "-0.3259488046169281\n"
     ]
    },
    {
     "data": {
      "image/png": "[encoded data removed]",
      "text/plain": [
       "<Figure size 432x288 with 1 Axes>"
      ]
     },
     "metadata": {
      "needs_background": "light"
     },
     "output_type": "display_data"
    },
    {
     "name": "stdout",
     "output_type": "stream",
     "text": [
      "0.6218269467353821\n"
     ]
    },
    {
     "data": {
      "image/png": "[encoded data removed]",
      "text/plain": [
       "<Figure size 432x288 with 1 Axes>"
      ]
     },
     "metadata": {
      "needs_background": "light"
     },
     "output_type": "display_data"
    },
    {
     "name": "stdout",
     "output_type": "stream",
     "text": [
      "0.24499619007110596\n"
     ]
    },
    {
     "data": {
      "image/png": "[encoded data removed]",
      "text/plain": [
       "<Figure size 432x288 with 1 Axes>"
      ]
     },
     "metadata": {
      "needs_background": "light"
     },
     "output_type": "display_data"
    },
    {
     "name": "stdout",
     "output_type": "stream",
     "text": [
      "0.36947116255760193\n"
     ]
    },
    {
     "data": {
      "image/png": "[encoded data removed]",
      "text/plain": [
       "<Figure size 432x288 with 1 Axes>"
      ]
     },
     "metadata": {
      "needs_background": "light"
     },
     "output_type": "display_data"
    },
    {
     "name": "stdout",
     "output_type": "stream",
     "text": [
      "-0.6966938376426697\n"
     ]
    },
    {
     "data": {
      "image/png": "[encoded data removed]",
      "text/plain": [
       "<Figure size 432x288 with 1 Axes>"
      ]
     },
     "metadata": {
      "needs_background": "light"
     },
     "output_type": "display_data"
    },
    {
     "name": "stdout",
     "output_type": "stream",
     "text": [
      "0.28163987398147583\n"
     ]
    },
    {
     "data": {
      "application/javascript": [
       "\n",
       "            setTimeout(function() {\n",
       "                var nbb_cell_id = 45;\n",
       "                var nbb_unformatted_code = \"for i in range(20):\\n    explain_plot(explanations[i], all_cols)\\n    print(probs[i].item())\";\n",
       "                var nbb_formatted_code = \"for i in range(20):\\n    explain_plot(explanations[i], all_cols)\\n    print(probs[i].item())\";\n",
       "                var nbb_cells = Jupyter.notebook.get_cells();\n",
       "                for (var i = 0; i < nbb_cells.length; ++i) {\n",
       "                    if (nbb_cells[i].input_prompt_number == nbb_cell_id) {\n",
       "                        if (nbb_cells[i].get_text() == nbb_unformatted_code) {\n",
       "                             nbb_cells[i].set_text(nbb_formatted_code);\n",
       "                        }\n",
       "                        break;\n",
       "                    }\n",
       "                }\n",
       "            }, 500);\n",
       "            "
      ],
      "text/plain": [
       "<IPython.core.display.Javascript object>"
      ]
     },
     "metadata": {},
     "output_type": "display_data"
    }
   ],
   "source": [
    "for i in range(20):\n",
    "    explain_plot(explanations[i], all_cols)\n",
    "    print(probs[i].item())"
   ]
  },
  {
   "cell_type": "code",
   "execution_count": 46,
   "metadata": {
    "ExecuteTime": {
     "end_time": "2020-09-19T17:12:38.516694Z",
     "start_time": "2020-09-19T17:12:38.494176Z"
    }
   },
   "outputs": [
    {
     "data": {
      "application/javascript": [
       "\n",
       "            setTimeout(function() {\n",
       "                var nbb_cell_id = 46;\n",
       "                var nbb_unformatted_code = \"from sklearn.metrics import confusion_matrix\";\n",
       "                var nbb_formatted_code = \"from sklearn.metrics import confusion_matrix\";\n",
       "                var nbb_cells = Jupyter.notebook.get_cells();\n",
       "                for (var i = 0; i < nbb_cells.length; ++i) {\n",
       "                    if (nbb_cells[i].input_prompt_number == nbb_cell_id) {\n",
       "                        if (nbb_cells[i].get_text() == nbb_unformatted_code) {\n",
       "                             nbb_cells[i].set_text(nbb_formatted_code);\n",
       "                        }\n",
       "                        break;\n",
       "                    }\n",
       "                }\n",
       "            }, 500);\n",
       "            "
      ],
      "text/plain": [
       "<IPython.core.display.Javascript object>"
      ]
     },
     "metadata": {},
     "output_type": "display_data"
    }
   ],
   "source": [
    "from sklearn.metrics import confusion_matrix"
   ]
  },
  {
   "cell_type": "code",
   "execution_count": 47,
   "metadata": {
    "ExecuteTime": {
     "end_time": "2020-09-19T17:12:38.808574Z",
     "start_time": "2020-09-19T17:12:38.517685Z"
    }
   },
   "outputs": [
    {
     "data": {
      "application/javascript": [
       "\n",
       "            setTimeout(function() {\n",
       "                var nbb_cell_id = 47;\n",
       "                var nbb_unformatted_code = \"probs_test, explanations_train = predict(model, input_test)\";\n",
       "                var nbb_formatted_code = \"probs_test, explanations_train = predict(model, input_test)\";\n",
       "                var nbb_cells = Jupyter.notebook.get_cells();\n",
       "                for (var i = 0; i < nbb_cells.length; ++i) {\n",
       "                    if (nbb_cells[i].input_prompt_number == nbb_cell_id) {\n",
       "                        if (nbb_cells[i].get_text() == nbb_unformatted_code) {\n",
       "                             nbb_cells[i].set_text(nbb_formatted_code);\n",
       "                        }\n",
       "                        break;\n",
       "                    }\n",
       "                }\n",
       "            }, 500);\n",
       "            "
      ],
      "text/plain": [
       "<IPython.core.display.Javascript object>"
      ]
     },
     "metadata": {},
     "output_type": "display_data"
    }
   ],
   "source": [
    "probs_test, explanations_train = predict(model, input_test)"
   ]
  },
  {
   "cell_type": "code",
   "execution_count": 48,
   "metadata": {
    "ExecuteTime": {
     "end_time": "2020-09-19T17:12:38.958480Z",
     "start_time": "2020-09-19T17:12:38.809711Z"
    }
   },
   "outputs": [
    {
     "data": {
      "image/png": "[encoded data removed]",
      "text/plain": [
       "<Figure size 432x288 with 1 Axes>"
      ]
     },
     "metadata": {
      "needs_background": "light"
     },
     "output_type": "display_data"
    },
    {
     "data": {
      "application/javascript": [
       "\n",
       "            setTimeout(function() {\n",
       "                var nbb_cell_id = 48;\n",
       "                var nbb_unformatted_code = \"# plt.barh(y_pos, performance, align=\\\"center\\\", alpha=0.5)\\n# plt.yticks(y_pos, columns[selection])\\nplt.ylabel(\\\"Predicted value\\\")\\nplt.xlabel(\\\"Truth value\\\")\\n\\nplt.title(\\\"Scatter plot of prediction vs truth\\\")\\nplt.scatter(\\n    train[target].values[test_indices], target_encoder.inverse_transform(probs_test),\\n)\\nplt.plot(\\n    [\\n        np.min(train[target].values[test_indices]),\\n        np.max(train[target].values[test_indices]),\\n    ],\\n    [\\n        np.min(train[target].values[test_indices]),\\n        np.max(train[target].values[test_indices]),\\n    ],\\n)\\nplt.grid(True)\\nplt.show()\";\n",
       "                var nbb_formatted_code = \"# plt.barh(y_pos, performance, align=\\\"center\\\", alpha=0.5)\\n# plt.yticks(y_pos, columns[selection])\\nplt.ylabel(\\\"Predicted value\\\")\\nplt.xlabel(\\\"Truth value\\\")\\n\\nplt.title(\\\"Scatter plot of prediction vs truth\\\")\\nplt.scatter(\\n    train[target].values[test_indices],\\n    target_encoder.inverse_transform(probs_test),\\n)\\nplt.plot(\\n    [\\n        np.min(train[target].values[test_indices]),\\n        np.max(train[target].values[test_indices]),\\n    ],\\n    [\\n        np.min(train[target].values[test_indices]),\\n        np.max(train[target].values[test_indices]),\\n    ],\\n)\\nplt.grid(True)\\nplt.show()\";\n",
       "                var nbb_cells = Jupyter.notebook.get_cells();\n",
       "                for (var i = 0; i < nbb_cells.length; ++i) {\n",
       "                    if (nbb_cells[i].input_prompt_number == nbb_cell_id) {\n",
       "                        if (nbb_cells[i].get_text() == nbb_unformatted_code) {\n",
       "                             nbb_cells[i].set_text(nbb_formatted_code);\n",
       "                        }\n",
       "                        break;\n",
       "                    }\n",
       "                }\n",
       "            }, 500);\n",
       "            "
      ],
      "text/plain": [
       "<IPython.core.display.Javascript object>"
      ]
     },
     "metadata": {},
     "output_type": "display_data"
    }
   ],
   "source": [
    "# plt.barh(y_pos, performance, align=\"center\", alpha=0.5)\n",
    "# plt.yticks(y_pos, columns[selection])\n",
    "plt.ylabel(\"Predicted value\")\n",
    "plt.xlabel(\"Truth value\")\n",
    "\n",
    "plt.title(\"Scatter plot of prediction vs truth\")\n",
    "plt.scatter(\n",
    "    train[target].values[test_indices],\n",
    "    target_encoder.inverse_transform(probs_test),\n",
    ")\n",
    "plt.plot(\n",
    "    [\n",
    "        np.min(train[target].values[test_indices]),\n",
    "        np.max(train[target].values[test_indices]),\n",
    "    ],\n",
    "    [\n",
    "        np.min(train[target].values[test_indices]),\n",
    "        np.max(train[target].values[test_indices]),\n",
    "    ],\n",
    ")\n",
    "plt.grid(True)\n",
    "plt.show()"
   ]
  },
  {
   "cell_type": "code",
   "execution_count": 49,
   "metadata": {
    "ExecuteTime": {
     "end_time": "2020-09-19T17:12:39.096220Z",
     "start_time": "2020-09-19T17:12:38.959684Z"
    }
   },
   "outputs": [
    {
     "data": {
      "image/png": "[encoded data removed]",
      "text/plain": [
       "<Figure size 432x288 with 1 Axes>"
      ]
     },
     "metadata": {
      "needs_background": "light"
     },
     "output_type": "display_data"
    },
    {
     "data": {
      "application/javascript": [
       "\n",
       "            setTimeout(function() {\n",
       "                var nbb_cell_id = 49;\n",
       "                var nbb_unformatted_code = \"plt.hist(\\n    train[target].values[test_indices].reshape(-1)\\n    - target_encoder.inverse_transform(probs_test).reshape(-1),\\n)\\nplt.xlabel(\\\"Error value\\\")\\nplt.ylabel(\\\"Counts\\\")\\nplt.show()\";\n",
       "                var nbb_formatted_code = \"plt.hist(\\n    train[target].values[test_indices].reshape(-1)\\n    - target_encoder.inverse_transform(probs_test).reshape(-1),\\n)\\nplt.xlabel(\\\"Error value\\\")\\nplt.ylabel(\\\"Counts\\\")\\nplt.show()\";\n",
       "                var nbb_cells = Jupyter.notebook.get_cells();\n",
       "                for (var i = 0; i < nbb_cells.length; ++i) {\n",
       "                    if (nbb_cells[i].input_prompt_number == nbb_cell_id) {\n",
       "                        if (nbb_cells[i].get_text() == nbb_unformatted_code) {\n",
       "                             nbb_cells[i].set_text(nbb_formatted_code);\n",
       "                        }\n",
       "                        break;\n",
       "                    }\n",
       "                }\n",
       "            }, 500);\n",
       "            "
      ],
      "text/plain": [
       "<IPython.core.display.Javascript object>"
      ]
     },
     "metadata": {},
     "output_type": "display_data"
    }
   ],
   "source": [
    "plt.hist(\n",
    "    train[target].values[test_indices].reshape(-1)\n",
    "    - target_encoder.inverse_transform(probs_test).reshape(-1),\n",
    ")\n",
    "plt.xlabel(\"Error value\")\n",
    "plt.ylabel(\"Counts\")\n",
    "plt.show()"
   ]
  },
  {
   "cell_type": "code",
   "execution_count": 50,
   "metadata": {
    "ExecuteTime": {
     "end_time": "2020-09-19T17:12:39.222366Z",
     "start_time": "2020-09-19T17:12:39.097164Z"
    }
   },
   "outputs": [
    {
     "data": {
      "image/png": "[encoded data removed]",
      "text/plain": [
       "<Figure size 432x288 with 1 Axes>"
      ]
     },
     "metadata": {
      "needs_background": "light"
     },
     "output_type": "display_data"
    },
    {
     "data": {
      "application/javascript": [
       "\n",
       "            setTimeout(function() {\n",
       "                var nbb_cell_id = 50;\n",
       "                var nbb_unformatted_code = \"plt.hist(\\n    np.abs(\\n        train[target].values[test_indices].reshape(-1)\\n        - target_encoder.inverse_transform(probs_test).reshape(-1),\\n    )\\n)\\nplt.xlabel(\\\"Error value (absolute)\\\")\\nplt.ylabel(\\\"Counts\\\")\\nplt.show()\";\n",
       "                var nbb_formatted_code = \"plt.hist(\\n    np.abs(\\n        train[target].values[test_indices].reshape(-1)\\n        - target_encoder.inverse_transform(probs_test).reshape(-1),\\n    )\\n)\\nplt.xlabel(\\\"Error value (absolute)\\\")\\nplt.ylabel(\\\"Counts\\\")\\nplt.show()\";\n",
       "                var nbb_cells = Jupyter.notebook.get_cells();\n",
       "                for (var i = 0; i < nbb_cells.length; ++i) {\n",
       "                    if (nbb_cells[i].input_prompt_number == nbb_cell_id) {\n",
       "                        if (nbb_cells[i].get_text() == nbb_unformatted_code) {\n",
       "                             nbb_cells[i].set_text(nbb_formatted_code);\n",
       "                        }\n",
       "                        break;\n",
       "                    }\n",
       "                }\n",
       "            }, 500);\n",
       "            "
      ],
      "text/plain": [
       "<IPython.core.display.Javascript object>"
      ]
     },
     "metadata": {},
     "output_type": "display_data"
    }
   ],
   "source": [
    "plt.hist(\n",
    "    np.abs(\n",
    "        train[target].values[test_indices].reshape(-1)\n",
    "        - target_encoder.inverse_transform(probs_test).reshape(-1),\n",
    "    )\n",
    ")\n",
    "plt.xlabel(\"Error value (absolute)\")\n",
    "plt.ylabel(\"Counts\")\n",
    "plt.show()"
   ]
  },
  {
   "cell_type": "code",
   "execution_count": 51,
   "metadata": {
    "ExecuteTime": {
     "end_time": "2020-09-19T17:12:39.250809Z",
     "start_time": "2020-09-19T17:12:39.223544Z"
    }
   },
   "outputs": [
    {
     "data": {
      "application/javascript": [
       "\n",
       "            setTimeout(function() {\n",
       "                var nbb_cell_id = 51;\n",
       "                var nbb_unformatted_code = \"out = Path(os.getcwd() + \\\"/data/\\\" + dataset_name + \\\"-test.csv\\\")\";\n",
       "                var nbb_formatted_code = \"out = Path(os.getcwd() + \\\"/data/\\\" + dataset_name + \\\"-test.csv\\\")\";\n",
       "                var nbb_cells = Jupyter.notebook.get_cells();\n",
       "                for (var i = 0; i < nbb_cells.length; ++i) {\n",
       "                    if (nbb_cells[i].input_prompt_number == nbb_cell_id) {\n",
       "                        if (nbb_cells[i].get_text() == nbb_unformatted_code) {\n",
       "                             nbb_cells[i].set_text(nbb_formatted_code);\n",
       "                        }\n",
       "                        break;\n",
       "                    }\n",
       "                }\n",
       "            }, 500);\n",
       "            "
      ],
      "text/plain": [
       "<IPython.core.display.Javascript object>"
      ]
     },
     "metadata": {},
     "output_type": "display_data"
    }
   ],
   "source": [
    "out = Path(os.getcwd() + \"/data/\" + dataset_name + \"-test.csv\")"
   ]
  },
  {
   "cell_type": "code",
   "execution_count": 52,
   "metadata": {
    "ExecuteTime": {
     "end_time": "2020-09-19T17:12:39.286863Z",
     "start_time": "2020-09-19T17:12:39.251763Z"
    }
   },
   "outputs": [
    {
     "data": {
      "application/javascript": [
       "\n",
       "            setTimeout(function() {\n",
       "                var nbb_cell_id = 52;\n",
       "                var nbb_unformatted_code = \"kaggle_test = train = pd.read_csv(out, sep=\\\",\\\", low_memory=False)\";\n",
       "                var nbb_formatted_code = \"kaggle_test = train = pd.read_csv(out, sep=\\\",\\\", low_memory=False)\";\n",
       "                var nbb_cells = Jupyter.notebook.get_cells();\n",
       "                for (var i = 0; i < nbb_cells.length; ++i) {\n",
       "                    if (nbb_cells[i].input_prompt_number == nbb_cell_id) {\n",
       "                        if (nbb_cells[i].get_text() == nbb_unformatted_code) {\n",
       "                             nbb_cells[i].set_text(nbb_formatted_code);\n",
       "                        }\n",
       "                        break;\n",
       "                    }\n",
       "                }\n",
       "            }, 500);\n",
       "            "
      ],
      "text/plain": [
       "<IPython.core.display.Javascript object>"
      ]
     },
     "metadata": {},
     "output_type": "display_data"
    }
   ],
   "source": [
    "kaggle_test = train = pd.read_csv(out, sep=\",\", low_memory=False)"
   ]
  },
  {
   "cell_type": "code",
   "execution_count": 53,
   "metadata": {
    "ExecuteTime": {
     "end_time": "2020-09-19T17:12:39.347927Z",
     "start_time": "2020-09-19T17:12:39.287807Z"
    }
   },
   "outputs": [
    {
     "data": {
      "application/javascript": [
       "\n",
       "            setTimeout(function() {\n",
       "                var nbb_cell_id = 53;\n",
       "                var nbb_unformatted_code = \"input_kaggle, _ = preproc_dataset(kaggle_test, target, [\\\"Set\\\"], params)\";\n",
       "                var nbb_formatted_code = \"input_kaggle, _ = preproc_dataset(kaggle_test, target, [\\\"Set\\\"], params)\";\n",
       "                var nbb_cells = Jupyter.notebook.get_cells();\n",
       "                for (var i = 0; i < nbb_cells.length; ++i) {\n",
       "                    if (nbb_cells[i].input_prompt_number == nbb_cell_id) {\n",
       "                        if (nbb_cells[i].get_text() == nbb_unformatted_code) {\n",
       "                             nbb_cells[i].set_text(nbb_formatted_code);\n",
       "                        }\n",
       "                        break;\n",
       "                    }\n",
       "                }\n",
       "            }, 500);\n",
       "            "
      ],
      "text/plain": [
       "<IPython.core.display.Javascript object>"
      ]
     },
     "metadata": {},
     "output_type": "display_data"
    }
   ],
   "source": [
    "input_kaggle, _ = preproc_dataset(kaggle_test, target, [\"Set\"], params)"
   ]
  },
  {
   "cell_type": "code",
   "execution_count": 54,
   "metadata": {
    "ExecuteTime": {
     "end_time": "2020-09-19T17:12:39.662930Z",
     "start_time": "2020-09-19T17:12:39.348884Z"
    }
   },
   "outputs": [
    {
     "data": {
      "application/javascript": [
       "\n",
       "            setTimeout(function() {\n",
       "                var nbb_cell_id = 54;\n",
       "                var nbb_unformatted_code = \"probs_kaggle, _ = predict(model, input_kaggle)\";\n",
       "                var nbb_formatted_code = \"probs_kaggle, _ = predict(model, input_kaggle)\";\n",
       "                var nbb_cells = Jupyter.notebook.get_cells();\n",
       "                for (var i = 0; i < nbb_cells.length; ++i) {\n",
       "                    if (nbb_cells[i].input_prompt_number == nbb_cell_id) {\n",
       "                        if (nbb_cells[i].get_text() == nbb_unformatted_code) {\n",
       "                             nbb_cells[i].set_text(nbb_formatted_code);\n",
       "                        }\n",
       "                        break;\n",
       "                    }\n",
       "                }\n",
       "            }, 500);\n",
       "            "
      ],
      "text/plain": [
       "<IPython.core.display.Javascript object>"
      ]
     },
     "metadata": {},
     "output_type": "display_data"
    }
   ],
   "source": [
    "probs_kaggle, _ = predict(model, input_kaggle)"
   ]
  },
  {
   "cell_type": "code",
   "execution_count": 55,
   "metadata": {
    "ExecuteTime": {
     "end_time": "2020-09-19T17:12:39.686021Z",
     "start_time": "2020-09-19T17:12:39.663786Z"
    }
   },
   "outputs": [
    {
     "data": {
      "application/javascript": [
       "\n",
       "            setTimeout(function() {\n",
       "                var nbb_cell_id = 55;\n",
       "                var nbb_unformatted_code = \"probs_kaggle = target_encoder.inverse_transform(probs_kaggle)\";\n",
       "                var nbb_formatted_code = \"probs_kaggle = target_encoder.inverse_transform(probs_kaggle)\";\n",
       "                var nbb_cells = Jupyter.notebook.get_cells();\n",
       "                for (var i = 0; i < nbb_cells.length; ++i) {\n",
       "                    if (nbb_cells[i].input_prompt_number == nbb_cell_id) {\n",
       "                        if (nbb_cells[i].get_text() == nbb_unformatted_code) {\n",
       "                             nbb_cells[i].set_text(nbb_formatted_code);\n",
       "                        }\n",
       "                        break;\n",
       "                    }\n",
       "                }\n",
       "            }, 500);\n",
       "            "
      ],
      "text/plain": [
       "<IPython.core.display.Javascript object>"
      ]
     },
     "metadata": {},
     "output_type": "display_data"
    }
   ],
   "source": [
    "probs_kaggle = target_encoder.inverse_transform(probs_kaggle)"
   ]
  },
  {
   "cell_type": "code",
   "execution_count": 56,
   "metadata": {
    "ExecuteTime": {
     "end_time": "2020-09-19T17:12:39.710077Z",
     "start_time": "2020-09-19T17:12:39.686953Z"
    }
   },
   "outputs": [
    {
     "data": {
      "text/plain": [
       "array([[118826.086],\n",
       "       [168432.67 ],\n",
       "       [204974.73 ],\n",
       "       ...,\n",
       "       [191878.77 ],\n",
       "       [119177.06 ],\n",
       "       [225938.64 ]], dtype=float32)"
      ]
     },
     "execution_count": 56,
     "metadata": {},
     "output_type": "execute_result"
    },
    {
     "data": {
      "application/javascript": [
       "\n",
       "            setTimeout(function() {\n",
       "                var nbb_cell_id = 56;\n",
       "                var nbb_unformatted_code = \"probs_kaggle\";\n",
       "                var nbb_formatted_code = \"probs_kaggle\";\n",
       "                var nbb_cells = Jupyter.notebook.get_cells();\n",
       "                for (var i = 0; i < nbb_cells.length; ++i) {\n",
       "                    if (nbb_cells[i].input_prompt_number == nbb_cell_id) {\n",
       "                        if (nbb_cells[i].get_text() == nbb_unformatted_code) {\n",
       "                             nbb_cells[i].set_text(nbb_formatted_code);\n",
       "                        }\n",
       "                        break;\n",
       "                    }\n",
       "                }\n",
       "            }, 500);\n",
       "            "
      ],
      "text/plain": [
       "<IPython.core.display.Javascript object>"
      ]
     },
     "metadata": {},
     "output_type": "display_data"
    }
   ],
   "source": [
    "probs_kaggle"
   ]
  },
  {
   "cell_type": "code",
   "execution_count": 57,
   "metadata": {
    "ExecuteTime": {
     "end_time": "2020-09-19T17:12:39.735503Z",
     "start_time": "2020-09-19T17:12:39.711248Z"
    }
   },
   "outputs": [
    {
     "data": {
      "application/javascript": [
       "\n",
       "            setTimeout(function() {\n",
       "                var nbb_cell_id = 57;\n",
       "                var nbb_unformatted_code = \"test_df = kaggle_test[[\\\"Id\\\"]]\";\n",
       "                var nbb_formatted_code = \"test_df = kaggle_test[[\\\"Id\\\"]]\";\n",
       "                var nbb_cells = Jupyter.notebook.get_cells();\n",
       "                for (var i = 0; i < nbb_cells.length; ++i) {\n",
       "                    if (nbb_cells[i].input_prompt_number == nbb_cell_id) {\n",
       "                        if (nbb_cells[i].get_text() == nbb_unformatted_code) {\n",
       "                             nbb_cells[i].set_text(nbb_formatted_code);\n",
       "                        }\n",
       "                        break;\n",
       "                    }\n",
       "                }\n",
       "            }, 500);\n",
       "            "
      ],
      "text/plain": [
       "<IPython.core.display.Javascript object>"
      ]
     },
     "metadata": {},
     "output_type": "display_data"
    }
   ],
   "source": [
    "test_df = kaggle_test[[\"Id\"]]"
   ]
  },
  {
   "cell_type": "code",
   "execution_count": 58,
   "metadata": {
    "ExecuteTime": {
     "end_time": "2020-09-19T17:12:39.760621Z",
     "start_time": "2020-09-19T17:12:39.736368Z"
    }
   },
   "outputs": [
    {
     "name": "stderr",
     "output_type": "stream",
     "text": [
      "/work/.cache/poetry/xplainet-KS9Ipbc1-py3.7/lib/python3.7/site-packages/ipykernel_launcher.py:1: SettingWithCopyWarning: \n",
      "A value is trying to be set on a copy of a slice from a DataFrame.\n",
      "Try using .loc[row_indexer,col_indexer] = value instead\n",
      "\n",
      "See the caveats in the documentation: https://pandas.pydata.org/pandas-docs/stable/user_guide/indexing.html#returning-a-view-versus-a-copy\n",
      "  \"\"\"Entry point for launching an IPython kernel.\n"
     ]
    },
    {
     "data": {
      "application/javascript": [
       "\n",
       "            setTimeout(function() {\n",
       "                var nbb_cell_id = 58;\n",
       "                var nbb_unformatted_code = \"test_df[\\\"SalePrice\\\"] = probs_kaggle\";\n",
       "                var nbb_formatted_code = \"test_df[\\\"SalePrice\\\"] = probs_kaggle\";\n",
       "                var nbb_cells = Jupyter.notebook.get_cells();\n",
       "                for (var i = 0; i < nbb_cells.length; ++i) {\n",
       "                    if (nbb_cells[i].input_prompt_number == nbb_cell_id) {\n",
       "                        if (nbb_cells[i].get_text() == nbb_unformatted_code) {\n",
       "                             nbb_cells[i].set_text(nbb_formatted_code);\n",
       "                        }\n",
       "                        break;\n",
       "                    }\n",
       "                }\n",
       "            }, 500);\n",
       "            "
      ],
      "text/plain": [
       "<IPython.core.display.Javascript object>"
      ]
     },
     "metadata": {},
     "output_type": "display_data"
    }
   ],
   "source": [
    "test_df[\"SalePrice\"] = probs_kaggle"
   ]
  },
  {
   "cell_type": "code",
   "execution_count": 59,
   "metadata": {
    "ExecuteTime": {
     "end_time": "2020-09-19T17:12:39.788793Z",
     "start_time": "2020-09-19T17:12:39.761984Z"
    }
   },
   "outputs": [
    {
     "data": {
      "application/javascript": [
       "\n",
       "            setTimeout(function() {\n",
       "                var nbb_cell_id = 59;\n",
       "                var nbb_unformatted_code = \"test_df.to_csv(\\\"kaggle_submit.csv\\\", index=False)\";\n",
       "                var nbb_formatted_code = \"test_df.to_csv(\\\"kaggle_submit.csv\\\", index=False)\";\n",
       "                var nbb_cells = Jupyter.notebook.get_cells();\n",
       "                for (var i = 0; i < nbb_cells.length; ++i) {\n",
       "                    if (nbb_cells[i].input_prompt_number == nbb_cell_id) {\n",
       "                        if (nbb_cells[i].get_text() == nbb_unformatted_code) {\n",
       "                             nbb_cells[i].set_text(nbb_formatted_code);\n",
       "                        }\n",
       "                        break;\n",
       "                    }\n",
       "                }\n",
       "            }, 500);\n",
       "            "
      ],
      "text/plain": [
       "<IPython.core.display.Javascript object>"
      ]
     },
     "metadata": {},
     "output_type": "display_data"
    }
   ],
   "source": [
    "test_df.to_csv(\"kaggle_submit.csv\", index=False)"
   ]
  },
  {
   "cell_type": "code",
   "execution_count": 60,
   "metadata": {
    "ExecuteTime": {
     "end_time": "2020-09-19T17:12:39.813555Z",
     "start_time": "2020-09-19T17:12:39.789893Z"
    }
   },
   "outputs": [
    {
     "data": {
      "application/javascript": [
       "\n",
       "            setTimeout(function() {\n",
       "                var nbb_cell_id = 60;\n",
       "                var nbb_unformatted_code = \"# Scores 0.18047 on kaggle\\n# https://www.kaggle.com/c/house-prices-advanced-regression-techniques/leaderboard#score\\n# Should train with RMSLE ?\\n# from tensorflow.keras import backend as K\\n\\n# def root_mean_squared_log_error(y_true, y_pred):\\n#     return K.sqrt(K.mean(K.square(K.log(1+y_pred) - K.log(1+y_true))))\";\n",
       "                var nbb_formatted_code = \"# Scores 0.18047 on kaggle\\n# https://www.kaggle.com/c/house-prices-advanced-regression-techniques/leaderboard#score\\n# Should train with RMSLE ?\\n# from tensorflow.keras import backend as K\\n\\n# def root_mean_squared_log_error(y_true, y_pred):\\n#     return K.sqrt(K.mean(K.square(K.log(1+y_pred) - K.log(1+y_true))))\";\n",
       "                var nbb_cells = Jupyter.notebook.get_cells();\n",
       "                for (var i = 0; i < nbb_cells.length; ++i) {\n",
       "                    if (nbb_cells[i].input_prompt_number == nbb_cell_id) {\n",
       "                        if (nbb_cells[i].get_text() == nbb_unformatted_code) {\n",
       "                             nbb_cells[i].set_text(nbb_formatted_code);\n",
       "                        }\n",
       "                        break;\n",
       "                    }\n",
       "                }\n",
       "            }, 500);\n",
       "            "
      ],
      "text/plain": [
       "<IPython.core.display.Javascript object>"
      ]
     },
     "metadata": {},
     "output_type": "display_data"
    }
   ],
   "source": [
    "# Scores 0.18047 on kaggle\n",
    "# https://www.kaggle.com/c/house-prices-advanced-regression-techniques/leaderboard#score\n",
    "# Should train with RMSLE ?\n",
    "# from tensorflow.keras import backend as K\n",
    "\n",
    "# def root_mean_squared_log_error(y_true, y_pred):\n",
    "#     return K.sqrt(K.mean(K.square(K.log(1+y_pred) - K.log(1+y_true))))"
   ]
  }
 ],
 "metadata": {
  "kernelspec": {
   "display_name": "Python 3",
   "language": "python",
   "name": "python3"
  },
  "language_info": {
   "codemirror_mode": {
    "name": "ipython",
    "version": 3
   },
   "file_extension": ".py",
   "mimetype": "text/x-python",
   "name": "python",
   "nbconvert_exporter": "python",
   "pygments_lexer": "ipython3",
   "version": "3.7.9"
  }
 },
 "nbformat": 4,
 "nbformat_minor": 4
}
