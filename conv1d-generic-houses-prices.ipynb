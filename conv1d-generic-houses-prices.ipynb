{
 "cells": [
  {
   "cell_type": "code",
   "execution_count": 62,
   "metadata": {
    "ExecuteTime": {
     "end_time": "2020-09-21T21:04:54.771896Z",
     "start_time": "2020-09-21T21:04:54.726942Z"
    }
   },
   "outputs": [
    {
     "name": "stdout",
     "output_type": "stream",
     "text": [
      "The nb_black extension is already loaded. To reload it, use:\n",
      "  %reload_ext nb_black\n",
      "The autoreload extension is already loaded. To reload it, use:\n",
      "  %reload_ext autoreload\n"
     ]
    },
    {
     "data": {
      "application/javascript": [
       "\n",
       "            setTimeout(function() {\n",
       "                var nbb_cell_id = 62;\n",
       "                var nbb_unformatted_code = \"%load_ext nb_black\\n%load_ext autoreload\\n\\n%autoreload 2\";\n",
       "                var nbb_formatted_code = \"%load_ext nb_black\\n%load_ext autoreload\\n\\n%autoreload 2\";\n",
       "                var nbb_cells = Jupyter.notebook.get_cells();\n",
       "                for (var i = 0; i < nbb_cells.length; ++i) {\n",
       "                    if (nbb_cells[i].input_prompt_number == nbb_cell_id) {\n",
       "                        if (nbb_cells[i].get_text() == nbb_unformatted_code) {\n",
       "                             nbb_cells[i].set_text(nbb_formatted_code);\n",
       "                        }\n",
       "                        break;\n",
       "                    }\n",
       "                }\n",
       "            }, 500);\n",
       "            "
      ],
      "text/plain": [
       "<IPython.core.display.Javascript object>"
      ]
     },
     "metadata": {},
     "output_type": "display_data"
    }
   ],
   "source": [
    "%load_ext nb_black\n",
    "%load_ext autoreload\n",
    "\n",
    "%autoreload 2"
   ]
  },
  {
   "cell_type": "code",
   "execution_count": 63,
   "metadata": {
    "ExecuteTime": {
     "end_time": "2020-09-21T21:04:54.945465Z",
     "start_time": "2020-09-21T21:04:54.910277Z"
    }
   },
   "outputs": [
    {
     "data": {
      "application/javascript": [
       "\n",
       "            setTimeout(function() {\n",
       "                var nbb_cell_id = 63;\n",
       "                var nbb_unformatted_code = \"import os\\nfrom pathlib import Path\\n\\nfrom requests import get\\nimport pandas as pd\\nimport numpy as np\\n\\nfrom sklearn.metrics import mean_absolute_error, mean_squared_error\\nfrom sklearn.preprocessing import LabelEncoder, StandardScaler\\nfrom tensorflow.keras.utils import plot_model\\nfrom tensorflow.keras.callbacks import EarlyStopping\\n\\nimport logging\\n\\nlogging.basicConfig(level=logging.WARN)\";\n",
       "                var nbb_formatted_code = \"import os\\nfrom pathlib import Path\\n\\nfrom requests import get\\nimport pandas as pd\\nimport numpy as np\\n\\nfrom sklearn.metrics import mean_absolute_error, mean_squared_error\\nfrom sklearn.preprocessing import LabelEncoder, StandardScaler\\nfrom tensorflow.keras.utils import plot_model\\nfrom tensorflow.keras.callbacks import EarlyStopping\\n\\nimport logging\\n\\nlogging.basicConfig(level=logging.WARN)\";\n",
       "                var nbb_cells = Jupyter.notebook.get_cells();\n",
       "                for (var i = 0; i < nbb_cells.length; ++i) {\n",
       "                    if (nbb_cells[i].input_prompt_number == nbb_cell_id) {\n",
       "                        if (nbb_cells[i].get_text() == nbb_unformatted_code) {\n",
       "                             nbb_cells[i].set_text(nbb_formatted_code);\n",
       "                        }\n",
       "                        break;\n",
       "                    }\n",
       "                }\n",
       "            }, 500);\n",
       "            "
      ],
      "text/plain": [
       "<IPython.core.display.Javascript object>"
      ]
     },
     "metadata": {},
     "output_type": "display_data"
    }
   ],
   "source": [
    "import os\n",
    "from pathlib import Path\n",
    "\n",
    "from requests import get\n",
    "import pandas as pd\n",
    "import numpy as np\n",
    "\n",
    "from sklearn.metrics import mean_absolute_error, mean_squared_error\n",
    "from sklearn.preprocessing import LabelEncoder, StandardScaler\n",
    "from tensorflow.keras.utils import plot_model\n",
    "from tensorflow.keras.callbacks import EarlyStopping\n",
    "\n",
    "import logging\n",
    "\n",
    "logging.basicConfig(level=logging.WARN)"
   ]
  },
  {
   "cell_type": "code",
   "execution_count": 64,
   "metadata": {
    "ExecuteTime": {
     "end_time": "2020-09-21T21:04:55.125685Z",
     "start_time": "2020-09-21T21:04:55.091978Z"
    }
   },
   "outputs": [
    {
     "data": {
      "application/javascript": [
       "\n",
       "            setTimeout(function() {\n",
       "                var nbb_cell_id = 64;\n",
       "                var nbb_unformatted_code = \"from xplainet.input_utils import preproc_dataset\\nfrom xplainet.model import build_model\\nfrom xplainet.random_utils import setup_seed, SEED\\nfrom sklearn.model_selection import ShuffleSplit\\n\\nimport matplotlib.pyplot as plt\\nfrom matplotlib.pyplot import imshow\\n\\n%matplotlib inline\\n\\nfrom zipfile import ZipFile\";\n",
       "                var nbb_formatted_code = \"from xplainet.input_utils import preproc_dataset\\nfrom xplainet.model import build_model\\nfrom xplainet.random_utils import setup_seed, SEED\\nfrom sklearn.model_selection import ShuffleSplit\\n\\nimport matplotlib.pyplot as plt\\nfrom matplotlib.pyplot import imshow\\n\\n%matplotlib inline\\n\\nfrom zipfile import ZipFile\";\n",
       "                var nbb_cells = Jupyter.notebook.get_cells();\n",
       "                for (var i = 0; i < nbb_cells.length; ++i) {\n",
       "                    if (nbb_cells[i].input_prompt_number == nbb_cell_id) {\n",
       "                        if (nbb_cells[i].get_text() == nbb_unformatted_code) {\n",
       "                             nbb_cells[i].set_text(nbb_formatted_code);\n",
       "                        }\n",
       "                        break;\n",
       "                    }\n",
       "                }\n",
       "            }, 500);\n",
       "            "
      ],
      "text/plain": [
       "<IPython.core.display.Javascript object>"
      ]
     },
     "metadata": {},
     "output_type": "display_data"
    }
   ],
   "source": [
    "from xplainet.input_utils import preproc_dataset\n",
    "from xplainet.model import build_model\n",
    "from xplainet.random_utils import setup_seed, SEED\n",
    "from sklearn.model_selection import ShuffleSplit\n",
    "\n",
    "import matplotlib.pyplot as plt\n",
    "from matplotlib.pyplot import imshow\n",
    "\n",
    "%matplotlib inline\n",
    "\n",
    "from zipfile import ZipFile"
   ]
  },
  {
   "cell_type": "code",
   "execution_count": 65,
   "metadata": {
    "ExecuteTime": {
     "end_time": "2020-09-21T21:04:55.328161Z",
     "start_time": "2020-09-21T21:04:55.285347Z"
    }
   },
   "outputs": [
    {
     "data": {
      "application/javascript": [
       "\n",
       "            setTimeout(function() {\n",
       "                var nbb_cell_id = 65;\n",
       "                var nbb_unformatted_code = \"setup_seed()\";\n",
       "                var nbb_formatted_code = \"setup_seed()\";\n",
       "                var nbb_cells = Jupyter.notebook.get_cells();\n",
       "                for (var i = 0; i < nbb_cells.length; ++i) {\n",
       "                    if (nbb_cells[i].input_prompt_number == nbb_cell_id) {\n",
       "                        if (nbb_cells[i].get_text() == nbb_unformatted_code) {\n",
       "                             nbb_cells[i].set_text(nbb_formatted_code);\n",
       "                        }\n",
       "                        break;\n",
       "                    }\n",
       "                }\n",
       "            }, 500);\n",
       "            "
      ],
      "text/plain": [
       "<IPython.core.display.Javascript object>"
      ]
     },
     "metadata": {},
     "output_type": "display_data"
    }
   ],
   "source": [
    "setup_seed()"
   ]
  },
  {
   "cell_type": "code",
   "execution_count": 66,
   "metadata": {
    "ExecuteTime": {
     "end_time": "2020-09-21T21:04:55.577156Z",
     "start_time": "2020-09-21T21:04:55.544722Z"
    }
   },
   "outputs": [
    {
     "data": {
      "application/javascript": [
       "\n",
       "            setTimeout(function() {\n",
       "                var nbb_cell_id = 66;\n",
       "                var nbb_unformatted_code = \"def download(url, out, force=False, verify=True):\\n    out.parent.mkdir(parents=True, exist_ok=True)\\n    if force and out.exists():\\n        print(f\\\"Removing file at {str(out)}\\\")\\n        out.unlink()\\n\\n    if out.exists():\\n        print(\\\"File already exists.\\\")\\n        return\\n    print(f\\\"Downloading {url} at {str(out)} ...\\\")\\n    # open in binary mode\\n    with out.open(mode=\\\"wb\\\") as file:\\n        # get request\\n        response = get(url, verify=verify)\\n        for chunk in response.iter_content(100000):\\n            # write to file\\n            file.write(chunk)\";\n",
       "                var nbb_formatted_code = \"def download(url, out, force=False, verify=True):\\n    out.parent.mkdir(parents=True, exist_ok=True)\\n    if force and out.exists():\\n        print(f\\\"Removing file at {str(out)}\\\")\\n        out.unlink()\\n\\n    if out.exists():\\n        print(\\\"File already exists.\\\")\\n        return\\n    print(f\\\"Downloading {url} at {str(out)} ...\\\")\\n    # open in binary mode\\n    with out.open(mode=\\\"wb\\\") as file:\\n        # get request\\n        response = get(url, verify=verify)\\n        for chunk in response.iter_content(100000):\\n            # write to file\\n            file.write(chunk)\";\n",
       "                var nbb_cells = Jupyter.notebook.get_cells();\n",
       "                for (var i = 0; i < nbb_cells.length; ++i) {\n",
       "                    if (nbb_cells[i].input_prompt_number == nbb_cell_id) {\n",
       "                        if (nbb_cells[i].get_text() == nbb_unformatted_code) {\n",
       "                             nbb_cells[i].set_text(nbb_formatted_code);\n",
       "                        }\n",
       "                        break;\n",
       "                    }\n",
       "                }\n",
       "            }, 500);\n",
       "            "
      ],
      "text/plain": [
       "<IPython.core.display.Javascript object>"
      ]
     },
     "metadata": {},
     "output_type": "display_data"
    }
   ],
   "source": [
    "def download(url, out, force=False, verify=True):\n",
    "    out.parent.mkdir(parents=True, exist_ok=True)\n",
    "    if force and out.exists():\n",
    "        print(f\"Removing file at {str(out)}\")\n",
    "        out.unlink()\n",
    "\n",
    "    if out.exists():\n",
    "        print(\"File already exists.\")\n",
    "        return\n",
    "    print(f\"Downloading {url} at {str(out)} ...\")\n",
    "    # open in binary mode\n",
    "    with out.open(mode=\"wb\") as file:\n",
    "        # get request\n",
    "        response = get(url, verify=verify)\n",
    "        for chunk in response.iter_content(100000):\n",
    "            # write to file\n",
    "            file.write(chunk)\n"
   ]
  },
  {
   "cell_type": "code",
   "execution_count": 67,
   "metadata": {
    "ExecuteTime": {
     "end_time": "2020-09-21T21:04:55.886791Z",
     "start_time": "2020-09-21T21:04:55.835818Z"
    }
   },
   "outputs": [
    {
     "data": {
      "application/javascript": [
       "\n",
       "            setTimeout(function() {\n",
       "                var nbb_cell_id = 67;\n",
       "                var nbb_unformatted_code = \"def plot_history(history):\\n    loss_list = [s for s in history.history.keys() if \\\"loss\\\" in s and \\\"val\\\" not in s]\\n    val_loss_list = [s for s in history.history.keys() if \\\"loss\\\" in s and \\\"val\\\" in s]\\n    acc_list = [s for s in history.history.keys() if \\\"AUC\\\" in s and \\\"val\\\" not in s]\\n    val_acc_list = [s for s in history.history.keys() if \\\"AUC\\\" in s and \\\"val\\\" in s]\\n\\n    if len(loss_list) == 0:\\n        print(\\\"Loss is missing in history\\\")\\n        return\\n\\n    ## As loss always exists\\n    epochs = range(1, len(history.history[loss_list[0]]) + 1)\\n\\n    ## Loss\\n    plt.figure(1)\\n    for l in loss_list:\\n        plt.plot(\\n            epochs,\\n            history.history[l],\\n            \\\"b\\\",\\n            label=\\\"Training loss (\\\"\\n            + str(str(format(history.history[l][-1], \\\".5f\\\")) + \\\")\\\"),\\n        )\\n    for l in val_loss_list:\\n        plt.plot(\\n            epochs,\\n            history.history[l],\\n            \\\"g\\\",\\n            label=\\\"Validation loss (\\\"\\n            + str(str(format(history.history[l][-1], \\\".5f\\\")) + \\\")\\\"),\\n        )\\n\\n    plt.title(\\\"Loss\\\")\\n    plt.xlabel(\\\"Epochs\\\")\\n    plt.ylabel(\\\"Loss\\\")\\n    plt.legend()\\n\\n    plt.show()\";\n",
       "                var nbb_formatted_code = \"def plot_history(history):\\n    loss_list = [s for s in history.history.keys() if \\\"loss\\\" in s and \\\"val\\\" not in s]\\n    val_loss_list = [s for s in history.history.keys() if \\\"loss\\\" in s and \\\"val\\\" in s]\\n    acc_list = [s for s in history.history.keys() if \\\"AUC\\\" in s and \\\"val\\\" not in s]\\n    val_acc_list = [s for s in history.history.keys() if \\\"AUC\\\" in s and \\\"val\\\" in s]\\n\\n    if len(loss_list) == 0:\\n        print(\\\"Loss is missing in history\\\")\\n        return\\n\\n    ## As loss always exists\\n    epochs = range(1, len(history.history[loss_list[0]]) + 1)\\n\\n    ## Loss\\n    plt.figure(1)\\n    for l in loss_list:\\n        plt.plot(\\n            epochs,\\n            history.history[l],\\n            \\\"b\\\",\\n            label=\\\"Training loss (\\\"\\n            + str(str(format(history.history[l][-1], \\\".5f\\\")) + \\\")\\\"),\\n        )\\n    for l in val_loss_list:\\n        plt.plot(\\n            epochs,\\n            history.history[l],\\n            \\\"g\\\",\\n            label=\\\"Validation loss (\\\"\\n            + str(str(format(history.history[l][-1], \\\".5f\\\")) + \\\")\\\"),\\n        )\\n\\n    plt.title(\\\"Loss\\\")\\n    plt.xlabel(\\\"Epochs\\\")\\n    plt.ylabel(\\\"Loss\\\")\\n    plt.legend()\\n\\n    plt.show()\";\n",
       "                var nbb_cells = Jupyter.notebook.get_cells();\n",
       "                for (var i = 0; i < nbb_cells.length; ++i) {\n",
       "                    if (nbb_cells[i].input_prompt_number == nbb_cell_id) {\n",
       "                        if (nbb_cells[i].get_text() == nbb_unformatted_code) {\n",
       "                             nbb_cells[i].set_text(nbb_formatted_code);\n",
       "                        }\n",
       "                        break;\n",
       "                    }\n",
       "                }\n",
       "            }, 500);\n",
       "            "
      ],
      "text/plain": [
       "<IPython.core.display.Javascript object>"
      ]
     },
     "metadata": {},
     "output_type": "display_data"
    }
   ],
   "source": [
    "def plot_history(history):\n",
    "    loss_list = [s for s in history.history.keys() if \"loss\" in s and \"val\" not in s]\n",
    "    val_loss_list = [s for s in history.history.keys() if \"loss\" in s and \"val\" in s]\n",
    "    acc_list = [s for s in history.history.keys() if \"AUC\" in s and \"val\" not in s]\n",
    "    val_acc_list = [s for s in history.history.keys() if \"AUC\" in s and \"val\" in s]\n",
    "\n",
    "    if len(loss_list) == 0:\n",
    "        print(\"Loss is missing in history\")\n",
    "        return\n",
    "\n",
    "    ## As loss always exists\n",
    "    epochs = range(1, len(history.history[loss_list[0]]) + 1)\n",
    "\n",
    "    ## Loss\n",
    "    plt.figure(1)\n",
    "    for l in loss_list:\n",
    "        plt.plot(\n",
    "            epochs,\n",
    "            history.history[l],\n",
    "            \"b\",\n",
    "            label=\"Training loss (\"\n",
    "            + str(str(format(history.history[l][-1], \".5f\")) + \")\"),\n",
    "        )\n",
    "    for l in val_loss_list:\n",
    "        plt.plot(\n",
    "            epochs,\n",
    "            history.history[l],\n",
    "            \"g\",\n",
    "            label=\"Validation loss (\"\n",
    "            + str(str(format(history.history[l][-1], \".5f\")) + \")\"),\n",
    "        )\n",
    "\n",
    "    plt.title(\"Loss\")\n",
    "    plt.xlabel(\"Epochs\")\n",
    "    plt.ylabel(\"Loss\")\n",
    "    plt.legend()\n",
    "\n",
    "    plt.show()"
   ]
  },
  {
   "cell_type": "markdown",
   "metadata": {},
   "source": [
    "## Houses prices : loading data"
   ]
  },
  {
   "cell_type": "code",
   "execution_count": 7,
   "metadata": {
    "ExecuteTime": {
     "end_time": "2020-09-21T20:34:22.347965Z",
     "start_time": "2020-09-21T20:34:22.307612Z"
    }
   },
   "outputs": [
    {
     "data": {
      "application/javascript": [
       "\n",
       "            setTimeout(function() {\n",
       "                var nbb_cell_id = 7;\n",
       "                var nbb_unformatted_code = \"dataset_name = \\\"kaggle-house-prices\\\"\\nout = Path(os.getcwd() + \\\"/data/\\\" + dataset_name + \\\"-train.csv\\\")\\n\\ntarget = \\\"SalePrice\\\"\\nto_remove = []\\ntrain = pd.read_csv(out, sep=\\\",\\\", low_memory=False)\";\n",
       "                var nbb_formatted_code = \"dataset_name = \\\"kaggle-house-prices\\\"\\nout = Path(os.getcwd() + \\\"/data/\\\" + dataset_name + \\\"-train.csv\\\")\\n\\ntarget = \\\"SalePrice\\\"\\nto_remove = []\\ntrain = pd.read_csv(out, sep=\\\",\\\", low_memory=False)\";\n",
       "                var nbb_cells = Jupyter.notebook.get_cells();\n",
       "                for (var i = 0; i < nbb_cells.length; ++i) {\n",
       "                    if (nbb_cells[i].input_prompt_number == nbb_cell_id) {\n",
       "                        if (nbb_cells[i].get_text() == nbb_unformatted_code) {\n",
       "                             nbb_cells[i].set_text(nbb_formatted_code);\n",
       "                        }\n",
       "                        break;\n",
       "                    }\n",
       "                }\n",
       "            }, 500);\n",
       "            "
      ],
      "text/plain": [
       "<IPython.core.display.Javascript object>"
      ]
     },
     "metadata": {},
     "output_type": "display_data"
    }
   ],
   "source": [
    "dataset_name = \"kaggle-house-prices\"\n",
    "out = Path(os.getcwd() + \"/data/\" + dataset_name + \"-train.csv\")\n",
    "\n",
    "target = \"SalePrice\"\n",
    "to_remove = []\n",
    "train = pd.read_csv(out, sep=\",\", low_memory=False)"
   ]
  },
  {
   "cell_type": "code",
   "execution_count": 8,
   "metadata": {
    "ExecuteTime": {
     "end_time": "2020-09-21T20:34:22.576785Z",
     "start_time": "2020-09-21T20:34:22.349611Z"
    }
   },
   "outputs": [
    {
     "name": "stdout",
     "output_type": "stream",
     "text": [
      "census-income.csv\tforest-cover-type.zip\t       wine-quality.csv\r\n",
      "census-income_test.csv\tkaggle-house-prices-test.csv\r\n",
      "forest-cover-type.csv\tkaggle-house-prices-train.csv\r\n"
     ]
    },
    {
     "data": {
      "application/javascript": [
       "\n",
       "            setTimeout(function() {\n",
       "                var nbb_cell_id = 8;\n",
       "                var nbb_unformatted_code = \"!ls data\";\n",
       "                var nbb_formatted_code = \"!ls data\";\n",
       "                var nbb_cells = Jupyter.notebook.get_cells();\n",
       "                for (var i = 0; i < nbb_cells.length; ++i) {\n",
       "                    if (nbb_cells[i].input_prompt_number == nbb_cell_id) {\n",
       "                        if (nbb_cells[i].get_text() == nbb_unformatted_code) {\n",
       "                             nbb_cells[i].set_text(nbb_formatted_code);\n",
       "                        }\n",
       "                        break;\n",
       "                    }\n",
       "                }\n",
       "            }, 500);\n",
       "            "
      ],
      "text/plain": [
       "<IPython.core.display.Javascript object>"
      ]
     },
     "metadata": {},
     "output_type": "display_data"
    }
   ],
   "source": [
    "!ls data"
   ]
  },
  {
   "cell_type": "code",
   "execution_count": 9,
   "metadata": {
    "ExecuteTime": {
     "end_time": "2020-09-21T20:34:22.618594Z",
     "start_time": "2020-09-21T20:34:22.579170Z"
    }
   },
   "outputs": [
    {
     "data": {
      "text/plain": [
       "(1460, 81)"
      ]
     },
     "execution_count": 9,
     "metadata": {},
     "output_type": "execute_result"
    },
    {
     "data": {
      "application/javascript": [
       "\n",
       "            setTimeout(function() {\n",
       "                var nbb_cell_id = 9;\n",
       "                var nbb_unformatted_code = \"train.shape\";\n",
       "                var nbb_formatted_code = \"train.shape\";\n",
       "                var nbb_cells = Jupyter.notebook.get_cells();\n",
       "                for (var i = 0; i < nbb_cells.length; ++i) {\n",
       "                    if (nbb_cells[i].input_prompt_number == nbb_cell_id) {\n",
       "                        if (nbb_cells[i].get_text() == nbb_unformatted_code) {\n",
       "                             nbb_cells[i].set_text(nbb_formatted_code);\n",
       "                        }\n",
       "                        break;\n",
       "                    }\n",
       "                }\n",
       "            }, 500);\n",
       "            "
      ],
      "text/plain": [
       "<IPython.core.display.Javascript object>"
      ]
     },
     "metadata": {},
     "output_type": "display_data"
    }
   ],
   "source": [
    "train.shape"
   ]
  },
  {
   "cell_type": "code",
   "execution_count": 10,
   "metadata": {
    "ExecuteTime": {
     "end_time": "2020-09-21T20:34:22.650469Z",
     "start_time": "2020-09-21T20:34:22.620162Z"
    }
   },
   "outputs": [
    {
     "data": {
      "text/plain": [
       "Index(['Id', 'MSSubClass', 'MSZoning', 'LotFrontage', 'LotArea', 'Street',\n",
       "       'Alley', 'LotShape', 'LandContour', 'Utilities', 'LotConfig',\n",
       "       'LandSlope', 'Neighborhood', 'Condition1', 'Condition2', 'BldgType',\n",
       "       'HouseStyle', 'OverallQual', 'OverallCond', 'YearBuilt', 'YearRemodAdd',\n",
       "       'RoofStyle', 'RoofMatl', 'Exterior1st', 'Exterior2nd', 'MasVnrType',\n",
       "       'MasVnrArea', 'ExterQual', 'ExterCond', 'Foundation', 'BsmtQual',\n",
       "       'BsmtCond', 'BsmtExposure', 'BsmtFinType1', 'BsmtFinSF1',\n",
       "       'BsmtFinType2', 'BsmtFinSF2', 'BsmtUnfSF', 'TotalBsmtSF', 'Heating',\n",
       "       'HeatingQC', 'CentralAir', 'Electrical', '1stFlrSF', '2ndFlrSF',\n",
       "       'LowQualFinSF', 'GrLivArea', 'BsmtFullBath', 'BsmtHalfBath', 'FullBath',\n",
       "       'HalfBath', 'BedroomAbvGr', 'KitchenAbvGr', 'KitchenQual',\n",
       "       'TotRmsAbvGrd', 'Functional', 'Fireplaces', 'FireplaceQu', 'GarageType',\n",
       "       'GarageYrBlt', 'GarageFinish', 'GarageCars', 'GarageArea', 'GarageQual',\n",
       "       'GarageCond', 'PavedDrive', 'WoodDeckSF', 'OpenPorchSF',\n",
       "       'EnclosedPorch', '3SsnPorch', 'ScreenPorch', 'PoolArea', 'PoolQC',\n",
       "       'Fence', 'MiscFeature', 'MiscVal', 'MoSold', 'YrSold', 'SaleType',\n",
       "       'SaleCondition', 'SalePrice'],\n",
       "      dtype='object')"
      ]
     },
     "execution_count": 10,
     "metadata": {},
     "output_type": "execute_result"
    },
    {
     "data": {
      "application/javascript": [
       "\n",
       "            setTimeout(function() {\n",
       "                var nbb_cell_id = 10;\n",
       "                var nbb_unformatted_code = \"train.columns\";\n",
       "                var nbb_formatted_code = \"train.columns\";\n",
       "                var nbb_cells = Jupyter.notebook.get_cells();\n",
       "                for (var i = 0; i < nbb_cells.length; ++i) {\n",
       "                    if (nbb_cells[i].input_prompt_number == nbb_cell_id) {\n",
       "                        if (nbb_cells[i].get_text() == nbb_unformatted_code) {\n",
       "                             nbb_cells[i].set_text(nbb_formatted_code);\n",
       "                        }\n",
       "                        break;\n",
       "                    }\n",
       "                }\n",
       "            }, 500);\n",
       "            "
      ],
      "text/plain": [
       "<IPython.core.display.Javascript object>"
      ]
     },
     "metadata": {},
     "output_type": "display_data"
    }
   ],
   "source": [
    "train.columns"
   ]
  },
  {
   "cell_type": "code",
   "execution_count": 11,
   "metadata": {
    "ExecuteTime": {
     "end_time": "2020-09-21T20:34:22.696314Z",
     "start_time": "2020-09-21T20:34:22.651845Z"
    }
   },
   "outputs": [
    {
     "name": "stdout",
     "output_type": "stream",
     "text": [
      "Building tailored column\n"
     ]
    },
    {
     "name": "stderr",
     "output_type": "stream",
     "text": [
      "/work/.cache/poetry/xplainet-KS9Ipbc1-py3.7/lib/python3.7/site-packages/ipykernel_launcher.py:14: SettingWithCopyWarning: \n",
      "A value is trying to be set on a copy of a slice from a DataFrame\n",
      "\n",
      "See the caveats in the documentation: https://pandas.pydata.org/pandas-docs/stable/user_guide/indexing.html#returning-a-view-versus-a-copy\n",
      "  \n",
      "/work/.cache/poetry/xplainet-KS9Ipbc1-py3.7/lib/python3.7/site-packages/pandas/core/indexing.py:670: SettingWithCopyWarning: \n",
      "A value is trying to be set on a copy of a slice from a DataFrame\n",
      "\n",
      "See the caveats in the documentation: https://pandas.pydata.org/pandas-docs/stable/user_guide/indexing.html#returning-a-view-versus-a-copy\n",
      "  iloc._setitem_with_indexer(indexer, value)\n",
      "/work/.cache/poetry/xplainet-KS9Ipbc1-py3.7/lib/python3.7/site-packages/ipykernel_launcher.py:15: SettingWithCopyWarning: \n",
      "A value is trying to be set on a copy of a slice from a DataFrame\n",
      "\n",
      "See the caveats in the documentation: https://pandas.pydata.org/pandas-docs/stable/user_guide/indexing.html#returning-a-view-versus-a-copy\n",
      "  from ipykernel import kernelapp as app\n"
     ]
    },
    {
     "data": {
      "application/javascript": [
       "\n",
       "            setTimeout(function() {\n",
       "                var nbb_cell_id = 11;\n",
       "                var nbb_unformatted_code = \"if \\\"Set\\\" not in train.columns:\\n    print(\\\"Building tailored column\\\")\\n    train_valid_index, test_index = next(\\n        ShuffleSplit(n_splits=1, test_size=0.1, random_state=SEED).split(\\n            range(train[target].shape[0])\\n        )\\n    )\\n    train_index, valid_index = next(\\n        ShuffleSplit(n_splits=1, test_size=0.1, random_state=SEED).split(\\n            train_valid_index\\n        )\\n    )\\n    train[\\\"Set\\\"] = \\\"train\\\"\\n    train[\\\"Set\\\"][valid_index] = \\\"valid\\\"\\n    train[\\\"Set\\\"][test_index] = \\\"test\\\"\\n    # train.to_csv((out.parent / \\\"train_bench.csv\\\").as_posix(), index=False)\";\n",
       "                var nbb_formatted_code = \"if \\\"Set\\\" not in train.columns:\\n    print(\\\"Building tailored column\\\")\\n    train_valid_index, test_index = next(\\n        ShuffleSplit(n_splits=1, test_size=0.1, random_state=SEED).split(\\n            range(train[target].shape[0])\\n        )\\n    )\\n    train_index, valid_index = next(\\n        ShuffleSplit(n_splits=1, test_size=0.1, random_state=SEED).split(\\n            train_valid_index\\n        )\\n    )\\n    train[\\\"Set\\\"] = \\\"train\\\"\\n    train[\\\"Set\\\"][valid_index] = \\\"valid\\\"\\n    train[\\\"Set\\\"][test_index] = \\\"test\\\"\\n    # train.to_csv((out.parent / \\\"train_bench.csv\\\").as_posix(), index=False)\";\n",
       "                var nbb_cells = Jupyter.notebook.get_cells();\n",
       "                for (var i = 0; i < nbb_cells.length; ++i) {\n",
       "                    if (nbb_cells[i].input_prompt_number == nbb_cell_id) {\n",
       "                        if (nbb_cells[i].get_text() == nbb_unformatted_code) {\n",
       "                             nbb_cells[i].set_text(nbb_formatted_code);\n",
       "                        }\n",
       "                        break;\n",
       "                    }\n",
       "                }\n",
       "            }, 500);\n",
       "            "
      ],
      "text/plain": [
       "<IPython.core.display.Javascript object>"
      ]
     },
     "metadata": {},
     "output_type": "display_data"
    }
   ],
   "source": [
    "if \"Set\" not in train.columns:\n",
    "    print(\"Building tailored column\")\n",
    "    train_valid_index, test_index = next(\n",
    "        ShuffleSplit(n_splits=1, test_size=0.1, random_state=SEED).split(\n",
    "            range(train[target].shape[0])\n",
    "        )\n",
    "    )\n",
    "    train_index, valid_index = next(\n",
    "        ShuffleSplit(n_splits=1, test_size=0.1, random_state=SEED).split(\n",
    "            train_valid_index\n",
    "        )\n",
    "    )\n",
    "    train[\"Set\"] = \"train\"\n",
    "    train[\"Set\"][valid_index] = \"valid\"\n",
    "    train[\"Set\"][test_index] = \"test\"\n",
    "    # train.to_csv((out.parent / \"train_bench.csv\").as_posix(), index=False)"
   ]
  },
  {
   "cell_type": "code",
   "execution_count": 12,
   "metadata": {
    "ExecuteTime": {
     "end_time": "2020-09-21T20:34:22.726083Z",
     "start_time": "2020-09-21T20:34:22.697886Z"
    }
   },
   "outputs": [
    {
     "data": {
      "application/javascript": [
       "\n",
       "            setTimeout(function() {\n",
       "                var nbb_cell_id = 12;\n",
       "                var nbb_unformatted_code = \"train_indices = train[train.Set == \\\"train\\\"].index\\nvalid_indices = train[train.Set == \\\"valid\\\"].index\\ntest_indices = train[train.Set == \\\"test\\\"].index\";\n",
       "                var nbb_formatted_code = \"train_indices = train[train.Set == \\\"train\\\"].index\\nvalid_indices = train[train.Set == \\\"valid\\\"].index\\ntest_indices = train[train.Set == \\\"test\\\"].index\";\n",
       "                var nbb_cells = Jupyter.notebook.get_cells();\n",
       "                for (var i = 0; i < nbb_cells.length; ++i) {\n",
       "                    if (nbb_cells[i].input_prompt_number == nbb_cell_id) {\n",
       "                        if (nbb_cells[i].get_text() == nbb_unformatted_code) {\n",
       "                             nbb_cells[i].set_text(nbb_formatted_code);\n",
       "                        }\n",
       "                        break;\n",
       "                    }\n",
       "                }\n",
       "            }, 500);\n",
       "            "
      ],
      "text/plain": [
       "<IPython.core.display.Javascript object>"
      ]
     },
     "metadata": {},
     "output_type": "display_data"
    }
   ],
   "source": [
    "train_indices = train[train.Set == \"train\"].index\n",
    "valid_indices = train[train.Set == \"valid\"].index\n",
    "test_indices = train[train.Set == \"test\"].index"
   ]
  },
  {
   "cell_type": "code",
   "execution_count": 13,
   "metadata": {
    "ExecuteTime": {
     "end_time": "2020-09-21T20:34:23.025287Z",
     "start_time": "2020-09-21T20:34:22.727574Z"
    }
   },
   "outputs": [
    {
     "data": {
      "text/plain": [
       "{'constant_cols': [],\n",
       " 'bool_cols': ['Alley', 'CentralAir', 'Utilities', 'Street'],\n",
       " 'num_cols': ['GarageYrBlt',\n",
       "  'ScreenPorch',\n",
       "  'GrLivArea',\n",
       "  'MasVnrArea',\n",
       "  'LotArea',\n",
       "  'BsmtUnfSF',\n",
       "  'EnclosedPorch',\n",
       "  'YearRemodAdd',\n",
       "  'BsmtFinSF2',\n",
       "  'YearBuilt',\n",
       "  'WoodDeckSF',\n",
       "  'BsmtFinSF1',\n",
       "  '1stFlrSF',\n",
       "  'TotalBsmtSF',\n",
       "  'GarageArea',\n",
       "  '2ndFlrSF',\n",
       "  'OpenPorchSF',\n",
       "  'Id',\n",
       "  'LotFrontage'],\n",
       " 'cat_cols': ['KitchenAbvGr',\n",
       "  'GarageCond',\n",
       "  'LandSlope',\n",
       "  'Exterior1st',\n",
       "  'Functional',\n",
       "  'SaleType',\n",
       "  'BsmtQual',\n",
       "  'Electrical',\n",
       "  'Fireplaces',\n",
       "  'FullBath',\n",
       "  'OverallCond',\n",
       "  'RoofStyle',\n",
       "  'PavedDrive',\n",
       "  'BsmtCond',\n",
       "  'BsmtFinType1',\n",
       "  'GarageCars',\n",
       "  'MiscVal',\n",
       "  'TotRmsAbvGrd',\n",
       "  'LowQualFinSF',\n",
       "  'HalfBath',\n",
       "  'Heating',\n",
       "  'LotShape',\n",
       "  'KitchenQual',\n",
       "  'MasVnrType',\n",
       "  'PoolQC',\n",
       "  'Foundation',\n",
       "  'BedroomAbvGr',\n",
       "  'RoofMatl',\n",
       "  '3SsnPorch',\n",
       "  'GarageType',\n",
       "  'BsmtFinType2',\n",
       "  'Condition1',\n",
       "  'OverallQual',\n",
       "  'BsmtExposure',\n",
       "  'ExterQual',\n",
       "  'MSSubClass',\n",
       "  'YrSold',\n",
       "  'LandContour',\n",
       "  'LotConfig',\n",
       "  'Exterior2nd',\n",
       "  'MSZoning',\n",
       "  'BsmtFullBath',\n",
       "  'GarageQual',\n",
       "  'BldgType',\n",
       "  'ExterCond',\n",
       "  'SaleCondition',\n",
       "  'Condition2',\n",
       "  'MiscFeature',\n",
       "  'HeatingQC',\n",
       "  'HouseStyle',\n",
       "  'Fence',\n",
       "  'PoolArea',\n",
       "  'MoSold',\n",
       "  'Neighborhood',\n",
       "  'FireplaceQu',\n",
       "  'BsmtHalfBath',\n",
       "  'GarageFinish'],\n",
       " 'num_encoder': [FeatureUnion(transformer_list=[('fillna',\n",
       "                                  Pipeline(steps=[('fillna',\n",
       "                                                   SimpleImputer(fill_value=1897.5279905941616,\n",
       "                                                                 strategy='constant')),\n",
       "                                                  ('scaler',\n",
       "                                                   StandardScaler())]))]),\n",
       "  FeatureUnion(transformer_list=[('fillna',\n",
       "                                  Pipeline(steps=[('fillna',\n",
       "                                                   SimpleImputer(fill_value=-5.705547216467039,\n",
       "                                                                 strategy='constant')),\n",
       "                                                  ('scaler',\n",
       "                                                   StandardScaler())]))]),\n",
       "  FeatureUnion(transformer_list=[('fillna',\n",
       "                                  Pipeline(steps=[('fillna',\n",
       "                                                   SimpleImputer(fill_value=283.1521746236896,\n",
       "                                                                 strategy='constant')),\n",
       "                                                  ('scaler',\n",
       "                                                   StandardScaler())]))]),\n",
       "  FeatureUnion(transformer_list=[('fillna',\n",
       "                                  Pipeline(steps=[('fillna',\n",
       "                                                   SimpleImputer(fill_value=-17.16005805073806,\n",
       "                                                                 strategy='constant')),\n",
       "                                                  ('scaler',\n",
       "                                                   StandardScaler())]))]),\n",
       "  FeatureUnion(transformer_list=[('fillna',\n",
       "                                  Pipeline(steps=[('fillna',\n",
       "                                                   SimpleImputer(fill_value=234.44552984495476,\n",
       "                                                                 strategy='constant')),\n",
       "                                                  ('scaler',\n",
       "                                                   StandardScaler())]))]),\n",
       "  FeatureUnion(transformer_list=[('fillna',\n",
       "                                  Pipeline(steps=[('fillna',\n",
       "                                                   SimpleImputer(fill_value=-44.09528628925001,\n",
       "                                                                 strategy='constant')),\n",
       "                                                  ('scaler',\n",
       "                                                   StandardScaler())]))]),\n",
       "  FeatureUnion(transformer_list=[('fillna',\n",
       "                                  Pipeline(steps=[('fillna',\n",
       "                                                   SimpleImputer(fill_value=-6.16716384502759,\n",
       "                                                                 strategy='constant')),\n",
       "                                                  ('scaler',\n",
       "                                                   StandardScaler())]))]),\n",
       "  FeatureUnion(transformer_list=[('fillna',\n",
       "                                  Pipeline(steps=[('fillna',\n",
       "                                                   SimpleImputer(fill_value=1947.9413545283148,\n",
       "                                                                 strategy='constant')),\n",
       "                                                  ('scaler',\n",
       "                                                   StandardScaler())]))]),\n",
       "  FeatureUnion(transformer_list=[('fillna',\n",
       "                                  Pipeline(steps=[('fillna',\n",
       "                                                   SimpleImputer(fill_value=-15.89740488044788,\n",
       "                                                                 strategy='constant')),\n",
       "                                                  ('scaler',\n",
       "                                                   StandardScaler())]))]),\n",
       "  FeatureUnion(transformer_list=[('fillna',\n",
       "                                  Pipeline(steps=[('fillna',\n",
       "                                                   SimpleImputer(fill_value=1868.954615177255,\n",
       "                                                                 strategy='constant')),\n",
       "                                                  ('scaler',\n",
       "                                                   StandardScaler())]))]),\n",
       "  FeatureUnion(transformer_list=[('fillna',\n",
       "                                  Pipeline(steps=[('fillna',\n",
       "                                                   SimpleImputer(fill_value=-12.795001854935746,\n",
       "                                                                 strategy='constant')),\n",
       "                                                  ('scaler',\n",
       "                                                   StandardScaler())]))]),\n",
       "  FeatureUnion(transformer_list=[('fillna',\n",
       "                                  Pipeline(steps=[('fillna',\n",
       "                                                   SimpleImputer(fill_value=-43.11290264214038,\n",
       "                                                                 strategy='constant')),\n",
       "                                                  ('scaler',\n",
       "                                                   StandardScaler())]))]),\n",
       "  FeatureUnion(transformer_list=[('fillna',\n",
       "                                  Pipeline(steps=[('fillna',\n",
       "                                                   SimpleImputer(fill_value=296.76122203505605,\n",
       "                                                                 strategy='constant')),\n",
       "                                                  ('scaler',\n",
       "                                                   StandardScaler())]))]),\n",
       "  FeatureUnion(transformer_list=[('fillna',\n",
       "                                  Pipeline(steps=[('fillna',\n",
       "                                                   SimpleImputer(fill_value=-40.917873769333355,\n",
       "                                                                 strategy='constant')),\n",
       "                                                  ('scaler',\n",
       "                                                   StandardScaler())]))]),\n",
       "  FeatureUnion(transformer_list=[('fillna',\n",
       "                                  Pipeline(steps=[('fillna',\n",
       "                                                   SimpleImputer(fill_value=-20.782345317596494,\n",
       "                                                                 strategy='constant')),\n",
       "                                                  ('scaler',\n",
       "                                                   StandardScaler())]))]),\n",
       "  FeatureUnion(transformer_list=[('fillna',\n",
       "                                  Pipeline(steps=[('fillna',\n",
       "                                                   SimpleImputer(fill_value=-43.49782030326563,\n",
       "                                                                 strategy='constant')),\n",
       "                                                  ('scaler',\n",
       "                                                   StandardScaler())]))]),\n",
       "  FeatureUnion(transformer_list=[('fillna',\n",
       "                                  Pipeline(steps=[('fillna',\n",
       "                                                   SimpleImputer(fill_value=-6.805237977967029,\n",
       "                                                                 strategy='constant')),\n",
       "                                                  ('scaler',\n",
       "                                                   StandardScaler())]))]),\n",
       "  FeatureUnion(transformer_list=[('fillna',\n",
       "                                  Pipeline(steps=[('fillna',\n",
       "                                                   SimpleImputer(fill_value=-41.71908341967729,\n",
       "                                                                 strategy='constant')),\n",
       "                                                  ('scaler',\n",
       "                                                   StandardScaler())]))]),\n",
       "  FeatureUnion(transformer_list=[('fillna',\n",
       "                                  Pipeline(steps=[('fillna',\n",
       "                                                   SimpleImputer(fill_value=18.671047763804225,\n",
       "                                                                 strategy='constant')),\n",
       "                                                  ('scaler',\n",
       "                                                   StandardScaler())]))])],\n",
       " 'bool_encoder': [SafeLabelEncoder(),\n",
       "  SafeLabelEncoder(),\n",
       "  SafeLabelEncoder(),\n",
       "  SafeLabelEncoder()],\n",
       " 'max_nb': 26,\n",
       " 'cat_encoder': [SafeLabelEncoder(),\n",
       "  SafeLabelEncoder(),\n",
       "  SafeLabelEncoder(),\n",
       "  SafeLabelEncoder(),\n",
       "  SafeLabelEncoder(),\n",
       "  SafeLabelEncoder(),\n",
       "  SafeLabelEncoder(),\n",
       "  SafeLabelEncoder(),\n",
       "  SafeLabelEncoder(),\n",
       "  SafeLabelEncoder(),\n",
       "  SafeLabelEncoder(),\n",
       "  SafeLabelEncoder(),\n",
       "  SafeLabelEncoder(),\n",
       "  SafeLabelEncoder(),\n",
       "  SafeLabelEncoder(),\n",
       "  SafeLabelEncoder(),\n",
       "  SafeLabelEncoder(),\n",
       "  SafeLabelEncoder(),\n",
       "  SafeLabelEncoder(),\n",
       "  SafeLabelEncoder(),\n",
       "  SafeLabelEncoder(),\n",
       "  SafeLabelEncoder(),\n",
       "  SafeLabelEncoder(),\n",
       "  SafeLabelEncoder(),\n",
       "  SafeLabelEncoder(),\n",
       "  SafeLabelEncoder(),\n",
       "  SafeLabelEncoder(),\n",
       "  SafeLabelEncoder(),\n",
       "  SafeLabelEncoder(),\n",
       "  SafeLabelEncoder(),\n",
       "  SafeLabelEncoder(),\n",
       "  SafeLabelEncoder(),\n",
       "  SafeLabelEncoder(),\n",
       "  SafeLabelEncoder(),\n",
       "  SafeLabelEncoder(),\n",
       "  SafeLabelEncoder(),\n",
       "  SafeLabelEncoder(),\n",
       "  SafeLabelEncoder(),\n",
       "  SafeLabelEncoder(),\n",
       "  SafeLabelEncoder(),\n",
       "  SafeLabelEncoder(),\n",
       "  SafeLabelEncoder(),\n",
       "  SafeLabelEncoder(),\n",
       "  SafeLabelEncoder(),\n",
       "  SafeLabelEncoder(),\n",
       "  SafeLabelEncoder(),\n",
       "  SafeLabelEncoder(),\n",
       "  SafeLabelEncoder(),\n",
       "  SafeLabelEncoder(),\n",
       "  SafeLabelEncoder(),\n",
       "  SafeLabelEncoder(),\n",
       "  SafeLabelEncoder(),\n",
       "  SafeLabelEncoder(),\n",
       "  SafeLabelEncoder(),\n",
       "  SafeLabelEncoder(),\n",
       "  SafeLabelEncoder(),\n",
       "  SafeLabelEncoder()]}"
      ]
     },
     "execution_count": 13,
     "metadata": {},
     "output_type": "execute_result"
    },
    {
     "data": {
      "application/javascript": [
       "\n",
       "            setTimeout(function() {\n",
       "                var nbb_cell_id = 13;\n",
       "                var nbb_unformatted_code = \"input_train, params = preproc_dataset(train.loc[train_indices], target, [\\\"Set\\\"])\\nparams\";\n",
       "                var nbb_formatted_code = \"input_train, params = preproc_dataset(train.loc[train_indices], target, [\\\"Set\\\"])\\nparams\";\n",
       "                var nbb_cells = Jupyter.notebook.get_cells();\n",
       "                for (var i = 0; i < nbb_cells.length; ++i) {\n",
       "                    if (nbb_cells[i].input_prompt_number == nbb_cell_id) {\n",
       "                        if (nbb_cells[i].get_text() == nbb_unformatted_code) {\n",
       "                             nbb_cells[i].set_text(nbb_formatted_code);\n",
       "                        }\n",
       "                        break;\n",
       "                    }\n",
       "                }\n",
       "            }, 500);\n",
       "            "
      ],
      "text/plain": [
       "<IPython.core.display.Javascript object>"
      ]
     },
     "metadata": {},
     "output_type": "display_data"
    }
   ],
   "source": [
    "input_train, params = preproc_dataset(train.loc[train_indices], target, [\"Set\"])\n",
    "params"
   ]
  },
  {
   "cell_type": "code",
   "execution_count": 14,
   "metadata": {
    "ExecuteTime": {
     "end_time": "2020-09-21T20:34:23.049622Z",
     "start_time": "2020-09-21T20:34:23.026265Z"
    }
   },
   "outputs": [
    {
     "data": {
      "text/plain": [
       "1219"
      ]
     },
     "execution_count": 14,
     "metadata": {},
     "output_type": "execute_result"
    },
    {
     "data": {
      "application/javascript": [
       "\n",
       "            setTimeout(function() {\n",
       "                var nbb_cell_id = 14;\n",
       "                var nbb_unformatted_code = \"len(train_indices)\";\n",
       "                var nbb_formatted_code = \"len(train_indices)\";\n",
       "                var nbb_cells = Jupyter.notebook.get_cells();\n",
       "                for (var i = 0; i < nbb_cells.length; ++i) {\n",
       "                    if (nbb_cells[i].input_prompt_number == nbb_cell_id) {\n",
       "                        if (nbb_cells[i].get_text() == nbb_unformatted_code) {\n",
       "                             nbb_cells[i].set_text(nbb_formatted_code);\n",
       "                        }\n",
       "                        break;\n",
       "                    }\n",
       "                }\n",
       "            }, 500);\n",
       "            "
      ],
      "text/plain": [
       "<IPython.core.display.Javascript object>"
      ]
     },
     "metadata": {},
     "output_type": "display_data"
    }
   ],
   "source": [
    "len(train_indices)"
   ]
  },
  {
   "cell_type": "code",
   "execution_count": 15,
   "metadata": {
    "ExecuteTime": {
     "end_time": "2020-09-21T20:34:23.109697Z",
     "start_time": "2020-09-21T20:34:23.050891Z"
    }
   },
   "outputs": [
    {
     "data": {
      "application/javascript": [
       "\n",
       "            setTimeout(function() {\n",
       "                var nbb_cell_id = 15;\n",
       "                var nbb_unformatted_code = \"input_valid, _ = preproc_dataset(train.loc[valid_indices], target, [\\\"Set\\\"], params)\\ninput_test, _ = preproc_dataset(train.loc[test_indices], target, [\\\"Set\\\"], params)\";\n",
       "                var nbb_formatted_code = \"input_valid, _ = preproc_dataset(train.loc[valid_indices], target, [\\\"Set\\\"], params)\\ninput_test, _ = preproc_dataset(train.loc[test_indices], target, [\\\"Set\\\"], params)\";\n",
       "                var nbb_cells = Jupyter.notebook.get_cells();\n",
       "                for (var i = 0; i < nbb_cells.length; ++i) {\n",
       "                    if (nbb_cells[i].input_prompt_number == nbb_cell_id) {\n",
       "                        if (nbb_cells[i].get_text() == nbb_unformatted_code) {\n",
       "                             nbb_cells[i].set_text(nbb_formatted_code);\n",
       "                        }\n",
       "                        break;\n",
       "                    }\n",
       "                }\n",
       "            }, 500);\n",
       "            "
      ],
      "text/plain": [
       "<IPython.core.display.Javascript object>"
      ]
     },
     "metadata": {},
     "output_type": "display_data"
    }
   ],
   "source": [
    "input_valid, _ = preproc_dataset(train.loc[valid_indices], target, [\"Set\"], params)\n",
    "input_test, _ = preproc_dataset(train.loc[test_indices], target, [\"Set\"], params)"
   ]
  },
  {
   "cell_type": "code",
   "execution_count": 16,
   "metadata": {
    "ExecuteTime": {
     "end_time": "2020-09-21T20:34:23.133193Z",
     "start_time": "2020-09-21T20:34:23.110689Z"
    }
   },
   "outputs": [
    {
     "data": {
      "application/javascript": [
       "\n",
       "            setTimeout(function() {\n",
       "                var nbb_cell_id = 16;\n",
       "                var nbb_unformatted_code = \"target_encoder = StandardScaler()\";\n",
       "                var nbb_formatted_code = \"target_encoder = StandardScaler()\";\n",
       "                var nbb_cells = Jupyter.notebook.get_cells();\n",
       "                for (var i = 0; i < nbb_cells.length; ++i) {\n",
       "                    if (nbb_cells[i].input_prompt_number == nbb_cell_id) {\n",
       "                        if (nbb_cells[i].get_text() == nbb_unformatted_code) {\n",
       "                             nbb_cells[i].set_text(nbb_formatted_code);\n",
       "                        }\n",
       "                        break;\n",
       "                    }\n",
       "                }\n",
       "            }, 500);\n",
       "            "
      ],
      "text/plain": [
       "<IPython.core.display.Javascript object>"
      ]
     },
     "metadata": {},
     "output_type": "display_data"
    }
   ],
   "source": [
    "target_encoder = StandardScaler()"
   ]
  },
  {
   "cell_type": "code",
   "execution_count": 17,
   "metadata": {
    "ExecuteTime": {
     "end_time": "2020-09-21T20:34:23.162426Z",
     "start_time": "2020-09-21T20:34:23.134183Z"
    }
   },
   "outputs": [
    {
     "data": {
      "application/javascript": [
       "\n",
       "            setTimeout(function() {\n",
       "                var nbb_cell_id = 17;\n",
       "                var nbb_unformatted_code = \"target_encoder.fit(train[target].values.reshape(-1, 1))\\ny_train = target_encoder.transform(train[target].values[train_indices].reshape(-1, 1))\\ny_valid = target_encoder.transform(train[target].values[valid_indices].reshape(-1, 1))\\ny_test = target_encoder.transform(train[target].values[test_indices].reshape(-1, 1))\";\n",
       "                var nbb_formatted_code = \"target_encoder.fit(train[target].values.reshape(-1, 1))\\ny_train = target_encoder.transform(train[target].values[train_indices].reshape(-1, 1))\\ny_valid = target_encoder.transform(train[target].values[valid_indices].reshape(-1, 1))\\ny_test = target_encoder.transform(train[target].values[test_indices].reshape(-1, 1))\";\n",
       "                var nbb_cells = Jupyter.notebook.get_cells();\n",
       "                for (var i = 0; i < nbb_cells.length; ++i) {\n",
       "                    if (nbb_cells[i].input_prompt_number == nbb_cell_id) {\n",
       "                        if (nbb_cells[i].get_text() == nbb_unformatted_code) {\n",
       "                             nbb_cells[i].set_text(nbb_formatted_code);\n",
       "                        }\n",
       "                        break;\n",
       "                    }\n",
       "                }\n",
       "            }, 500);\n",
       "            "
      ],
      "text/plain": [
       "<IPython.core.display.Javascript object>"
      ]
     },
     "metadata": {},
     "output_type": "display_data"
    }
   ],
   "source": [
    "target_encoder.fit(train[target].values.reshape(-1, 1))\n",
    "y_train = target_encoder.transform(train[target].values[train_indices].reshape(-1, 1))\n",
    "y_valid = target_encoder.transform(train[target].values[valid_indices].reshape(-1, 1))\n",
    "y_test = target_encoder.transform(train[target].values[test_indices].reshape(-1, 1))"
   ]
  },
  {
   "cell_type": "code",
   "execution_count": 18,
   "metadata": {
    "ExecuteTime": {
     "end_time": "2020-09-21T20:34:23.365790Z",
     "start_time": "2020-09-21T20:34:23.163339Z"
    }
   },
   "outputs": [
    {
     "data": {
      "text/plain": [
       "{'constant_cols': [],\n",
       " 'bool_cols': ['Alley', 'CentralAir', 'Utilities', 'Street'],\n",
       " 'num_cols': ['GarageYrBlt',\n",
       "  'ScreenPorch',\n",
       "  'GrLivArea',\n",
       "  'MasVnrArea',\n",
       "  'LotArea',\n",
       "  'BsmtUnfSF',\n",
       "  'EnclosedPorch',\n",
       "  'YearRemodAdd',\n",
       "  'BsmtFinSF2',\n",
       "  'YearBuilt',\n",
       "  'WoodDeckSF',\n",
       "  'BsmtFinSF1',\n",
       "  '1stFlrSF',\n",
       "  'TotalBsmtSF',\n",
       "  'GarageArea',\n",
       "  '2ndFlrSF',\n",
       "  'OpenPorchSF',\n",
       "  'Id',\n",
       "  'LotFrontage'],\n",
       " 'cat_cols': ['KitchenAbvGr',\n",
       "  'GarageCond',\n",
       "  'LandSlope',\n",
       "  'Exterior1st',\n",
       "  'Functional',\n",
       "  'SaleType',\n",
       "  'BsmtQual',\n",
       "  'Electrical',\n",
       "  'Fireplaces',\n",
       "  'FullBath',\n",
       "  'OverallCond',\n",
       "  'RoofStyle',\n",
       "  'PavedDrive',\n",
       "  'BsmtCond',\n",
       "  'BsmtFinType1',\n",
       "  'GarageCars',\n",
       "  'MiscVal',\n",
       "  'TotRmsAbvGrd',\n",
       "  'LowQualFinSF',\n",
       "  'HalfBath',\n",
       "  'Heating',\n",
       "  'LotShape',\n",
       "  'KitchenQual',\n",
       "  'MasVnrType',\n",
       "  'PoolQC',\n",
       "  'Foundation',\n",
       "  'BedroomAbvGr',\n",
       "  'RoofMatl',\n",
       "  '3SsnPorch',\n",
       "  'GarageType',\n",
       "  'BsmtFinType2',\n",
       "  'Condition1',\n",
       "  'OverallQual',\n",
       "  'BsmtExposure',\n",
       "  'ExterQual',\n",
       "  'MSSubClass',\n",
       "  'YrSold',\n",
       "  'LandContour',\n",
       "  'LotConfig',\n",
       "  'Exterior2nd',\n",
       "  'MSZoning',\n",
       "  'BsmtFullBath',\n",
       "  'GarageQual',\n",
       "  'BldgType',\n",
       "  'ExterCond',\n",
       "  'SaleCondition',\n",
       "  'Condition2',\n",
       "  'MiscFeature',\n",
       "  'HeatingQC',\n",
       "  'HouseStyle',\n",
       "  'Fence',\n",
       "  'PoolArea',\n",
       "  'MoSold',\n",
       "  'Neighborhood',\n",
       "  'FireplaceQu',\n",
       "  'BsmtHalfBath',\n",
       "  'GarageFinish'],\n",
       " 'num_encoder': [FeatureUnion(transformer_list=[('fillna',\n",
       "                                  Pipeline(steps=[('fillna',\n",
       "                                                   SimpleImputer(fill_value=1897.5279905941616,\n",
       "                                                                 strategy='constant')),\n",
       "                                                  ('scaler',\n",
       "                                                   StandardScaler())]))]),\n",
       "  FeatureUnion(transformer_list=[('fillna',\n",
       "                                  Pipeline(steps=[('fillna',\n",
       "                                                   SimpleImputer(fill_value=-5.705547216467039,\n",
       "                                                                 strategy='constant')),\n",
       "                                                  ('scaler',\n",
       "                                                   StandardScaler())]))]),\n",
       "  FeatureUnion(transformer_list=[('fillna',\n",
       "                                  Pipeline(steps=[('fillna',\n",
       "                                                   SimpleImputer(fill_value=283.1521746236896,\n",
       "                                                                 strategy='constant')),\n",
       "                                                  ('scaler',\n",
       "                                                   StandardScaler())]))]),\n",
       "  FeatureUnion(transformer_list=[('fillna',\n",
       "                                  Pipeline(steps=[('fillna',\n",
       "                                                   SimpleImputer(fill_value=-17.16005805073806,\n",
       "                                                                 strategy='constant')),\n",
       "                                                  ('scaler',\n",
       "                                                   StandardScaler())]))]),\n",
       "  FeatureUnion(transformer_list=[('fillna',\n",
       "                                  Pipeline(steps=[('fillna',\n",
       "                                                   SimpleImputer(fill_value=234.44552984495476,\n",
       "                                                                 strategy='constant')),\n",
       "                                                  ('scaler',\n",
       "                                                   StandardScaler())]))]),\n",
       "  FeatureUnion(transformer_list=[('fillna',\n",
       "                                  Pipeline(steps=[('fillna',\n",
       "                                                   SimpleImputer(fill_value=-44.09528628925001,\n",
       "                                                                 strategy='constant')),\n",
       "                                                  ('scaler',\n",
       "                                                   StandardScaler())]))]),\n",
       "  FeatureUnion(transformer_list=[('fillna',\n",
       "                                  Pipeline(steps=[('fillna',\n",
       "                                                   SimpleImputer(fill_value=-6.16716384502759,\n",
       "                                                                 strategy='constant')),\n",
       "                                                  ('scaler',\n",
       "                                                   StandardScaler())]))]),\n",
       "  FeatureUnion(transformer_list=[('fillna',\n",
       "                                  Pipeline(steps=[('fillna',\n",
       "                                                   SimpleImputer(fill_value=1947.9413545283148,\n",
       "                                                                 strategy='constant')),\n",
       "                                                  ('scaler',\n",
       "                                                   StandardScaler())]))]),\n",
       "  FeatureUnion(transformer_list=[('fillna',\n",
       "                                  Pipeline(steps=[('fillna',\n",
       "                                                   SimpleImputer(fill_value=-15.89740488044788,\n",
       "                                                                 strategy='constant')),\n",
       "                                                  ('scaler',\n",
       "                                                   StandardScaler())]))]),\n",
       "  FeatureUnion(transformer_list=[('fillna',\n",
       "                                  Pipeline(steps=[('fillna',\n",
       "                                                   SimpleImputer(fill_value=1868.954615177255,\n",
       "                                                                 strategy='constant')),\n",
       "                                                  ('scaler',\n",
       "                                                   StandardScaler())]))]),\n",
       "  FeatureUnion(transformer_list=[('fillna',\n",
       "                                  Pipeline(steps=[('fillna',\n",
       "                                                   SimpleImputer(fill_value=-12.795001854935746,\n",
       "                                                                 strategy='constant')),\n",
       "                                                  ('scaler',\n",
       "                                                   StandardScaler())]))]),\n",
       "  FeatureUnion(transformer_list=[('fillna',\n",
       "                                  Pipeline(steps=[('fillna',\n",
       "                                                   SimpleImputer(fill_value=-43.11290264214038,\n",
       "                                                                 strategy='constant')),\n",
       "                                                  ('scaler',\n",
       "                                                   StandardScaler())]))]),\n",
       "  FeatureUnion(transformer_list=[('fillna',\n",
       "                                  Pipeline(steps=[('fillna',\n",
       "                                                   SimpleImputer(fill_value=296.76122203505605,\n",
       "                                                                 strategy='constant')),\n",
       "                                                  ('scaler',\n",
       "                                                   StandardScaler())]))]),\n",
       "  FeatureUnion(transformer_list=[('fillna',\n",
       "                                  Pipeline(steps=[('fillna',\n",
       "                                                   SimpleImputer(fill_value=-40.917873769333355,\n",
       "                                                                 strategy='constant')),\n",
       "                                                  ('scaler',\n",
       "                                                   StandardScaler())]))]),\n",
       "  FeatureUnion(transformer_list=[('fillna',\n",
       "                                  Pipeline(steps=[('fillna',\n",
       "                                                   SimpleImputer(fill_value=-20.782345317596494,\n",
       "                                                                 strategy='constant')),\n",
       "                                                  ('scaler',\n",
       "                                                   StandardScaler())]))]),\n",
       "  FeatureUnion(transformer_list=[('fillna',\n",
       "                                  Pipeline(steps=[('fillna',\n",
       "                                                   SimpleImputer(fill_value=-43.49782030326563,\n",
       "                                                                 strategy='constant')),\n",
       "                                                  ('scaler',\n",
       "                                                   StandardScaler())]))]),\n",
       "  FeatureUnion(transformer_list=[('fillna',\n",
       "                                  Pipeline(steps=[('fillna',\n",
       "                                                   SimpleImputer(fill_value=-6.805237977967029,\n",
       "                                                                 strategy='constant')),\n",
       "                                                  ('scaler',\n",
       "                                                   StandardScaler())]))]),\n",
       "  FeatureUnion(transformer_list=[('fillna',\n",
       "                                  Pipeline(steps=[('fillna',\n",
       "                                                   SimpleImputer(fill_value=-41.71908341967729,\n",
       "                                                                 strategy='constant')),\n",
       "                                                  ('scaler',\n",
       "                                                   StandardScaler())]))]),\n",
       "  FeatureUnion(transformer_list=[('fillna',\n",
       "                                  Pipeline(steps=[('fillna',\n",
       "                                                   SimpleImputer(fill_value=18.671047763804225,\n",
       "                                                                 strategy='constant')),\n",
       "                                                  ('scaler',\n",
       "                                                   StandardScaler())]))])],\n",
       " 'bool_encoder': [SafeLabelEncoder(),\n",
       "  SafeLabelEncoder(),\n",
       "  SafeLabelEncoder(),\n",
       "  SafeLabelEncoder()],\n",
       " 'max_nb': 26,\n",
       " 'cat_encoder': [SafeLabelEncoder(),\n",
       "  SafeLabelEncoder(),\n",
       "  SafeLabelEncoder(),\n",
       "  SafeLabelEncoder(),\n",
       "  SafeLabelEncoder(),\n",
       "  SafeLabelEncoder(),\n",
       "  SafeLabelEncoder(),\n",
       "  SafeLabelEncoder(),\n",
       "  SafeLabelEncoder(),\n",
       "  SafeLabelEncoder(),\n",
       "  SafeLabelEncoder(),\n",
       "  SafeLabelEncoder(),\n",
       "  SafeLabelEncoder(),\n",
       "  SafeLabelEncoder(),\n",
       "  SafeLabelEncoder(),\n",
       "  SafeLabelEncoder(),\n",
       "  SafeLabelEncoder(),\n",
       "  SafeLabelEncoder(),\n",
       "  SafeLabelEncoder(),\n",
       "  SafeLabelEncoder(),\n",
       "  SafeLabelEncoder(),\n",
       "  SafeLabelEncoder(),\n",
       "  SafeLabelEncoder(),\n",
       "  SafeLabelEncoder(),\n",
       "  SafeLabelEncoder(),\n",
       "  SafeLabelEncoder(),\n",
       "  SafeLabelEncoder(),\n",
       "  SafeLabelEncoder(),\n",
       "  SafeLabelEncoder(),\n",
       "  SafeLabelEncoder(),\n",
       "  SafeLabelEncoder(),\n",
       "  SafeLabelEncoder(),\n",
       "  SafeLabelEncoder(),\n",
       "  SafeLabelEncoder(),\n",
       "  SafeLabelEncoder(),\n",
       "  SafeLabelEncoder(),\n",
       "  SafeLabelEncoder(),\n",
       "  SafeLabelEncoder(),\n",
       "  SafeLabelEncoder(),\n",
       "  SafeLabelEncoder(),\n",
       "  SafeLabelEncoder(),\n",
       "  SafeLabelEncoder(),\n",
       "  SafeLabelEncoder(),\n",
       "  SafeLabelEncoder(),\n",
       "  SafeLabelEncoder(),\n",
       "  SafeLabelEncoder(),\n",
       "  SafeLabelEncoder(),\n",
       "  SafeLabelEncoder(),\n",
       "  SafeLabelEncoder(),\n",
       "  SafeLabelEncoder(),\n",
       "  SafeLabelEncoder(),\n",
       "  SafeLabelEncoder(),\n",
       "  SafeLabelEncoder(),\n",
       "  SafeLabelEncoder(),\n",
       "  SafeLabelEncoder(),\n",
       "  SafeLabelEncoder(),\n",
       "  SafeLabelEncoder()]}"
      ]
     },
     "execution_count": 18,
     "metadata": {},
     "output_type": "execute_result"
    },
    {
     "data": {
      "application/javascript": [
       "\n",
       "            setTimeout(function() {\n",
       "                var nbb_cell_id = 18;\n",
       "                var nbb_unformatted_code = \"params\";\n",
       "                var nbb_formatted_code = \"params\";\n",
       "                var nbb_cells = Jupyter.notebook.get_cells();\n",
       "                for (var i = 0; i < nbb_cells.length; ++i) {\n",
       "                    if (nbb_cells[i].input_prompt_number == nbb_cell_id) {\n",
       "                        if (nbb_cells[i].get_text() == nbb_unformatted_code) {\n",
       "                             nbb_cells[i].set_text(nbb_formatted_code);\n",
       "                        }\n",
       "                        break;\n",
       "                    }\n",
       "                }\n",
       "            }, 500);\n",
       "            "
      ],
      "text/plain": [
       "<IPython.core.display.Javascript object>"
      ]
     },
     "metadata": {},
     "output_type": "display_data"
    }
   ],
   "source": [
    "params"
   ]
  },
  {
   "cell_type": "code",
   "execution_count": 19,
   "metadata": {
    "ExecuteTime": {
     "end_time": "2020-09-21T20:34:23.581797Z",
     "start_time": "2020-09-21T20:34:23.366685Z"
    }
   },
   "outputs": [
    {
     "name": "stderr",
     "output_type": "stream",
     "text": [
      "/work/.cache/poetry/xplainet-KS9Ipbc1-py3.7/lib/python3.7/site-packages/tensorflow_addons/utils/resource_loader.py:103: UserWarning: You are currently using TensorFlow 2.3.0 and trying to load a custom op (custom_ops/activations/_activation_ops.so).\n",
      "TensorFlow Addons has compiled its custom ops against TensorFlow 2.2.0, and there are no compatibility guarantees between the two versions. \n",
      "This means that you might get segfaults when loading the custom op, or other kind of low-level errors.\n",
      " If you do, do not file an issue on Github. This is a known limitation.\n",
      "\n",
      "It might help you to fallback to pure Python ops with TF_ADDONS_PY_OPS . To do that, see https://github.com/tensorflow/addons#gpucpu-custom-ops \n",
      "\n",
      "You can also change the TensorFlow version installed on your system. You would need a TensorFlow version equal to or above 2.2.0 and strictly below 2.3.0.\n",
      " Note that nightly versions of TensorFlow, as well as non-pip TensorFlow like `conda install tensorflow` or compiled from source are not supported.\n",
      "\n",
      "The last solution is to find the TensorFlow Addons version that has custom ops compatible with the TensorFlow installed on your system. To do that, refer to the readme: https://github.com/tensorflow/addons\n",
      "  UserWarning,\n"
     ]
    },
    {
     "data": {
      "application/javascript": [
       "\n",
       "            setTimeout(function() {\n",
       "                var nbb_cell_id = 19;\n",
       "                var nbb_unformatted_code = \"model = build_model(\\n    params,\\n    lconv_dim=[4],\\n    lconv_num_dim=[8],\\n    emb_size=16,\\n    # For this problem, we need \\\"tanh\\\" as first layer, or else to standard scale the data beforehand\\n    activation_num_first_layer=None,  # \\\"tanh\\\",\\n    output_activation=None,\\n    output_dim=1,  # np.unique(y_train).shape[0],\\n)\";\n",
       "                var nbb_formatted_code = \"model = build_model(\\n    params,\\n    lconv_dim=[4],\\n    lconv_num_dim=[8],\\n    emb_size=16,\\n    # For this problem, we need \\\"tanh\\\" as first layer, or else to standard scale the data beforehand\\n    activation_num_first_layer=None,  # \\\"tanh\\\",\\n    output_activation=None,\\n    output_dim=1,  # np.unique(y_train).shape[0],\\n)\";\n",
       "                var nbb_cells = Jupyter.notebook.get_cells();\n",
       "                for (var i = 0; i < nbb_cells.length; ++i) {\n",
       "                    if (nbb_cells[i].input_prompt_number == nbb_cell_id) {\n",
       "                        if (nbb_cells[i].get_text() == nbb_unformatted_code) {\n",
       "                             nbb_cells[i].set_text(nbb_formatted_code);\n",
       "                        }\n",
       "                        break;\n",
       "                    }\n",
       "                }\n",
       "            }, 500);\n",
       "            "
      ],
      "text/plain": [
       "<IPython.core.display.Javascript object>"
      ]
     },
     "metadata": {},
     "output_type": "display_data"
    }
   ],
   "source": [
    "model = build_model(\n",
    "    params,\n",
    "    lconv_dim=[4],\n",
    "    lconv_num_dim=[8],\n",
    "    emb_size=16,\n",
    "    # For this problem, we need \"tanh\" as first layer, or else to standard scale the data beforehand\n",
    "    activation_num_first_layer=None,  # \"tanh\",\n",
    "    output_activation=None,\n",
    "    output_dim=1,  # np.unique(y_train).shape[0],\n",
    ")"
   ]
  },
  {
   "cell_type": "code",
   "execution_count": 20,
   "metadata": {
    "ExecuteTime": {
     "end_time": "2020-09-21T20:34:23.608661Z",
     "start_time": "2020-09-21T20:34:23.582781Z"
    }
   },
   "outputs": [
    {
     "name": "stdout",
     "output_type": "stream",
     "text": [
      "Model: \"explainable_model\"\n",
      "__________________________________________________________________________________________________\n",
      "Layer (type)                    Output Shape         Param #     Connected to                     \n",
      "==================================================================================================\n",
      "input_num (InputLayer)          [(None, 19)]         0                                            \n",
      "__________________________________________________________________________________________________\n",
      "input_cat (InputLayer)          [(None, 57)]         0                                            \n",
      "__________________________________________________________________________________________________\n",
      "reshape_num_input (Reshape)     (None, 19, 1)        0           input_num[0][0]                  \n",
      "__________________________________________________________________________________________________\n",
      "large_emb (Embedding)           (None, 57, 16)       432         input_cat[0][0]                  \n",
      "__________________________________________________________________________________________________\n",
      "block_num_0_conv (LocallyConnec (None, 19, 8)        152         reshape_num_input[0][0]          \n",
      "__________________________________________________________________________________________________\n",
      "block_cat_0_conv (LocallyConnec (None, 57, 4)        3648        large_emb[0][0]                  \n",
      "__________________________________________________________________________________________________\n",
      "block_num_0_activation (Activat (None, 19, 8)        0           block_num_0_conv[0][0]           \n",
      "__________________________________________________________________________________________________\n",
      "block_cat_0_activation (Activat (None, 57, 4)        0           block_cat_0_conv[0][0]           \n",
      "__________________________________________________________________________________________________\n",
      "input_bool (InputLayer)         [(None, 4)]          0                                            \n",
      "__________________________________________________________________________________________________\n",
      "reshape_num_output (Reshape)    (None, 152)          0           block_num_0_activation[0][0]     \n",
      "__________________________________________________________________________________________________\n",
      "reshape_cat_output (Reshape)    (None, 228)          0           block_cat_0_activation[0][0]     \n",
      "__________________________________________________________________________________________________\n",
      "concatenate (Concatenate)       (None, 384)          0           input_bool[0][0]                 \n",
      "                                                                 reshape_num_output[0][0]         \n",
      "                                                                 reshape_cat_output[0][0]         \n",
      "__________________________________________________________________________________________________\n",
      "output (Dense)                  (None, 1)            385         concatenate[0][0]                \n",
      "==================================================================================================\n",
      "Total params: 4,617\n",
      "Trainable params: 4,617\n",
      "Non-trainable params: 0\n",
      "__________________________________________________________________________________________________\n"
     ]
    },
    {
     "data": {
      "application/javascript": [
       "\n",
       "            setTimeout(function() {\n",
       "                var nbb_cell_id = 20;\n",
       "                var nbb_unformatted_code = \"model.summary()\";\n",
       "                var nbb_formatted_code = \"model.summary()\";\n",
       "                var nbb_cells = Jupyter.notebook.get_cells();\n",
       "                for (var i = 0; i < nbb_cells.length; ++i) {\n",
       "                    if (nbb_cells[i].input_prompt_number == nbb_cell_id) {\n",
       "                        if (nbb_cells[i].get_text() == nbb_unformatted_code) {\n",
       "                             nbb_cells[i].set_text(nbb_formatted_code);\n",
       "                        }\n",
       "                        break;\n",
       "                    }\n",
       "                }\n",
       "            }, 500);\n",
       "            "
      ],
      "text/plain": [
       "<IPython.core.display.Javascript object>"
      ]
     },
     "metadata": {},
     "output_type": "display_data"
    }
   ],
   "source": [
    "model.summary()"
   ]
  },
  {
   "cell_type": "code",
   "execution_count": 21,
   "metadata": {
    "ExecuteTime": {
     "end_time": "2020-09-21T20:34:23.631930Z",
     "start_time": "2020-09-21T20:34:23.609816Z"
    }
   },
   "outputs": [
    {
     "data": {
      "application/javascript": [
       "\n",
       "            setTimeout(function() {\n",
       "                var nbb_cell_id = 21;\n",
       "                var nbb_unformatted_code = \"#!pip install pydot graphviz\";\n",
       "                var nbb_formatted_code = \"#!pip install pydot graphviz\";\n",
       "                var nbb_cells = Jupyter.notebook.get_cells();\n",
       "                for (var i = 0; i < nbb_cells.length; ++i) {\n",
       "                    if (nbb_cells[i].input_prompt_number == nbb_cell_id) {\n",
       "                        if (nbb_cells[i].get_text() == nbb_unformatted_code) {\n",
       "                             nbb_cells[i].set_text(nbb_formatted_code);\n",
       "                        }\n",
       "                        break;\n",
       "                    }\n",
       "                }\n",
       "            }, 500);\n",
       "            "
      ],
      "text/plain": [
       "<IPython.core.display.Javascript object>"
      ]
     },
     "metadata": {},
     "output_type": "display_data"
    }
   ],
   "source": [
    "#!pip install pydot graphviz"
   ]
  },
  {
   "cell_type": "code",
   "execution_count": 22,
   "metadata": {
    "ExecuteTime": {
     "end_time": "2020-09-21T20:34:23.769492Z",
     "start_time": "2020-09-21T20:34:23.633040Z"
    }
   },
   "outputs": [
    {
     "data": {
      "image/png": "[encoded data removed]",
      "text/plain": [
       "<IPython.core.display.Image object>"
      ]
     },
     "execution_count": 22,
     "metadata": {},
     "output_type": "execute_result"
    },
    {
     "data": {
      "application/javascript": [
       "\n",
       "            setTimeout(function() {\n",
       "                var nbb_cell_id = 22;\n",
       "                var nbb_unformatted_code = \"plot_model(\\n    model,\\n    # to_file=\\\"model.png\\\",\\n    show_shapes=True,\\n    show_layer_names=True,\\n    rankdir=\\\"TB\\\",\\n    expand_nested=False,\\n    dpi=96,\\n)\";\n",
       "                var nbb_formatted_code = \"plot_model(\\n    model,\\n    # to_file=\\\"model.png\\\",\\n    show_shapes=True,\\n    show_layer_names=True,\\n    rankdir=\\\"TB\\\",\\n    expand_nested=False,\\n    dpi=96,\\n)\";\n",
       "                var nbb_cells = Jupyter.notebook.get_cells();\n",
       "                for (var i = 0; i < nbb_cells.length; ++i) {\n",
       "                    if (nbb_cells[i].input_prompt_number == nbb_cell_id) {\n",
       "                        if (nbb_cells[i].get_text() == nbb_unformatted_code) {\n",
       "                             nbb_cells[i].set_text(nbb_formatted_code);\n",
       "                        }\n",
       "                        break;\n",
       "                    }\n",
       "                }\n",
       "            }, 500);\n",
       "            "
      ],
      "text/plain": [
       "<IPython.core.display.Javascript object>"
      ]
     },
     "metadata": {},
     "output_type": "display_data"
    }
   ],
   "source": [
    "plot_model(\n",
    "    model,\n",
    "    # to_file=\"model.png\",\n",
    "    show_shapes=True,\n",
    "    show_layer_names=True,\n",
    "    rankdir=\"TB\",\n",
    "    expand_nested=False,\n",
    "    dpi=96,\n",
    ")"
   ]
  },
  {
   "cell_type": "code",
   "execution_count": 23,
   "metadata": {
    "ExecuteTime": {
     "end_time": "2020-09-21T20:34:23.798338Z",
     "start_time": "2020-09-21T20:34:23.772434Z"
    }
   },
   "outputs": [
    {
     "data": {
      "text/plain": [
       "(1219, 1)"
      ]
     },
     "execution_count": 23,
     "metadata": {},
     "output_type": "execute_result"
    },
    {
     "data": {
      "application/javascript": [
       "\n",
       "            setTimeout(function() {\n",
       "                var nbb_cell_id = 23;\n",
       "                var nbb_unformatted_code = \"y_train.shape\";\n",
       "                var nbb_formatted_code = \"y_train.shape\";\n",
       "                var nbb_cells = Jupyter.notebook.get_cells();\n",
       "                for (var i = 0; i < nbb_cells.length; ++i) {\n",
       "                    if (nbb_cells[i].input_prompt_number == nbb_cell_id) {\n",
       "                        if (nbb_cells[i].get_text() == nbb_unformatted_code) {\n",
       "                             nbb_cells[i].set_text(nbb_formatted_code);\n",
       "                        }\n",
       "                        break;\n",
       "                    }\n",
       "                }\n",
       "            }, 500);\n",
       "            "
      ],
      "text/plain": [
       "<IPython.core.display.Javascript object>"
      ]
     },
     "metadata": {},
     "output_type": "display_data"
    }
   ],
   "source": [
    "y_train.shape"
   ]
  },
  {
   "cell_type": "code",
   "execution_count": 24,
   "metadata": {
    "ExecuteTime": {
     "end_time": "2020-09-21T20:34:23.824175Z",
     "start_time": "2020-09-21T20:34:23.799834Z"
    }
   },
   "outputs": [
    {
     "data": {
      "application/javascript": [
       "\n",
       "            setTimeout(function() {\n",
       "                var nbb_cell_id = 24;\n",
       "                var nbb_unformatted_code = \"counts = np.unique(y_train, return_counts=True)[1]\\ncounts = counts.sum() / counts\";\n",
       "                var nbb_formatted_code = \"counts = np.unique(y_train, return_counts=True)[1]\\ncounts = counts.sum() / counts\";\n",
       "                var nbb_cells = Jupyter.notebook.get_cells();\n",
       "                for (var i = 0; i < nbb_cells.length; ++i) {\n",
       "                    if (nbb_cells[i].input_prompt_number == nbb_cell_id) {\n",
       "                        if (nbb_cells[i].get_text() == nbb_unformatted_code) {\n",
       "                             nbb_cells[i].set_text(nbb_formatted_code);\n",
       "                        }\n",
       "                        break;\n",
       "                    }\n",
       "                }\n",
       "            }, 500);\n",
       "            "
      ],
      "text/plain": [
       "<IPython.core.display.Javascript object>"
      ]
     },
     "metadata": {},
     "output_type": "display_data"
    }
   ],
   "source": [
    "counts = np.unique(y_train, return_counts=True)[1]\n",
    "counts = counts.sum() / counts"
   ]
  },
  {
   "cell_type": "raw",
   "metadata": {
    "ExecuteTime": {
     "end_time": "2020-09-19T11:09:21.280303Z",
     "start_time": "2020-09-19T11:09:21.244198Z"
    }
   },
   "source": [
    "class_weight = {}\n",
    "for i, counts in enumerate(counts):\n",
    "    class_weight[i] = counts\n",
    "class_weight"
   ]
  },
  {
   "cell_type": "raw",
   "metadata": {
    "ExecuteTime": {
     "end_time": "2020-07-14T10:13:28.824624Z",
     "start_time": "2020-07-14T10:13:28.800384Z"
    }
   },
   "source": [
    "class_weight = {\n",
    "    0: 1,\n",
    "    1: 1,\n",
    "}\n",
    "class_weight"
   ]
  },
  {
   "cell_type": "code",
   "execution_count": 25,
   "metadata": {
    "ExecuteTime": {
     "end_time": "2020-09-21T20:34:28.037459Z",
     "start_time": "2020-09-21T20:34:23.825135Z"
    }
   },
   "outputs": [
    {
     "name": "stdout",
     "output_type": "stream",
     "text": [
      "Epoch 1/2000\n",
      "153/153 - 0s - loss: 0.9550 - val_loss: 0.9741\n",
      "Epoch 2/2000\n",
      "153/153 - 0s - loss: 0.8087 - val_loss: 0.7659\n",
      "Epoch 3/2000\n",
      "153/153 - 0s - loss: 0.5667 - val_loss: 0.4699\n",
      "Epoch 4/2000\n",
      "153/153 - 0s - loss: 0.3263 - val_loss: 0.3461\n",
      "Epoch 5/2000\n",
      "153/153 - 0s - loss: 0.2323 - val_loss: 0.3441\n",
      "Epoch 6/2000\n",
      "153/153 - 0s - loss: 0.1912 - val_loss: 0.3608\n",
      "Epoch 7/2000\n",
      "153/153 - 0s - loss: 0.1656 - val_loss: 0.3830\n",
      "Epoch 8/2000\n",
      "153/153 - 0s - loss: 0.1469 - val_loss: 0.4009\n",
      "Epoch 9/2000\n",
      "153/153 - 0s - loss: 0.1350 - val_loss: 0.4054\n",
      "Epoch 10/2000\n",
      "153/153 - 0s - loss: 0.1280 - val_loss: 0.4071\n",
      "Epoch 11/2000\n",
      "153/153 - 0s - loss: 0.1208 - val_loss: 0.4271\n",
      "Epoch 12/2000\n",
      "153/153 - 0s - loss: 0.1153 - val_loss: 0.4263\n",
      "Epoch 13/2000\n",
      "153/153 - 0s - loss: 0.1106 - val_loss: 0.4319\n",
      "Epoch 14/2000\n",
      "153/153 - 0s - loss: 0.1074 - val_loss: 0.4239\n",
      "Epoch 15/2000\n",
      "153/153 - 0s - loss: 0.1040 - val_loss: 0.4496\n",
      "Epoch 00015: early stopping\n",
      "CPU times: user 9.25 s, sys: 1.09 s, total: 10.3 s\n",
      "Wall time: 4.19 s\n"
     ]
    },
    {
     "data": {
      "application/javascript": [
       "\n",
       "            setTimeout(function() {\n",
       "                var nbb_cell_id = 25;\n",
       "                var nbb_unformatted_code = \"%%time\\nhistory = model.fit(\\n    input_train,\\n    y_train.reshape(-1, 1),\\n    epochs=2000,\\n    batch_size=8,\\n    validation_data=(input_valid, y_valid.reshape(-1, 1),),\\n    verbose=2,\\n    callbacks=[EarlyStopping(monitor=\\\"val_loss\\\", patience=10, verbose=1)],\\n    #class_weight=None#class_weight\\n)\";\n",
       "                var nbb_formatted_code = \"%%time\\nhistory = model.fit(\\n    input_train,\\n    y_train.reshape(-1, 1),\\n    epochs=2000,\\n    batch_size=8,\\n    validation_data=(input_valid, y_valid.reshape(-1, 1),),\\n    verbose=2,\\n    callbacks=[EarlyStopping(monitor=\\\"val_loss\\\", patience=10, verbose=1)],\\n    #class_weight=None#class_weight\\n)\";\n",
       "                var nbb_cells = Jupyter.notebook.get_cells();\n",
       "                for (var i = 0; i < nbb_cells.length; ++i) {\n",
       "                    if (nbb_cells[i].input_prompt_number == nbb_cell_id) {\n",
       "                        if (nbb_cells[i].get_text() == nbb_unformatted_code) {\n",
       "                             nbb_cells[i].set_text(nbb_formatted_code);\n",
       "                        }\n",
       "                        break;\n",
       "                    }\n",
       "                }\n",
       "            }, 500);\n",
       "            "
      ],
      "text/plain": [
       "<IPython.core.display.Javascript object>"
      ]
     },
     "metadata": {},
     "output_type": "display_data"
    }
   ],
   "source": [
    "%%time\n",
    "history = model.fit(\n",
    "    input_train,\n",
    "    y_train.reshape(-1, 1),\n",
    "    epochs=2000,\n",
    "    batch_size=8,\n",
    "    validation_data=(input_valid, y_valid.reshape(-1, 1),),\n",
    "    verbose=2,\n",
    "    callbacks=[EarlyStopping(monitor=\"val_loss\", patience=10, verbose=1)],\n",
    "    #class_weight=None#class_weight\n",
    ")"
   ]
  },
  {
   "cell_type": "code",
   "execution_count": 26,
   "metadata": {
    "ExecuteTime": {
     "end_time": "2020-09-21T20:34:28.167966Z",
     "start_time": "2020-09-21T20:34:28.038385Z"
    }
   },
   "outputs": [
    {
     "data": {
      "image/png": "[encoded data removed]",
      "text/plain": [
       "<Figure size 432x288 with 1 Axes>"
      ]
     },
     "metadata": {
      "needs_background": "light"
     },
     "output_type": "display_data"
    },
    {
     "data": {
      "application/javascript": [
       "\n",
       "            setTimeout(function() {\n",
       "                var nbb_cell_id = 26;\n",
       "                var nbb_unformatted_code = \"plot_history(history)\";\n",
       "                var nbb_formatted_code = \"plot_history(history)\";\n",
       "                var nbb_cells = Jupyter.notebook.get_cells();\n",
       "                for (var i = 0; i < nbb_cells.length; ++i) {\n",
       "                    if (nbb_cells[i].input_prompt_number == nbb_cell_id) {\n",
       "                        if (nbb_cells[i].get_text() == nbb_unformatted_code) {\n",
       "                             nbb_cells[i].set_text(nbb_formatted_code);\n",
       "                        }\n",
       "                        break;\n",
       "                    }\n",
       "                }\n",
       "            }, 500);\n",
       "            "
      ],
      "text/plain": [
       "<IPython.core.display.Javascript object>"
      ]
     },
     "metadata": {},
     "output_type": "display_data"
    }
   ],
   "source": [
    "plot_history(history)"
   ]
  },
  {
   "cell_type": "code",
   "execution_count": 27,
   "metadata": {
    "ExecuteTime": {
     "end_time": "2020-09-21T20:34:28.464712Z",
     "start_time": "2020-09-21T20:34:28.168954Z"
    }
   },
   "outputs": [
    {
     "data": {
      "text/plain": [
       "20578.157648026317"
      ]
     },
     "execution_count": 27,
     "metadata": {},
     "output_type": "execute_result"
    },
    {
     "data": {
      "application/javascript": [
       "\n",
       "            setTimeout(function() {\n",
       "                var nbb_cell_id = 27;\n",
       "                var nbb_unformatted_code = \"model_auc = mean_absolute_error(\\n    y_pred=target_encoder.inverse_transform(model.predict(input_valid)).reshape(-1),\\n    y_true=train[target].values[valid_indices],\\n)\\nmodel_auc\";\n",
       "                var nbb_formatted_code = \"model_auc = mean_absolute_error(\\n    y_pred=target_encoder.inverse_transform(model.predict(input_valid)).reshape(-1),\\n    y_true=train[target].values[valid_indices],\\n)\\nmodel_auc\";\n",
       "                var nbb_cells = Jupyter.notebook.get_cells();\n",
       "                for (var i = 0; i < nbb_cells.length; ++i) {\n",
       "                    if (nbb_cells[i].input_prompt_number == nbb_cell_id) {\n",
       "                        if (nbb_cells[i].get_text() == nbb_unformatted_code) {\n",
       "                             nbb_cells[i].set_text(nbb_formatted_code);\n",
       "                        }\n",
       "                        break;\n",
       "                    }\n",
       "                }\n",
       "            }, 500);\n",
       "            "
      ],
      "text/plain": [
       "<IPython.core.display.Javascript object>"
      ]
     },
     "metadata": {},
     "output_type": "display_data"
    }
   ],
   "source": [
    "model_auc = mean_absolute_error(\n",
    "    y_pred=target_encoder.inverse_transform(model.predict(input_valid)).reshape(-1),\n",
    "    y_true=train[target].values[valid_indices],\n",
    ")\n",
    "model_auc"
   ]
  },
  {
   "cell_type": "code",
   "execution_count": 29,
   "metadata": {
    "ExecuteTime": {
     "end_time": "2020-09-21T20:34:28.539298Z",
     "start_time": "2020-09-21T20:34:28.487923Z"
    },
    "scrolled": true
   },
   "outputs": [
    {
     "data": {
      "text/plain": [
       "53251.76449192724"
      ]
     },
     "execution_count": 29,
     "metadata": {},
     "output_type": "execute_result"
    },
    {
     "data": {
      "application/javascript": [
       "\n",
       "            setTimeout(function() {\n",
       "                var nbb_cell_id = 29;\n",
       "                var nbb_unformatted_code = \"model_auc = mean_squared_error(\\n    y_pred=target_encoder.inverse_transform(model.predict(input_valid)).reshape(-1),\\n    y_true=train[target].values[valid_indices],\\n)\\nnp.sqrt(model_auc)\";\n",
       "                var nbb_formatted_code = \"model_auc = mean_squared_error(\\n    y_pred=target_encoder.inverse_transform(model.predict(input_valid)).reshape(-1),\\n    y_true=train[target].values[valid_indices],\\n)\\nnp.sqrt(model_auc)\";\n",
       "                var nbb_cells = Jupyter.notebook.get_cells();\n",
       "                for (var i = 0; i < nbb_cells.length; ++i) {\n",
       "                    if (nbb_cells[i].input_prompt_number == nbb_cell_id) {\n",
       "                        if (nbb_cells[i].get_text() == nbb_unformatted_code) {\n",
       "                             nbb_cells[i].set_text(nbb_formatted_code);\n",
       "                        }\n",
       "                        break;\n",
       "                    }\n",
       "                }\n",
       "            }, 500);\n",
       "            "
      ],
      "text/plain": [
       "<IPython.core.display.Javascript object>"
      ]
     },
     "metadata": {},
     "output_type": "display_data"
    }
   ],
   "source": [
    "model_auc = mean_squared_error(\n",
    "    y_pred=target_encoder.inverse_transform(model.predict(input_valid)).reshape(-1),\n",
    "    y_true=train[target].values[valid_indices],\n",
    ")\n",
    "np.sqrt(model_auc)"
   ]
  },
  {
   "cell_type": "code",
   "execution_count": 30,
   "metadata": {
    "ExecuteTime": {
     "end_time": "2020-09-21T20:34:28.592039Z",
     "start_time": "2020-09-21T20:34:28.540276Z"
    }
   },
   "outputs": [
    {
     "data": {
      "text/plain": [
       "17945.28162457192"
      ]
     },
     "execution_count": 30,
     "metadata": {},
     "output_type": "execute_result"
    },
    {
     "data": {
      "application/javascript": [
       "\n",
       "            setTimeout(function() {\n",
       "                var nbb_cell_id = 30;\n",
       "                var nbb_unformatted_code = \"model_auc = mean_absolute_error(\\n    y_pred=target_encoder.inverse_transform(model.predict(input_test)).reshape(-1),\\n    y_true=train[target].values[test_indices],\\n)\\nmodel_auc\";\n",
       "                var nbb_formatted_code = \"model_auc = mean_absolute_error(\\n    y_pred=target_encoder.inverse_transform(model.predict(input_test)).reshape(-1),\\n    y_true=train[target].values[test_indices],\\n)\\nmodel_auc\";\n",
       "                var nbb_cells = Jupyter.notebook.get_cells();\n",
       "                for (var i = 0; i < nbb_cells.length; ++i) {\n",
       "                    if (nbb_cells[i].input_prompt_number == nbb_cell_id) {\n",
       "                        if (nbb_cells[i].get_text() == nbb_unformatted_code) {\n",
       "                             nbb_cells[i].set_text(nbb_formatted_code);\n",
       "                        }\n",
       "                        break;\n",
       "                    }\n",
       "                }\n",
       "            }, 500);\n",
       "            "
      ],
      "text/plain": [
       "<IPython.core.display.Javascript object>"
      ]
     },
     "metadata": {},
     "output_type": "display_data"
    }
   ],
   "source": [
    "model_auc = mean_absolute_error(\n",
    "    y_pred=target_encoder.inverse_transform(model.predict(input_test)).reshape(-1),\n",
    "    y_true=train[target].values[test_indices],\n",
    ")\n",
    "model_auc"
   ]
  },
  {
   "cell_type": "code",
   "execution_count": 31,
   "metadata": {
    "ExecuteTime": {
     "end_time": "2020-09-21T20:34:28.645994Z",
     "start_time": "2020-09-21T20:34:28.594586Z"
    }
   },
   "outputs": [
    {
     "data": {
      "text/plain": [
       "32207.946240018537"
      ]
     },
     "execution_count": 31,
     "metadata": {},
     "output_type": "execute_result"
    },
    {
     "data": {
      "application/javascript": [
       "\n",
       "            setTimeout(function() {\n",
       "                var nbb_cell_id = 31;\n",
       "                var nbb_unformatted_code = \"model_auc = mean_squared_error(\\n    y_pred=target_encoder.inverse_transform(model.predict(input_test)).reshape(-1),\\n    y_true=train[target].values[test_indices],\\n)\\nnp.sqrt(model_auc)\";\n",
       "                var nbb_formatted_code = \"model_auc = mean_squared_error(\\n    y_pred=target_encoder.inverse_transform(model.predict(input_test)).reshape(-1),\\n    y_true=train[target].values[test_indices],\\n)\\nnp.sqrt(model_auc)\";\n",
       "                var nbb_cells = Jupyter.notebook.get_cells();\n",
       "                for (var i = 0; i < nbb_cells.length; ++i) {\n",
       "                    if (nbb_cells[i].input_prompt_number == nbb_cell_id) {\n",
       "                        if (nbb_cells[i].get_text() == nbb_unformatted_code) {\n",
       "                             nbb_cells[i].set_text(nbb_formatted_code);\n",
       "                        }\n",
       "                        break;\n",
       "                    }\n",
       "                }\n",
       "            }, 500);\n",
       "            "
      ],
      "text/plain": [
       "<IPython.core.display.Javascript object>"
      ]
     },
     "metadata": {},
     "output_type": "display_data"
    }
   ],
   "source": [
    "model_auc = mean_squared_error(\n",
    "    y_pred=target_encoder.inverse_transform(model.predict(input_test)).reshape(-1),\n",
    "    y_true=train[target].values[test_indices],\n",
    ")\n",
    "np.sqrt(model_auc)"
   ]
  },
  {
   "cell_type": "code",
   "execution_count": 32,
   "metadata": {
    "ExecuteTime": {
     "end_time": "2020-09-21T20:34:28.670822Z",
     "start_time": "2020-09-21T20:34:28.646892Z"
    }
   },
   "outputs": [
    {
     "data": {
      "application/javascript": [
       "\n",
       "            setTimeout(function() {\n",
       "                var nbb_cell_id = 32;\n",
       "                var nbb_unformatted_code = \"from xplainet.model import predict, encode\";\n",
       "                var nbb_formatted_code = \"from xplainet.model import predict, encode\";\n",
       "                var nbb_cells = Jupyter.notebook.get_cells();\n",
       "                for (var i = 0; i < nbb_cells.length; ++i) {\n",
       "                    if (nbb_cells[i].input_prompt_number == nbb_cell_id) {\n",
       "                        if (nbb_cells[i].get_text() == nbb_unformatted_code) {\n",
       "                             nbb_cells[i].set_text(nbb_formatted_code);\n",
       "                        }\n",
       "                        break;\n",
       "                    }\n",
       "                }\n",
       "            }, 500);\n",
       "            "
      ],
      "text/plain": [
       "<IPython.core.display.Javascript object>"
      ]
     },
     "metadata": {},
     "output_type": "display_data"
    }
   ],
   "source": [
    "from xplainet.model import predict, encode"
   ]
  },
  {
   "cell_type": "code",
   "execution_count": 33,
   "metadata": {
    "ExecuteTime": {
     "end_time": "2020-09-21T20:34:28.961794Z",
     "start_time": "2020-09-21T20:34:28.671799Z"
    }
   },
   "outputs": [
    {
     "data": {
      "application/javascript": [
       "\n",
       "            setTimeout(function() {\n",
       "                var nbb_cell_id = 33;\n",
       "                var nbb_unformatted_code = \"probs, explanations = predict(model, input_test)\";\n",
       "                var nbb_formatted_code = \"probs, explanations = predict(model, input_test)\";\n",
       "                var nbb_cells = Jupyter.notebook.get_cells();\n",
       "                for (var i = 0; i < nbb_cells.length; ++i) {\n",
       "                    if (nbb_cells[i].input_prompt_number == nbb_cell_id) {\n",
       "                        if (nbb_cells[i].get_text() == nbb_unformatted_code) {\n",
       "                             nbb_cells[i].set_text(nbb_formatted_code);\n",
       "                        }\n",
       "                        break;\n",
       "                    }\n",
       "                }\n",
       "            }, 500);\n",
       "            "
      ],
      "text/plain": [
       "<IPython.core.display.Javascript object>"
      ]
     },
     "metadata": {},
     "output_type": "display_data"
    }
   ],
   "source": [
    "probs, explanations = predict(model, input_test)"
   ]
  },
  {
   "cell_type": "code",
   "execution_count": 34,
   "metadata": {
    "ExecuteTime": {
     "end_time": "2020-09-21T20:34:29.244649Z",
     "start_time": "2020-09-21T20:34:28.962697Z"
    }
   },
   "outputs": [
    {
     "data": {
      "application/javascript": [
       "\n",
       "            setTimeout(function() {\n",
       "                var nbb_cell_id = 34;\n",
       "                var nbb_unformatted_code = \"probs, encoded_output = encode(model, input_test)\";\n",
       "                var nbb_formatted_code = \"probs, encoded_output = encode(model, input_test)\";\n",
       "                var nbb_cells = Jupyter.notebook.get_cells();\n",
       "                for (var i = 0; i < nbb_cells.length; ++i) {\n",
       "                    if (nbb_cells[i].input_prompt_number == nbb_cell_id) {\n",
       "                        if (nbb_cells[i].get_text() == nbb_unformatted_code) {\n",
       "                             nbb_cells[i].set_text(nbb_formatted_code);\n",
       "                        }\n",
       "                        break;\n",
       "                    }\n",
       "                }\n",
       "            }, 500);\n",
       "            "
      ],
      "text/plain": [
       "<IPython.core.display.Javascript object>"
      ]
     },
     "metadata": {},
     "output_type": "display_data"
    }
   ],
   "source": [
    "probs, encoded_output = encode(model, input_test)"
   ]
  },
  {
   "cell_type": "code",
   "execution_count": 35,
   "metadata": {
    "ExecuteTime": {
     "end_time": "2020-09-21T20:34:29.268832Z",
     "start_time": "2020-09-21T20:34:29.245670Z"
    }
   },
   "outputs": [
    {
     "data": {
      "text/plain": [
       "(146, 1)"
      ]
     },
     "execution_count": 35,
     "metadata": {},
     "output_type": "execute_result"
    },
    {
     "data": {
      "application/javascript": [
       "\n",
       "            setTimeout(function() {\n",
       "                var nbb_cell_id = 35;\n",
       "                var nbb_unformatted_code = \"y_test.shape\";\n",
       "                var nbb_formatted_code = \"y_test.shape\";\n",
       "                var nbb_cells = Jupyter.notebook.get_cells();\n",
       "                for (var i = 0; i < nbb_cells.length; ++i) {\n",
       "                    if (nbb_cells[i].input_prompt_number == nbb_cell_id) {\n",
       "                        if (nbb_cells[i].get_text() == nbb_unformatted_code) {\n",
       "                             nbb_cells[i].set_text(nbb_formatted_code);\n",
       "                        }\n",
       "                        break;\n",
       "                    }\n",
       "                }\n",
       "            }, 500);\n",
       "            "
      ],
      "text/plain": [
       "<IPython.core.display.Javascript object>"
      ]
     },
     "metadata": {},
     "output_type": "display_data"
    }
   ],
   "source": [
    "y_test.shape"
   ]
  },
  {
   "cell_type": "code",
   "execution_count": 36,
   "metadata": {
    "ExecuteTime": {
     "end_time": "2020-09-21T20:34:29.293920Z",
     "start_time": "2020-09-21T20:34:29.269756Z"
    }
   },
   "outputs": [
    {
     "data": {
      "text/plain": [
       "(146, 384)"
      ]
     },
     "execution_count": 36,
     "metadata": {},
     "output_type": "execute_result"
    },
    {
     "data": {
      "application/javascript": [
       "\n",
       "            setTimeout(function() {\n",
       "                var nbb_cell_id = 36;\n",
       "                var nbb_unformatted_code = \"encoded_output.shape\";\n",
       "                var nbb_formatted_code = \"encoded_output.shape\";\n",
       "                var nbb_cells = Jupyter.notebook.get_cells();\n",
       "                for (var i = 0; i < nbb_cells.length; ++i) {\n",
       "                    if (nbb_cells[i].input_prompt_number == nbb_cell_id) {\n",
       "                        if (nbb_cells[i].get_text() == nbb_unformatted_code) {\n",
       "                             nbb_cells[i].set_text(nbb_formatted_code);\n",
       "                        }\n",
       "                        break;\n",
       "                    }\n",
       "                }\n",
       "            }, 500);\n",
       "            "
      ],
      "text/plain": [
       "<IPython.core.display.Javascript object>"
      ]
     },
     "metadata": {},
     "output_type": "display_data"
    }
   ],
   "source": [
    "encoded_output.shape"
   ]
  },
  {
   "cell_type": "code",
   "execution_count": 37,
   "metadata": {
    "ExecuteTime": {
     "end_time": "2020-09-21T20:34:29.318437Z",
     "start_time": "2020-09-21T20:34:29.294859Z"
    }
   },
   "outputs": [
    {
     "data": {
      "text/plain": [
       "(146, 80)"
      ]
     },
     "execution_count": 37,
     "metadata": {},
     "output_type": "execute_result"
    },
    {
     "data": {
      "application/javascript": [
       "\n",
       "            setTimeout(function() {\n",
       "                var nbb_cell_id = 37;\n",
       "                var nbb_unformatted_code = \"explanations.shape\";\n",
       "                var nbb_formatted_code = \"explanations.shape\";\n",
       "                var nbb_cells = Jupyter.notebook.get_cells();\n",
       "                for (var i = 0; i < nbb_cells.length; ++i) {\n",
       "                    if (nbb_cells[i].input_prompt_number == nbb_cell_id) {\n",
       "                        if (nbb_cells[i].get_text() == nbb_unformatted_code) {\n",
       "                             nbb_cells[i].set_text(nbb_formatted_code);\n",
       "                        }\n",
       "                        break;\n",
       "                    }\n",
       "                }\n",
       "            }, 500);\n",
       "            "
      ],
      "text/plain": [
       "<IPython.core.display.Javascript object>"
      ]
     },
     "metadata": {},
     "output_type": "display_data"
    }
   ],
   "source": [
    "explanations.shape"
   ]
  },
  {
   "cell_type": "code",
   "execution_count": 38,
   "metadata": {
    "ExecuteTime": {
     "end_time": "2020-09-21T20:34:29.350550Z",
     "start_time": "2020-09-21T20:34:29.319543Z"
    }
   },
   "outputs": [
    {
     "data": {
      "application/javascript": [
       "\n",
       "            setTimeout(function() {\n",
       "                var nbb_cell_id = 38;\n",
       "                var nbb_unformatted_code = \"import matplotlib.pyplot as plt\\n\\n# plt.rcdefaults()\\nimport numpy as np\\nimport matplotlib.pyplot as plt\\n\\n\\ndef explain_plot(importances, columns):\\n    selection = np.argsort(-np.absolute(importances))[:10]\\n    # indexes = np.argsort(importances)\\n    performance = importances[selection]\\n    #     print(performance.shape)512, 256, 128, 64, 32, 1\\n    y_pos = np.arange(performance.shape[0])\\n\\n    plt.barh(y_pos, performance, align=\\\"center\\\", alpha=0.5)\\n    plt.yticks(y_pos, columns[selection])\\n    # plt.xlabel('Usage')\\n    plt.title(\\\"Feature importance\\\")\\n\\n    plt.show()\";\n",
       "                var nbb_formatted_code = \"import matplotlib.pyplot as plt\\n\\n# plt.rcdefaults()\\nimport numpy as np\\nimport matplotlib.pyplot as plt\\n\\n\\ndef explain_plot(importances, columns):\\n    selection = np.argsort(-np.absolute(importances))[:10]\\n    # indexes = np.argsort(importances)\\n    performance = importances[selection]\\n    #     print(performance.shape)512, 256, 128, 64, 32, 1\\n    y_pos = np.arange(performance.shape[0])\\n\\n    plt.barh(y_pos, performance, align=\\\"center\\\", alpha=0.5)\\n    plt.yticks(y_pos, columns[selection])\\n    # plt.xlabel('Usage')\\n    plt.title(\\\"Feature importance\\\")\\n\\n    plt.show()\";\n",
       "                var nbb_cells = Jupyter.notebook.get_cells();\n",
       "                for (var i = 0; i < nbb_cells.length; ++i) {\n",
       "                    if (nbb_cells[i].input_prompt_number == nbb_cell_id) {\n",
       "                        if (nbb_cells[i].get_text() == nbb_unformatted_code) {\n",
       "                             nbb_cells[i].set_text(nbb_formatted_code);\n",
       "                        }\n",
       "                        break;\n",
       "                    }\n",
       "                }\n",
       "            }, 500);\n",
       "            "
      ],
      "text/plain": [
       "<IPython.core.display.Javascript object>"
      ]
     },
     "metadata": {},
     "output_type": "display_data"
    }
   ],
   "source": [
    "import matplotlib.pyplot as plt\n",
    "\n",
    "# plt.rcdefaults()\n",
    "import numpy as np\n",
    "import matplotlib.pyplot as plt\n",
    "\n",
    "\n",
    "def explain_plot(importances, columns):\n",
    "    selection = np.argsort(-np.absolute(importances))[:10]\n",
    "    # indexes = np.argsort(importances)\n",
    "    performance = importances[selection]\n",
    "    #     print(performance.shape)512, 256, 128, 64, 32, 1\n",
    "    y_pos = np.arange(performance.shape[0])\n",
    "\n",
    "    plt.barh(y_pos, performance, align=\"center\", alpha=0.5)\n",
    "    plt.yticks(y_pos, columns[selection])\n",
    "    # plt.xlabel('Usage')\n",
    "    plt.title(\"Feature importance\")\n",
    "\n",
    "    plt.show()"
   ]
  },
  {
   "cell_type": "code",
   "execution_count": 39,
   "metadata": {
    "ExecuteTime": {
     "end_time": "2020-09-21T20:34:29.376771Z",
     "start_time": "2020-09-21T20:34:29.351390Z"
    }
   },
   "outputs": [
    {
     "data": {
      "text/plain": [
       "array(['Alley', 'CentralAir', 'Utilities', 'Street', 'GarageYrBlt',\n",
       "       'ScreenPorch', 'GrLivArea', 'MasVnrArea', 'LotArea', 'BsmtUnfSF',\n",
       "       'EnclosedPorch', 'YearRemodAdd', 'BsmtFinSF2', 'YearBuilt',\n",
       "       'WoodDeckSF', 'BsmtFinSF1', '1stFlrSF', 'TotalBsmtSF',\n",
       "       'GarageArea', '2ndFlrSF', 'OpenPorchSF', 'Id', 'LotFrontage',\n",
       "       'KitchenAbvGr', 'GarageCond', 'LandSlope', 'Exterior1st',\n",
       "       'Functional', 'SaleType', 'BsmtQual', 'Electrical', 'Fireplaces',\n",
       "       'FullBath', 'OverallCond', 'RoofStyle', 'PavedDrive', 'BsmtCond',\n",
       "       'BsmtFinType1', 'GarageCars', 'MiscVal', 'TotRmsAbvGrd',\n",
       "       'LowQualFinSF', 'HalfBath', 'Heating', 'LotShape', 'KitchenQual',\n",
       "       'MasVnrType', 'PoolQC', 'Foundation', 'BedroomAbvGr', 'RoofMatl',\n",
       "       '3SsnPorch', 'GarageType', 'BsmtFinType2', 'Condition1',\n",
       "       'OverallQual', 'BsmtExposure', 'ExterQual', 'MSSubClass', 'YrSold',\n",
       "       'LandContour', 'LotConfig', 'Exterior2nd', 'MSZoning',\n",
       "       'BsmtFullBath', 'GarageQual', 'BldgType', 'ExterCond',\n",
       "       'SaleCondition', 'Condition2', 'MiscFeature', 'HeatingQC',\n",
       "       'HouseStyle', 'Fence', 'PoolArea', 'MoSold', 'Neighborhood',\n",
       "       'FireplaceQu', 'BsmtHalfBath', 'GarageFinish'], dtype='<U13')"
      ]
     },
     "execution_count": 39,
     "metadata": {},
     "output_type": "execute_result"
    },
    {
     "data": {
      "application/javascript": [
       "\n",
       "            setTimeout(function() {\n",
       "                var nbb_cell_id = 39;\n",
       "                var nbb_unformatted_code = \"all_cols = np.array(params[\\\"bool_cols\\\"] + params[\\\"num_cols\\\"] + params[\\\"cat_cols\\\"])\\nall_cols\";\n",
       "                var nbb_formatted_code = \"all_cols = np.array(params[\\\"bool_cols\\\"] + params[\\\"num_cols\\\"] + params[\\\"cat_cols\\\"])\\nall_cols\";\n",
       "                var nbb_cells = Jupyter.notebook.get_cells();\n",
       "                for (var i = 0; i < nbb_cells.length; ++i) {\n",
       "                    if (nbb_cells[i].input_prompt_number == nbb_cell_id) {\n",
       "                        if (nbb_cells[i].get_text() == nbb_unformatted_code) {\n",
       "                             nbb_cells[i].set_text(nbb_formatted_code);\n",
       "                        }\n",
       "                        break;\n",
       "                    }\n",
       "                }\n",
       "            }, 500);\n",
       "            "
      ],
      "text/plain": [
       "<IPython.core.display.Javascript object>"
      ]
     },
     "metadata": {},
     "output_type": "display_data"
    }
   ],
   "source": [
    "all_cols = np.array(params[\"bool_cols\"] + params[\"num_cols\"] + params[\"cat_cols\"])\n",
    "all_cols"
   ]
  },
  {
   "cell_type": "markdown",
   "metadata": {
    "ExecuteTime": {
     "end_time": "2020-09-18T18:48:54.151671Z",
     "start_time": "2020-09-18T18:48:54.127488Z"
    }
   },
   "source": [
    "## Explain global"
   ]
  },
  {
   "cell_type": "code",
   "execution_count": 40,
   "metadata": {
    "ExecuteTime": {
     "end_time": "2020-09-21T20:34:29.399631Z",
     "start_time": "2020-09-21T20:34:29.377711Z"
    }
   },
   "outputs": [
    {
     "data": {
      "application/javascript": [
       "\n",
       "            setTimeout(function() {\n",
       "                var nbb_cell_id = 40;\n",
       "                var nbb_unformatted_code = \"# Looks like this is broken for now.\";\n",
       "                var nbb_formatted_code = \"# Looks like this is broken for now.\";\n",
       "                var nbb_cells = Jupyter.notebook.get_cells();\n",
       "                for (var i = 0; i < nbb_cells.length; ++i) {\n",
       "                    if (nbb_cells[i].input_prompt_number == nbb_cell_id) {\n",
       "                        if (nbb_cells[i].get_text() == nbb_unformatted_code) {\n",
       "                             nbb_cells[i].set_text(nbb_formatted_code);\n",
       "                        }\n",
       "                        break;\n",
       "                    }\n",
       "                }\n",
       "            }, 500);\n",
       "            "
      ],
      "text/plain": [
       "<IPython.core.display.Javascript object>"
      ]
     },
     "metadata": {},
     "output_type": "display_data"
    }
   ],
   "source": [
    "# Looks like this is broken for now."
   ]
  },
  {
   "cell_type": "code",
   "execution_count": 41,
   "metadata": {
    "ExecuteTime": {
     "end_time": "2020-09-21T20:34:29.723292Z",
     "start_time": "2020-09-21T20:34:29.400626Z"
    }
   },
   "outputs": [
    {
     "data": {
      "application/javascript": [
       "\n",
       "            setTimeout(function() {\n",
       "                var nbb_cell_id = 41;\n",
       "                var nbb_unformatted_code = \"probs_train, explanations_train = predict(model, input_train)\";\n",
       "                var nbb_formatted_code = \"probs_train, explanations_train = predict(model, input_train)\";\n",
       "                var nbb_cells = Jupyter.notebook.get_cells();\n",
       "                for (var i = 0; i < nbb_cells.length; ++i) {\n",
       "                    if (nbb_cells[i].input_prompt_number == nbb_cell_id) {\n",
       "                        if (nbb_cells[i].get_text() == nbb_unformatted_code) {\n",
       "                             nbb_cells[i].set_text(nbb_formatted_code);\n",
       "                        }\n",
       "                        break;\n",
       "                    }\n",
       "                }\n",
       "            }, 500);\n",
       "            "
      ],
      "text/plain": [
       "<IPython.core.display.Javascript object>"
      ]
     },
     "metadata": {},
     "output_type": "display_data"
    }
   ],
   "source": [
    "probs_train, explanations_train = predict(model, input_train)"
   ]
  },
  {
   "cell_type": "code",
   "execution_count": 42,
   "metadata": {
    "ExecuteTime": {
     "end_time": "2020-09-21T20:34:29.748790Z",
     "start_time": "2020-09-21T20:34:29.724284Z"
    }
   },
   "outputs": [
    {
     "data": {
      "application/javascript": [
       "\n",
       "            setTimeout(function() {\n",
       "                var nbb_cell_id = 42;\n",
       "                var nbb_unformatted_code = \"global_explain = np.abs(explanations_train).sum(axis=0)\\nglobal_explain = global_explain / np.abs(global_explain).sum()\";\n",
       "                var nbb_formatted_code = \"global_explain = np.abs(explanations_train).sum(axis=0)\\nglobal_explain = global_explain / np.abs(global_explain).sum()\";\n",
       "                var nbb_cells = Jupyter.notebook.get_cells();\n",
       "                for (var i = 0; i < nbb_cells.length; ++i) {\n",
       "                    if (nbb_cells[i].input_prompt_number == nbb_cell_id) {\n",
       "                        if (nbb_cells[i].get_text() == nbb_unformatted_code) {\n",
       "                             nbb_cells[i].set_text(nbb_formatted_code);\n",
       "                        }\n",
       "                        break;\n",
       "                    }\n",
       "                }\n",
       "            }, 500);\n",
       "            "
      ],
      "text/plain": [
       "<IPython.core.display.Javascript object>"
      ]
     },
     "metadata": {},
     "output_type": "display_data"
    }
   ],
   "source": [
    "global_explain = np.abs(explanations_train).sum(axis=0)\n",
    "global_explain = global_explain / np.abs(global_explain).sum()"
   ]
  },
  {
   "cell_type": "code",
   "execution_count": 43,
   "metadata": {
    "ExecuteTime": {
     "end_time": "2020-09-21T20:34:29.772974Z",
     "start_time": "2020-09-21T20:34:29.749794Z"
    }
   },
   "outputs": [
    {
     "data": {
      "text/plain": [
       "array([0.01213706, 0.01249512, 0.01247896, 0.01248778, 0.01249525,\n",
       "       0.01248638, 0.01264312, 0.01249935, 0.01252395, 0.01248392,\n",
       "       0.01247938, 0.01251382, 0.01247856, 0.01250105, 0.01250123,\n",
       "       0.01254062, 0.01259676, 0.01261377, 0.01255267, 0.01253455,\n",
       "       0.01250464, 0.01247408, 0.01249304, 0.01239312, 0.01244947,\n",
       "       0.0125005 , 0.01249218, 0.01235729, 0.01256666, 0.01261219,\n",
       "       0.01245679, 0.01254174, 0.01257154, 0.01245411, 0.01251785,\n",
       "       0.01245228, 0.01242484, 0.01248275, 0.01262292, 0.01246693,\n",
       "       0.01261781, 0.01246967, 0.01253725, 0.01247185, 0.01250996,\n",
       "       0.01268043, 0.01247731, 0.01247935, 0.01250156, 0.01252856,\n",
       "       0.01248502, 0.01248103, 0.012434  , 0.01247513, 0.01238534,\n",
       "       0.01274625, 0.01263823, 0.01264046, 0.01244941, 0.01247696,\n",
       "       0.01248453, 0.01251983, 0.01248647, 0.01244313, 0.01249484,\n",
       "       0.01246867, 0.01229448, 0.01247532, 0.01247631, 0.01244779,\n",
       "       0.01247146, 0.01246089, 0.01249842, 0.01248172, 0.0124981 ,\n",
       "       0.01245158, 0.01266647, 0.01255046, 0.01245813, 0.0125076 ])"
      ]
     },
     "execution_count": 43,
     "metadata": {},
     "output_type": "execute_result"
    },
    {
     "data": {
      "application/javascript": [
       "\n",
       "            setTimeout(function() {\n",
       "                var nbb_cell_id = 43;\n",
       "                var nbb_unformatted_code = \"global_explain\";\n",
       "                var nbb_formatted_code = \"global_explain\";\n",
       "                var nbb_cells = Jupyter.notebook.get_cells();\n",
       "                for (var i = 0; i < nbb_cells.length; ++i) {\n",
       "                    if (nbb_cells[i].input_prompt_number == nbb_cell_id) {\n",
       "                        if (nbb_cells[i].get_text() == nbb_unformatted_code) {\n",
       "                             nbb_cells[i].set_text(nbb_formatted_code);\n",
       "                        }\n",
       "                        break;\n",
       "                    }\n",
       "                }\n",
       "            }, 500);\n",
       "            "
      ],
      "text/plain": [
       "<IPython.core.display.Javascript object>"
      ]
     },
     "metadata": {},
     "output_type": "display_data"
    }
   ],
   "source": [
    "global_explain"
   ]
  },
  {
   "cell_type": "code",
   "execution_count": 44,
   "metadata": {
    "ExecuteTime": {
     "end_time": "2020-09-21T20:34:29.903355Z",
     "start_time": "2020-09-21T20:34:29.773957Z"
    }
   },
   "outputs": [
    {
     "data": {
      "image/png": "[encoded data removed]",
      "text/plain": [
       "<Figure size 432x288 with 1 Axes>"
      ]
     },
     "metadata": {
      "needs_background": "light"
     },
     "output_type": "display_data"
    },
    {
     "data": {
      "application/javascript": [
       "\n",
       "            setTimeout(function() {\n",
       "                var nbb_cell_id = 44;\n",
       "                var nbb_unformatted_code = \"explain_plot(global_explain, all_cols)\";\n",
       "                var nbb_formatted_code = \"explain_plot(global_explain, all_cols)\";\n",
       "                var nbb_cells = Jupyter.notebook.get_cells();\n",
       "                for (var i = 0; i < nbb_cells.length; ++i) {\n",
       "                    if (nbb_cells[i].input_prompt_number == nbb_cell_id) {\n",
       "                        if (nbb_cells[i].get_text() == nbb_unformatted_code) {\n",
       "                             nbb_cells[i].set_text(nbb_formatted_code);\n",
       "                        }\n",
       "                        break;\n",
       "                    }\n",
       "                }\n",
       "            }, 500);\n",
       "            "
      ],
      "text/plain": [
       "<IPython.core.display.Javascript object>"
      ]
     },
     "metadata": {},
     "output_type": "display_data"
    }
   ],
   "source": [
    "explain_plot(global_explain, all_cols)"
   ]
  },
  {
   "cell_type": "markdown",
   "metadata": {},
   "source": [
    "## Explain local"
   ]
  },
  {
   "cell_type": "code",
   "execution_count": 45,
   "metadata": {
    "ExecuteTime": {
     "end_time": "2020-09-21T20:34:29.926415Z",
     "start_time": "2020-09-21T20:34:29.904317Z"
    }
   },
   "outputs": [
    {
     "data": {
      "application/javascript": [
       "\n",
       "            setTimeout(function() {\n",
       "                var nbb_cell_id = 45;\n",
       "                var nbb_unformatted_code = \"# Looks like this is broken for now.\";\n",
       "                var nbb_formatted_code = \"# Looks like this is broken for now.\";\n",
       "                var nbb_cells = Jupyter.notebook.get_cells();\n",
       "                for (var i = 0; i < nbb_cells.length; ++i) {\n",
       "                    if (nbb_cells[i].input_prompt_number == nbb_cell_id) {\n",
       "                        if (nbb_cells[i].get_text() == nbb_unformatted_code) {\n",
       "                             nbb_cells[i].set_text(nbb_formatted_code);\n",
       "                        }\n",
       "                        break;\n",
       "                    }\n",
       "                }\n",
       "            }, 500);\n",
       "            "
      ],
      "text/plain": [
       "<IPython.core.display.Javascript object>"
      ]
     },
     "metadata": {},
     "output_type": "display_data"
    }
   ],
   "source": [
    "# Looks like this is broken for now."
   ]
  },
  {
   "cell_type": "code",
   "execution_count": 46,
   "metadata": {
    "ExecuteTime": {
     "end_time": "2020-09-21T20:34:32.137292Z",
     "start_time": "2020-09-21T20:34:29.927410Z"
    }
   },
   "outputs": [
    {
     "data": {
      "image/png": "[encoded data removed]",
      "text/plain": [
       "<Figure size 432x288 with 1 Axes>"
      ]
     },
     "metadata": {
      "needs_background": "light"
     },
     "output_type": "display_data"
    },
    {
     "name": "stdout",
     "output_type": "stream",
     "text": [
      "-0.6531246304512024\n"
     ]
    },
    {
     "data": {
      "image/png": "[encoded data removed]",
      "text/plain": [
       "<Figure size 432x288 with 1 Axes>"
      ]
     },
     "metadata": {
      "needs_background": "light"
     },
     "output_type": "display_data"
    },
    {
     "name": "stdout",
     "output_type": "stream",
     "text": [
      "-1.4510325193405151\n"
     ]
    },
    {
     "data": {
      "image/png": "[encoded data removed]",
      "text/plain": [
       "<Figure size 432x288 with 1 Axes>"
      ]
     },
     "metadata": {
      "needs_background": "light"
     },
     "output_type": "display_data"
    },
    {
     "name": "stdout",
     "output_type": "stream",
     "text": [
      "-0.544941246509552\n"
     ]
    },
    {
     "data": {
      "image/png": "[encoded data removed]",
      "text/plain": [
       "<Figure size 432x288 with 1 Axes>"
      ]
     },
     "metadata": {
      "needs_background": "light"
     },
     "output_type": "display_data"
    },
    {
     "name": "stdout",
     "output_type": "stream",
     "text": [
      "-0.6635215282440186\n"
     ]
    },
    {
     "data": {
      "image/png": "[encoded data removed]",
      "text/plain": [
       "<Figure size 432x288 with 1 Axes>"
      ]
     },
     "metadata": {
      "needs_background": "light"
     },
     "output_type": "display_data"
    },
    {
     "name": "stdout",
     "output_type": "stream",
     "text": [
      "-0.6856832504272461\n"
     ]
    },
    {
     "data": {
      "image/png": "[encoded data removed]",
      "text/plain": [
       "<Figure size 432x288 with 1 Axes>"
      ]
     },
     "metadata": {
      "needs_background": "light"
     },
     "output_type": "display_data"
    },
    {
     "name": "stdout",
     "output_type": "stream",
     "text": [
      "-0.8382750749588013\n"
     ]
    },
    {
     "data": {
      "image/png": "[encoded data removed]",
      "text/plain": [
       "<Figure size 432x288 with 1 Axes>"
      ]
     },
     "metadata": {
      "needs_background": "light"
     },
     "output_type": "display_data"
    },
    {
     "name": "stdout",
     "output_type": "stream",
     "text": [
      "-0.6857665777206421\n"
     ]
    },
    {
     "data": {
      "image/png": "[encoded data removed]",
      "text/plain": [
       "<Figure size 432x288 with 1 Axes>"
      ]
     },
     "metadata": {
      "needs_background": "light"
     },
     "output_type": "display_data"
    },
    {
     "name": "stdout",
     "output_type": "stream",
     "text": [
      "1.748417854309082\n"
     ]
    },
    {
     "data": {
      "image/png": "[encoded data removed]",
      "text/plain": [
       "<Figure size 432x288 with 1 Axes>"
      ]
     },
     "metadata": {
      "needs_background": "light"
     },
     "output_type": "display_data"
    },
    {
     "name": "stdout",
     "output_type": "stream",
     "text": [
      "0.4225151836872101\n"
     ]
    },
    {
     "data": {
      "image/png": "[encoded data removed]",
      "text/plain": [
       "<Figure size 432x288 with 1 Axes>"
      ]
     },
     "metadata": {
      "needs_background": "light"
     },
     "output_type": "display_data"
    },
    {
     "name": "stdout",
     "output_type": "stream",
     "text": [
      "1.2433613538742065\n"
     ]
    },
    {
     "data": {
      "image/png": "[encoded data removed]",
      "text/plain": [
       "<Figure size 432x288 with 1 Axes>"
      ]
     },
     "metadata": {
      "needs_background": "light"
     },
     "output_type": "display_data"
    },
    {
     "name": "stdout",
     "output_type": "stream",
     "text": [
      "-0.809598445892334\n"
     ]
    },
    {
     "data": {
      "image/png": "[encoded data removed]",
      "text/plain": [
       "<Figure size 432x288 with 1 Axes>"
      ]
     },
     "metadata": {
      "needs_background": "light"
     },
     "output_type": "display_data"
    },
    {
     "name": "stdout",
     "output_type": "stream",
     "text": [
      "-0.5762510299682617\n"
     ]
    },
    {
     "data": {
      "image/png": "[encoded data removed]",
      "text/plain": [
       "<Figure size 432x288 with 1 Axes>"
      ]
     },
     "metadata": {
      "needs_background": "light"
     },
     "output_type": "display_data"
    },
    {
     "name": "stdout",
     "output_type": "stream",
     "text": [
      "0.022565703839063644\n"
     ]
    },
    {
     "data": {
      "image/png": "[encoded data removed]",
      "text/plain": [
       "<Figure size 432x288 with 1 Axes>"
      ]
     },
     "metadata": {
      "needs_background": "light"
     },
     "output_type": "display_data"
    },
    {
     "name": "stdout",
     "output_type": "stream",
     "text": [
      "-0.2188871055841446\n"
     ]
    },
    {
     "data": {
      "image/png": "[encoded data removed]",
      "text/plain": [
       "<Figure size 432x288 with 1 Axes>"
      ]
     },
     "metadata": {
      "needs_background": "light"
     },
     "output_type": "display_data"
    },
    {
     "name": "stdout",
     "output_type": "stream",
     "text": [
      "-0.267730176448822\n"
     ]
    },
    {
     "data": {
      "image/png": "[encoded data removed]",
      "text/plain": [
       "<Figure size 432x288 with 1 Axes>"
      ]
     },
     "metadata": {
      "needs_background": "light"
     },
     "output_type": "display_data"
    },
    {
     "name": "stdout",
     "output_type": "stream",
     "text": [
      "0.6984983086585999\n"
     ]
    },
    {
     "data": {
      "image/png": "[encoded data removed]",
      "text/plain": [
       "<Figure size 432x288 with 1 Axes>"
      ]
     },
     "metadata": {
      "needs_background": "light"
     },
     "output_type": "display_data"
    },
    {
     "name": "stdout",
     "output_type": "stream",
     "text": [
      "0.18941642343997955\n"
     ]
    },
    {
     "data": {
      "image/png": "[encoded data removed]",
      "text/plain": [
       "<Figure size 432x288 with 1 Axes>"
      ]
     },
     "metadata": {
      "needs_background": "light"
     },
     "output_type": "display_data"
    },
    {
     "name": "stdout",
     "output_type": "stream",
     "text": [
      "0.21285893023014069\n"
     ]
    },
    {
     "data": {
      "image/png": "[encoded data removed]",
      "text/plain": [
       "<Figure size 432x288 with 1 Axes>"
      ]
     },
     "metadata": {
      "needs_background": "light"
     },
     "output_type": "display_data"
    },
    {
     "name": "stdout",
     "output_type": "stream",
     "text": [
      "-0.7223135232925415\n"
     ]
    },
    {
     "data": {
      "image/png": "[encoded data removed]",
      "text/plain": [
       "<Figure size 432x288 with 1 Axes>"
      ]
     },
     "metadata": {
      "needs_background": "light"
     },
     "output_type": "display_data"
    },
    {
     "name": "stdout",
     "output_type": "stream",
     "text": [
      "0.34527716040611267\n"
     ]
    },
    {
     "data": {
      "application/javascript": [
       "\n",
       "            setTimeout(function() {\n",
       "                var nbb_cell_id = 46;\n",
       "                var nbb_unformatted_code = \"for i in range(20):\\n    explain_plot(explanations[i], all_cols)\\n    print(probs[i].item())\";\n",
       "                var nbb_formatted_code = \"for i in range(20):\\n    explain_plot(explanations[i], all_cols)\\n    print(probs[i].item())\";\n",
       "                var nbb_cells = Jupyter.notebook.get_cells();\n",
       "                for (var i = 0; i < nbb_cells.length; ++i) {\n",
       "                    if (nbb_cells[i].input_prompt_number == nbb_cell_id) {\n",
       "                        if (nbb_cells[i].get_text() == nbb_unformatted_code) {\n",
       "                             nbb_cells[i].set_text(nbb_formatted_code);\n",
       "                        }\n",
       "                        break;\n",
       "                    }\n",
       "                }\n",
       "            }, 500);\n",
       "            "
      ],
      "text/plain": [
       "<IPython.core.display.Javascript object>"
      ]
     },
     "metadata": {},
     "output_type": "display_data"
    }
   ],
   "source": [
    "for i in range(20):\n",
    "    explain_plot(explanations[i], all_cols)\n",
    "    print(probs[i].item())"
   ]
  },
  {
   "cell_type": "code",
   "execution_count": 47,
   "metadata": {
    "ExecuteTime": {
     "end_time": "2020-09-21T20:34:32.160562Z",
     "start_time": "2020-09-21T20:34:32.138263Z"
    }
   },
   "outputs": [
    {
     "data": {
      "application/javascript": [
       "\n",
       "            setTimeout(function() {\n",
       "                var nbb_cell_id = 47;\n",
       "                var nbb_unformatted_code = \"from sklearn.metrics import confusion_matrix\";\n",
       "                var nbb_formatted_code = \"from sklearn.metrics import confusion_matrix\";\n",
       "                var nbb_cells = Jupyter.notebook.get_cells();\n",
       "                for (var i = 0; i < nbb_cells.length; ++i) {\n",
       "                    if (nbb_cells[i].input_prompt_number == nbb_cell_id) {\n",
       "                        if (nbb_cells[i].get_text() == nbb_unformatted_code) {\n",
       "                             nbb_cells[i].set_text(nbb_formatted_code);\n",
       "                        }\n",
       "                        break;\n",
       "                    }\n",
       "                }\n",
       "            }, 500);\n",
       "            "
      ],
      "text/plain": [
       "<IPython.core.display.Javascript object>"
      ]
     },
     "metadata": {},
     "output_type": "display_data"
    }
   ],
   "source": [
    "from sklearn.metrics import confusion_matrix"
   ]
  },
  {
   "cell_type": "code",
   "execution_count": 48,
   "metadata": {
    "ExecuteTime": {
     "end_time": "2020-09-21T20:34:32.440985Z",
     "start_time": "2020-09-21T20:34:32.161570Z"
    }
   },
   "outputs": [
    {
     "data": {
      "application/javascript": [
       "\n",
       "            setTimeout(function() {\n",
       "                var nbb_cell_id = 48;\n",
       "                var nbb_unformatted_code = \"probs_test, explanations_train = predict(model, input_test)\";\n",
       "                var nbb_formatted_code = \"probs_test, explanations_train = predict(model, input_test)\";\n",
       "                var nbb_cells = Jupyter.notebook.get_cells();\n",
       "                for (var i = 0; i < nbb_cells.length; ++i) {\n",
       "                    if (nbb_cells[i].input_prompt_number == nbb_cell_id) {\n",
       "                        if (nbb_cells[i].get_text() == nbb_unformatted_code) {\n",
       "                             nbb_cells[i].set_text(nbb_formatted_code);\n",
       "                        }\n",
       "                        break;\n",
       "                    }\n",
       "                }\n",
       "            }, 500);\n",
       "            "
      ],
      "text/plain": [
       "<IPython.core.display.Javascript object>"
      ]
     },
     "metadata": {},
     "output_type": "display_data"
    }
   ],
   "source": [
    "probs_test, explanations_train = predict(model, input_test)"
   ]
  },
  {
   "cell_type": "code",
   "execution_count": 49,
   "metadata": {
    "ExecuteTime": {
     "end_time": "2020-09-21T20:34:32.584853Z",
     "start_time": "2020-09-21T20:34:32.441849Z"
    }
   },
   "outputs": [
    {
     "data": {
      "image/png": "[encoded data removed]",
      "text/plain": [
       "<Figure size 432x288 with 1 Axes>"
      ]
     },
     "metadata": {
      "needs_background": "light"
     },
     "output_type": "display_data"
    },
    {
     "data": {
      "application/javascript": [
       "\n",
       "            setTimeout(function() {\n",
       "                var nbb_cell_id = 49;\n",
       "                var nbb_unformatted_code = \"# plt.barh(y_pos, performance, align=\\\"center\\\", alpha=0.5)\\n# plt.yticks(y_pos, columns[selection])\\nplt.ylabel(\\\"Predicted value\\\")\\nplt.xlabel(\\\"Truth value\\\")\\n\\nplt.title(\\\"Scatter plot of prediction vs truth\\\")\\nplt.scatter(\\n    train[target].values[test_indices],\\n    target_encoder.inverse_transform(probs_test),\\n)\\nplt.plot(\\n    [\\n        np.min(train[target].values[test_indices]),\\n        np.max(train[target].values[test_indices]),\\n    ],\\n    [\\n        np.min(train[target].values[test_indices]),\\n        np.max(train[target].values[test_indices]),\\n    ],\\n)\\nplt.grid(True)\\nplt.show()\";\n",
       "                var nbb_formatted_code = \"# plt.barh(y_pos, performance, align=\\\"center\\\", alpha=0.5)\\n# plt.yticks(y_pos, columns[selection])\\nplt.ylabel(\\\"Predicted value\\\")\\nplt.xlabel(\\\"Truth value\\\")\\n\\nplt.title(\\\"Scatter plot of prediction vs truth\\\")\\nplt.scatter(\\n    train[target].values[test_indices],\\n    target_encoder.inverse_transform(probs_test),\\n)\\nplt.plot(\\n    [\\n        np.min(train[target].values[test_indices]),\\n        np.max(train[target].values[test_indices]),\\n    ],\\n    [\\n        np.min(train[target].values[test_indices]),\\n        np.max(train[target].values[test_indices]),\\n    ],\\n)\\nplt.grid(True)\\nplt.show()\";\n",
       "                var nbb_cells = Jupyter.notebook.get_cells();\n",
       "                for (var i = 0; i < nbb_cells.length; ++i) {\n",
       "                    if (nbb_cells[i].input_prompt_number == nbb_cell_id) {\n",
       "                        if (nbb_cells[i].get_text() == nbb_unformatted_code) {\n",
       "                             nbb_cells[i].set_text(nbb_formatted_code);\n",
       "                        }\n",
       "                        break;\n",
       "                    }\n",
       "                }\n",
       "            }, 500);\n",
       "            "
      ],
      "text/plain": [
       "<IPython.core.display.Javascript object>"
      ]
     },
     "metadata": {},
     "output_type": "display_data"
    }
   ],
   "source": [
    "# plt.barh(y_pos, performance, align=\"center\", alpha=0.5)\n",
    "# plt.yticks(y_pos, columns[selection])\n",
    "plt.ylabel(\"Predicted value\")\n",
    "plt.xlabel(\"Truth value\")\n",
    "\n",
    "plt.title(\"Scatter plot of prediction vs truth\")\n",
    "plt.scatter(\n",
    "    train[target].values[test_indices],\n",
    "    target_encoder.inverse_transform(probs_test),\n",
    ")\n",
    "plt.plot(\n",
    "    [\n",
    "        np.min(train[target].values[test_indices]),\n",
    "        np.max(train[target].values[test_indices]),\n",
    "    ],\n",
    "    [\n",
    "        np.min(train[target].values[test_indices]),\n",
    "        np.max(train[target].values[test_indices]),\n",
    "    ],\n",
    ")\n",
    "plt.grid(True)\n",
    "plt.show()"
   ]
  },
  {
   "cell_type": "code",
   "execution_count": 50,
   "metadata": {
    "ExecuteTime": {
     "end_time": "2020-09-21T20:34:32.703893Z",
     "start_time": "2020-09-21T20:34:32.585834Z"
    }
   },
   "outputs": [
    {
     "data": {
      "image/png": "[encoded data removed]",
      "text/plain": [
       "<Figure size 432x288 with 1 Axes>"
      ]
     },
     "metadata": {
      "needs_background": "light"
     },
     "output_type": "display_data"
    },
    {
     "data": {
      "application/javascript": [
       "\n",
       "            setTimeout(function() {\n",
       "                var nbb_cell_id = 50;\n",
       "                var nbb_unformatted_code = \"plt.hist(\\n    train[target].values[test_indices].reshape(-1)\\n    - target_encoder.inverse_transform(probs_test).reshape(-1),\\n)\\nplt.xlabel(\\\"Error value\\\")\\nplt.ylabel(\\\"Counts\\\")\\nplt.show()\";\n",
       "                var nbb_formatted_code = \"plt.hist(\\n    train[target].values[test_indices].reshape(-1)\\n    - target_encoder.inverse_transform(probs_test).reshape(-1),\\n)\\nplt.xlabel(\\\"Error value\\\")\\nplt.ylabel(\\\"Counts\\\")\\nplt.show()\";\n",
       "                var nbb_cells = Jupyter.notebook.get_cells();\n",
       "                for (var i = 0; i < nbb_cells.length; ++i) {\n",
       "                    if (nbb_cells[i].input_prompt_number == nbb_cell_id) {\n",
       "                        if (nbb_cells[i].get_text() == nbb_unformatted_code) {\n",
       "                             nbb_cells[i].set_text(nbb_formatted_code);\n",
       "                        }\n",
       "                        break;\n",
       "                    }\n",
       "                }\n",
       "            }, 500);\n",
       "            "
      ],
      "text/plain": [
       "<IPython.core.display.Javascript object>"
      ]
     },
     "metadata": {},
     "output_type": "display_data"
    }
   ],
   "source": [
    "plt.hist(\n",
    "    train[target].values[test_indices].reshape(-1)\n",
    "    - target_encoder.inverse_transform(probs_test).reshape(-1),\n",
    ")\n",
    "plt.xlabel(\"Error value\")\n",
    "plt.ylabel(\"Counts\")\n",
    "plt.show()"
   ]
  },
  {
   "cell_type": "code",
   "execution_count": 51,
   "metadata": {
    "ExecuteTime": {
     "end_time": "2020-09-21T20:34:32.817843Z",
     "start_time": "2020-09-21T20:34:32.704774Z"
    }
   },
   "outputs": [
    {
     "data": {
      "image/png": "[encoded data removed]",
      "text/plain": [
       "<Figure size 432x288 with 1 Axes>"
      ]
     },
     "metadata": {
      "needs_background": "light"
     },
     "output_type": "display_data"
    },
    {
     "data": {
      "application/javascript": [
       "\n",
       "            setTimeout(function() {\n",
       "                var nbb_cell_id = 51;\n",
       "                var nbb_unformatted_code = \"plt.hist(\\n    np.abs(\\n        train[target].values[test_indices].reshape(-1)\\n        - target_encoder.inverse_transform(probs_test).reshape(-1),\\n    )\\n)\\nplt.xlabel(\\\"Error value (absolute)\\\")\\nplt.ylabel(\\\"Counts\\\")\\nplt.show()\";\n",
       "                var nbb_formatted_code = \"plt.hist(\\n    np.abs(\\n        train[target].values[test_indices].reshape(-1)\\n        - target_encoder.inverse_transform(probs_test).reshape(-1),\\n    )\\n)\\nplt.xlabel(\\\"Error value (absolute)\\\")\\nplt.ylabel(\\\"Counts\\\")\\nplt.show()\";\n",
       "                var nbb_cells = Jupyter.notebook.get_cells();\n",
       "                for (var i = 0; i < nbb_cells.length; ++i) {\n",
       "                    if (nbb_cells[i].input_prompt_number == nbb_cell_id) {\n",
       "                        if (nbb_cells[i].get_text() == nbb_unformatted_code) {\n",
       "                             nbb_cells[i].set_text(nbb_formatted_code);\n",
       "                        }\n",
       "                        break;\n",
       "                    }\n",
       "                }\n",
       "            }, 500);\n",
       "            "
      ],
      "text/plain": [
       "<IPython.core.display.Javascript object>"
      ]
     },
     "metadata": {},
     "output_type": "display_data"
    }
   ],
   "source": [
    "plt.hist(\n",
    "    np.abs(\n",
    "        train[target].values[test_indices].reshape(-1)\n",
    "        - target_encoder.inverse_transform(probs_test).reshape(-1),\n",
    "    )\n",
    ")\n",
    "plt.xlabel(\"Error value (absolute)\")\n",
    "plt.ylabel(\"Counts\")\n",
    "plt.show()"
   ]
  },
  {
   "cell_type": "code",
   "execution_count": 52,
   "metadata": {
    "ExecuteTime": {
     "end_time": "2020-09-21T20:34:32.842141Z",
     "start_time": "2020-09-21T20:34:32.818815Z"
    }
   },
   "outputs": [
    {
     "data": {
      "application/javascript": [
       "\n",
       "            setTimeout(function() {\n",
       "                var nbb_cell_id = 52;\n",
       "                var nbb_unformatted_code = \"out = Path(os.getcwd() + \\\"/data/\\\" + dataset_name + \\\"-test.csv\\\")\";\n",
       "                var nbb_formatted_code = \"out = Path(os.getcwd() + \\\"/data/\\\" + dataset_name + \\\"-test.csv\\\")\";\n",
       "                var nbb_cells = Jupyter.notebook.get_cells();\n",
       "                for (var i = 0; i < nbb_cells.length; ++i) {\n",
       "                    if (nbb_cells[i].input_prompt_number == nbb_cell_id) {\n",
       "                        if (nbb_cells[i].get_text() == nbb_unformatted_code) {\n",
       "                             nbb_cells[i].set_text(nbb_formatted_code);\n",
       "                        }\n",
       "                        break;\n",
       "                    }\n",
       "                }\n",
       "            }, 500);\n",
       "            "
      ],
      "text/plain": [
       "<IPython.core.display.Javascript object>"
      ]
     },
     "metadata": {},
     "output_type": "display_data"
    }
   ],
   "source": [
    "out = Path(os.getcwd() + \"/data/\" + dataset_name + \"-test.csv\")"
   ]
  },
  {
   "cell_type": "code",
   "execution_count": 53,
   "metadata": {
    "ExecuteTime": {
     "end_time": "2020-09-21T20:34:32.879150Z",
     "start_time": "2020-09-21T20:34:32.843242Z"
    }
   },
   "outputs": [
    {
     "data": {
      "application/javascript": [
       "\n",
       "            setTimeout(function() {\n",
       "                var nbb_cell_id = 53;\n",
       "                var nbb_unformatted_code = \"kaggle_test = train = pd.read_csv(out, sep=\\\",\\\", low_memory=False)\";\n",
       "                var nbb_formatted_code = \"kaggle_test = train = pd.read_csv(out, sep=\\\",\\\", low_memory=False)\";\n",
       "                var nbb_cells = Jupyter.notebook.get_cells();\n",
       "                for (var i = 0; i < nbb_cells.length; ++i) {\n",
       "                    if (nbb_cells[i].input_prompt_number == nbb_cell_id) {\n",
       "                        if (nbb_cells[i].get_text() == nbb_unformatted_code) {\n",
       "                             nbb_cells[i].set_text(nbb_formatted_code);\n",
       "                        }\n",
       "                        break;\n",
       "                    }\n",
       "                }\n",
       "            }, 500);\n",
       "            "
      ],
      "text/plain": [
       "<IPython.core.display.Javascript object>"
      ]
     },
     "metadata": {},
     "output_type": "display_data"
    }
   ],
   "source": [
    "kaggle_test = train = pd.read_csv(out, sep=\",\", low_memory=False)"
   ]
  },
  {
   "cell_type": "code",
   "execution_count": 54,
   "metadata": {
    "ExecuteTime": {
     "end_time": "2020-09-21T20:34:32.943112Z",
     "start_time": "2020-09-21T20:34:32.880058Z"
    }
   },
   "outputs": [
    {
     "data": {
      "application/javascript": [
       "\n",
       "            setTimeout(function() {\n",
       "                var nbb_cell_id = 54;\n",
       "                var nbb_unformatted_code = \"input_kaggle, _ = preproc_dataset(kaggle_test, target, [\\\"Set\\\"], params)\";\n",
       "                var nbb_formatted_code = \"input_kaggle, _ = preproc_dataset(kaggle_test, target, [\\\"Set\\\"], params)\";\n",
       "                var nbb_cells = Jupyter.notebook.get_cells();\n",
       "                for (var i = 0; i < nbb_cells.length; ++i) {\n",
       "                    if (nbb_cells[i].input_prompt_number == nbb_cell_id) {\n",
       "                        if (nbb_cells[i].get_text() == nbb_unformatted_code) {\n",
       "                             nbb_cells[i].set_text(nbb_formatted_code);\n",
       "                        }\n",
       "                        break;\n",
       "                    }\n",
       "                }\n",
       "            }, 500);\n",
       "            "
      ],
      "text/plain": [
       "<IPython.core.display.Javascript object>"
      ]
     },
     "metadata": {},
     "output_type": "display_data"
    }
   ],
   "source": [
    "input_kaggle, _ = preproc_dataset(kaggle_test, target, [\"Set\"], params)"
   ]
  },
  {
   "cell_type": "code",
   "execution_count": 55,
   "metadata": {
    "ExecuteTime": {
     "end_time": "2020-09-21T20:34:33.258266Z",
     "start_time": "2020-09-21T20:34:32.944103Z"
    }
   },
   "outputs": [
    {
     "data": {
      "application/javascript": [
       "\n",
       "            setTimeout(function() {\n",
       "                var nbb_cell_id = 55;\n",
       "                var nbb_unformatted_code = \"probs_kaggle, _ = predict(model, input_kaggle)\";\n",
       "                var nbb_formatted_code = \"probs_kaggle, _ = predict(model, input_kaggle)\";\n",
       "                var nbb_cells = Jupyter.notebook.get_cells();\n",
       "                for (var i = 0; i < nbb_cells.length; ++i) {\n",
       "                    if (nbb_cells[i].input_prompt_number == nbb_cell_id) {\n",
       "                        if (nbb_cells[i].get_text() == nbb_unformatted_code) {\n",
       "                             nbb_cells[i].set_text(nbb_formatted_code);\n",
       "                        }\n",
       "                        break;\n",
       "                    }\n",
       "                }\n",
       "            }, 500);\n",
       "            "
      ],
      "text/plain": [
       "<IPython.core.display.Javascript object>"
      ]
     },
     "metadata": {},
     "output_type": "display_data"
    }
   ],
   "source": [
    "probs_kaggle, _ = predict(model, input_kaggle)"
   ]
  },
  {
   "cell_type": "code",
   "execution_count": 56,
   "metadata": {
    "ExecuteTime": {
     "end_time": "2020-09-21T20:34:33.282773Z",
     "start_time": "2020-09-21T20:34:33.259273Z"
    }
   },
   "outputs": [
    {
     "data": {
      "application/javascript": [
       "\n",
       "            setTimeout(function() {\n",
       "                var nbb_cell_id = 56;\n",
       "                var nbb_unformatted_code = \"probs_kaggle = target_encoder.inverse_transform(probs_kaggle)\";\n",
       "                var nbb_formatted_code = \"probs_kaggle = target_encoder.inverse_transform(probs_kaggle)\";\n",
       "                var nbb_cells = Jupyter.notebook.get_cells();\n",
       "                for (var i = 0; i < nbb_cells.length; ++i) {\n",
       "                    if (nbb_cells[i].input_prompt_number == nbb_cell_id) {\n",
       "                        if (nbb_cells[i].get_text() == nbb_unformatted_code) {\n",
       "                             nbb_cells[i].set_text(nbb_formatted_code);\n",
       "                        }\n",
       "                        break;\n",
       "                    }\n",
       "                }\n",
       "            }, 500);\n",
       "            "
      ],
      "text/plain": [
       "<IPython.core.display.Javascript object>"
      ]
     },
     "metadata": {},
     "output_type": "display_data"
    }
   ],
   "source": [
    "probs_kaggle = target_encoder.inverse_transform(probs_kaggle)"
   ]
  },
  {
   "cell_type": "code",
   "execution_count": 57,
   "metadata": {
    "ExecuteTime": {
     "end_time": "2020-09-21T20:34:33.307516Z",
     "start_time": "2020-09-21T20:34:33.283711Z"
    }
   },
   "outputs": [
    {
     "data": {
      "text/plain": [
       "array([[125126.74 ],\n",
       "       [172765.55 ],\n",
       "       [201125.   ],\n",
       "       ...,\n",
       "       [185594.08 ],\n",
       "       [123065.664],\n",
       "       [225210.05 ]], dtype=float32)"
      ]
     },
     "execution_count": 57,
     "metadata": {},
     "output_type": "execute_result"
    },
    {
     "data": {
      "application/javascript": [
       "\n",
       "            setTimeout(function() {\n",
       "                var nbb_cell_id = 57;\n",
       "                var nbb_unformatted_code = \"probs_kaggle\";\n",
       "                var nbb_formatted_code = \"probs_kaggle\";\n",
       "                var nbb_cells = Jupyter.notebook.get_cells();\n",
       "                for (var i = 0; i < nbb_cells.length; ++i) {\n",
       "                    if (nbb_cells[i].input_prompt_number == nbb_cell_id) {\n",
       "                        if (nbb_cells[i].get_text() == nbb_unformatted_code) {\n",
       "                             nbb_cells[i].set_text(nbb_formatted_code);\n",
       "                        }\n",
       "                        break;\n",
       "                    }\n",
       "                }\n",
       "            }, 500);\n",
       "            "
      ],
      "text/plain": [
       "<IPython.core.display.Javascript object>"
      ]
     },
     "metadata": {},
     "output_type": "display_data"
    }
   ],
   "source": [
    "probs_kaggle"
   ]
  },
  {
   "cell_type": "code",
   "execution_count": 58,
   "metadata": {
    "ExecuteTime": {
     "end_time": "2020-09-21T20:34:33.332815Z",
     "start_time": "2020-09-21T20:34:33.308720Z"
    }
   },
   "outputs": [
    {
     "data": {
      "application/javascript": [
       "\n",
       "            setTimeout(function() {\n",
       "                var nbb_cell_id = 58;\n",
       "                var nbb_unformatted_code = \"test_df = kaggle_test[[\\\"Id\\\"]]\";\n",
       "                var nbb_formatted_code = \"test_df = kaggle_test[[\\\"Id\\\"]]\";\n",
       "                var nbb_cells = Jupyter.notebook.get_cells();\n",
       "                for (var i = 0; i < nbb_cells.length; ++i) {\n",
       "                    if (nbb_cells[i].input_prompt_number == nbb_cell_id) {\n",
       "                        if (nbb_cells[i].get_text() == nbb_unformatted_code) {\n",
       "                             nbb_cells[i].set_text(nbb_formatted_code);\n",
       "                        }\n",
       "                        break;\n",
       "                    }\n",
       "                }\n",
       "            }, 500);\n",
       "            "
      ],
      "text/plain": [
       "<IPython.core.display.Javascript object>"
      ]
     },
     "metadata": {},
     "output_type": "display_data"
    }
   ],
   "source": [
    "test_df = kaggle_test[[\"Id\"]]"
   ]
  },
  {
   "cell_type": "code",
   "execution_count": 59,
   "metadata": {
    "ExecuteTime": {
     "end_time": "2020-09-21T20:34:33.356824Z",
     "start_time": "2020-09-21T20:34:33.333761Z"
    }
   },
   "outputs": [
    {
     "name": "stderr",
     "output_type": "stream",
     "text": [
      "/work/.cache/poetry/xplainet-KS9Ipbc1-py3.7/lib/python3.7/site-packages/ipykernel_launcher.py:1: SettingWithCopyWarning: \n",
      "A value is trying to be set on a copy of a slice from a DataFrame.\n",
      "Try using .loc[row_indexer,col_indexer] = value instead\n",
      "\n",
      "See the caveats in the documentation: https://pandas.pydata.org/pandas-docs/stable/user_guide/indexing.html#returning-a-view-versus-a-copy\n",
      "  \"\"\"Entry point for launching an IPython kernel.\n"
     ]
    },
    {
     "data": {
      "application/javascript": [
       "\n",
       "            setTimeout(function() {\n",
       "                var nbb_cell_id = 59;\n",
       "                var nbb_unformatted_code = \"test_df[\\\"SalePrice\\\"] = probs_kaggle\";\n",
       "                var nbb_formatted_code = \"test_df[\\\"SalePrice\\\"] = probs_kaggle\";\n",
       "                var nbb_cells = Jupyter.notebook.get_cells();\n",
       "                for (var i = 0; i < nbb_cells.length; ++i) {\n",
       "                    if (nbb_cells[i].input_prompt_number == nbb_cell_id) {\n",
       "                        if (nbb_cells[i].get_text() == nbb_unformatted_code) {\n",
       "                             nbb_cells[i].set_text(nbb_formatted_code);\n",
       "                        }\n",
       "                        break;\n",
       "                    }\n",
       "                }\n",
       "            }, 500);\n",
       "            "
      ],
      "text/plain": [
       "<IPython.core.display.Javascript object>"
      ]
     },
     "metadata": {},
     "output_type": "display_data"
    }
   ],
   "source": [
    "test_df[\"SalePrice\"] = probs_kaggle"
   ]
  },
  {
   "cell_type": "code",
   "execution_count": 60,
   "metadata": {
    "ExecuteTime": {
     "end_time": "2020-09-21T20:34:33.384847Z",
     "start_time": "2020-09-21T20:34:33.357897Z"
    }
   },
   "outputs": [
    {
     "data": {
      "application/javascript": [
       "\n",
       "            setTimeout(function() {\n",
       "                var nbb_cell_id = 60;\n",
       "                var nbb_unformatted_code = \"test_df.to_csv(\\\"kaggle_submit.csv\\\", index=False)\";\n",
       "                var nbb_formatted_code = \"test_df.to_csv(\\\"kaggle_submit.csv\\\", index=False)\";\n",
       "                var nbb_cells = Jupyter.notebook.get_cells();\n",
       "                for (var i = 0; i < nbb_cells.length; ++i) {\n",
       "                    if (nbb_cells[i].input_prompt_number == nbb_cell_id) {\n",
       "                        if (nbb_cells[i].get_text() == nbb_unformatted_code) {\n",
       "                             nbb_cells[i].set_text(nbb_formatted_code);\n",
       "                        }\n",
       "                        break;\n",
       "                    }\n",
       "                }\n",
       "            }, 500);\n",
       "            "
      ],
      "text/plain": [
       "<IPython.core.display.Javascript object>"
      ]
     },
     "metadata": {},
     "output_type": "display_data"
    }
   ],
   "source": [
    "test_df.to_csv(\"kaggle_submit.csv\", index=False)"
   ]
  },
  {
   "cell_type": "code",
   "execution_count": 61,
   "metadata": {
    "ExecuteTime": {
     "end_time": "2020-09-21T20:34:33.407512Z",
     "start_time": "2020-09-21T20:34:33.385865Z"
    }
   },
   "outputs": [
    {
     "data": {
      "application/javascript": [
       "\n",
       "            setTimeout(function() {\n",
       "                var nbb_cell_id = 61;\n",
       "                var nbb_unformatted_code = \"# Scores 0.16028 on kaggle\\n# https://www.kaggle.com/c/house-prices-advanced-regression-techniques/leaderboard#score\\n# Should train with RMSLE ?\\n# from tensorflow.keras import backend as K\\n\\n# def root_mean_squared_log_error(y_true, y_pred):\\n#     return K.sqrt(K.mean(K.square(K.log(1+y_pred) - K.log(1+y_true))))\";\n",
       "                var nbb_formatted_code = \"# Scores 0.16028 on kaggle\\n# https://www.kaggle.com/c/house-prices-advanced-regression-techniques/leaderboard#score\\n# Should train with RMSLE ?\\n# from tensorflow.keras import backend as K\\n\\n# def root_mean_squared_log_error(y_true, y_pred):\\n#     return K.sqrt(K.mean(K.square(K.log(1+y_pred) - K.log(1+y_true))))\";\n",
       "                var nbb_cells = Jupyter.notebook.get_cells();\n",
       "                for (var i = 0; i < nbb_cells.length; ++i) {\n",
       "                    if (nbb_cells[i].input_prompt_number == nbb_cell_id) {\n",
       "                        if (nbb_cells[i].get_text() == nbb_unformatted_code) {\n",
       "                             nbb_cells[i].set_text(nbb_formatted_code);\n",
       "                        }\n",
       "                        break;\n",
       "                    }\n",
       "                }\n",
       "            }, 500);\n",
       "            "
      ],
      "text/plain": [
       "<IPython.core.display.Javascript object>"
      ]
     },
     "metadata": {},
     "output_type": "display_data"
    }
   ],
   "source": [
    "# Scores on kaggle\n",
    "# https://www.kaggle.com/c/house-prices-advanced-regression-techniques/leaderboard#score\n",
    "# 0.18047\n",
    "# Batch size 16 + standard scaler\n",
    "# 0.16028\n",
    "# batch size 8\n",
    "# 0.15498\n",
    "\n",
    "# Should train with RMSLE ?\n",
    "# from tensorflow.keras import backend as K\n",
    "\n",
    "# def root_mean_squared_log_error(y_true, y_pred):\n",
    "#     return K.sqrt(K.mean(K.square(K.log(1+y_pred) - K.log(1+y_true))))"
   ]
  }
 ],
 "metadata": {
  "kernelspec": {
   "display_name": "Python 3",
   "language": "python",
   "name": "python3"
  },
  "language_info": {
   "codemirror_mode": {
    "name": "ipython",
    "version": 3
   },
   "file_extension": ".py",
   "mimetype": "text/x-python",
   "name": "python",
   "nbconvert_exporter": "python",
   "pygments_lexer": "ipython3",
   "version": "3.7.9"
  }
 },
 "nbformat": 4,
 "nbformat_minor": 4
}
