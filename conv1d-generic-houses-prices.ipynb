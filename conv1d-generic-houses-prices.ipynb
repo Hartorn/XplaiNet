{
 "cells": [
  {
   "cell_type": "code",
   "execution_count": 1,
   "metadata": {
    "ExecuteTime": {
     "end_time": "2020-09-19T11:39:44.638954Z",
     "start_time": "2020-09-19T11:39:44.559248Z"
    }
   },
   "outputs": [
    {
     "data": {
      "application/javascript": [
       "\n",
       "            setTimeout(function() {\n",
       "                var nbb_cell_id = 1;\n",
       "                var nbb_unformatted_code = \"%load_ext nb_black\\n%load_ext autoreload\\n\\n%autoreload 2\";\n",
       "                var nbb_formatted_code = \"%load_ext nb_black\\n%load_ext autoreload\\n\\n%autoreload 2\";\n",
       "                var nbb_cells = Jupyter.notebook.get_cells();\n",
       "                for (var i = 0; i < nbb_cells.length; ++i) {\n",
       "                    if (nbb_cells[i].input_prompt_number == nbb_cell_id) {\n",
       "                        if (nbb_cells[i].get_text() == nbb_unformatted_code) {\n",
       "                             nbb_cells[i].set_text(nbb_formatted_code);\n",
       "                        }\n",
       "                        break;\n",
       "                    }\n",
       "                }\n",
       "            }, 500);\n",
       "            "
      ],
      "text/plain": [
       "<IPython.core.display.Javascript object>"
      ]
     },
     "metadata": {},
     "output_type": "display_data"
    }
   ],
   "source": [
    "%load_ext nb_black\n",
    "%load_ext autoreload\n",
    "\n",
    "%autoreload 2"
   ]
  },
  {
   "cell_type": "code",
   "execution_count": 2,
   "metadata": {
    "ExecuteTime": {
     "end_time": "2020-09-19T11:39:45.803708Z",
     "start_time": "2020-09-19T11:39:44.640114Z"
    }
   },
   "outputs": [
    {
     "data": {
      "application/javascript": [
       "\n",
       "            setTimeout(function() {\n",
       "                var nbb_cell_id = 2;\n",
       "                var nbb_unformatted_code = \"import os\\nfrom pathlib import Path\\n\\nfrom requests import get\\nimport pandas as pd\\nimport numpy as np\\n\\nfrom sklearn.metrics import mean_absolute_error, mean_squared_error\\nfrom sklearn.preprocessing import LabelEncoder, StandardScaler\\nfrom tensorflow.keras.utils import plot_model\\nfrom tensorflow.keras.callbacks import EarlyStopping\\n\\nimport logging\\n\\nlogging.basicConfig(level=logging.WARN)\";\n",
       "                var nbb_formatted_code = \"import os\\nfrom pathlib import Path\\n\\nfrom requests import get\\nimport pandas as pd\\nimport numpy as np\\n\\nfrom sklearn.metrics import mean_absolute_error, mean_squared_error\\nfrom sklearn.preprocessing import LabelEncoder, StandardScaler\\nfrom tensorflow.keras.utils import plot_model\\nfrom tensorflow.keras.callbacks import EarlyStopping\\n\\nimport logging\\n\\nlogging.basicConfig(level=logging.WARN)\";\n",
       "                var nbb_cells = Jupyter.notebook.get_cells();\n",
       "                for (var i = 0; i < nbb_cells.length; ++i) {\n",
       "                    if (nbb_cells[i].input_prompt_number == nbb_cell_id) {\n",
       "                        if (nbb_cells[i].get_text() == nbb_unformatted_code) {\n",
       "                             nbb_cells[i].set_text(nbb_formatted_code);\n",
       "                        }\n",
       "                        break;\n",
       "                    }\n",
       "                }\n",
       "            }, 500);\n",
       "            "
      ],
      "text/plain": [
       "<IPython.core.display.Javascript object>"
      ]
     },
     "metadata": {},
     "output_type": "display_data"
    }
   ],
   "source": [
    "import os\n",
    "from pathlib import Path\n",
    "\n",
    "from requests import get\n",
    "import pandas as pd\n",
    "import numpy as np\n",
    "\n",
    "from sklearn.metrics import mean_absolute_error, mean_squared_error\n",
    "from sklearn.preprocessing import LabelEncoder, StandardScaler\n",
    "from tensorflow.keras.utils import plot_model\n",
    "from tensorflow.keras.callbacks import EarlyStopping\n",
    "\n",
    "import logging\n",
    "\n",
    "logging.basicConfig(level=logging.WARN)"
   ]
  },
  {
   "cell_type": "code",
   "execution_count": 3,
   "metadata": {
    "ExecuteTime": {
     "end_time": "2020-09-19T11:39:45.975922Z",
     "start_time": "2020-09-19T11:39:45.805116Z"
    }
   },
   "outputs": [
    {
     "data": {
      "application/javascript": [
       "\n",
       "            setTimeout(function() {\n",
       "                var nbb_cell_id = 3;\n",
       "                var nbb_unformatted_code = \"from xplainet.input_utils import preproc_dataset\\nfrom xplainet.model import build_model\\nfrom xplainet.random_utils import setup_seed, SEED\\nfrom sklearn.model_selection import ShuffleSplit\\n\\nimport matplotlib.pyplot as plt\\nfrom matplotlib.pyplot import imshow\\n\\n%matplotlib inline\\n\\nfrom zipfile import ZipFile\";\n",
       "                var nbb_formatted_code = \"from xplainet.input_utils import preproc_dataset\\nfrom xplainet.model import build_model\\nfrom xplainet.random_utils import setup_seed, SEED\\nfrom sklearn.model_selection import ShuffleSplit\\n\\nimport matplotlib.pyplot as plt\\nfrom matplotlib.pyplot import imshow\\n\\n%matplotlib inline\\n\\nfrom zipfile import ZipFile\";\n",
       "                var nbb_cells = Jupyter.notebook.get_cells();\n",
       "                for (var i = 0; i < nbb_cells.length; ++i) {\n",
       "                    if (nbb_cells[i].input_prompt_number == nbb_cell_id) {\n",
       "                        if (nbb_cells[i].get_text() == nbb_unformatted_code) {\n",
       "                             nbb_cells[i].set_text(nbb_formatted_code);\n",
       "                        }\n",
       "                        break;\n",
       "                    }\n",
       "                }\n",
       "            }, 500);\n",
       "            "
      ],
      "text/plain": [
       "<IPython.core.display.Javascript object>"
      ]
     },
     "metadata": {},
     "output_type": "display_data"
    }
   ],
   "source": [
    "from xplainet.input_utils import preproc_dataset\n",
    "from xplainet.model import build_model\n",
    "from xplainet.random_utils import setup_seed, SEED\n",
    "from sklearn.model_selection import ShuffleSplit\n",
    "\n",
    "import matplotlib.pyplot as plt\n",
    "from matplotlib.pyplot import imshow\n",
    "\n",
    "%matplotlib inline\n",
    "\n",
    "from zipfile import ZipFile"
   ]
  },
  {
   "cell_type": "code",
   "execution_count": 4,
   "metadata": {
    "ExecuteTime": {
     "end_time": "2020-09-19T11:39:45.999027Z",
     "start_time": "2020-09-19T11:39:45.977203Z"
    }
   },
   "outputs": [
    {
     "data": {
      "application/javascript": [
       "\n",
       "            setTimeout(function() {\n",
       "                var nbb_cell_id = 4;\n",
       "                var nbb_unformatted_code = \"setup_seed()\";\n",
       "                var nbb_formatted_code = \"setup_seed()\";\n",
       "                var nbb_cells = Jupyter.notebook.get_cells();\n",
       "                for (var i = 0; i < nbb_cells.length; ++i) {\n",
       "                    if (nbb_cells[i].input_prompt_number == nbb_cell_id) {\n",
       "                        if (nbb_cells[i].get_text() == nbb_unformatted_code) {\n",
       "                             nbb_cells[i].set_text(nbb_formatted_code);\n",
       "                        }\n",
       "                        break;\n",
       "                    }\n",
       "                }\n",
       "            }, 500);\n",
       "            "
      ],
      "text/plain": [
       "<IPython.core.display.Javascript object>"
      ]
     },
     "metadata": {},
     "output_type": "display_data"
    }
   ],
   "source": [
    "setup_seed()"
   ]
  },
  {
   "cell_type": "code",
   "execution_count": 5,
   "metadata": {
    "ExecuteTime": {
     "end_time": "2020-09-19T11:39:46.030614Z",
     "start_time": "2020-09-19T11:39:46.000047Z"
    }
   },
   "outputs": [
    {
     "data": {
      "application/javascript": [
       "\n",
       "            setTimeout(function() {\n",
       "                var nbb_cell_id = 5;\n",
       "                var nbb_unformatted_code = \"def download(url, out, force=False, verify=True):\\n    out.parent.mkdir(parents=True, exist_ok=True)\\n    if force and out.exists():\\n        print(f\\\"Removing file at {str(out)}\\\")\\n        out.unlink()\\n\\n    if out.exists():\\n        print(\\\"File already exists.\\\")\\n        return\\n    print(f\\\"Downloading {url} at {str(out)} ...\\\")\\n    # open in binary mode\\n    with out.open(mode=\\\"wb\\\") as file:\\n        # get request\\n        response = get(url, verify=verify)\\n        for chunk in response.iter_content(100000):\\n            # write to file\\n            file.write(chunk)\";\n",
       "                var nbb_formatted_code = \"def download(url, out, force=False, verify=True):\\n    out.parent.mkdir(parents=True, exist_ok=True)\\n    if force and out.exists():\\n        print(f\\\"Removing file at {str(out)}\\\")\\n        out.unlink()\\n\\n    if out.exists():\\n        print(\\\"File already exists.\\\")\\n        return\\n    print(f\\\"Downloading {url} at {str(out)} ...\\\")\\n    # open in binary mode\\n    with out.open(mode=\\\"wb\\\") as file:\\n        # get request\\n        response = get(url, verify=verify)\\n        for chunk in response.iter_content(100000):\\n            # write to file\\n            file.write(chunk)\";\n",
       "                var nbb_cells = Jupyter.notebook.get_cells();\n",
       "                for (var i = 0; i < nbb_cells.length; ++i) {\n",
       "                    if (nbb_cells[i].input_prompt_number == nbb_cell_id) {\n",
       "                        if (nbb_cells[i].get_text() == nbb_unformatted_code) {\n",
       "                             nbb_cells[i].set_text(nbb_formatted_code);\n",
       "                        }\n",
       "                        break;\n",
       "                    }\n",
       "                }\n",
       "            }, 500);\n",
       "            "
      ],
      "text/plain": [
       "<IPython.core.display.Javascript object>"
      ]
     },
     "metadata": {},
     "output_type": "display_data"
    }
   ],
   "source": [
    "def download(url, out, force=False, verify=True):\n",
    "    out.parent.mkdir(parents=True, exist_ok=True)\n",
    "    if force and out.exists():\n",
    "        print(f\"Removing file at {str(out)}\")\n",
    "        out.unlink()\n",
    "\n",
    "    if out.exists():\n",
    "        print(\"File already exists.\")\n",
    "        return\n",
    "    print(f\"Downloading {url} at {str(out)} ...\")\n",
    "    # open in binary mode\n",
    "    with out.open(mode=\"wb\") as file:\n",
    "        # get request\n",
    "        response = get(url, verify=verify)\n",
    "        for chunk in response.iter_content(100000):\n",
    "            # write to file\n",
    "            file.write(chunk)\n"
   ]
  },
  {
   "cell_type": "code",
   "execution_count": 6,
   "metadata": {
    "ExecuteTime": {
     "end_time": "2020-09-19T11:39:46.073001Z",
     "start_time": "2020-09-19T11:39:46.031584Z"
    }
   },
   "outputs": [
    {
     "data": {
      "application/javascript": [
       "\n",
       "            setTimeout(function() {\n",
       "                var nbb_cell_id = 6;\n",
       "                var nbb_unformatted_code = \"def plot_history(history):\\n    loss_list = [s for s in history.history.keys() if \\\"loss\\\" in s and \\\"val\\\" not in s]\\n    val_loss_list = [s for s in history.history.keys() if \\\"loss\\\" in s and \\\"val\\\" in s]\\n    acc_list = [s for s in history.history.keys() if \\\"AUC\\\" in s and \\\"val\\\" not in s]\\n    val_acc_list = [s for s in history.history.keys() if \\\"AUC\\\" in s and \\\"val\\\" in s]\\n\\n    if len(loss_list) == 0:\\n        print(\\\"Loss is missing in history\\\")\\n        return\\n\\n    ## As loss always exists\\n    epochs = range(1, len(history.history[loss_list[0]]) + 1)\\n\\n    ## Loss\\n    plt.figure(1)\\n    for l in loss_list:\\n        plt.plot(\\n            epochs,\\n            history.history[l],\\n            \\\"b\\\",\\n            label=\\\"Training loss (\\\"\\n            + str(str(format(history.history[l][-1], \\\".5f\\\")) + \\\")\\\"),\\n        )\\n    for l in val_loss_list:\\n        plt.plot(\\n            epochs,\\n            history.history[l],\\n            \\\"g\\\",\\n            label=\\\"Validation loss (\\\"\\n            + str(str(format(history.history[l][-1], \\\".5f\\\")) + \\\")\\\"),\\n        )\\n\\n    plt.title(\\\"Loss\\\")\\n    plt.xlabel(\\\"Epochs\\\")\\n    plt.ylabel(\\\"Loss\\\")\\n    plt.legend()\\n\\n    plt.show()\";\n",
       "                var nbb_formatted_code = \"def plot_history(history):\\n    loss_list = [s for s in history.history.keys() if \\\"loss\\\" in s and \\\"val\\\" not in s]\\n    val_loss_list = [s for s in history.history.keys() if \\\"loss\\\" in s and \\\"val\\\" in s]\\n    acc_list = [s for s in history.history.keys() if \\\"AUC\\\" in s and \\\"val\\\" not in s]\\n    val_acc_list = [s for s in history.history.keys() if \\\"AUC\\\" in s and \\\"val\\\" in s]\\n\\n    if len(loss_list) == 0:\\n        print(\\\"Loss is missing in history\\\")\\n        return\\n\\n    ## As loss always exists\\n    epochs = range(1, len(history.history[loss_list[0]]) + 1)\\n\\n    ## Loss\\n    plt.figure(1)\\n    for l in loss_list:\\n        plt.plot(\\n            epochs,\\n            history.history[l],\\n            \\\"b\\\",\\n            label=\\\"Training loss (\\\"\\n            + str(str(format(history.history[l][-1], \\\".5f\\\")) + \\\")\\\"),\\n        )\\n    for l in val_loss_list:\\n        plt.plot(\\n            epochs,\\n            history.history[l],\\n            \\\"g\\\",\\n            label=\\\"Validation loss (\\\"\\n            + str(str(format(history.history[l][-1], \\\".5f\\\")) + \\\")\\\"),\\n        )\\n\\n    plt.title(\\\"Loss\\\")\\n    plt.xlabel(\\\"Epochs\\\")\\n    plt.ylabel(\\\"Loss\\\")\\n    plt.legend()\\n\\n    plt.show()\";\n",
       "                var nbb_cells = Jupyter.notebook.get_cells();\n",
       "                for (var i = 0; i < nbb_cells.length; ++i) {\n",
       "                    if (nbb_cells[i].input_prompt_number == nbb_cell_id) {\n",
       "                        if (nbb_cells[i].get_text() == nbb_unformatted_code) {\n",
       "                             nbb_cells[i].set_text(nbb_formatted_code);\n",
       "                        }\n",
       "                        break;\n",
       "                    }\n",
       "                }\n",
       "            }, 500);\n",
       "            "
      ],
      "text/plain": [
       "<IPython.core.display.Javascript object>"
      ]
     },
     "metadata": {},
     "output_type": "display_data"
    }
   ],
   "source": [
    "def plot_history(history):\n",
    "    loss_list = [s for s in history.history.keys() if \"loss\" in s and \"val\" not in s]\n",
    "    val_loss_list = [s for s in history.history.keys() if \"loss\" in s and \"val\" in s]\n",
    "    acc_list = [s for s in history.history.keys() if \"AUC\" in s and \"val\" not in s]\n",
    "    val_acc_list = [s for s in history.history.keys() if \"AUC\" in s and \"val\" in s]\n",
    "\n",
    "    if len(loss_list) == 0:\n",
    "        print(\"Loss is missing in history\")\n",
    "        return\n",
    "\n",
    "    ## As loss always exists\n",
    "    epochs = range(1, len(history.history[loss_list[0]]) + 1)\n",
    "\n",
    "    ## Loss\n",
    "    plt.figure(1)\n",
    "    for l in loss_list:\n",
    "        plt.plot(\n",
    "            epochs,\n",
    "            history.history[l],\n",
    "            \"b\",\n",
    "            label=\"Training loss (\"\n",
    "            + str(str(format(history.history[l][-1], \".5f\")) + \")\"),\n",
    "        )\n",
    "    for l in val_loss_list:\n",
    "        plt.plot(\n",
    "            epochs,\n",
    "            history.history[l],\n",
    "            \"g\",\n",
    "            label=\"Validation loss (\"\n",
    "            + str(str(format(history.history[l][-1], \".5f\")) + \")\"),\n",
    "        )\n",
    "\n",
    "    plt.title(\"Loss\")\n",
    "    plt.xlabel(\"Epochs\")\n",
    "    plt.ylabel(\"Loss\")\n",
    "    plt.legend()\n",
    "\n",
    "    plt.show()"
   ]
  },
  {
   "cell_type": "markdown",
   "metadata": {},
   "source": [
    "## Bank marketing : loading data"
   ]
  },
  {
   "cell_type": "code",
   "execution_count": 7,
   "metadata": {
    "ExecuteTime": {
     "end_time": "2020-09-19T11:39:46.113163Z",
     "start_time": "2020-09-19T11:39:46.074163Z"
    }
   },
   "outputs": [
    {
     "data": {
      "application/javascript": [
       "\n",
       "            setTimeout(function() {\n",
       "                var nbb_cell_id = 7;\n",
       "                var nbb_unformatted_code = \"dataset_name = \\\"kaggle-house-prices\\\"\\nout = Path(os.getcwd() + \\\"/data/\\\" + dataset_name + \\\"-train.csv\\\")\\n\\ntarget = \\\"SalePrice\\\"\\nto_remove = []\\ntrain = pd.read_csv(out, sep=\\\",\\\", low_memory=False)\";\n",
       "                var nbb_formatted_code = \"dataset_name = \\\"kaggle-house-prices\\\"\\nout = Path(os.getcwd() + \\\"/data/\\\" + dataset_name + \\\"-train.csv\\\")\\n\\ntarget = \\\"SalePrice\\\"\\nto_remove = []\\ntrain = pd.read_csv(out, sep=\\\",\\\", low_memory=False)\";\n",
       "                var nbb_cells = Jupyter.notebook.get_cells();\n",
       "                for (var i = 0; i < nbb_cells.length; ++i) {\n",
       "                    if (nbb_cells[i].input_prompt_number == nbb_cell_id) {\n",
       "                        if (nbb_cells[i].get_text() == nbb_unformatted_code) {\n",
       "                             nbb_cells[i].set_text(nbb_formatted_code);\n",
       "                        }\n",
       "                        break;\n",
       "                    }\n",
       "                }\n",
       "            }, 500);\n",
       "            "
      ],
      "text/plain": [
       "<IPython.core.display.Javascript object>"
      ]
     },
     "metadata": {},
     "output_type": "display_data"
    }
   ],
   "source": [
    "dataset_name = \"kaggle-house-prices\"\n",
    "out = Path(os.getcwd() + \"/data/\" + dataset_name + \"-train.csv\")\n",
    "\n",
    "target = \"SalePrice\"\n",
    "to_remove = []\n",
    "train = pd.read_csv(out, sep=\",\", low_memory=False)"
   ]
  },
  {
   "cell_type": "code",
   "execution_count": 8,
   "metadata": {
    "ExecuteTime": {
     "end_time": "2020-09-19T11:39:46.352758Z",
     "start_time": "2020-09-19T11:39:46.114967Z"
    }
   },
   "outputs": [
    {
     "name": "stdout",
     "output_type": "stream",
     "text": [
      "census-income.csv\tforest-cover-type.csv  kaggle-house-prices-test.csv\r\n",
      "census-income_test.csv\tforest-cover-type.zip  kaggle-house-prices-train.csv\r\n"
     ]
    },
    {
     "data": {
      "application/javascript": [
       "\n",
       "            setTimeout(function() {\n",
       "                var nbb_cell_id = 8;\n",
       "                var nbb_unformatted_code = \"!ls data\";\n",
       "                var nbb_formatted_code = \"!ls data\";\n",
       "                var nbb_cells = Jupyter.notebook.get_cells();\n",
       "                for (var i = 0; i < nbb_cells.length; ++i) {\n",
       "                    if (nbb_cells[i].input_prompt_number == nbb_cell_id) {\n",
       "                        if (nbb_cells[i].get_text() == nbb_unformatted_code) {\n",
       "                             nbb_cells[i].set_text(nbb_formatted_code);\n",
       "                        }\n",
       "                        break;\n",
       "                    }\n",
       "                }\n",
       "            }, 500);\n",
       "            "
      ],
      "text/plain": [
       "<IPython.core.display.Javascript object>"
      ]
     },
     "metadata": {},
     "output_type": "display_data"
    }
   ],
   "source": [
    "!ls data"
   ]
  },
  {
   "cell_type": "code",
   "execution_count": 9,
   "metadata": {
    "ExecuteTime": {
     "end_time": "2020-09-19T11:39:46.390936Z",
     "start_time": "2020-09-19T11:39:46.363051Z"
    }
   },
   "outputs": [
    {
     "data": {
      "text/plain": [
       "(1460, 81)"
      ]
     },
     "execution_count": 9,
     "metadata": {},
     "output_type": "execute_result"
    },
    {
     "data": {
      "application/javascript": [
       "\n",
       "            setTimeout(function() {\n",
       "                var nbb_cell_id = 9;\n",
       "                var nbb_unformatted_code = \"train.shape\";\n",
       "                var nbb_formatted_code = \"train.shape\";\n",
       "                var nbb_cells = Jupyter.notebook.get_cells();\n",
       "                for (var i = 0; i < nbb_cells.length; ++i) {\n",
       "                    if (nbb_cells[i].input_prompt_number == nbb_cell_id) {\n",
       "                        if (nbb_cells[i].get_text() == nbb_unformatted_code) {\n",
       "                             nbb_cells[i].set_text(nbb_formatted_code);\n",
       "                        }\n",
       "                        break;\n",
       "                    }\n",
       "                }\n",
       "            }, 500);\n",
       "            "
      ],
      "text/plain": [
       "<IPython.core.display.Javascript object>"
      ]
     },
     "metadata": {},
     "output_type": "display_data"
    }
   ],
   "source": [
    "train.shape"
   ]
  },
  {
   "cell_type": "code",
   "execution_count": 10,
   "metadata": {
    "ExecuteTime": {
     "end_time": "2020-09-19T11:39:46.421542Z",
     "start_time": "2020-09-19T11:39:46.392247Z"
    }
   },
   "outputs": [
    {
     "data": {
      "text/plain": [
       "Index(['Id', 'MSSubClass', 'MSZoning', 'LotFrontage', 'LotArea', 'Street',\n",
       "       'Alley', 'LotShape', 'LandContour', 'Utilities', 'LotConfig',\n",
       "       'LandSlope', 'Neighborhood', 'Condition1', 'Condition2', 'BldgType',\n",
       "       'HouseStyle', 'OverallQual', 'OverallCond', 'YearBuilt', 'YearRemodAdd',\n",
       "       'RoofStyle', 'RoofMatl', 'Exterior1st', 'Exterior2nd', 'MasVnrType',\n",
       "       'MasVnrArea', 'ExterQual', 'ExterCond', 'Foundation', 'BsmtQual',\n",
       "       'BsmtCond', 'BsmtExposure', 'BsmtFinType1', 'BsmtFinSF1',\n",
       "       'BsmtFinType2', 'BsmtFinSF2', 'BsmtUnfSF', 'TotalBsmtSF', 'Heating',\n",
       "       'HeatingQC', 'CentralAir', 'Electrical', '1stFlrSF', '2ndFlrSF',\n",
       "       'LowQualFinSF', 'GrLivArea', 'BsmtFullBath', 'BsmtHalfBath', 'FullBath',\n",
       "       'HalfBath', 'BedroomAbvGr', 'KitchenAbvGr', 'KitchenQual',\n",
       "       'TotRmsAbvGrd', 'Functional', 'Fireplaces', 'FireplaceQu', 'GarageType',\n",
       "       'GarageYrBlt', 'GarageFinish', 'GarageCars', 'GarageArea', 'GarageQual',\n",
       "       'GarageCond', 'PavedDrive', 'WoodDeckSF', 'OpenPorchSF',\n",
       "       'EnclosedPorch', '3SsnPorch', 'ScreenPorch', 'PoolArea', 'PoolQC',\n",
       "       'Fence', 'MiscFeature', 'MiscVal', 'MoSold', 'YrSold', 'SaleType',\n",
       "       'SaleCondition', 'SalePrice'],\n",
       "      dtype='object')"
      ]
     },
     "execution_count": 10,
     "metadata": {},
     "output_type": "execute_result"
    },
    {
     "data": {
      "application/javascript": [
       "\n",
       "            setTimeout(function() {\n",
       "                var nbb_cell_id = 10;\n",
       "                var nbb_unformatted_code = \"train.columns\";\n",
       "                var nbb_formatted_code = \"train.columns\";\n",
       "                var nbb_cells = Jupyter.notebook.get_cells();\n",
       "                for (var i = 0; i < nbb_cells.length; ++i) {\n",
       "                    if (nbb_cells[i].input_prompt_number == nbb_cell_id) {\n",
       "                        if (nbb_cells[i].get_text() == nbb_unformatted_code) {\n",
       "                             nbb_cells[i].set_text(nbb_formatted_code);\n",
       "                        }\n",
       "                        break;\n",
       "                    }\n",
       "                }\n",
       "            }, 500);\n",
       "            "
      ],
      "text/plain": [
       "<IPython.core.display.Javascript object>"
      ]
     },
     "metadata": {},
     "output_type": "display_data"
    }
   ],
   "source": [
    "train.columns"
   ]
  },
  {
   "cell_type": "code",
   "execution_count": 11,
   "metadata": {
    "ExecuteTime": {
     "end_time": "2020-09-19T11:39:46.463964Z",
     "start_time": "2020-09-19T11:39:46.423167Z"
    }
   },
   "outputs": [
    {
     "name": "stdout",
     "output_type": "stream",
     "text": [
      "Building tailored column\n"
     ]
    },
    {
     "name": "stderr",
     "output_type": "stream",
     "text": [
      "/work/.cache/poetry/xplainet-KS9Ipbc1-py3.7/lib/python3.7/site-packages/ipykernel_launcher.py:14: SettingWithCopyWarning: \n",
      "A value is trying to be set on a copy of a slice from a DataFrame\n",
      "\n",
      "See the caveats in the documentation: https://pandas.pydata.org/pandas-docs/stable/user_guide/indexing.html#returning-a-view-versus-a-copy\n",
      "  \n",
      "/work/.cache/poetry/xplainet-KS9Ipbc1-py3.7/lib/python3.7/site-packages/ipykernel_launcher.py:15: SettingWithCopyWarning: \n",
      "A value is trying to be set on a copy of a slice from a DataFrame\n",
      "\n",
      "See the caveats in the documentation: https://pandas.pydata.org/pandas-docs/stable/user_guide/indexing.html#returning-a-view-versus-a-copy\n",
      "  from ipykernel import kernelapp as app\n"
     ]
    },
    {
     "data": {
      "application/javascript": [
       "\n",
       "            setTimeout(function() {\n",
       "                var nbb_cell_id = 11;\n",
       "                var nbb_unformatted_code = \"if \\\"Set\\\" not in train.columns:\\n    print(\\\"Building tailored column\\\")\\n    train_valid_index, test_index = next(\\n        ShuffleSplit(n_splits=1, test_size=0.1, random_state=SEED).split(\\n            range(train[target].shape[0])\\n        )\\n    )\\n    train_index, valid_index = next(\\n        ShuffleSplit(n_splits=1, test_size=0.1, random_state=SEED).split(\\n            train_valid_index\\n        )\\n    )\\n    train[\\\"Set\\\"] = \\\"train\\\"\\n    train[\\\"Set\\\"][valid_index] = \\\"valid\\\"\\n    train[\\\"Set\\\"][test_index] = \\\"test\\\"\\n    # train.to_csv((out.parent / \\\"train_bench.csv\\\").as_posix(), index=False)\";\n",
       "                var nbb_formatted_code = \"if \\\"Set\\\" not in train.columns:\\n    print(\\\"Building tailored column\\\")\\n    train_valid_index, test_index = next(\\n        ShuffleSplit(n_splits=1, test_size=0.1, random_state=SEED).split(\\n            range(train[target].shape[0])\\n        )\\n    )\\n    train_index, valid_index = next(\\n        ShuffleSplit(n_splits=1, test_size=0.1, random_state=SEED).split(\\n            train_valid_index\\n        )\\n    )\\n    train[\\\"Set\\\"] = \\\"train\\\"\\n    train[\\\"Set\\\"][valid_index] = \\\"valid\\\"\\n    train[\\\"Set\\\"][test_index] = \\\"test\\\"\\n    # train.to_csv((out.parent / \\\"train_bench.csv\\\").as_posix(), index=False)\";\n",
       "                var nbb_cells = Jupyter.notebook.get_cells();\n",
       "                for (var i = 0; i < nbb_cells.length; ++i) {\n",
       "                    if (nbb_cells[i].input_prompt_number == nbb_cell_id) {\n",
       "                        if (nbb_cells[i].get_text() == nbb_unformatted_code) {\n",
       "                             nbb_cells[i].set_text(nbb_formatted_code);\n",
       "                        }\n",
       "                        break;\n",
       "                    }\n",
       "                }\n",
       "            }, 500);\n",
       "            "
      ],
      "text/plain": [
       "<IPython.core.display.Javascript object>"
      ]
     },
     "metadata": {},
     "output_type": "display_data"
    }
   ],
   "source": [
    "if \"Set\" not in train.columns:\n",
    "    print(\"Building tailored column\")\n",
    "    train_valid_index, test_index = next(\n",
    "        ShuffleSplit(n_splits=1, test_size=0.1, random_state=SEED).split(\n",
    "            range(train[target].shape[0])\n",
    "        )\n",
    "    )\n",
    "    train_index, valid_index = next(\n",
    "        ShuffleSplit(n_splits=1, test_size=0.1, random_state=SEED).split(\n",
    "            train_valid_index\n",
    "        )\n",
    "    )\n",
    "    train[\"Set\"] = \"train\"\n",
    "    train[\"Set\"][valid_index] = \"valid\"\n",
    "    train[\"Set\"][test_index] = \"test\"\n",
    "    # train.to_csv((out.parent / \"train_bench.csv\").as_posix(), index=False)"
   ]
  },
  {
   "cell_type": "code",
   "execution_count": 12,
   "metadata": {
    "ExecuteTime": {
     "end_time": "2020-09-19T11:39:46.491408Z",
     "start_time": "2020-09-19T11:39:46.464967Z"
    }
   },
   "outputs": [
    {
     "data": {
      "application/javascript": [
       "\n",
       "            setTimeout(function() {\n",
       "                var nbb_cell_id = 12;\n",
       "                var nbb_unformatted_code = \"train_indices = train[train.Set == \\\"train\\\"].index\\nvalid_indices = train[train.Set == \\\"valid\\\"].index\\ntest_indices = train[train.Set == \\\"test\\\"].index\";\n",
       "                var nbb_formatted_code = \"train_indices = train[train.Set == \\\"train\\\"].index\\nvalid_indices = train[train.Set == \\\"valid\\\"].index\\ntest_indices = train[train.Set == \\\"test\\\"].index\";\n",
       "                var nbb_cells = Jupyter.notebook.get_cells();\n",
       "                for (var i = 0; i < nbb_cells.length; ++i) {\n",
       "                    if (nbb_cells[i].input_prompt_number == nbb_cell_id) {\n",
       "                        if (nbb_cells[i].get_text() == nbb_unformatted_code) {\n",
       "                             nbb_cells[i].set_text(nbb_formatted_code);\n",
       "                        }\n",
       "                        break;\n",
       "                    }\n",
       "                }\n",
       "            }, 500);\n",
       "            "
      ],
      "text/plain": [
       "<IPython.core.display.Javascript object>"
      ]
     },
     "metadata": {},
     "output_type": "display_data"
    }
   ],
   "source": [
    "train_indices = train[train.Set == \"train\"].index\n",
    "valid_indices = train[train.Set == \"valid\"].index\n",
    "test_indices = train[train.Set == \"test\"].index"
   ]
  },
  {
   "cell_type": "code",
   "execution_count": 13,
   "metadata": {
    "ExecuteTime": {
     "end_time": "2020-09-19T11:39:46.709509Z",
     "start_time": "2020-09-19T11:39:46.492404Z"
    }
   },
   "outputs": [
    {
     "data": {
      "text/plain": [
       "{'constant_cols': [],\n",
       " 'bool_cols': ['Alley', 'Utilities', 'CentralAir', 'Street'],\n",
       " 'num_cols': ['BsmtFinSF1',\n",
       "  'GarageYrBlt',\n",
       "  'WoodDeckSF',\n",
       "  '1stFlrSF',\n",
       "  '2ndFlrSF',\n",
       "  'BsmtUnfSF',\n",
       "  'Id',\n",
       "  'YearBuilt',\n",
       "  'BsmtFinSF2',\n",
       "  'EnclosedPorch',\n",
       "  'GrLivArea',\n",
       "  'OpenPorchSF',\n",
       "  'MasVnrArea',\n",
       "  'GarageArea',\n",
       "  'LotArea',\n",
       "  'YearRemodAdd',\n",
       "  'LotFrontage',\n",
       "  'TotalBsmtSF',\n",
       "  'ScreenPorch'],\n",
       " 'cat_cols': ['FullBath',\n",
       "  'RoofStyle',\n",
       "  'Exterior1st',\n",
       "  'LotShape',\n",
       "  'MSSubClass',\n",
       "  'BsmtFinType1',\n",
       "  'Condition2',\n",
       "  'LandSlope',\n",
       "  'GarageCars',\n",
       "  'PoolQC',\n",
       "  'TotRmsAbvGrd',\n",
       "  'BsmtFullBath',\n",
       "  'MSZoning',\n",
       "  'HalfBath',\n",
       "  'PavedDrive',\n",
       "  'GarageFinish',\n",
       "  'Exterior2nd',\n",
       "  'LowQualFinSF',\n",
       "  'HeatingQC',\n",
       "  'MasVnrType',\n",
       "  'Neighborhood',\n",
       "  'GarageType',\n",
       "  'RoofMatl',\n",
       "  'MiscVal',\n",
       "  'Functional',\n",
       "  'HouseStyle',\n",
       "  'BsmtExposure',\n",
       "  'OverallQual',\n",
       "  'Fence',\n",
       "  'BsmtFinType2',\n",
       "  'BedroomAbvGr',\n",
       "  'GarageCond',\n",
       "  'SaleType',\n",
       "  'SaleCondition',\n",
       "  'GarageQual',\n",
       "  '3SsnPorch',\n",
       "  'Foundation',\n",
       "  'KitchenAbvGr',\n",
       "  'LandContour',\n",
       "  'FireplaceQu',\n",
       "  'BsmtCond',\n",
       "  'BldgType',\n",
       "  'Condition1',\n",
       "  'OverallCond',\n",
       "  'LotConfig',\n",
       "  'BsmtHalfBath',\n",
       "  'Heating',\n",
       "  'ExterQual',\n",
       "  'YrSold',\n",
       "  'BsmtQual',\n",
       "  'ExterCond',\n",
       "  'PoolArea',\n",
       "  'MoSold',\n",
       "  'Fireplaces',\n",
       "  'KitchenQual',\n",
       "  'MiscFeature',\n",
       "  'Electrical'],\n",
       " 'num_encoder': [FeatureUnion(transformer_list=[('fillna',\n",
       "                                  Pipeline(steps=[('fillna',\n",
       "                                                   SimpleImputer(fill_value=-43.1129026421402,\n",
       "                                                                 strategy='constant'))]))]),\n",
       "  FeatureUnion(transformer_list=[('fillna',\n",
       "                                  Pipeline(steps=[('fillna',\n",
       "                                                   SimpleImputer(fill_value=1897.5279905941616,\n",
       "                                                                 strategy='constant'))]))]),\n",
       "  FeatureUnion(transformer_list=[('fillna',\n",
       "                                  Pipeline(steps=[('fillna',\n",
       "                                                   SimpleImputer(fill_value=-12.795001854935823,\n",
       "                                                                 strategy='constant'))]))]),\n",
       "  FeatureUnion(transformer_list=[('fillna',\n",
       "                                  Pipeline(steps=[('fillna',\n",
       "                                                   SimpleImputer(fill_value=296.7612220350561,\n",
       "                                                                 strategy='constant'))]))]),\n",
       "  FeatureUnion(transformer_list=[('fillna',\n",
       "                                  Pipeline(steps=[('fillna',\n",
       "                                                   SimpleImputer(fill_value=-43.497820303265435,\n",
       "                                                                 strategy='constant'))]))]),\n",
       "  FeatureUnion(transformer_list=[('fillna',\n",
       "                                  Pipeline(steps=[('fillna',\n",
       "                                                   SimpleImputer(fill_value=-44.09528628924996,\n",
       "                                                                 strategy='constant'))]))]),\n",
       "  FeatureUnion(transformer_list=[('fillna',\n",
       "                                  Pipeline(steps=[('fillna',\n",
       "                                                   SimpleImputer(fill_value=-41.71908341967728,\n",
       "                                                                 strategy='constant'))]))]),\n",
       "  FeatureUnion(transformer_list=[('fillna',\n",
       "                                  Pipeline(steps=[('fillna',\n",
       "                                                   SimpleImputer(fill_value=1868.954615177255,\n",
       "                                                                 strategy='constant'))]))]),\n",
       "  FeatureUnion(transformer_list=[('fillna',\n",
       "                                  Pipeline(steps=[('fillna',\n",
       "                                                   SimpleImputer(fill_value=-15.897404880447732,\n",
       "                                                                 strategy='constant'))]))]),\n",
       "  FeatureUnion(transformer_list=[('fillna',\n",
       "                                  Pipeline(steps=[('fillna',\n",
       "                                                   SimpleImputer(fill_value=-6.167163845027539,\n",
       "                                                                 strategy='constant'))]))]),\n",
       "  FeatureUnion(transformer_list=[('fillna',\n",
       "                                  Pipeline(steps=[('fillna',\n",
       "                                                   SimpleImputer(fill_value=283.15217462368963,\n",
       "                                                                 strategy='constant'))]))]),\n",
       "  FeatureUnion(transformer_list=[('fillna',\n",
       "                                  Pipeline(steps=[('fillna',\n",
       "                                                   SimpleImputer(fill_value=-6.80523797796702,\n",
       "                                                                 strategy='constant'))]))]),\n",
       "  FeatureUnion(transformer_list=[('fillna',\n",
       "                                  Pipeline(steps=[('fillna',\n",
       "                                                   SimpleImputer(fill_value=-17.160058050738115,\n",
       "                                                                 strategy='constant'))]))]),\n",
       "  FeatureUnion(transformer_list=[('fillna',\n",
       "                                  Pipeline(steps=[('fillna',\n",
       "                                                   SimpleImputer(fill_value=-20.7823453175965,\n",
       "                                                                 strategy='constant'))]))]),\n",
       "  FeatureUnion(transformer_list=[('fillna',\n",
       "                                  Pipeline(steps=[('fillna',\n",
       "                                                   SimpleImputer(fill_value=234.44552984495476,\n",
       "                                                                 strategy='constant'))]))]),\n",
       "  FeatureUnion(transformer_list=[('fillna',\n",
       "                                  Pipeline(steps=[('fillna',\n",
       "                                                   SimpleImputer(fill_value=1947.9413545283148,\n",
       "                                                                 strategy='constant'))]))]),\n",
       "  FeatureUnion(transformer_list=[('fillna',\n",
       "                                  Pipeline(steps=[('fillna',\n",
       "                                                   SimpleImputer(fill_value=18.671047763804225,\n",
       "                                                                 strategy='constant'))]))]),\n",
       "  FeatureUnion(transformer_list=[('fillna',\n",
       "                                  Pipeline(steps=[('fillna',\n",
       "                                                   SimpleImputer(fill_value=-40.91787376933337,\n",
       "                                                                 strategy='constant'))]))]),\n",
       "  FeatureUnion(transformer_list=[('fillna',\n",
       "                                  Pipeline(steps=[('fillna',\n",
       "                                                   SimpleImputer(fill_value=-5.70554721646711,\n",
       "                                                                 strategy='constant'))]))])],\n",
       " 'bool_encoder': [SafeLabelEncoder(),\n",
       "  SafeLabelEncoder(),\n",
       "  SafeLabelEncoder(),\n",
       "  SafeLabelEncoder()],\n",
       " 'max_nb': 26,\n",
       " 'cat_encoder': [SafeLabelEncoder(),\n",
       "  SafeLabelEncoder(),\n",
       "  SafeLabelEncoder(),\n",
       "  SafeLabelEncoder(),\n",
       "  SafeLabelEncoder(),\n",
       "  SafeLabelEncoder(),\n",
       "  SafeLabelEncoder(),\n",
       "  SafeLabelEncoder(),\n",
       "  SafeLabelEncoder(),\n",
       "  SafeLabelEncoder(),\n",
       "  SafeLabelEncoder(),\n",
       "  SafeLabelEncoder(),\n",
       "  SafeLabelEncoder(),\n",
       "  SafeLabelEncoder(),\n",
       "  SafeLabelEncoder(),\n",
       "  SafeLabelEncoder(),\n",
       "  SafeLabelEncoder(),\n",
       "  SafeLabelEncoder(),\n",
       "  SafeLabelEncoder(),\n",
       "  SafeLabelEncoder(),\n",
       "  SafeLabelEncoder(),\n",
       "  SafeLabelEncoder(),\n",
       "  SafeLabelEncoder(),\n",
       "  SafeLabelEncoder(),\n",
       "  SafeLabelEncoder(),\n",
       "  SafeLabelEncoder(),\n",
       "  SafeLabelEncoder(),\n",
       "  SafeLabelEncoder(),\n",
       "  SafeLabelEncoder(),\n",
       "  SafeLabelEncoder(),\n",
       "  SafeLabelEncoder(),\n",
       "  SafeLabelEncoder(),\n",
       "  SafeLabelEncoder(),\n",
       "  SafeLabelEncoder(),\n",
       "  SafeLabelEncoder(),\n",
       "  SafeLabelEncoder(),\n",
       "  SafeLabelEncoder(),\n",
       "  SafeLabelEncoder(),\n",
       "  SafeLabelEncoder(),\n",
       "  SafeLabelEncoder(),\n",
       "  SafeLabelEncoder(),\n",
       "  SafeLabelEncoder(),\n",
       "  SafeLabelEncoder(),\n",
       "  SafeLabelEncoder(),\n",
       "  SafeLabelEncoder(),\n",
       "  SafeLabelEncoder(),\n",
       "  SafeLabelEncoder(),\n",
       "  SafeLabelEncoder(),\n",
       "  SafeLabelEncoder(),\n",
       "  SafeLabelEncoder(),\n",
       "  SafeLabelEncoder(),\n",
       "  SafeLabelEncoder(),\n",
       "  SafeLabelEncoder(),\n",
       "  SafeLabelEncoder(),\n",
       "  SafeLabelEncoder(),\n",
       "  SafeLabelEncoder(),\n",
       "  SafeLabelEncoder()]}"
      ]
     },
     "execution_count": 13,
     "metadata": {},
     "output_type": "execute_result"
    },
    {
     "data": {
      "application/javascript": [
       "\n",
       "            setTimeout(function() {\n",
       "                var nbb_cell_id = 13;\n",
       "                var nbb_unformatted_code = \"input_train, params = preproc_dataset(train.loc[train_indices], target, [\\\"Set\\\"])\\nparams\";\n",
       "                var nbb_formatted_code = \"input_train, params = preproc_dataset(train.loc[train_indices], target, [\\\"Set\\\"])\\nparams\";\n",
       "                var nbb_cells = Jupyter.notebook.get_cells();\n",
       "                for (var i = 0; i < nbb_cells.length; ++i) {\n",
       "                    if (nbb_cells[i].input_prompt_number == nbb_cell_id) {\n",
       "                        if (nbb_cells[i].get_text() == nbb_unformatted_code) {\n",
       "                             nbb_cells[i].set_text(nbb_formatted_code);\n",
       "                        }\n",
       "                        break;\n",
       "                    }\n",
       "                }\n",
       "            }, 500);\n",
       "            "
      ],
      "text/plain": [
       "<IPython.core.display.Javascript object>"
      ]
     },
     "metadata": {},
     "output_type": "display_data"
    }
   ],
   "source": [
    "input_train, params = preproc_dataset(train.loc[train_indices], target, [\"Set\"])\n",
    "params"
   ]
  },
  {
   "cell_type": "code",
   "execution_count": 14,
   "metadata": {
    "ExecuteTime": {
     "end_time": "2020-09-19T11:39:46.731676Z",
     "start_time": "2020-09-19T11:39:46.710342Z"
    }
   },
   "outputs": [
    {
     "data": {
      "text/plain": [
       "1219"
      ]
     },
     "execution_count": 14,
     "metadata": {},
     "output_type": "execute_result"
    },
    {
     "data": {
      "application/javascript": [
       "\n",
       "            setTimeout(function() {\n",
       "                var nbb_cell_id = 14;\n",
       "                var nbb_unformatted_code = \"len(train_indices)\";\n",
       "                var nbb_formatted_code = \"len(train_indices)\";\n",
       "                var nbb_cells = Jupyter.notebook.get_cells();\n",
       "                for (var i = 0; i < nbb_cells.length; ++i) {\n",
       "                    if (nbb_cells[i].input_prompt_number == nbb_cell_id) {\n",
       "                        if (nbb_cells[i].get_text() == nbb_unformatted_code) {\n",
       "                             nbb_cells[i].set_text(nbb_formatted_code);\n",
       "                        }\n",
       "                        break;\n",
       "                    }\n",
       "                }\n",
       "            }, 500);\n",
       "            "
      ],
      "text/plain": [
       "<IPython.core.display.Javascript object>"
      ]
     },
     "metadata": {},
     "output_type": "display_data"
    }
   ],
   "source": [
    "len(train_indices)"
   ]
  },
  {
   "cell_type": "code",
   "execution_count": 15,
   "metadata": {
    "ExecuteTime": {
     "end_time": "2020-09-19T11:39:46.786197Z",
     "start_time": "2020-09-19T11:39:46.732580Z"
    }
   },
   "outputs": [
    {
     "data": {
      "application/javascript": [
       "\n",
       "            setTimeout(function() {\n",
       "                var nbb_cell_id = 15;\n",
       "                var nbb_unformatted_code = \"input_valid, _ = preproc_dataset(train.loc[valid_indices], target, [\\\"Set\\\"], params)\\ninput_test, _ = preproc_dataset(train.loc[test_indices], target, [\\\"Set\\\"], params)\";\n",
       "                var nbb_formatted_code = \"input_valid, _ = preproc_dataset(train.loc[valid_indices], target, [\\\"Set\\\"], params)\\ninput_test, _ = preproc_dataset(train.loc[test_indices], target, [\\\"Set\\\"], params)\";\n",
       "                var nbb_cells = Jupyter.notebook.get_cells();\n",
       "                for (var i = 0; i < nbb_cells.length; ++i) {\n",
       "                    if (nbb_cells[i].input_prompt_number == nbb_cell_id) {\n",
       "                        if (nbb_cells[i].get_text() == nbb_unformatted_code) {\n",
       "                             nbb_cells[i].set_text(nbb_formatted_code);\n",
       "                        }\n",
       "                        break;\n",
       "                    }\n",
       "                }\n",
       "            }, 500);\n",
       "            "
      ],
      "text/plain": [
       "<IPython.core.display.Javascript object>"
      ]
     },
     "metadata": {},
     "output_type": "display_data"
    }
   ],
   "source": [
    "input_valid, _ = preproc_dataset(train.loc[valid_indices], target, [\"Set\"], params)\n",
    "input_test, _ = preproc_dataset(train.loc[test_indices], target, [\"Set\"], params)"
   ]
  },
  {
   "cell_type": "code",
   "execution_count": 16,
   "metadata": {
    "ExecuteTime": {
     "end_time": "2020-09-19T11:39:46.808136Z",
     "start_time": "2020-09-19T11:39:46.787135Z"
    }
   },
   "outputs": [
    {
     "data": {
      "application/javascript": [
       "\n",
       "            setTimeout(function() {\n",
       "                var nbb_cell_id = 16;\n",
       "                var nbb_unformatted_code = \"target_encoder = StandardScaler()\";\n",
       "                var nbb_formatted_code = \"target_encoder = StandardScaler()\";\n",
       "                var nbb_cells = Jupyter.notebook.get_cells();\n",
       "                for (var i = 0; i < nbb_cells.length; ++i) {\n",
       "                    if (nbb_cells[i].input_prompt_number == nbb_cell_id) {\n",
       "                        if (nbb_cells[i].get_text() == nbb_unformatted_code) {\n",
       "                             nbb_cells[i].set_text(nbb_formatted_code);\n",
       "                        }\n",
       "                        break;\n",
       "                    }\n",
       "                }\n",
       "            }, 500);\n",
       "            "
      ],
      "text/plain": [
       "<IPython.core.display.Javascript object>"
      ]
     },
     "metadata": {},
     "output_type": "display_data"
    }
   ],
   "source": [
    "target_encoder = StandardScaler()"
   ]
  },
  {
   "cell_type": "code",
   "execution_count": 17,
   "metadata": {
    "ExecuteTime": {
     "end_time": "2020-09-19T11:39:46.835476Z",
     "start_time": "2020-09-19T11:39:46.809116Z"
    }
   },
   "outputs": [
    {
     "data": {
      "application/javascript": [
       "\n",
       "            setTimeout(function() {\n",
       "                var nbb_cell_id = 17;\n",
       "                var nbb_unformatted_code = \"target_encoder.fit(train[target].values.reshape(-1, 1))\\ny_train = target_encoder.transform(train[target].values[train_indices].reshape(-1, 1))\\ny_valid = target_encoder.transform(train[target].values[valid_indices].reshape(-1, 1))\\ny_test = target_encoder.transform(train[target].values[test_indices].reshape(-1, 1))\";\n",
       "                var nbb_formatted_code = \"target_encoder.fit(train[target].values.reshape(-1, 1))\\ny_train = target_encoder.transform(train[target].values[train_indices].reshape(-1, 1))\\ny_valid = target_encoder.transform(train[target].values[valid_indices].reshape(-1, 1))\\ny_test = target_encoder.transform(train[target].values[test_indices].reshape(-1, 1))\";\n",
       "                var nbb_cells = Jupyter.notebook.get_cells();\n",
       "                for (var i = 0; i < nbb_cells.length; ++i) {\n",
       "                    if (nbb_cells[i].input_prompt_number == nbb_cell_id) {\n",
       "                        if (nbb_cells[i].get_text() == nbb_unformatted_code) {\n",
       "                             nbb_cells[i].set_text(nbb_formatted_code);\n",
       "                        }\n",
       "                        break;\n",
       "                    }\n",
       "                }\n",
       "            }, 500);\n",
       "            "
      ],
      "text/plain": [
       "<IPython.core.display.Javascript object>"
      ]
     },
     "metadata": {},
     "output_type": "display_data"
    }
   ],
   "source": [
    "target_encoder.fit(train[target].values.reshape(-1, 1))\n",
    "y_train = target_encoder.transform(train[target].values[train_indices].reshape(-1, 1))\n",
    "y_valid = target_encoder.transform(train[target].values[valid_indices].reshape(-1, 1))\n",
    "y_test = target_encoder.transform(train[target].values[test_indices].reshape(-1, 1))"
   ]
  },
  {
   "cell_type": "code",
   "execution_count": 18,
   "metadata": {
    "ExecuteTime": {
     "end_time": "2020-09-19T11:39:46.984920Z",
     "start_time": "2020-09-19T11:39:46.836415Z"
    }
   },
   "outputs": [
    {
     "data": {
      "text/plain": [
       "{'constant_cols': [],\n",
       " 'bool_cols': ['Alley', 'Utilities', 'CentralAir', 'Street'],\n",
       " 'num_cols': ['BsmtFinSF1',\n",
       "  'GarageYrBlt',\n",
       "  'WoodDeckSF',\n",
       "  '1stFlrSF',\n",
       "  '2ndFlrSF',\n",
       "  'BsmtUnfSF',\n",
       "  'Id',\n",
       "  'YearBuilt',\n",
       "  'BsmtFinSF2',\n",
       "  'EnclosedPorch',\n",
       "  'GrLivArea',\n",
       "  'OpenPorchSF',\n",
       "  'MasVnrArea',\n",
       "  'GarageArea',\n",
       "  'LotArea',\n",
       "  'YearRemodAdd',\n",
       "  'LotFrontage',\n",
       "  'TotalBsmtSF',\n",
       "  'ScreenPorch'],\n",
       " 'cat_cols': ['FullBath',\n",
       "  'RoofStyle',\n",
       "  'Exterior1st',\n",
       "  'LotShape',\n",
       "  'MSSubClass',\n",
       "  'BsmtFinType1',\n",
       "  'Condition2',\n",
       "  'LandSlope',\n",
       "  'GarageCars',\n",
       "  'PoolQC',\n",
       "  'TotRmsAbvGrd',\n",
       "  'BsmtFullBath',\n",
       "  'MSZoning',\n",
       "  'HalfBath',\n",
       "  'PavedDrive',\n",
       "  'GarageFinish',\n",
       "  'Exterior2nd',\n",
       "  'LowQualFinSF',\n",
       "  'HeatingQC',\n",
       "  'MasVnrType',\n",
       "  'Neighborhood',\n",
       "  'GarageType',\n",
       "  'RoofMatl',\n",
       "  'MiscVal',\n",
       "  'Functional',\n",
       "  'HouseStyle',\n",
       "  'BsmtExposure',\n",
       "  'OverallQual',\n",
       "  'Fence',\n",
       "  'BsmtFinType2',\n",
       "  'BedroomAbvGr',\n",
       "  'GarageCond',\n",
       "  'SaleType',\n",
       "  'SaleCondition',\n",
       "  'GarageQual',\n",
       "  '3SsnPorch',\n",
       "  'Foundation',\n",
       "  'KitchenAbvGr',\n",
       "  'LandContour',\n",
       "  'FireplaceQu',\n",
       "  'BsmtCond',\n",
       "  'BldgType',\n",
       "  'Condition1',\n",
       "  'OverallCond',\n",
       "  'LotConfig',\n",
       "  'BsmtHalfBath',\n",
       "  'Heating',\n",
       "  'ExterQual',\n",
       "  'YrSold',\n",
       "  'BsmtQual',\n",
       "  'ExterCond',\n",
       "  'PoolArea',\n",
       "  'MoSold',\n",
       "  'Fireplaces',\n",
       "  'KitchenQual',\n",
       "  'MiscFeature',\n",
       "  'Electrical'],\n",
       " 'num_encoder': [FeatureUnion(transformer_list=[('fillna',\n",
       "                                  Pipeline(steps=[('fillna',\n",
       "                                                   SimpleImputer(fill_value=-43.1129026421402,\n",
       "                                                                 strategy='constant'))]))]),\n",
       "  FeatureUnion(transformer_list=[('fillna',\n",
       "                                  Pipeline(steps=[('fillna',\n",
       "                                                   SimpleImputer(fill_value=1897.5279905941616,\n",
       "                                                                 strategy='constant'))]))]),\n",
       "  FeatureUnion(transformer_list=[('fillna',\n",
       "                                  Pipeline(steps=[('fillna',\n",
       "                                                   SimpleImputer(fill_value=-12.795001854935823,\n",
       "                                                                 strategy='constant'))]))]),\n",
       "  FeatureUnion(transformer_list=[('fillna',\n",
       "                                  Pipeline(steps=[('fillna',\n",
       "                                                   SimpleImputer(fill_value=296.7612220350561,\n",
       "                                                                 strategy='constant'))]))]),\n",
       "  FeatureUnion(transformer_list=[('fillna',\n",
       "                                  Pipeline(steps=[('fillna',\n",
       "                                                   SimpleImputer(fill_value=-43.497820303265435,\n",
       "                                                                 strategy='constant'))]))]),\n",
       "  FeatureUnion(transformer_list=[('fillna',\n",
       "                                  Pipeline(steps=[('fillna',\n",
       "                                                   SimpleImputer(fill_value=-44.09528628924996,\n",
       "                                                                 strategy='constant'))]))]),\n",
       "  FeatureUnion(transformer_list=[('fillna',\n",
       "                                  Pipeline(steps=[('fillna',\n",
       "                                                   SimpleImputer(fill_value=-41.71908341967728,\n",
       "                                                                 strategy='constant'))]))]),\n",
       "  FeatureUnion(transformer_list=[('fillna',\n",
       "                                  Pipeline(steps=[('fillna',\n",
       "                                                   SimpleImputer(fill_value=1868.954615177255,\n",
       "                                                                 strategy='constant'))]))]),\n",
       "  FeatureUnion(transformer_list=[('fillna',\n",
       "                                  Pipeline(steps=[('fillna',\n",
       "                                                   SimpleImputer(fill_value=-15.897404880447732,\n",
       "                                                                 strategy='constant'))]))]),\n",
       "  FeatureUnion(transformer_list=[('fillna',\n",
       "                                  Pipeline(steps=[('fillna',\n",
       "                                                   SimpleImputer(fill_value=-6.167163845027539,\n",
       "                                                                 strategy='constant'))]))]),\n",
       "  FeatureUnion(transformer_list=[('fillna',\n",
       "                                  Pipeline(steps=[('fillna',\n",
       "                                                   SimpleImputer(fill_value=283.15217462368963,\n",
       "                                                                 strategy='constant'))]))]),\n",
       "  FeatureUnion(transformer_list=[('fillna',\n",
       "                                  Pipeline(steps=[('fillna',\n",
       "                                                   SimpleImputer(fill_value=-6.80523797796702,\n",
       "                                                                 strategy='constant'))]))]),\n",
       "  FeatureUnion(transformer_list=[('fillna',\n",
       "                                  Pipeline(steps=[('fillna',\n",
       "                                                   SimpleImputer(fill_value=-17.160058050738115,\n",
       "                                                                 strategy='constant'))]))]),\n",
       "  FeatureUnion(transformer_list=[('fillna',\n",
       "                                  Pipeline(steps=[('fillna',\n",
       "                                                   SimpleImputer(fill_value=-20.7823453175965,\n",
       "                                                                 strategy='constant'))]))]),\n",
       "  FeatureUnion(transformer_list=[('fillna',\n",
       "                                  Pipeline(steps=[('fillna',\n",
       "                                                   SimpleImputer(fill_value=234.44552984495476,\n",
       "                                                                 strategy='constant'))]))]),\n",
       "  FeatureUnion(transformer_list=[('fillna',\n",
       "                                  Pipeline(steps=[('fillna',\n",
       "                                                   SimpleImputer(fill_value=1947.9413545283148,\n",
       "                                                                 strategy='constant'))]))]),\n",
       "  FeatureUnion(transformer_list=[('fillna',\n",
       "                                  Pipeline(steps=[('fillna',\n",
       "                                                   SimpleImputer(fill_value=18.671047763804225,\n",
       "                                                                 strategy='constant'))]))]),\n",
       "  FeatureUnion(transformer_list=[('fillna',\n",
       "                                  Pipeline(steps=[('fillna',\n",
       "                                                   SimpleImputer(fill_value=-40.91787376933337,\n",
       "                                                                 strategy='constant'))]))]),\n",
       "  FeatureUnion(transformer_list=[('fillna',\n",
       "                                  Pipeline(steps=[('fillna',\n",
       "                                                   SimpleImputer(fill_value=-5.70554721646711,\n",
       "                                                                 strategy='constant'))]))])],\n",
       " 'bool_encoder': [SafeLabelEncoder(),\n",
       "  SafeLabelEncoder(),\n",
       "  SafeLabelEncoder(),\n",
       "  SafeLabelEncoder()],\n",
       " 'max_nb': 26,\n",
       " 'cat_encoder': [SafeLabelEncoder(),\n",
       "  SafeLabelEncoder(),\n",
       "  SafeLabelEncoder(),\n",
       "  SafeLabelEncoder(),\n",
       "  SafeLabelEncoder(),\n",
       "  SafeLabelEncoder(),\n",
       "  SafeLabelEncoder(),\n",
       "  SafeLabelEncoder(),\n",
       "  SafeLabelEncoder(),\n",
       "  SafeLabelEncoder(),\n",
       "  SafeLabelEncoder(),\n",
       "  SafeLabelEncoder(),\n",
       "  SafeLabelEncoder(),\n",
       "  SafeLabelEncoder(),\n",
       "  SafeLabelEncoder(),\n",
       "  SafeLabelEncoder(),\n",
       "  SafeLabelEncoder(),\n",
       "  SafeLabelEncoder(),\n",
       "  SafeLabelEncoder(),\n",
       "  SafeLabelEncoder(),\n",
       "  SafeLabelEncoder(),\n",
       "  SafeLabelEncoder(),\n",
       "  SafeLabelEncoder(),\n",
       "  SafeLabelEncoder(),\n",
       "  SafeLabelEncoder(),\n",
       "  SafeLabelEncoder(),\n",
       "  SafeLabelEncoder(),\n",
       "  SafeLabelEncoder(),\n",
       "  SafeLabelEncoder(),\n",
       "  SafeLabelEncoder(),\n",
       "  SafeLabelEncoder(),\n",
       "  SafeLabelEncoder(),\n",
       "  SafeLabelEncoder(),\n",
       "  SafeLabelEncoder(),\n",
       "  SafeLabelEncoder(),\n",
       "  SafeLabelEncoder(),\n",
       "  SafeLabelEncoder(),\n",
       "  SafeLabelEncoder(),\n",
       "  SafeLabelEncoder(),\n",
       "  SafeLabelEncoder(),\n",
       "  SafeLabelEncoder(),\n",
       "  SafeLabelEncoder(),\n",
       "  SafeLabelEncoder(),\n",
       "  SafeLabelEncoder(),\n",
       "  SafeLabelEncoder(),\n",
       "  SafeLabelEncoder(),\n",
       "  SafeLabelEncoder(),\n",
       "  SafeLabelEncoder(),\n",
       "  SafeLabelEncoder(),\n",
       "  SafeLabelEncoder(),\n",
       "  SafeLabelEncoder(),\n",
       "  SafeLabelEncoder(),\n",
       "  SafeLabelEncoder(),\n",
       "  SafeLabelEncoder(),\n",
       "  SafeLabelEncoder(),\n",
       "  SafeLabelEncoder(),\n",
       "  SafeLabelEncoder()]}"
      ]
     },
     "execution_count": 18,
     "metadata": {},
     "output_type": "execute_result"
    },
    {
     "data": {
      "application/javascript": [
       "\n",
       "            setTimeout(function() {\n",
       "                var nbb_cell_id = 18;\n",
       "                var nbb_unformatted_code = \"params\";\n",
       "                var nbb_formatted_code = \"params\";\n",
       "                var nbb_cells = Jupyter.notebook.get_cells();\n",
       "                for (var i = 0; i < nbb_cells.length; ++i) {\n",
       "                    if (nbb_cells[i].input_prompt_number == nbb_cell_id) {\n",
       "                        if (nbb_cells[i].get_text() == nbb_unformatted_code) {\n",
       "                             nbb_cells[i].set_text(nbb_formatted_code);\n",
       "                        }\n",
       "                        break;\n",
       "                    }\n",
       "                }\n",
       "            }, 500);\n",
       "            "
      ],
      "text/plain": [
       "<IPython.core.display.Javascript object>"
      ]
     },
     "metadata": {},
     "output_type": "display_data"
    }
   ],
   "source": [
    "params"
   ]
  },
  {
   "cell_type": "code",
   "execution_count": 19,
   "metadata": {
    "ExecuteTime": {
     "end_time": "2020-09-19T11:39:47.270016Z",
     "start_time": "2020-09-19T11:39:46.985843Z"
    }
   },
   "outputs": [
    {
     "name": "stderr",
     "output_type": "stream",
     "text": [
      "/work/.cache/poetry/xplainet-KS9Ipbc1-py3.7/lib/python3.7/site-packages/tensorflow_addons/options.py:47: RuntimeWarning: Traceback (most recent call last):\n",
      "  File \"/work/.cache/poetry/xplainet-KS9Ipbc1-py3.7/lib/python3.7/site-packages/tensorflow_addons/activations/mish.py\", line 44, in mish\n",
      "    return _mish_custom_op(x)\n",
      "  File \"/work/.cache/poetry/xplainet-KS9Ipbc1-py3.7/lib/python3.7/site-packages/tensorflow_addons/activations/mish.py\", line 59, in _mish_custom_op\n",
      "    return _activation_so.ops.addons_mish(x)\n",
      "  File \"/work/.cache/poetry/xplainet-KS9Ipbc1-py3.7/lib/python3.7/site-packages/tensorflow_addons/utils/resource_loader.py\", line 64, in ops\n",
      "    self._ops = tf.load_op_library(get_path_to_datafile(self.relative_path))\n",
      "  File \"/work/.cache/poetry/xplainet-KS9Ipbc1-py3.7/lib/python3.7/site-packages/tensorflow/python/framework/load_library.py\", line 58, in load_op_library\n",
      "    lib_handle = py_tf.TF_LoadLibrary(library_filename)\n",
      "tensorflow.python.framework.errors_impl.NotFoundError: /work/.cache/poetry/xplainet-KS9Ipbc1-py3.7/lib/python3.7/site-packages/tensorflow_addons/custom_ops/activations/_activation_ops.so: undefined symbol: _ZN10tensorflow20OpKernelConstruction14MatchSignatureEN4absl14lts_2020_02_254SpanIKNS_8DataTypeEEES6_\n",
      "\n",
      "\n",
      "The mish C++/CUDA custom op could not be loaded.\n",
      "For this reason, Addons will fallback to an implementation written\n",
      "in Python with public TensorFlow ops. There worst you might experience with\n",
      "this is a moderate slowdown on GPU. There can be multiple\n",
      "reason for this loading error, one of them may be an ABI incompatibility between\n",
      "the TensorFlow installed on your system and the TensorFlow used to compile\n",
      "TensorFlow Addons' custom ops. The stacktrace generated when loading the\n",
      "shared object file was displayed above.\n",
      "\n",
      "If you want this warning to disappear, either make sure the TensorFlow installed\n",
      "is compatible with this version of Addons, or tell TensorFlow Addons to\n",
      "prefer using Python implementations and not custom C++/CUDA ones. You can do that\n",
      "by changing the TF_ADDONS_PY_OPS flag\n",
      "either with the environment variable:\n",
      "```bash\n",
      "TF_ADDONS_PY_OPS=1 python my_script.py\n",
      "```\n",
      "or in your code, after your imports:\n",
      "```python\n",
      "import tensorflow_addons as tfa\n",
      "import ...\n",
      "import ...\n",
      "\n",
      "tfa.options.TF_ADDONS_PY_OPS = True\n",
      "```\n",
      "\n",
      "  warnings.warn(warning_msg, RuntimeWarning)\n"
     ]
    },
    {
     "data": {
      "application/javascript": [
       "\n",
       "            setTimeout(function() {\n",
       "                var nbb_cell_id = 19;\n",
       "                var nbb_unformatted_code = \"model = build_model(\\n    params,\\n    lconv_dim=[4],\\n    lconv_num_dim=[8],\\n    emb_size=16,\\n    # For this problem, we need \\\"tanh\\\" as first layer, or else to standard scale the data beforehand\\n    activation_num_first_layer=\\\"tanh\\\",\\n    output_activation=None,\\n    output_dim=1,  # np.unique(y_train).shape[0],\\n)\";\n",
       "                var nbb_formatted_code = \"model = build_model(\\n    params,\\n    lconv_dim=[4],\\n    lconv_num_dim=[8],\\n    emb_size=16,\\n    # For this problem, we need \\\"tanh\\\" as first layer, or else to standard scale the data beforehand\\n    activation_num_first_layer=\\\"tanh\\\",\\n    output_activation=None,\\n    output_dim=1,  # np.unique(y_train).shape[0],\\n)\";\n",
       "                var nbb_cells = Jupyter.notebook.get_cells();\n",
       "                for (var i = 0; i < nbb_cells.length; ++i) {\n",
       "                    if (nbb_cells[i].input_prompt_number == nbb_cell_id) {\n",
       "                        if (nbb_cells[i].get_text() == nbb_unformatted_code) {\n",
       "                             nbb_cells[i].set_text(nbb_formatted_code);\n",
       "                        }\n",
       "                        break;\n",
       "                    }\n",
       "                }\n",
       "            }, 500);\n",
       "            "
      ],
      "text/plain": [
       "<IPython.core.display.Javascript object>"
      ]
     },
     "metadata": {},
     "output_type": "display_data"
    }
   ],
   "source": [
    "model = build_model(\n",
    "    params,\n",
    "    lconv_dim=[4],\n",
    "    lconv_num_dim=[8],\n",
    "    emb_size=16,\n",
    "    # For this problem, we need \"tanh\" as first layer, or else to standard scale the data beforehand\n",
    "    activation_num_first_layer=\"tanh\",\n",
    "    output_activation=None,\n",
    "    output_dim=1,  # np.unique(y_train).shape[0],\n",
    ")"
   ]
  },
  {
   "cell_type": "code",
   "execution_count": 20,
   "metadata": {
    "ExecuteTime": {
     "end_time": "2020-09-19T11:39:47.296829Z",
     "start_time": "2020-09-19T11:39:47.271081Z"
    }
   },
   "outputs": [
    {
     "name": "stdout",
     "output_type": "stream",
     "text": [
      "Model: \"explainable_model\"\n",
      "__________________________________________________________________________________________________\n",
      "Layer (type)                    Output Shape         Param #     Connected to                     \n",
      "==================================================================================================\n",
      "input_num (InputLayer)          [(None, 19)]         0                                            \n",
      "__________________________________________________________________________________________________\n",
      "input_cat (InputLayer)          [(None, 57)]         0                                            \n",
      "__________________________________________________________________________________________________\n",
      "reshape_num_input (Reshape)     (None, 19, 1)        0           input_num[0][0]                  \n",
      "__________________________________________________________________________________________________\n",
      "large_emb (Embedding)           (None, 57, 16)       432         input_cat[0][0]                  \n",
      "__________________________________________________________________________________________________\n",
      "block_num_0_conv (LocallyConnec (None, 19, 8)        152         reshape_num_input[0][0]          \n",
      "__________________________________________________________________________________________________\n",
      "block_cat_0_conv (LocallyConnec (None, 57, 4)        3648        large_emb[0][0]                  \n",
      "__________________________________________________________________________________________________\n",
      "block_num_0_activation (Activat (None, 19, 8)        0           block_num_0_conv[0][0]           \n",
      "__________________________________________________________________________________________________\n",
      "block_cat_0_activation (Activat (None, 57, 4)        0           block_cat_0_conv[0][0]           \n",
      "__________________________________________________________________________________________________\n",
      "input_bool (InputLayer)         [(None, 4)]          0                                            \n",
      "__________________________________________________________________________________________________\n",
      "reshape_num_output (Reshape)    (None, 152)          0           block_num_0_activation[0][0]     \n",
      "__________________________________________________________________________________________________\n",
      "reshape_cat_output (Reshape)    (None, 228)          0           block_cat_0_activation[0][0]     \n",
      "__________________________________________________________________________________________________\n",
      "concatenate (Concatenate)       (None, 384)          0           input_bool[0][0]                 \n",
      "                                                                 reshape_num_output[0][0]         \n",
      "                                                                 reshape_cat_output[0][0]         \n",
      "__________________________________________________________________________________________________\n",
      "output (Dense)                  (None, 1)            385         concatenate[0][0]                \n",
      "==================================================================================================\n",
      "Total params: 4,617\n",
      "Trainable params: 4,617\n",
      "Non-trainable params: 0\n",
      "__________________________________________________________________________________________________\n"
     ]
    },
    {
     "data": {
      "application/javascript": [
       "\n",
       "            setTimeout(function() {\n",
       "                var nbb_cell_id = 20;\n",
       "                var nbb_unformatted_code = \"model.summary()\";\n",
       "                var nbb_formatted_code = \"model.summary()\";\n",
       "                var nbb_cells = Jupyter.notebook.get_cells();\n",
       "                for (var i = 0; i < nbb_cells.length; ++i) {\n",
       "                    if (nbb_cells[i].input_prompt_number == nbb_cell_id) {\n",
       "                        if (nbb_cells[i].get_text() == nbb_unformatted_code) {\n",
       "                             nbb_cells[i].set_text(nbb_formatted_code);\n",
       "                        }\n",
       "                        break;\n",
       "                    }\n",
       "                }\n",
       "            }, 500);\n",
       "            "
      ],
      "text/plain": [
       "<IPython.core.display.Javascript object>"
      ]
     },
     "metadata": {},
     "output_type": "display_data"
    }
   ],
   "source": [
    "model.summary()"
   ]
  },
  {
   "cell_type": "code",
   "execution_count": 21,
   "metadata": {
    "ExecuteTime": {
     "end_time": "2020-09-19T11:39:47.319329Z",
     "start_time": "2020-09-19T11:39:47.297855Z"
    }
   },
   "outputs": [
    {
     "data": {
      "application/javascript": [
       "\n",
       "            setTimeout(function() {\n",
       "                var nbb_cell_id = 21;\n",
       "                var nbb_unformatted_code = \"#!pip install pydot graphviz\";\n",
       "                var nbb_formatted_code = \"#!pip install pydot graphviz\";\n",
       "                var nbb_cells = Jupyter.notebook.get_cells();\n",
       "                for (var i = 0; i < nbb_cells.length; ++i) {\n",
       "                    if (nbb_cells[i].input_prompt_number == nbb_cell_id) {\n",
       "                        if (nbb_cells[i].get_text() == nbb_unformatted_code) {\n",
       "                             nbb_cells[i].set_text(nbb_formatted_code);\n",
       "                        }\n",
       "                        break;\n",
       "                    }\n",
       "                }\n",
       "            }, 500);\n",
       "            "
      ],
      "text/plain": [
       "<IPython.core.display.Javascript object>"
      ]
     },
     "metadata": {},
     "output_type": "display_data"
    }
   ],
   "source": [
    "#!pip install pydot graphviz"
   ]
  },
  {
   "cell_type": "code",
   "execution_count": 22,
   "metadata": {
    "ExecuteTime": {
     "end_time": "2020-09-19T11:39:47.472697Z",
     "start_time": "2020-09-19T11:39:47.320221Z"
    }
   },
   "outputs": [
    {
     "data": {
      "image/png": "[encoded data removed]",
      "text/plain": [
       "<IPython.core.display.Image object>"
      ]
     },
     "execution_count": 22,
     "metadata": {},
     "output_type": "execute_result"
    },
    {
     "data": {
      "application/javascript": [
       "\n",
       "            setTimeout(function() {\n",
       "                var nbb_cell_id = 22;\n",
       "                var nbb_unformatted_code = \"plot_model(\\n    model,\\n    # to_file=\\\"model.png\\\",\\n    show_shapes=True,\\n    show_layer_names=True,\\n    rankdir=\\\"TB\\\",\\n    expand_nested=False,\\n    dpi=96,\\n)\";\n",
       "                var nbb_formatted_code = \"plot_model(\\n    model,\\n    # to_file=\\\"model.png\\\",\\n    show_shapes=True,\\n    show_layer_names=True,\\n    rankdir=\\\"TB\\\",\\n    expand_nested=False,\\n    dpi=96,\\n)\";\n",
       "                var nbb_cells = Jupyter.notebook.get_cells();\n",
       "                for (var i = 0; i < nbb_cells.length; ++i) {\n",
       "                    if (nbb_cells[i].input_prompt_number == nbb_cell_id) {\n",
       "                        if (nbb_cells[i].get_text() == nbb_unformatted_code) {\n",
       "                             nbb_cells[i].set_text(nbb_formatted_code);\n",
       "                        }\n",
       "                        break;\n",
       "                    }\n",
       "                }\n",
       "            }, 500);\n",
       "            "
      ],
      "text/plain": [
       "<IPython.core.display.Javascript object>"
      ]
     },
     "metadata": {},
     "output_type": "display_data"
    }
   ],
   "source": [
    "plot_model(\n",
    "    model,\n",
    "    # to_file=\"model.png\",\n",
    "    show_shapes=True,\n",
    "    show_layer_names=True,\n",
    "    rankdir=\"TB\",\n",
    "    expand_nested=False,\n",
    "    dpi=96,\n",
    ")"
   ]
  },
  {
   "cell_type": "code",
   "execution_count": 23,
   "metadata": {
    "ExecuteTime": {
     "end_time": "2020-09-19T11:39:47.500601Z",
     "start_time": "2020-09-19T11:39:47.475959Z"
    }
   },
   "outputs": [
    {
     "data": {
      "text/plain": [
       "(1219, 1)"
      ]
     },
     "execution_count": 23,
     "metadata": {},
     "output_type": "execute_result"
    },
    {
     "data": {
      "application/javascript": [
       "\n",
       "            setTimeout(function() {\n",
       "                var nbb_cell_id = 23;\n",
       "                var nbb_unformatted_code = \"y_train.shape\";\n",
       "                var nbb_formatted_code = \"y_train.shape\";\n",
       "                var nbb_cells = Jupyter.notebook.get_cells();\n",
       "                for (var i = 0; i < nbb_cells.length; ++i) {\n",
       "                    if (nbb_cells[i].input_prompt_number == nbb_cell_id) {\n",
       "                        if (nbb_cells[i].get_text() == nbb_unformatted_code) {\n",
       "                             nbb_cells[i].set_text(nbb_formatted_code);\n",
       "                        }\n",
       "                        break;\n",
       "                    }\n",
       "                }\n",
       "            }, 500);\n",
       "            "
      ],
      "text/plain": [
       "<IPython.core.display.Javascript object>"
      ]
     },
     "metadata": {},
     "output_type": "display_data"
    }
   ],
   "source": [
    "y_train.shape"
   ]
  },
  {
   "cell_type": "code",
   "execution_count": 24,
   "metadata": {
    "ExecuteTime": {
     "end_time": "2020-09-19T11:39:47.526155Z",
     "start_time": "2020-09-19T11:39:47.502142Z"
    }
   },
   "outputs": [
    {
     "data": {
      "application/javascript": [
       "\n",
       "            setTimeout(function() {\n",
       "                var nbb_cell_id = 24;\n",
       "                var nbb_unformatted_code = \"counts = np.unique(y_train, return_counts=True)[1]\\ncounts = counts.sum() / counts\";\n",
       "                var nbb_formatted_code = \"counts = np.unique(y_train, return_counts=True)[1]\\ncounts = counts.sum() / counts\";\n",
       "                var nbb_cells = Jupyter.notebook.get_cells();\n",
       "                for (var i = 0; i < nbb_cells.length; ++i) {\n",
       "                    if (nbb_cells[i].input_prompt_number == nbb_cell_id) {\n",
       "                        if (nbb_cells[i].get_text() == nbb_unformatted_code) {\n",
       "                             nbb_cells[i].set_text(nbb_formatted_code);\n",
       "                        }\n",
       "                        break;\n",
       "                    }\n",
       "                }\n",
       "            }, 500);\n",
       "            "
      ],
      "text/plain": [
       "<IPython.core.display.Javascript object>"
      ]
     },
     "metadata": {},
     "output_type": "display_data"
    }
   ],
   "source": [
    "counts = np.unique(y_train, return_counts=True)[1]\n",
    "counts = counts.sum() / counts"
   ]
  },
  {
   "cell_type": "raw",
   "metadata": {
    "ExecuteTime": {
     "end_time": "2020-09-19T11:09:21.280303Z",
     "start_time": "2020-09-19T11:09:21.244198Z"
    }
   },
   "source": [
    "class_weight = {}\n",
    "for i, counts in enumerate(counts):\n",
    "    class_weight[i] = counts\n",
    "class_weight"
   ]
  },
  {
   "cell_type": "raw",
   "metadata": {
    "ExecuteTime": {
     "end_time": "2020-07-14T10:13:28.824624Z",
     "start_time": "2020-07-14T10:13:28.800384Z"
    }
   },
   "source": [
    "class_weight = {\n",
    "    0: 1,\n",
    "    1: 1,\n",
    "}\n",
    "class_weight"
   ]
  },
  {
   "cell_type": "code",
   "execution_count": 25,
   "metadata": {
    "ExecuteTime": {
     "end_time": "2020-09-19T11:40:14.759493Z",
     "start_time": "2020-09-19T11:39:47.527253Z"
    }
   },
   "outputs": [
    {
     "name": "stdout",
     "output_type": "stream",
     "text": [
      "Epoch 1/2000\n",
      "WARNING:tensorflow:From /work/.cache/poetry/xplainet-KS9Ipbc1-py3.7/lib/python3.7/site-packages/tensorflow/python/ops/resource_variable_ops.py:1817: calling BaseResourceVariable.__init__ (from tensorflow.python.ops.resource_variable_ops) with constraint is deprecated and will be removed in a future version.\n",
      "Instructions for updating:\n",
      "If using Keras pass *_constraint arguments to layers.\n"
     ]
    },
    {
     "name": "stderr",
     "output_type": "stream",
     "text": [
      "WARNING:tensorflow:From /work/.cache/poetry/xplainet-KS9Ipbc1-py3.7/lib/python3.7/site-packages/tensorflow/python/ops/resource_variable_ops.py:1817: calling BaseResourceVariable.__init__ (from tensorflow.python.ops.resource_variable_ops) with constraint is deprecated and will be removed in a future version.\n",
      "Instructions for updating:\n",
      "If using Keras pass *_constraint arguments to layers.\n"
     ]
    },
    {
     "name": "stdout",
     "output_type": "stream",
     "text": [
      "2/2 - 0s - loss: 1.2237 - val_loss: 1.1395\n",
      "Epoch 2/2000\n",
      "2/2 - 0s - loss: 1.0115 - val_loss: 1.0314\n",
      "Epoch 3/2000\n",
      "2/2 - 0s - loss: 0.9340 - val_loss: 1.0886\n",
      "Epoch 4/2000\n",
      "2/2 - 0s - loss: 0.9721 - val_loss: 1.0857\n",
      "Epoch 5/2000\n",
      "2/2 - 0s - loss: 0.9696 - val_loss: 1.0819\n",
      "Epoch 6/2000\n",
      "2/2 - 0s - loss: 0.9664 - val_loss: 1.0828\n",
      "Epoch 7/2000\n",
      "2/2 - 0s - loss: 0.9672 - val_loss: 1.0771\n",
      "Epoch 8/2000\n",
      "2/2 - 0s - loss: 0.9629 - val_loss: 1.0713\n",
      "Epoch 9/2000\n",
      "2/2 - 0s - loss: 0.9581 - val_loss: 1.0737\n",
      "Epoch 10/2000\n",
      "2/2 - 0s - loss: 0.9596 - val_loss: 1.0670\n",
      "Epoch 11/2000\n",
      "2/2 - 0s - loss: 0.9544 - val_loss: 1.0599\n",
      "Epoch 12/2000\n",
      "2/2 - 0s - loss: 0.9495 - val_loss: 1.0628\n",
      "Epoch 13/2000\n",
      "2/2 - 0s - loss: 0.9512 - val_loss: 1.0555\n",
      "Epoch 14/2000\n",
      "2/2 - 0s - loss: 0.9459 - val_loss: 1.0482\n",
      "Epoch 15/2000\n",
      "2/2 - 0s - loss: 0.9404 - val_loss: 1.0514\n",
      "Epoch 16/2000\n",
      "2/2 - 0s - loss: 0.9430 - val_loss: 1.0439\n",
      "Epoch 17/2000\n",
      "2/2 - 0s - loss: 0.9376 - val_loss: 1.0368\n",
      "Epoch 18/2000\n",
      "2/2 - 0s - loss: 0.9329 - val_loss: 1.0403\n",
      "Epoch 19/2000\n",
      "2/2 - 0s - loss: 0.9351 - val_loss: 1.0335\n",
      "Epoch 20/2000\n",
      "2/2 - 0s - loss: 0.9301 - val_loss: 1.0269\n",
      "Epoch 21/2000\n",
      "2/2 - 0s - loss: 0.9253 - val_loss: 1.0299\n",
      "Epoch 22/2000\n",
      "2/2 - 0s - loss: 0.9274 - val_loss: 1.0229\n",
      "Epoch 23/2000\n",
      "2/2 - 0s - loss: 0.9227 - val_loss: 1.0160\n",
      "Epoch 24/2000\n",
      "2/2 - 0s - loss: 0.9184 - val_loss: 1.0193\n",
      "Epoch 25/2000\n",
      "2/2 - 0s - loss: 0.9205 - val_loss: 1.0125\n",
      "Epoch 26/2000\n",
      "2/2 - 0s - loss: 0.9155 - val_loss: 1.0056\n",
      "Epoch 27/2000\n",
      "2/2 - 0s - loss: 0.9105 - val_loss: 1.0090\n",
      "Epoch 28/2000\n",
      "2/2 - 0s - loss: 0.9130 - val_loss: 1.0020\n",
      "Epoch 29/2000\n",
      "2/2 - 0s - loss: 0.9075 - val_loss: 0.9950\n",
      "Epoch 30/2000\n",
      "2/2 - 0s - loss: 0.9016 - val_loss: 0.9985\n",
      "Epoch 31/2000\n",
      "2/2 - 0s - loss: 0.9043 - val_loss: 0.9915\n",
      "Epoch 32/2000\n",
      "2/2 - 0s - loss: 0.8983 - val_loss: 0.9851\n",
      "Epoch 33/2000\n",
      "2/2 - 0s - loss: 0.8923 - val_loss: 0.9882\n",
      "Epoch 34/2000\n",
      "2/2 - 0s - loss: 0.8952 - val_loss: 0.9826\n",
      "Epoch 35/2000\n",
      "2/2 - 0s - loss: 0.8896 - val_loss: 0.9791\n",
      "Epoch 36/2000\n",
      "2/2 - 0s - loss: 0.8857 - val_loss: 0.9799\n",
      "Epoch 37/2000\n",
      "2/2 - 0s - loss: 0.8872 - val_loss: 0.9746\n",
      "Epoch 38/2000\n",
      "2/2 - 0s - loss: 0.8825 - val_loss: 0.9688\n",
      "Epoch 39/2000\n",
      "2/2 - 0s - loss: 0.8777 - val_loss: 0.9711\n",
      "Epoch 40/2000\n",
      "2/2 - 0s - loss: 0.8798 - val_loss: 0.9644\n",
      "Epoch 41/2000\n",
      "2/2 - 0s - loss: 0.8752 - val_loss: 0.9574\n",
      "Epoch 42/2000\n",
      "2/2 - 0s - loss: 0.8694 - val_loss: 0.9612\n",
      "Epoch 43/2000\n",
      "2/2 - 0s - loss: 0.8720 - val_loss: 0.9541\n",
      "Epoch 44/2000\n",
      "2/2 - 0s - loss: 0.8661 - val_loss: 0.9460\n",
      "Epoch 45/2000\n",
      "2/2 - 0s - loss: 0.8603 - val_loss: 0.9499\n",
      "Epoch 46/2000\n",
      "2/2 - 0s - loss: 0.8629 - val_loss: 0.9417\n",
      "Epoch 47/2000\n",
      "2/2 - 0s - loss: 0.8579 - val_loss: 0.9358\n",
      "Epoch 48/2000\n",
      "2/2 - 0s - loss: 0.8537 - val_loss: 0.9395\n",
      "Epoch 49/2000\n",
      "2/2 - 0s - loss: 0.8554 - val_loss: 0.9342\n",
      "Epoch 50/2000\n",
      "2/2 - 0s - loss: 0.8506 - val_loss: 0.9284\n",
      "Epoch 51/2000\n",
      "2/2 - 0s - loss: 0.8456 - val_loss: 0.9307\n",
      "Epoch 52/2000\n",
      "2/2 - 0s - loss: 0.8480 - val_loss: 0.9242\n",
      "Epoch 53/2000\n",
      "2/2 - 0s - loss: 0.8428 - val_loss: 0.9180\n",
      "Epoch 54/2000\n",
      "2/2 - 0s - loss: 0.8379 - val_loss: 0.9212\n",
      "Epoch 55/2000\n",
      "2/2 - 0s - loss: 0.8403 - val_loss: 0.9146\n",
      "Epoch 56/2000\n",
      "2/2 - 0s - loss: 0.8355 - val_loss: 0.9081\n",
      "Epoch 57/2000\n",
      "2/2 - 0s - loss: 0.8306 - val_loss: 0.9114\n",
      "Epoch 58/2000\n",
      "2/2 - 0s - loss: 0.8329 - val_loss: 0.9054\n",
      "Epoch 59/2000\n",
      "2/2 - 0s - loss: 0.8279 - val_loss: 0.8998\n",
      "Epoch 60/2000\n",
      "2/2 - 0s - loss: 0.8231 - val_loss: 0.9027\n",
      "Epoch 61/2000\n",
      "2/2 - 0s - loss: 0.8254 - val_loss: 0.8969\n",
      "Epoch 62/2000\n",
      "2/2 - 0s - loss: 0.8205 - val_loss: 0.8909\n",
      "Epoch 63/2000\n",
      "2/2 - 0s - loss: 0.8154 - val_loss: 0.8937\n",
      "Epoch 64/2000\n",
      "2/2 - 0s - loss: 0.8178 - val_loss: 0.8873\n",
      "Epoch 65/2000\n",
      "2/2 - 0s - loss: 0.8127 - val_loss: 0.8806\n",
      "Epoch 66/2000\n",
      "2/2 - 0s - loss: 0.8074 - val_loss: 0.8838\n",
      "Epoch 67/2000\n",
      "2/2 - 0s - loss: 0.8099 - val_loss: 0.8772\n",
      "Epoch 68/2000\n",
      "2/2 - 0s - loss: 0.8047 - val_loss: 0.8706\n",
      "Epoch 69/2000\n",
      "2/2 - 0s - loss: 0.7996 - val_loss: 0.8737\n",
      "Epoch 70/2000\n",
      "2/2 - 0s - loss: 0.8020 - val_loss: 0.8666\n",
      "Epoch 71/2000\n",
      "2/2 - 0s - loss: 0.7966 - val_loss: 0.8599\n",
      "Epoch 72/2000\n",
      "2/2 - 0s - loss: 0.7912 - val_loss: 0.8636\n",
      "Epoch 73/2000\n",
      "2/2 - 0s - loss: 0.7938 - val_loss: 0.8572\n",
      "Epoch 74/2000\n",
      "2/2 - 0s - loss: 0.7884 - val_loss: 0.8509\n",
      "Epoch 75/2000\n",
      "2/2 - 0s - loss: 0.7829 - val_loss: 0.8539\n",
      "Epoch 76/2000\n",
      "2/2 - 0s - loss: 0.7856 - val_loss: 0.8473\n",
      "Epoch 77/2000\n",
      "2/2 - 0s - loss: 0.7801 - val_loss: 0.8404\n",
      "Epoch 78/2000\n",
      "2/2 - 0s - loss: 0.7748 - val_loss: 0.8437\n",
      "Epoch 79/2000\n",
      "2/2 - 0s - loss: 0.7774 - val_loss: 0.8372\n",
      "Epoch 80/2000\n",
      "2/2 - 0s - loss: 0.7720 - val_loss: 0.8303\n",
      "Epoch 81/2000\n",
      "2/2 - 0s - loss: 0.7667 - val_loss: 0.8333\n",
      "Epoch 82/2000\n",
      "2/2 - 0s - loss: 0.7693 - val_loss: 0.8263\n",
      "Epoch 83/2000\n",
      "2/2 - 0s - loss: 0.7638 - val_loss: 0.8196\n",
      "Epoch 84/2000\n",
      "2/2 - 0s - loss: 0.7585 - val_loss: 0.8232\n",
      "Epoch 85/2000\n",
      "2/2 - 0s - loss: 0.7609 - val_loss: 0.8174\n",
      "Epoch 86/2000\n",
      "2/2 - 0s - loss: 0.7555 - val_loss: 0.8113\n",
      "Epoch 87/2000\n",
      "2/2 - 0s - loss: 0.7499 - val_loss: 0.8137\n",
      "Epoch 88/2000\n",
      "2/2 - 0s - loss: 0.7526 - val_loss: 0.8070\n",
      "Epoch 89/2000\n",
      "2/2 - 0s - loss: 0.7470 - val_loss: 0.8004\n",
      "Epoch 90/2000\n",
      "2/2 - 0s - loss: 0.7415 - val_loss: 0.8037\n",
      "Epoch 91/2000\n",
      "2/2 - 0s - loss: 0.7442 - val_loss: 0.7970\n",
      "Epoch 92/2000\n",
      "2/2 - 0s - loss: 0.7386 - val_loss: 0.7906\n",
      "Epoch 93/2000\n",
      "2/2 - 0s - loss: 0.7329 - val_loss: 0.7940\n",
      "Epoch 94/2000\n",
      "2/2 - 0s - loss: 0.7358 - val_loss: 0.7878\n",
      "Epoch 95/2000\n",
      "2/2 - 0s - loss: 0.7302 - val_loss: 0.7806\n",
      "Epoch 96/2000\n",
      "2/2 - 0s - loss: 0.7244 - val_loss: 0.7835\n",
      "Epoch 97/2000\n",
      "2/2 - 0s - loss: 0.7270 - val_loss: 0.7759\n",
      "Epoch 98/2000\n",
      "2/2 - 0s - loss: 0.7212 - val_loss: 0.7681\n",
      "Epoch 99/2000\n",
      "2/2 - 0s - loss: 0.7156 - val_loss: 0.7721\n",
      "Epoch 100/2000\n",
      "2/2 - 0s - loss: 0.7184 - val_loss: 0.7645\n",
      "Epoch 101/2000\n",
      "2/2 - 0s - loss: 0.7120 - val_loss: 0.7562\n",
      "Epoch 102/2000\n",
      "2/2 - 0s - loss: 0.7066 - val_loss: 0.7598\n",
      "Epoch 103/2000\n",
      "2/2 - 0s - loss: 0.7102 - val_loss: 0.7513\n",
      "Epoch 104/2000\n",
      "2/2 - 0s - loss: 0.7038 - val_loss: 0.7441\n",
      "Epoch 105/2000\n",
      "2/2 - 0s - loss: 0.6973 - val_loss: 0.7485\n",
      "Epoch 106/2000\n",
      "2/2 - 0s - loss: 0.7003 - val_loss: 0.7425\n",
      "Epoch 107/2000\n",
      "2/2 - 0s - loss: 0.6945 - val_loss: 0.7354\n",
      "Epoch 108/2000\n",
      "2/2 - 0s - loss: 0.6877 - val_loss: 0.7381\n",
      "Epoch 109/2000\n",
      "2/2 - 0s - loss: 0.6910 - val_loss: 0.7308\n",
      "Epoch 110/2000\n",
      "2/2 - 0s - loss: 0.6847 - val_loss: 0.7231\n",
      "Epoch 111/2000\n",
      "2/2 - 0s - loss: 0.6780 - val_loss: 0.7265\n",
      "Epoch 112/2000\n",
      "2/2 - 0s - loss: 0.6811 - val_loss: 0.7185\n",
      "Epoch 113/2000\n",
      "2/2 - 0s - loss: 0.6745 - val_loss: 0.7100\n",
      "Epoch 114/2000\n",
      "2/2 - 0s - loss: 0.6679 - val_loss: 0.7140\n",
      "Epoch 115/2000\n",
      "2/2 - 0s - loss: 0.6711 - val_loss: 0.7066\n",
      "Epoch 116/2000\n",
      "2/2 - 0s - loss: 0.6644 - val_loss: 0.6999\n",
      "Epoch 117/2000\n",
      "2/2 - 0s - loss: 0.6577 - val_loss: 0.7037\n",
      "Epoch 118/2000\n",
      "2/2 - 0s - loss: 0.6611 - val_loss: 0.6972\n",
      "Epoch 119/2000\n",
      "2/2 - 0s - loss: 0.6549 - val_loss: 0.6897\n",
      "Epoch 120/2000\n",
      "2/2 - 0s - loss: 0.6481 - val_loss: 0.6925\n",
      "Epoch 121/2000\n",
      "2/2 - 0s - loss: 0.6512 - val_loss: 0.6840\n",
      "Epoch 122/2000\n",
      "2/2 - 0s - loss: 0.6444 - val_loss: 0.6754\n",
      "Epoch 123/2000\n",
      "2/2 - 0s - loss: 0.6373 - val_loss: 0.6798\n",
      "Epoch 124/2000\n",
      "2/2 - 0s - loss: 0.6408 - val_loss: 0.6715\n",
      "Epoch 125/2000\n",
      "2/2 - 0s - loss: 0.6342 - val_loss: 0.6627\n",
      "Epoch 126/2000\n",
      "2/2 - 0s - loss: 0.6264 - val_loss: 0.6668\n",
      "Epoch 127/2000\n",
      "2/2 - 0s - loss: 0.6297 - val_loss: 0.6561\n",
      "Epoch 128/2000\n",
      "2/2 - 0s - loss: 0.6210 - val_loss: 0.6439\n",
      "Epoch 129/2000\n",
      "2/2 - 0s - loss: 0.6120 - val_loss: 0.6487\n",
      "Epoch 130/2000\n",
      "2/2 - 0s - loss: 0.6161 - val_loss: 0.6402\n",
      "Epoch 131/2000\n",
      "2/2 - 0s - loss: 0.6083 - val_loss: 0.6306\n",
      "Epoch 132/2000\n",
      "2/2 - 0s - loss: 0.6006 - val_loss: 0.6335\n",
      "Epoch 133/2000\n",
      "2/2 - 0s - loss: 0.6048 - val_loss: 0.6246\n",
      "Epoch 134/2000\n",
      "2/2 - 0s - loss: 0.5983 - val_loss: 0.6152\n",
      "Epoch 135/2000\n",
      "2/2 - 0s - loss: 0.5904 - val_loss: 0.6200\n",
      "Epoch 136/2000\n",
      "2/2 - 0s - loss: 0.5931 - val_loss: 0.6150\n",
      "Epoch 137/2000\n",
      "2/2 - 0s - loss: 0.5868 - val_loss: 0.6084\n",
      "Epoch 138/2000\n",
      "2/2 - 0s - loss: 0.5803 - val_loss: 0.6077\n",
      "Epoch 139/2000\n",
      "2/2 - 0s - loss: 0.5819 - val_loss: 0.5986\n",
      "Epoch 140/2000\n",
      "2/2 - 0s - loss: 0.5749 - val_loss: 0.5895\n",
      "Epoch 141/2000\n",
      "2/2 - 0s - loss: 0.5674 - val_loss: 0.5938\n",
      "Epoch 142/2000\n",
      "2/2 - 0s - loss: 0.5707 - val_loss: 0.5838\n",
      "Epoch 143/2000\n",
      "2/2 - 0s - loss: 0.5634 - val_loss: 0.5740\n",
      "Epoch 144/2000\n",
      "2/2 - 0s - loss: 0.5553 - val_loss: 0.5788\n"
     ]
    },
    {
     "name": "stdout",
     "output_type": "stream",
     "text": [
      "Epoch 145/2000\n",
      "2/2 - 0s - loss: 0.5587 - val_loss: 0.5687\n",
      "Epoch 146/2000\n",
      "2/2 - 0s - loss: 0.5509 - val_loss: 0.5582\n",
      "Epoch 147/2000\n",
      "2/2 - 0s - loss: 0.5429 - val_loss: 0.5636\n",
      "Epoch 148/2000\n",
      "2/2 - 0s - loss: 0.5468 - val_loss: 0.5543\n",
      "Epoch 149/2000\n",
      "2/2 - 0s - loss: 0.5388 - val_loss: 0.5448\n",
      "Epoch 150/2000\n",
      "2/2 - 0s - loss: 0.5306 - val_loss: 0.5499\n",
      "Epoch 151/2000\n",
      "2/2 - 0s - loss: 0.5349 - val_loss: 0.5420\n",
      "Epoch 152/2000\n",
      "2/2 - 0s - loss: 0.5269 - val_loss: 0.5309\n",
      "Epoch 153/2000\n",
      "2/2 - 0s - loss: 0.5185 - val_loss: 0.5349\n",
      "Epoch 154/2000\n",
      "2/2 - 0s - loss: 0.5227 - val_loss: 0.5247\n",
      "Epoch 155/2000\n",
      "2/2 - 0s - loss: 0.5151 - val_loss: 0.5146\n",
      "Epoch 156/2000\n",
      "2/2 - 0s - loss: 0.5066 - val_loss: 0.5204\n",
      "Epoch 157/2000\n",
      "2/2 - 0s - loss: 0.5100 - val_loss: 0.5205\n",
      "Epoch 158/2000\n",
      "2/2 - 0s - loss: 0.5080 - val_loss: 0.5114\n",
      "Epoch 159/2000\n",
      "2/2 - 0s - loss: 0.4991 - val_loss: 0.5084\n",
      "Epoch 160/2000\n",
      "2/2 - 0s - loss: 0.4992 - val_loss: 0.5002\n",
      "Epoch 161/2000\n",
      "2/2 - 0s - loss: 0.4924 - val_loss: 0.4923\n",
      "Epoch 162/2000\n",
      "2/2 - 0s - loss: 0.4850 - val_loss: 0.4957\n",
      "Epoch 163/2000\n",
      "2/2 - 0s - loss: 0.4877 - val_loss: 0.4869\n",
      "Epoch 164/2000\n",
      "2/2 - 0s - loss: 0.4793 - val_loss: 0.4776\n",
      "Epoch 165/2000\n",
      "2/2 - 0s - loss: 0.4719 - val_loss: 0.4803\n",
      "Epoch 166/2000\n",
      "2/2 - 0s - loss: 0.4754 - val_loss: 0.4692\n",
      "Epoch 167/2000\n",
      "2/2 - 0s - loss: 0.4675 - val_loss: 0.4598\n",
      "Epoch 168/2000\n",
      "2/2 - 0s - loss: 0.4599 - val_loss: 0.4643\n",
      "Epoch 169/2000\n",
      "2/2 - 0s - loss: 0.4634 - val_loss: 0.4557\n",
      "Epoch 170/2000\n",
      "2/2 - 0s - loss: 0.4562 - val_loss: 0.4481\n",
      "Epoch 171/2000\n",
      "2/2 - 0s - loss: 0.4491 - val_loss: 0.4510\n",
      "Epoch 172/2000\n",
      "2/2 - 0s - loss: 0.4519 - val_loss: 0.4425\n",
      "Epoch 173/2000\n",
      "2/2 - 0s - loss: 0.4448 - val_loss: 0.4351\n",
      "Epoch 174/2000\n",
      "2/2 - 0s - loss: 0.4372 - val_loss: 0.4403\n",
      "Epoch 175/2000\n",
      "2/2 - 0s - loss: 0.4410 - val_loss: 0.4338\n",
      "Epoch 176/2000\n",
      "2/2 - 0s - loss: 0.4345 - val_loss: 0.4264\n",
      "Epoch 177/2000\n",
      "2/2 - 0s - loss: 0.4272 - val_loss: 0.4286\n",
      "Epoch 178/2000\n",
      "2/2 - 0s - loss: 0.4301 - val_loss: 0.4175\n",
      "Epoch 179/2000\n",
      "2/2 - 0s - loss: 0.4230 - val_loss: 0.4074\n",
      "Epoch 180/2000\n",
      "2/2 - 0s - loss: 0.4162 - val_loss: 0.4133\n",
      "Epoch 181/2000\n",
      "2/2 - 0s - loss: 0.4189 - val_loss: 0.4081\n",
      "Epoch 182/2000\n",
      "2/2 - 0s - loss: 0.4136 - val_loss: 0.4001\n",
      "Epoch 183/2000\n",
      "2/2 - 0s - loss: 0.4061 - val_loss: 0.4008\n",
      "Epoch 184/2000\n",
      "2/2 - 0s - loss: 0.4088 - val_loss: 0.3916\n",
      "Epoch 185/2000\n",
      "2/2 - 0s - loss: 0.4019 - val_loss: 0.3830\n",
      "Epoch 186/2000\n",
      "2/2 - 0s - loss: 0.3948 - val_loss: 0.3875\n",
      "Epoch 187/2000\n",
      "2/2 - 0s - loss: 0.3979 - val_loss: 0.3801\n",
      "Epoch 188/2000\n",
      "2/2 - 0s - loss: 0.3908 - val_loss: 0.3706\n",
      "Epoch 189/2000\n",
      "2/2 - 0s - loss: 0.3839 - val_loss: 0.3740\n",
      "Epoch 190/2000\n",
      "2/2 - 0s - loss: 0.3880 - val_loss: 0.3657\n",
      "Epoch 191/2000\n",
      "2/2 - 0s - loss: 0.3808 - val_loss: 0.3588\n",
      "Epoch 192/2000\n",
      "2/2 - 0s - loss: 0.3740 - val_loss: 0.3621\n",
      "Epoch 193/2000\n",
      "2/2 - 0s - loss: 0.3773 - val_loss: 0.3544\n",
      "Epoch 194/2000\n",
      "2/2 - 0s - loss: 0.3707 - val_loss: 0.3472\n",
      "Epoch 195/2000\n",
      "2/2 - 0s - loss: 0.3642 - val_loss: 0.3512\n",
      "Epoch 196/2000\n",
      "2/2 - 0s - loss: 0.3674 - val_loss: 0.3450\n",
      "Epoch 197/2000\n",
      "2/2 - 0s - loss: 0.3612 - val_loss: 0.3387\n",
      "Epoch 198/2000\n",
      "2/2 - 0s - loss: 0.3549 - val_loss: 0.3411\n",
      "Epoch 199/2000\n",
      "2/2 - 0s - loss: 0.3578 - val_loss: 0.3334\n",
      "Epoch 200/2000\n",
      "2/2 - 0s - loss: 0.3519 - val_loss: 0.3252\n",
      "Epoch 201/2000\n",
      "2/2 - 0s - loss: 0.3458 - val_loss: 0.3287\n",
      "Epoch 202/2000\n",
      "2/2 - 0s - loss: 0.3487 - val_loss: 0.3205\n",
      "Epoch 203/2000\n",
      "2/2 - 0s - loss: 0.3431 - val_loss: 0.3154\n",
      "Epoch 204/2000\n",
      "2/2 - 0s - loss: 0.3367 - val_loss: 0.3205\n",
      "Epoch 205/2000\n",
      "2/2 - 0s - loss: 0.3400 - val_loss: 0.3161\n",
      "Epoch 206/2000\n",
      "2/2 - 0s - loss: 0.3344 - val_loss: 0.3092\n",
      "Epoch 207/2000\n",
      "2/2 - 0s - loss: 0.3294 - val_loss: 0.3112\n",
      "Epoch 208/2000\n",
      "2/2 - 0s - loss: 0.3315 - val_loss: 0.3050\n",
      "Epoch 209/2000\n",
      "2/2 - 0s - loss: 0.3257 - val_loss: 0.2997\n",
      "Epoch 210/2000\n",
      "2/2 - 0s - loss: 0.3204 - val_loss: 0.3016\n",
      "Epoch 211/2000\n",
      "2/2 - 0s - loss: 0.3231 - val_loss: 0.2954\n",
      "Epoch 212/2000\n",
      "2/2 - 0s - loss: 0.3175 - val_loss: 0.2923\n",
      "Epoch 213/2000\n",
      "2/2 - 0s - loss: 0.3133 - val_loss: 0.2935\n",
      "Epoch 214/2000\n",
      "2/2 - 0s - loss: 0.3158 - val_loss: 0.2876\n",
      "Epoch 215/2000\n",
      "2/2 - 0s - loss: 0.3102 - val_loss: 0.2844\n",
      "Epoch 216/2000\n",
      "2/2 - 0s - loss: 0.3059 - val_loss: 0.2865\n",
      "Epoch 217/2000\n",
      "2/2 - 0s - loss: 0.3078 - val_loss: 0.2821\n",
      "Epoch 218/2000\n",
      "2/2 - 0s - loss: 0.3034 - val_loss: 0.2789\n",
      "Epoch 219/2000\n",
      "2/2 - 0s - loss: 0.2988 - val_loss: 0.2808\n",
      "Epoch 220/2000\n",
      "2/2 - 0s - loss: 0.3011 - val_loss: 0.2756\n",
      "Epoch 221/2000\n",
      "2/2 - 0s - loss: 0.2965 - val_loss: 0.2705\n",
      "Epoch 222/2000\n",
      "2/2 - 0s - loss: 0.2922 - val_loss: 0.2733\n",
      "Epoch 223/2000\n",
      "2/2 - 0s - loss: 0.2943 - val_loss: 0.2676\n",
      "Epoch 224/2000\n",
      "2/2 - 0s - loss: 0.2900 - val_loss: 0.2630\n",
      "Epoch 225/2000\n",
      "2/2 - 0s - loss: 0.2877 - val_loss: 0.2655\n",
      "Epoch 226/2000\n",
      "2/2 - 0s - loss: 0.2879 - val_loss: 0.2639\n",
      "Epoch 227/2000\n",
      "2/2 - 0s - loss: 0.2842 - val_loss: 0.2598\n",
      "Epoch 228/2000\n",
      "2/2 - 0s - loss: 0.2797 - val_loss: 0.2599\n",
      "Epoch 229/2000\n",
      "2/2 - 0s - loss: 0.2817 - val_loss: 0.2548\n",
      "Epoch 230/2000\n",
      "2/2 - 0s - loss: 0.2782 - val_loss: 0.2502\n",
      "Epoch 231/2000\n",
      "2/2 - 0s - loss: 0.2742 - val_loss: 0.2526\n",
      "Epoch 232/2000\n",
      "2/2 - 0s - loss: 0.2760 - val_loss: 0.2483\n",
      "Epoch 233/2000\n",
      "2/2 - 0s - loss: 0.2722 - val_loss: 0.2453\n",
      "Epoch 234/2000\n",
      "2/2 - 0s - loss: 0.2680 - val_loss: 0.2479\n",
      "Epoch 235/2000\n",
      "2/2 - 0s - loss: 0.2701 - val_loss: 0.2468\n",
      "Epoch 236/2000\n",
      "2/2 - 0s - loss: 0.2661 - val_loss: 0.2458\n",
      "Epoch 237/2000\n",
      "2/2 - 0s - loss: 0.2633 - val_loss: 0.2437\n",
      "Epoch 238/2000\n",
      "2/2 - 0s - loss: 0.2642 - val_loss: 0.2392\n",
      "Epoch 239/2000\n",
      "2/2 - 0s - loss: 0.2612 - val_loss: 0.2361\n",
      "Epoch 240/2000\n",
      "2/2 - 0s - loss: 0.2572 - val_loss: 0.2389\n",
      "Epoch 241/2000\n",
      "2/2 - 0s - loss: 0.2590 - val_loss: 0.2370\n",
      "Epoch 242/2000\n",
      "2/2 - 0s - loss: 0.2562 - val_loss: 0.2319\n",
      "Epoch 243/2000\n",
      "2/2 - 0s - loss: 0.2519 - val_loss: 0.2331\n",
      "Epoch 244/2000\n",
      "2/2 - 0s - loss: 0.2540 - val_loss: 0.2301\n",
      "Epoch 245/2000\n",
      "2/2 - 0s - loss: 0.2510 - val_loss: 0.2272\n",
      "Epoch 246/2000\n",
      "2/2 - 0s - loss: 0.2471 - val_loss: 0.2289\n",
      "Epoch 247/2000\n",
      "2/2 - 0s - loss: 0.2489 - val_loss: 0.2272\n",
      "Epoch 248/2000\n",
      "2/2 - 0s - loss: 0.2460 - val_loss: 0.2235\n",
      "Epoch 249/2000\n",
      "2/2 - 0s - loss: 0.2432 - val_loss: 0.2245\n",
      "Epoch 250/2000\n",
      "2/2 - 0s - loss: 0.2442 - val_loss: 0.2231\n",
      "Epoch 251/2000\n",
      "2/2 - 0s - loss: 0.2421 - val_loss: 0.2202\n",
      "Epoch 252/2000\n",
      "2/2 - 0s - loss: 0.2390 - val_loss: 0.2206\n",
      "Epoch 253/2000\n",
      "2/2 - 0s - loss: 0.2403 - val_loss: 0.2178\n",
      "Epoch 254/2000\n",
      "2/2 - 0s - loss: 0.2380 - val_loss: 0.2154\n",
      "Epoch 255/2000\n",
      "2/2 - 0s - loss: 0.2355 - val_loss: 0.2168\n",
      "Epoch 256/2000\n",
      "2/2 - 0s - loss: 0.2363 - val_loss: 0.2158\n",
      "Epoch 257/2000\n",
      "2/2 - 0s - loss: 0.2336 - val_loss: 0.2169\n",
      "Epoch 258/2000\n",
      "2/2 - 0s - loss: 0.2326 - val_loss: 0.2151\n",
      "Epoch 259/2000\n",
      "2/2 - 0s - loss: 0.2322 - val_loss: 0.2127\n",
      "Epoch 260/2000\n",
      "2/2 - 0s - loss: 0.2314 - val_loss: 0.2098\n",
      "Epoch 261/2000\n",
      "2/2 - 0s - loss: 0.2279 - val_loss: 0.2116\n",
      "Epoch 262/2000\n",
      "2/2 - 0s - loss: 0.2292 - val_loss: 0.2097\n",
      "Epoch 263/2000\n",
      "2/2 - 0s - loss: 0.2262 - val_loss: 0.2096\n",
      "Epoch 264/2000\n",
      "2/2 - 0s - loss: 0.2255 - val_loss: 0.2089\n",
      "Epoch 265/2000\n",
      "2/2 - 0s - loss: 0.2252 - val_loss: 0.2078\n",
      "Epoch 266/2000\n",
      "2/2 - 0s - loss: 0.2235 - val_loss: 0.2046\n",
      "Epoch 267/2000\n",
      "2/2 - 0s - loss: 0.2202 - val_loss: 0.2062\n",
      "Epoch 268/2000\n",
      "2/2 - 0s - loss: 0.2231 - val_loss: 0.2036\n",
      "Epoch 269/2000\n",
      "2/2 - 0s - loss: 0.2205 - val_loss: 0.2019\n",
      "Epoch 270/2000\n",
      "2/2 - 0s - loss: 0.2172 - val_loss: 0.2033\n",
      "Epoch 271/2000\n",
      "2/2 - 0s - loss: 0.2181 - val_loss: 0.2026\n",
      "Epoch 272/2000\n",
      "2/2 - 0s - loss: 0.2173 - val_loss: 0.2019\n",
      "Epoch 273/2000\n",
      "2/2 - 0s - loss: 0.2137 - val_loss: 0.2013\n",
      "Epoch 274/2000\n",
      "2/2 - 0s - loss: 0.2142 - val_loss: 0.2041\n",
      "Epoch 275/2000\n",
      "2/2 - 0s - loss: 0.2177 - val_loss: 0.1972\n",
      "Epoch 276/2000\n",
      "2/2 - 0s - loss: 0.2107 - val_loss: 0.1988\n",
      "Epoch 277/2000\n",
      "2/2 - 0s - loss: 0.2118 - val_loss: 0.1983\n",
      "Epoch 278/2000\n",
      "2/2 - 0s - loss: 0.2102 - val_loss: 0.1957\n",
      "Epoch 279/2000\n",
      "2/2 - 0s - loss: 0.2077 - val_loss: 0.1960\n",
      "Epoch 280/2000\n",
      "2/2 - 0s - loss: 0.2086 - val_loss: 0.1962\n",
      "Epoch 281/2000\n",
      "2/2 - 0s - loss: 0.2068 - val_loss: 0.1968\n",
      "Epoch 282/2000\n",
      "2/2 - 0s - loss: 0.2055 - val_loss: 0.1956\n",
      "Epoch 283/2000\n",
      "2/2 - 0s - loss: 0.2057 - val_loss: 0.1944\n",
      "Epoch 284/2000\n",
      "2/2 - 0s - loss: 0.2036 - val_loss: 0.1958\n",
      "Epoch 285/2000\n",
      "2/2 - 0s - loss: 0.2024 - val_loss: 0.1958\n",
      "Epoch 286/2000\n"
     ]
    },
    {
     "name": "stdout",
     "output_type": "stream",
     "text": [
      "2/2 - 0s - loss: 0.2032 - val_loss: 0.1952\n",
      "Epoch 287/2000\n",
      "2/2 - 0s - loss: 0.1996 - val_loss: 0.2002\n",
      "Epoch 288/2000\n",
      "2/2 - 0s - loss: 0.2011 - val_loss: 0.1942\n",
      "Epoch 289/2000\n",
      "2/2 - 0s - loss: 0.2001 - val_loss: 0.1927\n",
      "Epoch 290/2000\n",
      "2/2 - 0s - loss: 0.1984 - val_loss: 0.1913\n",
      "Epoch 291/2000\n",
      "2/2 - 0s - loss: 0.1967 - val_loss: 0.1925\n",
      "Epoch 292/2000\n",
      "2/2 - 0s - loss: 0.1970 - val_loss: 0.1934\n",
      "Epoch 293/2000\n",
      "2/2 - 0s - loss: 0.1950 - val_loss: 0.1949\n",
      "Epoch 294/2000\n",
      "2/2 - 0s - loss: 0.1957 - val_loss: 0.1918\n",
      "Epoch 295/2000\n",
      "2/2 - 0s - loss: 0.1944 - val_loss: 0.1900\n",
      "Epoch 296/2000\n",
      "2/2 - 0s - loss: 0.1933 - val_loss: 0.1892\n",
      "Epoch 297/2000\n",
      "2/2 - 0s - loss: 0.1915 - val_loss: 0.1901\n",
      "Epoch 298/2000\n",
      "2/2 - 0s - loss: 0.1921 - val_loss: 0.1887\n",
      "Epoch 299/2000\n",
      "2/2 - 0s - loss: 0.1903 - val_loss: 0.1884\n",
      "Epoch 300/2000\n",
      "2/2 - 0s - loss: 0.1894 - val_loss: 0.1890\n",
      "Epoch 301/2000\n",
      "2/2 - 0s - loss: 0.1899 - val_loss: 0.1895\n",
      "Epoch 302/2000\n",
      "2/2 - 0s - loss: 0.1886 - val_loss: 0.1888\n",
      "Epoch 303/2000\n",
      "2/2 - 0s - loss: 0.1875 - val_loss: 0.1882\n",
      "Epoch 304/2000\n",
      "2/2 - 0s - loss: 0.1876 - val_loss: 0.1886\n",
      "Epoch 305/2000\n",
      "2/2 - 0s - loss: 0.1868 - val_loss: 0.1890\n",
      "Epoch 306/2000\n",
      "2/2 - 0s - loss: 0.1863 - val_loss: 0.1868\n",
      "Epoch 307/2000\n",
      "2/2 - 0s - loss: 0.1860 - val_loss: 0.1848\n",
      "Epoch 308/2000\n",
      "2/2 - 0s - loss: 0.1846 - val_loss: 0.1861\n",
      "Epoch 309/2000\n",
      "2/2 - 0s - loss: 0.1834 - val_loss: 0.1870\n",
      "Epoch 310/2000\n",
      "2/2 - 0s - loss: 0.1851 - val_loss: 0.1838\n",
      "Epoch 311/2000\n",
      "2/2 - 0s - loss: 0.1828 - val_loss: 0.1833\n",
      "Epoch 312/2000\n",
      "2/2 - 0s - loss: 0.1816 - val_loss: 0.1849\n",
      "Epoch 313/2000\n",
      "2/2 - 0s - loss: 0.1833 - val_loss: 0.1824\n",
      "Epoch 314/2000\n",
      "2/2 - 0s - loss: 0.1809 - val_loss: 0.1814\n",
      "Epoch 315/2000\n",
      "2/2 - 0s - loss: 0.1821 - val_loss: 0.1823\n",
      "Epoch 316/2000\n",
      "2/2 - 0s - loss: 0.1807 - val_loss: 0.1870\n",
      "Epoch 317/2000\n",
      "2/2 - 0s - loss: 0.1827 - val_loss: 0.1844\n",
      "Epoch 318/2000\n",
      "2/2 - 0s - loss: 0.1788 - val_loss: 0.1835\n",
      "Epoch 319/2000\n",
      "2/2 - 0s - loss: 0.1788 - val_loss: 0.1846\n",
      "Epoch 320/2000\n",
      "2/2 - 0s - loss: 0.1789 - val_loss: 0.1826\n",
      "Epoch 321/2000\n",
      "2/2 - 0s - loss: 0.1775 - val_loss: 0.1819\n",
      "Epoch 322/2000\n",
      "2/2 - 0s - loss: 0.1773 - val_loss: 0.1770\n",
      "Epoch 323/2000\n",
      "2/2 - 0s - loss: 0.1752 - val_loss: 0.1762\n",
      "Epoch 324/2000\n",
      "2/2 - 0s - loss: 0.1752 - val_loss: 0.1791\n",
      "Epoch 325/2000\n",
      "2/2 - 0s - loss: 0.1744 - val_loss: 0.1813\n",
      "Epoch 326/2000\n",
      "2/2 - 0s - loss: 0.1735 - val_loss: 0.1834\n",
      "Epoch 327/2000\n",
      "2/2 - 0s - loss: 0.1734 - val_loss: 0.1807\n",
      "Epoch 328/2000\n",
      "2/2 - 0s - loss: 0.1727 - val_loss: 0.1811\n",
      "Epoch 329/2000\n",
      "2/2 - 0s - loss: 0.1739 - val_loss: 0.1791\n",
      "Epoch 330/2000\n",
      "2/2 - 0s - loss: 0.1705 - val_loss: 0.1808\n",
      "Epoch 331/2000\n",
      "2/2 - 0s - loss: 0.1719 - val_loss: 0.1794\n",
      "Epoch 332/2000\n",
      "2/2 - 0s - loss: 0.1698 - val_loss: 0.1788\n",
      "Epoch 333/2000\n",
      "2/2 - 0s - loss: 0.1710 - val_loss: 0.1778\n",
      "Epoch 334/2000\n",
      "2/2 - 0s - loss: 0.1694 - val_loss: 0.1789\n",
      "Epoch 335/2000\n",
      "2/2 - 0s - loss: 0.1704 - val_loss: 0.1756\n",
      "Epoch 336/2000\n",
      "2/2 - 0s - loss: 0.1681 - val_loss: 0.1763\n",
      "Epoch 337/2000\n",
      "2/2 - 0s - loss: 0.1682 - val_loss: 0.1777\n",
      "Epoch 338/2000\n",
      "2/2 - 0s - loss: 0.1671 - val_loss: 0.1793\n",
      "Epoch 339/2000\n",
      "2/2 - 0s - loss: 0.1667 - val_loss: 0.1772\n",
      "Epoch 340/2000\n",
      "2/2 - 0s - loss: 0.1666 - val_loss: 0.1761\n",
      "Epoch 341/2000\n",
      "2/2 - 0s - loss: 0.1655 - val_loss: 0.1768\n",
      "Epoch 342/2000\n",
      "2/2 - 0s - loss: 0.1651 - val_loss: 0.1766\n",
      "Epoch 343/2000\n",
      "2/2 - 0s - loss: 0.1649 - val_loss: 0.1756\n",
      "Epoch 344/2000\n",
      "2/2 - 0s - loss: 0.1643 - val_loss: 0.1757\n",
      "Epoch 345/2000\n",
      "2/2 - 0s - loss: 0.1629 - val_loss: 0.1771\n",
      "Epoch 346/2000\n",
      "2/2 - 0s - loss: 0.1642 - val_loss: 0.1762\n",
      "Epoch 347/2000\n",
      "2/2 - 0s - loss: 0.1626 - val_loss: 0.1752\n",
      "Epoch 348/2000\n",
      "2/2 - 0s - loss: 0.1631 - val_loss: 0.1756\n",
      "Epoch 349/2000\n",
      "2/2 - 0s - loss: 0.1621 - val_loss: 0.1768\n",
      "Epoch 350/2000\n",
      "2/2 - 0s - loss: 0.1627 - val_loss: 0.1746\n",
      "Epoch 351/2000\n",
      "2/2 - 0s - loss: 0.1608 - val_loss: 0.1750\n",
      "Epoch 352/2000\n",
      "2/2 - 0s - loss: 0.1607 - val_loss: 0.1768\n",
      "Epoch 353/2000\n",
      "2/2 - 0s - loss: 0.1598 - val_loss: 0.1782\n",
      "Epoch 354/2000\n",
      "2/2 - 0s - loss: 0.1593 - val_loss: 0.1764\n",
      "Epoch 355/2000\n",
      "2/2 - 0s - loss: 0.1592 - val_loss: 0.1755\n",
      "Epoch 356/2000\n",
      "2/2 - 0s - loss: 0.1583 - val_loss: 0.1779\n",
      "Epoch 357/2000\n",
      "2/2 - 0s - loss: 0.1589 - val_loss: 0.1774\n",
      "Epoch 358/2000\n",
      "2/2 - 0s - loss: 0.1584 - val_loss: 0.1746\n",
      "Epoch 359/2000\n",
      "2/2 - 0s - loss: 0.1569 - val_loss: 0.1741\n",
      "Epoch 360/2000\n",
      "2/2 - 0s - loss: 0.1564 - val_loss: 0.1758\n",
      "Epoch 361/2000\n",
      "2/2 - 0s - loss: 0.1563 - val_loss: 0.1751\n",
      "Epoch 362/2000\n",
      "2/2 - 0s - loss: 0.1569 - val_loss: 0.1750\n",
      "Epoch 363/2000\n",
      "2/2 - 0s - loss: 0.1551 - val_loss: 0.1762\n",
      "Epoch 364/2000\n",
      "2/2 - 0s - loss: 0.1557 - val_loss: 0.1733\n",
      "Epoch 365/2000\n",
      "2/2 - 0s - loss: 0.1540 - val_loss: 0.1718\n",
      "Epoch 366/2000\n",
      "2/2 - 0s - loss: 0.1538 - val_loss: 0.1741\n",
      "Epoch 367/2000\n",
      "2/2 - 0s - loss: 0.1543 - val_loss: 0.1748\n",
      "Epoch 368/2000\n",
      "2/2 - 0s - loss: 0.1539 - val_loss: 0.1707\n",
      "Epoch 369/2000\n",
      "2/2 - 0s - loss: 0.1526 - val_loss: 0.1725\n",
      "Epoch 370/2000\n",
      "2/2 - 0s - loss: 0.1527 - val_loss: 0.1760\n",
      "Epoch 371/2000\n",
      "2/2 - 0s - loss: 0.1543 - val_loss: 0.1702\n",
      "Epoch 372/2000\n",
      "2/2 - 0s - loss: 0.1506 - val_loss: 0.1703\n",
      "Epoch 373/2000\n",
      "2/2 - 0s - loss: 0.1512 - val_loss: 0.1701\n",
      "Epoch 374/2000\n",
      "2/2 - 0s - loss: 0.1505 - val_loss: 0.1710\n",
      "Epoch 375/2000\n",
      "2/2 - 0s - loss: 0.1496 - val_loss: 0.1707\n",
      "Epoch 376/2000\n",
      "2/2 - 0s - loss: 0.1508 - val_loss: 0.1722\n",
      "Epoch 377/2000\n",
      "2/2 - 0s - loss: 0.1492 - val_loss: 0.1778\n",
      "Epoch 378/2000\n",
      "2/2 - 0s - loss: 0.1507 - val_loss: 0.1716\n",
      "Epoch 379/2000\n",
      "2/2 - 0s - loss: 0.1489 - val_loss: 0.1728\n",
      "Epoch 380/2000\n",
      "2/2 - 0s - loss: 0.1558 - val_loss: 0.1694\n",
      "Epoch 381/2000\n",
      "2/2 - 0s - loss: 0.1482 - val_loss: 0.1709\n",
      "Epoch 382/2000\n",
      "2/2 - 0s - loss: 0.1476 - val_loss: 0.1690\n",
      "Epoch 383/2000\n",
      "2/2 - 0s - loss: 0.1504 - val_loss: 0.1677\n",
      "Epoch 384/2000\n",
      "2/2 - 0s - loss: 0.1469 - val_loss: 0.1725\n",
      "Epoch 385/2000\n",
      "2/2 - 0s - loss: 0.1479 - val_loss: 0.1711\n",
      "Epoch 386/2000\n",
      "2/2 - 0s - loss: 0.1458 - val_loss: 0.1725\n",
      "Epoch 387/2000\n",
      "2/2 - 0s - loss: 0.1464 - val_loss: 0.1708\n",
      "Epoch 388/2000\n",
      "2/2 - 0s - loss: 0.1460 - val_loss: 0.1683\n",
      "Epoch 389/2000\n",
      "2/2 - 0s - loss: 0.1448 - val_loss: 0.1667\n",
      "Epoch 390/2000\n",
      "2/2 - 0s - loss: 0.1442 - val_loss: 0.1696\n",
      "Epoch 391/2000\n",
      "2/2 - 0s - loss: 0.1446 - val_loss: 0.1707\n",
      "Epoch 392/2000\n",
      "2/2 - 0s - loss: 0.1432 - val_loss: 0.1740\n",
      "Epoch 393/2000\n",
      "2/2 - 0s - loss: 0.1447 - val_loss: 0.1694\n",
      "Epoch 394/2000\n",
      "2/2 - 0s - loss: 0.1436 - val_loss: 0.1650\n",
      "Epoch 395/2000\n",
      "2/2 - 0s - loss: 0.1428 - val_loss: 0.1621\n",
      "Epoch 396/2000\n",
      "2/2 - 0s - loss: 0.1454 - val_loss: 0.1657\n",
      "Epoch 397/2000\n",
      "2/2 - 0s - loss: 0.1426 - val_loss: 0.1700\n",
      "Epoch 398/2000\n",
      "2/2 - 0s - loss: 0.1435 - val_loss: 0.1681\n",
      "Epoch 399/2000\n",
      "2/2 - 0s - loss: 0.1410 - val_loss: 0.1666\n",
      "Epoch 400/2000\n",
      "2/2 - 0s - loss: 0.1412 - val_loss: 0.1683\n",
      "Epoch 401/2000\n",
      "2/2 - 0s - loss: 0.1413 - val_loss: 0.1699\n",
      "Epoch 402/2000\n",
      "2/2 - 0s - loss: 0.1405 - val_loss: 0.1693\n",
      "Epoch 403/2000\n",
      "2/2 - 0s - loss: 0.1409 - val_loss: 0.1683\n",
      "Epoch 404/2000\n",
      "2/2 - 0s - loss: 0.1395 - val_loss: 0.1699\n",
      "Epoch 405/2000\n",
      "2/2 - 0s - loss: 0.1391 - val_loss: 0.1702\n",
      "Epoch 406/2000\n",
      "2/2 - 0s - loss: 0.1397 - val_loss: 0.1696\n",
      "Epoch 407/2000\n",
      "2/2 - 0s - loss: 0.1388 - val_loss: 0.1700\n",
      "Epoch 408/2000\n",
      "2/2 - 0s - loss: 0.1389 - val_loss: 0.1687\n",
      "Epoch 409/2000\n",
      "2/2 - 0s - loss: 0.1388 - val_loss: 0.1666\n",
      "Epoch 410/2000\n",
      "2/2 - 0s - loss: 0.1386 - val_loss: 0.1654\n",
      "Epoch 411/2000\n",
      "2/2 - 0s - loss: 0.1377 - val_loss: 0.1678\n",
      "Epoch 412/2000\n",
      "2/2 - 0s - loss: 0.1374 - val_loss: 0.1688\n",
      "Epoch 413/2000\n",
      "2/2 - 0s - loss: 0.1373 - val_loss: 0.1690\n",
      "Epoch 414/2000\n",
      "2/2 - 0s - loss: 0.1370 - val_loss: 0.1682\n",
      "Epoch 415/2000\n",
      "2/2 - 0s - loss: 0.1371 - val_loss: 0.1664\n",
      "Epoch 416/2000\n",
      "2/2 - 0s - loss: 0.1360 - val_loss: 0.1669\n",
      "Epoch 417/2000\n",
      "2/2 - 0s - loss: 0.1356 - val_loss: 0.1678\n",
      "Epoch 418/2000\n",
      "2/2 - 0s - loss: 0.1355 - val_loss: 0.1693\n",
      "Epoch 419/2000\n",
      "2/2 - 0s - loss: 0.1366 - val_loss: 0.1699\n",
      "Epoch 420/2000\n",
      "2/2 - 0s - loss: 0.1364 - val_loss: 0.1677\n",
      "Epoch 421/2000\n",
      "2/2 - 0s - loss: 0.1353 - val_loss: 0.1665\n",
      "Epoch 422/2000\n",
      "2/2 - 0s - loss: 0.1368 - val_loss: 0.1669\n",
      "Epoch 423/2000\n",
      "2/2 - 0s - loss: 0.1339 - val_loss: 0.1676\n",
      "Epoch 424/2000\n",
      "2/2 - 0s - loss: 0.1342 - val_loss: 0.1674\n",
      "Epoch 425/2000\n",
      "2/2 - 0s - loss: 0.1335 - val_loss: 0.1697\n",
      "Epoch 426/2000\n",
      "2/2 - 0s - loss: 0.1340 - val_loss: 0.1684\n",
      "Epoch 427/2000\n",
      "2/2 - 0s - loss: 0.1340 - val_loss: 0.1670\n"
     ]
    },
    {
     "name": "stdout",
     "output_type": "stream",
     "text": [
      "Epoch 428/2000\n",
      "2/2 - 0s - loss: 0.1329 - val_loss: 0.1665\n",
      "Epoch 429/2000\n",
      "2/2 - 0s - loss: 0.1332 - val_loss: 0.1671\n",
      "Epoch 430/2000\n",
      "2/2 - 0s - loss: 0.1326 - val_loss: 0.1688\n",
      "Epoch 431/2000\n",
      "2/2 - 0s - loss: 0.1321 - val_loss: 0.1708\n",
      "Epoch 432/2000\n",
      "2/2 - 0s - loss: 0.1325 - val_loss: 0.1683\n",
      "Epoch 433/2000\n",
      "2/2 - 0s - loss: 0.1320 - val_loss: 0.1677\n",
      "Epoch 434/2000\n",
      "2/2 - 0s - loss: 0.1327 - val_loss: 0.1639\n",
      "Epoch 435/2000\n",
      "2/2 - 0s - loss: 0.1313 - val_loss: 0.1660\n",
      "Epoch 436/2000\n",
      "2/2 - 0s - loss: 0.1311 - val_loss: 0.1670\n",
      "Epoch 437/2000\n",
      "2/2 - 0s - loss: 0.1305 - val_loss: 0.1686\n",
      "Epoch 438/2000\n",
      "2/2 - 0s - loss: 0.1304 - val_loss: 0.1668\n",
      "Epoch 439/2000\n",
      "2/2 - 0s - loss: 0.1310 - val_loss: 0.1659\n",
      "Epoch 440/2000\n",
      "2/2 - 0s - loss: 0.1305 - val_loss: 0.1676\n",
      "Epoch 441/2000\n",
      "2/2 - 0s - loss: 0.1306 - val_loss: 0.1656\n",
      "Epoch 442/2000\n",
      "2/2 - 0s - loss: 0.1297 - val_loss: 0.1658\n",
      "Epoch 443/2000\n",
      "2/2 - 0s - loss: 0.1327 - val_loss: 0.1633\n",
      "Epoch 444/2000\n",
      "2/2 - 0s - loss: 0.1292 - val_loss: 0.1646\n",
      "Epoch 445/2000\n",
      "2/2 - 0s - loss: 0.1296 - val_loss: 0.1671\n",
      "Epoch 00445: early stopping\n",
      "CPU times: user 2min 21s, sys: 34.1 s, total: 2min 55s\n",
      "Wall time: 27.2 s\n"
     ]
    },
    {
     "data": {
      "application/javascript": [
       "\n",
       "            setTimeout(function() {\n",
       "                var nbb_cell_id = 25;\n",
       "                var nbb_unformatted_code = \"%%time\\nhistory = model.fit(\\n    input_train,\\n    y_train.reshape(-1, 1),\\n    epochs=2000,\\n    batch_size=1024,\\n    validation_data=(input_valid, y_valid.reshape(-1, 1),),\\n    verbose=2,\\n    callbacks=[EarlyStopping(monitor=\\\"val_loss\\\", patience=50, verbose=1)],\\n    #class_weight=None#class_weight\\n)\";\n",
       "                var nbb_formatted_code = \"%%time\\nhistory = model.fit(\\n    input_train,\\n    y_train.reshape(-1, 1),\\n    epochs=2000,\\n    batch_size=1024,\\n    validation_data=(input_valid, y_valid.reshape(-1, 1),),\\n    verbose=2,\\n    callbacks=[EarlyStopping(monitor=\\\"val_loss\\\", patience=50, verbose=1)],\\n    #class_weight=None#class_weight\\n)\";\n",
       "                var nbb_cells = Jupyter.notebook.get_cells();\n",
       "                for (var i = 0; i < nbb_cells.length; ++i) {\n",
       "                    if (nbb_cells[i].input_prompt_number == nbb_cell_id) {\n",
       "                        if (nbb_cells[i].get_text() == nbb_unformatted_code) {\n",
       "                             nbb_cells[i].set_text(nbb_formatted_code);\n",
       "                        }\n",
       "                        break;\n",
       "                    }\n",
       "                }\n",
       "            }, 500);\n",
       "            "
      ],
      "text/plain": [
       "<IPython.core.display.Javascript object>"
      ]
     },
     "metadata": {},
     "output_type": "display_data"
    }
   ],
   "source": [
    "%%time\n",
    "history = model.fit(\n",
    "    input_train,\n",
    "    y_train.reshape(-1, 1),\n",
    "    epochs=2000,\n",
    "    batch_size=1024,\n",
    "    validation_data=(input_valid, y_valid.reshape(-1, 1),),\n",
    "    verbose=2,\n",
    "    callbacks=[EarlyStopping(monitor=\"val_loss\", patience=50, verbose=1)],\n",
    "    #class_weight=None#class_weight\n",
    ")"
   ]
  },
  {
   "cell_type": "code",
   "execution_count": 26,
   "metadata": {
    "ExecuteTime": {
     "end_time": "2020-09-19T11:40:14.889945Z",
     "start_time": "2020-09-19T11:40:14.760480Z"
    }
   },
   "outputs": [
    {
     "data": {
      "image/png": "[encoded data removed]",
      "text/plain": [
       "<Figure size 432x288 with 1 Axes>"
      ]
     },
     "metadata": {
      "needs_background": "light"
     },
     "output_type": "display_data"
    },
    {
     "data": {
      "application/javascript": [
       "\n",
       "            setTimeout(function() {\n",
       "                var nbb_cell_id = 26;\n",
       "                var nbb_unformatted_code = \"plot_history(history)\";\n",
       "                var nbb_formatted_code = \"plot_history(history)\";\n",
       "                var nbb_cells = Jupyter.notebook.get_cells();\n",
       "                for (var i = 0; i < nbb_cells.length; ++i) {\n",
       "                    if (nbb_cells[i].input_prompt_number == nbb_cell_id) {\n",
       "                        if (nbb_cells[i].get_text() == nbb_unformatted_code) {\n",
       "                             nbb_cells[i].set_text(nbb_formatted_code);\n",
       "                        }\n",
       "                        break;\n",
       "                    }\n",
       "                }\n",
       "            }, 500);\n",
       "            "
      ],
      "text/plain": [
       "<IPython.core.display.Javascript object>"
      ]
     },
     "metadata": {},
     "output_type": "display_data"
    }
   ],
   "source": [
    "plot_history(history)"
   ]
  },
  {
   "cell_type": "code",
   "execution_count": 27,
   "metadata": {
    "ExecuteTime": {
     "end_time": "2020-09-19T11:40:15.230040Z",
     "start_time": "2020-09-19T11:40:14.890985Z"
    }
   },
   "outputs": [
    {
     "data": {
      "text/plain": [
       "18786.854934210525"
      ]
     },
     "execution_count": 27,
     "metadata": {},
     "output_type": "execute_result"
    },
    {
     "data": {
      "application/javascript": [
       "\n",
       "            setTimeout(function() {\n",
       "                var nbb_cell_id = 27;\n",
       "                var nbb_unformatted_code = \"model_auc = mean_absolute_error(\\n    y_pred=target_encoder.inverse_transform(model.predict(input_valid)).reshape(-1),\\n    y_true=train[target].values[valid_indices],\\n)\\nmodel_auc\";\n",
       "                var nbb_formatted_code = \"model_auc = mean_absolute_error(\\n    y_pred=target_encoder.inverse_transform(model.predict(input_valid)).reshape(-1),\\n    y_true=train[target].values[valid_indices],\\n)\\nmodel_auc\";\n",
       "                var nbb_cells = Jupyter.notebook.get_cells();\n",
       "                for (var i = 0; i < nbb_cells.length; ++i) {\n",
       "                    if (nbb_cells[i].input_prompt_number == nbb_cell_id) {\n",
       "                        if (nbb_cells[i].get_text() == nbb_unformatted_code) {\n",
       "                             nbb_cells[i].set_text(nbb_formatted_code);\n",
       "                        }\n",
       "                        break;\n",
       "                    }\n",
       "                }\n",
       "            }, 500);\n",
       "            "
      ],
      "text/plain": [
       "<IPython.core.display.Javascript object>"
      ]
     },
     "metadata": {},
     "output_type": "display_data"
    }
   ],
   "source": [
    "model_auc = mean_absolute_error(\n",
    "    y_pred=target_encoder.inverse_transform(model.predict(input_valid)).reshape(-1),\n",
    "    y_true=train[target].values[valid_indices],\n",
    ")\n",
    "model_auc"
   ]
  },
  {
   "cell_type": "code",
   "execution_count": 28,
   "metadata": {
    "ExecuteTime": {
     "end_time": "2020-09-19T11:40:15.278956Z",
     "start_time": "2020-09-19T11:40:15.230911Z"
    }
   },
   "outputs": [
    {
     "data": {
      "text/plain": [
       "1053778786.2717786"
      ]
     },
     "execution_count": 28,
     "metadata": {},
     "output_type": "execute_result"
    },
    {
     "data": {
      "application/javascript": [
       "\n",
       "            setTimeout(function() {\n",
       "                var nbb_cell_id = 28;\n",
       "                var nbb_unformatted_code = \"model_auc = mean_squared_error(\\n    y_pred=target_encoder.inverse_transform(model.predict(input_valid)).reshape(-1),\\n    y_true=train[target].values[valid_indices],\\n)\\nmodel_auc\";\n",
       "                var nbb_formatted_code = \"model_auc = mean_squared_error(\\n    y_pred=target_encoder.inverse_transform(model.predict(input_valid)).reshape(-1),\\n    y_true=train[target].values[valid_indices],\\n)\\nmodel_auc\";\n",
       "                var nbb_cells = Jupyter.notebook.get_cells();\n",
       "                for (var i = 0; i < nbb_cells.length; ++i) {\n",
       "                    if (nbb_cells[i].input_prompt_number == nbb_cell_id) {\n",
       "                        if (nbb_cells[i].get_text() == nbb_unformatted_code) {\n",
       "                             nbb_cells[i].set_text(nbb_formatted_code);\n",
       "                        }\n",
       "                        break;\n",
       "                    }\n",
       "                }\n",
       "            }, 500);\n",
       "            "
      ],
      "text/plain": [
       "<IPython.core.display.Javascript object>"
      ]
     },
     "metadata": {},
     "output_type": "display_data"
    }
   ],
   "source": [
    "model_auc = mean_squared_error(\n",
    "    y_pred=target_encoder.inverse_transform(model.predict(input_valid)).reshape(-1),\n",
    "    y_true=train[target].values[valid_indices],\n",
    ")\n",
    "model_auc"
   ]
  },
  {
   "cell_type": "code",
   "execution_count": 29,
   "metadata": {
    "ExecuteTime": {
     "end_time": "2020-09-19T11:40:15.328889Z",
     "start_time": "2020-09-19T11:40:15.280074Z"
    }
   },
   "outputs": [
    {
     "data": {
      "text/plain": [
       "21055.64747431507"
      ]
     },
     "execution_count": 29,
     "metadata": {},
     "output_type": "execute_result"
    },
    {
     "data": {
      "application/javascript": [
       "\n",
       "            setTimeout(function() {\n",
       "                var nbb_cell_id = 29;\n",
       "                var nbb_unformatted_code = \"model_auc = mean_absolute_error(\\n    y_pred=target_encoder.inverse_transform(model.predict(input_test)).reshape(-1),\\n    y_true=train[target].values[test_indices],\\n)\\nmodel_auc\";\n",
       "                var nbb_formatted_code = \"model_auc = mean_absolute_error(\\n    y_pred=target_encoder.inverse_transform(model.predict(input_test)).reshape(-1),\\n    y_true=train[target].values[test_indices],\\n)\\nmodel_auc\";\n",
       "                var nbb_cells = Jupyter.notebook.get_cells();\n",
       "                for (var i = 0; i < nbb_cells.length; ++i) {\n",
       "                    if (nbb_cells[i].input_prompt_number == nbb_cell_id) {\n",
       "                        if (nbb_cells[i].get_text() == nbb_unformatted_code) {\n",
       "                             nbb_cells[i].set_text(nbb_formatted_code);\n",
       "                        }\n",
       "                        break;\n",
       "                    }\n",
       "                }\n",
       "            }, 500);\n",
       "            "
      ],
      "text/plain": [
       "<IPython.core.display.Javascript object>"
      ]
     },
     "metadata": {},
     "output_type": "display_data"
    }
   ],
   "source": [
    "model_auc = mean_absolute_error(\n",
    "    y_pred=target_encoder.inverse_transform(model.predict(input_test)).reshape(-1),\n",
    "    y_true=train[target].values[test_indices],\n",
    ")\n",
    "model_auc"
   ]
  },
  {
   "cell_type": "code",
   "execution_count": 30,
   "metadata": {
    "ExecuteTime": {
     "end_time": "2020-09-19T11:40:15.376916Z",
     "start_time": "2020-09-19T11:40:15.329816Z"
    }
   },
   "outputs": [
    {
     "data": {
      "text/plain": [
       "1496805742.6159458"
      ]
     },
     "execution_count": 30,
     "metadata": {},
     "output_type": "execute_result"
    },
    {
     "data": {
      "application/javascript": [
       "\n",
       "            setTimeout(function() {\n",
       "                var nbb_cell_id = 30;\n",
       "                var nbb_unformatted_code = \"model_auc = mean_squared_error(\\n    y_pred=target_encoder.inverse_transform(model.predict(input_test)).reshape(-1),\\n    y_true=train[target].values[test_indices],\\n)\\nmodel_auc\";\n",
       "                var nbb_formatted_code = \"model_auc = mean_squared_error(\\n    y_pred=target_encoder.inverse_transform(model.predict(input_test)).reshape(-1),\\n    y_true=train[target].values[test_indices],\\n)\\nmodel_auc\";\n",
       "                var nbb_cells = Jupyter.notebook.get_cells();\n",
       "                for (var i = 0; i < nbb_cells.length; ++i) {\n",
       "                    if (nbb_cells[i].input_prompt_number == nbb_cell_id) {\n",
       "                        if (nbb_cells[i].get_text() == nbb_unformatted_code) {\n",
       "                             nbb_cells[i].set_text(nbb_formatted_code);\n",
       "                        }\n",
       "                        break;\n",
       "                    }\n",
       "                }\n",
       "            }, 500);\n",
       "            "
      ],
      "text/plain": [
       "<IPython.core.display.Javascript object>"
      ]
     },
     "metadata": {},
     "output_type": "display_data"
    }
   ],
   "source": [
    "model_auc = mean_squared_error(\n",
    "    y_pred=target_encoder.inverse_transform(model.predict(input_test)).reshape(-1),\n",
    "    y_true=train[target].values[test_indices],\n",
    ")\n",
    "model_auc"
   ]
  },
  {
   "cell_type": "code",
   "execution_count": 31,
   "metadata": {
    "ExecuteTime": {
     "end_time": "2020-09-19T11:40:15.399353Z",
     "start_time": "2020-09-19T11:40:15.377927Z"
    }
   },
   "outputs": [
    {
     "data": {
      "application/javascript": [
       "\n",
       "            setTimeout(function() {\n",
       "                var nbb_cell_id = 31;\n",
       "                var nbb_unformatted_code = \"from xplainet.model import predict, encode\";\n",
       "                var nbb_formatted_code = \"from xplainet.model import predict, encode\";\n",
       "                var nbb_cells = Jupyter.notebook.get_cells();\n",
       "                for (var i = 0; i < nbb_cells.length; ++i) {\n",
       "                    if (nbb_cells[i].input_prompt_number == nbb_cell_id) {\n",
       "                        if (nbb_cells[i].get_text() == nbb_unformatted_code) {\n",
       "                             nbb_cells[i].set_text(nbb_formatted_code);\n",
       "                        }\n",
       "                        break;\n",
       "                    }\n",
       "                }\n",
       "            }, 500);\n",
       "            "
      ],
      "text/plain": [
       "<IPython.core.display.Javascript object>"
      ]
     },
     "metadata": {},
     "output_type": "display_data"
    }
   ],
   "source": [
    "from xplainet.model import predict, encode"
   ]
  },
  {
   "cell_type": "code",
   "execution_count": 32,
   "metadata": {
    "ExecuteTime": {
     "end_time": "2020-09-19T11:40:15.683995Z",
     "start_time": "2020-09-19T11:40:15.400398Z"
    }
   },
   "outputs": [
    {
     "data": {
      "application/javascript": [
       "\n",
       "            setTimeout(function() {\n",
       "                var nbb_cell_id = 32;\n",
       "                var nbb_unformatted_code = \"probs, explanations = predict(model, input_test)\";\n",
       "                var nbb_formatted_code = \"probs, explanations = predict(model, input_test)\";\n",
       "                var nbb_cells = Jupyter.notebook.get_cells();\n",
       "                for (var i = 0; i < nbb_cells.length; ++i) {\n",
       "                    if (nbb_cells[i].input_prompt_number == nbb_cell_id) {\n",
       "                        if (nbb_cells[i].get_text() == nbb_unformatted_code) {\n",
       "                             nbb_cells[i].set_text(nbb_formatted_code);\n",
       "                        }\n",
       "                        break;\n",
       "                    }\n",
       "                }\n",
       "            }, 500);\n",
       "            "
      ],
      "text/plain": [
       "<IPython.core.display.Javascript object>"
      ]
     },
     "metadata": {},
     "output_type": "display_data"
    }
   ],
   "source": [
    "probs, explanations = predict(model, input_test)"
   ]
  },
  {
   "cell_type": "code",
   "execution_count": 33,
   "metadata": {
    "ExecuteTime": {
     "end_time": "2020-09-19T11:40:16.050432Z",
     "start_time": "2020-09-19T11:40:15.685128Z"
    }
   },
   "outputs": [
    {
     "data": {
      "application/javascript": [
       "\n",
       "            setTimeout(function() {\n",
       "                var nbb_cell_id = 33;\n",
       "                var nbb_unformatted_code = \"probs, encoded_output = encode(model, input_test)\";\n",
       "                var nbb_formatted_code = \"probs, encoded_output = encode(model, input_test)\";\n",
       "                var nbb_cells = Jupyter.notebook.get_cells();\n",
       "                for (var i = 0; i < nbb_cells.length; ++i) {\n",
       "                    if (nbb_cells[i].input_prompt_number == nbb_cell_id) {\n",
       "                        if (nbb_cells[i].get_text() == nbb_unformatted_code) {\n",
       "                             nbb_cells[i].set_text(nbb_formatted_code);\n",
       "                        }\n",
       "                        break;\n",
       "                    }\n",
       "                }\n",
       "            }, 500);\n",
       "            "
      ],
      "text/plain": [
       "<IPython.core.display.Javascript object>"
      ]
     },
     "metadata": {},
     "output_type": "display_data"
    }
   ],
   "source": [
    "probs, encoded_output = encode(model, input_test)"
   ]
  },
  {
   "cell_type": "code",
   "execution_count": 34,
   "metadata": {
    "ExecuteTime": {
     "end_time": "2020-09-19T11:40:16.074582Z",
     "start_time": "2020-09-19T11:40:16.051376Z"
    }
   },
   "outputs": [
    {
     "data": {
      "text/plain": [
       "(146, 1)"
      ]
     },
     "execution_count": 34,
     "metadata": {},
     "output_type": "execute_result"
    },
    {
     "data": {
      "application/javascript": [
       "\n",
       "            setTimeout(function() {\n",
       "                var nbb_cell_id = 34;\n",
       "                var nbb_unformatted_code = \"y_test.shape\";\n",
       "                var nbb_formatted_code = \"y_test.shape\";\n",
       "                var nbb_cells = Jupyter.notebook.get_cells();\n",
       "                for (var i = 0; i < nbb_cells.length; ++i) {\n",
       "                    if (nbb_cells[i].input_prompt_number == nbb_cell_id) {\n",
       "                        if (nbb_cells[i].get_text() == nbb_unformatted_code) {\n",
       "                             nbb_cells[i].set_text(nbb_formatted_code);\n",
       "                        }\n",
       "                        break;\n",
       "                    }\n",
       "                }\n",
       "            }, 500);\n",
       "            "
      ],
      "text/plain": [
       "<IPython.core.display.Javascript object>"
      ]
     },
     "metadata": {},
     "output_type": "display_data"
    }
   ],
   "source": [
    "y_test.shape"
   ]
  },
  {
   "cell_type": "code",
   "execution_count": 35,
   "metadata": {
    "ExecuteTime": {
     "end_time": "2020-09-19T11:40:16.097690Z",
     "start_time": "2020-09-19T11:40:16.075633Z"
    }
   },
   "outputs": [
    {
     "data": {
      "text/plain": [
       "(146, 384)"
      ]
     },
     "execution_count": 35,
     "metadata": {},
     "output_type": "execute_result"
    },
    {
     "data": {
      "application/javascript": [
       "\n",
       "            setTimeout(function() {\n",
       "                var nbb_cell_id = 35;\n",
       "                var nbb_unformatted_code = \"encoded_output.shape\";\n",
       "                var nbb_formatted_code = \"encoded_output.shape\";\n",
       "                var nbb_cells = Jupyter.notebook.get_cells();\n",
       "                for (var i = 0; i < nbb_cells.length; ++i) {\n",
       "                    if (nbb_cells[i].input_prompt_number == nbb_cell_id) {\n",
       "                        if (nbb_cells[i].get_text() == nbb_unformatted_code) {\n",
       "                             nbb_cells[i].set_text(nbb_formatted_code);\n",
       "                        }\n",
       "                        break;\n",
       "                    }\n",
       "                }\n",
       "            }, 500);\n",
       "            "
      ],
      "text/plain": [
       "<IPython.core.display.Javascript object>"
      ]
     },
     "metadata": {},
     "output_type": "display_data"
    }
   ],
   "source": [
    "encoded_output.shape"
   ]
  },
  {
   "cell_type": "code",
   "execution_count": 36,
   "metadata": {
    "ExecuteTime": {
     "end_time": "2020-09-19T11:40:16.120691Z",
     "start_time": "2020-09-19T11:40:16.098588Z"
    }
   },
   "outputs": [
    {
     "data": {
      "text/plain": [
       "(146, 80)"
      ]
     },
     "execution_count": 36,
     "metadata": {},
     "output_type": "execute_result"
    },
    {
     "data": {
      "application/javascript": [
       "\n",
       "            setTimeout(function() {\n",
       "                var nbb_cell_id = 36;\n",
       "                var nbb_unformatted_code = \"explanations.shape\";\n",
       "                var nbb_formatted_code = \"explanations.shape\";\n",
       "                var nbb_cells = Jupyter.notebook.get_cells();\n",
       "                for (var i = 0; i < nbb_cells.length; ++i) {\n",
       "                    if (nbb_cells[i].input_prompt_number == nbb_cell_id) {\n",
       "                        if (nbb_cells[i].get_text() == nbb_unformatted_code) {\n",
       "                             nbb_cells[i].set_text(nbb_formatted_code);\n",
       "                        }\n",
       "                        break;\n",
       "                    }\n",
       "                }\n",
       "            }, 500);\n",
       "            "
      ],
      "text/plain": [
       "<IPython.core.display.Javascript object>"
      ]
     },
     "metadata": {},
     "output_type": "display_data"
    }
   ],
   "source": [
    "explanations.shape"
   ]
  },
  {
   "cell_type": "code",
   "execution_count": 37,
   "metadata": {
    "ExecuteTime": {
     "end_time": "2020-09-19T11:40:16.151690Z",
     "start_time": "2020-09-19T11:40:16.121730Z"
    }
   },
   "outputs": [
    {
     "data": {
      "application/javascript": [
       "\n",
       "            setTimeout(function() {\n",
       "                var nbb_cell_id = 37;\n",
       "                var nbb_unformatted_code = \"import matplotlib.pyplot as plt\\n\\n# plt.rcdefaults()\\nimport numpy as np\\nimport matplotlib.pyplot as plt\\n\\n\\ndef explain_plot(importances, columns):\\n    selection = np.argsort(-np.absolute(importances))[:10]\\n    # indexes = np.argsort(importances)\\n    performance = importances[selection]\\n    #     print(performance.shape)512, 256, 128, 64, 32, 1\\n    y_pos = np.arange(performance.shape[0])\\n\\n    plt.barh(y_pos, performance, align=\\\"center\\\", alpha=0.5)\\n    plt.yticks(y_pos, columns[selection])\\n    # plt.xlabel('Usage')\\n    plt.title(\\\"Feature importance\\\")\\n\\n    plt.show()\";\n",
       "                var nbb_formatted_code = \"import matplotlib.pyplot as plt\\n\\n# plt.rcdefaults()\\nimport numpy as np\\nimport matplotlib.pyplot as plt\\n\\n\\ndef explain_plot(importances, columns):\\n    selection = np.argsort(-np.absolute(importances))[:10]\\n    # indexes = np.argsort(importances)\\n    performance = importances[selection]\\n    #     print(performance.shape)512, 256, 128, 64, 32, 1\\n    y_pos = np.arange(performance.shape[0])\\n\\n    plt.barh(y_pos, performance, align=\\\"center\\\", alpha=0.5)\\n    plt.yticks(y_pos, columns[selection])\\n    # plt.xlabel('Usage')\\n    plt.title(\\\"Feature importance\\\")\\n\\n    plt.show()\";\n",
       "                var nbb_cells = Jupyter.notebook.get_cells();\n",
       "                for (var i = 0; i < nbb_cells.length; ++i) {\n",
       "                    if (nbb_cells[i].input_prompt_number == nbb_cell_id) {\n",
       "                        if (nbb_cells[i].get_text() == nbb_unformatted_code) {\n",
       "                             nbb_cells[i].set_text(nbb_formatted_code);\n",
       "                        }\n",
       "                        break;\n",
       "                    }\n",
       "                }\n",
       "            }, 500);\n",
       "            "
      ],
      "text/plain": [
       "<IPython.core.display.Javascript object>"
      ]
     },
     "metadata": {},
     "output_type": "display_data"
    }
   ],
   "source": [
    "import matplotlib.pyplot as plt\n",
    "\n",
    "# plt.rcdefaults()\n",
    "import numpy as np\n",
    "import matplotlib.pyplot as plt\n",
    "\n",
    "\n",
    "def explain_plot(importances, columns):\n",
    "    selection = np.argsort(-np.absolute(importances))[:10]\n",
    "    # indexes = np.argsort(importances)\n",
    "    performance = importances[selection]\n",
    "    #     print(performance.shape)512, 256, 128, 64, 32, 1\n",
    "    y_pos = np.arange(performance.shape[0])\n",
    "\n",
    "    plt.barh(y_pos, performance, align=\"center\", alpha=0.5)\n",
    "    plt.yticks(y_pos, columns[selection])\n",
    "    # plt.xlabel('Usage')\n",
    "    plt.title(\"Feature importance\")\n",
    "\n",
    "    plt.show()"
   ]
  },
  {
   "cell_type": "code",
   "execution_count": 38,
   "metadata": {
    "ExecuteTime": {
     "end_time": "2020-09-19T11:40:16.176431Z",
     "start_time": "2020-09-19T11:40:16.152611Z"
    }
   },
   "outputs": [
    {
     "data": {
      "text/plain": [
       "array(['Alley', 'Utilities', 'CentralAir', 'Street', 'BsmtFinSF1',\n",
       "       'GarageYrBlt', 'WoodDeckSF', '1stFlrSF', '2ndFlrSF', 'BsmtUnfSF',\n",
       "       'Id', 'YearBuilt', 'BsmtFinSF2', 'EnclosedPorch', 'GrLivArea',\n",
       "       'OpenPorchSF', 'MasVnrArea', 'GarageArea', 'LotArea',\n",
       "       'YearRemodAdd', 'LotFrontage', 'TotalBsmtSF', 'ScreenPorch',\n",
       "       'FullBath', 'RoofStyle', 'Exterior1st', 'LotShape', 'MSSubClass',\n",
       "       'BsmtFinType1', 'Condition2', 'LandSlope', 'GarageCars', 'PoolQC',\n",
       "       'TotRmsAbvGrd', 'BsmtFullBath', 'MSZoning', 'HalfBath',\n",
       "       'PavedDrive', 'GarageFinish', 'Exterior2nd', 'LowQualFinSF',\n",
       "       'HeatingQC', 'MasVnrType', 'Neighborhood', 'GarageType',\n",
       "       'RoofMatl', 'MiscVal', 'Functional', 'HouseStyle', 'BsmtExposure',\n",
       "       'OverallQual', 'Fence', 'BsmtFinType2', 'BedroomAbvGr',\n",
       "       'GarageCond', 'SaleType', 'SaleCondition', 'GarageQual',\n",
       "       '3SsnPorch', 'Foundation', 'KitchenAbvGr', 'LandContour',\n",
       "       'FireplaceQu', 'BsmtCond', 'BldgType', 'Condition1', 'OverallCond',\n",
       "       'LotConfig', 'BsmtHalfBath', 'Heating', 'ExterQual', 'YrSold',\n",
       "       'BsmtQual', 'ExterCond', 'PoolArea', 'MoSold', 'Fireplaces',\n",
       "       'KitchenQual', 'MiscFeature', 'Electrical'], dtype='<U13')"
      ]
     },
     "execution_count": 38,
     "metadata": {},
     "output_type": "execute_result"
    },
    {
     "data": {
      "application/javascript": [
       "\n",
       "            setTimeout(function() {\n",
       "                var nbb_cell_id = 38;\n",
       "                var nbb_unformatted_code = \"all_cols = np.array(params[\\\"bool_cols\\\"] + params[\\\"num_cols\\\"] + params[\\\"cat_cols\\\"])\\nall_cols\";\n",
       "                var nbb_formatted_code = \"all_cols = np.array(params[\\\"bool_cols\\\"] + params[\\\"num_cols\\\"] + params[\\\"cat_cols\\\"])\\nall_cols\";\n",
       "                var nbb_cells = Jupyter.notebook.get_cells();\n",
       "                for (var i = 0; i < nbb_cells.length; ++i) {\n",
       "                    if (nbb_cells[i].input_prompt_number == nbb_cell_id) {\n",
       "                        if (nbb_cells[i].get_text() == nbb_unformatted_code) {\n",
       "                             nbb_cells[i].set_text(nbb_formatted_code);\n",
       "                        }\n",
       "                        break;\n",
       "                    }\n",
       "                }\n",
       "            }, 500);\n",
       "            "
      ],
      "text/plain": [
       "<IPython.core.display.Javascript object>"
      ]
     },
     "metadata": {},
     "output_type": "display_data"
    }
   ],
   "source": [
    "all_cols = np.array(params[\"bool_cols\"] + params[\"num_cols\"] + params[\"cat_cols\"])\n",
    "all_cols"
   ]
  },
  {
   "cell_type": "markdown",
   "metadata": {
    "ExecuteTime": {
     "end_time": "2020-09-18T18:48:54.151671Z",
     "start_time": "2020-09-18T18:48:54.127488Z"
    }
   },
   "source": [
    "## Explain global"
   ]
  },
  {
   "cell_type": "code",
   "execution_count": 39,
   "metadata": {
    "ExecuteTime": {
     "end_time": "2020-09-19T11:40:16.198446Z",
     "start_time": "2020-09-19T11:40:16.177416Z"
    }
   },
   "outputs": [
    {
     "data": {
      "application/javascript": [
       "\n",
       "            setTimeout(function() {\n",
       "                var nbb_cell_id = 39;\n",
       "                var nbb_unformatted_code = \"# Looks like this is broken for now.\";\n",
       "                var nbb_formatted_code = \"# Looks like this is broken for now.\";\n",
       "                var nbb_cells = Jupyter.notebook.get_cells();\n",
       "                for (var i = 0; i < nbb_cells.length; ++i) {\n",
       "                    if (nbb_cells[i].input_prompt_number == nbb_cell_id) {\n",
       "                        if (nbb_cells[i].get_text() == nbb_unformatted_code) {\n",
       "                             nbb_cells[i].set_text(nbb_formatted_code);\n",
       "                        }\n",
       "                        break;\n",
       "                    }\n",
       "                }\n",
       "            }, 500);\n",
       "            "
      ],
      "text/plain": [
       "<IPython.core.display.Javascript object>"
      ]
     },
     "metadata": {},
     "output_type": "display_data"
    }
   ],
   "source": [
    "# Looks like this is broken for now."
   ]
  },
  {
   "cell_type": "code",
   "execution_count": 40,
   "metadata": {
    "ExecuteTime": {
     "end_time": "2020-09-19T11:40:16.511268Z",
     "start_time": "2020-09-19T11:40:16.199301Z"
    }
   },
   "outputs": [
    {
     "data": {
      "application/javascript": [
       "\n",
       "            setTimeout(function() {\n",
       "                var nbb_cell_id = 40;\n",
       "                var nbb_unformatted_code = \"probs_train, explanations_train = predict(model, input_train)\";\n",
       "                var nbb_formatted_code = \"probs_train, explanations_train = predict(model, input_train)\";\n",
       "                var nbb_cells = Jupyter.notebook.get_cells();\n",
       "                for (var i = 0; i < nbb_cells.length; ++i) {\n",
       "                    if (nbb_cells[i].input_prompt_number == nbb_cell_id) {\n",
       "                        if (nbb_cells[i].get_text() == nbb_unformatted_code) {\n",
       "                             nbb_cells[i].set_text(nbb_formatted_code);\n",
       "                        }\n",
       "                        break;\n",
       "                    }\n",
       "                }\n",
       "            }, 500);\n",
       "            "
      ],
      "text/plain": [
       "<IPython.core.display.Javascript object>"
      ]
     },
     "metadata": {},
     "output_type": "display_data"
    }
   ],
   "source": [
    "probs_train, explanations_train = predict(model, input_train)"
   ]
  },
  {
   "cell_type": "code",
   "execution_count": 41,
   "metadata": {
    "ExecuteTime": {
     "end_time": "2020-09-19T11:40:16.534945Z",
     "start_time": "2020-09-19T11:40:16.512231Z"
    }
   },
   "outputs": [
    {
     "data": {
      "application/javascript": [
       "\n",
       "            setTimeout(function() {\n",
       "                var nbb_cell_id = 41;\n",
       "                var nbb_unformatted_code = \"global_explain = np.abs(explanations_train).sum(axis=0)\\nglobal_explain = global_explain / np.abs(global_explain).sum()\";\n",
       "                var nbb_formatted_code = \"global_explain = np.abs(explanations_train).sum(axis=0)\\nglobal_explain = global_explain / np.abs(global_explain).sum()\";\n",
       "                var nbb_cells = Jupyter.notebook.get_cells();\n",
       "                for (var i = 0; i < nbb_cells.length; ++i) {\n",
       "                    if (nbb_cells[i].input_prompt_number == nbb_cell_id) {\n",
       "                        if (nbb_cells[i].get_text() == nbb_unformatted_code) {\n",
       "                             nbb_cells[i].set_text(nbb_formatted_code);\n",
       "                        }\n",
       "                        break;\n",
       "                    }\n",
       "                }\n",
       "            }, 500);\n",
       "            "
      ],
      "text/plain": [
       "<IPython.core.display.Javascript object>"
      ]
     },
     "metadata": {},
     "output_type": "display_data"
    }
   ],
   "source": [
    "global_explain = np.abs(explanations_train).sum(axis=0)\n",
    "global_explain = global_explain / np.abs(global_explain).sum()"
   ]
  },
  {
   "cell_type": "code",
   "execution_count": 42,
   "metadata": {
    "ExecuteTime": {
     "end_time": "2020-09-19T11:40:16.558269Z",
     "start_time": "2020-09-19T11:40:16.535882Z"
    }
   },
   "outputs": [
    {
     "data": {
      "text/plain": [
       "array([0.0120729 , 0.0124762 , 0.01222614, 0.0124916 , 0.01231679,\n",
       "       0.01256475, 0.0124518 , 0.01272879, 0.01231033, 0.01235394,\n",
       "       0.01269806, 0.01338259, 0.01245693, 0.01247649, 0.01324922,\n",
       "       0.01242439, 0.01251552, 0.01211472, 0.01221215, 0.01256774,\n",
       "       0.01221374, 0.0116464 , 0.01246198, 0.01276534, 0.01263722,\n",
       "       0.01249791, 0.01255293, 0.01240453, 0.01246991, 0.01245866,\n",
       "       0.01253311, 0.01275495, 0.01251976, 0.01265324, 0.01253825,\n",
       "       0.01236617, 0.01250438, 0.01241296, 0.01251028, 0.01250302,\n",
       "       0.01250148, 0.01245344, 0.01252493, 0.01272728, 0.01246639,\n",
       "       0.01256175, 0.01243397, 0.01235894, 0.01246545, 0.01273345,\n",
       "       0.01275646, 0.01245835, 0.01247271, 0.01254885, 0.01239082,\n",
       "       0.01259072, 0.01249101, 0.01246913, 0.01249826, 0.01253915,\n",
       "       0.0124348 , 0.01251683, 0.01263893, 0.01238734, 0.01221684,\n",
       "       0.01238089, 0.01248622, 0.0125612 , 0.01241776, 0.01247089,\n",
       "       0.01264738, 0.01247662, 0.01266825, 0.01244678, 0.01258136,\n",
       "       0.01246   , 0.01265739, 0.01273881, 0.01245714, 0.01241623])"
      ]
     },
     "execution_count": 42,
     "metadata": {},
     "output_type": "execute_result"
    },
    {
     "data": {
      "application/javascript": [
       "\n",
       "            setTimeout(function() {\n",
       "                var nbb_cell_id = 42;\n",
       "                var nbb_unformatted_code = \"global_explain\";\n",
       "                var nbb_formatted_code = \"global_explain\";\n",
       "                var nbb_cells = Jupyter.notebook.get_cells();\n",
       "                for (var i = 0; i < nbb_cells.length; ++i) {\n",
       "                    if (nbb_cells[i].input_prompt_number == nbb_cell_id) {\n",
       "                        if (nbb_cells[i].get_text() == nbb_unformatted_code) {\n",
       "                             nbb_cells[i].set_text(nbb_formatted_code);\n",
       "                        }\n",
       "                        break;\n",
       "                    }\n",
       "                }\n",
       "            }, 500);\n",
       "            "
      ],
      "text/plain": [
       "<IPython.core.display.Javascript object>"
      ]
     },
     "metadata": {},
     "output_type": "display_data"
    }
   ],
   "source": [
    "global_explain"
   ]
  },
  {
   "cell_type": "code",
   "execution_count": 43,
   "metadata": {
    "ExecuteTime": {
     "end_time": "2020-09-19T11:40:16.678597Z",
     "start_time": "2020-09-19T11:40:16.559213Z"
    }
   },
   "outputs": [
    {
     "data": {
      "image/png": "[encoded data removed]",
      "text/plain": [
       "<Figure size 432x288 with 1 Axes>"
      ]
     },
     "metadata": {
      "needs_background": "light"
     },
     "output_type": "display_data"
    },
    {
     "data": {
      "application/javascript": [
       "\n",
       "            setTimeout(function() {\n",
       "                var nbb_cell_id = 43;\n",
       "                var nbb_unformatted_code = \"explain_plot(global_explain, all_cols)\";\n",
       "                var nbb_formatted_code = \"explain_plot(global_explain, all_cols)\";\n",
       "                var nbb_cells = Jupyter.notebook.get_cells();\n",
       "                for (var i = 0; i < nbb_cells.length; ++i) {\n",
       "                    if (nbb_cells[i].input_prompt_number == nbb_cell_id) {\n",
       "                        if (nbb_cells[i].get_text() == nbb_unformatted_code) {\n",
       "                             nbb_cells[i].set_text(nbb_formatted_code);\n",
       "                        }\n",
       "                        break;\n",
       "                    }\n",
       "                }\n",
       "            }, 500);\n",
       "            "
      ],
      "text/plain": [
       "<IPython.core.display.Javascript object>"
      ]
     },
     "metadata": {},
     "output_type": "display_data"
    }
   ],
   "source": [
    "explain_plot(global_explain, all_cols)"
   ]
  },
  {
   "cell_type": "markdown",
   "metadata": {},
   "source": [
    "## Explain local"
   ]
  },
  {
   "cell_type": "code",
   "execution_count": 44,
   "metadata": {
    "ExecuteTime": {
     "end_time": "2020-09-19T11:40:16.700515Z",
     "start_time": "2020-09-19T11:40:16.679546Z"
    }
   },
   "outputs": [
    {
     "data": {
      "application/javascript": [
       "\n",
       "            setTimeout(function() {\n",
       "                var nbb_cell_id = 44;\n",
       "                var nbb_unformatted_code = \"# Looks like this is broken for now.\";\n",
       "                var nbb_formatted_code = \"# Looks like this is broken for now.\";\n",
       "                var nbb_cells = Jupyter.notebook.get_cells();\n",
       "                for (var i = 0; i < nbb_cells.length; ++i) {\n",
       "                    if (nbb_cells[i].input_prompt_number == nbb_cell_id) {\n",
       "                        if (nbb_cells[i].get_text() == nbb_unformatted_code) {\n",
       "                             nbb_cells[i].set_text(nbb_formatted_code);\n",
       "                        }\n",
       "                        break;\n",
       "                    }\n",
       "                }\n",
       "            }, 500);\n",
       "            "
      ],
      "text/plain": [
       "<IPython.core.display.Javascript object>"
      ]
     },
     "metadata": {},
     "output_type": "display_data"
    }
   ],
   "source": [
    "# Looks like this is broken for now."
   ]
  },
  {
   "cell_type": "code",
   "execution_count": 45,
   "metadata": {
    "ExecuteTime": {
     "end_time": "2020-09-19T11:40:18.694503Z",
     "start_time": "2020-09-19T11:40:16.701412Z"
    }
   },
   "outputs": [
    {
     "data": {
      "image/png": "[encoded data removed]",
      "text/plain": [
       "<Figure size 432x288 with 1 Axes>"
      ]
     },
     "metadata": {
      "needs_background": "light"
     },
     "output_type": "display_data"
    },
    {
     "name": "stdout",
     "output_type": "stream",
     "text": [
      "-0.8555428385734558\n"
     ]
    },
    {
     "data": {
      "image/png": "[encoded data removed]",
      "text/plain": [
       "<Figure size 432x288 with 1 Axes>"
      ]
     },
     "metadata": {
      "needs_background": "light"
     },
     "output_type": "display_data"
    },
    {
     "name": "stdout",
     "output_type": "stream",
     "text": [
      "-1.3303014039993286\n"
     ]
    },
    {
     "data": {
      "image/png": "[encoded data removed]",
      "text/plain": [
       "<Figure size 432x288 with 1 Axes>"
      ]
     },
     "metadata": {
      "needs_background": "light"
     },
     "output_type": "display_data"
    },
    {
     "name": "stdout",
     "output_type": "stream",
     "text": [
      "-0.3308514952659607\n"
     ]
    },
    {
     "data": {
      "image/png": "[encoded data removed]",
      "text/plain": [
       "<Figure size 432x288 with 1 Axes>"
      ]
     },
     "metadata": {
      "needs_background": "light"
     },
     "output_type": "display_data"
    },
    {
     "name": "stdout",
     "output_type": "stream",
     "text": [
      "-0.6850005984306335\n"
     ]
    },
    {
     "data": {
      "image/png": "[encoded data removed]",
      "text/plain": [
       "<Figure size 432x288 with 1 Axes>"
      ]
     },
     "metadata": {
      "needs_background": "light"
     },
     "output_type": "display_data"
    },
    {
     "name": "stdout",
     "output_type": "stream",
     "text": [
      "-0.6428357362747192\n"
     ]
    },
    {
     "data": {
      "image/png": "[encoded data removed]",
      "text/plain": [
       "<Figure size 432x288 with 1 Axes>"
      ]
     },
     "metadata": {
      "needs_background": "light"
     },
     "output_type": "display_data"
    },
    {
     "name": "stdout",
     "output_type": "stream",
     "text": [
      "-0.8124862909317017\n"
     ]
    },
    {
     "data": {
      "image/png": "[encoded data removed]",
      "text/plain": [
       "<Figure size 432x288 with 1 Axes>"
      ]
     },
     "metadata": {
      "needs_background": "light"
     },
     "output_type": "display_data"
    },
    {
     "name": "stdout",
     "output_type": "stream",
     "text": [
      "-0.5921539664268494\n"
     ]
    },
    {
     "data": {
      "image/png": "[encoded data removed]",
      "text/plain": [
       "<Figure size 432x288 with 1 Axes>"
      ]
     },
     "metadata": {
      "needs_background": "light"
     },
     "output_type": "display_data"
    },
    {
     "name": "stdout",
     "output_type": "stream",
     "text": [
      "1.865527868270874\n"
     ]
    },
    {
     "data": {
      "image/png": "[encoded data removed]",
      "text/plain": [
       "<Figure size 432x288 with 1 Axes>"
      ]
     },
     "metadata": {
      "needs_background": "light"
     },
     "output_type": "display_data"
    },
    {
     "name": "stdout",
     "output_type": "stream",
     "text": [
      "0.2924802899360657\n"
     ]
    },
    {
     "data": {
      "image/png": "[encoded data removed]",
      "text/plain": [
       "<Figure size 432x288 with 1 Axes>"
      ]
     },
     "metadata": {
      "needs_background": "light"
     },
     "output_type": "display_data"
    },
    {
     "name": "stdout",
     "output_type": "stream",
     "text": [
      "0.8689174652099609\n"
     ]
    },
    {
     "data": {
      "image/png": "[encoded data removed]",
      "text/plain": [
       "<Figure size 432x288 with 1 Axes>"
      ]
     },
     "metadata": {
      "needs_background": "light"
     },
     "output_type": "display_data"
    },
    {
     "name": "stdout",
     "output_type": "stream",
     "text": [
      "-0.8601822257041931\n"
     ]
    },
    {
     "data": {
      "image/png": "[encoded data removed]",
      "text/plain": [
       "<Figure size 432x288 with 1 Axes>"
      ]
     },
     "metadata": {
      "needs_background": "light"
     },
     "output_type": "display_data"
    },
    {
     "name": "stdout",
     "output_type": "stream",
     "text": [
      "-1.0028027296066284\n"
     ]
    },
    {
     "data": {
      "image/png": "[encoded data removed]",
      "text/plain": [
       "<Figure size 432x288 with 1 Axes>"
      ]
     },
     "metadata": {
      "needs_background": "light"
     },
     "output_type": "display_data"
    },
    {
     "name": "stdout",
     "output_type": "stream",
     "text": [
      "0.06502003222703934\n"
     ]
    },
    {
     "data": {
      "image/png": "[encoded data removed]",
      "text/plain": [
       "<Figure size 432x288 with 1 Axes>"
      ]
     },
     "metadata": {
      "needs_background": "light"
     },
     "output_type": "display_data"
    },
    {
     "name": "stdout",
     "output_type": "stream",
     "text": [
      "-0.28834038972854614\n"
     ]
    },
    {
     "data": {
      "image/png": "[encoded data removed]",
      "text/plain": [
       "<Figure size 432x288 with 1 Axes>"
      ]
     },
     "metadata": {
      "needs_background": "light"
     },
     "output_type": "display_data"
    },
    {
     "name": "stdout",
     "output_type": "stream",
     "text": [
      "-0.3180586099624634\n"
     ]
    },
    {
     "data": {
      "image/png": "[encoded data removed]",
      "text/plain": [
       "<Figure size 432x288 with 1 Axes>"
      ]
     },
     "metadata": {
      "needs_background": "light"
     },
     "output_type": "display_data"
    },
    {
     "name": "stdout",
     "output_type": "stream",
     "text": [
      "0.40053296089172363\n"
     ]
    },
    {
     "data": {
      "image/png": "[encoded data removed]",
      "text/plain": [
       "<Figure size 432x288 with 1 Axes>"
      ]
     },
     "metadata": {
      "needs_background": "light"
     },
     "output_type": "display_data"
    },
    {
     "name": "stdout",
     "output_type": "stream",
     "text": [
      "0.13528241217136383\n"
     ]
    },
    {
     "data": {
      "image/png": "[encoded data removed]",
      "text/plain": [
       "<Figure size 432x288 with 1 Axes>"
      ]
     },
     "metadata": {
      "needs_background": "light"
     },
     "output_type": "display_data"
    },
    {
     "name": "stdout",
     "output_type": "stream",
     "text": [
      "0.05649198219180107\n"
     ]
    },
    {
     "data": {
      "image/png": "[encoded data removed]",
      "text/plain": [
       "<Figure size 432x288 with 1 Axes>"
      ]
     },
     "metadata": {
      "needs_background": "light"
     },
     "output_type": "display_data"
    },
    {
     "name": "stdout",
     "output_type": "stream",
     "text": [
      "-0.7427381873130798\n"
     ]
    },
    {
     "data": {
      "image/png": "[encoded data removed]",
      "text/plain": [
       "<Figure size 432x288 with 1 Axes>"
      ]
     },
     "metadata": {
      "needs_background": "light"
     },
     "output_type": "display_data"
    },
    {
     "name": "stdout",
     "output_type": "stream",
     "text": [
      "0.29683995246887207\n"
     ]
    },
    {
     "data": {
      "application/javascript": [
       "\n",
       "            setTimeout(function() {\n",
       "                var nbb_cell_id = 45;\n",
       "                var nbb_unformatted_code = \"for i in range(20):\\n    explain_plot(explanations[i], all_cols)\\n    print(probs[i].item())\";\n",
       "                var nbb_formatted_code = \"for i in range(20):\\n    explain_plot(explanations[i], all_cols)\\n    print(probs[i].item())\";\n",
       "                var nbb_cells = Jupyter.notebook.get_cells();\n",
       "                for (var i = 0; i < nbb_cells.length; ++i) {\n",
       "                    if (nbb_cells[i].input_prompt_number == nbb_cell_id) {\n",
       "                        if (nbb_cells[i].get_text() == nbb_unformatted_code) {\n",
       "                             nbb_cells[i].set_text(nbb_formatted_code);\n",
       "                        }\n",
       "                        break;\n",
       "                    }\n",
       "                }\n",
       "            }, 500);\n",
       "            "
      ],
      "text/plain": [
       "<IPython.core.display.Javascript object>"
      ]
     },
     "metadata": {},
     "output_type": "display_data"
    }
   ],
   "source": [
    "for i in range(20):\n",
    "    explain_plot(explanations[i], all_cols)\n",
    "    print(probs[i].item())"
   ]
  },
  {
   "cell_type": "code",
   "execution_count": 46,
   "metadata": {
    "ExecuteTime": {
     "end_time": "2020-09-19T11:40:18.716114Z",
     "start_time": "2020-09-19T11:40:18.695457Z"
    }
   },
   "outputs": [
    {
     "data": {
      "application/javascript": [
       "\n",
       "            setTimeout(function() {\n",
       "                var nbb_cell_id = 46;\n",
       "                var nbb_unformatted_code = \"from sklearn.metrics import confusion_matrix\";\n",
       "                var nbb_formatted_code = \"from sklearn.metrics import confusion_matrix\";\n",
       "                var nbb_cells = Jupyter.notebook.get_cells();\n",
       "                for (var i = 0; i < nbb_cells.length; ++i) {\n",
       "                    if (nbb_cells[i].input_prompt_number == nbb_cell_id) {\n",
       "                        if (nbb_cells[i].get_text() == nbb_unformatted_code) {\n",
       "                             nbb_cells[i].set_text(nbb_formatted_code);\n",
       "                        }\n",
       "                        break;\n",
       "                    }\n",
       "                }\n",
       "            }, 500);\n",
       "            "
      ],
      "text/plain": [
       "<IPython.core.display.Javascript object>"
      ]
     },
     "metadata": {},
     "output_type": "display_data"
    }
   ],
   "source": [
    "from sklearn.metrics import confusion_matrix"
   ]
  },
  {
   "cell_type": "code",
   "execution_count": 47,
   "metadata": {
    "ExecuteTime": {
     "end_time": "2020-09-19T11:40:18.993731Z",
     "start_time": "2020-09-19T11:40:18.717041Z"
    }
   },
   "outputs": [
    {
     "data": {
      "application/javascript": [
       "\n",
       "            setTimeout(function() {\n",
       "                var nbb_cell_id = 47;\n",
       "                var nbb_unformatted_code = \"probs_test, explanations_train = predict(model, input_test)\";\n",
       "                var nbb_formatted_code = \"probs_test, explanations_train = predict(model, input_test)\";\n",
       "                var nbb_cells = Jupyter.notebook.get_cells();\n",
       "                for (var i = 0; i < nbb_cells.length; ++i) {\n",
       "                    if (nbb_cells[i].input_prompt_number == nbb_cell_id) {\n",
       "                        if (nbb_cells[i].get_text() == nbb_unformatted_code) {\n",
       "                             nbb_cells[i].set_text(nbb_formatted_code);\n",
       "                        }\n",
       "                        break;\n",
       "                    }\n",
       "                }\n",
       "            }, 500);\n",
       "            "
      ],
      "text/plain": [
       "<IPython.core.display.Javascript object>"
      ]
     },
     "metadata": {},
     "output_type": "display_data"
    }
   ],
   "source": [
    "probs_test, explanations_train = predict(model, input_test)"
   ]
  },
  {
   "cell_type": "code",
   "execution_count": 48,
   "metadata": {
    "ExecuteTime": {
     "end_time": "2020-09-19T11:40:19.152161Z",
     "start_time": "2020-09-19T11:40:18.995136Z"
    }
   },
   "outputs": [
    {
     "data": {
      "image/png": "[encoded data removed]",
      "text/plain": [
       "<Figure size 432x288 with 1 Axes>"
      ]
     },
     "metadata": {
      "needs_background": "light"
     },
     "output_type": "display_data"
    },
    {
     "data": {
      "application/javascript": [
       "\n",
       "            setTimeout(function() {\n",
       "                var nbb_cell_id = 48;\n",
       "                var nbb_unformatted_code = \"# plt.barh(y_pos, performance, align=\\\"center\\\", alpha=0.5)\\n# plt.yticks(y_pos, columns[selection])\\nplt.ylabel(\\\"Predicted value\\\")\\nplt.xlabel(\\\"Truth value\\\")\\n\\nplt.title(\\\"Scatter plot of prediction vs truth\\\")\\nplt.scatter(\\n    train[target].values[test_indices], target_encoder.inverse_transform(probs_test),\\n)\\nplt.plot(\\n    [\\n        np.min(train[target].values[test_indices]),\\n        np.max(train[target].values[test_indices]),\\n    ],\\n    [\\n        np.min(train[target].values[test_indices]),\\n        np.max(train[target].values[test_indices]),\\n    ],\\n)\\nplt.grid(True)\\nplt.show()\";\n",
       "                var nbb_formatted_code = \"# plt.barh(y_pos, performance, align=\\\"center\\\", alpha=0.5)\\n# plt.yticks(y_pos, columns[selection])\\nplt.ylabel(\\\"Predicted value\\\")\\nplt.xlabel(\\\"Truth value\\\")\\n\\nplt.title(\\\"Scatter plot of prediction vs truth\\\")\\nplt.scatter(\\n    train[target].values[test_indices], target_encoder.inverse_transform(probs_test),\\n)\\nplt.plot(\\n    [\\n        np.min(train[target].values[test_indices]),\\n        np.max(train[target].values[test_indices]),\\n    ],\\n    [\\n        np.min(train[target].values[test_indices]),\\n        np.max(train[target].values[test_indices]),\\n    ],\\n)\\nplt.grid(True)\\nplt.show()\";\n",
       "                var nbb_cells = Jupyter.notebook.get_cells();\n",
       "                for (var i = 0; i < nbb_cells.length; ++i) {\n",
       "                    if (nbb_cells[i].input_prompt_number == nbb_cell_id) {\n",
       "                        if (nbb_cells[i].get_text() == nbb_unformatted_code) {\n",
       "                             nbb_cells[i].set_text(nbb_formatted_code);\n",
       "                        }\n",
       "                        break;\n",
       "                    }\n",
       "                }\n",
       "            }, 500);\n",
       "            "
      ],
      "text/plain": [
       "<IPython.core.display.Javascript object>"
      ]
     },
     "metadata": {},
     "output_type": "display_data"
    }
   ],
   "source": [
    "# plt.barh(y_pos, performance, align=\"center\", alpha=0.5)\n",
    "# plt.yticks(y_pos, columns[selection])\n",
    "plt.ylabel(\"Predicted value\")\n",
    "plt.xlabel(\"Truth value\")\n",
    "\n",
    "plt.title(\"Scatter plot of prediction vs truth\")\n",
    "plt.scatter(\n",
    "    train[target].values[test_indices], target_encoder.inverse_transform(probs_test),\n",
    ")\n",
    "plt.plot(\n",
    "    [\n",
    "        np.min(train[target].values[test_indices]),\n",
    "        np.max(train[target].values[test_indices]),\n",
    "    ],\n",
    "    [\n",
    "        np.min(train[target].values[test_indices]),\n",
    "        np.max(train[target].values[test_indices]),\n",
    "    ],\n",
    ")\n",
    "plt.grid(True)\n",
    "plt.show()"
   ]
  },
  {
   "cell_type": "code",
   "execution_count": 49,
   "metadata": {
    "ExecuteTime": {
     "end_time": "2020-09-19T11:40:19.277830Z",
     "start_time": "2020-09-19T11:40:19.153309Z"
    }
   },
   "outputs": [
    {
     "data": {
      "image/png": "[encoded data removed]",
      "text/plain": [
       "<Figure size 432x288 with 1 Axes>"
      ]
     },
     "metadata": {
      "needs_background": "light"
     },
     "output_type": "display_data"
    },
    {
     "data": {
      "application/javascript": [
       "\n",
       "            setTimeout(function() {\n",
       "                var nbb_cell_id = 49;\n",
       "                var nbb_unformatted_code = \"plt.hist(\\n    train[target].values[test_indices].reshape(-1)\\n    - target_encoder.inverse_transform(probs_test).reshape(-1),\\n)\\nplt.xlabel(\\\"Error value\\\")\\nplt.ylabel(\\\"Counts\\\")\\nplt.show()\";\n",
       "                var nbb_formatted_code = \"plt.hist(\\n    train[target].values[test_indices].reshape(-1)\\n    - target_encoder.inverse_transform(probs_test).reshape(-1),\\n)\\nplt.xlabel(\\\"Error value\\\")\\nplt.ylabel(\\\"Counts\\\")\\nplt.show()\";\n",
       "                var nbb_cells = Jupyter.notebook.get_cells();\n",
       "                for (var i = 0; i < nbb_cells.length; ++i) {\n",
       "                    if (nbb_cells[i].input_prompt_number == nbb_cell_id) {\n",
       "                        if (nbb_cells[i].get_text() == nbb_unformatted_code) {\n",
       "                             nbb_cells[i].set_text(nbb_formatted_code);\n",
       "                        }\n",
       "                        break;\n",
       "                    }\n",
       "                }\n",
       "            }, 500);\n",
       "            "
      ],
      "text/plain": [
       "<IPython.core.display.Javascript object>"
      ]
     },
     "metadata": {},
     "output_type": "display_data"
    }
   ],
   "source": [
    "plt.hist(\n",
    "    train[target].values[test_indices].reshape(-1)\n",
    "    - target_encoder.inverse_transform(probs_test).reshape(-1),\n",
    ")\n",
    "plt.xlabel(\"Error value\")\n",
    "plt.ylabel(\"Counts\")\n",
    "plt.show()"
   ]
  },
  {
   "cell_type": "code",
   "execution_count": 50,
   "metadata": {
    "ExecuteTime": {
     "end_time": "2020-09-19T11:40:19.406763Z",
     "start_time": "2020-09-19T11:40:19.278977Z"
    }
   },
   "outputs": [
    {
     "data": {
      "image/png": "[encoded data removed]",
      "text/plain": [
       "<Figure size 432x288 with 1 Axes>"
      ]
     },
     "metadata": {
      "needs_background": "light"
     },
     "output_type": "display_data"
    },
    {
     "data": {
      "application/javascript": [
       "\n",
       "            setTimeout(function() {\n",
       "                var nbb_cell_id = 50;\n",
       "                var nbb_unformatted_code = \"plt.hist(\\n    np.abs(\\n        train[target].values[test_indices].reshape(-1)\\n        - target_encoder.inverse_transform(probs_test).reshape(-1),\\n    )\\n)\\nplt.xlabel(\\\"Error value (absolute)\\\")\\nplt.ylabel(\\\"Counts\\\")\\nplt.show()\";\n",
       "                var nbb_formatted_code = \"plt.hist(\\n    np.abs(\\n        train[target].values[test_indices].reshape(-1)\\n        - target_encoder.inverse_transform(probs_test).reshape(-1),\\n    )\\n)\\nplt.xlabel(\\\"Error value (absolute)\\\")\\nplt.ylabel(\\\"Counts\\\")\\nplt.show()\";\n",
       "                var nbb_cells = Jupyter.notebook.get_cells();\n",
       "                for (var i = 0; i < nbb_cells.length; ++i) {\n",
       "                    if (nbb_cells[i].input_prompt_number == nbb_cell_id) {\n",
       "                        if (nbb_cells[i].get_text() == nbb_unformatted_code) {\n",
       "                             nbb_cells[i].set_text(nbb_formatted_code);\n",
       "                        }\n",
       "                        break;\n",
       "                    }\n",
       "                }\n",
       "            }, 500);\n",
       "            "
      ],
      "text/plain": [
       "<IPython.core.display.Javascript object>"
      ]
     },
     "metadata": {},
     "output_type": "display_data"
    }
   ],
   "source": [
    "plt.hist(\n",
    "    np.abs(\n",
    "        train[target].values[test_indices].reshape(-1)\n",
    "        - target_encoder.inverse_transform(probs_test).reshape(-1),\n",
    "    )\n",
    ")\n",
    "plt.xlabel(\"Error value (absolute)\")\n",
    "plt.ylabel(\"Counts\")\n",
    "plt.show()"
   ]
  },
  {
   "cell_type": "code",
   "execution_count": 51,
   "metadata": {
    "ExecuteTime": {
     "end_time": "2020-09-19T11:40:19.431735Z",
     "start_time": "2020-09-19T11:40:19.407892Z"
    }
   },
   "outputs": [
    {
     "data": {
      "application/javascript": [
       "\n",
       "            setTimeout(function() {\n",
       "                var nbb_cell_id = 51;\n",
       "                var nbb_unformatted_code = \"out = Path(os.getcwd() + \\\"/data/\\\" + dataset_name + \\\"-test.csv\\\")\";\n",
       "                var nbb_formatted_code = \"out = Path(os.getcwd() + \\\"/data/\\\" + dataset_name + \\\"-test.csv\\\")\";\n",
       "                var nbb_cells = Jupyter.notebook.get_cells();\n",
       "                for (var i = 0; i < nbb_cells.length; ++i) {\n",
       "                    if (nbb_cells[i].input_prompt_number == nbb_cell_id) {\n",
       "                        if (nbb_cells[i].get_text() == nbb_unformatted_code) {\n",
       "                             nbb_cells[i].set_text(nbb_formatted_code);\n",
       "                        }\n",
       "                        break;\n",
       "                    }\n",
       "                }\n",
       "            }, 500);\n",
       "            "
      ],
      "text/plain": [
       "<IPython.core.display.Javascript object>"
      ]
     },
     "metadata": {},
     "output_type": "display_data"
    }
   ],
   "source": [
    "out = Path(os.getcwd() + \"/data/\" + dataset_name + \"-test.csv\")"
   ]
  },
  {
   "cell_type": "code",
   "execution_count": 52,
   "metadata": {
    "ExecuteTime": {
     "end_time": "2020-09-19T11:40:19.469793Z",
     "start_time": "2020-09-19T11:40:19.432950Z"
    }
   },
   "outputs": [
    {
     "data": {
      "application/javascript": [
       "\n",
       "            setTimeout(function() {\n",
       "                var nbb_cell_id = 52;\n",
       "                var nbb_unformatted_code = \"kaggle_test = train = pd.read_csv(out, sep=\\\",\\\", low_memory=False)\";\n",
       "                var nbb_formatted_code = \"kaggle_test = train = pd.read_csv(out, sep=\\\",\\\", low_memory=False)\";\n",
       "                var nbb_cells = Jupyter.notebook.get_cells();\n",
       "                for (var i = 0; i < nbb_cells.length; ++i) {\n",
       "                    if (nbb_cells[i].input_prompt_number == nbb_cell_id) {\n",
       "                        if (nbb_cells[i].get_text() == nbb_unformatted_code) {\n",
       "                             nbb_cells[i].set_text(nbb_formatted_code);\n",
       "                        }\n",
       "                        break;\n",
       "                    }\n",
       "                }\n",
       "            }, 500);\n",
       "            "
      ],
      "text/plain": [
       "<IPython.core.display.Javascript object>"
      ]
     },
     "metadata": {},
     "output_type": "display_data"
    }
   ],
   "source": [
    "kaggle_test = train = pd.read_csv(out, sep=\",\", low_memory=False)"
   ]
  },
  {
   "cell_type": "code",
   "execution_count": 53,
   "metadata": {
    "ExecuteTime": {
     "end_time": "2020-09-19T11:40:19.533422Z",
     "start_time": "2020-09-19T11:40:19.471022Z"
    }
   },
   "outputs": [
    {
     "data": {
      "application/javascript": [
       "\n",
       "            setTimeout(function() {\n",
       "                var nbb_cell_id = 53;\n",
       "                var nbb_unformatted_code = \"input_kaggle, _ = preproc_dataset(kaggle_test, target, [\\\"Set\\\"], params)\";\n",
       "                var nbb_formatted_code = \"input_kaggle, _ = preproc_dataset(kaggle_test, target, [\\\"Set\\\"], params)\";\n",
       "                var nbb_cells = Jupyter.notebook.get_cells();\n",
       "                for (var i = 0; i < nbb_cells.length; ++i) {\n",
       "                    if (nbb_cells[i].input_prompt_number == nbb_cell_id) {\n",
       "                        if (nbb_cells[i].get_text() == nbb_unformatted_code) {\n",
       "                             nbb_cells[i].set_text(nbb_formatted_code);\n",
       "                        }\n",
       "                        break;\n",
       "                    }\n",
       "                }\n",
       "            }, 500);\n",
       "            "
      ],
      "text/plain": [
       "<IPython.core.display.Javascript object>"
      ]
     },
     "metadata": {},
     "output_type": "display_data"
    }
   ],
   "source": [
    "input_kaggle, _ = preproc_dataset(kaggle_test, target, [\"Set\"], params)"
   ]
  },
  {
   "cell_type": "code",
   "execution_count": 54,
   "metadata": {
    "ExecuteTime": {
     "end_time": "2020-09-19T11:40:19.854050Z",
     "start_time": "2020-09-19T11:40:19.534623Z"
    }
   },
   "outputs": [
    {
     "data": {
      "application/javascript": [
       "\n",
       "            setTimeout(function() {\n",
       "                var nbb_cell_id = 54;\n",
       "                var nbb_unformatted_code = \"probs_kaggle, _ = predict(model, input_kaggle)\";\n",
       "                var nbb_formatted_code = \"probs_kaggle, _ = predict(model, input_kaggle)\";\n",
       "                var nbb_cells = Jupyter.notebook.get_cells();\n",
       "                for (var i = 0; i < nbb_cells.length; ++i) {\n",
       "                    if (nbb_cells[i].input_prompt_number == nbb_cell_id) {\n",
       "                        if (nbb_cells[i].get_text() == nbb_unformatted_code) {\n",
       "                             nbb_cells[i].set_text(nbb_formatted_code);\n",
       "                        }\n",
       "                        break;\n",
       "                    }\n",
       "                }\n",
       "            }, 500);\n",
       "            "
      ],
      "text/plain": [
       "<IPython.core.display.Javascript object>"
      ]
     },
     "metadata": {},
     "output_type": "display_data"
    }
   ],
   "source": [
    "probs_kaggle, _ = predict(model, input_kaggle)"
   ]
  },
  {
   "cell_type": "code",
   "execution_count": 55,
   "metadata": {
    "ExecuteTime": {
     "end_time": "2020-09-19T11:40:19.878009Z",
     "start_time": "2020-09-19T11:40:19.855279Z"
    }
   },
   "outputs": [
    {
     "data": {
      "application/javascript": [
       "\n",
       "            setTimeout(function() {\n",
       "                var nbb_cell_id = 55;\n",
       "                var nbb_unformatted_code = \"probs_kaggle = target_encoder.inverse_transform(probs_kaggle)\";\n",
       "                var nbb_formatted_code = \"probs_kaggle = target_encoder.inverse_transform(probs_kaggle)\";\n",
       "                var nbb_cells = Jupyter.notebook.get_cells();\n",
       "                for (var i = 0; i < nbb_cells.length; ++i) {\n",
       "                    if (nbb_cells[i].input_prompt_number == nbb_cell_id) {\n",
       "                        if (nbb_cells[i].get_text() == nbb_unformatted_code) {\n",
       "                             nbb_cells[i].set_text(nbb_formatted_code);\n",
       "                        }\n",
       "                        break;\n",
       "                    }\n",
       "                }\n",
       "            }, 500);\n",
       "            "
      ],
      "text/plain": [
       "<IPython.core.display.Javascript object>"
      ]
     },
     "metadata": {},
     "output_type": "display_data"
    }
   ],
   "source": [
    "probs_kaggle = target_encoder.inverse_transform(probs_kaggle)"
   ]
  },
  {
   "cell_type": "code",
   "execution_count": 56,
   "metadata": {
    "ExecuteTime": {
     "end_time": "2020-09-19T11:40:19.902805Z",
     "start_time": "2020-09-19T11:40:19.879135Z"
    }
   },
   "outputs": [
    {
     "data": {
      "text/plain": [
       "array([[126460.04],\n",
       "       [172137.7 ],\n",
       "       [191595.34],\n",
       "       ...,\n",
       "       [192870.7 ],\n",
       "       [103766.74],\n",
       "       [222555.17]], dtype=float32)"
      ]
     },
     "execution_count": 56,
     "metadata": {},
     "output_type": "execute_result"
    },
    {
     "data": {
      "application/javascript": [
       "\n",
       "            setTimeout(function() {\n",
       "                var nbb_cell_id = 56;\n",
       "                var nbb_unformatted_code = \"probs_kaggle\";\n",
       "                var nbb_formatted_code = \"probs_kaggle\";\n",
       "                var nbb_cells = Jupyter.notebook.get_cells();\n",
       "                for (var i = 0; i < nbb_cells.length; ++i) {\n",
       "                    if (nbb_cells[i].input_prompt_number == nbb_cell_id) {\n",
       "                        if (nbb_cells[i].get_text() == nbb_unformatted_code) {\n",
       "                             nbb_cells[i].set_text(nbb_formatted_code);\n",
       "                        }\n",
       "                        break;\n",
       "                    }\n",
       "                }\n",
       "            }, 500);\n",
       "            "
      ],
      "text/plain": [
       "<IPython.core.display.Javascript object>"
      ]
     },
     "metadata": {},
     "output_type": "display_data"
    }
   ],
   "source": [
    "probs_kaggle"
   ]
  },
  {
   "cell_type": "code",
   "execution_count": 57,
   "metadata": {
    "ExecuteTime": {
     "end_time": "2020-09-19T11:40:19.927764Z",
     "start_time": "2020-09-19T11:40:19.903854Z"
    }
   },
   "outputs": [
    {
     "data": {
      "application/javascript": [
       "\n",
       "            setTimeout(function() {\n",
       "                var nbb_cell_id = 57;\n",
       "                var nbb_unformatted_code = \"test_df = kaggle_test[[\\\"Id\\\"]]\";\n",
       "                var nbb_formatted_code = \"test_df = kaggle_test[[\\\"Id\\\"]]\";\n",
       "                var nbb_cells = Jupyter.notebook.get_cells();\n",
       "                for (var i = 0; i < nbb_cells.length; ++i) {\n",
       "                    if (nbb_cells[i].input_prompt_number == nbb_cell_id) {\n",
       "                        if (nbb_cells[i].get_text() == nbb_unformatted_code) {\n",
       "                             nbb_cells[i].set_text(nbb_formatted_code);\n",
       "                        }\n",
       "                        break;\n",
       "                    }\n",
       "                }\n",
       "            }, 500);\n",
       "            "
      ],
      "text/plain": [
       "<IPython.core.display.Javascript object>"
      ]
     },
     "metadata": {},
     "output_type": "display_data"
    }
   ],
   "source": [
    "test_df = kaggle_test[[\"Id\"]]"
   ]
  },
  {
   "cell_type": "code",
   "execution_count": 58,
   "metadata": {
    "ExecuteTime": {
     "end_time": "2020-09-19T11:40:19.952412Z",
     "start_time": "2020-09-19T11:40:19.928842Z"
    }
   },
   "outputs": [
    {
     "name": "stderr",
     "output_type": "stream",
     "text": [
      "/work/.cache/poetry/xplainet-KS9Ipbc1-py3.7/lib/python3.7/site-packages/ipykernel_launcher.py:1: SettingWithCopyWarning: \n",
      "A value is trying to be set on a copy of a slice from a DataFrame.\n",
      "Try using .loc[row_indexer,col_indexer] = value instead\n",
      "\n",
      "See the caveats in the documentation: https://pandas.pydata.org/pandas-docs/stable/user_guide/indexing.html#returning-a-view-versus-a-copy\n",
      "  \"\"\"Entry point for launching an IPython kernel.\n"
     ]
    },
    {
     "data": {
      "application/javascript": [
       "\n",
       "            setTimeout(function() {\n",
       "                var nbb_cell_id = 58;\n",
       "                var nbb_unformatted_code = \"test_df[\\\"SalePrice\\\"] = probs_kaggle\";\n",
       "                var nbb_formatted_code = \"test_df[\\\"SalePrice\\\"] = probs_kaggle\";\n",
       "                var nbb_cells = Jupyter.notebook.get_cells();\n",
       "                for (var i = 0; i < nbb_cells.length; ++i) {\n",
       "                    if (nbb_cells[i].input_prompt_number == nbb_cell_id) {\n",
       "                        if (nbb_cells[i].get_text() == nbb_unformatted_code) {\n",
       "                             nbb_cells[i].set_text(nbb_formatted_code);\n",
       "                        }\n",
       "                        break;\n",
       "                    }\n",
       "                }\n",
       "            }, 500);\n",
       "            "
      ],
      "text/plain": [
       "<IPython.core.display.Javascript object>"
      ]
     },
     "metadata": {},
     "output_type": "display_data"
    }
   ],
   "source": [
    "test_df[\"SalePrice\"] = probs_kaggle"
   ]
  },
  {
   "cell_type": "code",
   "execution_count": 59,
   "metadata": {
    "ExecuteTime": {
     "end_time": "2020-09-19T11:40:19.980025Z",
     "start_time": "2020-09-19T11:40:19.953597Z"
    }
   },
   "outputs": [
    {
     "data": {
      "application/javascript": [
       "\n",
       "            setTimeout(function() {\n",
       "                var nbb_cell_id = 59;\n",
       "                var nbb_unformatted_code = \"test_df.to_csv(\\\"kaggle_submit.csv\\\", index=False)\";\n",
       "                var nbb_formatted_code = \"test_df.to_csv(\\\"kaggle_submit.csv\\\", index=False)\";\n",
       "                var nbb_cells = Jupyter.notebook.get_cells();\n",
       "                for (var i = 0; i < nbb_cells.length; ++i) {\n",
       "                    if (nbb_cells[i].input_prompt_number == nbb_cell_id) {\n",
       "                        if (nbb_cells[i].get_text() == nbb_unformatted_code) {\n",
       "                             nbb_cells[i].set_text(nbb_formatted_code);\n",
       "                        }\n",
       "                        break;\n",
       "                    }\n",
       "                }\n",
       "            }, 500);\n",
       "            "
      ],
      "text/plain": [
       "<IPython.core.display.Javascript object>"
      ]
     },
     "metadata": {},
     "output_type": "display_data"
    }
   ],
   "source": [
    "test_df.to_csv(\"kaggle_submit.csv\", index=False)"
   ]
  },
  {
   "cell_type": "code",
   "execution_count": 60,
   "metadata": {
    "ExecuteTime": {
     "end_time": "2020-09-19T11:40:20.003262Z",
     "start_time": "2020-09-19T11:40:19.981157Z"
    }
   },
   "outputs": [
    {
     "data": {
      "application/javascript": [
       "\n",
       "            setTimeout(function() {\n",
       "                var nbb_cell_id = 60;\n",
       "                var nbb_unformatted_code = \"# Scores 0.18047 on kaggle\\n# https://www.kaggle.com/c/house-prices-advanced-regression-techniques/leaderboard#score\\n# Should train with RMSLE ?\\n# from tensorflow.keras import backend as K\\n\\n# def root_mean_squared_log_error(y_true, y_pred):\\n#     return K.sqrt(K.mean(K.square(K.log(1+y_pred) - K.log(1+y_true))))\";\n",
       "                var nbb_formatted_code = \"# Scores 0.18047 on kaggle\\n# https://www.kaggle.com/c/house-prices-advanced-regression-techniques/leaderboard#score\\n# Should train with RMSLE ?\\n# from tensorflow.keras import backend as K\\n\\n# def root_mean_squared_log_error(y_true, y_pred):\\n#     return K.sqrt(K.mean(K.square(K.log(1+y_pred) - K.log(1+y_true))))\";\n",
       "                var nbb_cells = Jupyter.notebook.get_cells();\n",
       "                for (var i = 0; i < nbb_cells.length; ++i) {\n",
       "                    if (nbb_cells[i].input_prompt_number == nbb_cell_id) {\n",
       "                        if (nbb_cells[i].get_text() == nbb_unformatted_code) {\n",
       "                             nbb_cells[i].set_text(nbb_formatted_code);\n",
       "                        }\n",
       "                        break;\n",
       "                    }\n",
       "                }\n",
       "            }, 500);\n",
       "            "
      ],
      "text/plain": [
       "<IPython.core.display.Javascript object>"
      ]
     },
     "metadata": {},
     "output_type": "display_data"
    }
   ],
   "source": [
    "# Scores 0.18047 on kaggle\n",
    "# https://www.kaggle.com/c/house-prices-advanced-regression-techniques/leaderboard#score\n",
    "# Should train with RMSLE ?\n",
    "# from tensorflow.keras import backend as K\n",
    "\n",
    "# def root_mean_squared_log_error(y_true, y_pred):\n",
    "#     return K.sqrt(K.mean(K.square(K.log(1+y_pred) - K.log(1+y_true))))"
   ]
  }
 ],
 "metadata": {
  "kernelspec": {
   "display_name": "Python 3",
   "language": "python",
   "name": "python3"
  },
  "language_info": {
   "codemirror_mode": {
    "name": "ipython",
    "version": 3
   },
   "file_extension": ".py",
   "mimetype": "text/x-python",
   "name": "python",
   "nbconvert_exporter": "python",
   "pygments_lexer": "ipython3",
   "version": "3.7.9"
  }
 },
 "nbformat": 4,
 "nbformat_minor": 4
}
