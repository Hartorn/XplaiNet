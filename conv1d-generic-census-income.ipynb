{
 "cells": [
  {
   "cell_type": "code",
   "execution_count": 1,
   "metadata": {
    "ExecuteTime": {
     "end_time": "2020-09-22T06:51:57.822547Z",
     "start_time": "2020-09-22T06:51:57.738735Z"
    }
   },
   "outputs": [
    {
     "data": {
      "application/javascript": [
       "\n",
       "            setTimeout(function() {\n",
       "                var nbb_cell_id = 1;\n",
       "                var nbb_unformatted_code = \"%load_ext nb_black\\n%load_ext autoreload\\n\\n%autoreload 2\";\n",
       "                var nbb_formatted_code = \"%load_ext nb_black\\n%load_ext autoreload\\n\\n%autoreload 2\";\n",
       "                var nbb_cells = Jupyter.notebook.get_cells();\n",
       "                for (var i = 0; i < nbb_cells.length; ++i) {\n",
       "                    if (nbb_cells[i].input_prompt_number == nbb_cell_id) {\n",
       "                        if (nbb_cells[i].get_text() == nbb_unformatted_code) {\n",
       "                             nbb_cells[i].set_text(nbb_formatted_code);\n",
       "                        }\n",
       "                        break;\n",
       "                    }\n",
       "                }\n",
       "            }, 500);\n",
       "            "
      ],
      "text/plain": [
       "<IPython.core.display.Javascript object>"
      ]
     },
     "metadata": {},
     "output_type": "display_data"
    }
   ],
   "source": [
    "%load_ext nb_black\n",
    "%load_ext autoreload\n",
    "\n",
    "%autoreload 2"
   ]
  },
  {
   "cell_type": "code",
   "execution_count": 2,
   "metadata": {
    "ExecuteTime": {
     "end_time": "2020-09-22T06:51:58.907998Z",
     "start_time": "2020-09-22T06:51:57.823723Z"
    }
   },
   "outputs": [
    {
     "data": {
      "application/javascript": [
       "\n",
       "            setTimeout(function() {\n",
       "                var nbb_cell_id = 2;\n",
       "                var nbb_unformatted_code = \"import os\\nfrom pathlib import Path\\n\\nfrom requests import get\\nimport pandas as pd\\nimport numpy as np\\n\\nfrom sklearn.metrics import roc_auc_score, log_loss\\nfrom sklearn.preprocessing import LabelEncoder\\nfrom tensorflow.keras.utils import plot_model\\nfrom tensorflow.keras.callbacks import EarlyStopping\\n\\nimport logging\\n\\nlogging.basicConfig(level=logging.WARN)\";\n",
       "                var nbb_formatted_code = \"import os\\nfrom pathlib import Path\\n\\nfrom requests import get\\nimport pandas as pd\\nimport numpy as np\\n\\nfrom sklearn.metrics import roc_auc_score, log_loss\\nfrom sklearn.preprocessing import LabelEncoder\\nfrom tensorflow.keras.utils import plot_model\\nfrom tensorflow.keras.callbacks import EarlyStopping\\n\\nimport logging\\n\\nlogging.basicConfig(level=logging.WARN)\";\n",
       "                var nbb_cells = Jupyter.notebook.get_cells();\n",
       "                for (var i = 0; i < nbb_cells.length; ++i) {\n",
       "                    if (nbb_cells[i].input_prompt_number == nbb_cell_id) {\n",
       "                        if (nbb_cells[i].get_text() == nbb_unformatted_code) {\n",
       "                             nbb_cells[i].set_text(nbb_formatted_code);\n",
       "                        }\n",
       "                        break;\n",
       "                    }\n",
       "                }\n",
       "            }, 500);\n",
       "            "
      ],
      "text/plain": [
       "<IPython.core.display.Javascript object>"
      ]
     },
     "metadata": {},
     "output_type": "display_data"
    }
   ],
   "source": [
    "import os\n",
    "from pathlib import Path\n",
    "\n",
    "from requests import get\n",
    "import pandas as pd\n",
    "import numpy as np\n",
    "\n",
    "from sklearn.metrics import roc_auc_score, log_loss\n",
    "from sklearn.preprocessing import LabelEncoder\n",
    "from tensorflow.keras.utils import plot_model\n",
    "from tensorflow.keras.callbacks import EarlyStopping\n",
    "\n",
    "import logging\n",
    "\n",
    "logging.basicConfig(level=logging.WARN)"
   ]
  },
  {
   "cell_type": "code",
   "execution_count": 3,
   "metadata": {
    "ExecuteTime": {
     "end_time": "2020-09-22T06:51:59.077478Z",
     "start_time": "2020-09-22T06:51:58.909371Z"
    }
   },
   "outputs": [
    {
     "data": {
      "application/javascript": [
       "\n",
       "            setTimeout(function() {\n",
       "                var nbb_cell_id = 3;\n",
       "                var nbb_unformatted_code = \"from xplainet.input_utils import preproc_dataset\\nfrom xplainet.model import build_model\\nfrom xplainet.random_utils import setup_seed, SEED\\nfrom sklearn.model_selection import StratifiedShuffleSplit\\n\\nimport matplotlib.pyplot as plt\\nfrom matplotlib.pyplot import imshow\\n\\n%matplotlib inline\\n\\nfrom zipfile import ZipFile\";\n",
       "                var nbb_formatted_code = \"from xplainet.input_utils import preproc_dataset\\nfrom xplainet.model import build_model\\nfrom xplainet.random_utils import setup_seed, SEED\\nfrom sklearn.model_selection import StratifiedShuffleSplit\\n\\nimport matplotlib.pyplot as plt\\nfrom matplotlib.pyplot import imshow\\n\\n%matplotlib inline\\n\\nfrom zipfile import ZipFile\";\n",
       "                var nbb_cells = Jupyter.notebook.get_cells();\n",
       "                for (var i = 0; i < nbb_cells.length; ++i) {\n",
       "                    if (nbb_cells[i].input_prompt_number == nbb_cell_id) {\n",
       "                        if (nbb_cells[i].get_text() == nbb_unformatted_code) {\n",
       "                             nbb_cells[i].set_text(nbb_formatted_code);\n",
       "                        }\n",
       "                        break;\n",
       "                    }\n",
       "                }\n",
       "            }, 500);\n",
       "            "
      ],
      "text/plain": [
       "<IPython.core.display.Javascript object>"
      ]
     },
     "metadata": {},
     "output_type": "display_data"
    }
   ],
   "source": [
    "from xplainet.input_utils import preproc_dataset\n",
    "from xplainet.model import build_model\n",
    "from xplainet.random_utils import setup_seed, SEED\n",
    "from sklearn.model_selection import StratifiedShuffleSplit\n",
    "\n",
    "import matplotlib.pyplot as plt\n",
    "from matplotlib.pyplot import imshow\n",
    "\n",
    "%matplotlib inline\n",
    "\n",
    "from zipfile import ZipFile"
   ]
  },
  {
   "cell_type": "code",
   "execution_count": 4,
   "metadata": {
    "ExecuteTime": {
     "end_time": "2020-09-22T06:51:59.100807Z",
     "start_time": "2020-09-22T06:51:59.078691Z"
    }
   },
   "outputs": [
    {
     "data": {
      "application/javascript": [
       "\n",
       "            setTimeout(function() {\n",
       "                var nbb_cell_id = 4;\n",
       "                var nbb_unformatted_code = \"setup_seed()\";\n",
       "                var nbb_formatted_code = \"setup_seed()\";\n",
       "                var nbb_cells = Jupyter.notebook.get_cells();\n",
       "                for (var i = 0; i < nbb_cells.length; ++i) {\n",
       "                    if (nbb_cells[i].input_prompt_number == nbb_cell_id) {\n",
       "                        if (nbb_cells[i].get_text() == nbb_unformatted_code) {\n",
       "                             nbb_cells[i].set_text(nbb_formatted_code);\n",
       "                        }\n",
       "                        break;\n",
       "                    }\n",
       "                }\n",
       "            }, 500);\n",
       "            "
      ],
      "text/plain": [
       "<IPython.core.display.Javascript object>"
      ]
     },
     "metadata": {},
     "output_type": "display_data"
    }
   ],
   "source": [
    "setup_seed()"
   ]
  },
  {
   "cell_type": "code",
   "execution_count": 5,
   "metadata": {
    "ExecuteTime": {
     "end_time": "2020-09-22T06:51:59.183302Z",
     "start_time": "2020-09-22T06:51:59.101969Z"
    }
   },
   "outputs": [
    {
     "data": {
      "application/javascript": [
       "\n",
       "            setTimeout(function() {\n",
       "                var nbb_cell_id = 5;\n",
       "                var nbb_unformatted_code = \"def download(url, out, force=False, verify=True):\\n    out.parent.mkdir(parents=True, exist_ok=True)\\n    if force and out.exists():\\n        print(f\\\"Removing file at {str(out)}\\\")\\n        out.unlink()\\n\\n    if out.exists():\\n        print(\\\"File already exists.\\\")\\n        return\\n    print(f\\\"Downloading {url} at {str(out)} ...\\\")\\n    # open in binary mode\\n    with out.open(mode=\\\"wb\\\") as file:\\n        # get request\\n        response = get(url, verify=verify)\\n        for chunk in response.iter_content(100000):\\n            # write to file\\n            file.write(chunk)\";\n",
       "                var nbb_formatted_code = \"def download(url, out, force=False, verify=True):\\n    out.parent.mkdir(parents=True, exist_ok=True)\\n    if force and out.exists():\\n        print(f\\\"Removing file at {str(out)}\\\")\\n        out.unlink()\\n\\n    if out.exists():\\n        print(\\\"File already exists.\\\")\\n        return\\n    print(f\\\"Downloading {url} at {str(out)} ...\\\")\\n    # open in binary mode\\n    with out.open(mode=\\\"wb\\\") as file:\\n        # get request\\n        response = get(url, verify=verify)\\n        for chunk in response.iter_content(100000):\\n            # write to file\\n            file.write(chunk)\";\n",
       "                var nbb_cells = Jupyter.notebook.get_cells();\n",
       "                for (var i = 0; i < nbb_cells.length; ++i) {\n",
       "                    if (nbb_cells[i].input_prompt_number == nbb_cell_id) {\n",
       "                        if (nbb_cells[i].get_text() == nbb_unformatted_code) {\n",
       "                             nbb_cells[i].set_text(nbb_formatted_code);\n",
       "                        }\n",
       "                        break;\n",
       "                    }\n",
       "                }\n",
       "            }, 500);\n",
       "            "
      ],
      "text/plain": [
       "<IPython.core.display.Javascript object>"
      ]
     },
     "metadata": {},
     "output_type": "display_data"
    }
   ],
   "source": [
    "def download(url, out, force=False, verify=True):\n",
    "    out.parent.mkdir(parents=True, exist_ok=True)\n",
    "    if force and out.exists():\n",
    "        print(f\"Removing file at {str(out)}\")\n",
    "        out.unlink()\n",
    "\n",
    "    if out.exists():\n",
    "        print(\"File already exists.\")\n",
    "        return\n",
    "    print(f\"Downloading {url} at {str(out)} ...\")\n",
    "    # open in binary mode\n",
    "    with out.open(mode=\"wb\") as file:\n",
    "        # get request\n",
    "        response = get(url, verify=verify)\n",
    "        for chunk in response.iter_content(100000):\n",
    "            # write to file\n",
    "            file.write(chunk)\n"
   ]
  },
  {
   "cell_type": "code",
   "execution_count": 6,
   "metadata": {
    "ExecuteTime": {
     "end_time": "2020-09-22T06:51:59.226430Z",
     "start_time": "2020-09-22T06:51:59.184273Z"
    }
   },
   "outputs": [
    {
     "data": {
      "application/javascript": [
       "\n",
       "            setTimeout(function() {\n",
       "                var nbb_cell_id = 6;\n",
       "                var nbb_unformatted_code = \"def plot_history(history):\\n    loss_list = [s for s in history.history.keys() if \\\"loss\\\" in s and \\\"val\\\" not in s]\\n    val_loss_list = [s for s in history.history.keys() if \\\"loss\\\" in s and \\\"val\\\" in s]\\n    acc_list = [s for s in history.history.keys() if \\\"AUC\\\" in s and \\\"val\\\" not in s]\\n    val_acc_list = [s for s in history.history.keys() if \\\"AUC\\\" in s and \\\"val\\\" in s]\\n\\n    if len(loss_list) == 0:\\n        print(\\\"Loss is missing in history\\\")\\n        return\\n\\n    ## As loss always exists\\n    epochs = range(1, len(history.history[loss_list[0]]) + 1)\\n\\n    ## Loss\\n    plt.figure(1)\\n    for l in loss_list:\\n        plt.plot(\\n            epochs,\\n            history.history[l],\\n            \\\"b\\\",\\n            label=\\\"Training loss (\\\"\\n            + str(str(format(history.history[l][-1], \\\".5f\\\")) + \\\")\\\"),\\n        )\\n    for l in val_loss_list:\\n        plt.plot(\\n            epochs,\\n            history.history[l],\\n            \\\"g\\\",\\n            label=\\\"Validation loss (\\\"\\n            + str(str(format(history.history[l][-1], \\\".5f\\\")) + \\\")\\\"),\\n        )\\n\\n    plt.title(\\\"Loss\\\")\\n    plt.xlabel(\\\"Epochs\\\")\\n    plt.ylabel(\\\"Loss\\\")\\n    plt.legend()\\n\\n    plt.show()\";\n",
       "                var nbb_formatted_code = \"def plot_history(history):\\n    loss_list = [s for s in history.history.keys() if \\\"loss\\\" in s and \\\"val\\\" not in s]\\n    val_loss_list = [s for s in history.history.keys() if \\\"loss\\\" in s and \\\"val\\\" in s]\\n    acc_list = [s for s in history.history.keys() if \\\"AUC\\\" in s and \\\"val\\\" not in s]\\n    val_acc_list = [s for s in history.history.keys() if \\\"AUC\\\" in s and \\\"val\\\" in s]\\n\\n    if len(loss_list) == 0:\\n        print(\\\"Loss is missing in history\\\")\\n        return\\n\\n    ## As loss always exists\\n    epochs = range(1, len(history.history[loss_list[0]]) + 1)\\n\\n    ## Loss\\n    plt.figure(1)\\n    for l in loss_list:\\n        plt.plot(\\n            epochs,\\n            history.history[l],\\n            \\\"b\\\",\\n            label=\\\"Training loss (\\\"\\n            + str(str(format(history.history[l][-1], \\\".5f\\\")) + \\\")\\\"),\\n        )\\n    for l in val_loss_list:\\n        plt.plot(\\n            epochs,\\n            history.history[l],\\n            \\\"g\\\",\\n            label=\\\"Validation loss (\\\"\\n            + str(str(format(history.history[l][-1], \\\".5f\\\")) + \\\")\\\"),\\n        )\\n\\n    plt.title(\\\"Loss\\\")\\n    plt.xlabel(\\\"Epochs\\\")\\n    plt.ylabel(\\\"Loss\\\")\\n    plt.legend()\\n\\n    plt.show()\";\n",
       "                var nbb_cells = Jupyter.notebook.get_cells();\n",
       "                for (var i = 0; i < nbb_cells.length; ++i) {\n",
       "                    if (nbb_cells[i].input_prompt_number == nbb_cell_id) {\n",
       "                        if (nbb_cells[i].get_text() == nbb_unformatted_code) {\n",
       "                             nbb_cells[i].set_text(nbb_formatted_code);\n",
       "                        }\n",
       "                        break;\n",
       "                    }\n",
       "                }\n",
       "            }, 500);\n",
       "            "
      ],
      "text/plain": [
       "<IPython.core.display.Javascript object>"
      ]
     },
     "metadata": {},
     "output_type": "display_data"
    }
   ],
   "source": [
    "def plot_history(history):\n",
    "    loss_list = [s for s in history.history.keys() if \"loss\" in s and \"val\" not in s]\n",
    "    val_loss_list = [s for s in history.history.keys() if \"loss\" in s and \"val\" in s]\n",
    "    acc_list = [s for s in history.history.keys() if \"AUC\" in s and \"val\" not in s]\n",
    "    val_acc_list = [s for s in history.history.keys() if \"AUC\" in s and \"val\" in s]\n",
    "\n",
    "    if len(loss_list) == 0:\n",
    "        print(\"Loss is missing in history\")\n",
    "        return\n",
    "\n",
    "    ## As loss always exists\n",
    "    epochs = range(1, len(history.history[loss_list[0]]) + 1)\n",
    "\n",
    "    ## Loss\n",
    "    plt.figure(1)\n",
    "    for l in loss_list:\n",
    "        plt.plot(\n",
    "            epochs,\n",
    "            history.history[l],\n",
    "            \"b\",\n",
    "            label=\"Training loss (\"\n",
    "            + str(str(format(history.history[l][-1], \".5f\")) + \")\"),\n",
    "        )\n",
    "    for l in val_loss_list:\n",
    "        plt.plot(\n",
    "            epochs,\n",
    "            history.history[l],\n",
    "            \"g\",\n",
    "            label=\"Validation loss (\"\n",
    "            + str(str(format(history.history[l][-1], \".5f\")) + \")\"),\n",
    "        )\n",
    "\n",
    "    plt.title(\"Loss\")\n",
    "    plt.xlabel(\"Epochs\")\n",
    "    plt.ylabel(\"Loss\")\n",
    "    plt.legend()\n",
    "\n",
    "    plt.show()"
   ]
  },
  {
   "cell_type": "markdown",
   "metadata": {},
   "source": [
    "## Census income : loading data"
   ]
  },
  {
   "cell_type": "code",
   "execution_count": 7,
   "metadata": {
    "ExecuteTime": {
     "end_time": "2020-09-22T06:51:59.253922Z",
     "start_time": "2020-09-22T06:51:59.227445Z"
    }
   },
   "outputs": [
    {
     "name": "stdout",
     "output_type": "stream",
     "text": [
      "File already exists.\n",
      "File already exists.\n"
     ]
    },
    {
     "data": {
      "application/javascript": [
       "\n",
       "            setTimeout(function() {\n",
       "                var nbb_cell_id = 7;\n",
       "                var nbb_unformatted_code = \"url = \\\"https://archive.ics.uci.edu/ml/machine-learning-databases/adult/adult.data\\\"\\nurl_test = \\\"https://archive.ics.uci.edu/ml/machine-learning-databases/adult/adult.test\\\"\\n\\ndataset_name = \\\"census-income\\\"\\nout = Path(os.getcwd() + \\\"/data/\\\" + dataset_name + \\\".csv\\\")\\nout_test = Path(os.getcwd() + \\\"/data/\\\" + dataset_name + \\\"_test.csv\\\")\\n\\ndownload(url, out, force=False)\\ndownload(url_test, out_test, force=False)\";\n",
       "                var nbb_formatted_code = \"url = \\\"https://archive.ics.uci.edu/ml/machine-learning-databases/adult/adult.data\\\"\\nurl_test = \\\"https://archive.ics.uci.edu/ml/machine-learning-databases/adult/adult.test\\\"\\n\\ndataset_name = \\\"census-income\\\"\\nout = Path(os.getcwd() + \\\"/data/\\\" + dataset_name + \\\".csv\\\")\\nout_test = Path(os.getcwd() + \\\"/data/\\\" + dataset_name + \\\"_test.csv\\\")\\n\\ndownload(url, out, force=False)\\ndownload(url_test, out_test, force=False)\";\n",
       "                var nbb_cells = Jupyter.notebook.get_cells();\n",
       "                for (var i = 0; i < nbb_cells.length; ++i) {\n",
       "                    if (nbb_cells[i].input_prompt_number == nbb_cell_id) {\n",
       "                        if (nbb_cells[i].get_text() == nbb_unformatted_code) {\n",
       "                             nbb_cells[i].set_text(nbb_formatted_code);\n",
       "                        }\n",
       "                        break;\n",
       "                    }\n",
       "                }\n",
       "            }, 500);\n",
       "            "
      ],
      "text/plain": [
       "<IPython.core.display.Javascript object>"
      ]
     },
     "metadata": {},
     "output_type": "display_data"
    }
   ],
   "source": [
    "url = \"https://archive.ics.uci.edu/ml/machine-learning-databases/adult/adult.data\"\n",
    "url_test = \"https://archive.ics.uci.edu/ml/machine-learning-databases/adult/adult.test\"\n",
    "\n",
    "dataset_name = \"census-income\"\n",
    "out = Path(os.getcwd() + \"/data/\" + dataset_name + \".csv\")\n",
    "out_test = Path(os.getcwd() + \"/data/\" + dataset_name + \"_test.csv\")\n",
    "\n",
    "download(url, out, force=False)\n",
    "download(url_test, out_test, force=False)"
   ]
  },
  {
   "cell_type": "code",
   "execution_count": 8,
   "metadata": {
    "ExecuteTime": {
     "end_time": "2020-09-22T06:51:59.280375Z",
     "start_time": "2020-09-22T06:51:59.255411Z"
    }
   },
   "outputs": [
    {
     "data": {
      "application/javascript": [
       "\n",
       "            setTimeout(function() {\n",
       "                var nbb_cell_id = 8;\n",
       "                var nbb_unformatted_code = \"cols = [\\n    \\\"age\\\",\\n    \\\"workclass\\\",\\n    \\\"fnlwgt\\\",\\n    \\\"education\\\",\\n    \\\"education-num\\\",\\n    \\\"marital-status\\\",\\n    \\\"occupation\\\",\\n    \\\"relationship\\\",\\n    \\\"race\\\",\\n    \\\"sex\\\",\\n    \\\"capital-gain\\\",\\n    \\\"capital-loss\\\",\\n    \\\"hours-per-week\\\",\\n    \\\"native-country\\\",\\n    \\\"target\\\",\\n]\";\n",
       "                var nbb_formatted_code = \"cols = [\\n    \\\"age\\\",\\n    \\\"workclass\\\",\\n    \\\"fnlwgt\\\",\\n    \\\"education\\\",\\n    \\\"education-num\\\",\\n    \\\"marital-status\\\",\\n    \\\"occupation\\\",\\n    \\\"relationship\\\",\\n    \\\"race\\\",\\n    \\\"sex\\\",\\n    \\\"capital-gain\\\",\\n    \\\"capital-loss\\\",\\n    \\\"hours-per-week\\\",\\n    \\\"native-country\\\",\\n    \\\"target\\\",\\n]\";\n",
       "                var nbb_cells = Jupyter.notebook.get_cells();\n",
       "                for (var i = 0; i < nbb_cells.length; ++i) {\n",
       "                    if (nbb_cells[i].input_prompt_number == nbb_cell_id) {\n",
       "                        if (nbb_cells[i].get_text() == nbb_unformatted_code) {\n",
       "                             nbb_cells[i].set_text(nbb_formatted_code);\n",
       "                        }\n",
       "                        break;\n",
       "                    }\n",
       "                }\n",
       "            }, 500);\n",
       "            "
      ],
      "text/plain": [
       "<IPython.core.display.Javascript object>"
      ]
     },
     "metadata": {},
     "output_type": "display_data"
    }
   ],
   "source": [
    "cols = [\n",
    "    \"age\",\n",
    "    \"workclass\",\n",
    "    \"fnlwgt\",\n",
    "    \"education\",\n",
    "    \"education-num\",\n",
    "    \"marital-status\",\n",
    "    \"occupation\",\n",
    "    \"relationship\",\n",
    "    \"race\",\n",
    "    \"sex\",\n",
    "    \"capital-gain\",\n",
    "    \"capital-loss\",\n",
    "    \"hours-per-week\",\n",
    "    \"native-country\",\n",
    "    \"target\",\n",
    "]"
   ]
  },
  {
   "cell_type": "code",
   "execution_count": 9,
   "metadata": {
    "ExecuteTime": {
     "end_time": "2020-09-22T06:51:59.377917Z",
     "start_time": "2020-09-22T06:51:59.281561Z"
    }
   },
   "outputs": [
    {
     "data": {
      "application/javascript": [
       "\n",
       "            setTimeout(function() {\n",
       "                var nbb_cell_id = 9;\n",
       "                var nbb_unformatted_code = \"train = pd.read_csv(out, names=cols)\\ntest = pd.read_csv(out_test, names=cols, skiprows=2)\\ntarget = \\\"target\\\"\\n\\ntrain[target] = train[target].str.strip()\\n# Test has . in label, let's clean it\\ntest[target] = test[target].str.strip().str.strip(\\\".\\\")\";\n",
       "                var nbb_formatted_code = \"train = pd.read_csv(out, names=cols)\\ntest = pd.read_csv(out_test, names=cols, skiprows=2)\\ntarget = \\\"target\\\"\\n\\ntrain[target] = train[target].str.strip()\\n# Test has . in label, let's clean it\\ntest[target] = test[target].str.strip().str.strip(\\\".\\\")\";\n",
       "                var nbb_cells = Jupyter.notebook.get_cells();\n",
       "                for (var i = 0; i < nbb_cells.length; ++i) {\n",
       "                    if (nbb_cells[i].input_prompt_number == nbb_cell_id) {\n",
       "                        if (nbb_cells[i].get_text() == nbb_unformatted_code) {\n",
       "                             nbb_cells[i].set_text(nbb_formatted_code);\n",
       "                        }\n",
       "                        break;\n",
       "                    }\n",
       "                }\n",
       "            }, 500);\n",
       "            "
      ],
      "text/plain": [
       "<IPython.core.display.Javascript object>"
      ]
     },
     "metadata": {},
     "output_type": "display_data"
    }
   ],
   "source": [
    "train = pd.read_csv(out, names=cols)\n",
    "test = pd.read_csv(out_test, names=cols, skiprows=2)\n",
    "target = \"target\"\n",
    "\n",
    "train[target] = train[target].str.strip()\n",
    "# Test has . in label, let's clean it\n",
    "test[target] = test[target].str.strip().str.strip(\".\")"
   ]
  },
  {
   "cell_type": "code",
   "execution_count": 10,
   "metadata": {
    "ExecuteTime": {
     "end_time": "2020-09-22T06:51:59.433020Z",
     "start_time": "2020-09-22T06:51:59.378833Z"
    }
   },
   "outputs": [
    {
     "name": "stdout",
     "output_type": "stream",
     "text": [
      "Building tailored column\n"
     ]
    },
    {
     "name": "stderr",
     "output_type": "stream",
     "text": [
      "/work/.cache/poetry/xplainet-KS9Ipbc1-py3.7/lib/python3.7/site-packages/ipykernel_launcher.py:9: SettingWithCopyWarning: \n",
      "A value is trying to be set on a copy of a slice from a DataFrame\n",
      "\n",
      "See the caveats in the documentation: https://pandas.pydata.org/pandas-docs/stable/user_guide/indexing.html#returning-a-view-versus-a-copy\n",
      "  if __name__ == '__main__':\n",
      "/work/.cache/poetry/xplainet-KS9Ipbc1-py3.7/lib/python3.7/site-packages/pandas/core/indexing.py:670: SettingWithCopyWarning: \n",
      "A value is trying to be set on a copy of a slice from a DataFrame\n",
      "\n",
      "See the caveats in the documentation: https://pandas.pydata.org/pandas-docs/stable/user_guide/indexing.html#returning-a-view-versus-a-copy\n",
      "  iloc._setitem_with_indexer(indexer, value)\n"
     ]
    },
    {
     "data": {
      "application/javascript": [
       "\n",
       "            setTimeout(function() {\n",
       "                var nbb_cell_id = 10;\n",
       "                var nbb_unformatted_code = \"if \\\"Set\\\" not in train.columns:\\n    print(\\\"Building tailored column\\\")\\n    train_index, valid_index = next(\\n        StratifiedShuffleSplit(n_splits=1, test_size=0.1, random_state=SEED).split(\\n            range(train[target].shape[0]), train[target].values\\n        )\\n    )\\n    train[\\\"Set\\\"] = \\\"train\\\"\\n    train[\\\"Set\\\"][valid_index] = \\\"valid\\\"\";\n",
       "                var nbb_formatted_code = \"if \\\"Set\\\" not in train.columns:\\n    print(\\\"Building tailored column\\\")\\n    train_index, valid_index = next(\\n        StratifiedShuffleSplit(n_splits=1, test_size=0.1, random_state=SEED).split(\\n            range(train[target].shape[0]), train[target].values\\n        )\\n    )\\n    train[\\\"Set\\\"] = \\\"train\\\"\\n    train[\\\"Set\\\"][valid_index] = \\\"valid\\\"\";\n",
       "                var nbb_cells = Jupyter.notebook.get_cells();\n",
       "                for (var i = 0; i < nbb_cells.length; ++i) {\n",
       "                    if (nbb_cells[i].input_prompt_number == nbb_cell_id) {\n",
       "                        if (nbb_cells[i].get_text() == nbb_unformatted_code) {\n",
       "                             nbb_cells[i].set_text(nbb_formatted_code);\n",
       "                        }\n",
       "                        break;\n",
       "                    }\n",
       "                }\n",
       "            }, 500);\n",
       "            "
      ],
      "text/plain": [
       "<IPython.core.display.Javascript object>"
      ]
     },
     "metadata": {},
     "output_type": "display_data"
    }
   ],
   "source": [
    "if \"Set\" not in train.columns:\n",
    "    print(\"Building tailored column\")\n",
    "    train_index, valid_index = next(\n",
    "        StratifiedShuffleSplit(n_splits=1, test_size=0.1, random_state=SEED).split(\n",
    "            range(train[target].shape[0]), train[target].values\n",
    "        )\n",
    "    )\n",
    "    train[\"Set\"] = \"train\"\n",
    "    train[\"Set\"][valid_index] = \"valid\""
   ]
  },
  {
   "cell_type": "code",
   "execution_count": 11,
   "metadata": {
    "ExecuteTime": {
     "end_time": "2020-09-22T06:51:59.463783Z",
     "start_time": "2020-09-22T06:51:59.433882Z"
    }
   },
   "outputs": [
    {
     "data": {
      "application/javascript": [
       "\n",
       "            setTimeout(function() {\n",
       "                var nbb_cell_id = 11;\n",
       "                var nbb_unformatted_code = \"train_indices = train[train.Set == \\\"train\\\"].index\\nvalid_indices = train[train.Set == \\\"valid\\\"].index\\n# test_indices = train[train.Set == \\\"test\\\"].index\";\n",
       "                var nbb_formatted_code = \"train_indices = train[train.Set == \\\"train\\\"].index\\nvalid_indices = train[train.Set == \\\"valid\\\"].index\\n# test_indices = train[train.Set == \\\"test\\\"].index\";\n",
       "                var nbb_cells = Jupyter.notebook.get_cells();\n",
       "                for (var i = 0; i < nbb_cells.length; ++i) {\n",
       "                    if (nbb_cells[i].input_prompt_number == nbb_cell_id) {\n",
       "                        if (nbb_cells[i].get_text() == nbb_unformatted_code) {\n",
       "                             nbb_cells[i].set_text(nbb_formatted_code);\n",
       "                        }\n",
       "                        break;\n",
       "                    }\n",
       "                }\n",
       "            }, 500);\n",
       "            "
      ],
      "text/plain": [
       "<IPython.core.display.Javascript object>"
      ]
     },
     "metadata": {},
     "output_type": "display_data"
    }
   ],
   "source": [
    "train_indices = train[train.Set == \"train\"].index\n",
    "valid_indices = train[train.Set == \"valid\"].index\n",
    "# test_indices = train[train.Set == \"test\"].index"
   ]
  },
  {
   "cell_type": "code",
   "execution_count": 12,
   "metadata": {
    "ExecuteTime": {
     "end_time": "2020-09-22T06:51:59.855807Z",
     "start_time": "2020-09-22T06:51:59.464726Z"
    }
   },
   "outputs": [
    {
     "data": {
      "text/plain": [
       "{'constant_cols': [],\n",
       " 'bool_cols': ['sex'],\n",
       " 'num_cols': ['fnlwgt'],\n",
       " 'cat_cols': ['relationship',\n",
       "  'hours-per-week',\n",
       "  'education',\n",
       "  'marital-status',\n",
       "  'occupation',\n",
       "  'native-country',\n",
       "  'workclass',\n",
       "  'age',\n",
       "  'education-num',\n",
       "  'race',\n",
       "  'capital-loss',\n",
       "  'capital-gain'],\n",
       " 'num_encoder': [FeatureUnion(transformer_list=[('fillna',\n",
       "                                  Pipeline(steps=[('fillna',\n",
       "                                                   SimpleImputer(fill_value=1740.018844394761,\n",
       "                                                                 strategy='constant')),\n",
       "                                                  ('scaler',\n",
       "                                                   StandardScaler())]))])],\n",
       " 'bool_encoder': [SafeLabelEncoder()],\n",
       " 'max_nb': 117,\n",
       " 'cat_encoder': [SafeLabelEncoder(),\n",
       "  SafeLabelEncoder(),\n",
       "  SafeLabelEncoder(),\n",
       "  SafeLabelEncoder(),\n",
       "  SafeLabelEncoder(),\n",
       "  SafeLabelEncoder(),\n",
       "  SafeLabelEncoder(),\n",
       "  SafeLabelEncoder(),\n",
       "  SafeLabelEncoder(),\n",
       "  SafeLabelEncoder(),\n",
       "  SafeLabelEncoder(),\n",
       "  SafeLabelEncoder()]}"
      ]
     },
     "execution_count": 12,
     "metadata": {},
     "output_type": "execute_result"
    },
    {
     "data": {
      "application/javascript": [
       "\n",
       "            setTimeout(function() {\n",
       "                var nbb_cell_id = 12;\n",
       "                var nbb_unformatted_code = \"input_train, params = preproc_dataset(train.loc[train_indices], target, [\\\"Set\\\"])\\nparams\";\n",
       "                var nbb_formatted_code = \"input_train, params = preproc_dataset(train.loc[train_indices], target, [\\\"Set\\\"])\\nparams\";\n",
       "                var nbb_cells = Jupyter.notebook.get_cells();\n",
       "                for (var i = 0; i < nbb_cells.length; ++i) {\n",
       "                    if (nbb_cells[i].input_prompt_number == nbb_cell_id) {\n",
       "                        if (nbb_cells[i].get_text() == nbb_unformatted_code) {\n",
       "                             nbb_cells[i].set_text(nbb_formatted_code);\n",
       "                        }\n",
       "                        break;\n",
       "                    }\n",
       "                }\n",
       "            }, 500);\n",
       "            "
      ],
      "text/plain": [
       "<IPython.core.display.Javascript object>"
      ]
     },
     "metadata": {},
     "output_type": "display_data"
    }
   ],
   "source": [
    "input_train, params = preproc_dataset(train.loc[train_indices], target, [\"Set\"])\n",
    "params"
   ]
  },
  {
   "cell_type": "code",
   "execution_count": 13,
   "metadata": {
    "ExecuteTime": {
     "end_time": "2020-09-22T06:51:59.880392Z",
     "start_time": "2020-09-22T06:51:59.856767Z"
    }
   },
   "outputs": [
    {
     "data": {
      "text/plain": [
       "29304"
      ]
     },
     "execution_count": 13,
     "metadata": {},
     "output_type": "execute_result"
    },
    {
     "data": {
      "application/javascript": [
       "\n",
       "            setTimeout(function() {\n",
       "                var nbb_cell_id = 13;\n",
       "                var nbb_unformatted_code = \"len(train_indices)\";\n",
       "                var nbb_formatted_code = \"len(train_indices)\";\n",
       "                var nbb_cells = Jupyter.notebook.get_cells();\n",
       "                for (var i = 0; i < nbb_cells.length; ++i) {\n",
       "                    if (nbb_cells[i].input_prompt_number == nbb_cell_id) {\n",
       "                        if (nbb_cells[i].get_text() == nbb_unformatted_code) {\n",
       "                             nbb_cells[i].set_text(nbb_formatted_code);\n",
       "                        }\n",
       "                        break;\n",
       "                    }\n",
       "                }\n",
       "            }, 500);\n",
       "            "
      ],
      "text/plain": [
       "<IPython.core.display.Javascript object>"
      ]
     },
     "metadata": {},
     "output_type": "display_data"
    }
   ],
   "source": [
    "len(train_indices)"
   ]
  },
  {
   "cell_type": "code",
   "execution_count": 14,
   "metadata": {
    "ExecuteTime": {
     "end_time": "2020-09-22T06:52:00.043166Z",
     "start_time": "2020-09-22T06:51:59.881551Z"
    }
   },
   "outputs": [
    {
     "data": {
      "application/javascript": [
       "\n",
       "            setTimeout(function() {\n",
       "                var nbb_cell_id = 14;\n",
       "                var nbb_unformatted_code = \"input_valid, _ = preproc_dataset(train.loc[valid_indices], target, [\\\"Set\\\"], params)\\ninput_test, _ = preproc_dataset(test, target, [\\\"Set\\\"], params)\";\n",
       "                var nbb_formatted_code = \"input_valid, _ = preproc_dataset(train.loc[valid_indices], target, [\\\"Set\\\"], params)\\ninput_test, _ = preproc_dataset(test, target, [\\\"Set\\\"], params)\";\n",
       "                var nbb_cells = Jupyter.notebook.get_cells();\n",
       "                for (var i = 0; i < nbb_cells.length; ++i) {\n",
       "                    if (nbb_cells[i].input_prompt_number == nbb_cell_id) {\n",
       "                        if (nbb_cells[i].get_text() == nbb_unformatted_code) {\n",
       "                             nbb_cells[i].set_text(nbb_formatted_code);\n",
       "                        }\n",
       "                        break;\n",
       "                    }\n",
       "                }\n",
       "            }, 500);\n",
       "            "
      ],
      "text/plain": [
       "<IPython.core.display.Javascript object>"
      ]
     },
     "metadata": {},
     "output_type": "display_data"
    }
   ],
   "source": [
    "input_valid, _ = preproc_dataset(train.loc[valid_indices], target, [\"Set\"], params)\n",
    "input_test, _ = preproc_dataset(test, target, [\"Set\"], params)"
   ]
  },
  {
   "cell_type": "code",
   "execution_count": 15,
   "metadata": {
    "ExecuteTime": {
     "end_time": "2020-09-22T06:52:00.065783Z",
     "start_time": "2020-09-22T06:52:00.044173Z"
    }
   },
   "outputs": [
    {
     "data": {
      "application/javascript": [
       "\n",
       "            setTimeout(function() {\n",
       "                var nbb_cell_id = 15;\n",
       "                var nbb_unformatted_code = \"target_encoder = LabelEncoder()\";\n",
       "                var nbb_formatted_code = \"target_encoder = LabelEncoder()\";\n",
       "                var nbb_cells = Jupyter.notebook.get_cells();\n",
       "                for (var i = 0; i < nbb_cells.length; ++i) {\n",
       "                    if (nbb_cells[i].input_prompt_number == nbb_cell_id) {\n",
       "                        if (nbb_cells[i].get_text() == nbb_unformatted_code) {\n",
       "                             nbb_cells[i].set_text(nbb_formatted_code);\n",
       "                        }\n",
       "                        break;\n",
       "                    }\n",
       "                }\n",
       "            }, 500);\n",
       "            "
      ],
      "text/plain": [
       "<IPython.core.display.Javascript object>"
      ]
     },
     "metadata": {},
     "output_type": "display_data"
    }
   ],
   "source": [
    "target_encoder = LabelEncoder()"
   ]
  },
  {
   "cell_type": "code",
   "execution_count": 16,
   "metadata": {
    "ExecuteTime": {
     "end_time": "2020-09-22T06:52:00.100117Z",
     "start_time": "2020-09-22T06:52:00.066703Z"
    }
   },
   "outputs": [
    {
     "data": {
      "application/javascript": [
       "\n",
       "            setTimeout(function() {\n",
       "                var nbb_cell_id = 16;\n",
       "                var nbb_unformatted_code = \"train[target] = target_encoder.fit_transform(train[target].values.reshape(-1))\\ny_train = train[target].values[train_indices]\\ny_valid = train[target].values[valid_indices]\\ny_test = target_encoder.fit_transform(test[target].values)\";\n",
       "                var nbb_formatted_code = \"train[target] = target_encoder.fit_transform(train[target].values.reshape(-1))\\ny_train = train[target].values[train_indices]\\ny_valid = train[target].values[valid_indices]\\ny_test = target_encoder.fit_transform(test[target].values)\";\n",
       "                var nbb_cells = Jupyter.notebook.get_cells();\n",
       "                for (var i = 0; i < nbb_cells.length; ++i) {\n",
       "                    if (nbb_cells[i].input_prompt_number == nbb_cell_id) {\n",
       "                        if (nbb_cells[i].get_text() == nbb_unformatted_code) {\n",
       "                             nbb_cells[i].set_text(nbb_formatted_code);\n",
       "                        }\n",
       "                        break;\n",
       "                    }\n",
       "                }\n",
       "            }, 500);\n",
       "            "
      ],
      "text/plain": [
       "<IPython.core.display.Javascript object>"
      ]
     },
     "metadata": {},
     "output_type": "display_data"
    }
   ],
   "source": [
    "train[target] = target_encoder.fit_transform(train[target].values.reshape(-1))\n",
    "y_train = train[target].values[train_indices]\n",
    "y_valid = train[target].values[valid_indices]\n",
    "y_test = target_encoder.fit_transform(test[target].values)"
   ]
  },
  {
   "cell_type": "code",
   "execution_count": 17,
   "metadata": {
    "ExecuteTime": {
     "end_time": "2020-09-22T06:52:00.135365Z",
     "start_time": "2020-09-22T06:52:00.101061Z"
    }
   },
   "outputs": [
    {
     "data": {
      "text/plain": [
       "{'constant_cols': [],\n",
       " 'bool_cols': ['sex'],\n",
       " 'num_cols': ['fnlwgt'],\n",
       " 'cat_cols': ['relationship',\n",
       "  'hours-per-week',\n",
       "  'education',\n",
       "  'marital-status',\n",
       "  'occupation',\n",
       "  'native-country',\n",
       "  'workclass',\n",
       "  'age',\n",
       "  'education-num',\n",
       "  'race',\n",
       "  'capital-loss',\n",
       "  'capital-gain'],\n",
       " 'num_encoder': [FeatureUnion(transformer_list=[('fillna',\n",
       "                                  Pipeline(steps=[('fillna',\n",
       "                                                   SimpleImputer(fill_value=1740.018844394761,\n",
       "                                                                 strategy='constant')),\n",
       "                                                  ('scaler',\n",
       "                                                   StandardScaler())]))])],\n",
       " 'bool_encoder': [SafeLabelEncoder()],\n",
       " 'max_nb': 117,\n",
       " 'cat_encoder': [SafeLabelEncoder(),\n",
       "  SafeLabelEncoder(),\n",
       "  SafeLabelEncoder(),\n",
       "  SafeLabelEncoder(),\n",
       "  SafeLabelEncoder(),\n",
       "  SafeLabelEncoder(),\n",
       "  SafeLabelEncoder(),\n",
       "  SafeLabelEncoder(),\n",
       "  SafeLabelEncoder(),\n",
       "  SafeLabelEncoder(),\n",
       "  SafeLabelEncoder(),\n",
       "  SafeLabelEncoder()]}"
      ]
     },
     "execution_count": 17,
     "metadata": {},
     "output_type": "execute_result"
    },
    {
     "data": {
      "application/javascript": [
       "\n",
       "            setTimeout(function() {\n",
       "                var nbb_cell_id = 17;\n",
       "                var nbb_unformatted_code = \"params\";\n",
       "                var nbb_formatted_code = \"params\";\n",
       "                var nbb_cells = Jupyter.notebook.get_cells();\n",
       "                for (var i = 0; i < nbb_cells.length; ++i) {\n",
       "                    if (nbb_cells[i].input_prompt_number == nbb_cell_id) {\n",
       "                        if (nbb_cells[i].get_text() == nbb_unformatted_code) {\n",
       "                             nbb_cells[i].set_text(nbb_formatted_code);\n",
       "                        }\n",
       "                        break;\n",
       "                    }\n",
       "                }\n",
       "            }, 500);\n",
       "            "
      ],
      "text/plain": [
       "<IPython.core.display.Javascript object>"
      ]
     },
     "metadata": {},
     "output_type": "display_data"
    }
   ],
   "source": [
    "params"
   ]
  },
  {
   "cell_type": "code",
   "execution_count": 18,
   "metadata": {
    "ExecuteTime": {
     "end_time": "2020-09-22T06:52:00.250310Z",
     "start_time": "2020-09-22T06:52:00.136355Z"
    }
   },
   "outputs": [
    {
     "name": "stderr",
     "output_type": "stream",
     "text": [
      "/work/.cache/poetry/xplainet-KS9Ipbc1-py3.7/lib/python3.7/site-packages/tensorflow_addons/utils/resource_loader.py:103: UserWarning: You are currently using TensorFlow 2.3.0 and trying to load a custom op (custom_ops/activations/_activation_ops.so).\n",
      "TensorFlow Addons has compiled its custom ops against TensorFlow 2.2.0, and there are no compatibility guarantees between the two versions. \n",
      "This means that you might get segfaults when loading the custom op, or other kind of low-level errors.\n",
      " If you do, do not file an issue on Github. This is a known limitation.\n",
      "\n",
      "It might help you to fallback to pure Python ops with TF_ADDONS_PY_OPS . To do that, see https://github.com/tensorflow/addons#gpucpu-custom-ops \n",
      "\n",
      "You can also change the TensorFlow version installed on your system. You would need a TensorFlow version equal to or above 2.2.0 and strictly below 2.3.0.\n",
      " Note that nightly versions of TensorFlow, as well as non-pip TensorFlow like `conda install tensorflow` or compiled from source are not supported.\n",
      "\n",
      "The last solution is to find the TensorFlow Addons version that has custom ops compatible with the TensorFlow installed on your system. To do that, refer to the readme: https://github.com/tensorflow/addons\n",
      "  UserWarning,\n"
     ]
    },
    {
     "data": {
      "application/javascript": [
       "\n",
       "            setTimeout(function() {\n",
       "                var nbb_cell_id = 18;\n",
       "                var nbb_unformatted_code = \"model = build_model(\\n    params,\\n    lconv_dim=[4],\\n    lconv_num_dim=[8],\\n    emb_size=16,\\n    activation_num_first_layer=None,  # \\\"tanh\\\",\\n)\";\n",
       "                var nbb_formatted_code = \"model = build_model(\\n    params,\\n    lconv_dim=[4],\\n    lconv_num_dim=[8],\\n    emb_size=16,\\n    activation_num_first_layer=None,  # \\\"tanh\\\",\\n)\";\n",
       "                var nbb_cells = Jupyter.notebook.get_cells();\n",
       "                for (var i = 0; i < nbb_cells.length; ++i) {\n",
       "                    if (nbb_cells[i].input_prompt_number == nbb_cell_id) {\n",
       "                        if (nbb_cells[i].get_text() == nbb_unformatted_code) {\n",
       "                             nbb_cells[i].set_text(nbb_formatted_code);\n",
       "                        }\n",
       "                        break;\n",
       "                    }\n",
       "                }\n",
       "            }, 500);\n",
       "            "
      ],
      "text/plain": [
       "<IPython.core.display.Javascript object>"
      ]
     },
     "metadata": {},
     "output_type": "display_data"
    }
   ],
   "source": [
    "model = build_model(\n",
    "    params,\n",
    "    lconv_dim=[4],\n",
    "    lconv_num_dim=[8],\n",
    "    emb_size=16,\n",
    "    activation_num_first_layer=None,  # \"tanh\",\n",
    ")"
   ]
  },
  {
   "cell_type": "code",
   "execution_count": 19,
   "metadata": {
    "ExecuteTime": {
     "end_time": "2020-09-22T06:52:00.274180Z",
     "start_time": "2020-09-22T06:52:00.251348Z"
    }
   },
   "outputs": [
    {
     "data": {
      "text/plain": [
       "TensorShape([None, 57])"
      ]
     },
     "execution_count": 19,
     "metadata": {},
     "output_type": "execute_result"
    },
    {
     "data": {
      "application/javascript": [
       "\n",
       "            setTimeout(function() {\n",
       "                var nbb_cell_id = 19;\n",
       "                var nbb_unformatted_code = \"model.get_layer(\\\"output\\\")._build_input_shape\";\n",
       "                var nbb_formatted_code = \"model.get_layer(\\\"output\\\")._build_input_shape\";\n",
       "                var nbb_cells = Jupyter.notebook.get_cells();\n",
       "                for (var i = 0; i < nbb_cells.length; ++i) {\n",
       "                    if (nbb_cells[i].input_prompt_number == nbb_cell_id) {\n",
       "                        if (nbb_cells[i].get_text() == nbb_unformatted_code) {\n",
       "                             nbb_cells[i].set_text(nbb_formatted_code);\n",
       "                        }\n",
       "                        break;\n",
       "                    }\n",
       "                }\n",
       "            }, 500);\n",
       "            "
      ],
      "text/plain": [
       "<IPython.core.display.Javascript object>"
      ]
     },
     "metadata": {},
     "output_type": "display_data"
    }
   ],
   "source": [
    "model.get_layer(\"output\")._build_input_shape"
   ]
  },
  {
   "cell_type": "code",
   "execution_count": 20,
   "metadata": {
    "ExecuteTime": {
     "end_time": "2020-09-22T06:52:00.300570Z",
     "start_time": "2020-09-22T06:52:00.275219Z"
    }
   },
   "outputs": [
    {
     "name": "stdout",
     "output_type": "stream",
     "text": [
      "Model: \"explainable_model\"\n",
      "__________________________________________________________________________________________________\n",
      "Layer (type)                    Output Shape         Param #     Connected to                     \n",
      "==================================================================================================\n",
      "input_num (InputLayer)          [(None, 1)]          0                                            \n",
      "__________________________________________________________________________________________________\n",
      "input_cat (InputLayer)          [(None, 12)]         0                                            \n",
      "__________________________________________________________________________________________________\n",
      "reshape_num_input (Reshape)     (None, 1, 1)         0           input_num[0][0]                  \n",
      "__________________________________________________________________________________________________\n",
      "large_emb (Embedding)           (None, 12, 16)       1888        input_cat[0][0]                  \n",
      "__________________________________________________________________________________________________\n",
      "block_num_0_conv (LocallyConnec (None, 1, 8)         8           reshape_num_input[0][0]          \n",
      "__________________________________________________________________________________________________\n",
      "block_cat_0_conv (LocallyConnec (None, 12, 4)        768         large_emb[0][0]                  \n",
      "__________________________________________________________________________________________________\n",
      "block_num_0_activation (Activat (None, 1, 8)         0           block_num_0_conv[0][0]           \n",
      "__________________________________________________________________________________________________\n",
      "block_cat_0_activation (Activat (None, 12, 4)        0           block_cat_0_conv[0][0]           \n",
      "__________________________________________________________________________________________________\n",
      "input_bool (InputLayer)         [(None, 1)]          0                                            \n",
      "__________________________________________________________________________________________________\n",
      "reshape_num_output (Reshape)    (None, 8)            0           block_num_0_activation[0][0]     \n",
      "__________________________________________________________________________________________________\n",
      "reshape_cat_output (Reshape)    (None, 48)           0           block_cat_0_activation[0][0]     \n",
      "__________________________________________________________________________________________________\n",
      "concatenate (Concatenate)       (None, 57)           0           input_bool[0][0]                 \n",
      "                                                                 reshape_num_output[0][0]         \n",
      "                                                                 reshape_cat_output[0][0]         \n",
      "__________________________________________________________________________________________________\n",
      "output (Dense)                  (None, 1)            58          concatenate[0][0]                \n",
      "==================================================================================================\n",
      "Total params: 2,722\n",
      "Trainable params: 2,722\n",
      "Non-trainable params: 0\n",
      "__________________________________________________________________________________________________\n"
     ]
    },
    {
     "data": {
      "application/javascript": [
       "\n",
       "            setTimeout(function() {\n",
       "                var nbb_cell_id = 20;\n",
       "                var nbb_unformatted_code = \"model.summary()\";\n",
       "                var nbb_formatted_code = \"model.summary()\";\n",
       "                var nbb_cells = Jupyter.notebook.get_cells();\n",
       "                for (var i = 0; i < nbb_cells.length; ++i) {\n",
       "                    if (nbb_cells[i].input_prompt_number == nbb_cell_id) {\n",
       "                        if (nbb_cells[i].get_text() == nbb_unformatted_code) {\n",
       "                             nbb_cells[i].set_text(nbb_formatted_code);\n",
       "                        }\n",
       "                        break;\n",
       "                    }\n",
       "                }\n",
       "            }, 500);\n",
       "            "
      ],
      "text/plain": [
       "<IPython.core.display.Javascript object>"
      ]
     },
     "metadata": {},
     "output_type": "display_data"
    }
   ],
   "source": [
    "model.summary()"
   ]
  },
  {
   "cell_type": "code",
   "execution_count": 21,
   "metadata": {
    "ExecuteTime": {
     "end_time": "2020-09-22T06:52:00.322530Z",
     "start_time": "2020-09-22T06:52:00.301439Z"
    }
   },
   "outputs": [
    {
     "data": {
      "application/javascript": [
       "\n",
       "            setTimeout(function() {\n",
       "                var nbb_cell_id = 21;\n",
       "                var nbb_unformatted_code = \"#!pip install pydot graphviz\";\n",
       "                var nbb_formatted_code = \"#!pip install pydot graphviz\";\n",
       "                var nbb_cells = Jupyter.notebook.get_cells();\n",
       "                for (var i = 0; i < nbb_cells.length; ++i) {\n",
       "                    if (nbb_cells[i].input_prompt_number == nbb_cell_id) {\n",
       "                        if (nbb_cells[i].get_text() == nbb_unformatted_code) {\n",
       "                             nbb_cells[i].set_text(nbb_formatted_code);\n",
       "                        }\n",
       "                        break;\n",
       "                    }\n",
       "                }\n",
       "            }, 500);\n",
       "            "
      ],
      "text/plain": [
       "<IPython.core.display.Javascript object>"
      ]
     },
     "metadata": {},
     "output_type": "display_data"
    }
   ],
   "source": [
    "#!pip install pydot graphviz"
   ]
  },
  {
   "cell_type": "code",
   "execution_count": 22,
   "metadata": {
    "ExecuteTime": {
     "end_time": "2020-09-22T06:52:00.447657Z",
     "start_time": "2020-09-22T06:52:00.323402Z"
    }
   },
   "outputs": [
    {
     "data": {
      "image/png": "[encoded data removed]",
      "text/plain": [
       "<IPython.core.display.Image object>"
      ]
     },
     "execution_count": 22,
     "metadata": {},
     "output_type": "execute_result"
    },
    {
     "data": {
      "application/javascript": [
       "\n",
       "            setTimeout(function() {\n",
       "                var nbb_cell_id = 22;\n",
       "                var nbb_unformatted_code = \"plot_model(\\n    model,\\n    # to_file=\\\"model.png\\\",\\n    show_shapes=True,\\n    show_layer_names=True,\\n    rankdir=\\\"TB\\\",\\n    expand_nested=False,\\n    dpi=96,\\n)\";\n",
       "                var nbb_formatted_code = \"plot_model(\\n    model,\\n    # to_file=\\\"model.png\\\",\\n    show_shapes=True,\\n    show_layer_names=True,\\n    rankdir=\\\"TB\\\",\\n    expand_nested=False,\\n    dpi=96,\\n)\";\n",
       "                var nbb_cells = Jupyter.notebook.get_cells();\n",
       "                for (var i = 0; i < nbb_cells.length; ++i) {\n",
       "                    if (nbb_cells[i].input_prompt_number == nbb_cell_id) {\n",
       "                        if (nbb_cells[i].get_text() == nbb_unformatted_code) {\n",
       "                             nbb_cells[i].set_text(nbb_formatted_code);\n",
       "                        }\n",
       "                        break;\n",
       "                    }\n",
       "                }\n",
       "            }, 500);\n",
       "            "
      ],
      "text/plain": [
       "<IPython.core.display.Javascript object>"
      ]
     },
     "metadata": {},
     "output_type": "display_data"
    }
   ],
   "source": [
    "plot_model(\n",
    "    model,\n",
    "    # to_file=\"model.png\",\n",
    "    show_shapes=True,\n",
    "    show_layer_names=True,\n",
    "    rankdir=\"TB\",\n",
    "    expand_nested=False,\n",
    "    dpi=96,\n",
    ")"
   ]
  },
  {
   "cell_type": "code",
   "execution_count": 23,
   "metadata": {
    "ExecuteTime": {
     "end_time": "2020-09-22T06:52:00.474299Z",
     "start_time": "2020-09-22T06:52:00.450138Z"
    }
   },
   "outputs": [
    {
     "data": {
      "text/plain": [
       "(29304,)"
      ]
     },
     "execution_count": 23,
     "metadata": {},
     "output_type": "execute_result"
    },
    {
     "data": {
      "application/javascript": [
       "\n",
       "            setTimeout(function() {\n",
       "                var nbb_cell_id = 23;\n",
       "                var nbb_unformatted_code = \"y_train.shape\";\n",
       "                var nbb_formatted_code = \"y_train.shape\";\n",
       "                var nbb_cells = Jupyter.notebook.get_cells();\n",
       "                for (var i = 0; i < nbb_cells.length; ++i) {\n",
       "                    if (nbb_cells[i].input_prompt_number == nbb_cell_id) {\n",
       "                        if (nbb_cells[i].get_text() == nbb_unformatted_code) {\n",
       "                             nbb_cells[i].set_text(nbb_formatted_code);\n",
       "                        }\n",
       "                        break;\n",
       "                    }\n",
       "                }\n",
       "            }, 500);\n",
       "            "
      ],
      "text/plain": [
       "<IPython.core.display.Javascript object>"
      ]
     },
     "metadata": {},
     "output_type": "display_data"
    }
   ],
   "source": [
    "y_train.shape"
   ]
  },
  {
   "cell_type": "code",
   "execution_count": 24,
   "metadata": {
    "ExecuteTime": {
     "end_time": "2020-09-22T06:52:00.499597Z",
     "start_time": "2020-09-22T06:52:00.475691Z"
    }
   },
   "outputs": [
    {
     "data": {
      "application/javascript": [
       "\n",
       "            setTimeout(function() {\n",
       "                var nbb_cell_id = 24;\n",
       "                var nbb_unformatted_code = \"counts = np.unique(y_train, return_counts=True)[1]\\ncounts = counts.sum() / counts\";\n",
       "                var nbb_formatted_code = \"counts = np.unique(y_train, return_counts=True)[1]\\ncounts = counts.sum() / counts\";\n",
       "                var nbb_cells = Jupyter.notebook.get_cells();\n",
       "                for (var i = 0; i < nbb_cells.length; ++i) {\n",
       "                    if (nbb_cells[i].input_prompt_number == nbb_cell_id) {\n",
       "                        if (nbb_cells[i].get_text() == nbb_unformatted_code) {\n",
       "                             nbb_cells[i].set_text(nbb_formatted_code);\n",
       "                        }\n",
       "                        break;\n",
       "                    }\n",
       "                }\n",
       "            }, 500);\n",
       "            "
      ],
      "text/plain": [
       "<IPython.core.display.Javascript object>"
      ]
     },
     "metadata": {},
     "output_type": "display_data"
    }
   ],
   "source": [
    "counts = np.unique(y_train, return_counts=True)[1]\n",
    "counts = counts.sum() / counts"
   ]
  },
  {
   "cell_type": "code",
   "execution_count": 25,
   "metadata": {
    "ExecuteTime": {
     "end_time": "2020-09-22T06:52:00.524551Z",
     "start_time": "2020-09-22T06:52:00.500462Z"
    }
   },
   "outputs": [
    {
     "data": {
      "text/plain": [
       "{0: 1.3172113093900302, 1: 4.152472722119881}"
      ]
     },
     "execution_count": 25,
     "metadata": {},
     "output_type": "execute_result"
    },
    {
     "data": {
      "application/javascript": [
       "\n",
       "            setTimeout(function() {\n",
       "                var nbb_cell_id = 25;\n",
       "                var nbb_unformatted_code = \"class_weight = {\\n    0: counts[0],\\n    1: counts[1],\\n}\\nclass_weight\";\n",
       "                var nbb_formatted_code = \"class_weight = {\\n    0: counts[0],\\n    1: counts[1],\\n}\\nclass_weight\";\n",
       "                var nbb_cells = Jupyter.notebook.get_cells();\n",
       "                for (var i = 0; i < nbb_cells.length; ++i) {\n",
       "                    if (nbb_cells[i].input_prompt_number == nbb_cell_id) {\n",
       "                        if (nbb_cells[i].get_text() == nbb_unformatted_code) {\n",
       "                             nbb_cells[i].set_text(nbb_formatted_code);\n",
       "                        }\n",
       "                        break;\n",
       "                    }\n",
       "                }\n",
       "            }, 500);\n",
       "            "
      ],
      "text/plain": [
       "<IPython.core.display.Javascript object>"
      ]
     },
     "metadata": {},
     "output_type": "display_data"
    }
   ],
   "source": [
    "class_weight = {\n",
    "    0: counts[0],\n",
    "    1: counts[1],\n",
    "}\n",
    "class_weight"
   ]
  },
  {
   "cell_type": "raw",
   "metadata": {
    "ExecuteTime": {
     "end_time": "2020-07-14T10:13:28.824624Z",
     "start_time": "2020-07-14T10:13:28.800384Z"
    }
   },
   "source": [
    "class_weight = {\n",
    "    0: 1,\n",
    "    1: 1,\n",
    "}\n",
    "class_weight"
   ]
  },
  {
   "cell_type": "code",
   "execution_count": 26,
   "metadata": {
    "ExecuteTime": {
     "end_time": "2020-09-22T06:52:18.429439Z",
     "start_time": "2020-09-22T06:52:00.525448Z"
    }
   },
   "outputs": [
    {
     "name": "stdout",
     "output_type": "stream",
     "text": [
      "Epoch 1/2000\n",
      "29/29 - 0s - loss: 1.3726 - val_loss: 0.7109\n",
      "Epoch 2/2000\n",
      "29/29 - 0s - loss: 1.3713 - val_loss: 0.7094\n",
      "Epoch 3/2000\n",
      "29/29 - 0s - loss: 1.3694 - val_loss: 0.7075\n",
      "Epoch 4/2000\n",
      "29/29 - 0s - loss: 1.3669 - val_loss: 0.7053\n",
      "Epoch 5/2000\n",
      "29/29 - 0s - loss: 1.3637 - val_loss: 0.7027\n",
      "Epoch 6/2000\n",
      "29/29 - 0s - loss: 1.3597 - val_loss: 0.6994\n",
      "Epoch 7/2000\n",
      "29/29 - 0s - loss: 1.3544 - val_loss: 0.6943\n",
      "Epoch 8/2000\n",
      "29/29 - 0s - loss: 1.3472 - val_loss: 0.6887\n",
      "Epoch 9/2000\n",
      "29/29 - 0s - loss: 1.3375 - val_loss: 0.6813\n",
      "Epoch 10/2000\n",
      "29/29 - 0s - loss: 1.3245 - val_loss: 0.6722\n",
      "Epoch 11/2000\n",
      "29/29 - 0s - loss: 1.3073 - val_loss: 0.6606\n",
      "Epoch 12/2000\n",
      "29/29 - 0s - loss: 1.2851 - val_loss: 0.6460\n",
      "Epoch 13/2000\n",
      "29/29 - 0s - loss: 1.2577 - val_loss: 0.6245\n",
      "Epoch 14/2000\n",
      "29/29 - 0s - loss: 1.2245 - val_loss: 0.6042\n",
      "Epoch 15/2000\n",
      "29/29 - 0s - loss: 1.1865 - val_loss: 0.5828\n",
      "Epoch 16/2000\n",
      "29/29 - 0s - loss: 1.1449 - val_loss: 0.5602\n",
      "Epoch 17/2000\n",
      "29/29 - 0s - loss: 1.1016 - val_loss: 0.5381\n",
      "Epoch 18/2000\n",
      "29/29 - 0s - loss: 1.0589 - val_loss: 0.5183\n",
      "Epoch 19/2000\n",
      "29/29 - 0s - loss: 1.0188 - val_loss: 0.4947\n",
      "Epoch 20/2000\n",
      "29/29 - 0s - loss: 0.9826 - val_loss: 0.4778\n",
      "Epoch 21/2000\n",
      "29/29 - 0s - loss: 0.9510 - val_loss: 0.4630\n",
      "Epoch 22/2000\n",
      "29/29 - 0s - loss: 0.9244 - val_loss: 0.4513\n",
      "Epoch 23/2000\n",
      "29/29 - 0s - loss: 0.9024 - val_loss: 0.4407\n",
      "Epoch 24/2000\n",
      "29/29 - 0s - loss: 0.8842 - val_loss: 0.4329\n",
      "Epoch 25/2000\n",
      "29/29 - 0s - loss: 0.8691 - val_loss: 0.4206\n",
      "Epoch 26/2000\n",
      "29/29 - 0s - loss: 0.8562 - val_loss: 0.4184\n",
      "Epoch 27/2000\n",
      "29/29 - 0s - loss: 0.8453 - val_loss: 0.4122\n",
      "Epoch 28/2000\n",
      "29/29 - 0s - loss: 0.8355 - val_loss: 0.4067\n",
      "Epoch 29/2000\n",
      "29/29 - 0s - loss: 0.8270 - val_loss: 0.4017\n",
      "Epoch 30/2000\n",
      "29/29 - 0s - loss: 0.8193 - val_loss: 0.3995\n",
      "Epoch 31/2000\n",
      "29/29 - 0s - loss: 0.8124 - val_loss: 0.3986\n",
      "Epoch 32/2000\n",
      "29/29 - 0s - loss: 0.8059 - val_loss: 0.3924\n",
      "Epoch 33/2000\n",
      "29/29 - 0s - loss: 0.7999 - val_loss: 0.3891\n",
      "Epoch 34/2000\n",
      "29/29 - 0s - loss: 0.7944 - val_loss: 0.3857\n",
      "Epoch 35/2000\n",
      "29/29 - 0s - loss: 0.7892 - val_loss: 0.3831\n",
      "Epoch 36/2000\n",
      "29/29 - 0s - loss: 0.7846 - val_loss: 0.3833\n",
      "Epoch 37/2000\n",
      "29/29 - 0s - loss: 0.7799 - val_loss: 0.3769\n",
      "Epoch 38/2000\n",
      "29/29 - 0s - loss: 0.7758 - val_loss: 0.3779\n",
      "Epoch 39/2000\n",
      "29/29 - 0s - loss: 0.7718 - val_loss: 0.3726\n",
      "Epoch 40/2000\n",
      "29/29 - 0s - loss: 0.7681 - val_loss: 0.3718\n",
      "Epoch 41/2000\n",
      "29/29 - 0s - loss: 0.7646 - val_loss: 0.3741\n",
      "Epoch 42/2000\n",
      "29/29 - 0s - loss: 0.7612 - val_loss: 0.3716\n",
      "Epoch 43/2000\n",
      "29/29 - 0s - loss: 0.7580 - val_loss: 0.3607\n",
      "Epoch 44/2000\n",
      "29/29 - 0s - loss: 0.7551 - val_loss: 0.3655\n",
      "Epoch 45/2000\n",
      "29/29 - 0s - loss: 0.7522 - val_loss: 0.3678\n",
      "Epoch 46/2000\n",
      "29/29 - 0s - loss: 0.7494 - val_loss: 0.3674\n",
      "Epoch 47/2000\n",
      "29/29 - 0s - loss: 0.7468 - val_loss: 0.3652\n",
      "Epoch 48/2000\n",
      "29/29 - 0s - loss: 0.7444 - val_loss: 0.3640\n",
      "Epoch 49/2000\n",
      "29/29 - 0s - loss: 0.7418 - val_loss: 0.3639\n",
      "Epoch 50/2000\n",
      "29/29 - 0s - loss: 0.7396 - val_loss: 0.3586\n",
      "Epoch 51/2000\n",
      "29/29 - 0s - loss: 0.7376 - val_loss: 0.3568\n",
      "Epoch 52/2000\n",
      "29/29 - 0s - loss: 0.7354 - val_loss: 0.3602\n",
      "Epoch 53/2000\n",
      "29/29 - 0s - loss: 0.7332 - val_loss: 0.3578\n",
      "Epoch 54/2000\n",
      "29/29 - 0s - loss: 0.7311 - val_loss: 0.3576\n",
      "Epoch 55/2000\n",
      "29/29 - 0s - loss: 0.7295 - val_loss: 0.3565\n",
      "Epoch 56/2000\n",
      "29/29 - 0s - loss: 0.7274 - val_loss: 0.3592\n",
      "Epoch 57/2000\n",
      "29/29 - 0s - loss: 0.7258 - val_loss: 0.3559\n",
      "Epoch 58/2000\n",
      "29/29 - 0s - loss: 0.7240 - val_loss: 0.3514\n",
      "Epoch 59/2000\n",
      "29/29 - 0s - loss: 0.7225 - val_loss: 0.3536\n",
      "Epoch 60/2000\n",
      "29/29 - 0s - loss: 0.7209 - val_loss: 0.3544\n",
      "Epoch 61/2000\n",
      "29/29 - 0s - loss: 0.7195 - val_loss: 0.3538\n",
      "Epoch 62/2000\n",
      "29/29 - 0s - loss: 0.7179 - val_loss: 0.3519\n",
      "Epoch 63/2000\n",
      "29/29 - 0s - loss: 0.7166 - val_loss: 0.3511\n",
      "Epoch 64/2000\n",
      "29/29 - 0s - loss: 0.7153 - val_loss: 0.3541\n",
      "Epoch 65/2000\n",
      "29/29 - 0s - loss: 0.7139 - val_loss: 0.3500\n",
      "Epoch 66/2000\n",
      "29/29 - 0s - loss: 0.7126 - val_loss: 0.3506\n",
      "Epoch 67/2000\n",
      "29/29 - 0s - loss: 0.7116 - val_loss: 0.3495\n",
      "Epoch 68/2000\n",
      "29/29 - 0s - loss: 0.7104 - val_loss: 0.3516\n",
      "Epoch 69/2000\n",
      "29/29 - 0s - loss: 0.7093 - val_loss: 0.3473\n",
      "Epoch 70/2000\n",
      "29/29 - 0s - loss: 0.7082 - val_loss: 0.3522\n",
      "Epoch 71/2000\n",
      "29/29 - 0s - loss: 0.7072 - val_loss: 0.3469\n",
      "Epoch 72/2000\n",
      "29/29 - 0s - loss: 0.7062 - val_loss: 0.3482\n",
      "Epoch 73/2000\n",
      "29/29 - 0s - loss: 0.7053 - val_loss: 0.3434\n",
      "Epoch 74/2000\n",
      "29/29 - 0s - loss: 0.7042 - val_loss: 0.3521\n",
      "Epoch 75/2000\n",
      "29/29 - 0s - loss: 0.7036 - val_loss: 0.3496\n",
      "Epoch 76/2000\n",
      "29/29 - 0s - loss: 0.7025 - val_loss: 0.3499\n",
      "Epoch 77/2000\n",
      "29/29 - 0s - loss: 0.7014 - val_loss: 0.3402\n",
      "Epoch 78/2000\n",
      "29/29 - 0s - loss: 0.7013 - val_loss: 0.3462\n",
      "Epoch 79/2000\n",
      "29/29 - 0s - loss: 0.7002 - val_loss: 0.3414\n",
      "Epoch 80/2000\n",
      "29/29 - 0s - loss: 0.6994 - val_loss: 0.3516\n",
      "Epoch 81/2000\n",
      "29/29 - 0s - loss: 0.6984 - val_loss: 0.3408\n",
      "Epoch 82/2000\n",
      "29/29 - 0s - loss: 0.6976 - val_loss: 0.3451\n",
      "Epoch 83/2000\n",
      "29/29 - 0s - loss: 0.6967 - val_loss: 0.3479\n",
      "Epoch 84/2000\n",
      "29/29 - 0s - loss: 0.6960 - val_loss: 0.3456\n",
      "Epoch 85/2000\n",
      "29/29 - 0s - loss: 0.6952 - val_loss: 0.3450\n",
      "Epoch 86/2000\n",
      "29/29 - 0s - loss: 0.6945 - val_loss: 0.3490\n",
      "Epoch 87/2000\n",
      "29/29 - 0s - loss: 0.6938 - val_loss: 0.3507\n",
      "Epoch 88/2000\n",
      "29/29 - 0s - loss: 0.6930 - val_loss: 0.3437\n",
      "Epoch 89/2000\n",
      "29/29 - 0s - loss: 0.6923 - val_loss: 0.3469\n",
      "Epoch 90/2000\n",
      "29/29 - 0s - loss: 0.6916 - val_loss: 0.3423\n",
      "Epoch 91/2000\n",
      "29/29 - 0s - loss: 0.6910 - val_loss: 0.3411\n",
      "Epoch 92/2000\n",
      "29/29 - 0s - loss: 0.6903 - val_loss: 0.3488\n",
      "Epoch 93/2000\n",
      "29/29 - 0s - loss: 0.6894 - val_loss: 0.3494\n",
      "Epoch 94/2000\n",
      "29/29 - 0s - loss: 0.6892 - val_loss: 0.3447\n",
      "Epoch 95/2000\n",
      "29/29 - 0s - loss: 0.6880 - val_loss: 0.3508\n",
      "Epoch 96/2000\n",
      "29/29 - 0s - loss: 0.6878 - val_loss: 0.3456\n",
      "Epoch 97/2000\n",
      "29/29 - 0s - loss: 0.6869 - val_loss: 0.3400\n",
      "Epoch 98/2000\n",
      "29/29 - 0s - loss: 0.6865 - val_loss: 0.3376\n",
      "Epoch 99/2000\n",
      "29/29 - 0s - loss: 0.6853 - val_loss: 0.3384\n",
      "Epoch 100/2000\n",
      "29/29 - 0s - loss: 0.6848 - val_loss: 0.3414\n",
      "Epoch 101/2000\n",
      "29/29 - 0s - loss: 0.6842 - val_loss: 0.3351\n",
      "Epoch 102/2000\n",
      "29/29 - 0s - loss: 0.6835 - val_loss: 0.3426\n",
      "Epoch 103/2000\n",
      "29/29 - 0s - loss: 0.6824 - val_loss: 0.3451\n",
      "Epoch 104/2000\n",
      "29/29 - 0s - loss: 0.6818 - val_loss: 0.3366\n",
      "Epoch 105/2000\n",
      "29/29 - 0s - loss: 0.6812 - val_loss: 0.3408\n",
      "Epoch 106/2000\n",
      "29/29 - 0s - loss: 0.6804 - val_loss: 0.3347\n",
      "Epoch 107/2000\n",
      "29/29 - 0s - loss: 0.6799 - val_loss: 0.3374\n",
      "Epoch 108/2000\n",
      "29/29 - 0s - loss: 0.6794 - val_loss: 0.3381\n",
      "Epoch 109/2000\n",
      "29/29 - 0s - loss: 0.6787 - val_loss: 0.3464\n",
      "Epoch 110/2000\n",
      "29/29 - 0s - loss: 0.6779 - val_loss: 0.3315\n",
      "Epoch 111/2000\n",
      "29/29 - 0s - loss: 0.6775 - val_loss: 0.3406\n",
      "Epoch 112/2000\n",
      "29/29 - 0s - loss: 0.6768 - val_loss: 0.3393\n",
      "Epoch 113/2000\n",
      "29/29 - 0s - loss: 0.6762 - val_loss: 0.3342\n",
      "Epoch 114/2000\n",
      "29/29 - 0s - loss: 0.6757 - val_loss: 0.3371\n",
      "Epoch 115/2000\n",
      "29/29 - 0s - loss: 0.6753 - val_loss: 0.3396\n",
      "Epoch 116/2000\n",
      "29/29 - 0s - loss: 0.6747 - val_loss: 0.3449\n",
      "Epoch 117/2000\n",
      "29/29 - 0s - loss: 0.6742 - val_loss: 0.3363\n",
      "Epoch 118/2000\n",
      "29/29 - 0s - loss: 0.6738 - val_loss: 0.3341\n",
      "Epoch 119/2000\n",
      "29/29 - 0s - loss: 0.6732 - val_loss: 0.3376\n",
      "Epoch 120/2000\n",
      "29/29 - 0s - loss: 0.6726 - val_loss: 0.3386\n",
      "Epoch 121/2000\n",
      "29/29 - 0s - loss: 0.6723 - val_loss: 0.3489\n",
      "Epoch 122/2000\n",
      "29/29 - 0s - loss: 0.6715 - val_loss: 0.3331\n",
      "Epoch 123/2000\n",
      "29/29 - 0s - loss: 0.6713 - val_loss: 0.3314\n",
      "Epoch 124/2000\n",
      "29/29 - 0s - loss: 0.6710 - val_loss: 0.3371\n",
      "Epoch 125/2000\n",
      "29/29 - 0s - loss: 0.6705 - val_loss: 0.3409\n",
      "Epoch 126/2000\n",
      "29/29 - 0s - loss: 0.6701 - val_loss: 0.3343\n",
      "Epoch 127/2000\n",
      "29/29 - 0s - loss: 0.6696 - val_loss: 0.3335\n",
      "Epoch 128/2000\n",
      "29/29 - 0s - loss: 0.6692 - val_loss: 0.3337\n",
      "Epoch 129/2000\n",
      "29/29 - 0s - loss: 0.6688 - val_loss: 0.3326\n",
      "Epoch 130/2000\n",
      "29/29 - 0s - loss: 0.6683 - val_loss: 0.3369\n",
      "Epoch 131/2000\n",
      "29/29 - 0s - loss: 0.6680 - val_loss: 0.3283\n",
      "Epoch 132/2000\n",
      "29/29 - 0s - loss: 0.6676 - val_loss: 0.3409\n",
      "Epoch 133/2000\n",
      "29/29 - 0s - loss: 0.6674 - val_loss: 0.3314\n",
      "Epoch 134/2000\n",
      "29/29 - 0s - loss: 0.6668 - val_loss: 0.3314\n",
      "Epoch 135/2000\n",
      "29/29 - 0s - loss: 0.6669 - val_loss: 0.3363\n",
      "Epoch 136/2000\n",
      "29/29 - 0s - loss: 0.6662 - val_loss: 0.3293\n",
      "Epoch 137/2000\n",
      "29/29 - 0s - loss: 0.6662 - val_loss: 0.3332\n",
      "Epoch 138/2000\n",
      "29/29 - 0s - loss: 0.6655 - val_loss: 0.3285\n",
      "Epoch 139/2000\n",
      "29/29 - 0s - loss: 0.6653 - val_loss: 0.3326\n"
     ]
    },
    {
     "name": "stdout",
     "output_type": "stream",
     "text": [
      "Epoch 140/2000\n",
      "29/29 - 0s - loss: 0.6651 - val_loss: 0.3302\n",
      "Epoch 141/2000\n",
      "29/29 - 0s - loss: 0.6648 - val_loss: 0.3306\n",
      "Epoch 142/2000\n",
      "29/29 - 0s - loss: 0.6642 - val_loss: 0.3313\n",
      "Epoch 143/2000\n",
      "29/29 - 0s - loss: 0.6639 - val_loss: 0.3281\n",
      "Epoch 144/2000\n",
      "29/29 - 0s - loss: 0.6638 - val_loss: 0.3328\n",
      "Epoch 145/2000\n",
      "29/29 - 0s - loss: 0.6633 - val_loss: 0.3216\n",
      "Epoch 146/2000\n",
      "29/29 - 0s - loss: 0.6629 - val_loss: 0.3200\n",
      "Epoch 147/2000\n",
      "29/29 - 0s - loss: 0.6630 - val_loss: 0.3280\n",
      "Epoch 148/2000\n",
      "29/29 - 0s - loss: 0.6624 - val_loss: 0.3242\n",
      "Epoch 149/2000\n",
      "29/29 - 0s - loss: 0.6621 - val_loss: 0.3310\n",
      "Epoch 150/2000\n",
      "29/29 - 0s - loss: 0.6617 - val_loss: 0.3290\n",
      "Epoch 151/2000\n",
      "29/29 - 0s - loss: 0.6617 - val_loss: 0.3281\n",
      "Epoch 152/2000\n",
      "29/29 - 0s - loss: 0.6612 - val_loss: 0.3275\n",
      "Epoch 153/2000\n",
      "29/29 - 0s - loss: 0.6611 - val_loss: 0.3329\n",
      "Epoch 154/2000\n",
      "29/29 - 0s - loss: 0.6606 - val_loss: 0.3350\n",
      "Epoch 155/2000\n",
      "29/29 - 0s - loss: 0.6604 - val_loss: 0.3290\n",
      "Epoch 156/2000\n",
      "29/29 - 0s - loss: 0.6601 - val_loss: 0.3271\n",
      "Epoch 157/2000\n",
      "29/29 - 0s - loss: 0.6600 - val_loss: 0.3346\n",
      "Epoch 158/2000\n",
      "29/29 - 0s - loss: 0.6599 - val_loss: 0.3382\n",
      "Epoch 159/2000\n",
      "29/29 - 0s - loss: 0.6594 - val_loss: 0.3315\n",
      "Epoch 160/2000\n",
      "29/29 - 0s - loss: 0.6592 - val_loss: 0.3320\n",
      "Epoch 161/2000\n",
      "29/29 - 0s - loss: 0.6590 - val_loss: 0.3311\n",
      "Epoch 162/2000\n",
      "29/29 - 0s - loss: 0.6589 - val_loss: 0.3314\n",
      "Epoch 163/2000\n",
      "29/29 - 0s - loss: 0.6588 - val_loss: 0.3350\n",
      "Epoch 164/2000\n",
      "29/29 - 0s - loss: 0.6585 - val_loss: 0.3267\n",
      "Epoch 165/2000\n",
      "29/29 - 0s - loss: 0.6581 - val_loss: 0.3337\n",
      "Epoch 166/2000\n",
      "29/29 - 0s - loss: 0.6579 - val_loss: 0.3254\n",
      "Epoch 00166: early stopping\n",
      "CPU times: user 1min 42s, sys: 4.72 s, total: 1min 47s\n",
      "Wall time: 17.9 s\n"
     ]
    },
    {
     "data": {
      "application/javascript": [
       "\n",
       "            setTimeout(function() {\n",
       "                var nbb_cell_id = 26;\n",
       "                var nbb_unformatted_code = \"%%time\\nhistory = model.fit(\\n    input_train,\\n    y_train.reshape(-1, 1),\\n    epochs=2000,\\n    batch_size=1024,\\n    validation_data=(input_valid, y_valid.reshape(-1, 1),),\\n    verbose=2,\\n    callbacks=[EarlyStopping(monitor=\\\"val_loss\\\", patience=20, verbose=1)],\\n    class_weight=class_weight\\n)\";\n",
       "                var nbb_formatted_code = \"%%time\\nhistory = model.fit(\\n    input_train,\\n    y_train.reshape(-1, 1),\\n    epochs=2000,\\n    batch_size=1024,\\n    validation_data=(input_valid, y_valid.reshape(-1, 1),),\\n    verbose=2,\\n    callbacks=[EarlyStopping(monitor=\\\"val_loss\\\", patience=20, verbose=1)],\\n    class_weight=class_weight\\n)\";\n",
       "                var nbb_cells = Jupyter.notebook.get_cells();\n",
       "                for (var i = 0; i < nbb_cells.length; ++i) {\n",
       "                    if (nbb_cells[i].input_prompt_number == nbb_cell_id) {\n",
       "                        if (nbb_cells[i].get_text() == nbb_unformatted_code) {\n",
       "                             nbb_cells[i].set_text(nbb_formatted_code);\n",
       "                        }\n",
       "                        break;\n",
       "                    }\n",
       "                }\n",
       "            }, 500);\n",
       "            "
      ],
      "text/plain": [
       "<IPython.core.display.Javascript object>"
      ]
     },
     "metadata": {},
     "output_type": "display_data"
    }
   ],
   "source": [
    "%%time\n",
    "history = model.fit(\n",
    "    input_train,\n",
    "    y_train.reshape(-1, 1),\n",
    "    epochs=2000,\n",
    "    batch_size=1024,\n",
    "    validation_data=(input_valid, y_valid.reshape(-1, 1),),\n",
    "    verbose=2,\n",
    "    callbacks=[EarlyStopping(monitor=\"val_loss\", patience=20, verbose=1)],\n",
    "    class_weight=class_weight\n",
    ")"
   ]
  },
  {
   "cell_type": "code",
   "execution_count": 27,
   "metadata": {
    "ExecuteTime": {
     "end_time": "2020-09-22T06:52:18.560592Z",
     "start_time": "2020-09-22T06:52:18.430373Z"
    }
   },
   "outputs": [
    {
     "data": {
      "image/png": "[encoded data removed]",
      "text/plain": [
       "<Figure size 432x288 with 1 Axes>"
      ]
     },
     "metadata": {
      "needs_background": "light"
     },
     "output_type": "display_data"
    },
    {
     "data": {
      "application/javascript": [
       "\n",
       "            setTimeout(function() {\n",
       "                var nbb_cell_id = 27;\n",
       "                var nbb_unformatted_code = \"plot_history(history)\";\n",
       "                var nbb_formatted_code = \"plot_history(history)\";\n",
       "                var nbb_cells = Jupyter.notebook.get_cells();\n",
       "                for (var i = 0; i < nbb_cells.length; ++i) {\n",
       "                    if (nbb_cells[i].input_prompt_number == nbb_cell_id) {\n",
       "                        if (nbb_cells[i].get_text() == nbb_unformatted_code) {\n",
       "                             nbb_cells[i].set_text(nbb_formatted_code);\n",
       "                        }\n",
       "                        break;\n",
       "                    }\n",
       "                }\n",
       "            }, 500);\n",
       "            "
      ],
      "text/plain": [
       "<IPython.core.display.Javascript object>"
      ]
     },
     "metadata": {},
     "output_type": "display_data"
    }
   ],
   "source": [
    "plot_history(history)"
   ]
  },
  {
   "cell_type": "code",
   "execution_count": 28,
   "metadata": {
    "ExecuteTime": {
     "end_time": "2020-09-22T06:52:18.735684Z",
     "start_time": "2020-09-22T06:52:18.561553Z"
    }
   },
   "outputs": [
    {
     "data": {
      "text/plain": [
       "0.9320838525462752"
      ]
     },
     "execution_count": 28,
     "metadata": {},
     "output_type": "execute_result"
    },
    {
     "data": {
      "application/javascript": [
       "\n",
       "            setTimeout(function() {\n",
       "                var nbb_cell_id = 28;\n",
       "                var nbb_unformatted_code = \"model_auc = roc_auc_score(\\n    y_true=y_valid, y_score=model.predict(input_valid).reshape(-1),\\n)\\nmodel_auc\";\n",
       "                var nbb_formatted_code = \"model_auc = roc_auc_score(\\n    y_true=y_valid,\\n    y_score=model.predict(input_valid).reshape(-1),\\n)\\nmodel_auc\";\n",
       "                var nbb_cells = Jupyter.notebook.get_cells();\n",
       "                for (var i = 0; i < nbb_cells.length; ++i) {\n",
       "                    if (nbb_cells[i].input_prompt_number == nbb_cell_id) {\n",
       "                        if (nbb_cells[i].get_text() == nbb_unformatted_code) {\n",
       "                             nbb_cells[i].set_text(nbb_formatted_code);\n",
       "                        }\n",
       "                        break;\n",
       "                    }\n",
       "                }\n",
       "            }, 500);\n",
       "            "
      ],
      "text/plain": [
       "<IPython.core.display.Javascript object>"
      ]
     },
     "metadata": {},
     "output_type": "display_data"
    }
   ],
   "source": [
    "model_auc = roc_auc_score(\n",
    "    y_true=y_valid,\n",
    "    y_score=model.predict(input_valid).reshape(-1),\n",
    ")\n",
    "model_auc"
   ]
  },
  {
   "cell_type": "code",
   "execution_count": 29,
   "metadata": {
    "ExecuteTime": {
     "end_time": "2020-09-22T06:52:18.939397Z",
     "start_time": "2020-09-22T06:52:18.736796Z"
    }
   },
   "outputs": [
    {
     "data": {
      "text/plain": [
       "0.9259986540687298"
      ]
     },
     "execution_count": 29,
     "metadata": {},
     "output_type": "execute_result"
    },
    {
     "data": {
      "application/javascript": [
       "\n",
       "            setTimeout(function() {\n",
       "                var nbb_cell_id = 29;\n",
       "                var nbb_unformatted_code = \"model_auc = roc_auc_score(y_true=y_test, y_score=model.predict(input_test).reshape(-1),)\\nmodel_auc\";\n",
       "                var nbb_formatted_code = \"model_auc = roc_auc_score(\\n    y_true=y_test,\\n    y_score=model.predict(input_test).reshape(-1),\\n)\\nmodel_auc\";\n",
       "                var nbb_cells = Jupyter.notebook.get_cells();\n",
       "                for (var i = 0; i < nbb_cells.length; ++i) {\n",
       "                    if (nbb_cells[i].input_prompt_number == nbb_cell_id) {\n",
       "                        if (nbb_cells[i].get_text() == nbb_unformatted_code) {\n",
       "                             nbb_cells[i].set_text(nbb_formatted_code);\n",
       "                        }\n",
       "                        break;\n",
       "                    }\n",
       "                }\n",
       "            }, 500);\n",
       "            "
      ],
      "text/plain": [
       "<IPython.core.display.Javascript object>"
      ]
     },
     "metadata": {},
     "output_type": "display_data"
    }
   ],
   "source": [
    "model_auc = roc_auc_score(\n",
    "    y_true=y_test,\n",
    "    y_score=model.predict(input_test).reshape(-1),\n",
    ")\n",
    "model_auc"
   ]
  },
  {
   "cell_type": "code",
   "execution_count": 30,
   "metadata": {
    "ExecuteTime": {
     "end_time": "2020-09-22T06:52:18.962283Z",
     "start_time": "2020-09-22T06:52:18.940330Z"
    }
   },
   "outputs": [
    {
     "data": {
      "application/javascript": [
       "\n",
       "            setTimeout(function() {\n",
       "                var nbb_cell_id = 30;\n",
       "                var nbb_unformatted_code = \"from xplainet.model import predict, encode\";\n",
       "                var nbb_formatted_code = \"from xplainet.model import predict, encode\";\n",
       "                var nbb_cells = Jupyter.notebook.get_cells();\n",
       "                for (var i = 0; i < nbb_cells.length; ++i) {\n",
       "                    if (nbb_cells[i].input_prompt_number == nbb_cell_id) {\n",
       "                        if (nbb_cells[i].get_text() == nbb_unformatted_code) {\n",
       "                             nbb_cells[i].set_text(nbb_formatted_code);\n",
       "                        }\n",
       "                        break;\n",
       "                    }\n",
       "                }\n",
       "            }, 500);\n",
       "            "
      ],
      "text/plain": [
       "<IPython.core.display.Javascript object>"
      ]
     },
     "metadata": {},
     "output_type": "display_data"
    }
   ],
   "source": [
    "from xplainet.model import predict, encode"
   ]
  },
  {
   "cell_type": "code",
   "execution_count": 31,
   "metadata": {
    "ExecuteTime": {
     "end_time": "2020-09-22T06:52:19.297588Z",
     "start_time": "2020-09-22T06:52:18.963362Z"
    }
   },
   "outputs": [
    {
     "data": {
      "application/javascript": [
       "\n",
       "            setTimeout(function() {\n",
       "                var nbb_cell_id = 31;\n",
       "                var nbb_unformatted_code = \"probs, explanations = predict(model, input_test)\";\n",
       "                var nbb_formatted_code = \"probs, explanations = predict(model, input_test)\";\n",
       "                var nbb_cells = Jupyter.notebook.get_cells();\n",
       "                for (var i = 0; i < nbb_cells.length; ++i) {\n",
       "                    if (nbb_cells[i].input_prompt_number == nbb_cell_id) {\n",
       "                        if (nbb_cells[i].get_text() == nbb_unformatted_code) {\n",
       "                             nbb_cells[i].set_text(nbb_formatted_code);\n",
       "                        }\n",
       "                        break;\n",
       "                    }\n",
       "                }\n",
       "            }, 500);\n",
       "            "
      ],
      "text/plain": [
       "<IPython.core.display.Javascript object>"
      ]
     },
     "metadata": {},
     "output_type": "display_data"
    }
   ],
   "source": [
    "probs, explanations = predict(model, input_test)"
   ]
  },
  {
   "cell_type": "code",
   "execution_count": 32,
   "metadata": {
    "ExecuteTime": {
     "end_time": "2020-09-22T06:52:19.608832Z",
     "start_time": "2020-09-22T06:52:19.298524Z"
    }
   },
   "outputs": [
    {
     "data": {
      "application/javascript": [
       "\n",
       "            setTimeout(function() {\n",
       "                var nbb_cell_id = 32;\n",
       "                var nbb_unformatted_code = \"probs, encoded_output = encode(model, input_test)\";\n",
       "                var nbb_formatted_code = \"probs, encoded_output = encode(model, input_test)\";\n",
       "                var nbb_cells = Jupyter.notebook.get_cells();\n",
       "                for (var i = 0; i < nbb_cells.length; ++i) {\n",
       "                    if (nbb_cells[i].input_prompt_number == nbb_cell_id) {\n",
       "                        if (nbb_cells[i].get_text() == nbb_unformatted_code) {\n",
       "                             nbb_cells[i].set_text(nbb_formatted_code);\n",
       "                        }\n",
       "                        break;\n",
       "                    }\n",
       "                }\n",
       "            }, 500);\n",
       "            "
      ],
      "text/plain": [
       "<IPython.core.display.Javascript object>"
      ]
     },
     "metadata": {},
     "output_type": "display_data"
    }
   ],
   "source": [
    "probs, encoded_output = encode(model, input_test)"
   ]
  },
  {
   "cell_type": "code",
   "execution_count": 33,
   "metadata": {
    "ExecuteTime": {
     "end_time": "2020-09-22T06:52:19.632222Z",
     "start_time": "2020-09-22T06:52:19.609879Z"
    }
   },
   "outputs": [
    {
     "data": {
      "text/plain": [
       "(16280,)"
      ]
     },
     "execution_count": 33,
     "metadata": {},
     "output_type": "execute_result"
    },
    {
     "data": {
      "application/javascript": [
       "\n",
       "            setTimeout(function() {\n",
       "                var nbb_cell_id = 33;\n",
       "                var nbb_unformatted_code = \"y_test.shape\";\n",
       "                var nbb_formatted_code = \"y_test.shape\";\n",
       "                var nbb_cells = Jupyter.notebook.get_cells();\n",
       "                for (var i = 0; i < nbb_cells.length; ++i) {\n",
       "                    if (nbb_cells[i].input_prompt_number == nbb_cell_id) {\n",
       "                        if (nbb_cells[i].get_text() == nbb_unformatted_code) {\n",
       "                             nbb_cells[i].set_text(nbb_formatted_code);\n",
       "                        }\n",
       "                        break;\n",
       "                    }\n",
       "                }\n",
       "            }, 500);\n",
       "            "
      ],
      "text/plain": [
       "<IPython.core.display.Javascript object>"
      ]
     },
     "metadata": {},
     "output_type": "display_data"
    }
   ],
   "source": [
    "y_test.shape"
   ]
  },
  {
   "cell_type": "code",
   "execution_count": 34,
   "metadata": {
    "ExecuteTime": {
     "end_time": "2020-09-22T06:52:19.655355Z",
     "start_time": "2020-09-22T06:52:19.633203Z"
    }
   },
   "outputs": [
    {
     "data": {
      "text/plain": [
       "(16280, 57)"
      ]
     },
     "execution_count": 34,
     "metadata": {},
     "output_type": "execute_result"
    },
    {
     "data": {
      "application/javascript": [
       "\n",
       "            setTimeout(function() {\n",
       "                var nbb_cell_id = 34;\n",
       "                var nbb_unformatted_code = \"encoded_output.shape\";\n",
       "                var nbb_formatted_code = \"encoded_output.shape\";\n",
       "                var nbb_cells = Jupyter.notebook.get_cells();\n",
       "                for (var i = 0; i < nbb_cells.length; ++i) {\n",
       "                    if (nbb_cells[i].input_prompt_number == nbb_cell_id) {\n",
       "                        if (nbb_cells[i].get_text() == nbb_unformatted_code) {\n",
       "                             nbb_cells[i].set_text(nbb_formatted_code);\n",
       "                        }\n",
       "                        break;\n",
       "                    }\n",
       "                }\n",
       "            }, 500);\n",
       "            "
      ],
      "text/plain": [
       "<IPython.core.display.Javascript object>"
      ]
     },
     "metadata": {},
     "output_type": "display_data"
    }
   ],
   "source": [
    "encoded_output.shape"
   ]
  },
  {
   "cell_type": "code",
   "execution_count": 35,
   "metadata": {
    "ExecuteTime": {
     "end_time": "2020-09-22T06:52:19.678666Z",
     "start_time": "2020-09-22T06:52:19.656197Z"
    }
   },
   "outputs": [
    {
     "data": {
      "text/plain": [
       "(16280, 14)"
      ]
     },
     "execution_count": 35,
     "metadata": {},
     "output_type": "execute_result"
    },
    {
     "data": {
      "application/javascript": [
       "\n",
       "            setTimeout(function() {\n",
       "                var nbb_cell_id = 35;\n",
       "                var nbb_unformatted_code = \"explanations.shape\";\n",
       "                var nbb_formatted_code = \"explanations.shape\";\n",
       "                var nbb_cells = Jupyter.notebook.get_cells();\n",
       "                for (var i = 0; i < nbb_cells.length; ++i) {\n",
       "                    if (nbb_cells[i].input_prompt_number == nbb_cell_id) {\n",
       "                        if (nbb_cells[i].get_text() == nbb_unformatted_code) {\n",
       "                             nbb_cells[i].set_text(nbb_formatted_code);\n",
       "                        }\n",
       "                        break;\n",
       "                    }\n",
       "                }\n",
       "            }, 500);\n",
       "            "
      ],
      "text/plain": [
       "<IPython.core.display.Javascript object>"
      ]
     },
     "metadata": {},
     "output_type": "display_data"
    }
   ],
   "source": [
    "explanations.shape"
   ]
  },
  {
   "cell_type": "code",
   "execution_count": 36,
   "metadata": {
    "ExecuteTime": {
     "end_time": "2020-09-22T06:52:19.708179Z",
     "start_time": "2020-09-22T06:52:19.679560Z"
    }
   },
   "outputs": [
    {
     "data": {
      "application/javascript": [
       "\n",
       "            setTimeout(function() {\n",
       "                var nbb_cell_id = 36;\n",
       "                var nbb_unformatted_code = \"import matplotlib.pyplot as plt\\n\\n# plt.rcdefaults()\\nimport numpy as np\\nimport matplotlib.pyplot as plt\\n\\n\\ndef explain_plot(importances, columns):\\n    selection = np.argsort(-np.absolute(importances))[:10]\\n    # indexes = np.argsort(importances)\\n    performance = importances[selection]\\n    #     print(performance.shape)512, 256, 128, 64, 32, 1\\n    y_pos = np.arange(performance.shape[0])\\n\\n    plt.barh(y_pos, performance, align=\\\"center\\\", alpha=0.5)\\n    plt.yticks(y_pos, columns[selection])\\n    # plt.xlabel('Usage')\\n    plt.title(\\\"Feature importance\\\")\\n\\n    plt.show()\";\n",
       "                var nbb_formatted_code = \"import matplotlib.pyplot as plt\\n\\n# plt.rcdefaults()\\nimport numpy as np\\nimport matplotlib.pyplot as plt\\n\\n\\ndef explain_plot(importances, columns):\\n    selection = np.argsort(-np.absolute(importances))[:10]\\n    # indexes = np.argsort(importances)\\n    performance = importances[selection]\\n    #     print(performance.shape)512, 256, 128, 64, 32, 1\\n    y_pos = np.arange(performance.shape[0])\\n\\n    plt.barh(y_pos, performance, align=\\\"center\\\", alpha=0.5)\\n    plt.yticks(y_pos, columns[selection])\\n    # plt.xlabel('Usage')\\n    plt.title(\\\"Feature importance\\\")\\n\\n    plt.show()\";\n",
       "                var nbb_cells = Jupyter.notebook.get_cells();\n",
       "                for (var i = 0; i < nbb_cells.length; ++i) {\n",
       "                    if (nbb_cells[i].input_prompt_number == nbb_cell_id) {\n",
       "                        if (nbb_cells[i].get_text() == nbb_unformatted_code) {\n",
       "                             nbb_cells[i].set_text(nbb_formatted_code);\n",
       "                        }\n",
       "                        break;\n",
       "                    }\n",
       "                }\n",
       "            }, 500);\n",
       "            "
      ],
      "text/plain": [
       "<IPython.core.display.Javascript object>"
      ]
     },
     "metadata": {},
     "output_type": "display_data"
    }
   ],
   "source": [
    "import matplotlib.pyplot as plt\n",
    "\n",
    "# plt.rcdefaults()\n",
    "import numpy as np\n",
    "import matplotlib.pyplot as plt\n",
    "\n",
    "\n",
    "def explain_plot(importances, columns):\n",
    "    selection = np.argsort(-np.absolute(importances))[:10]\n",
    "    # indexes = np.argsort(importances)\n",
    "    performance = importances[selection]\n",
    "    #     print(performance.shape)512, 256, 128, 64, 32, 1\n",
    "    y_pos = np.arange(performance.shape[0])\n",
    "\n",
    "    plt.barh(y_pos, performance, align=\"center\", alpha=0.5)\n",
    "    plt.yticks(y_pos, columns[selection])\n",
    "    # plt.xlabel('Usage')\n",
    "    plt.title(\"Feature importance\")\n",
    "\n",
    "    plt.show()"
   ]
  },
  {
   "cell_type": "code",
   "execution_count": 37,
   "metadata": {
    "ExecuteTime": {
     "end_time": "2020-09-22T06:52:19.733428Z",
     "start_time": "2020-09-22T06:52:19.709125Z"
    }
   },
   "outputs": [
    {
     "data": {
      "text/plain": [
       "array(['sex', 'fnlwgt', 'relationship', 'hours-per-week', 'education',\n",
       "       'marital-status', 'occupation', 'native-country', 'workclass',\n",
       "       'age', 'education-num', 'race', 'capital-loss', 'capital-gain'],\n",
       "      dtype='<U14')"
      ]
     },
     "execution_count": 37,
     "metadata": {},
     "output_type": "execute_result"
    },
    {
     "data": {
      "application/javascript": [
       "\n",
       "            setTimeout(function() {\n",
       "                var nbb_cell_id = 37;\n",
       "                var nbb_unformatted_code = \"all_cols = np.array(params[\\\"bool_cols\\\"] + params[\\\"num_cols\\\"] + params[\\\"cat_cols\\\"])\\nall_cols\";\n",
       "                var nbb_formatted_code = \"all_cols = np.array(params[\\\"bool_cols\\\"] + params[\\\"num_cols\\\"] + params[\\\"cat_cols\\\"])\\nall_cols\";\n",
       "                var nbb_cells = Jupyter.notebook.get_cells();\n",
       "                for (var i = 0; i < nbb_cells.length; ++i) {\n",
       "                    if (nbb_cells[i].input_prompt_number == nbb_cell_id) {\n",
       "                        if (nbb_cells[i].get_text() == nbb_unformatted_code) {\n",
       "                             nbb_cells[i].set_text(nbb_formatted_code);\n",
       "                        }\n",
       "                        break;\n",
       "                    }\n",
       "                }\n",
       "            }, 500);\n",
       "            "
      ],
      "text/plain": [
       "<IPython.core.display.Javascript object>"
      ]
     },
     "metadata": {},
     "output_type": "display_data"
    }
   ],
   "source": [
    "all_cols = np.array(params[\"bool_cols\"] + params[\"num_cols\"] + params[\"cat_cols\"])\n",
    "all_cols"
   ]
  },
  {
   "cell_type": "markdown",
   "metadata": {
    "ExecuteTime": {
     "end_time": "2020-09-18T18:48:54.151671Z",
     "start_time": "2020-09-18T18:48:54.127488Z"
    }
   },
   "source": [
    "## Explain global"
   ]
  },
  {
   "cell_type": "code",
   "execution_count": 38,
   "metadata": {
    "ExecuteTime": {
     "end_time": "2020-09-22T06:52:20.201312Z",
     "start_time": "2020-09-22T06:52:19.734317Z"
    }
   },
   "outputs": [
    {
     "data": {
      "application/javascript": [
       "\n",
       "            setTimeout(function() {\n",
       "                var nbb_cell_id = 38;\n",
       "                var nbb_unformatted_code = \"probs_train, explanations_train = predict(model, input_train)\";\n",
       "                var nbb_formatted_code = \"probs_train, explanations_train = predict(model, input_train)\";\n",
       "                var nbb_cells = Jupyter.notebook.get_cells();\n",
       "                for (var i = 0; i < nbb_cells.length; ++i) {\n",
       "                    if (nbb_cells[i].input_prompt_number == nbb_cell_id) {\n",
       "                        if (nbb_cells[i].get_text() == nbb_unformatted_code) {\n",
       "                             nbb_cells[i].set_text(nbb_formatted_code);\n",
       "                        }\n",
       "                        break;\n",
       "                    }\n",
       "                }\n",
       "            }, 500);\n",
       "            "
      ],
      "text/plain": [
       "<IPython.core.display.Javascript object>"
      ]
     },
     "metadata": {},
     "output_type": "display_data"
    }
   ],
   "source": [
    "probs_train, explanations_train = predict(model, input_train)"
   ]
  },
  {
   "cell_type": "code",
   "execution_count": 39,
   "metadata": {
    "ExecuteTime": {
     "end_time": "2020-09-22T06:52:20.226136Z",
     "start_time": "2020-09-22T06:52:20.202279Z"
    }
   },
   "outputs": [
    {
     "data": {
      "application/javascript": [
       "\n",
       "            setTimeout(function() {\n",
       "                var nbb_cell_id = 39;\n",
       "                var nbb_unformatted_code = \"global_explain = np.sum(explanations_train, axis=0)\\nglobal_explain = global_explain / np.abs(global_explain).sum()\";\n",
       "                var nbb_formatted_code = \"global_explain = np.sum(explanations_train, axis=0)\\nglobal_explain = global_explain / np.abs(global_explain).sum()\";\n",
       "                var nbb_cells = Jupyter.notebook.get_cells();\n",
       "                for (var i = 0; i < nbb_cells.length; ++i) {\n",
       "                    if (nbb_cells[i].input_prompt_number == nbb_cell_id) {\n",
       "                        if (nbb_cells[i].get_text() == nbb_unformatted_code) {\n",
       "                             nbb_cells[i].set_text(nbb_formatted_code);\n",
       "                        }\n",
       "                        break;\n",
       "                    }\n",
       "                }\n",
       "            }, 500);\n",
       "            "
      ],
      "text/plain": [
       "<IPython.core.display.Javascript object>"
      ]
     },
     "metadata": {},
     "output_type": "display_data"
    }
   ],
   "source": [
    "global_explain = np.sum(explanations_train, axis=0)\n",
    "global_explain = global_explain / np.abs(global_explain).sum()"
   ]
  },
  {
   "cell_type": "code",
   "execution_count": 40,
   "metadata": {
    "ExecuteTime": {
     "end_time": "2020-09-22T06:52:20.352213Z",
     "start_time": "2020-09-22T06:52:20.227147Z"
    }
   },
   "outputs": [
    {
     "data": {
      "image/png": "[encoded data removed]",
      "text/plain": [
       "<Figure size 432x288 with 1 Axes>"
      ]
     },
     "metadata": {
      "needs_background": "light"
     },
     "output_type": "display_data"
    },
    {
     "data": {
      "application/javascript": [
       "\n",
       "            setTimeout(function() {\n",
       "                var nbb_cell_id = 40;\n",
       "                var nbb_unformatted_code = \"explain_plot(global_explain, all_cols)\";\n",
       "                var nbb_formatted_code = \"explain_plot(global_explain, all_cols)\";\n",
       "                var nbb_cells = Jupyter.notebook.get_cells();\n",
       "                for (var i = 0; i < nbb_cells.length; ++i) {\n",
       "                    if (nbb_cells[i].input_prompt_number == nbb_cell_id) {\n",
       "                        if (nbb_cells[i].get_text() == nbb_unformatted_code) {\n",
       "                             nbb_cells[i].set_text(nbb_formatted_code);\n",
       "                        }\n",
       "                        break;\n",
       "                    }\n",
       "                }\n",
       "            }, 500);\n",
       "            "
      ],
      "text/plain": [
       "<IPython.core.display.Javascript object>"
      ]
     },
     "metadata": {},
     "output_type": "display_data"
    }
   ],
   "source": [
    "explain_plot(global_explain, all_cols)"
   ]
  },
  {
   "cell_type": "code",
   "execution_count": 41,
   "metadata": {
    "ExecuteTime": {
     "end_time": "2020-09-22T06:52:20.376452Z",
     "start_time": "2020-09-22T06:52:20.353176Z"
    }
   },
   "outputs": [
    {
     "data": {
      "application/javascript": [
       "\n",
       "            setTimeout(function() {\n",
       "                var nbb_cell_id = 41;\n",
       "                var nbb_unformatted_code = \"global_explain = np.abs(explanations_train).sum(axis=0)\\nglobal_explain = global_explain / global_explain.sum()\";\n",
       "                var nbb_formatted_code = \"global_explain = np.abs(explanations_train).sum(axis=0)\\nglobal_explain = global_explain / global_explain.sum()\";\n",
       "                var nbb_cells = Jupyter.notebook.get_cells();\n",
       "                for (var i = 0; i < nbb_cells.length; ++i) {\n",
       "                    if (nbb_cells[i].input_prompt_number == nbb_cell_id) {\n",
       "                        if (nbb_cells[i].get_text() == nbb_unformatted_code) {\n",
       "                             nbb_cells[i].set_text(nbb_formatted_code);\n",
       "                        }\n",
       "                        break;\n",
       "                    }\n",
       "                }\n",
       "            }, 500);\n",
       "            "
      ],
      "text/plain": [
       "<IPython.core.display.Javascript object>"
      ]
     },
     "metadata": {},
     "output_type": "display_data"
    }
   ],
   "source": [
    "global_explain = np.abs(explanations_train).sum(axis=0)\n",
    "global_explain = global_explain / global_explain.sum()"
   ]
  },
  {
   "cell_type": "code",
   "execution_count": 42,
   "metadata": {
    "ExecuteTime": {
     "end_time": "2020-09-22T06:52:20.505025Z",
     "start_time": "2020-09-22T06:52:20.377506Z"
    }
   },
   "outputs": [
    {
     "data": {
      "image/png": "[encoded data removed]",
      "text/plain": [
       "<Figure size 432x288 with 1 Axes>"
      ]
     },
     "metadata": {
      "needs_background": "light"
     },
     "output_type": "display_data"
    },
    {
     "data": {
      "application/javascript": [
       "\n",
       "            setTimeout(function() {\n",
       "                var nbb_cell_id = 42;\n",
       "                var nbb_unformatted_code = \"explain_plot(global_explain, all_cols)\";\n",
       "                var nbb_formatted_code = \"explain_plot(global_explain, all_cols)\";\n",
       "                var nbb_cells = Jupyter.notebook.get_cells();\n",
       "                for (var i = 0; i < nbb_cells.length; ++i) {\n",
       "                    if (nbb_cells[i].input_prompt_number == nbb_cell_id) {\n",
       "                        if (nbb_cells[i].get_text() == nbb_unformatted_code) {\n",
       "                             nbb_cells[i].set_text(nbb_formatted_code);\n",
       "                        }\n",
       "                        break;\n",
       "                    }\n",
       "                }\n",
       "            }, 500);\n",
       "            "
      ],
      "text/plain": [
       "<IPython.core.display.Javascript object>"
      ]
     },
     "metadata": {},
     "output_type": "display_data"
    }
   ],
   "source": [
    "explain_plot(global_explain, all_cols)"
   ]
  },
  {
   "cell_type": "code",
   "execution_count": 43,
   "metadata": {
    "ExecuteTime": {
     "end_time": "2020-09-22T06:52:20.531085Z",
     "start_time": "2020-09-22T06:52:20.506051Z"
    }
   },
   "outputs": [
    {
     "data": {
      "application/javascript": [
       "\n",
       "            setTimeout(function() {\n",
       "                var nbb_cell_id = 43;\n",
       "                var nbb_unformatted_code = \"global_explain = np.where(explanations_train >= 0, explanations_train, 0).sum(axis=0)\\nglobal_explain = global_explain / np.abs(global_explain).sum()\";\n",
       "                var nbb_formatted_code = \"global_explain = np.where(explanations_train >= 0, explanations_train, 0).sum(axis=0)\\nglobal_explain = global_explain / np.abs(global_explain).sum()\";\n",
       "                var nbb_cells = Jupyter.notebook.get_cells();\n",
       "                for (var i = 0; i < nbb_cells.length; ++i) {\n",
       "                    if (nbb_cells[i].input_prompt_number == nbb_cell_id) {\n",
       "                        if (nbb_cells[i].get_text() == nbb_unformatted_code) {\n",
       "                             nbb_cells[i].set_text(nbb_formatted_code);\n",
       "                        }\n",
       "                        break;\n",
       "                    }\n",
       "                }\n",
       "            }, 500);\n",
       "            "
      ],
      "text/plain": [
       "<IPython.core.display.Javascript object>"
      ]
     },
     "metadata": {},
     "output_type": "display_data"
    }
   ],
   "source": [
    "global_explain = np.where(explanations_train >= 0, explanations_train, 0).sum(axis=0)\n",
    "global_explain = global_explain / np.abs(global_explain).sum()"
   ]
  },
  {
   "cell_type": "code",
   "execution_count": 44,
   "metadata": {
    "ExecuteTime": {
     "end_time": "2020-09-22T06:52:20.659001Z",
     "start_time": "2020-09-22T06:52:20.531999Z"
    }
   },
   "outputs": [
    {
     "data": {
      "image/png": "[encoded data removed]",
      "text/plain": [
       "<Figure size 432x288 with 1 Axes>"
      ]
     },
     "metadata": {
      "needs_background": "light"
     },
     "output_type": "display_data"
    },
    {
     "data": {
      "application/javascript": [
       "\n",
       "            setTimeout(function() {\n",
       "                var nbb_cell_id = 44;\n",
       "                var nbb_unformatted_code = \"explain_plot(global_explain, all_cols)\";\n",
       "                var nbb_formatted_code = \"explain_plot(global_explain, all_cols)\";\n",
       "                var nbb_cells = Jupyter.notebook.get_cells();\n",
       "                for (var i = 0; i < nbb_cells.length; ++i) {\n",
       "                    if (nbb_cells[i].input_prompt_number == nbb_cell_id) {\n",
       "                        if (nbb_cells[i].get_text() == nbb_unformatted_code) {\n",
       "                             nbb_cells[i].set_text(nbb_formatted_code);\n",
       "                        }\n",
       "                        break;\n",
       "                    }\n",
       "                }\n",
       "            }, 500);\n",
       "            "
      ],
      "text/plain": [
       "<IPython.core.display.Javascript object>"
      ]
     },
     "metadata": {},
     "output_type": "display_data"
    }
   ],
   "source": [
    "explain_plot(global_explain, all_cols)"
   ]
  },
  {
   "cell_type": "code",
   "execution_count": 45,
   "metadata": {
    "ExecuteTime": {
     "end_time": "2020-09-22T06:52:20.684974Z",
     "start_time": "2020-09-22T06:52:20.660013Z"
    }
   },
   "outputs": [
    {
     "data": {
      "application/javascript": [
       "\n",
       "            setTimeout(function() {\n",
       "                var nbb_cell_id = 45;\n",
       "                var nbb_unformatted_code = \"global_explain = np.where(explanations_train < 0, explanations_train, 0).sum(axis=0)\\nglobal_explain = global_explain / np.abs(global_explain).sum()\";\n",
       "                var nbb_formatted_code = \"global_explain = np.where(explanations_train < 0, explanations_train, 0).sum(axis=0)\\nglobal_explain = global_explain / np.abs(global_explain).sum()\";\n",
       "                var nbb_cells = Jupyter.notebook.get_cells();\n",
       "                for (var i = 0; i < nbb_cells.length; ++i) {\n",
       "                    if (nbb_cells[i].input_prompt_number == nbb_cell_id) {\n",
       "                        if (nbb_cells[i].get_text() == nbb_unformatted_code) {\n",
       "                             nbb_cells[i].set_text(nbb_formatted_code);\n",
       "                        }\n",
       "                        break;\n",
       "                    }\n",
       "                }\n",
       "            }, 500);\n",
       "            "
      ],
      "text/plain": [
       "<IPython.core.display.Javascript object>"
      ]
     },
     "metadata": {},
     "output_type": "display_data"
    }
   ],
   "source": [
    "global_explain = np.where(explanations_train < 0, explanations_train, 0).sum(axis=0)\n",
    "global_explain = global_explain / np.abs(global_explain).sum()"
   ]
  },
  {
   "cell_type": "code",
   "execution_count": 46,
   "metadata": {
    "ExecuteTime": {
     "end_time": "2020-09-22T06:52:20.813920Z",
     "start_time": "2020-09-22T06:52:20.685863Z"
    }
   },
   "outputs": [
    {
     "data": {
      "image/png": "[encoded data removed]",
      "text/plain": [
       "<Figure size 432x288 with 1 Axes>"
      ]
     },
     "metadata": {
      "needs_background": "light"
     },
     "output_type": "display_data"
    },
    {
     "data": {
      "application/javascript": [
       "\n",
       "            setTimeout(function() {\n",
       "                var nbb_cell_id = 46;\n",
       "                var nbb_unformatted_code = \"explain_plot(global_explain, all_cols)\";\n",
       "                var nbb_formatted_code = \"explain_plot(global_explain, all_cols)\";\n",
       "                var nbb_cells = Jupyter.notebook.get_cells();\n",
       "                for (var i = 0; i < nbb_cells.length; ++i) {\n",
       "                    if (nbb_cells[i].input_prompt_number == nbb_cell_id) {\n",
       "                        if (nbb_cells[i].get_text() == nbb_unformatted_code) {\n",
       "                             nbb_cells[i].set_text(nbb_formatted_code);\n",
       "                        }\n",
       "                        break;\n",
       "                    }\n",
       "                }\n",
       "            }, 500);\n",
       "            "
      ],
      "text/plain": [
       "<IPython.core.display.Javascript object>"
      ]
     },
     "metadata": {},
     "output_type": "display_data"
    }
   ],
   "source": [
    "explain_plot(global_explain, all_cols)"
   ]
  },
  {
   "cell_type": "markdown",
   "metadata": {},
   "source": [
    "## Explain local"
   ]
  },
  {
   "cell_type": "code",
   "execution_count": 47,
   "metadata": {
    "ExecuteTime": {
     "end_time": "2020-09-22T06:52:23.056434Z",
     "start_time": "2020-09-22T06:52:20.815180Z"
    }
   },
   "outputs": [
    {
     "data": {
      "image/png": "[encoded data removed]",
      "text/plain": [
       "<Figure size 432x288 with 1 Axes>"
      ]
     },
     "metadata": {
      "needs_background": "light"
     },
     "output_type": "display_data"
    },
    {
     "name": "stdout",
     "output_type": "stream",
     "text": [
      "0.3913578689098358\n"
     ]
    },
    {
     "data": {
      "image/png": "[encoded data removed]",
      "text/plain": [
       "<Figure size 432x288 with 1 Axes>"
      ]
     },
     "metadata": {
      "needs_background": "light"
     },
     "output_type": "display_data"
    },
    {
     "name": "stdout",
     "output_type": "stream",
     "text": [
      "0.5635167956352234\n"
     ]
    },
    {
     "data": {
      "image/png": "[encoded data removed]",
      "text/plain": [
       "<Figure size 432x288 with 1 Axes>"
      ]
     },
     "metadata": {
      "needs_background": "light"
     },
     "output_type": "display_data"
    },
    {
     "name": "stdout",
     "output_type": "stream",
     "text": [
      "0.9901946187019348\n"
     ]
    },
    {
     "data": {
      "image/png": "[encoded data removed]",
      "text/plain": [
       "<Figure size 432x288 with 1 Axes>"
      ]
     },
     "metadata": {
      "needs_background": "light"
     },
     "output_type": "display_data"
    },
    {
     "name": "stdout",
     "output_type": "stream",
     "text": [
      "0.002290099859237671\n"
     ]
    },
    {
     "data": {
      "image/png": "[encoded data removed]",
      "text/plain": [
       "<Figure size 432x288 with 1 Axes>"
      ]
     },
     "metadata": {
      "needs_background": "light"
     },
     "output_type": "display_data"
    },
    {
     "name": "stdout",
     "output_type": "stream",
     "text": [
      "0.01108655333518982\n"
     ]
    },
    {
     "data": {
      "image/png": "[encoded data removed]",
      "text/plain": [
       "<Figure size 432x288 with 1 Axes>"
      ]
     },
     "metadata": {
      "needs_background": "light"
     },
     "output_type": "display_data"
    },
    {
     "name": "stdout",
     "output_type": "stream",
     "text": [
      "0.028252363204956055\n"
     ]
    },
    {
     "data": {
      "image/png": "[encoded data removed]",
      "text/plain": [
       "<Figure size 432x288 with 1 Axes>"
      ]
     },
     "metadata": {
      "needs_background": "light"
     },
     "output_type": "display_data"
    },
    {
     "name": "stdout",
     "output_type": "stream",
     "text": [
      "0.9975858330726624\n"
     ]
    },
    {
     "data": {
      "image/png": "[encoded data removed]",
      "text/plain": [
       "<Figure size 432x288 with 1 Axes>"
      ]
     },
     "metadata": {
      "needs_background": "light"
     },
     "output_type": "display_data"
    },
    {
     "name": "stdout",
     "output_type": "stream",
     "text": [
      "0.0072765350341796875\n"
     ]
    },
    {
     "data": {
      "image/png": "[encoded data removed]",
      "text/plain": [
       "<Figure size 432x288 with 1 Axes>"
      ]
     },
     "metadata": {
      "needs_background": "light"
     },
     "output_type": "display_data"
    },
    {
     "name": "stdout",
     "output_type": "stream",
     "text": [
      "0.1560693383216858\n"
     ]
    },
    {
     "data": {
      "image/png": "[encoded data removed]",
      "text/plain": [
       "<Figure size 432x288 with 1 Axes>"
      ]
     },
     "metadata": {
      "needs_background": "light"
     },
     "output_type": "display_data"
    },
    {
     "name": "stdout",
     "output_type": "stream",
     "text": [
      "0.9806685447692871\n"
     ]
    },
    {
     "data": {
      "image/png": "[encoded data removed]",
      "text/plain": [
       "<Figure size 432x288 with 1 Axes>"
      ]
     },
     "metadata": {
      "needs_background": "light"
     },
     "output_type": "display_data"
    },
    {
     "name": "stdout",
     "output_type": "stream",
     "text": [
      "0.8236063122749329\n"
     ]
    },
    {
     "data": {
      "image/png": "[encoded data removed]",
      "text/plain": [
       "<Figure size 432x288 with 1 Axes>"
      ]
     },
     "metadata": {
      "needs_background": "light"
     },
     "output_type": "display_data"
    },
    {
     "name": "stdout",
     "output_type": "stream",
     "text": [
      "0.016100972890853882\n"
     ]
    },
    {
     "data": {
      "image/png": "[encoded data removed]",
      "text/plain": [
       "<Figure size 432x288 with 1 Axes>"
      ]
     },
     "metadata": {
      "needs_background": "light"
     },
     "output_type": "display_data"
    },
    {
     "name": "stdout",
     "output_type": "stream",
     "text": [
      "0.4632692039012909\n"
     ]
    },
    {
     "data": {
      "image/png": "[encoded data removed]",
      "text/plain": [
       "<Figure size 432x288 with 1 Axes>"
      ]
     },
     "metadata": {
      "needs_background": "light"
     },
     "output_type": "display_data"
    },
    {
     "name": "stdout",
     "output_type": "stream",
     "text": [
      "0.9941678047180176\n"
     ]
    },
    {
     "data": {
      "image/png": "[encoded data removed]",
      "text/plain": [
       "<Figure size 432x288 with 1 Axes>"
      ]
     },
     "metadata": {
      "needs_background": "light"
     },
     "output_type": "display_data"
    },
    {
     "name": "stdout",
     "output_type": "stream",
     "text": [
      "0.9514577388763428\n"
     ]
    },
    {
     "data": {
      "image/png": "[encoded data removed]",
      "text/plain": [
       "<Figure size 432x288 with 1 Axes>"
      ]
     },
     "metadata": {
      "needs_background": "light"
     },
     "output_type": "display_data"
    },
    {
     "name": "stdout",
     "output_type": "stream",
     "text": [
      "0.0009600222110748291\n"
     ]
    },
    {
     "data": {
      "image/png": "[encoded data removed]",
      "text/plain": [
       "<Figure size 432x288 with 1 Axes>"
      ]
     },
     "metadata": {
      "needs_background": "light"
     },
     "output_type": "display_data"
    },
    {
     "name": "stdout",
     "output_type": "stream",
     "text": [
      "0.46169158816337585\n"
     ]
    },
    {
     "data": {
      "image/png": "[encoded data removed]",
      "text/plain": [
       "<Figure size 432x288 with 1 Axes>"
      ]
     },
     "metadata": {
      "needs_background": "light"
     },
     "output_type": "display_data"
    },
    {
     "name": "stdout",
     "output_type": "stream",
     "text": [
      "0.030339062213897705\n"
     ]
    },
    {
     "data": {
      "image/png": "[encoded data removed]",
      "text/plain": [
       "<Figure size 432x288 with 1 Axes>"
      ]
     },
     "metadata": {
      "needs_background": "light"
     },
     "output_type": "display_data"
    },
    {
     "name": "stdout",
     "output_type": "stream",
     "text": [
      "0.9599759578704834\n"
     ]
    },
    {
     "data": {
      "image/png": "[encoded data removed]",
      "text/plain": [
       "<Figure size 432x288 with 1 Axes>"
      ]
     },
     "metadata": {
      "needs_background": "light"
     },
     "output_type": "display_data"
    },
    {
     "name": "stdout",
     "output_type": "stream",
     "text": [
      "0.7548618316650391\n"
     ]
    },
    {
     "data": {
      "application/javascript": [
       "\n",
       "            setTimeout(function() {\n",
       "                var nbb_cell_id = 47;\n",
       "                var nbb_unformatted_code = \"for i in range(20):\\n    explain_plot(explanations[i], all_cols)\\n    print(probs[i].item())\";\n",
       "                var nbb_formatted_code = \"for i in range(20):\\n    explain_plot(explanations[i], all_cols)\\n    print(probs[i].item())\";\n",
       "                var nbb_cells = Jupyter.notebook.get_cells();\n",
       "                for (var i = 0; i < nbb_cells.length; ++i) {\n",
       "                    if (nbb_cells[i].input_prompt_number == nbb_cell_id) {\n",
       "                        if (nbb_cells[i].get_text() == nbb_unformatted_code) {\n",
       "                             nbb_cells[i].set_text(nbb_formatted_code);\n",
       "                        }\n",
       "                        break;\n",
       "                    }\n",
       "                }\n",
       "            }, 500);\n",
       "            "
      ],
      "text/plain": [
       "<IPython.core.display.Javascript object>"
      ]
     },
     "metadata": {},
     "output_type": "display_data"
    }
   ],
   "source": [
    "for i in range(20):\n",
    "    explain_plot(explanations[i], all_cols)\n",
    "    print(probs[i].item())"
   ]
  },
  {
   "cell_type": "code",
   "execution_count": 48,
   "metadata": {
    "ExecuteTime": {
     "end_time": "2020-09-22T06:52:23.080261Z",
     "start_time": "2020-09-22T06:52:23.057552Z"
    }
   },
   "outputs": [
    {
     "data": {
      "application/javascript": [
       "\n",
       "            setTimeout(function() {\n",
       "                var nbb_cell_id = 48;\n",
       "                var nbb_unformatted_code = \"from sklearn.metrics import confusion_matrix\";\n",
       "                var nbb_formatted_code = \"from sklearn.metrics import confusion_matrix\";\n",
       "                var nbb_cells = Jupyter.notebook.get_cells();\n",
       "                for (var i = 0; i < nbb_cells.length; ++i) {\n",
       "                    if (nbb_cells[i].input_prompt_number == nbb_cell_id) {\n",
       "                        if (nbb_cells[i].get_text() == nbb_unformatted_code) {\n",
       "                             nbb_cells[i].set_text(nbb_formatted_code);\n",
       "                        }\n",
       "                        break;\n",
       "                    }\n",
       "                }\n",
       "            }, 500);\n",
       "            "
      ],
      "text/plain": [
       "<IPython.core.display.Javascript object>"
      ]
     },
     "metadata": {},
     "output_type": "display_data"
    }
   ],
   "source": [
    "from sklearn.metrics import confusion_matrix"
   ]
  },
  {
   "cell_type": "code",
   "execution_count": 49,
   "metadata": {
    "ExecuteTime": {
     "end_time": "2020-09-22T06:52:23.105800Z",
     "start_time": "2020-09-22T06:52:23.081312Z"
    }
   },
   "outputs": [
    {
     "data": {
      "text/plain": [
       "(array([0, 1]), array([12434,  3846]))"
      ]
     },
     "execution_count": 49,
     "metadata": {},
     "output_type": "execute_result"
    },
    {
     "data": {
      "application/javascript": [
       "\n",
       "            setTimeout(function() {\n",
       "                var nbb_cell_id = 49;\n",
       "                var nbb_unformatted_code = \"np.unique(y_test, return_counts=True)\";\n",
       "                var nbb_formatted_code = \"np.unique(y_test, return_counts=True)\";\n",
       "                var nbb_cells = Jupyter.notebook.get_cells();\n",
       "                for (var i = 0; i < nbb_cells.length; ++i) {\n",
       "                    if (nbb_cells[i].input_prompt_number == nbb_cell_id) {\n",
       "                        if (nbb_cells[i].get_text() == nbb_unformatted_code) {\n",
       "                             nbb_cells[i].set_text(nbb_formatted_code);\n",
       "                        }\n",
       "                        break;\n",
       "                    }\n",
       "                }\n",
       "            }, 500);\n",
       "            "
      ],
      "text/plain": [
       "<IPython.core.display.Javascript object>"
      ]
     },
     "metadata": {},
     "output_type": "display_data"
    }
   ],
   "source": [
    "np.unique(y_test, return_counts=True)"
   ]
  },
  {
   "cell_type": "code",
   "execution_count": 50,
   "metadata": {
    "ExecuteTime": {
     "end_time": "2020-09-22T06:52:23.129955Z",
     "start_time": "2020-09-22T06:52:23.106842Z"
    }
   },
   "outputs": [
    {
     "data": {
      "text/plain": [
       "array([0, 1, 1, ..., 0, 0, 1])"
      ]
     },
     "execution_count": 50,
     "metadata": {},
     "output_type": "execute_result"
    },
    {
     "data": {
      "application/javascript": [
       "\n",
       "            setTimeout(function() {\n",
       "                var nbb_cell_id = 50;\n",
       "                var nbb_unformatted_code = \"y_test\";\n",
       "                var nbb_formatted_code = \"y_test\";\n",
       "                var nbb_cells = Jupyter.notebook.get_cells();\n",
       "                for (var i = 0; i < nbb_cells.length; ++i) {\n",
       "                    if (nbb_cells[i].input_prompt_number == nbb_cell_id) {\n",
       "                        if (nbb_cells[i].get_text() == nbb_unformatted_code) {\n",
       "                             nbb_cells[i].set_text(nbb_formatted_code);\n",
       "                        }\n",
       "                        break;\n",
       "                    }\n",
       "                }\n",
       "            }, 500);\n",
       "            "
      ],
      "text/plain": [
       "<IPython.core.display.Javascript object>"
      ]
     },
     "metadata": {},
     "output_type": "display_data"
    }
   ],
   "source": [
    "y_test"
   ]
  },
  {
   "cell_type": "code",
   "execution_count": 51,
   "metadata": {
    "ExecuteTime": {
     "end_time": "2020-09-22T06:52:23.154402Z",
     "start_time": "2020-09-22T06:52:23.131161Z"
    }
   },
   "outputs": [
    {
     "data": {
      "text/plain": [
       "array(['<=50K', '>50K'], dtype=object)"
      ]
     },
     "execution_count": 51,
     "metadata": {},
     "output_type": "execute_result"
    },
    {
     "data": {
      "application/javascript": [
       "\n",
       "            setTimeout(function() {\n",
       "                var nbb_cell_id = 51;\n",
       "                var nbb_unformatted_code = \"target_encoder.classes_\";\n",
       "                var nbb_formatted_code = \"target_encoder.classes_\";\n",
       "                var nbb_cells = Jupyter.notebook.get_cells();\n",
       "                for (var i = 0; i < nbb_cells.length; ++i) {\n",
       "                    if (nbb_cells[i].input_prompt_number == nbb_cell_id) {\n",
       "                        if (nbb_cells[i].get_text() == nbb_unformatted_code) {\n",
       "                             nbb_cells[i].set_text(nbb_formatted_code);\n",
       "                        }\n",
       "                        break;\n",
       "                    }\n",
       "                }\n",
       "            }, 500);\n",
       "            "
      ],
      "text/plain": [
       "<IPython.core.display.Javascript object>"
      ]
     },
     "metadata": {},
     "output_type": "display_data"
    }
   ],
   "source": [
    "target_encoder.classes_"
   ]
  },
  {
   "cell_type": "code",
   "execution_count": 52,
   "metadata": {
    "ExecuteTime": {
     "end_time": "2020-09-22T06:52:23.373971Z",
     "start_time": "2020-09-22T06:52:23.155637Z"
    }
   },
   "outputs": [
    {
     "data": {
      "text/plain": [
       "array([[10336,  2098],\n",
       "       [  573,  3273]])"
      ]
     },
     "execution_count": 52,
     "metadata": {},
     "output_type": "execute_result"
    },
    {
     "data": {
      "application/javascript": [
       "\n",
       "            setTimeout(function() {\n",
       "                var nbb_cell_id = 52;\n",
       "                var nbb_unformatted_code = \"confusion_matrix(\\n    y_true=y_test,\\n    y_pred=model.predict(input_test).reshape(-1) >= 0.5,\\n    # labels=target_encoder.classes_,\\n)\";\n",
       "                var nbb_formatted_code = \"confusion_matrix(\\n    y_true=y_test,\\n    y_pred=model.predict(input_test).reshape(-1) >= 0.5,\\n    # labels=target_encoder.classes_,\\n)\";\n",
       "                var nbb_cells = Jupyter.notebook.get_cells();\n",
       "                for (var i = 0; i < nbb_cells.length; ++i) {\n",
       "                    if (nbb_cells[i].input_prompt_number == nbb_cell_id) {\n",
       "                        if (nbb_cells[i].get_text() == nbb_unformatted_code) {\n",
       "                             nbb_cells[i].set_text(nbb_formatted_code);\n",
       "                        }\n",
       "                        break;\n",
       "                    }\n",
       "                }\n",
       "            }, 500);\n",
       "            "
      ],
      "text/plain": [
       "<IPython.core.display.Javascript object>"
      ]
     },
     "metadata": {},
     "output_type": "display_data"
    }
   ],
   "source": [
    "confusion_matrix(\n",
    "    y_true=y_test,\n",
    "    y_pred=model.predict(input_test).reshape(-1) >= 0.5,\n",
    "    # labels=target_encoder.classes_,\n",
    ")"
   ]
  }
 ],
 "metadata": {
  "kernelspec": {
   "display_name": "Python 3",
   "language": "python",
   "name": "python3"
  },
  "language_info": {
   "codemirror_mode": {
    "name": "ipython",
    "version": 3
   },
   "file_extension": ".py",
   "mimetype": "text/x-python",
   "name": "python",
   "nbconvert_exporter": "python",
   "pygments_lexer": "ipython3",
   "version": "3.7.9"
  }
 },
 "nbformat": 4,
 "nbformat_minor": 4
}
