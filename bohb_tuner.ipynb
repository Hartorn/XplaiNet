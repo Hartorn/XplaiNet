{
 "cells": [
  {
   "cell_type": "code",
   "execution_count": null,
   "metadata": {
    "ExecuteTime": {
     "end_time": "2020-12-06T17:10:08.717838Z",
     "start_time": "2020-12-06T17:10:07.717546Z"
    }
   },
   "outputs": [],
   "source": [
    "!pip install requests black nb_black hpbandster > /dev/null\n",
    "%load_ext nb_black"
   ]
  },
  {
   "cell_type": "code",
   "execution_count": null,
   "metadata": {
    "ExecuteTime": {
     "end_time": "2020-12-06T17:10:11.053808Z",
     "start_time": "2020-12-06T17:10:08.719108Z"
    }
   },
   "outputs": [],
   "source": [
    "import os\n",
    "from pathlib import Path\n",
    "\n",
    "from requests import get\n",
    "import pandas as pd\n",
    "import numpy as np\n",
    "\n",
    "np.random.seed(0)\n",
    "\n",
    "from sklearn.preprocessing import LabelEncoder\n",
    "from sklearn.metrics import roc_auc_score\n",
    "\n",
    "import logging\n",
    "\n",
    "logging.basicConfig(level=logging.WARN)\n",
    "\n",
    "from sklearn.model_selection import StratifiedShuffleSplit\n",
    "from xplainet.random_utils import setup_seed, SEED"
   ]
  },
  {
   "cell_type": "code",
   "execution_count": null,
   "metadata": {
    "ExecuteTime": {
     "end_time": "2020-12-06T17:10:11.060410Z",
     "start_time": "2020-12-06T17:10:11.056938Z"
    }
   },
   "outputs": [],
   "source": [
    "setup_seed()"
   ]
  },
  {
   "cell_type": "code",
   "execution_count": null,
   "metadata": {
    "ExecuteTime": {
     "end_time": "2020-12-06T17:10:11.787355Z",
     "start_time": "2020-12-06T17:10:11.061442Z"
    }
   },
   "outputs": [],
   "source": [
    "from xplainet.input_utils import preproc_dataset\n",
    "from xplainet.model import build_model\n",
    "from xplainet.tuner.bohb_tuner import BOHBTuner\n",
    "from xplainet.tuner.xplainet_worker import XplaiNetWorker"
   ]
  },
  {
   "cell_type": "markdown",
   "metadata": {},
   "source": [
    "# Utilities"
   ]
  },
  {
   "cell_type": "code",
   "execution_count": null,
   "metadata": {
    "ExecuteTime": {
     "end_time": "2020-12-06T17:10:11.800448Z",
     "start_time": "2020-12-06T17:10:11.788262Z"
    }
   },
   "outputs": [],
   "source": [
    "def download(url, out, force=False, verify=True):\n",
    "    out.parent.mkdir(parents=True, exist_ok=True)\n",
    "    if force and out.exists():\n",
    "        print(f\"Removing file at {str(out)}\")\n",
    "        out.unlink()\n",
    "\n",
    "    if out.exists():\n",
    "        print(\"File already exists.\")\n",
    "        return\n",
    "    print(f\"Downloading {url} at {str(out)} ...\")\n",
    "    # open in binary mode\n",
    "    with out.open(mode=\"wb\") as file:\n",
    "        # get request\n",
    "        response = get(url, verify=verify)\n",
    "        for chunk in response.iter_content(100000):\n",
    "            # write to file\n",
    "            file.write(chunk)"
   ]
  },
  {
   "cell_type": "code",
   "execution_count": null,
   "metadata": {
    "ExecuteTime": {
     "end_time": "2020-12-06T17:10:11.815011Z",
     "start_time": "2020-12-06T17:10:11.801452Z"
    }
   },
   "outputs": [],
   "source": [
    "UNKNOWN_VALUE = [\"Unkn0wnV@lue\"]\n",
    "\n",
    "\n",
    "class SafeLabelEncoder(LabelEncoder):\n",
    "    \"\"\"\n",
    "    Safe label encoder, encoding every unknown value as Unkn0wnV@lue.\n",
    "    \"\"\"\n",
    "\n",
    "    def fit(self, y):\n",
    "        \"\"\"\n",
    "        Fit the label encoder, by casting the numpy array as a string, then adding the code for unknown.\n",
    "        \n",
    "        Parameters\n",
    "        ----------\n",
    "        y : numpy array\n",
    "            the values to fit\n",
    "        \n",
    "        Returns\n",
    "        -------\n",
    "        SafeLabelEncoder\n",
    "            itself, fitted\n",
    "        \"\"\"\n",
    "        return super().fit(np.concatenate((y.astype(\"str\"), UNKNOWN_VALUE)))\n",
    "\n",
    "    def fit_transform(self, y):\n",
    "        \"\"\"\n",
    "        Fit the encoder, then transform the input data and returns it.\n",
    "        \n",
    "        Parameters\n",
    "        ----------\n",
    "        y : numpy array\n",
    "            the values to fit\n",
    "        \n",
    "        Returns\n",
    "        -------\n",
    "        numpy array\n",
    "            the encoded data\n",
    "        \"\"\"\n",
    "        self.fit(y)\n",
    "        return super().transform(y)\n",
    "\n",
    "    def transform(self, y):\n",
    "        \"\"\"\n",
    "        Transform the input data and returns it.\n",
    "        \n",
    "        Parameters\n",
    "        ----------\n",
    "        y : numpy array\n",
    "            the values to fit\n",
    "        \n",
    "        Returns\n",
    "        -------\n",
    "        numpy array\n",
    "            the encoded data\n",
    "        \"\"\"\n",
    "        return super().transform(\n",
    "            np.where(\n",
    "                np.isin(y.astype(\"str\"), self.classes_), y.astype(\"str\"), UNKNOWN_VALUE\n",
    "            )\n",
    "        )\n",
    "\n"
   ]
  },
  {
   "cell_type": "markdown",
   "metadata": {},
   "source": [
    "# Download census-income dataset"
   ]
  },
  {
   "cell_type": "code",
   "execution_count": null,
   "metadata": {
    "ExecuteTime": {
     "end_time": "2020-12-06T17:10:11.825779Z",
     "start_time": "2020-12-06T17:10:11.816917Z"
    }
   },
   "outputs": [],
   "source": [
    "url = \"https://archive.ics.uci.edu/ml/machine-learning-databases/adult/adult.data\"\n",
    "url_test = \"https://archive.ics.uci.edu/ml/machine-learning-databases/adult/adult.test\"\n",
    "\n",
    "dataset_name = \"census-income\"\n",
    "out = Path(os.getcwd() + \"/data/\" + dataset_name + \".csv\")\n",
    "out_test = Path(os.getcwd() + \"/data/\" + dataset_name + \"_test.csv\")\n",
    "\n",
    "download(url, out, force=False)\n",
    "download(url_test, out_test, force=False)"
   ]
  },
  {
   "cell_type": "markdown",
   "metadata": {},
   "source": [
    "# Load data and split"
   ]
  },
  {
   "cell_type": "code",
   "execution_count": null,
   "metadata": {
    "ExecuteTime": {
     "end_time": "2020-12-06T17:10:11.833543Z",
     "start_time": "2020-12-06T17:10:11.827001Z"
    }
   },
   "outputs": [],
   "source": [
    "cols = [\n",
    "    \"age\",\n",
    "    \"workclass\",\n",
    "    \"fnlwgt\",\n",
    "    \"education\",\n",
    "    \"education-num\",\n",
    "    \"marital-status\",\n",
    "    \"occupation\",\n",
    "    \"relationship\",\n",
    "    \"race\",\n",
    "    \"sex\",\n",
    "    \"capital-gain\",\n",
    "    \"capital-loss\",\n",
    "    \"hours-per-week\",\n",
    "    \"native-country\",\n",
    "    \"target\",\n",
    "]"
   ]
  },
  {
   "cell_type": "code",
   "execution_count": null,
   "metadata": {
    "ExecuteTime": {
     "end_time": "2020-12-06T17:10:11.929138Z",
     "start_time": "2020-12-06T17:10:11.834394Z"
    }
   },
   "outputs": [],
   "source": [
    "train = pd.read_csv(out, names=cols)\n",
    "test = pd.read_csv(out_test, names=cols, skiprows=2)\n",
    "target = \"target\"\n",
    "\n",
    "train[target] = train[target].str.strip()\n",
    "# Test has . in label, let's clean it\n",
    "test[target] = test[target].str.strip().str.strip(\".\")"
   ]
  },
  {
   "cell_type": "code",
   "execution_count": null,
   "metadata": {
    "ExecuteTime": {
     "end_time": "2020-12-06T17:10:11.935842Z",
     "start_time": "2020-12-06T17:10:11.930066Z"
    }
   },
   "outputs": [],
   "source": [
    "used_columns = list(set(train.columns.tolist()) - set([target]) - set([\"Set\"]))\n",
    "used_columns"
   ]
  },
  {
   "cell_type": "code",
   "execution_count": null,
   "metadata": {
    "ExecuteTime": {
     "end_time": "2020-12-06T17:10:11.974241Z",
     "start_time": "2020-12-06T17:10:11.936748Z"
    }
   },
   "outputs": [],
   "source": [
    "if \"Set\" not in train.columns:\n",
    "    print(\"Building tailored column\")\n",
    "    train_index, valid_index = next(\n",
    "        StratifiedShuffleSplit(n_splits=1, test_size=0.1, random_state=SEED).split(\n",
    "            range(train[target].shape[0]), train[target].values\n",
    "        )\n",
    "    )\n",
    "    train[\"Set\"] = \"train\"\n",
    "    train[\"Set\"][valid_index] = \"valid\""
   ]
  },
  {
   "cell_type": "code",
   "execution_count": null,
   "metadata": {
    "ExecuteTime": {
     "end_time": "2020-12-06T17:10:11.988126Z",
     "start_time": "2020-12-06T17:10:11.975232Z"
    }
   },
   "outputs": [],
   "source": [
    "train_indices = train[train.Set == \"train\"].index\n",
    "valid_indices = train[train.Set == \"valid\"].index\n",
    "# test_indices = train[train.Set == \"test\"].index"
   ]
  },
  {
   "cell_type": "markdown",
   "metadata": {},
   "source": [
    "# Simple preprocessing"
   ]
  },
  {
   "cell_type": "code",
   "execution_count": null,
   "metadata": {
    "ExecuteTime": {
     "end_time": "2020-12-06T17:10:12.365514Z",
     "start_time": "2020-12-06T17:10:11.989126Z"
    }
   },
   "outputs": [],
   "source": [
    "input_train, params = preproc_dataset(train.loc[train_indices], target, [\"Set\"])\n",
    "params"
   ]
  },
  {
   "cell_type": "code",
   "execution_count": null,
   "metadata": {
    "ExecuteTime": {
     "end_time": "2020-12-06T17:10:12.505282Z",
     "start_time": "2020-12-06T17:10:12.366340Z"
    }
   },
   "outputs": [],
   "source": [
    "input_valid, _ = preproc_dataset(train.loc[valid_indices], target, [\"Set\"], params)\n",
    "input_test, _ = preproc_dataset(test, target, [\"Set\"], params)"
   ]
  },
  {
   "cell_type": "code",
   "execution_count": null,
   "metadata": {
    "ExecuteTime": {
     "end_time": "2020-12-06T17:10:12.509467Z",
     "start_time": "2020-12-06T17:10:12.506220Z"
    }
   },
   "outputs": [],
   "source": [
    "target_encoder = LabelEncoder()"
   ]
  },
  {
   "cell_type": "code",
   "execution_count": null,
   "metadata": {
    "ExecuteTime": {
     "end_time": "2020-12-06T17:10:12.525655Z",
     "start_time": "2020-12-06T17:10:12.510408Z"
    }
   },
   "outputs": [],
   "source": [
    "train[target] = target_encoder.fit_transform(train[target].values.reshape(-1))\n",
    "y_train = train[target].values[train_indices]\n",
    "y_valid = train[target].values[valid_indices]\n",
    "y_test = target_encoder.fit_transform(test[target].values)"
   ]
  },
  {
   "cell_type": "code",
   "execution_count": null,
   "metadata": {
    "ExecuteTime": {
     "end_time": "2020-12-06T17:10:12.542945Z",
     "start_time": "2020-12-06T17:10:12.526620Z"
    }
   },
   "outputs": [],
   "source": [
    "params"
   ]
  },
  {
   "cell_type": "markdown",
   "metadata": {},
   "source": [
    "# BOHB"
   ]
  },
  {
   "cell_type": "markdown",
   "metadata": {},
   "source": [
    "## XGB Worker"
   ]
  },
  {
   "cell_type": "code",
   "execution_count": null,
   "metadata": {
    "ExecuteTime": {
     "end_time": "2020-12-06T17:10:12.546952Z",
     "start_time": "2020-12-06T17:10:12.543930Z"
    }
   },
   "outputs": [],
   "source": [
    "tuner = BOHBTuner(XplaiNetWorker)"
   ]
  },
  {
   "cell_type": "code",
   "execution_count": null,
   "metadata": {
    "ExecuteTime": {
     "end_time": "2020-12-06T17:10:12.555037Z",
     "start_time": "2020-12-06T17:10:12.547907Z"
    }
   },
   "outputs": [],
   "source": [
    "min_budget = 10\n",
    "max_budget = 50\n",
    "n_iter = 10"
   ]
  },
  {
   "cell_type": "code",
   "execution_count": null,
   "metadata": {
    "ExecuteTime": {
     "end_time": "2020-12-06T17:15:45.358069Z",
     "start_time": "2020-12-06T17:10:12.556012Z"
    }
   },
   "outputs": [],
   "source": [
    "%%time\n",
    "result = tuner.fit(\n",
    "    input_train, y_train, input_valid, y_valid, input_test, y_test, params=params, n_iter=n_iter, min_budget=min_budget, max_budget=max_budget\n",
    ")\n",
    "result"
   ]
  },
  {
   "cell_type": "code",
   "execution_count": null,
   "metadata": {
    "ExecuteTime": {
     "end_time": "2020-12-06T17:15:45.566787Z",
     "start_time": "2020-12-06T17:15:45.360297Z"
    }
   },
   "outputs": [],
   "source": [
    "%matplotlib inline\n",
    "tuner.describe_results()"
   ]
  },
  {
   "cell_type": "code",
   "execution_count": null,
   "metadata": {
    "ExecuteTime": {
     "end_time": "2020-12-06T17:15:45.567999Z",
     "start_time": "2020-12-06T17:10:07.743Z"
    }
   },
   "outputs": [],
   "source": [
    "result[\"best_params\"]"
   ]
  },
  {
   "cell_type": "code",
   "execution_count": null,
   "metadata": {
    "ExecuteTime": {
     "end_time": "2020-12-06T17:15:45.568662Z",
     "start_time": "2020-12-06T17:10:07.744Z"
    }
   },
   "outputs": [],
   "source": [
    "from xgboost import XGBClassifier\n",
    "\n",
    "clf = XGBClassifier(**result[\"best_params\"], n_estimators=10000)\n",
    "clf.fit(X_train, y_train, eval_set=[(X_valid, y_valid)], early_stopping_rounds=40)"
   ]
  },
  {
   "cell_type": "code",
   "execution_count": null,
   "metadata": {
    "ExecuteTime": {
     "end_time": "2020-12-06T17:15:45.569825Z",
     "start_time": "2020-12-06T17:10:07.744Z"
    }
   },
   "outputs": [],
   "source": [
    "roc_auc_score(y_score=clf.predict_proba(X_train)[:, 1], y_true=y_train)"
   ]
  },
  {
   "cell_type": "code",
   "execution_count": null,
   "metadata": {
    "ExecuteTime": {
     "end_time": "2020-12-06T17:15:45.570903Z",
     "start_time": "2020-12-06T17:10:07.745Z"
    }
   },
   "outputs": [],
   "source": [
    "roc_auc_score(y_score=clf.predict_proba(X_valid)[:, 1], y_true=y_valid)"
   ]
  },
  {
   "cell_type": "code",
   "execution_count": null,
   "metadata": {
    "ExecuteTime": {
     "end_time": "2020-12-06T17:15:45.572055Z",
     "start_time": "2020-12-06T17:10:07.746Z"
    }
   },
   "outputs": [],
   "source": [
    "roc_auc_score(y_score=clf.predict_proba(X_test)[:, 1], y_true=y_test)"
   ]
  }
 ],
 "metadata": {
  "kernelspec": {
   "display_name": "Python 3",
   "language": "python",
   "name": "python3"
  },
  "language_info": {
   "codemirror_mode": {
    "name": "ipython",
    "version": 3
   },
   "file_extension": ".py",
   "mimetype": "text/x-python",
   "name": "python",
   "nbconvert_exporter": "python",
   "pygments_lexer": "ipython3",
   "version": "3.7.9"
  }
 },
 "nbformat": 4,
 "nbformat_minor": 2
}
